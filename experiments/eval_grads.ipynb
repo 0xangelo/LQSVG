{
 "cells": [
  {
   "cell_type": "markdown",
   "id": "alone-knight",
   "metadata": {},
   "source": [
    "# Test loading up checkpoint"
   ]
  },
  {
   "cell_type": "markdown",
   "id": "banner-scene",
   "metadata": {},
   "source": [
    "### Imports"
   ]
  },
  {
   "cell_type": "code",
   "execution_count": 1,
   "id": "furnished-poetry",
   "metadata": {},
   "outputs": [],
   "source": [
    "from __future__ import annotations\n",
    "\n",
    "import os.path as osp\n",
    "import torch\n",
    "import torch.nn as nn\n",
    "import wandb\n",
    "from tqdm.auto import trange\n",
    "\n",
    "import lqsvg.experiment.utils as utils\n",
    "from lqsvg.envs import lqr\n",
    "from lqsvg.experiment.policy import make_worker\n",
    "from lqsvg.experiment.models import MonteCarloSVG\n",
    "from lqsvg.experiment.models import AnalyticSVG"
   ]
  },
  {
   "cell_type": "code",
   "execution_count": 2,
   "id": "royal-princeton",
   "metadata": {},
   "outputs": [
    {
     "name": "stderr",
     "output_type": "stream",
     "text": [
      "\u001b[34m\u001b[1mwandb\u001b[0m: Currently logged in as: \u001b[33mangelovtt\u001b[0m (use `wandb login --relogin` to force relogin)\n"
     ]
    },
    {
     "data": {
      "text/html": [
       "\n",
       "                Tracking run with wandb version 0.10.22<br/>\n",
       "                Syncing run <strong style=\"color:#cdcd00\">Eval Grads</strong> to <a href=\"https://wandb.ai\" target=\"_blank\">Weights & Biases</a> <a href=\"https://docs.wandb.com/integrations/jupyter.html\" target=\"_blank\">(Documentation)</a>.<br/>\n",
       "                Project page: <a href=\"https://wandb.ai/angelovtt/LQG-SVG\" target=\"_blank\">https://wandb.ai/angelovtt/LQG-SVG</a><br/>\n",
       "                Run page: <a href=\"https://wandb.ai/angelovtt/LQG-SVG/runs/30gszn5b\" target=\"_blank\">https://wandb.ai/angelovtt/LQG-SVG/runs/30gszn5b</a><br/>\n",
       "                Run data is saved locally in <code>/Users/angelolovatto/Repositories/personal/LQG-SVG/experiments/wandb/run-20210319_115805-30gszn5b</code><br/><br/>\n",
       "            "
      ],
      "text/plain": [
       "<IPython.core.display.HTML object>"
      ]
     },
     "metadata": {},
     "output_type": "display_data"
    }
   ],
   "source": [
    "CONFIG = dict(n_state=8, n_ctrl=8, horizon=1000, svg_samples=10, monte_carlo_svg=32, iterations=200)\n",
    "\n",
    "run = wandb.init(\n",
    "    job_type=\"eval\",\n",
    "    config=CONFIG,\n",
    "    project=\"LQG-SVG\",\n",
    "    entity=\"angelovtt\",\n",
    "    reinit=False,\n",
    "    tags=[\"eval\", utils.calver()],\n",
    "    name=\"Eval Grads\",\n",
    "    mode=\"online\",\n",
    "    allow_val_change=False,\n",
    "    save_code=True,\n",
    ")\n",
    "hparams = run.config\n",
    "artifact = run.use_artifact(f\"angelovtt/LQG-SVG/svg_inf-lqg{hparams.n_state}.{hparams.n_ctrl}.{hparams.horizon}:latest\", type=\"model\")\n",
    "artifact_dir = artifact.download()"
   ]
  },
  {
   "cell_type": "code",
   "execution_count": 3,
   "id": "governing-limit",
   "metadata": {},
   "outputs": [
    {
     "name": "stdout",
     "output_type": "stream",
     "text": [
      "Artifact dir: ./artifacts/svg_inf-lqg8.8.1000:v6\n"
     ]
    },
    {
     "name": "stderr",
     "output_type": "stream",
     "text": [
      "/Users/angelolovatto/Library/Caches/pypoetry/virtualenvs/lqsvg-kEsPsxvA-py3.8/lib/python3.8/site-packages/torch/tensor.py:758: UserWarning: Named tensors and all their associated APIs are an experimental feature and subject to change. Please do not use them for anything important until they are released as stable. (Triggered internally at  ../c10/core/TensorImpl.h:930.)\n",
      "  return super(Tensor, self).refine_names(names)\n"
     ]
    }
   ],
   "source": [
    "print(\"Artifact dir:\", artifact_dir)\n",
    "worker = make_worker(dict(n_state=hparams.n_state, n_ctrl=hparams.n_ctrl, horizon=hparams.horizon, num_envs=1))\n",
    "key_mismatch = worker.env.module.load_state_dict(torch.load(osp.join(artifact_dir, \"mdp.pt\")))\n",
    "assert not any(key_mismatch), key_mismatch"
   ]
  },
  {
   "cell_type": "code",
   "execution_count": 4,
   "id": "subsequent-advance",
   "metadata": {},
   "outputs": [],
   "source": [
    "mdp = worker.env.module\n",
    "module = worker.get_policy().module"
   ]
  },
  {
   "cell_type": "code",
   "execution_count": 5,
   "id": "continuous-seeking",
   "metadata": {},
   "outputs": [],
   "source": [
    "def restore_iteration(module: nn.Module, iteration: int):\n",
    "    mismatch = module.load_state_dict(torch.load(osp.join(artifact_dir, f\"module-iter={iteration}.pt\")))\n",
    "    assert not any(mismatch), mismatch"
   ]
  },
  {
   "cell_type": "code",
   "execution_count": 6,
   "id": "cultural-proposal",
   "metadata": {},
   "outputs": [],
   "source": [
    "def generate_svg_samples() -> list[lqr.Linear]:\n",
    "    svg_estimator = MonteCarloSVG(module.actor, module.model)\n",
    "    return [svg_estimator(hparams.monte_carlo_svg)[1] for _ in range(hparams.svg_samples)]"
   ]
  },
  {
   "cell_type": "code",
   "execution_count": 7,
   "id": "contained-tower",
   "metadata": {},
   "outputs": [],
   "source": [
    "def log_gradient_error(svg_samples: list[lqr.Linear]):\n",
    "    solver = AnalyticSVG(module.actor, mdp)\n",
    "    true_value, true_svg = solver()\n",
    "\n",
    "    cossims = [utils.linear_feedback_cossim(g, true_svg) for g in svg_samples]\n",
    "    run.log({\"cossim with true grad\": torch.stack(cossims).mean().item()}, commit=False)"
   ]
  },
  {
   "cell_type": "code",
   "execution_count": 8,
   "id": "stretch-courtesy",
   "metadata": {},
   "outputs": [],
   "source": [
    "def log_empirical_variance(svg_samples: list[lqr.Linear]):\n",
    "    cossims = []\n",
    "    for i, gi in enumerate(svg_samples):\n",
    "        for gj in svg_samples[i+1:]:\n",
    "            cossims += [utils.linear_feedback_cossim(gi, gj)]\n",
    "            \n",
    "    run.log({\"avg. pairwise cossim\": torch.stack(cossims).mean().item()}, commit=False)"
   ]
  },
  {
   "cell_type": "code",
   "execution_count": 9,
   "id": "challenging-plant",
   "metadata": {},
   "outputs": [],
   "source": [
    "def log_iteration(iteration: int):\n",
    "    restore_iteration(module, iteration)\n",
    "    svg_samples = generate_svg_samples()\n",
    "    log_gradient_error(svg_samples)\n",
    "    log_empirical_variance(svg_samples)\n",
    "    run.log({\"iteration\": iteration})"
   ]
  },
  {
   "cell_type": "code",
   "execution_count": 10,
   "id": "bronze-istanbul",
   "metadata": {},
   "outputs": [
    {
     "data": {
      "application/vnd.jupyter.widget-view+json": {
       "model_id": "dc00b0ffbcc64bfdb1dfa4dd315310f8",
       "version_major": 2,
       "version_minor": 0
      },
      "text/plain": [
       "Evaluating:   0%|          | 0/21 [00:00<?, ?ckpt/s]"
      ]
     },
     "metadata": {},
     "output_type": "display_data"
    },
    {
     "data": {
      "text/html": [
       "<br/>Waiting for W&B process to finish, PID 6026<br/>Program ended successfully."
      ],
      "text/plain": [
       "<IPython.core.display.HTML object>"
      ]
     },
     "metadata": {},
     "output_type": "display_data"
    },
    {
     "data": {
      "application/vnd.jupyter.widget-view+json": {
       "model_id": "",
       "version_major": 2,
       "version_minor": 0
      },
      "text/plain": [
       "VBox(children=(Label(value=' 0.32MB of 0.32MB uploaded (0.00MB deduped)\\r'), FloatProgress(value=1.0, max=1.0)…"
      ]
     },
     "metadata": {},
     "output_type": "display_data"
    },
    {
     "data": {
      "text/html": [
       "Find user logs for this run at: <code>/Users/angelolovatto/Repositories/personal/LQG-SVG/experiments/wandb/run-20210319_115805-30gszn5b/logs/debug.log</code>"
      ],
      "text/plain": [
       "<IPython.core.display.HTML object>"
      ]
     },
     "metadata": {},
     "output_type": "display_data"
    },
    {
     "data": {
      "text/html": [
       "Find internal logs for this run at: <code>/Users/angelolovatto/Repositories/personal/LQG-SVG/experiments/wandb/run-20210319_115805-30gszn5b/logs/debug-internal.log</code>"
      ],
      "text/plain": [
       "<IPython.core.display.HTML object>"
      ]
     },
     "metadata": {},
     "output_type": "display_data"
    },
    {
     "data": {
      "text/html": [
       "<h3>Run summary:</h3><br/><style>\n",
       "    table.wandb td:nth-child(1) { padding: 0 10px; text-align: right }\n",
       "    </style><table class=\"wandb\">\n",
       "<tr><td>cossim with true grad</td><td>-0.05521</td></tr><tr><td>avg. pairwise cossim</td><td>0.59789</td></tr><tr><td>iteration</td><td>200</td></tr><tr><td>_runtime</td><td>987</td></tr><tr><td>_timestamp</td><td>1616166872</td></tr><tr><td>_step</td><td>20</td></tr></table>"
      ],
      "text/plain": [
       "<IPython.core.display.HTML object>"
      ]
     },
     "metadata": {},
     "output_type": "display_data"
    },
    {
     "data": {
      "text/html": [
       "<h3>Run history:</h3><br/><style>\n",
       "    table.wandb td:nth-child(1) { padding: 0 10px; text-align: right }\n",
       "    </style><table class=\"wandb\">\n",
       "<tr><td>cossim with true grad</td><td>▂█▇▆▅▄▃▃▃▂▂▂▂▂▁▁▁▁▁▁▁</td></tr><tr><td>avg. pairwise cossim</td><td>▇█▇▇▆▅▅▅▄▄▄▃▃▃▃▂▂▁▁▁▁</td></tr><tr><td>iteration</td><td>▁▁▂▂▂▃▃▃▄▄▅▅▅▆▆▆▇▇▇██</td></tr><tr><td>_runtime</td><td>▁▁▂▂▂▃▃▄▄▄▅▅▅▆▆▆▇▇▇██</td></tr><tr><td>_timestamp</td><td>▁▁▂▂▂▃▃▄▄▄▅▅▅▆▆▆▇▇▇██</td></tr><tr><td>_step</td><td>▁▁▂▂▂▃▃▃▄▄▅▅▅▆▆▆▇▇▇██</td></tr></table><br/>"
      ],
      "text/plain": [
       "<IPython.core.display.HTML object>"
      ]
     },
     "metadata": {},
     "output_type": "display_data"
    },
    {
     "data": {
      "text/html": [
       "Synced 6 W&B file(s), 0 media file(s), 0 artifact file(s) and 1 other file(s)"
      ],
      "text/plain": [
       "<IPython.core.display.HTML object>"
      ]
     },
     "metadata": {},
     "output_type": "display_data"
    },
    {
     "data": {
      "text/html": [
       "\n",
       "                    <br/>Synced <strong style=\"color:#cdcd00\">Eval Grads</strong>: <a href=\"https://wandb.ai/angelovtt/LQG-SVG/runs/30gszn5b\" target=\"_blank\">https://wandb.ai/angelovtt/LQG-SVG/runs/30gszn5b</a><br/>\n",
       "                "
      ],
      "text/plain": [
       "<IPython.core.display.HTML object>"
      ]
     },
     "metadata": {},
     "output_type": "display_data"
    }
   ],
   "source": [
    "for iteration in trange(0, hparams.iterations + 1, 10, desc=\"Evaluating\", unit=\"ckpt\"):\n",
    "    log_iteration(iteration)\n",
    "    \n",
    "run.finish()"
   ]
  }
 ],
 "metadata": {
  "kernelspec": {
   "display_name": "Python 3",
   "language": "python",
   "name": "python3"
  },
  "language_info": {
   "codemirror_mode": {
    "name": "ipython",
    "version": 3
   },
   "file_extension": ".py",
   "mimetype": "text/x-python",
   "name": "python",
   "nbconvert_exporter": "python",
   "pygments_lexer": "ipython3",
   "version": "3.8.2"
  }
 },
 "nbformat": 4,
 "nbformat_minor": 5
}
