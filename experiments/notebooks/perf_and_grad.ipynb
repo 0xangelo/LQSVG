{
 "cells": [
  {
   "cell_type": "markdown",
   "id": "coordinated-ferry",
   "metadata": {},
   "source": [
    "# Ground-truth performance and gradient norms\n",
    "\n",
    "This notebook inspects the initialization schemes for LQGs and time-varying linear policies described in section 5.1 of the [paper](https://www.overleaf.com/read/cmbgmxxpxqzr).\n",
    "\n",
    "### Checklist\n",
    "\n",
    "- [x] Fix `n_state`, `n_ctrl`, `horizon`\n",
    "- [x] Sample random LQGs\n",
    "- [x] Sample random policies\n",
    "- [x] Evaluate the expected return\n",
    "- [x] Evaluate the value gradient norm\n",
    "- [ ] Search numpy, scipy for methods for visualizing the distributions"
   ]
  },
  {
   "cell_type": "markdown",
   "id": "exclusive-taste",
   "metadata": {},
   "source": [
    "---\n",
    "## Linear Quadratic Gaussian (LQG) Problems\n",
    "In what follows we consider MDPs with:\n",
    "1. continuous state space $\\mathbf{s} \\in \\mathcal{S} = \\mathbb{R}^n$\n",
    "2. continuous action space $\\mathbf{a} \\in \\mathcal{A} = \\mathbb{R}^d$\n",
    "3. finite time horizon $N \\in \\mathbb{N}$ and timesteps $t \\in \\mathcal{T} = \\{0, \\dots, N - 1\\}$\n",
    "4. time-varying linear Gaussian dynamics \n",
    "    $$\n",
    "    \\mathbf{s}_{t+1} \\sim p(\\cdot| \\mathbf{s}_t, \\mathbf{a}_t) = \\mathcal{N}\\left( \\cdot ~\\middle|~ \\mathbf{F}_t \\begin{bmatrix}\\mathbf{s}_t \\\\ \\mathbf{a}_t\\end{bmatrix} + \\mathbf{f}_t, \\mathbf{\\Sigma}_{t} \\right)\n",
    "    $$\n",
    "5. time-varying quadratic costs \n",
    "    $$\n",
    "    r_{t+1} = R(\\mathbf{s}_t, \\mathbf{a}_t) = - \\tfrac{1}{2} \\begin{bmatrix}\\mathbf{s}_t \\\\ \\mathbf{a}_t\\end{bmatrix}^\\intercal \\mathbf{C}_t \\begin{bmatrix}\\mathbf{s}_t \\\\ \\mathbf{a}_t\\end{bmatrix} - \\mathbf{c}_t^\\intercal \\begin{bmatrix}\\mathbf{s}_t \\\\ \\mathbf{a}_t\\end{bmatrix}\n",
    "    $$\n",
    "6. Gaussian-distributed initial state \n",
    "    $$\n",
    "    \\mathbf{s}_0 \\sim \\rho = \\mathcal{N}(\\mathbf{\\mu}_\\rho, \\mathbf{\\Sigma}_\\rho)\n",
    "    $$"
   ]
  },
  {
   "cell_type": "markdown",
   "id": "floating-thread",
   "metadata": {},
   "source": [
    "### Imports"
   ]
  },
  {
   "cell_type": "code",
   "execution_count": 1,
   "id": "administrative-classics",
   "metadata": {},
   "outputs": [],
   "source": [
    "%matplotlib inline\n",
    "import warnings\n",
    "from __future__ import annotations\n",
    "from typing import Optional\n",
    "\n",
    "import numpy as np\n",
    "import matplotlib.pyplot as plt\n",
    "import seaborn as sns\n",
    "import torch\n",
    "import torch.nn as nn\n",
    "import lqsvg.torch.named as nt\n",
    "from lqsvg.envs import lqr\n",
    "from lqsvg.envs.lqr.generators import make_lqg\n",
    "from matplotlib import cm\n",
    "from mpl_toolkits.mplot3d import Axes3D\n",
    "from torch import Tensor\n",
    "from tqdm.notebook import tqdm"
   ]
  },
  {
   "cell_type": "code",
   "execution_count": 2,
   "id": "million-massage",
   "metadata": {},
   "outputs": [],
   "source": [
    "n_state = 2\n",
    "n_ctrl = 2\n",
    "horizon = 100"
   ]
  },
  {
   "cell_type": "markdown",
   "id": "creative-elite",
   "metadata": {},
   "source": [
    "## Task selection protocol\n",
    "\n",
    "$$\n",
    "    \\{ \\mathbf{F}_t, \\mathbf{f}_t, \\mathbf{\\Sigma}_t, \\mathbf{C}_t, \\mathbf{c}_t  \\}_{t\\in\\mathcal{T}} \\sim \\text{LQGDist}(\\texttt{n_state, n_ctrl, horizon}) \\\\\n",
    "    \\mathbf{\\mu}_\\rho = \\mathbf{0}, \\quad \\mathbf{\\Sigma}_{\\rho} = \\mathbf{I} \\\\\n",
    "    \\mathcal{M} = \\{ \\mathbf{F}_t, \\mathbf{f}_t, \\mathbf{\\Sigma}_t, \\mathbf{C}_t, \\mathbf{c}_t  \\}_{t\\in\\mathcal{T}} \\cup \\{ \\mathbf{\\mu}_\\rho, \\mathbf{\\Sigma}_\\rho \\}\n",
    "$$"
   ]
  },
  {
   "cell_type": "code",
   "execution_count": 6,
   "id": "homeless-grass",
   "metadata": {},
   "outputs": [],
   "source": [
    "def sample_lqg(n_state: int, n_ctrl: int, horizon: int, n_batch: Optional[int] = None) -> tuple[lqr.LinSDynamics, lqr.QuadCost, lqr.GaussInit]:\n",
    "    dynamics, cost = make_lqg(\n",
    "        state_size=n_state,\n",
    "        ctrl_size=n_ctrl,\n",
    "        horizon=horizon,\n",
    "        stationary=False,\n",
    "        n_batch=n_batch,\n",
    "        np_random=None,\n",
    "    )\n",
    "\n",
    "    mat_shape = (n_state, n_state)\n",
    "    vec_shape = (n_state,)\n",
    "    mat_names = (\"B \" if n_batch else \"\") + \"R C\"\n",
    "    vec_names = (\"B \" if n_batch else \"\") + \"R\"\n",
    "    batch_shape = (n_batch,) if n_batch else ()\n",
    "\n",
    "    init = lqr.GaussInit(\n",
    "        mu=torch.zeros(*(batch_shape + vec_shape)).refine_names(*vec_names.split()),\n",
    "        sig=torch.eye(n_state).expand(*(batch_shape + mat_shape)).refine_names(*mat_names.split())\n",
    "    )\n",
    "    return dynamics, cost, init"
   ]
  },
  {
   "cell_type": "code",
   "execution_count": 7,
   "id": "failing-disco",
   "metadata": {
    "jupyter": {
     "source_hidden": true
    }
   },
   "outputs": [],
   "source": [
    "def print_lqg(dynamics, cost, init):\n",
    "    print(f\"\"\"\n",
    "        dynamics:\n",
    "            F: {dynamics.F.shape}; {dynamics.F.names}\n",
    "            f: {dynamics.f.shape}; {dynamics.f.names}\n",
    "            Sig: {dynamics.W.shape}; {dynamics.W.names}\n",
    "        cost:\n",
    "            C: {cost.C.shape}; {cost.C.names}            \n",
    "            c: {cost.c.shape}; {cost.c.names}\n",
    "        init:\n",
    "            mu: {init.mu.shape}; {init.mu.names}            \n",
    "            sig: {init.sig.shape}; {init.sig.names}\n",
    "    \"\"\")\n",
    "\n",
    "def test_sample_lqg(n_batch=None):\n",
    "    with warnings.catch_warnings():\n",
    "        warnings.filterwarnings(\"ignore\", message=\".*Named tensors.*\", module=\"torch\")\n",
    "        dynamics, cost, init = sample_lqg(n_state, n_ctrl, horizon, n_batch=n_batch)\n",
    "    assert isinstance(dynamics, lqr.LinSDynamics)\n",
    "    assert isinstance(cost, lqr.QuadCost)\n",
    "    assert isinstance(init, lqr.GaussInit)\n",
    "    print_lqg(dynamics, cost, init)\n",
    "\n",
    "def test_batch_lqgs():\n",
    "    test_sample_lqg(n_batch=10)"
   ]
  },
  {
   "cell_type": "code",
   "execution_count": 8,
   "id": "stock-growing",
   "metadata": {},
   "outputs": [
    {
     "name": "stdout",
     "output_type": "stream",
     "text": [
      "\n",
      "        dynamics:\n",
      "            F: torch.Size([100, 2, 4]); ('H', 'R', 'C')\n",
      "            f: torch.Size([100, 2]); ('H', 'R')\n",
      "            Sig: torch.Size([100, 2, 2]); ('H', 'R', 'C')\n",
      "        cost:\n",
      "            C: torch.Size([100, 4, 4]); ('H', 'R', 'C')            \n",
      "            c: torch.Size([100, 4]); ('H', 'R')\n",
      "        init:\n",
      "            mu: torch.Size([2]); ('R',)            \n",
      "            sig: torch.Size([2, 2]); ('R', 'C')\n",
      "    \n"
     ]
    }
   ],
   "source": [
    "test_sample_lqg()"
   ]
  },
  {
   "cell_type": "code",
   "execution_count": 9,
   "id": "utility-sitting",
   "metadata": {},
   "outputs": [
    {
     "name": "stdout",
     "output_type": "stream",
     "text": [
      "\n",
      "        dynamics:\n",
      "            F: torch.Size([100, 10, 2, 4]); ('H', 'B', 'R', 'C')\n",
      "            f: torch.Size([100, 10, 2]); ('H', 'B', 'R')\n",
      "            Sig: torch.Size([100, 10, 2, 2]); ('H', 'B', 'R', 'C')\n",
      "        cost:\n",
      "            C: torch.Size([100, 10, 4, 4]); ('H', 'B', 'R', 'C')            \n",
      "            c: torch.Size([100, 10, 4]); ('H', 'B', 'R')\n",
      "        init:\n",
      "            mu: torch.Size([10, 2]); ('B', 'R')            \n",
      "            sig: torch.Size([10, 2, 2]); ('B', 'R', 'C')\n",
      "    \n"
     ]
    }
   ],
   "source": [
    "test_batch_lqgs()"
   ]
  },
  {
   "cell_type": "markdown",
   "id": "complete-charm",
   "metadata": {},
   "source": [
    "## Policy selection protocol\n",
    "\n",
    "$$\n",
    "    \\mu_\\theta(\\mathbf{s}) = \\mathbf{a} \\\\\n",
    "    \\mathcal{M} \\sim \\text{LQGDist}(\\texttt{n_state, n_ctrl, horizon}) \\\\\n",
    "    \\theta = \\{ \\mathbf{K}_t, \\mathbf{k}_t \\}_{t\\in\\mathcal{T}} \\sim \\text{PiDist}(\\mathcal{M})\n",
    "$$"
   ]
  },
  {
   "cell_type": "code",
   "execution_count": 8,
   "id": "progressive-force",
   "metadata": {
    "jupyter": {
     "source_hidden": true
    }
   },
   "outputs": [],
   "source": [
    "def dims_from_dynamics(dynamics: lqr.LinSDynamics) -> tuple[int, int, int]:\n",
    "    n_state = dynamics.F.size(\"R\")\n",
    "    n_ctrl = dynamics.F.size(\"C\") - n_state\n",
    "    horizon = dynamics.F.size(\"H\")\n",
    "    return n_state, n_ctrl, horizon"
   ]
  },
  {
   "cell_type": "code",
   "execution_count": 9,
   "id": "arbitrary-marks",
   "metadata": {
    "jupyter": {
     "source_hidden": true
    }
   },
   "outputs": [],
   "source": [
    "def solution(dynamics: lqr.LinSDynamics, cost: lqr.QuadCost) -> tuple[lqr.Linear, lqr.Quadratic, lqr.Quadratic]:\n",
    "    n_state, n_ctrl, horizon = dims_from_dynamics(dynamics)\n",
    "    solver = lqr.NamedLQGControl(n_state, n_ctrl, horizon)\n",
    "    pistar, qstar, vstar = solver(dynamics, cost)\n",
    "    return pistar, qstar, vstar"
   ]
  },
  {
   "cell_type": "code",
   "execution_count": 10,
   "id": "based-economics",
   "metadata": {
    "jupyter": {
     "source_hidden": true
    }
   },
   "outputs": [],
   "source": [
    "def optimal_policy(dynamics: lqr.LinSDynamics, cost: lqr.QuadCost) -> lqr.Linear:\n",
    "    pistar, _, _ = solution(dynamics, cost)\n",
    "    return pistar"
   ]
  },
  {
   "cell_type": "code",
   "execution_count": 11,
   "id": "average-clerk",
   "metadata": {},
   "outputs": [],
   "source": [
    "def sample_policy(dynamics: lqr.LinSDynamics, cost: lqr.QuadCost) -> lqr.Linear:\n",
    "    pistar = optimal_policy(dynamics, cost)\n",
    "    K, k = (g + torch.randn_like(g) / (n_state + n_ctrl) for g in pistar)\n",
    "    return (K, k)"
   ]
  },
  {
   "cell_type": "code",
   "execution_count": 12,
   "id": "still-richardson",
   "metadata": {
    "jupyter": {
     "source_hidden": true
    }
   },
   "outputs": [],
   "source": [
    "def print_policy(policy: lqr.Linear):\n",
    "    K, k = policy\n",
    "    print(f\"\"\"\n",
    "        K: {K.shape}; {K.names}\n",
    "        k: {k.shape}; {k.names}\n",
    "    \"\"\")\n",
    "    \n",
    "def test_optimal_policy():\n",
    "    dynamics, cost, _ = sample_lqg(n_state, n_ctrl, horizon)\n",
    "    print_policy(optimal_policy(dynamics, cost))\n",
    "\n",
    "def test_sample_policy():\n",
    "    dynamics, cost, _ = sample_lqg(n_state, n_ctrl, horizon)\n",
    "    print_policy(sample_policy(dynamics, cost))"
   ]
  },
  {
   "cell_type": "code",
   "execution_count": 13,
   "id": "mathematical-indiana",
   "metadata": {},
   "outputs": [
    {
     "name": "stdout",
     "output_type": "stream",
     "text": [
      "\n",
      "        K: torch.Size([100, 2, 2]); ('H', 'R', 'C')\n",
      "        k: torch.Size([100, 2]); ('H', 'R')\n",
      "    \n"
     ]
    }
   ],
   "source": [
    "test_optimal_policy()"
   ]
  },
  {
   "cell_type": "code",
   "execution_count": 14,
   "id": "bored-apparatus",
   "metadata": {},
   "outputs": [
    {
     "name": "stdout",
     "output_type": "stream",
     "text": [
      "\n",
      "        K: torch.Size([100, 2, 2]); ('H', 'R', 'C')\n",
      "        k: torch.Size([100, 2]); ('H', 'R')\n",
      "    \n"
     ]
    }
   ],
   "source": [
    "test_sample_policy()"
   ]
  },
  {
   "cell_type": "markdown",
   "id": "casual-michael",
   "metadata": {},
   "source": [
    "## Ground-truth policy performance\n",
    "\n",
    "<center><b>Sampling</b></center>\n",
    "$$\n",
    "    \\mathcal{M} \\sim \\text{LQGDist}(\\texttt{n_state, n_ctrl, horizon}) \\\\\n",
    "    \\theta = \\{ \\mathbf{K}_t, \\mathbf{k}_t \\}_{t\\in\\mathcal{T}} \\sim \\text{PiDist}(\\mathcal{M})\n",
    "$$\n",
    "<br>\n",
    "\n",
    "<center><b>Prediction</b></center>\n",
    "<!-- LQG prediction can be seen as a function mapping policy parameters (with the dynamics kept constant) to value function coefficients: -->\n",
    "$$\n",
    "\\left( \\mathbf{Q}, \\mathbf{q}, q, \\mathbf{V}, \\mathbf{v}, v \\right) = \\text{LQGPrediction}(\\theta) \\\\\n",
    "V^\\mu(\\mathbf{s}, t) = -\\tfrac12 \\mathbf{s}^\\intercal \\mathbf{V}_t(\\theta) \\mathbf{s} - \\mathbf{v}_t(\\theta)^\\intercal \\mathbf{s} - v_t(\\theta)\n",
    "$$\n",
    "<br>\n",
    "\n",
    "<center><b>Performance</b></center>\n",
    "<!-- We can then express policy performance as a direct function of policy parameters: -->\n",
    "$$\n",
    "\\begin{align}\n",
    "J(\\theta) \n",
    "    &= -\\mathbb{E}_{\\mathbf{s}\\sim\\rho} \\left[ \\tfrac12 \\mathbf{s}^\\intercal \\mathbf{V}_0(\\theta) \\mathbf{s} + \\mathbf{v}_0(\\theta)^\\intercal \\mathbf{s} + v_0(\\theta) \\right] \\\\\n",
    "    &= -\\text{Tr}(\\mathbf{V}_0(\\theta)\\mathbf{\\Sigma}_0) - \\mathbf{\\mu}_0^\\intercal \\mathbf{V}_0(\\theta) \\mathbf{\\mu}_0 - \\mathbf{v}_0(\\theta)^\\intercal \\mathbf{\\mu}_0 - v_0(\\theta)\n",
    "\\end{align}\n",
    "$$"
   ]
  },
  {
   "cell_type": "code",
   "execution_count": 15,
   "id": "balanced-candy",
   "metadata": {
    "jupyter": {
     "source_hidden": true
    }
   },
   "outputs": [],
   "source": [
    "class ExpectedValue(nn.Module):\n",
    "    def forward(self, init: lqr.GaussInit, vval: lqr.Quadratic) -> Tensor:\n",
    "        \"\"\"Expected cost given mean and covariance matrix of the initial state.\n",
    "\n",
    "        https://en.wikipedia.org/wiki/Quadratic_form_(statistics)#Expectation.\n",
    "        \"\"\"\n",
    "        V, v, c = vval\n",
    "        V = nt.matrix(V)\n",
    "        v = nt.vector_to_matrix(v)\n",
    "        c = nt.scalar_to_matrix(c)\n",
    "        mu = nt.vector_to_matrix(init.mu)\n",
    "        sig = nt.matrix(init.sig)\n",
    "\n",
    "        value = (\n",
    "            nt.scalar_to_matrix(nt.trace(sig @ V)) / 2\n",
    "            + nt.transpose(mu) @ V @ mu\n",
    "            + nt.transpose(v) @ mu\n",
    "            + c\n",
    "        )\n",
    "        return nt.matrix_to_scalar(value)\n",
    "\n",
    "\n",
    "class PolicyLoss(nn.Module):\n",
    "    def __init__(self, n_state: int, n_ctrl: int, horizon: int):\n",
    "        super().__init__()\n",
    "        self.predict = lqr.NamedLQGPrediction(n_state, n_ctrl, horizon)\n",
    "        self.expected = ExpectedValue()\n",
    "\n",
    "    def forward(\n",
    "        self,\n",
    "        policy: lqr.Linear,\n",
    "        dynamics: lqr.LinDynamics,\n",
    "        cost: lqr.QuadCost,\n",
    "        init: lqr.GaussInit,\n",
    "    ) -> Tensor:\n",
    "        _, vval = self.predict(policy, dynamics, cost)\n",
    "        vval = tuple(x.select(\"H\", 0) for x in vval)\n",
    "        cost = self.expected(init, vval)\n",
    "        return cost"
   ]
  },
  {
   "cell_type": "code",
   "execution_count": 16,
   "id": "suited-cambodia",
   "metadata": {
    "jupyter": {
     "source_hidden": true
    }
   },
   "outputs": [],
   "source": [
    "def policy_loss(policy: lqr.Linear, dynamics: lqr.LinSDynamics, cost: lqr.QuadCost, init: lqr.GaussInit) -> Tensor:\n",
    "    n_state, n_ctrl, horizon = dims_from_dynamics(dynamics)\n",
    "    loss_fn = PolicyLoss(n_state, n_ctrl, horizon)\n",
    "    loss = loss_fn(policy, dynamics, cost, init)\n",
    "    return loss"
   ]
  },
  {
   "cell_type": "code",
   "execution_count": 17,
   "id": "threatened-wallet",
   "metadata": {
    "jupyter": {
     "source_hidden": true
    }
   },
   "outputs": [],
   "source": [
    "def test_policy_loss():\n",
    "    dynamics, cost, init = sample_lqg(n_state, n_ctrl, horizon)\n",
    "    policy = sample_policy(dynamics, cost)\n",
    "    loss = policy_loss(policy, dynamics, cost, init)\n",
    "    print(f\"Loss: {loss} ({loss.dtype}); ExpectedReturn: {-loss} ({(-loss).dtype})\")"
   ]
  },
  {
   "cell_type": "code",
   "execution_count": 18,
   "id": "traditional-exercise",
   "metadata": {},
   "outputs": [
    {
     "name": "stdout",
     "output_type": "stream",
     "text": [
      "Loss: 293803.9375 (torch.float32); ExpectedReturn: -293803.9375 (torch.float32)\n"
     ]
    }
   ],
   "source": [
    "test_policy_loss()"
   ]
  },
  {
   "cell_type": "markdown",
   "id": "compliant-stranger",
   "metadata": {},
   "source": [
    "## Ground-truth value gradient norm\n",
    "\n",
    "1. **Sampling**$\\rightarrow \\mathcal{M}, \\theta$; \n",
    "2. **Prediction**$\\rightarrow \\left( \\mathbf{Q}, \\mathbf{q}, q, \\mathbf{V}, \\mathbf{v}, v \\right)$; \n",
    "3. **Performance**$\\rightarrow J(\\theta)$;\n",
    "4. **SVG norm**$\\rightarrow \\| \\nabla J(\\theta) \\|$."
   ]
  },
  {
   "cell_type": "code",
   "execution_count": 19,
   "id": "meaningful-wesley",
   "metadata": {
    "jupyter": {
     "source_hidden": true
    }
   },
   "outputs": [],
   "source": [
    "def test_random_policy_svg():\n",
    "    dynamics, cost, init = sample_lqg(n_state, n_ctrl, horizon)\n",
    "    policy = tuple(x.requires_grad_(True) for x in sample_policy(dynamics, cost))\n",
    "    eret = -policy_loss(policy, dynamics, cost, init)\n",
    "    print(f\"Expected return: {eret} ({eret.dtype})\")\n",
    "    eret.backward()\n",
    "    svg_norm = nn.utils.clip_grad_norm_(policy, max_norm=float(\"inf\"))\n",
    "    print(f\"SVG norm: {svg_norm} ({svg_norm.dtype})\")"
   ]
  },
  {
   "cell_type": "code",
   "execution_count": 20,
   "id": "convertible-listening",
   "metadata": {},
   "outputs": [
    {
     "name": "stdout",
     "output_type": "stream",
     "text": [
      "Expected return: -7724272128.0 (torch.float32)\n",
      "SVG norm: 321667792896.0 (torch.float32)\n"
     ]
    }
   ],
   "source": [
    "test_random_policy_svg()"
   ]
  },
  {
   "cell_type": "code",
   "execution_count": 21,
   "id": "alone-camcorder",
   "metadata": {
    "jupyter": {
     "source_hidden": true
    }
   },
   "outputs": [],
   "source": [
    "def test_optimal_policy_svg():\n",
    "    dynamics, cost, init = sample_lqg(n_state, n_ctrl, horizon)\n",
    "    pistar, _, vstar = solution(dynamics, cost)\n",
    "    loss_fn = ExpectedValue()\n",
    "    eret = -loss_fn(init, tuple(x.select(\"H\", 0) for x in vstar))\n",
    "    print(f\"Optimal expected return: {eret} ({eret.dtype})\")\n",
    "\n",
    "    policy = tuple(x.requires_grad_(True) for x in pistar)\n",
    "    eret = -policy_loss(policy, dynamics, cost, init)\n",
    "    print(f\"Expected return from Prediction algorithm: {eret} ({eret.dtype})\")\n",
    "    eret.backward()\n",
    "    svg_norm = nn.utils.clip_grad_norm_(policy, max_norm=float(\"inf\"))\n",
    "    print(f\"Optimal policy SVG norm: {svg_norm} ({svg_norm.dtype})\")"
   ]
  },
  {
   "cell_type": "code",
   "execution_count": 22,
   "id": "manufactured-render",
   "metadata": {},
   "outputs": [
    {
     "name": "stdout",
     "output_type": "stream",
     "text": [
      "Optimal expected return: -322.6817932128906 (torch.float32)\n",
      "Expected return from Prediction algorithm: -322.6817932128906 (torch.float32)\n",
      "Optimal policy SVG norm: 0.0014907742151990533 (torch.float32)\n"
     ]
    }
   ],
   "source": [
    "test_optimal_policy_svg()"
   ]
  },
  {
   "cell_type": "markdown",
   "id": "commercial-roads",
   "metadata": {},
   "source": [
    "---\n",
    "## Evaluate cost scaling against each variable\n",
    "\n",
    "### Checklist\n",
    "- [x] Stack several LQGs including init dists\n",
    "- [x] Define range of `n_state`s, `n_ctrl`s, and `horizon`s\n",
    "- [x] Fix initial values of `n_state=2`, `n_ctrl=2`, `horizon=100`\n",
    "- [x] Iterate over one of the ranges, e.g., `horizon`s:\n",
    "  - [x] Generate several LQGs with the current `n_state`, `n_ctrl`, `horizon` and stack them\n",
    "  - [x] Find the optimal solutions (policies) and evaluate the optimal expected returns\n",
    "  - [x] Average the results accross the LQGs generated\n",
    "  - [x] Plot the average against the current `n_state`, `n_ctrl`, `horizon`"
   ]
  },
  {
   "cell_type": "markdown",
   "id": "colonial-explosion",
   "metadata": {},
   "source": [
    "#### Calculating the optimal expected return for a batch of LQGs"
   ]
  },
  {
   "cell_type": "code",
   "execution_count": 23,
   "id": "upper-sunglasses",
   "metadata": {
    "jupyter": {
     "source_hidden": true
    }
   },
   "outputs": [],
   "source": [
    "def expected_return(init: lqr.GaussInit, vval: lqr.Quadratic) -> Tensor:\n",
    "    expected_value = ExpectedValue()\n",
    "    expected_cost = expected_value(init, tuple(x.select(\"H\", 0) for x in vval))\n",
    "    return -expected_cost"
   ]
  },
  {
   "cell_type": "code",
   "execution_count": 24,
   "id": "spare-process",
   "metadata": {
    "jupyter": {
     "source_hidden": true
    }
   },
   "outputs": [],
   "source": [
    "@torch.no_grad()\n",
    "def optimal_expected_return_samples(n_state: int, n_ctrl: int, horizon: int, samples: int = 100) -> np.ndarray:\n",
    "    dynamics, cost, init = sample_lqg(n_state, n_ctrl, horizon, n_batch=samples)\n",
    "    pistar, qstar, vstar = solution(dynamics, cost)\n",
    "    eret = expected_return(init, vstar)\n",
    "    return eret.numpy()"
   ]
  },
  {
   "cell_type": "code",
   "execution_count": 25,
   "id": "matched-slide",
   "metadata": {
    "jupyter": {
     "source_hidden": true
    }
   },
   "outputs": [],
   "source": [
    "def optimal_expected_return_matrix(\n",
    "    state_dim_arr: np.ndarray, ctrl_dim_arr: np.ndarray, horizon_arr: np.ndarray, samples: int = 100, clip_ctrl_dim: bool = True\n",
    ") -> np.ndarray:\n",
    "    exp_ret_arrs = []\n",
    "\n",
    "    pbar = tqdm(\n",
    "        zip(state_dim_arr, ctrl_dim_arr, horizon_arr), \n",
    "        total=len(ctrl_dim_arr), \n",
    "        desc=\"Computing optimal returns by LQG dims\"\n",
    "    )\n",
    "    for n_state, n_ctrl, horizon in pbar:\n",
    "        if clip_ctrl_dim and n_ctrl < n_state:\n",
    "            arr = np.full((samples,), fill_value=np.nan)\n",
    "        else:\n",
    "            arr = optimal_expected_return_samples(n_state, n_ctrl, horizon, samples=samples)\n",
    "        exp_ret_arrs += [arr]\n",
    "\n",
    "    exp_ret_mat = np.vstack(exp_ret_arrs)\n",
    "    return exp_ret_mat"
   ]
  },
  {
   "cell_type": "markdown",
   "id": "impressive-petersburg",
   "metadata": {},
   "source": [
    "#### Optimal expected return vs. state dimension"
   ]
  },
  {
   "cell_type": "code",
   "execution_count": 26,
   "id": "dated-essence",
   "metadata": {
    "jupyter": {
     "source_hidden": true
    }
   },
   "outputs": [
    {
     "data": {
      "application/vnd.jupyter.widget-view+json": {
       "model_id": "d7a3135f53ba402d9296520c64756b44",
       "version_major": 2,
       "version_minor": 0
      },
      "text/plain": [
       "Computing optimal returns by LQG dims:   0%|          | 0/10 [00:00<?, ?it/s]"
      ]
     },
     "metadata": {},
     "output_type": "display_data"
    },
    {
     "data": {
      "image/png": "[encoded data removed]",
      "text/plain": [
       "<Figure size 432x288 with 1 Axes>"
      ]
     },
     "metadata": {
      "needs_background": "light"
     },
     "output_type": "display_data"
    }
   ],
   "source": [
    "state_dims = np.arange(1, 11)\n",
    "ctrl_dims = np.full(10, 2, dtype=int)\n",
    "horizons = np.full(10, 100, dtype=int)\n",
    "opt_ret_means = optimal_expected_return_matrix(state_dims, ctrl_dims, horizons, clip_ctrl_dim=False).mean(-1)\n",
    "\n",
    "x = \"state dim\"; y = \"optimal return mean\"\n",
    "data={x: state_dims, y: opt_ret_means}\n",
    "ax = sns.lineplot(x=x, y=y, data=data)\n",
    "plt.show()"
   ]
  },
  {
   "cell_type": "markdown",
   "id": "solar-sound",
   "metadata": {},
   "source": [
    "#### Optimal expected return vs. control dimension"
   ]
  },
  {
   "cell_type": "code",
   "execution_count": 27,
   "id": "eastern-determination",
   "metadata": {
    "jupyter": {
     "source_hidden": true
    }
   },
   "outputs": [
    {
     "data": {
      "application/vnd.jupyter.widget-view+json": {
       "model_id": "764c902b862e4bc5b384335e0822a654",
       "version_major": 2,
       "version_minor": 0
      },
      "text/plain": [
       "Computing optimal returns by LQG dims:   0%|          | 0/10 [00:00<?, ?it/s]"
      ]
     },
     "metadata": {},
     "output_type": "display_data"
    },
    {
     "data": {
      "image/png": "[encoded data removed]",
      "text/plain": [
       "<Figure size 432x288 with 1 Axes>"
      ]
     },
     "metadata": {
      "needs_background": "light"
     },
     "output_type": "display_data"
    }
   ],
   "source": [
    "state_dims = np.full(10, 2, dtype=int)\n",
    "ctrl_dims = np.arange(1, 11)\n",
    "horizons = np.full(10, 100, dtype=int)\n",
    "opt_ret_means = optimal_expected_return_matrix(state_dims, ctrl_dims, horizons, clip_ctrl_dim=False).mean(-1)\n",
    "\n",
    "x = \"ctrl dim\"; y = \"optimal return mean\"\n",
    "data = {x: ctrl_dims, y: opt_ret_means}\n",
    "ax = sns.lineplot(x=x, y=y, data=data)\n",
    "plt.show()"
   ]
  },
  {
   "cell_type": "markdown",
   "id": "established-entertainment",
   "metadata": {},
   "source": [
    "#### Optimal expected return vs. horizon length"
   ]
  },
  {
   "cell_type": "code",
   "execution_count": 28,
   "id": "protected-georgia",
   "metadata": {
    "jupyter": {
     "source_hidden": true
    }
   },
   "outputs": [
    {
     "data": {
      "application/vnd.jupyter.widget-view+json": {
       "model_id": "dd322f5c350b4d0ea4600c8a90acc3a2",
       "version_major": 2,
       "version_minor": 0
      },
      "text/plain": [
       "Computing optimal returns by LQG dims:   0%|          | 0/10 [00:00<?, ?it/s]"
      ]
     },
     "metadata": {},
     "output_type": "display_data"
    },
    {
     "data": {
      "image/png": "[encoded data removed]",
      "text/plain": [
       "<Figure size 432x288 with 1 Axes>"
      ]
     },
     "metadata": {
      "needs_background": "light"
     },
     "output_type": "display_data"
    }
   ],
   "source": [
    "state_dims = np.full(10, 2, dtype=int)\n",
    "ctrl_dims = np.full(10, 2, dtype=int)\n",
    "horizons = 100 * np.arange(1, 11)\n",
    "opt_ret_means = optimal_expected_return_matrix(state_dims, ctrl_dims, horizons, clip_ctrl_dim=False).mean(-1)\n",
    "\n",
    "x = \"horizon\"; y = \"optimal return mean\"\n",
    "data = {x: horizons, y: opt_ret_means}\n",
    "ax = sns.lineplot(x=x, y=y, data=data)\n",
    "plt.show()"
   ]
  },
  {
   "cell_type": "markdown",
   "id": "together-tours",
   "metadata": {},
   "source": [
    "#### Optimal expected return vs. state & control dimension"
   ]
  },
  {
   "cell_type": "code",
   "execution_count": 30,
   "id": "brave-austria",
   "metadata": {
    "jupyter": {
     "source_hidden": true
    }
   },
   "outputs": [
    {
     "data": {
      "application/vnd.jupyter.widget-view+json": {
       "model_id": "c4e2c8b38f1647dd96b57dcf674b7d6c",
       "version_major": 2,
       "version_minor": 0
      },
      "text/plain": [
       "Computing optimal returns by LQG dims:   0%|          | 0/20 [00:00<?, ?it/s]"
      ]
     },
     "metadata": {},
     "output_type": "display_data"
    },
    {
     "data": {
      "image/png": "[encoded data removed]",
      "text/plain": [
       "<Figure size 432x288 with 1 Axes>"
      ]
     },
     "metadata": {
      "needs_background": "light"
     },
     "output_type": "display_data"
    }
   ],
   "source": [
    "state_dims = ctrl_dims = np.arange(1, 21)\n",
    "horizons = np.full(20, 100, dtype=int)\n",
    "opt_ret_means = optimal_expected_return_matrix(state_dims, ctrl_dims, horizons, clip_ctrl_dim=False).mean(-1)\n",
    "\n",
    "x = \"state & ctrl dim\"; y = \"optimal return mean\"\n",
    "data = {x: state_dims, y: opt_ret_means}\n",
    "ax = sns.lineplot(x=x, y=y, data=data)\n",
    "plt.show()"
   ]
  },
  {
   "cell_type": "markdown",
   "id": "australian-electricity",
   "metadata": {},
   "source": [
    "---\n",
    "## Multivariate analysis of cost scaling\n",
    "\n",
    "### Checklist\n",
    "- [x] Plot the average expected return against two variables, e.g., `n_state` and `n_ctrl`, as a 3D surface plot\n",
    "- [ ] Use the insights gained from observing the cost scaling to propose a _downscaling_ parameter for random QuadCosts\n",
    "- [ ] Use the analysis above to also derive a scale parameter for the random Gaussian noise for policy generation"
   ]
  },
  {
   "cell_type": "code",
   "execution_count": 31,
   "id": "formal-teacher",
   "metadata": {
    "jupyter": {
     "source_hidden": true
    }
   },
   "outputs": [],
   "source": [
    "def plot_3d_from_2d_function(ax, xrange: np.ndarray, yrange: np.ndarray, function: callable[[np.ndarray, np.ndarray], np.ndarray]):\n",
    "    length = len(xrange)\n",
    "    xbatch, ybatch = np.meshgrid(xrange, yrange)\n",
    "    assert xbatch.shape == ybatch.shape == (length, length)\n",
    "\n",
    "    x_arr, y_arr = map(lambda x: x.reshape((-1,)), (xbatch, ybatch))\n",
    "    assert x_arr.shape == y_arr.shape == (length ** 2,), f\"expected: {(length ** 2,)}; x_arr: {x_arr.shape}; y_arr {y_arr.shape}\"\n",
    "\n",
    "    z_arr = function(x_arr, y_arr)\n",
    "    assert z_arr.shape == x_arr.shape, f\"{z_arr.shape} != {x_arr.shape}\"\n",
    "    \n",
    "    zbatch = z_arr.reshape(xbatch.shape)\n",
    "    ax.plot_surface(xbatch, ybatch, zbatch, cmap=cm.coolwarm)    "
   ]
  },
  {
   "cell_type": "markdown",
   "id": "funky-basketball",
   "metadata": {},
   "source": [
    "### State vs. control dimension with fixed horizon\n",
    "\n",
    "In what follows we set the horizon length to 100 steps.\n",
    "\n",
    "<div class=\"alert alert-block alert-warning\">\n",
    "    <b>Note:</b> we only plot values when control dimensions are at least as large as state dimensions (<code>n_ctrl >= n_state</code>). Having a state dimension much bigger than the control dimension induces very high <b>optimal</b> costs, causing plots to be difficult to read and potential numerical precision errors.\n",
    "</div>\n",
    "\n",
    "#### Best expected return"
   ]
  },
  {
   "cell_type": "code",
   "execution_count": 33,
   "id": "split-throw",
   "metadata": {
    "jupyter": {
     "source_hidden": true
    }
   },
   "outputs": [],
   "source": [
    "def optimal_performances_by_state_ctrl_dim(state_dim_arr: np.ndarray, ctrl_dim_arr: np.ndarray, horizon: int) -> np.ndarray:\n",
    "    horizon_arr = np.full_like(state_dim_arr, fill_value=horizon)\n",
    "    exp_opt_ret_mat = optimal_expected_return_matrix(state_dim_arr, ctrl_dim_arr, horizon_arr, samples=100, clip_ctrl_dim=True)\n",
    "    return exp_opt_ret_mat"
   ]
  },
  {
   "cell_type": "code",
   "execution_count": 34,
   "id": "dangerous-champagne",
   "metadata": {
    "jupyter": {
     "source_hidden": true
    }
   },
   "outputs": [],
   "source": [
    "def average_optimal_performance_by_state_ctrl_dim(state_dim_arr: np.ndarray, ctrl_dim_arr: np.ndarray) -> np.ndarray:\n",
    "    z_arr = optimal_performances_by_state_ctrl_dim(state_dim_arr, ctrl_dim_arr, horizon=100).mean(axis=-1) \n",
    "    # Filtering NaNs\n",
    "    z_arr = np.nan_to_num(z_arr, nan=np.nanmin(z_arr))\n",
    "    return z_arr"
   ]
  },
  {
   "cell_type": "code",
   "execution_count": 35,
   "id": "textile-liabilities",
   "metadata": {
    "jupyter": {
     "source_hidden": true
    }
   },
   "outputs": [
    {
     "data": {
      "application/vnd.jupyter.widget-view+json": {
       "model_id": "0dc7639a6fb0474db43a0e7727c0db57",
       "version_major": 2,
       "version_minor": 0
      },
      "text/plain": [
       "Computing optimal returns by LQG dims:   0%|          | 0/400 [00:00<?, ?it/s]"
      ]
     },
     "metadata": {},
     "output_type": "display_data"
    },
    {
     "data": {
      "image/png": "[encoded data removed]",
      "text/plain": [
       "<Figure size 432x288 with 1 Axes>"
      ]
     },
     "metadata": {
      "needs_background": "light"
     },
     "output_type": "display_data"
    }
   ],
   "source": [
    "fig = plt.figure()\n",
    "ax = fig.add_subplot(projection=\"3d\")\n",
    "plot_3d_from_2d_function(\n",
    "    ax, \n",
    "    xrange=np.arange(1, 21),\n",
    "    yrange=np.arange(1, 21),\n",
    "    function=average_optimal_performance_by_state_ctrl_dim,\n",
    ")\n",
    "ax.set_xlabel(\"state dim\")\n",
    "ax.set_ylabel(\"ctrl dim\")\n",
    "ax.set_title(\"average best performance\")\n",
    "plt.show()"
   ]
  },
  {
   "cell_type": "markdown",
   "id": "quantitative-evolution",
   "metadata": {},
   "source": [
    "#### Expected return from random policy"
   ]
  },
  {
   "cell_type": "code",
   "execution_count": 36,
   "id": "noble-disclaimer",
   "metadata": {
    "jupyter": {
     "source_hidden": true
    }
   },
   "outputs": [],
   "source": [
    "def policy_performance(policy: lqr.Linear, dynamics: lqr.LinSDynamics, cost: lqr.QuadCost, init: lqr.GaussInit) -> Tensor:\n",
    "    return -policy_loss(policy, dynamics, cost, init)"
   ]
  },
  {
   "cell_type": "code",
   "execution_count": 37,
   "id": "administrative-prague",
   "metadata": {
    "jupyter": {
     "source_hidden": true
    }
   },
   "outputs": [],
   "source": [
    "@torch.no_grad()\n",
    "def random_performance_samples(n_state: int, n_ctrl: int, horizon: int, samples: int = 100) -> np.ndarray:\n",
    "    dynamics, cost, init = sample_lqg(n_state, n_ctrl, horizon, n_batch=samples)\n",
    "    policy = sample_policy(dynamics, cost)\n",
    "    eret = policy_performance(policy, dynamics, cost, init)\n",
    "    return eret.numpy()"
   ]
  },
  {
   "cell_type": "code",
   "execution_count": 38,
   "id": "medium-missile",
   "metadata": {
    "jupyter": {
     "source_hidden": true
    }
   },
   "outputs": [],
   "source": [
    "def random_performance_matrix(\n",
    "    state_dim_arr: np.ndarray, ctrl_dim_arr: np.ndarray, horizon_arr: np.ndarray, samples: int = 100, clip_ctrl_dim: bool = True\n",
    ") -> np.ndarray:\n",
    "    random_performance_arrs = []\n",
    "\n",
    "    pbar = tqdm(\n",
    "        zip(state_dim_arr, ctrl_dim_arr, horizon_arr), \n",
    "        total=len(ctrl_dim_arr), \n",
    "        desc=\"Computing random policy performance vs. LQG dims\"\n",
    "    )\n",
    "    for n_state, n_ctrl, horizon in pbar:\n",
    "        if clip_ctrl_dim and n_ctrl < n_state:\n",
    "            arr = np.full((samples,), fill_value=np.nan)\n",
    "        else:\n",
    "            arr = random_performance_samples(n_state, n_ctrl, horizon, samples=samples)\n",
    "        random_performance_arrs += [arr]\n",
    "\n",
    "    rand_perf_mat = np.vstack(random_performance_arrs)\n",
    "    return rand_perf_mat"
   ]
  },
  {
   "cell_type": "code",
   "execution_count": 39,
   "id": "documented-macintosh",
   "metadata": {
    "jupyter": {
     "source_hidden": true
    }
   },
   "outputs": [],
   "source": [
    "def random_performances_by_state_ctrl_dim(state_dim_arr: np.ndarray, ctrl_dim_arr: np.ndarray, horizon: int) -> np.ndarray:\n",
    "    horizon_arr = np.full_like(state_dim_arr, fill_value=horizon)\n",
    "    rand_perf_mat = random_performance_matrix(state_dim_arr, ctrl_dim_arr, horizon_arr, samples=100, clip_ctrl_dim=True)\n",
    "    return rand_perf_mat"
   ]
  },
  {
   "cell_type": "code",
   "execution_count": 40,
   "id": "continuous-disclaimer",
   "metadata": {
    "jupyter": {
     "source_hidden": true
    }
   },
   "outputs": [],
   "source": [
    "def average_random_performance_by_state_ctrl_dim(state_dim_arr: np.ndarray, ctrl_dim_arr: np.ndarray) -> np.ndarray:\n",
    "    z_arr = random_performances_by_state_ctrl_dim(state_dim_arr, ctrl_dim_arr, horizon=100).mean(axis=-1) \n",
    "    # Filtering NaNs\n",
    "    z_arr = np.nan_to_num(z_arr, nan=np.nanmin(z_arr))\n",
    "    return z_arr"
   ]
  },
  {
   "cell_type": "code",
   "execution_count": 41,
   "id": "important-petersburg",
   "metadata": {
    "jupyter": {
     "source_hidden": true
    }
   },
   "outputs": [
    {
     "data": {
      "application/vnd.jupyter.widget-view+json": {
       "model_id": "84b5197f798a46b98c337cae91aef19f",
       "version_major": 2,
       "version_minor": 0
      },
      "text/plain": [
       "Computing random policy performance vs. LQG dims:   0%|          | 0/400 [00:00<?, ?it/s]"
      ]
     },
     "metadata": {},
     "output_type": "display_data"
    },
    {
     "data": {
      "image/png": "[encoded data removed]",
      "text/plain": [
       "<Figure size 432x288 with 1 Axes>"
      ]
     },
     "metadata": {
      "needs_background": "light"
     },
     "output_type": "display_data"
    }
   ],
   "source": [
    "fig = plt.figure()\n",
    "ax = fig.add_subplot(projection=\"3d\")\n",
    "plot_3d_from_2d_function(\n",
    "    ax, \n",
    "    xrange=np.arange(1, 21),\n",
    "    yrange=np.arange(1, 21),\n",
    "    function=average_random_performance_by_state_ctrl_dim,\n",
    ")\n",
    "ax.set_xlabel(\"state dim\")\n",
    "ax.set_ylabel(\"ctrl dim\")\n",
    "ax.set_title(\"average random performance\")\n",
    "plt.show()"
   ]
  },
  {
   "cell_type": "markdown",
   "id": "toxic-oasis",
   "metadata": {},
   "source": [
    "### State & control dimension vs. horizon length"
   ]
  },
  {
   "cell_type": "markdown",
   "id": "vanilla-trust",
   "metadata": {},
   "source": [
    "#### Best expected return"
   ]
  },
  {
   "cell_type": "code",
   "execution_count": null,
   "id": "pregnant-machinery",
   "metadata": {},
   "outputs": [],
   "source": []
  }
 ],
 "metadata": {
  "kernelspec": {
   "display_name": "Python 3",
   "language": "python",
   "name": "python3"
  },
  "language_info": {
   "codemirror_mode": {
    "name": "ipython",
    "version": 3
   },
   "file_extension": ".py",
   "mimetype": "text/x-python",
   "name": "python",
   "nbconvert_exporter": "python",
   "pygments_lexer": "ipython3",
   "version": "3.8.2"
  }
 },
 "nbformat": 4,
 "nbformat_minor": 5
}
