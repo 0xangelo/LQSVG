{
 "cells": [
  {
   "cell_type": "markdown",
   "id": "directed-relief",
   "metadata": {},
   "source": [
    "# Ground-truth performance and gradient norms\n",
    "\n",
    "This notebook inspects the initialization schemes for LQGs and time-varying linear policies described in section 5.1 of the [paper](https://www.overleaf.com/read/cmbgmxxpxqzr).\n",
    "\n",
    "### Checklist\n",
    "\n",
    "- [x] Fix `n_state`, `n_ctrl`, `horizon`\n",
    "- [x] Sample random LQGs\n",
    "- [x] Sample random policies\n",
    "- [x] Evaluate the expected return\n",
    "- [x] Evaluate the value gradient norm\n",
    "- [ ] Search numpy, scipy for methods for visualizing the distributions"
   ]
  },
  {
   "cell_type": "markdown",
   "id": "guilty-diagram",
   "metadata": {},
   "source": [
    "### Imports"
   ]
  },
  {
   "cell_type": "code",
   "execution_count": 1,
   "id": "worthy-yeast",
   "metadata": {},
   "outputs": [],
   "source": [
    "%matplotlib inline\n",
    "from __future__ import annotations\n",
    "\n",
    "import matplotlib.pyplot as plt\n",
    "import seaborn as sns\n",
    "import torch\n",
    "import torch.nn as nn\n",
    "import lqsvg.torch.named as nt\n",
    "from lqsvg.envs import lqr\n",
    "from lqsvg.envs.lqr.gym import LQGSpec\n",
    "from torch import Tensor"
   ]
  },
  {
   "cell_type": "code",
   "execution_count": 2,
   "id": "signal-duplicate",
   "metadata": {},
   "outputs": [],
   "source": [
    "n_state = 2\n",
    "n_ctrl = 2\n",
    "horizon = 100"
   ]
  },
  {
   "cell_type": "code",
   "execution_count": 3,
   "id": "defensive-penalty",
   "metadata": {},
   "outputs": [],
   "source": [
    "def sample_lqg(n_state: int, n_ctrl: int, horizon: int) -> tuple[lqr.LinSDynamics, lqr.QuadCost, lqr.GaussInit]:\n",
    "    spec = LQGSpec(\n",
    "        n_state=n_state,\n",
    "        n_ctrl=n_ctrl,\n",
    "        horizon=horizon,\n",
    "        stationary=False,\n",
    "        gen_seed=None,\n",
    "        num_envs=1,  # No effect\n",
    "    )\n",
    "    return spec.make_lqg()"
   ]
  },
  {
   "cell_type": "code",
   "execution_count": 4,
   "id": "solid-roller",
   "metadata": {},
   "outputs": [],
   "source": [
    "def test_sample_lqg():\n",
    "    dynamics, cost, init = sample_lqg(n_state, n_ctrl, horizon)\n",
    "    assert isinstance(dynamics, lqr.LinSDynamics)\n",
    "    assert isinstance(cost, lqr.QuadCost)\n",
    "    assert isinstance(init, lqr.GaussInit)"
   ]
  },
  {
   "cell_type": "code",
   "execution_count": 5,
   "id": "funny-extraction",
   "metadata": {},
   "outputs": [
    {
     "name": "stderr",
     "output_type": "stream",
     "text": [
      "/Users/angelolovatto/Library/Caches/pypoetry/virtualenvs/lqsvg-kEsPsxvA-py3.8/lib/python3.8/site-packages/torch/tensor.py:775: UserWarning: Named tensors and all their associated APIs are an experimental feature and subject to change. Please do not use them for anything important until they are released as stable. (Triggered internally at  ../c10/core/TensorImpl.h:848.)\n",
      "  return super(Tensor, self).refine_names(names)\n"
     ]
    }
   ],
   "source": [
    "test_sample_lqg()"
   ]
  },
  {
   "cell_type": "code",
   "execution_count": 6,
   "id": "judicial-shooting",
   "metadata": {},
   "outputs": [],
   "source": [
    "def dims_from_dynamics(dynamics: lqr.LinSDynamics) -> tuple[int, int, int]:\n",
    "    n_state = dynamics.F.size(\"R\")\n",
    "    n_ctrl = dynamics.F.size(\"C\") - n_state\n",
    "    horizon = dynamics.F.size(\"H\")\n",
    "    return n_state, n_ctrl, horizon"
   ]
  },
  {
   "cell_type": "code",
   "execution_count": 7,
   "id": "stainless-reference",
   "metadata": {},
   "outputs": [],
   "source": [
    "def sample_policy(dynamics: lqr.LinSDynamics, cost: lqr.QuadCost) -> lqr.Linear:\n",
    "    n_state, n_ctrl, horizon = dims_from_dynamics(dynamics)\n",
    "    solver = lqr.NamedLQGControl(n_state, n_ctrl, horizon)\n",
    "    pistar, _, _ = solver(dynamics, cost)\n",
    "    \n",
    "    K, k = (g + torch.randn_like(g) / (n_state + n_ctrl + horizon) for g in pistar)\n",
    "    return (K, k)"
   ]
  },
  {
   "cell_type": "code",
   "execution_count": 8,
   "id": "confused-belize",
   "metadata": {},
   "outputs": [],
   "source": [
    "def test_sample_policy():\n",
    "    dynamics, cost, _ = sample_lqg(n_state, n_ctrl, horizon)\n",
    "    K, k = sample_policy(dynamics, cost)\n",
    "    print(f\"\"\"\n",
    "        K: {K.shape}; {K.names}\n",
    "        k: {k.shape}; {k.names}\n",
    "    \"\"\")"
   ]
  },
  {
   "cell_type": "code",
   "execution_count": 9,
   "id": "usual-pipeline",
   "metadata": {},
   "outputs": [
    {
     "name": "stdout",
     "output_type": "stream",
     "text": [
      "\n",
      "        K: torch.Size([100, 2, 2]); ('H', 'R', 'C')\n",
      "        k: torch.Size([100, 2]); ('H', 'R')\n",
      "    \n"
     ]
    }
   ],
   "source": [
    "test_sample_policy()"
   ]
  },
  {
   "cell_type": "code",
   "execution_count": 10,
   "id": "growing-chick",
   "metadata": {},
   "outputs": [],
   "source": [
    "class ExpectedValue(nn.Module):\n",
    "    def forward(self, init: lqr.GaussInit, vval: lqr.Quadratic) -> Tensor:\n",
    "        \"\"\"Expected cost given mean and covariance matrix of the initial state.\n",
    "\n",
    "        https://en.wikipedia.org/wiki/Quadratic_form_(statistics)#Expectation.\n",
    "        \"\"\"\n",
    "        V, v, c = vval\n",
    "        V = nt.matrix(V)\n",
    "        v = nt.vector_to_matrix(v)\n",
    "        c = nt.scalar_to_matrix(c)\n",
    "        mu = nt.vector_to_matrix(init.mu)\n",
    "        sig = nt.matrix(init.sig)\n",
    "\n",
    "        value = (\n",
    "            nt.scalar_to_matrix(nt.trace(sig @ V)) / 2\n",
    "            + nt.transpose(mu) @ V @ mu\n",
    "            + nt.transpose(v) @ mu\n",
    "            + c\n",
    "        )\n",
    "        return nt.matrix_to_scalar(value)\n",
    "\n",
    "\n",
    "class PolicyLoss(nn.Module):\n",
    "    def __init__(self, n_state: int, n_ctrl: int, horizon: int):\n",
    "        super().__init__()\n",
    "        self.predict = lqr.NamedLQGPrediction(n_state, n_ctrl, horizon)\n",
    "        self.expected = ExpectedValue()\n",
    "\n",
    "    def forward(\n",
    "        self,\n",
    "        policy: lqr.Linear,\n",
    "        dynamics: lqr.LinDynamics,\n",
    "        cost: lqr.QuadCost,\n",
    "        init: lqr.GaussInit,\n",
    "    ) -> Tensor:\n",
    "        _, vval = self.predict(policy, dynamics, cost)\n",
    "        vval = tuple(x.select(\"H\", 0) for x in vval)\n",
    "        cost = self.expected(init, vval)\n",
    "        return cost"
   ]
  },
  {
   "cell_type": "code",
   "execution_count": 11,
   "id": "digital-meaning",
   "metadata": {},
   "outputs": [],
   "source": [
    "def policy_loss(policy: lqr.Linear, dynamics: lqr.LinSDynamics, cost: lqr.QuadCost, init: lqr.GaussInit) -> Tensor:\n",
    "    n_state, n_ctrl, horizon = dims_from_dynamics(dynamics)\n",
    "    loss_fn = PolicyLoss(n_state, n_ctrl, horizon)\n",
    "    loss = loss_fn(policy, dynamics, cost, init)\n",
    "    return loss"
   ]
  },
  {
   "cell_type": "code",
   "execution_count": 12,
   "id": "mediterranean-deviation",
   "metadata": {},
   "outputs": [],
   "source": [
    "def test_policy_loss():\n",
    "    dynamics, cost, init = sample_lqg(n_state, n_ctrl, horizon)\n",
    "    policy = sample_policy(dynamics, cost)\n",
    "    loss = policy_loss(policy, dynamics, cost, init)\n",
    "    print(f\"Loss: {loss} ({loss.dtype}); ExpectedReturn: {-loss} ({(-loss).dtype})\")"
   ]
  },
  {
   "cell_type": "code",
   "execution_count": 13,
   "id": "parliamentary-moses",
   "metadata": {},
   "outputs": [
    {
     "name": "stdout",
     "output_type": "stream",
     "text": [
      "Loss: 333.1877136230469 (torch.float32); ExpectedReturn: -333.1877136230469 (torch.float32)\n"
     ]
    }
   ],
   "source": [
    "test_policy_loss()"
   ]
  },
  {
   "cell_type": "code",
   "execution_count": 14,
   "id": "passive-request",
   "metadata": {},
   "outputs": [],
   "source": [
    "def test_value_gradient_norm():\n",
    "    dynamics, cost, init = sample_lqg(n_state, n_ctrl, horizon)\n",
    "    policy = tuple(x.requires_grad_(True) for x in sample_policy(dynamics, cost))\n",
    "    eret = -policy_loss(policy, dynamics, cost, init)\n",
    "    print(f\"Expected return: {eret} ({eret.dtype})\")\n",
    "    eret.backward()\n",
    "    svg_norm = nn.utils.clip_grad_norm_(policy, max_norm=float(\"inf\"))\n",
    "    print(f\"SVG norm: {svg_norm} ({svg_norm.dtype})\")"
   ]
  },
  {
   "cell_type": "code",
   "execution_count": 15,
   "id": "incident-acting",
   "metadata": {},
   "outputs": [
    {
     "name": "stdout",
     "output_type": "stream",
     "text": [
      "Expected return: -175.96194458007812 (torch.float32)\n",
      "SVG norm: 12.998212814331055 (torch.float32)\n"
     ]
    }
   ],
   "source": [
    "test_value_gradient_norm()"
   ]
  },
  {
   "cell_type": "code",
   "execution_count": 16,
   "id": "unsigned-watts",
   "metadata": {},
   "outputs": [],
   "source": [
    "def get_optimal(dynamics: lqr.LinSDynamics, cost: lqr.QuadCost) -> tuple[lqr.Linear, lqr.Quadratic, lqr.Quadratic]:\n",
    "    n_state, n_ctrl, horizon = dims_from_dynamics(dynamics)\n",
    "    solver = lqr.NamedLQGControl(n_state, n_ctrl, horizon)\n",
    "    pistar, qstar, vstar = solver(dynamics, cost)\n",
    "    return pistar, qstar, vstar"
   ]
  },
  {
   "cell_type": "code",
   "execution_count": 17,
   "id": "initial-miller",
   "metadata": {},
   "outputs": [],
   "source": [
    "def test_optimal():\n",
    "    dynamics, cost, init = sample_lqg(n_state, n_ctrl, horizon)\n",
    "    pistar, _, vstar = get_optimal(dynamics, cost)\n",
    "    loss_fn = ExpectedValue()\n",
    "    eret = -loss_fn(init, tuple(x.select(\"H\", 0) for x in vstar))\n",
    "    print(f\"Optimal expected return: {eret} ({eret.dtype})\")\n",
    "\n",
    "    policy = tuple(x.requires_grad_(True) for x in pistar)\n",
    "    eret = -policy_loss(policy, dynamics, cost, init)\n",
    "    print(f\"Expected return: {eret} ({eret.dtype})\")\n",
    "    eret.backward()\n",
    "    svg_norm = nn.utils.clip_grad_norm_(policy, max_norm=float(\"inf\"))\n",
    "    print(f\"SVG norm: {svg_norm} ({svg_norm.dtype})\")"
   ]
  },
  {
   "cell_type": "code",
   "execution_count": 18,
   "id": "found-drove",
   "metadata": {},
   "outputs": [
    {
     "name": "stdout",
     "output_type": "stream",
     "text": [
      "Optimal expected return: -234.11837768554688 (torch.float32)\n",
      "Expected return: -234.11837768554688 (torch.float32)\n",
      "SVG norm: 0.00013003389176446944 (torch.float32)\n"
     ]
    }
   ],
   "source": [
    "test_optimal()"
   ]
  },
  {
   "cell_type": "markdown",
   "id": "alien-criterion",
   "metadata": {},
   "source": [
    "## Evaluate cost scaling\n",
    "\n",
    "### Checklist\n",
    "- [x] Stack several LQGs including init dists\n",
    "- [x] Define range of `n_state`s, `n_ctrl`s, and `horizon`s\n",
    "- [x] Fix initial values of `n_state=2`, `n_ctrl=2`, `horizon=100`\n",
    "- [ ] Iterate over one of the ranges, e.g., `horizon`s:\n",
    "  - [ ] Generate several LQGs with the current `n_state`, `n_ctrl`, `horizon` and stack them\n",
    "  - [ ] Find the optimal solutions (policies) and evaluate the optimal expected returns\n",
    "  - [ ] Average the results accross the LQGs generated\n",
    "  - [ ] Plot the average against the current `n_state`, `n_ctrl`, `horizon`"
   ]
  },
  {
   "cell_type": "code",
   "execution_count": 19,
   "id": "internal-copyright",
   "metadata": {},
   "outputs": [],
   "source": [
    "def stack_lqgs(*lqgs: tuple[lqr.LinSDynamics, lqr.QuadCost, lqr.GaussInit]) -> tuple[lqr.LinSDynamics, lqr.QuadCost, lqr.GaussInit]:\n",
    "    separated: tuple[list[lqr.LinSDynamics], list[lqr.QuadCost], list[lqr.GaussInit]] = zip(*lqgs)\n",
    "    dyns, costs, inits = separated\n",
    "\n",
    "    def stack_batch(tensors: list[Tensor]) -> Tensor:\n",
    "        return torch.cat([t.align_to(\"H\", \"B\", ...) for t in tensors], dim=\"B\")\n",
    "\n",
    "    Fs, fs, Ws = zip(*dyns)\n",
    "    dynamics = lqr.LinSDynamics(F=stack_batch(Fs), f=stack_batch(fs), W=stack_batch(Ws))\n",
    "\n",
    "    Cs, cs = zip(*costs)\n",
    "    cost = lqr.QuadCost(C=stack_batch(Cs), c=stack_batch(cs))\n",
    "    \n",
    "    mus, sigs = zip(*inits)\n",
    "    init = lqr.GaussInit(mu=stack_batch(mus).squeeze(\"H\"), sig=stack_batch(sigs).squeeze(\"H\"))\n",
    "\n",
    "    return dynamics, cost, init"
   ]
  },
  {
   "cell_type": "code",
   "execution_count": 20,
   "id": "molecular-spencer",
   "metadata": {},
   "outputs": [],
   "source": [
    "def test_stack_lqgs():\n",
    "    lqgs = [sample_lqg(n_state, n_ctrl, horizon) for _ in range(10)]\n",
    "    dynamics, cost, init = stack_lqgs(*lqgs)\n",
    "    print(f\"\"\"\n",
    "        dynamics: \n",
    "            {dynamics.F.shape}; {dynamics.F.names}\n",
    "            {dynamics.f.shape}; {dynamics.f.names}\n",
    "            {dynamics.W.shape}; {dynamics.W.names}\n",
    "            \n",
    "        cost:\n",
    "            {cost.C.shape}; {cost.C.names}\n",
    "            {cost.c.shape}; {cost.c.names}\n",
    "            \n",
    "        init:\n",
    "            {init.mu.shape}; {init.mu.names}\n",
    "            {init.sig.shape}; {init.sig.names}\n",
    "    \"\"\")"
   ]
  },
  {
   "cell_type": "code",
   "execution_count": 21,
   "id": "interracial-subscription",
   "metadata": {},
   "outputs": [
    {
     "name": "stdout",
     "output_type": "stream",
     "text": [
      "\n",
      "        dynamics: \n",
      "            torch.Size([100, 10, 2, 4]); ('H', 'B', 'R', 'C')\n",
      "            torch.Size([100, 10, 2]); ('H', 'B', 'R')\n",
      "            torch.Size([100, 10, 2, 2]); ('H', 'B', 'R', 'C')\n",
      "            \n",
      "        cost:\n",
      "            torch.Size([100, 10, 4, 4]); ('H', 'B', 'R', 'C')\n",
      "            torch.Size([100, 10, 4]); ('H', 'B', 'R')\n",
      "            \n",
      "        init:\n",
      "            torch.Size([10, 2]); ('B', 'R')\n",
      "            torch.Size([10, 2, 2]); ('B', 'R', 'C')\n",
      "    \n"
     ]
    }
   ],
   "source": [
    "test_stack_lqgs()"
   ]
  },
  {
   "cell_type": "code",
   "execution_count": 22,
   "id": "moving-relationship",
   "metadata": {},
   "outputs": [],
   "source": [
    "ctrl_dims = range(1, 10)\n",
    "horizons = range(10, 1000)"
   ]
  },
  {
   "cell_type": "code",
   "execution_count": 23,
   "id": "coastal-county",
   "metadata": {},
   "outputs": [],
   "source": [
    "n_state, n_ctrl, horizon = 2, 2, 100"
   ]
  },
  {
   "cell_type": "code",
   "execution_count": 24,
   "id": "humanitarian-accident",
   "metadata": {},
   "outputs": [],
   "source": [
    "def expected_return(init: lqr.GaussInit, vval: lqr.Quadratic) -> Tensor:\n",
    "    expected_value = ExpectedValue()\n",
    "    expected_cost = expected_value(init, tuple(x.select(\"H\", 0) for x in vval))\n",
    "    return -expected_cost"
   ]
  },
  {
   "cell_type": "code",
   "execution_count": 25,
   "id": "emerging-qualification",
   "metadata": {},
   "outputs": [],
   "source": [
    "def list_rets_by_lqg_dim(lqg_dims: list[tuple[int, int, int]], sample_size: int = 100) -> list[Tensor]:\n",
    "    rets = []\n",
    "    for n_state, n_ctrl, horizon in lqg_dims:\n",
    "        lqgs = [sample_lqg(n_state, n_ctrl, horizon) for _ in range(sample_size)]\n",
    "        dynamics, cost, init = stack_lqgs(*lqgs)\n",
    "        pistar, qstar, vstar = get_optimal(dynamics, cost)\n",
    "        eret = expected_return(init, vstar)\n",
    "#         print(f\"\"\"\n",
    "#             state dim: {n_state}, ctrl_dim: {n_ctrl}, horizon: {horizon}\n",
    "#             expected return: mean - {eret.mean()} - std {eret.std()} - min {eret.min()} - max {eret.max()}\n",
    "#         \"\"\")\n",
    "        rets += [eret]\n",
    "        \n",
    "    return rets"
   ]
  },
  {
   "cell_type": "code",
   "execution_count": 35,
   "id": "wireless-detail",
   "metadata": {},
   "outputs": [
    {
     "data": {
      "image/png": "[encoded data removed]",
      "text/plain": [
       "<Figure size 432x288 with 1 Axes>"
      ]
     },
     "metadata": {
      "needs_background": "light"
     },
     "output_type": "display_data"
    }
   ],
   "source": [
    "state_dims = range(1, 11)\n",
    "ctrl_dims = [2] * 10\n",
    "horizons = [100] * 10\n",
    "rets = list_rets_by_lqg_dim(list(zip(state_dims, ctrl_dims, horizons)))\n",
    "\n",
    "x = \"state dim\"; y = \"optimal return mean\"\n",
    "data={x: state_dims, y: [r.mean().item() for r in rets]}\n",
    "ax = sns.lineplot(x=x, y=y, data=data)\n",
    "plt.show()"
   ]
  },
  {
   "cell_type": "code",
   "execution_count": 32,
   "id": "attended-deposit",
   "metadata": {},
   "outputs": [
    {
     "data": {
      "image/png": "[encoded data removed]",
      "text/plain": [
       "<Figure size 432x288 with 1 Axes>"
      ]
     },
     "metadata": {
      "needs_background": "light"
     },
     "output_type": "display_data"
    }
   ],
   "source": [
    "state_dims = [2] * 10\n",
    "ctrl_dims = range(1, 11)\n",
    "horizons = [100] * 10\n",
    "rets = list_rets_by_lqg_dim(list(zip(state_dims, ctrl_dims, horizons)))\n",
    "\n",
    "x = \"ctrl dim\"; y = \"optimal return mean\"\n",
    "data = {x: ctrl_dims, y: [r.mean().item() for r in rets]}\n",
    "ax = sns.lineplot(x=x, y=y, data=data)\n",
    "plt.show()"
   ]
  },
  {
   "cell_type": "code",
   "execution_count": 34,
   "id": "powered-sunrise",
   "metadata": {},
   "outputs": [
    {
     "data": {
      "image/png": "[encoded data removed]",
      "text/plain": [
       "<Figure size 432x288 with 1 Axes>"
      ]
     },
     "metadata": {
      "needs_background": "light"
     },
     "output_type": "display_data"
    }
   ],
   "source": [
    "state_dims = [2] * 10\n",
    "ctrl_dims = [2] * 10\n",
    "horizons = [100 * i for i in range(1, 11)]\n",
    "rets = list_rets_by_lqg_dim(list(zip(state_dims, ctrl_dims, horizons)))\n",
    "\n",
    "x = \"horizon\"; y = \"optimal return mean\"\n",
    "data = {x: horizons, y: [r.mean().item() for r in rets]}\n",
    "ax = sns.lineplot(x=x, y=y, data=data)\n",
    "plt.show()"
   ]
  },
  {
   "cell_type": "code",
   "execution_count": 37,
   "id": "communist-bouquet",
   "metadata": {},
   "outputs": [
    {
     "data": {
      "image/png": "[encoded data removed]",
      "text/plain": [
       "<Figure size 432x288 with 1 Axes>"
      ]
     },
     "metadata": {
      "needs_background": "light"
     },
     "output_type": "display_data"
    }
   ],
   "source": [
    "state_dims = range(1, 11)\n",
    "ctrl_dims = state_dims\n",
    "horizons = [100] * 10\n",
    "rets = list_rets_by_lqg_dim(list(zip(state_dims, ctrl_dims, horizons)))\n",
    "\n",
    "x = \"state & ctrl dim\"; y = \"optimal return mean\"\n",
    "data = {x: state_dims, y: [r.mean().item() for r in rets]}\n",
    "ax = sns.lineplot(x=x, y=y, data=data)\n",
    "plt.show()"
   ]
  }
 ],
 "metadata": {
  "kernelspec": {
   "display_name": "Python 3",
   "language": "python",
   "name": "python3"
  },
  "language_info": {
   "codemirror_mode": {
    "name": "ipython",
    "version": 3
   },
   "file_extension": ".py",
   "mimetype": "text/x-python",
   "name": "python",
   "nbconvert_exporter": "python",
   "pygments_lexer": "ipython3",
   "version": "3.8.2"
  }
 },
 "nbformat": 4,
 "nbformat_minor": 5
}
