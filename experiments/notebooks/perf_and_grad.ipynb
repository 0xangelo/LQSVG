{
 "cells": [
  {
   "cell_type": "markdown",
   "id": "julian-gospel",
   "metadata": {},
   "source": [
    "# Ground-truth performance and gradient norms\n",
    "\n",
    "This notebook inspects the initialization schemes for LQGs and time-varying linear policies described in section 5.1 of the [paper](https://www.overleaf.com/read/cmbgmxxpxqzr).\n",
    "\n",
    "### Checklist\n",
    "\n",
    "- [x] Fix `n_state`, `n_ctrl`, `horizon`\n",
    "- [x] Sample random LQGs\n",
    "- [ ] Sample random policies\n",
    "- [ ] Evaluate the expected return\n",
    "- [ ] Evaluate the value gradient norm\n",
    "- [ ] Search numpy, scipy for methods for visualizing the distributions"
   ]
  },
  {
   "cell_type": "markdown",
   "id": "immediate-lucas",
   "metadata": {},
   "source": [
    "### Imports"
   ]
  },
  {
   "cell_type": "code",
   "execution_count": 1,
   "id": "regional-detector",
   "metadata": {},
   "outputs": [],
   "source": [
    "import torch\n",
    "from typing import Tuple\n",
    "from lqsvg.envs import lqr\n",
    "from lqsvg.envs.lqr.gym import LQGSpec"
   ]
  },
  {
   "cell_type": "code",
   "execution_count": 2,
   "id": "junior-minister",
   "metadata": {},
   "outputs": [],
   "source": [
    "n_state = 2\n",
    "n_ctrl = 2\n",
    "horizon = 1000"
   ]
  },
  {
   "cell_type": "code",
   "execution_count": 3,
   "id": "secure-paintball",
   "metadata": {},
   "outputs": [],
   "source": [
    "def sample_lqg(n_state: int, n_ctrl: int, horizon: int) -> Tuple[lqr.LinSDynamics, lqr.QuadCost, lqr.GaussInit]:\n",
    "    spec = LQGSpec(\n",
    "        n_state=n_state,\n",
    "        n_ctrl=n_ctrl,\n",
    "        horizon=horizon,\n",
    "        stationary=False,\n",
    "        gen_seed=None,\n",
    "        num_envs=1,  # No effect\n",
    "    )\n",
    "    return spec.make_lqg()"
   ]
  },
  {
   "cell_type": "code",
   "execution_count": 4,
   "id": "friendly-olympus",
   "metadata": {},
   "outputs": [],
   "source": [
    "def test_sample_lqg():\n",
    "    n_state, n_ctrl, n_horizon = 2, 2, 1000\n",
    "    dynamics, cost, init = sample_lqg(n_state, n_ctrl, n_horizon)\n",
    "    assert isinstance(dynamics, lqr.LinSDynamics)\n",
    "    assert isinstance(cost, lqr.QuadCost)\n",
    "    assert isinstance(init, lqr.GaussInit)"
   ]
  },
  {
   "cell_type": "code",
   "execution_count": 5,
   "id": "according-train",
   "metadata": {},
   "outputs": [
    {
     "name": "stderr",
     "output_type": "stream",
     "text": [
      "/Users/angelolovatto/Library/Caches/pypoetry/virtualenvs/lqsvg-kEsPsxvA-py3.8/lib/python3.8/site-packages/torch/tensor.py:775: UserWarning: Named tensors and all their associated APIs are an experimental feature and subject to change. Please do not use them for anything important until they are released as stable. (Triggered internally at  ../c10/core/TensorImpl.h:848.)\n",
      "  return super(Tensor, self).refine_names(names)\n"
     ]
    }
   ],
   "source": [
    "test_sample_lqg()"
   ]
  },
  {
   "cell_type": "code",
   "execution_count": 6,
   "id": "binding-growing",
   "metadata": {},
   "outputs": [],
   "source": [
    "def sample_policy(dynamics: lqr.LinSDynamics, cost: lqr.QuadCost) -> lqr.Linear:\n",
    "    n_state = dynamics.F.size(\"R\")\n",
    "    n_ctrl = dynamics.F.size(\"C\") - n_state\n",
    "    horizon = dynamics.F.size(\"H\")\n",
    "    solver = lqr.NamedLQGControl(n_state, n_ctrl, horizon)\n",
    "    pistar, _, _ = solver(dynamics, cost)\n",
    "    \n",
    "    K, k = (g + torch.randn_like(g)*0.5 for g in pistar)\n",
    "    return (K, k)"
   ]
  },
  {
   "cell_type": "code",
   "execution_count": 7,
   "id": "designing-option",
   "metadata": {},
   "outputs": [],
   "source": [
    "def test_sample_policy():\n",
    "    n_state, n_ctrl, n_horizon = 2, 2, 1000\n",
    "    dynamics, cost, _ = sample_lqg(n_state, n_ctrl, n_horizon)\n",
    "    K, k = sample_policy(dynamics, cost)\n",
    "    print(f\"\"\"\n",
    "        K: {K.shape}; {K.names}\n",
    "        k: {k.shape}; {k.names}\n",
    "    \"\"\")"
   ]
  },
  {
   "cell_type": "code",
   "execution_count": 8,
   "id": "municipal-regular",
   "metadata": {},
   "outputs": [
    {
     "name": "stdout",
     "output_type": "stream",
     "text": [
      "\n",
      "        K: torch.Size([1000, 2, 2]); ('H', 'R', 'C')\n",
      "        k: torch.Size([1000, 2]); ('H', 'R')\n",
      "    \n"
     ]
    }
   ],
   "source": [
    "test_sample_policy()"
   ]
  }
 ],
 "metadata": {
  "kernelspec": {
   "display_name": "Python 3",
   "language": "python",
   "name": "python3"
  },
  "language_info": {
   "codemirror_mode": {
    "name": "ipython",
    "version": 3
   },
   "file_extension": ".py",
   "mimetype": "text/x-python",
   "name": "python",
   "nbconvert_exporter": "python",
   "pygments_lexer": "ipython3",
   "version": "3.8.2"
  }
 },
 "nbformat": 4,
 "nbformat_minor": 5
}
