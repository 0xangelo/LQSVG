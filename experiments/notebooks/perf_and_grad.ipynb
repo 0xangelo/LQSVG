{
 "cells": [
  {
   "cell_type": "markdown",
   "id": "prepared-batch",
   "metadata": {},
   "source": [
    "# Ground-truth performance and gradient norms\n",
    "\n",
    "This notebook inspects the initialization schemes for LQGs and time-varying linear policies described in section 5.1 of the [paper](https://www.overleaf.com/read/cmbgmxxpxqzr).\n",
    "\n",
    "### Checklist\n",
    "\n",
    "- [x] Fix `n_state`, `n_ctrl`, `horizon`\n",
    "- [x] Sample random LQGs\n",
    "- [x] Sample random policies\n",
    "- [x] Evaluate the expected return\n",
    "- [x] Evaluate the value gradient norm\n",
    "- [ ] Search numpy, scipy for methods for visualizing the distributions"
   ]
  },
  {
   "cell_type": "markdown",
   "id": "alternate-reform",
   "metadata": {},
   "source": [
    "### Imports"
   ]
  },
  {
   "cell_type": "code",
   "execution_count": 1,
   "id": "flush-heaven",
   "metadata": {},
   "outputs": [],
   "source": [
    "%matplotlib inline\n",
    "from __future__ import annotations\n",
    "\n",
    "import numpy as np\n",
    "import matplotlib.pyplot as plt\n",
    "import seaborn as sns\n",
    "import torch\n",
    "import torch.nn as nn\n",
    "import lqsvg.torch.named as nt\n",
    "from lqsvg.envs import lqr\n",
    "from lqsvg.envs.lqr.gym import LQGSpec\n",
    "from matplotlib import cm\n",
    "from mpl_toolkits.mplot3d import Axes3D\n",
    "from torch import Tensor\n",
    "from tqdm.notebook import tqdm"
   ]
  },
  {
   "cell_type": "code",
   "execution_count": 2,
   "id": "appointed-optimization",
   "metadata": {},
   "outputs": [],
   "source": [
    "n_state = 2\n",
    "n_ctrl = 2\n",
    "horizon = 100"
   ]
  },
  {
   "cell_type": "code",
   "execution_count": 3,
   "id": "deluxe-breakdown",
   "metadata": {},
   "outputs": [],
   "source": [
    "def sample_lqg(n_state: int, n_ctrl: int, horizon: int) -> tuple[lqr.LinSDynamics, lqr.QuadCost, lqr.GaussInit]:\n",
    "    spec = LQGSpec(\n",
    "        n_state=n_state,\n",
    "        n_ctrl=n_ctrl,\n",
    "        horizon=horizon,\n",
    "        stationary=False,\n",
    "        gen_seed=None,\n",
    "        num_envs=1,  # No effect\n",
    "    )\n",
    "    return spec.make_lqg()"
   ]
  },
  {
   "cell_type": "code",
   "execution_count": 4,
   "id": "generic-identifier",
   "metadata": {},
   "outputs": [],
   "source": [
    "def test_sample_lqg():\n",
    "    dynamics, cost, init = sample_lqg(n_state, n_ctrl, horizon)\n",
    "    assert isinstance(dynamics, lqr.LinSDynamics)\n",
    "    assert isinstance(cost, lqr.QuadCost)\n",
    "    assert isinstance(init, lqr.GaussInit)"
   ]
  },
  {
   "cell_type": "code",
   "execution_count": 5,
   "id": "decreased-riding",
   "metadata": {},
   "outputs": [
    {
     "name": "stderr",
     "output_type": "stream",
     "text": [
      "/Users/angelolovatto/Library/Caches/pypoetry/virtualenvs/lqsvg-kEsPsxvA-py3.8/lib/python3.8/site-packages/torch/tensor.py:775: UserWarning: Named tensors and all their associated APIs are an experimental feature and subject to change. Please do not use them for anything important until they are released as stable. (Triggered internally at  ../c10/core/TensorImpl.h:848.)\n",
      "  return super(Tensor, self).refine_names(names)\n"
     ]
    }
   ],
   "source": [
    "test_sample_lqg()"
   ]
  },
  {
   "cell_type": "code",
   "execution_count": 6,
   "id": "equivalent-yugoslavia",
   "metadata": {},
   "outputs": [],
   "source": [
    "def dims_from_dynamics(dynamics: lqr.LinSDynamics) -> tuple[int, int, int]:\n",
    "    n_state = dynamics.F.size(\"R\")\n",
    "    n_ctrl = dynamics.F.size(\"C\") - n_state\n",
    "    horizon = dynamics.F.size(\"H\")\n",
    "    return n_state, n_ctrl, horizon"
   ]
  },
  {
   "cell_type": "code",
   "execution_count": 7,
   "id": "intermediate-explorer",
   "metadata": {},
   "outputs": [],
   "source": [
    "def sample_policy(dynamics: lqr.LinSDynamics, cost: lqr.QuadCost) -> lqr.Linear:\n",
    "    n_state, n_ctrl, horizon = dims_from_dynamics(dynamics)\n",
    "    solver = lqr.NamedLQGControl(n_state, n_ctrl, horizon)\n",
    "    pistar, _, _ = solver(dynamics, cost)\n",
    "    \n",
    "    K, k = (g + torch.randn_like(g) / (n_state + n_ctrl + horizon) for g in pistar)\n",
    "    return (K, k)"
   ]
  },
  {
   "cell_type": "code",
   "execution_count": 8,
   "id": "automated-creation",
   "metadata": {},
   "outputs": [],
   "source": [
    "def test_sample_policy():\n",
    "    dynamics, cost, _ = sample_lqg(n_state, n_ctrl, horizon)\n",
    "    K, k = sample_policy(dynamics, cost)\n",
    "    print(f\"\"\"\n",
    "        K: {K.shape}; {K.names}\n",
    "        k: {k.shape}; {k.names}\n",
    "    \"\"\")"
   ]
  },
  {
   "cell_type": "code",
   "execution_count": 9,
   "id": "raising-telescope",
   "metadata": {},
   "outputs": [
    {
     "name": "stdout",
     "output_type": "stream",
     "text": [
      "\n",
      "        K: torch.Size([100, 2, 2]); ('H', 'R', 'C')\n",
      "        k: torch.Size([100, 2]); ('H', 'R')\n",
      "    \n"
     ]
    }
   ],
   "source": [
    "test_sample_policy()"
   ]
  },
  {
   "cell_type": "code",
   "execution_count": 10,
   "id": "appointed-district",
   "metadata": {},
   "outputs": [],
   "source": [
    "class ExpectedValue(nn.Module):\n",
    "    def forward(self, init: lqr.GaussInit, vval: lqr.Quadratic) -> Tensor:\n",
    "        \"\"\"Expected cost given mean and covariance matrix of the initial state.\n",
    "\n",
    "        https://en.wikipedia.org/wiki/Quadratic_form_(statistics)#Expectation.\n",
    "        \"\"\"\n",
    "        V, v, c = vval\n",
    "        V = nt.matrix(V)\n",
    "        v = nt.vector_to_matrix(v)\n",
    "        c = nt.scalar_to_matrix(c)\n",
    "        mu = nt.vector_to_matrix(init.mu)\n",
    "        sig = nt.matrix(init.sig)\n",
    "\n",
    "        value = (\n",
    "            nt.scalar_to_matrix(nt.trace(sig @ V)) / 2\n",
    "            + nt.transpose(mu) @ V @ mu\n",
    "            + nt.transpose(v) @ mu\n",
    "            + c\n",
    "        )\n",
    "        return nt.matrix_to_scalar(value)\n",
    "\n",
    "\n",
    "class PolicyLoss(nn.Module):\n",
    "    def __init__(self, n_state: int, n_ctrl: int, horizon: int):\n",
    "        super().__init__()\n",
    "        self.predict = lqr.NamedLQGPrediction(n_state, n_ctrl, horizon)\n",
    "        self.expected = ExpectedValue()\n",
    "\n",
    "    def forward(\n",
    "        self,\n",
    "        policy: lqr.Linear,\n",
    "        dynamics: lqr.LinDynamics,\n",
    "        cost: lqr.QuadCost,\n",
    "        init: lqr.GaussInit,\n",
    "    ) -> Tensor:\n",
    "        _, vval = self.predict(policy, dynamics, cost)\n",
    "        vval = tuple(x.select(\"H\", 0) for x in vval)\n",
    "        cost = self.expected(init, vval)\n",
    "        return cost"
   ]
  },
  {
   "cell_type": "code",
   "execution_count": 11,
   "id": "suspected-employer",
   "metadata": {},
   "outputs": [],
   "source": [
    "def policy_loss(policy: lqr.Linear, dynamics: lqr.LinSDynamics, cost: lqr.QuadCost, init: lqr.GaussInit) -> Tensor:\n",
    "    n_state, n_ctrl, horizon = dims_from_dynamics(dynamics)\n",
    "    loss_fn = PolicyLoss(n_state, n_ctrl, horizon)\n",
    "    loss = loss_fn(policy, dynamics, cost, init)\n",
    "    return loss"
   ]
  },
  {
   "cell_type": "code",
   "execution_count": 12,
   "id": "opposed-boston",
   "metadata": {},
   "outputs": [],
   "source": [
    "def test_policy_loss():\n",
    "    dynamics, cost, init = sample_lqg(n_state, n_ctrl, horizon)\n",
    "    policy = sample_policy(dynamics, cost)\n",
    "    loss = policy_loss(policy, dynamics, cost, init)\n",
    "    print(f\"Loss: {loss} ({loss.dtype}); ExpectedReturn: {-loss} ({(-loss).dtype})\")"
   ]
  },
  {
   "cell_type": "code",
   "execution_count": 13,
   "id": "fundamental-cross",
   "metadata": {},
   "outputs": [
    {
     "name": "stdout",
     "output_type": "stream",
     "text": [
      "Loss: 246.54971313476562 (torch.float32); ExpectedReturn: -246.54971313476562 (torch.float32)\n"
     ]
    }
   ],
   "source": [
    "test_policy_loss()"
   ]
  },
  {
   "cell_type": "code",
   "execution_count": 14,
   "id": "framed-printer",
   "metadata": {},
   "outputs": [],
   "source": [
    "def test_value_gradient_norm():\n",
    "    dynamics, cost, init = sample_lqg(n_state, n_ctrl, horizon)\n",
    "    policy = tuple(x.requires_grad_(True) for x in sample_policy(dynamics, cost))\n",
    "    eret = -policy_loss(policy, dynamics, cost, init)\n",
    "    print(f\"Expected return: {eret} ({eret.dtype})\")\n",
    "    eret.backward()\n",
    "    svg_norm = nn.utils.clip_grad_norm_(policy, max_norm=float(\"inf\"))\n",
    "    print(f\"SVG norm: {svg_norm} ({svg_norm.dtype})\")"
   ]
  },
  {
   "cell_type": "code",
   "execution_count": 15,
   "id": "developing-agency",
   "metadata": {},
   "outputs": [
    {
     "name": "stdout",
     "output_type": "stream",
     "text": [
      "Expected return: -297.6614074707031 (torch.float32)\n",
      "SVG norm: 13.133308410644531 (torch.float32)\n"
     ]
    }
   ],
   "source": [
    "test_value_gradient_norm()"
   ]
  },
  {
   "cell_type": "code",
   "execution_count": 16,
   "id": "under-intake",
   "metadata": {},
   "outputs": [],
   "source": [
    "def get_optimal(dynamics: lqr.LinSDynamics, cost: lqr.QuadCost) -> tuple[lqr.Linear, lqr.Quadratic, lqr.Quadratic]:\n",
    "    n_state, n_ctrl, horizon = dims_from_dynamics(dynamics)\n",
    "    solver = lqr.NamedLQGControl(n_state, n_ctrl, horizon)\n",
    "    pistar, qstar, vstar = solver(dynamics, cost)\n",
    "    return pistar, qstar, vstar"
   ]
  },
  {
   "cell_type": "code",
   "execution_count": 17,
   "id": "comprehensive-garage",
   "metadata": {},
   "outputs": [],
   "source": [
    "def test_optimal():\n",
    "    dynamics, cost, init = sample_lqg(n_state, n_ctrl, horizon)\n",
    "    pistar, _, vstar = get_optimal(dynamics, cost)\n",
    "    loss_fn = ExpectedValue()\n",
    "    eret = -loss_fn(init, tuple(x.select(\"H\", 0) for x in vstar))\n",
    "    print(f\"Optimal expected return: {eret} ({eret.dtype})\")\n",
    "\n",
    "    policy = tuple(x.requires_grad_(True) for x in pistar)\n",
    "    eret = -policy_loss(policy, dynamics, cost, init)\n",
    "    print(f\"Expected return: {eret} ({eret.dtype})\")\n",
    "    eret.backward()\n",
    "    svg_norm = nn.utils.clip_grad_norm_(policy, max_norm=float(\"inf\"))\n",
    "    print(f\"SVG norm: {svg_norm} ({svg_norm.dtype})\")"
   ]
  },
  {
   "cell_type": "code",
   "execution_count": 18,
   "id": "wrong-undergraduate",
   "metadata": {},
   "outputs": [
    {
     "name": "stdout",
     "output_type": "stream",
     "text": [
      "Optimal expected return: -309.0758056640625 (torch.float32)\n",
      "Expected return: -309.0758056640625 (torch.float32)\n",
      "SVG norm: 0.00048130989307537675 (torch.float32)\n"
     ]
    }
   ],
   "source": [
    "test_optimal()"
   ]
  },
  {
   "cell_type": "markdown",
   "id": "alternative-latino",
   "metadata": {},
   "source": [
    "---\n",
    "## Evaluate cost scaling against each variable\n",
    "\n",
    "### Checklist\n",
    "- [x] Stack several LQGs including init dists\n",
    "- [x] Define range of `n_state`s, `n_ctrl`s, and `horizon`s\n",
    "- [x] Fix initial values of `n_state=2`, `n_ctrl=2`, `horizon=100`\n",
    "- [x] Iterate over one of the ranges, e.g., `horizon`s:\n",
    "  - [x] Generate several LQGs with the current `n_state`, `n_ctrl`, `horizon` and stack them\n",
    "  - [x] Find the optimal solutions (policies) and evaluate the optimal expected returns\n",
    "  - [x] Average the results accross the LQGs generated\n",
    "  - [x] Plot the average against the current `n_state`, `n_ctrl`, `horizon`"
   ]
  },
  {
   "cell_type": "markdown",
   "id": "settled-headline",
   "metadata": {},
   "source": [
    "#### Stacking random LQGs for evaluation"
   ]
  },
  {
   "cell_type": "code",
   "execution_count": 19,
   "id": "floppy-terrorist",
   "metadata": {},
   "outputs": [],
   "source": [
    "def stack_lqgs(*lqgs: tuple[lqr.LinSDynamics, lqr.QuadCost, lqr.GaussInit]) -> tuple[lqr.LinSDynamics, lqr.QuadCost, lqr.GaussInit]:\n",
    "    separated: tuple[list[lqr.LinSDynamics], list[lqr.QuadCost], list[lqr.GaussInit]] = zip(*lqgs)\n",
    "    dyns, costs, inits = separated\n",
    "\n",
    "    def stack_batch(tensors: list[Tensor]) -> Tensor:\n",
    "        return torch.cat([t.align_to(\"H\", \"B\", ...) for t in tensors], dim=\"B\")\n",
    "\n",
    "    Fs, fs, Ws = zip(*dyns)\n",
    "    dynamics = lqr.LinSDynamics(F=stack_batch(Fs), f=stack_batch(fs), W=stack_batch(Ws))\n",
    "\n",
    "    Cs, cs = zip(*costs)\n",
    "    cost = lqr.QuadCost(C=stack_batch(Cs), c=stack_batch(cs))\n",
    "    \n",
    "    mus, sigs = zip(*inits)\n",
    "    init = lqr.GaussInit(mu=stack_batch(mus).squeeze(\"H\"), sig=stack_batch(sigs).squeeze(\"H\"))\n",
    "\n",
    "    return dynamics, cost, init"
   ]
  },
  {
   "cell_type": "code",
   "execution_count": 20,
   "id": "standard-great",
   "metadata": {},
   "outputs": [],
   "source": [
    "def test_stack_lqgs():\n",
    "    lqgs = [sample_lqg(n_state, n_ctrl, horizon) for _ in range(10)]\n",
    "    dynamics, cost, init = stack_lqgs(*lqgs)\n",
    "    print(f\"\"\"\n",
    "        dynamics: \n",
    "            {dynamics.F.shape}; {dynamics.F.names}\n",
    "            {dynamics.f.shape}; {dynamics.f.names}\n",
    "            {dynamics.W.shape}; {dynamics.W.names}\n",
    "            \n",
    "        cost:\n",
    "            {cost.C.shape}; {cost.C.names}\n",
    "            {cost.c.shape}; {cost.c.names}\n",
    "            \n",
    "        init:\n",
    "            {init.mu.shape}; {init.mu.names}\n",
    "            {init.sig.shape}; {init.sig.names}\n",
    "    \"\"\")"
   ]
  },
  {
   "cell_type": "code",
   "execution_count": 21,
   "id": "noted-tractor",
   "metadata": {},
   "outputs": [
    {
     "name": "stdout",
     "output_type": "stream",
     "text": [
      "\n",
      "        dynamics: \n",
      "            torch.Size([100, 10, 2, 4]); ('H', 'B', 'R', 'C')\n",
      "            torch.Size([100, 10, 2]); ('H', 'B', 'R')\n",
      "            torch.Size([100, 10, 2, 2]); ('H', 'B', 'R', 'C')\n",
      "            \n",
      "        cost:\n",
      "            torch.Size([100, 10, 4, 4]); ('H', 'B', 'R', 'C')\n",
      "            torch.Size([100, 10, 4]); ('H', 'B', 'R')\n",
      "            \n",
      "        init:\n",
      "            torch.Size([10, 2]); ('B', 'R')\n",
      "            torch.Size([10, 2, 2]); ('B', 'R', 'C')\n",
      "    \n"
     ]
    }
   ],
   "source": [
    "test_stack_lqgs()"
   ]
  },
  {
   "cell_type": "markdown",
   "id": "thick-anderson",
   "metadata": {},
   "source": [
    "#### Calculating the optimal expected return for a batch of LQGs"
   ]
  },
  {
   "cell_type": "code",
   "execution_count": 22,
   "id": "original-breast",
   "metadata": {},
   "outputs": [],
   "source": [
    "def expected_return(init: lqr.GaussInit, vval: lqr.Quadratic) -> Tensor:\n",
    "    expected_value = ExpectedValue()\n",
    "    expected_cost = expected_value(init, tuple(x.select(\"H\", 0) for x in vval))\n",
    "    return -expected_cost"
   ]
  },
  {
   "cell_type": "code",
   "execution_count": 23,
   "id": "infrared-nevada",
   "metadata": {},
   "outputs": [],
   "source": [
    "@torch.no_grad()\n",
    "def optimal_expected_return_arr(n_state: int, n_ctrl: int, horizon: int, sample_size: int = 100) -> np.ndarray:\n",
    "    lqgs = [sample_lqg(n_state, n_ctrl, horizon) for _ in range(sample_size)]\n",
    "    dynamics, cost, init = stack_lqgs(*lqgs)\n",
    "    pistar, qstar, vstar = get_optimal(dynamics, cost)\n",
    "    eret = expected_return(init, vstar)\n",
    "    return eret.numpy()"
   ]
  },
  {
   "cell_type": "code",
   "execution_count": 24,
   "id": "plain-string",
   "metadata": {},
   "outputs": [],
   "source": [
    "def list_rets_by_lqg_dim(lqg_dims: list[tuple[int, int, int]], **kwargs) -> list[np.ndarray]:\n",
    "    rets = []\n",
    "    for n_state, n_ctrl, horizon in tqdm(lqg_dims, desc=\"Listing returns by LQG dims\"):\n",
    "        eret = optimal_expected_return_arr(n_state, n_ctrl, horizon, **kwargs)\n",
    "        rets += [eret]\n",
    "        \n",
    "    return rets"
   ]
  },
  {
   "cell_type": "markdown",
   "id": "second-guinea",
   "metadata": {},
   "source": [
    "#### Optimal expected return vs. state dimension"
   ]
  },
  {
   "cell_type": "code",
   "execution_count": 25,
   "id": "confused-place",
   "metadata": {
    "jupyter": {
     "source_hidden": true
    }
   },
   "outputs": [
    {
     "data": {
      "application/vnd.jupyter.widget-view+json": {
       "model_id": "cb82ada35ad04332bf7bda5505c1501c",
       "version_major": 2,
       "version_minor": 0
      },
      "text/plain": [
       "Listing returns by LQG dims:   0%|          | 0/10 [00:00<?, ?it/s]"
      ]
     },
     "metadata": {},
     "output_type": "display_data"
    },
    {
     "data": {
      "image/png": "[encoded data removed]",
      "text/plain": [
       "<Figure size 432x288 with 1 Axes>"
      ]
     },
     "metadata": {
      "needs_background": "light"
     },
     "output_type": "display_data"
    }
   ],
   "source": [
    "state_dims = range(1, 11)\n",
    "ctrl_dims = [2] * 10\n",
    "horizons = [100] * 10\n",
    "rets = list_rets_by_lqg_dim(list(zip(state_dims, ctrl_dims, horizons)))\n",
    "\n",
    "x = \"state dim\"; y = \"optimal return mean\"\n",
    "data={x: state_dims, y: [r.mean().item() for r in rets]}\n",
    "ax = sns.lineplot(x=x, y=y, data=data)\n",
    "plt.show()"
   ]
  },
  {
   "cell_type": "markdown",
   "id": "rotary-marathon",
   "metadata": {},
   "source": [
    "#### Optimal expected return vs. control dimension"
   ]
  },
  {
   "cell_type": "code",
   "execution_count": 26,
   "id": "distinguished-review",
   "metadata": {
    "jupyter": {
     "source_hidden": true
    }
   },
   "outputs": [
    {
     "data": {
      "application/vnd.jupyter.widget-view+json": {
       "model_id": "8f87e3687af5419db760b52d37b0cc18",
       "version_major": 2,
       "version_minor": 0
      },
      "text/plain": [
       "Listing returns by LQG dims:   0%|          | 0/10 [00:00<?, ?it/s]"
      ]
     },
     "metadata": {},
     "output_type": "display_data"
    },
    {
     "data": {
      "image/png": "[encoded data removed]",
      "text/plain": [
       "<Figure size 432x288 with 1 Axes>"
      ]
     },
     "metadata": {
      "needs_background": "light"
     },
     "output_type": "display_data"
    }
   ],
   "source": [
    "state_dims = [2] * 10\n",
    "ctrl_dims = range(1, 11)\n",
    "horizons = [100] * 10\n",
    "rets = list_rets_by_lqg_dim(list(zip(state_dims, ctrl_dims, horizons)))\n",
    "\n",
    "x = \"ctrl dim\"; y = \"optimal return mean\"\n",
    "data = {x: ctrl_dims, y: [r.mean().item() for r in rets]}\n",
    "ax = sns.lineplot(x=x, y=y, data=data)\n",
    "plt.show()"
   ]
  },
  {
   "cell_type": "markdown",
   "id": "failing-insight",
   "metadata": {},
   "source": [
    "#### Optimal expected return vs. horizon length"
   ]
  },
  {
   "cell_type": "code",
   "execution_count": 27,
   "id": "portuguese-transparency",
   "metadata": {
    "jupyter": {
     "source_hidden": true
    }
   },
   "outputs": [
    {
     "data": {
      "application/vnd.jupyter.widget-view+json": {
       "model_id": "7d35e6bed9f94b6f8d2f104bb8a2842b",
       "version_major": 2,
       "version_minor": 0
      },
      "text/plain": [
       "Listing returns by LQG dims:   0%|          | 0/10 [00:00<?, ?it/s]"
      ]
     },
     "metadata": {},
     "output_type": "display_data"
    },
    {
     "data": {
      "image/png": "[encoded data removed]",
      "text/plain": [
       "<Figure size 432x288 with 1 Axes>"
      ]
     },
     "metadata": {
      "needs_background": "light"
     },
     "output_type": "display_data"
    }
   ],
   "source": [
    "state_dims = [2] * 10\n",
    "ctrl_dims = [2] * 10\n",
    "horizons = [100 * i for i in range(1, 11)]\n",
    "rets = list_rets_by_lqg_dim(list(zip(state_dims, ctrl_dims, horizons)))\n",
    "\n",
    "x = \"horizon\"; y = \"optimal return mean\"\n",
    "data = {x: horizons, y: [r.mean().item() for r in rets]}\n",
    "ax = sns.lineplot(x=x, y=y, data=data)\n",
    "plt.show()"
   ]
  },
  {
   "cell_type": "markdown",
   "id": "organized-browse",
   "metadata": {},
   "source": [
    "#### Optimal expected return vs. state & control dimension"
   ]
  },
  {
   "cell_type": "code",
   "execution_count": 28,
   "id": "facial-belgium",
   "metadata": {
    "jupyter": {
     "source_hidden": true
    }
   },
   "outputs": [
    {
     "data": {
      "application/vnd.jupyter.widget-view+json": {
       "model_id": "7873b19328434dda98d6247fb4c9cb1f",
       "version_major": 2,
       "version_minor": 0
      },
      "text/plain": [
       "Listing returns by LQG dims:   0%|          | 0/20 [00:00<?, ?it/s]"
      ]
     },
     "metadata": {},
     "output_type": "display_data"
    },
    {
     "data": {
      "image/png": "[encoded data removed]",
      "text/plain": [
       "<Figure size 432x288 with 1 Axes>"
      ]
     },
     "metadata": {
      "needs_background": "light"
     },
     "output_type": "display_data"
    }
   ],
   "source": [
    "state_dims = range(1, 21)\n",
    "ctrl_dims = state_dims\n",
    "horizons = [100] * 20\n",
    "rets = list_rets_by_lqg_dim(list(zip(state_dims, ctrl_dims, horizons)))\n",
    "\n",
    "x = \"state & ctrl dim\"; y = \"optimal return mean\"\n",
    "data = {x: state_dims, y: [r.mean().item() for r in rets]}\n",
    "ax = sns.lineplot(x=x, y=y, data=data)\n",
    "plt.show()"
   ]
  },
  {
   "cell_type": "markdown",
   "id": "demanding-yellow",
   "metadata": {},
   "source": [
    "---\n",
    "## Multivariate analysis of cost scaling\n",
    "\n",
    "### Checklist\n",
    "- [x] Plot the average expected return against two variables, e.g., `n_state` and `n_ctrl`, as a 3D surface plot\n",
    "- [ ] Use the insights gained from observing the cost scaling to propose a _downscaling_ parameter for random QuadCosts\n",
    "- [ ] Use the analysis above to also derive a scale parameter for the random Gaussian noise for policy generation"
   ]
  },
  {
   "cell_type": "code",
   "execution_count": 29,
   "id": "great-tribune",
   "metadata": {},
   "outputs": [],
   "source": [
    "def plot_3d_from_2d_function(ax, xrange: np.ndarray, yrange: np.ndarray, function: callable[[np.ndarray, np.ndarray], np.ndarray]):\n",
    "    length = len(xrange)\n",
    "    xbatch, ybatch = np.meshgrid(xrange, yrange)\n",
    "    assert xbatch.shape == ybatch.shape == (length, length)\n",
    "\n",
    "    x_arr, y_arr = map(lambda x: x.reshape((-1,)), (xbatch, ybatch))\n",
    "    assert x_arr.shape == y_arr.shape == (length ** 2,), f\"expected: {(length ** 2,)}; x_arr: {x_arr.shape}; y_arr {y_arr.shape}\"\n",
    "\n",
    "    z_arr = function(x_arr, y_arr)\n",
    "    assert z_arr.shape == x_arr.shape, f\"{z_arr.shape} != {x_arr.shape}\"\n",
    "    \n",
    "    zbatch = z_arr.reshape(xbatch.shape)\n",
    "    ax.plot_surface(xbatch, ybatch, zbatch, cmap=cm.coolwarm)    "
   ]
  },
  {
   "cell_type": "markdown",
   "id": "satisfied-glenn",
   "metadata": {},
   "source": [
    "### State vs. control dimension with fixed horizon\n",
    "\n",
    "<div class=\"alert alert-block alert-warning\">\n",
    "    <b>Note:</b> we only plot values when control dimensions are at least as large as state dimensions. Having a state dimension much bigger than the control dimension induces very high <b>optimal</b> costs, causing plots to be difficult to read and potential numerical precision errors.\n",
    "</div>\n",
    "\n",
    "#### Best expected return"
   ]
  },
  {
   "cell_type": "code",
   "execution_count": 30,
   "id": "focused-occupation",
   "metadata": {},
   "outputs": [],
   "source": [
    "def optimal_expected_return_matrix(state_dim_arr: np.ndarray, ctrl_dim_arr: np.ndarray) -> np.ndarray:\n",
    "    horizon = 100\n",
    "    sample_size = 100\n",
    "\n",
    "    exp_ret_arrs = []\n",
    "    for n_state, n_ctrl in tqdm(zip(state_dim_arr, ctrl_dim_arr), total=len(ctrl_dim_arr)):\n",
    "        if n_ctrl >= n_state:\n",
    "            arr = optimal_expected_return_arr(n_state, n_ctrl, horizon, sample_size=sample_size)\n",
    "        else:\n",
    "            arr = np.full((sample_size,), fill_value=np.nan)\n",
    "        exp_ret_arrs += [arr]\n",
    "\n",
    "    exp_ret_mat = np.vstack(exp_ret_arrs)\n",
    "    return exp_ret_mat"
   ]
  },
  {
   "cell_type": "code",
   "execution_count": 31,
   "id": "solid-jacksonville",
   "metadata": {},
   "outputs": [],
   "source": [
    "def average_optimal_expected_return(state_dim_arr: np.ndarray, ctrl_dim_arr: np.ndarray) -> np.ndarray:\n",
    "    z_arr = optimal_expected_return_matrix(state_dim_arr, ctrl_dim_arr).mean(axis=-1) \n",
    "    # Filtering NaNs\n",
    "    z_arr = np.nan_to_num(z_arr, nan=np.nanmin(z_arr))\n",
    "    return z_arr"
   ]
  },
  {
   "cell_type": "code",
   "execution_count": 32,
   "id": "bronze-scottish",
   "metadata": {},
   "outputs": [
    {
     "data": {
      "application/vnd.jupyter.widget-view+json": {
       "model_id": "cb097ae181df4bf1bdcddbd16bba52a3",
       "version_major": 2,
       "version_minor": 0
      },
      "text/plain": [
       "  0%|          | 0/100 [00:00<?, ?it/s]"
      ]
     },
     "metadata": {},
     "output_type": "display_data"
    },
    {
     "data": {
      "image/png": "[encoded data removed]",
      "text/plain": [
       "<Figure size 432x288 with 1 Axes>"
      ]
     },
     "metadata": {
      "needs_background": "light"
     },
     "output_type": "display_data"
    }
   ],
   "source": [
    "fig = plt.figure()\n",
    "ax = fig.add_subplot(projection=\"3d\")\n",
    "plot_3d_from_2d_function(\n",
    "    ax, \n",
    "    xrange=np.arange(1, 11),\n",
    "    yrange=np.arange(1, 11),\n",
    "    function=average_optimal_expected_return,\n",
    ")\n",
    "ax.set_xlabel(\"state dim\")\n",
    "ax.set_ylabel(\"ctrl dim\")\n",
    "ax.set_title(\"average best performance\")\n",
    "plt.show()"
   ]
  },
  {
   "cell_type": "markdown",
   "id": "comic-token",
   "metadata": {},
   "source": [
    "#### Expected return from random policy"
   ]
  },
  {
   "cell_type": "code",
   "execution_count": null,
   "id": "central-missile",
   "metadata": {},
   "outputs": [],
   "source": []
  }
 ],
 "metadata": {
  "kernelspec": {
   "display_name": "Python 3",
   "language": "python",
   "name": "python3"
  },
  "language_info": {
   "codemirror_mode": {
    "name": "ipython",
    "version": 3
   },
   "file_extension": ".py",
   "mimetype": "text/x-python",
   "name": "python",
   "nbconvert_exporter": "python",
   "pygments_lexer": "ipython3",
   "version": "3.8.2"
  }
 },
 "nbformat": 4,
 "nbformat_minor": 5
}
