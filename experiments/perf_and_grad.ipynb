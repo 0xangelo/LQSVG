{
 "cells": [
  {
   "cell_type": "markdown",
   "id": "under-operation",
   "metadata": {},
   "source": [
    "# Ground-truth performance and gradient norms\n",
    "\n",
    "This notebook inspects the initialization schemes for LQGs and time-varying linear policies described in section 5.1 of the [paper](https://www.overleaf.com/read/cmbgmxxpxqzr).\n",
    "\n",
    "### Checklist\n",
    "\n",
    "- [x] Fix `n_state`, `n_ctrl`, `horizon`\n",
    "- [x] Sample random LQGs\n",
    "- [x] Sample random policies\n",
    "- [x] Evaluate the expected return\n",
    "- [x] Evaluate the value gradient norm\n",
    "- [x] Search numpy, scipy for methods for visualizing the distributions"
   ]
  },
  {
   "cell_type": "markdown",
   "id": "atmospheric-partition",
   "metadata": {},
   "source": [
    "---\n",
    "## Linear Quadratic Gaussian (LQG) Problems\n",
    "In what follows we consider MDPs with:\n",
    "1. continuous state space $\\mathbf{s} \\in \\mathcal{S} = \\mathbb{R}^n$\n",
    "2. continuous action space $\\mathbf{a} \\in \\mathcal{A} = \\mathbb{R}^d$\n",
    "3. finite time horizon $N \\in \\mathbb{N}$ and timesteps $t \\in \\mathcal{T} = \\{0, \\dots, N - 1\\}$\n",
    "4. time-varying linear Gaussian dynamics \n",
    "    $$\n",
    "    \\mathbf{s}_{t+1} \\sim p(\\cdot| \\mathbf{s}_t, \\mathbf{a}_t) = \\mathcal{N}\\left( \\cdot ~\\middle|~ \\mathbf{F}_t \\begin{bmatrix}\\mathbf{s}_t \\\\ \\mathbf{a}_t\\end{bmatrix} + \\mathbf{f}_t, \\mathbf{\\Sigma}_{t} \\right)\n",
    "    $$\n",
    "5. time-varying quadratic costs \n",
    "    $$\n",
    "    r_{t+1} = R(\\mathbf{s}_t, \\mathbf{a}_t) = - \\tfrac{1}{2} \\begin{bmatrix}\\mathbf{s}_t \\\\ \\mathbf{a}_t\\end{bmatrix}^\\intercal \\mathbf{C}_t \\begin{bmatrix}\\mathbf{s}_t \\\\ \\mathbf{a}_t\\end{bmatrix} - \\mathbf{c}_t^\\intercal \\begin{bmatrix}\\mathbf{s}_t \\\\ \\mathbf{a}_t\\end{bmatrix}\n",
    "    $$\n",
    "6. Gaussian-distributed initial state \n",
    "    $$\n",
    "    \\mathbf{s}_0 \\sim \\rho = \\mathcal{N}(\\mathbf{\\mu}_\\rho, \\mathbf{\\Sigma}_\\rho)\n",
    "    $$"
   ]
  },
  {
   "cell_type": "markdown",
   "id": "curious-assault",
   "metadata": {},
   "source": [
    "### Imports"
   ]
  },
  {
   "cell_type": "code",
   "execution_count": 1,
   "id": "cognitive-hunter",
   "metadata": {},
   "outputs": [],
   "source": [
    "%matplotlib inline\n",
    "from __future__ import annotations\n",
    "\n",
    "import textwrap\n",
    "import warnings\n",
    "from functools import partial\n",
    "from typing import Callable, Optional\n",
    "\n",
    "import lqsvg.envs.lqr.utils as utils\n",
    "import lqsvg.torch.named as nt\n",
    "import matplotlib.pyplot as plt\n",
    "import numpy as np\n",
    "import pandas as pd\n",
    "import seaborn as sns\n",
    "import torch\n",
    "import torch.nn as nn\n",
    "import lqsvg.policy.modules.utils as piutil\n",
    "from lqsvg.envs import lqr\n",
    "from lqsvg.envs.lqr.gym import LQGGenerator\n",
    "from lqsvg.experiment.models import ExpectedValue, PolicyLoss\n",
    "from lqsvg.experiment.utils import linear_feedback_distance, linear_feedback_norm\n",
    "from matplotlib import cm\n",
    "from mpl_toolkits.mplot3d import Axes3D\n",
    "from scipy.signal import place_poles\n",
    "from scipy.stats import ortho_group\n",
    "from torch import Tensor\n",
    "from tqdm.notebook import tqdm\n",
    "\n",
    "sns.set()"
   ]
  },
  {
   "cell_type": "markdown",
   "id": "killing-ready",
   "metadata": {},
   "source": [
    "---\n",
    "## Task selection protocol\n",
    "\n",
    "$$\n",
    "    \\{ \\mathbf{F}_t, \\mathbf{f}_t, \\mathbf{\\Sigma}_t, \\mathbf{C}_t, \\mathbf{c}_t  \\}_{t\\in\\mathcal{T}} \\sim \\text{LQGDist}(\\texttt{n_state, n_ctrl, horizon}) \\\\\n",
    "    \\mathbf{\\mu}_\\rho = \\mathbf{0}, \\quad \\mathbf{\\Sigma}_{\\rho} = \\mathbf{I} \\\\\n",
    "    \\mathcal{M} = \\{ \\mathbf{F}_t, \\mathbf{f}_t, \\mathbf{\\Sigma}_t, \\mathbf{C}_t, \\mathbf{c}_t  \\}_{t\\in\\mathcal{T}} \\cup \\{ \\mathbf{\\mu}_\\rho, \\mathbf{\\Sigma}_\\rho \\}\n",
    "$$"
   ]
  },
  {
   "cell_type": "markdown",
   "id": "administrative-mistress",
   "metadata": {},
   "source": [
    "### LQG generation defaults\n",
    "\n",
    "- stationary ($\\mathbf{F}_t, \\mathbf{f}_t, \\mathbf{\\Sigma}_t, \\mathbf{C}_t, \\mathbf{c}_t = \\mathbf{F}, \\mathbf{f}, \\mathbf{\\Sigma}, \\mathbf{C}, \\mathbf{c}$)\n",
    "- passive dynamics eigenvalue norm in $\\mathcal{U}(0.5, 1.5)$\n",
    "  - $\\mathbf{F_s} = \\mathbf{W}\\text{diag}(\\lambda_1, \\dots, \\lambda_n)\\mathbf{W}^{-1}$\n",
    "  - $|\\lambda_i| \\in [0.5, 1.5], \\forall i \\in \\{1, \\dots, n\\}$\n",
    "  - i.e., the passive dynamics may be **unstable**\n",
    "- **controllable**\n",
    "- no transition bias ($\\mathbf{f} = \\mathbf{0}$)\n",
    "- unit transition covariance ($\\mathbf{\\Sigma} = \\mathbf{I}$)\n",
    "- unit initial state covariance ($\\mathbf{\\Sigma}_\\rho = \\mathbf{I}$)\n",
    "- no linear cost term ($\\mathbf{c} = \\mathbf{0}$)\n",
    "- no state-action cross terms ($\\mathbf{C_{sa}, C_{as}} = \\mathbf{0, 0}$)"
   ]
  },
  {
   "cell_type": "code",
   "execution_count": 2,
   "id": "aging-acrobat",
   "metadata": {},
   "outputs": [],
   "source": [
    "generator = LQGGenerator(\n",
    "    n_state=2,\n",
    "    n_ctrl=2,\n",
    "    horizon=20,\n",
    "    stationary=True,\n",
    "    passive_eigval_range=(0.5, 1.5),\n",
    "    controllable=True,\n",
    "    transition_bias=False,\n",
    "    rand_trans_cov=False,\n",
    "    rand_init_cov=False,\n",
    "    cost_linear=False,\n",
    "    cost_cross=False,\n",
    ")\n",
    "\n",
    "\n",
    "def sample_lqg(\n",
    "    n_state: int, n_ctrl: int, horizon: int, n_batch: Optional[int] = None\n",
    ") -> tuple[lqr.LinSDynamics, lqr.QuadCost, lqr.GaussInit]:\n",
    "    with generator.config(n_state=n_state, n_ctrl=n_ctrl, horizon=horizon):\n",
    "        return generator(n_batch)"
   ]
  },
  {
   "cell_type": "code",
   "execution_count": 3,
   "id": "preliminary-guard",
   "metadata": {
    "tags": []
   },
   "outputs": [],
   "source": [
    "def print_lqg(dynamics, cost, init):\n",
    "    msg = f\"\"\"\\\n",
    "        dynamics:\n",
    "            F: {dynamics.F.shape}; {dynamics.F.names}; min={dynamics.F.min()}; max={dynamics.F.max()}\n",
    "            f: {dynamics.f.shape}; {dynamics.f.names}; min={dynamics.f.min()}; max={dynamics.f.max()}\n",
    "            Sig: {dynamics.W.shape}; {dynamics.W.names}\n",
    "        cost:\n",
    "            C: {cost.C.shape}; {cost.C.names}            \n",
    "            c: {cost.c.shape}; {cost.c.names}\n",
    "        init:\n",
    "            mu: {init.mu.shape}; {init.mu.names}            \n",
    "            sig: {init.sig.shape}; {init.sig.names}\\\n",
    "        \"\"\"\n",
    "    print(textwrap.dedent(msg))\n",
    "    if \"B\" not in cost.C.names:\n",
    "        print(\"C_0:\")\n",
    "        print(textwrap.indent(str(cost.C.select(\"H\", 0).numpy()), \" \" * 4))\n",
    "\n",
    "\n",
    "def test_sample_lqg(n_batch=None):\n",
    "    with warnings.catch_warnings():\n",
    "        warnings.filterwarnings(\"ignore\", message=\".*Named tensors.*\", module=\"torch\")\n",
    "        dynamics, cost, init = sample_lqg(\n",
    "            n_state=2, n_ctrl=2, horizon=100, n_batch=n_batch\n",
    "        )\n",
    "    assert isinstance(dynamics, lqr.LinSDynamics)\n",
    "    assert isinstance(cost, lqr.QuadCost)\n",
    "    assert isinstance(init, lqr.GaussInit)\n",
    "    print_lqg(dynamics, cost, init)\n",
    "\n",
    "\n",
    "def test_batch_lqgs():\n",
    "    test_sample_lqg(n_batch=10)"
   ]
  },
  {
   "cell_type": "code",
   "execution_count": 4,
   "id": "unexpected-damages",
   "metadata": {},
   "outputs": [
    {
     "name": "stdout",
     "output_type": "stream",
     "text": [
      "dynamics:\n",
      "    F: torch.Size([100, 2, 4]); ('H', 'R', 'C'); min=-0.8043012022972107; max=1.188770055770874\n",
      "    f: torch.Size([100, 2]); ('H', 'R'); min=0.0; max=0.0\n",
      "    Sig: torch.Size([100, 2, 2]); ('H', 'R', 'C')\n",
      "cost:\n",
      "    C: torch.Size([100, 4, 4]); ('H', 'R', 'C')            \n",
      "    c: torch.Size([100, 4]); ('H', 'R')\n",
      "init:\n",
      "    mu: torch.Size([2]); ('R',)            \n",
      "    sig: torch.Size([2, 2]); ('R', 'C')        \n",
      "C_0:\n",
      "    [[ 0.8659829  -0.46889842  0.          0.        ]\n",
      "     [-0.46889842  1.2472463   0.          0.        ]\n",
      "     [ 0.          0.          2.7892425   1.3949158 ]\n",
      "     [ 0.          0.          1.3949158   1.5910208 ]]\n"
     ]
    }
   ],
   "source": [
    "test_sample_lqg()"
   ]
  },
  {
   "cell_type": "code",
   "execution_count": 5,
   "id": "permanent-effects",
   "metadata": {},
   "outputs": [
    {
     "name": "stdout",
     "output_type": "stream",
     "text": [
      "dynamics:\n",
      "    F: torch.Size([100, 10, 2, 4]); ('H', 'B', 'R', 'C'); min=-1.3288662433624268; max=1.2693206071853638\n",
      "    f: torch.Size([100, 10, 2]); ('H', 'B', 'R'); min=0.0; max=0.0\n",
      "    Sig: torch.Size([100, 10, 2, 2]); ('H', 'B', 'R', 'C')\n",
      "cost:\n",
      "    C: torch.Size([100, 10, 4, 4]); ('H', 'B', 'R', 'C')            \n",
      "    c: torch.Size([100, 10, 4]); ('H', 'B', 'R')\n",
      "init:\n",
      "    mu: torch.Size([10, 2]); ('B', 'R')            \n",
      "    sig: torch.Size([10, 2, 2]); ('B', 'R', 'C')        \n"
     ]
    }
   ],
   "source": [
    "test_batch_lqgs()"
   ]
  },
  {
   "cell_type": "markdown",
   "id": "elder-example",
   "metadata": {},
   "source": [
    "---\n",
    "## Policy selection protocol\n",
    "\n",
    "In the following we define how to construct time-varying linear deterministic policies.\n",
    "$$\n",
    "    \\mu_\\theta(\\mathbf{s}) = \\mathbf{a} \\\\\n",
    "    \\theta = \\{ \\mathbf{K}_t, \\mathbf{k}_t \\}_{t\\in\\mathcal{T}}\n",
    "$$"
   ]
  },
  {
   "cell_type": "markdown",
   "id": "opposed-sunglasses",
   "metadata": {},
   "source": [
    "### Optimal policies\n",
    "\n",
    "The following code computes the optimal policy parameters $\\{\\mathbf{K}_t^\\star, \\mathbf{k}_t^\\star\\}_{t\\in\\mathcal{T}}$ for a given LQG."
   ]
  },
  {
   "cell_type": "code",
   "execution_count": 6,
   "id": "focused-environment",
   "metadata": {},
   "outputs": [],
   "source": [
    "def solution(\n",
    "    dynamics: lqr.LinSDynamics, cost: lqr.QuadCost\n",
    ") -> tuple[lqr.Linear, lqr.Quadratic, lqr.Quadratic]:\n",
    "    n_state, n_ctrl, horizon = lqr.dims_from_dynamics(dynamics)\n",
    "    solver = lqr.NamedLQGControl(n_state, n_ctrl, horizon)\n",
    "    pistar, qstar, vstar = solver(dynamics, cost)\n",
    "    return pistar, qstar, vstar\n",
    "\n",
    "\n",
    "def optimal_policy(dynamics: lqr.LinSDynamics, cost: lqr.QuadCost) -> lqr.Linear:\n",
    "    pistar, _, _ = solution(dynamics, cost)\n",
    "    K, k = pistar\n",
    "    pistar = (K.refine_names(*dynamics.F.names), k.refine_names(*dynamics.f.names))\n",
    "    return pistar"
   ]
  },
  {
   "cell_type": "code",
   "execution_count": 7,
   "id": "reflected-whale",
   "metadata": {
    "tags": []
   },
   "outputs": [],
   "source": [
    "def print_policy(policy: lqr.Linear):\n",
    "    K, k = policy\n",
    "    print(\n",
    "        f\"\"\"\n",
    "        K: {K.shape}; {K.names}\n",
    "        k: {k.shape}; {k.names}\n",
    "    \"\"\"\n",
    "    )\n",
    "\n",
    "\n",
    "def test_optimal_policy():\n",
    "    dynamics, cost, _ = sample_lqg(n_state=2, n_ctrl=2, horizon=100, n_batch=10)\n",
    "    print_policy(optimal_policy(dynamics, cost))"
   ]
  },
  {
   "cell_type": "code",
   "execution_count": 8,
   "id": "motivated-sunrise",
   "metadata": {},
   "outputs": [
    {
     "name": "stdout",
     "output_type": "stream",
     "text": [
      "\n",
      "        K: torch.Size([100, 10, 2, 2]); ('H', 'B', 'R', 'C')\n",
      "        k: torch.Size([100, 10, 2]); ('H', 'B', 'R')\n",
      "    \n"
     ]
    }
   ],
   "source": [
    "test_optimal_policy()"
   ]
  },
  {
   "cell_type": "markdown",
   "id": "bearing-pathology",
   "metadata": {},
   "source": [
    "### Policies that stabilize systems\n",
    "\n",
    "The following code tests computing a gain matrix $\\mathbf{K}$ such that the closed loop system\n",
    "$$\n",
    "    \\mathbf{s}' = \\left(\\mathbf{F_s - F_aK} \\right)\\mathbf{s}\n",
    "$$\n",
    "has eigenvalues $\\lambda_i$ such that $|\\lambda_i| < 1$, i.e., $\\mathbf{K}$ _stabilizes_ the system."
   ]
  },
  {
   "cell_type": "code",
   "execution_count": 9,
   "id": "exempt-botswana",
   "metadata": {
    "tags": []
   },
   "outputs": [],
   "source": [
    "def test_pole_placement(print_closed_loop_poles: bool = False):\n",
    "    with generator.config(\n",
    "        n_state=3, n_ctrl=2, passive_eigval_range=(0.5, 1.5), controllable=True\n",
    "    ):\n",
    "        dynamics = generator.make_dynamics()\n",
    "        A, B = utils.stationary_dynamics_factors(dynamics)\n",
    "        A, B = A.numpy(), B.numpy()\n",
    "        passive_poles, _ = np.linalg.eig(A)\n",
    "\n",
    "        res = piutil.place_dynamics_poles(A, B)\n",
    "\n",
    "    print(\"Passive poles:\")\n",
    "    print(passive_poles)\n",
    "    print(\"K:\")\n",
    "    print(res.gain_matrix)\n",
    "    print(\"Computed poles:\")\n",
    "    print(res.computed_poles)\n",
    "    print(\"Requested poles:\")\n",
    "    print(res.requested_poles)\n",
    "    #     print(\"X:\")\n",
    "    #     print(res.X)\n",
    "    print(\"rtol:\")\n",
    "    print(res.rtol)\n",
    "    print(\"nb iter:\")\n",
    "    print(res.nb_iter)\n",
    "\n",
    "    if print_closed_loop_poles:\n",
    "        print(np.linalg.eig(A - B @ res.gain_matrix)[0])"
   ]
  },
  {
   "cell_type": "code",
   "execution_count": 10,
   "id": "civilian-point",
   "metadata": {},
   "outputs": [
    {
     "name": "stdout",
     "output_type": "stream",
     "text": [
      "Passive poles:\n",
      "[1.3341658  0.82867134 0.6318681 ]\n",
      "K:\n",
      "[[ 2.18114186 -0.60347699  0.01497912]\n",
      " [-4.95376369  0.00566371  1.15573705]]\n",
      "Computed poles:\n",
      "[-0.87512498  0.14585415  0.31768235]\n",
      "Requested poles:\n",
      "[-0.87512488  0.14585415  0.31768232]\n",
      "rtol:\n",
      "0.9988376124176724\n",
      "nb iter:\n",
      "1\n"
     ]
    }
   ],
   "source": [
    "test_pole_placement()"
   ]
  },
  {
   "cell_type": "markdown",
   "id": "alert-marine",
   "metadata": {},
   "source": [
    "### Random policies\n",
    "\n",
    "The following code defines how to generate _random_ policies that _stabilize_ a given LQG.\n",
    "$$\n",
    "    \\mathcal{M} \\sim \\text{LQGDist}(\\texttt{n_state, n_ctrl, horizon}) \\\\\n",
    "    \\{\\mathbf{K}_t, \\mathbf{k}_t\\} \\sim \\text{PiDist}(\\mathcal{M}) \\\\\n",
    "    \\text{s.t. } \\mathbf{K}_t \\text{ stabilizes the LQG } \\mathcal{M}\n",
    "$$"
   ]
  },
  {
   "cell_type": "code",
   "execution_count": 14,
   "id": "superb-spirituality",
   "metadata": {},
   "outputs": [],
   "source": [
    "def split_dynamics_along_batch(dynamics: lqr.LinSDynamics) -> list[lqr.LinSDynamics]:\n",
    "    Fs, fs, Ws = map(lambda x: nt.split(x, 1, dim=\"B\"), dynamics)\n",
    "    return [lqr.LinSDynamics(F=F, f=f, W=W) for F, f, W in zip(Fs, fs, Ws)]\n",
    "\n",
    "\n",
    "def squeeze_dynamics_batch(dynamics: lqr.LinSDynamics) -> lqr.LinSDynamics:\n",
    "    F, f, W = (x.squeeze(\"B\") for x in dynamics)\n",
    "    return lqr.LinSDynamics(F=F, f=f, W=W)\n",
    "\n",
    "\n",
    "@torch.no_grad()\n",
    "def sample_policy(dynamics: lqr.LinSDynamics, cost: lqr.QuadCost) -> lqr.Linear:\n",
    "    assert utils.isstationary(dynamics)\n",
    "    del cost\n",
    "\n",
    "    if \"B\" in dynamics.F.names:\n",
    "        policies = [\n",
    "            piutil.stabilizing_policy(squeeze_dynamics_batch(d))\n",
    "            for d in split_dynamics_along_batch(dynamics)\n",
    "        ]\n",
    "        Ks, ks = zip(*policies)\n",
    "        K = torch.cat([t.align_to(\"H\", \"B\", ...) for t in Ks], dim=\"B\")\n",
    "        k = torch.cat([t.align_to(\"H\", \"B\", ...) for t in ks], dim=\"B\")\n",
    "        policy = (K, k)\n",
    "    else:\n",
    "        policy = piutil.stabilizing_policy(dynamics)\n",
    "\n",
    "    return policy"
   ]
  },
  {
   "cell_type": "code",
   "execution_count": 15,
   "id": "personalized-innocent",
   "metadata": {
    "tags": []
   },
   "outputs": [],
   "source": [
    "def test_sample_policy():\n",
    "    dynamics, cost, _ = sample_lqg(n_state=3, n_ctrl=2, horizon=100, n_batch=10)\n",
    "    print_policy(sample_policy(dynamics, cost))"
   ]
  },
  {
   "cell_type": "code",
   "execution_count": 16,
   "id": "capable-amplifier",
   "metadata": {},
   "outputs": [
    {
     "name": "stdout",
     "output_type": "stream",
     "text": [
      "\n",
      "        K: torch.Size([100, 10, 2, 3]); ('H', 'B', 'R', 'C')\n",
      "        k: torch.Size([100, 10, 2]); ('H', 'B', 'R')\n",
      "    \n"
     ]
    }
   ],
   "source": [
    "test_sample_policy()"
   ]
  },
  {
   "cell_type": "markdown",
   "id": "binary-briefs",
   "metadata": {},
   "source": [
    "We check the distance (L2 norm of the difference) between the random stabilizing parameters and the optimal policy parameters."
   ]
  },
  {
   "cell_type": "code",
   "execution_count": 17,
   "id": "metallic-burns",
   "metadata": {},
   "outputs": [],
   "source": [
    "def policy_distance(policy_a: lqr.Linear, policy_b: lqr.Linear) -> Tensor:\n",
    "    return linear_feedback_distance(policy_a, policy_b)"
   ]
  },
  {
   "cell_type": "code",
   "execution_count": 18,
   "id": "funky-peoples",
   "metadata": {
    "tags": []
   },
   "outputs": [],
   "source": [
    "def test_policy_distance():\n",
    "    dynamics, cost, _ = sample_lqg(n_state=10, n_ctrl=10, horizon=100, n_batch=10)\n",
    "    optimal = optimal_policy(dynamics, cost)\n",
    "    random = sample_policy(dynamics, cost)\n",
    "    distance = policy_distance(optimal, random)\n",
    "    print(\n",
    "        f\"\"\"\\\n",
    "    Policy distances: \n",
    "        {distance}, \n",
    "        {distance.shape}\\\n",
    "    \"\"\"\n",
    "    )"
   ]
  },
  {
   "cell_type": "code",
   "execution_count": 19,
   "id": "superb-canyon",
   "metadata": {},
   "outputs": [
    {
     "name": "stdout",
     "output_type": "stream",
     "text": [
      "    Policy distances: \n",
      "        tensor([ 125.9808,   89.1218, 2906.6990, 1430.7186,  160.0299, 1392.1945,\n",
      "         341.4962,  128.2640,   59.9983,  299.1839]), \n",
      "        torch.Size([10])    \n"
     ]
    }
   ],
   "source": [
    "test_policy_distance()"
   ]
  },
  {
   "cell_type": "markdown",
   "id": "conceptual-conservative",
   "metadata": {},
   "source": [
    "We see that stabilizing the system is not sufficient, as the distance to the optimal policy is quite large."
   ]
  },
  {
   "cell_type": "markdown",
   "id": "fallen-basics",
   "metadata": {},
   "source": [
    "---\n",
    "## Ground-truth policy performance\n",
    "\n",
    "<center><b>Sampling</b></center>\n",
    "$$\n",
    "    \\mathcal{M} \\sim \\text{LQGDist}(\\texttt{n_state, n_ctrl, horizon}) \\\\\n",
    "    \\theta = \\{ \\mathbf{K}_t, \\mathbf{k}_t \\}_{t\\in\\mathcal{T}} \\sim \\text{PiDist}(\\mathcal{M})\n",
    "$$\n",
    "<br>\n",
    "\n",
    "<center><b>Prediction</b></center>\n",
    "<!-- LQG prediction can be seen as a function mapping policy parameters (with the dynamics kept constant) to value function coefficients: -->\n",
    "$$\n",
    "\\left( \\mathbf{Q}, \\mathbf{q}, q, \\mathbf{V}, \\mathbf{v}, v \\right) = \\text{LQGPrediction}(\\theta) \\\\\n",
    "V^\\mu(\\mathbf{s}, t) = -\\tfrac12 \\mathbf{s}^\\intercal \\mathbf{V}_t(\\theta) \\mathbf{s} - \\mathbf{v}_t(\\theta)^\\intercal \\mathbf{s} - v_t(\\theta)\n",
    "$$\n",
    "<br>\n",
    "\n",
    "<center><b>Performance</b></center>\n",
    "<!-- We can then express policy performance as a direct function of policy parameters: -->\n",
    "$$\n",
    "\\begin{align}\n",
    "J(\\theta) \n",
    "    &= -\\mathbb{E}_{\\mathbf{s}\\sim\\rho} \\left[ \\tfrac12 \\mathbf{s}^\\intercal \\mathbf{V}_0(\\theta) \\mathbf{s} + \\mathbf{v}_0(\\theta)^\\intercal \\mathbf{s} + v_0(\\theta) \\right] \\\\\n",
    "    &= -\\text{Tr}(\\mathbf{V}_0(\\theta)\\mathbf{\\Sigma}_0) - \\mathbf{\\mu}_0^\\intercal \\mathbf{V}_0(\\theta) \\mathbf{\\mu}_0 - \\mathbf{v}_0(\\theta)^\\intercal \\mathbf{\\mu}_0 - v_0(\\theta)\n",
    "\\end{align}\n",
    "$$"
   ]
  },
  {
   "cell_type": "code",
   "execution_count": 20,
   "id": "automatic-presentation",
   "metadata": {},
   "outputs": [],
   "source": [
    "def policy_loss(\n",
    "    policy: lqr.Linear,\n",
    "    dynamics: lqr.LinSDynamics,\n",
    "    cost: lqr.QuadCost,\n",
    "    init: lqr.GaussInit,\n",
    ") -> Tensor:\n",
    "    n_state, n_ctrl, horizon = lqr.dims_from_dynamics(dynamics)\n",
    "    loss_fn = PolicyLoss(n_state, n_ctrl, horizon)\n",
    "    loss = loss_fn(policy, dynamics, cost, init)\n",
    "    return loss\n",
    "\n",
    "\n",
    "def policy_performance(\n",
    "    policy: lqr.Linear,\n",
    "    dynamics: lqr.LinSDynamics,\n",
    "    cost: lqr.QuadCost,\n",
    "    init: lqr.GaussInit,\n",
    ") -> Tensor:\n",
    "    return -policy_loss(policy, dynamics, cost, init)"
   ]
  },
  {
   "cell_type": "code",
   "execution_count": 21,
   "id": "weird-president",
   "metadata": {
    "tags": []
   },
   "outputs": [],
   "source": [
    "def test_policy_loss():\n",
    "    dynamics, cost, init = sample_lqg(n_state=2, n_ctrl=2, horizon=20, n_batch=10)\n",
    "    policy = sample_policy(dynamics, cost)\n",
    "    loss = policy_loss(policy, dynamics, cost, init)\n",
    "    print(\n",
    "        f\"\"\"\\\n",
    "    Loss: \n",
    "        {loss}, \n",
    "        ({loss.dtype}), \n",
    "        ({loss.shape}); \n",
    "    ExpectedReturn: \n",
    "        {-loss}, \n",
    "        ({(-loss).dtype}), \n",
    "        ({loss.shape})\\\n",
    "    \"\"\"\n",
    "    )"
   ]
  },
  {
   "cell_type": "code",
   "execution_count": 22,
   "id": "objective-ethnic",
   "metadata": {},
   "outputs": [
    {
     "name": "stdout",
     "output_type": "stream",
     "text": [
      "    Loss: \n",
      "        tensor([114.7378,  51.3233,  69.3044, 854.7533,  87.3046,  94.0544, 159.1532,\n",
      "        838.1038,  70.9906, 622.0735], names=('B',)), \n",
      "        (torch.float32), \n",
      "        (torch.Size([10])); \n",
      "    ExpectedReturn: \n",
      "        tensor([-114.7378,  -51.3233,  -69.3044, -854.7533,  -87.3046,  -94.0544,\n",
      "        -159.1532, -838.1038,  -70.9906, -622.0735], names=('B',)), \n",
      "        (torch.float32), \n",
      "        (torch.Size([10]))    \n"
     ]
    }
   ],
   "source": [
    "test_policy_loss()"
   ]
  },
  {
   "cell_type": "markdown",
   "id": "moving-navigation",
   "metadata": {},
   "source": [
    "---\n",
    "## Ground-truth value gradient norm\n",
    "\n",
    "1. **Sampling**$\\rightarrow \\mathcal{M}, \\theta$; \n",
    "2. **Prediction**$\\rightarrow \\left( \\mathbf{Q}, \\mathbf{q}, q, \\mathbf{V}, \\mathbf{v}, v \\right)$; \n",
    "3. **Performance**$\\rightarrow J(\\theta)$;\n",
    "4. **SVG norm**$\\rightarrow \\| \\nabla J(\\theta) \\|$."
   ]
  },
  {
   "cell_type": "code",
   "execution_count": 23,
   "id": "published-headset",
   "metadata": {},
   "outputs": [],
   "source": [
    "def compute_batched_svg_norm(exp_ret: Tensor, policy: lqr.Linear) -> Tensor:\n",
    "    for x in policy:\n",
    "        x.grad = None\n",
    "    exp_ret.sum().backward()\n",
    "\n",
    "    K_grad, k_grad = (x.grad.detach() for x in policy)\n",
    "    return linear_feedback_norm((K_grad, k_grad))\n",
    "\n",
    "\n",
    "def policy_svg_norm(\n",
    "    policy: lqr.Linear,\n",
    "    dynamics: lqr.LinSDynamics,\n",
    "    cost: lqr.QuadCost,\n",
    "    init: lqr.GaussInit,\n",
    ") -> tuple[Tensor, Tensor]:\n",
    "    eret = policy_performance(policy, dynamics, cost, init)\n",
    "    svg_norm = compute_batched_svg_norm(eret, policy)\n",
    "    return eret, svg_norm"
   ]
  },
  {
   "cell_type": "code",
   "execution_count": 24,
   "id": "stunning-method",
   "metadata": {
    "tags": []
   },
   "outputs": [],
   "source": [
    "def test_random_policy_svg():\n",
    "    dynamics, cost, init = sample_lqg(n_state=2, n_ctrl=2, horizon=20, n_batch=10)\n",
    "    policy = tuple(x.requires_grad_(True) for x in sample_policy(dynamics, cost))\n",
    "    eret, svg_norm = policy_svg_norm(policy, dynamics, cost, init)\n",
    "    print(\n",
    "        f\"\"\"\\\n",
    "    Expected return: \n",
    "        {eret},\n",
    "        ({eret.dtype},\n",
    "        {eret.shape})\"\"\"\n",
    "    )\n",
    "    print(\n",
    "        f\"\"\"\\\n",
    "    SVG norm: \n",
    "        {svg_norm},\n",
    "        ({svg_norm.dtype},\n",
    "        {svg_norm.shape})\"\"\"\n",
    "    )"
   ]
  },
  {
   "cell_type": "code",
   "execution_count": 25,
   "id": "usual-excuse",
   "metadata": {},
   "outputs": [
    {
     "name": "stdout",
     "output_type": "stream",
     "text": [
      "    Expected return: \n",
      "        tensor([-1671.3414,   -91.8087,   -61.5090,  -260.9125, -3519.0391,  -137.1133,\n",
      "          -79.6823,  -108.1961,  -818.4357,  -810.4771], grad_fn=<NegBackward>,\n",
      "       names=('B',)),\n",
      "        (torch.float32,\n",
      "        torch.Size([10]))\n",
      "    SVG norm: \n",
      "        tensor([ 560.0662,   41.8142,   12.5600,   82.7433, 1005.6978,  133.2568,\n",
      "           7.1899,  244.2206,  192.3907,  626.4798]),\n",
      "        (torch.float32,\n",
      "        torch.Size([10]))\n"
     ]
    }
   ],
   "source": [
    "test_random_policy_svg()"
   ]
  },
  {
   "cell_type": "code",
   "execution_count": 26,
   "id": "working-remainder",
   "metadata": {
    "tags": []
   },
   "outputs": [],
   "source": [
    "def test_optimal_policy_svg():\n",
    "    dynamics, cost, init = sample_lqg(n_state=2, n_ctrl=2, horizon=100, n_batch=10)\n",
    "    pistar, _, vstar = solution(dynamics, cost)\n",
    "    loss_fn = ExpectedValue()\n",
    "    eret = -loss_fn(init, tuple(x.select(\"H\", 0) for x in vstar))\n",
    "    print(\n",
    "        f\"\"\"\\\n",
    "    Optimal expected return: \n",
    "        {eret},\n",
    "        ({eret.dtype})\"\"\"\n",
    "    )\n",
    "\n",
    "    policy = tuple(x.requires_grad_(True) for x in pistar)\n",
    "    eret = -policy_loss(policy, dynamics, cost, init)\n",
    "    print(\n",
    "        f\"\"\"\\\n",
    "    Expected return from Prediction algorithm:\n",
    "        {eret},\n",
    "        ({eret.dtype})\"\"\"\n",
    "    )\n",
    "    svg_norm = compute_batched_svg_norm(eret, policy)\n",
    "    print(\n",
    "        f\"\"\"\\\n",
    "    Optimal policy SVG norm: \n",
    "        {svg_norm},\n",
    "        ({svg_norm.dtype},\n",
    "        {svg_norm.shape})\"\"\"\n",
    "    )"
   ]
  },
  {
   "cell_type": "code",
   "execution_count": 27,
   "id": "extreme-channels",
   "metadata": {},
   "outputs": [
    {
     "name": "stdout",
     "output_type": "stream",
     "text": [
      "    Optimal expected return: \n",
      "        tensor([-228.3049, -127.6691, -308.8937, -295.9114, -446.3384, -190.0753,\n",
      "        -154.0851, -230.6459, -168.6801, -113.3008], names=('B',)),\n",
      "        (torch.float32)\n",
      "    Expected return from Prediction algorithm:\n",
      "        tensor([-228.3049, -127.6691, -308.8937, -295.9114, -446.3384, -190.0753,\n",
      "        -154.0851, -230.6459, -168.6801, -113.3008], grad_fn=<NegBackward>,\n",
      "       names=('B',)),\n",
      "        (torch.float32)\n",
      "    Optimal policy SVG norm: \n",
      "        tensor([3.7608e-06, 4.7742e-06, 1.5518e-05, 3.0569e-05, 8.6370e-06, 4.9608e-06,\n",
      "        2.9270e-06, 3.4526e-06, 3.8541e-06, 1.8595e-06]),\n",
      "        (torch.float32,\n",
      "        torch.Size([10]))\n"
     ]
    }
   ],
   "source": [
    "test_optimal_policy_svg()"
   ]
  },
  {
   "cell_type": "markdown",
   "id": "fatty-creativity",
   "metadata": {},
   "source": [
    "---\n",
    "## Beyond averages\n",
    "\n",
    "Next, we evaluate the distribution of optimal/random policy performances for different LQG problem sizes"
   ]
  },
  {
   "cell_type": "markdown",
   "id": "alike-variety",
   "metadata": {},
   "source": [
    "### Calculating the expected return (performance) & SVG norm for a batch of LQGs"
   ]
  },
  {
   "cell_type": "code",
   "execution_count": 28,
   "id": "latest-comparative",
   "metadata": {},
   "outputs": [],
   "source": [
    "def expected_return(init: lqr.GaussInit, vval: lqr.Quadratic) -> Tensor:\n",
    "    expected_value = ExpectedValue()\n",
    "    expected_cost = expected_value(init, tuple(x.select(\"H\", 0) for x in vval))\n",
    "    return -expected_cost\n",
    "\n",
    "\n",
    "def optimal_performance(\n",
    "    dynamics: lqr.LinSDynamics, cost: lqr.QuadCost, init: lqr.GaussInit\n",
    ") -> Tensor:\n",
    "    pistar, qstar, vstar = solution(dynamics, cost)\n",
    "    return expected_return(init, vstar)\n",
    "\n",
    "\n",
    "def random_performance(\n",
    "    dynamics: lqr.LinSDynamics, cost: lqr.QuadCost, init: lqr.GaussInit\n",
    ") -> Tensor:\n",
    "    return policy_performance(sample_policy(dynamics, cost), dynamics, cost, init)"
   ]
  },
  {
   "cell_type": "code",
   "execution_count": 29,
   "id": "second-danish",
   "metadata": {},
   "outputs": [],
   "source": [
    "@torch.no_grad()\n",
    "def performance_samples(\n",
    "    dims: tuple[int, int, int],\n",
    "    optimal: bool = False,\n",
    "    samples: int = 100,\n",
    "    clip_ctrl_dim: bool = False,\n",
    ") -> np.ndarray:\n",
    "    n_state, n_ctrl, horizon = dims\n",
    "    if clip_ctrl_dim and n_ctrl < n_state:\n",
    "        return np.full((samples,), fill_value=np.nan)\n",
    "\n",
    "    dynamics, cost, init = sample_lqg(n_state, n_ctrl, horizon, n_batch=samples)\n",
    "\n",
    "    eret = (optimal_performance if optimal else random_performance)(\n",
    "        dynamics, cost, init\n",
    "    )\n",
    "    return eret.numpy()"
   ]
  },
  {
   "cell_type": "markdown",
   "id": "latin-warning",
   "metadata": {},
   "source": [
    "### Plotting the optimal cost distribution of controllable/uncontrollable systems"
   ]
  },
  {
   "cell_type": "code",
   "execution_count": 30,
   "id": "major-assembly",
   "metadata": {},
   "outputs": [],
   "source": [
    "def title_from_dims(dims: tuple[int, int, int]) -> str:\n",
    "    return \"|S|={}, |A|={}, H={}\".format(*dims)"
   ]
  },
  {
   "cell_type": "code",
   "execution_count": 31,
   "id": "empty-insert",
   "metadata": {
    "tags": []
   },
   "outputs": [],
   "source": [
    "def plot_optimal_costs_by_controllability(\n",
    "    dims: tuple[int, int, int], samples: int = 1000, **kwargs\n",
    "):\n",
    "    x = \"Cost\"\n",
    "    hue = \"Controllable\"\n",
    "\n",
    "    with generator.config(controllable=True, **kwargs):\n",
    "        controllable = pd.DataFrame(\n",
    "            {x: -performance_samples(dims, optimal=True, samples=samples)}\n",
    "        )\n",
    "        controllable[hue] = True\n",
    "    with generator.config(controllable=False, **kwargs):\n",
    "        uncontrollable = pd.DataFrame(\n",
    "            {x: -performance_samples(dims, optimal=True, samples=samples)}\n",
    "        )\n",
    "        uncontrollable[hue] = False\n",
    "\n",
    "    data = pd.concat([controllable, uncontrollable])\n",
    "\n",
    "    sns.histplot(\n",
    "        data=data,\n",
    "        x=x,\n",
    "        hue=hue,\n",
    "        hue_order=[True, False],\n",
    "        stat=\"density\",\n",
    "        log_scale=True,\n",
    "        #         bins=samples // 10\n",
    "    )\n",
    "    plt.title(title_from_dims(dims))\n",
    "    plt.show()"
   ]
  },
  {
   "cell_type": "code",
   "execution_count": 32,
   "id": "divine-split",
   "metadata": {
    "tags": []
   },
   "outputs": [],
   "source": [
    "# plot_optimal_costs_by_controllability((2, 2, 20))\n",
    "\n",
    "# plot_optimal_costs_by_controllability((2, 2, 100))\n",
    "\n",
    "# plot_optimal_costs_by_controllability((4, 4, 20))\n",
    "\n",
    "# plot_optimal_costs_by_controllability((8, 8, 20))\n",
    "\n",
    "# plot_optimal_costs_by_controllability((16, 16, 20))\n",
    "\n",
    "# plot_optimal_costs_by_controllability((32, 32, 20))"
   ]
  },
  {
   "cell_type": "markdown",
   "id": "functioning-rolling",
   "metadata": {},
   "source": [
    "### Plotting the performance distribution of optimal/random policies"
   ]
  },
  {
   "cell_type": "code",
   "execution_count": 33,
   "id": "surprising-content",
   "metadata": {
    "tags": []
   },
   "outputs": [],
   "source": [
    "def plot_optimal_vs_random_costs_hist(dims: tuple[int, int, int], samples: int = 1000):\n",
    "    x = \"Cost\"\n",
    "    hue = \"Optimal\"\n",
    "\n",
    "    optimal = pd.DataFrame(\n",
    "        {x: -performance_samples(dims, optimal=True, samples=samples)}\n",
    "    )\n",
    "    random = pd.DataFrame(\n",
    "        {x: -performance_samples(dims, optimal=False, samples=samples)}\n",
    "    )\n",
    "\n",
    "    optimal[hue] = True\n",
    "    random[hue] = False\n",
    "    data = pd.concat([optimal, random])\n",
    "\n",
    "    sns.histplot(\n",
    "        data=data,\n",
    "        x=x,\n",
    "        hue=hue,\n",
    "        hue_order=[True, False],\n",
    "        stat=\"density\",\n",
    "        log_scale=True,\n",
    "        bins=samples // 10,\n",
    "    )\n",
    "    plt.title(title_from_dims(dims))\n",
    "    plt.show()"
   ]
  },
  {
   "cell_type": "code",
   "execution_count": 34,
   "id": "following-filling",
   "metadata": {},
   "outputs": [
    {
     "data": {
      "image/png": "[encoded data removed]",
      "text/plain": [
       "<Figure size 432x288 with 1 Axes>"
      ]
     },
     "metadata": {},
     "output_type": "display_data"
    },
    {
     "data": {
      "image/png": "[encoded data removed]",
      "text/plain": [
       "<Figure size 432x288 with 1 Axes>"
      ]
     },
     "metadata": {},
     "output_type": "display_data"
    },
    {
     "data": {
      "image/png": "[encoded data removed]",
      "text/plain": [
       "<Figure size 432x288 with 1 Axes>"
      ]
     },
     "metadata": {},
     "output_type": "display_data"
    },
    {
     "data": {
      "image/png": "[encoded data removed]",
      "text/plain": [
       "<Figure size 432x288 with 1 Axes>"
      ]
     },
     "metadata": {},
     "output_type": "display_data"
    },
    {
     "data": {
      "image/png": "[encoded data removed]",
      "text/plain": [
       "<Figure size 432x288 with 1 Axes>"
      ]
     },
     "metadata": {},
     "output_type": "display_data"
    },
    {
     "data": {
      "image/png": "[encoded data removed]",
      "text/plain": [
       "<Figure size 432x288 with 1 Axes>"
      ]
     },
     "metadata": {},
     "output_type": "display_data"
    }
   ],
   "source": [
    "plot_optimal_vs_random_costs_hist((2, 2, 20))\n",
    "\n",
    "plot_optimal_vs_random_costs_hist((3, 2, 100))\n",
    "\n",
    "plot_optimal_vs_random_costs_hist((4, 4, 100))\n",
    "\n",
    "plot_optimal_vs_random_costs_hist((10, 10, 100))\n",
    "\n",
    "plot_optimal_vs_random_costs_hist((10, 10, 200))\n",
    "\n",
    "plot_optimal_vs_random_costs_hist((20, 20, 100))"
   ]
  },
  {
   "cell_type": "markdown",
   "id": "interstate-accent",
   "metadata": {},
   "source": [
    "### Plotting the performance distribution of random policies vs. distance to optimal policy"
   ]
  },
  {
   "cell_type": "code",
   "execution_count": 41,
   "id": "higher-groove",
   "metadata": {},
   "outputs": [],
   "source": [
    "@torch.no_grad()\n",
    "def val_and_grad_diff_samples(\n",
    "    dims: tuple[int, int, int], samples: int = 100\n",
    ") -> tuple[np.ndarray, np.ndarray]:\n",
    "    n_state, n_ctrl, horizon = dims\n",
    "    dynamics, cost, init = sample_lqg(n_state, n_ctrl, horizon, n_batch=samples)\n",
    "\n",
    "    optimal, _, vstar = solution(dynamics, cost)\n",
    "    best_perf = expected_return(init, vstar).numpy()\n",
    "\n",
    "    random = sample_policy(dynamics, cost)\n",
    "    rand_perf = policy_performance(random, dynamics, cost, init).numpy()\n",
    "\n",
    "    value_diff = np.abs(best_perf - rand_perf)\n",
    "    distance = policy_distance(random, optimal).numpy()\n",
    "    assert np.all(np.isfinite(value_diff)), value_diff\n",
    "    assert np.all(np.isfinite(distance)), distance\n",
    "    return value_diff, distance"
   ]
  },
  {
   "cell_type": "code",
   "execution_count": 44,
   "id": "amino-joseph",
   "metadata": {
    "tags": []
   },
   "outputs": [],
   "source": [
    "def plot_val_and_grad_diff(dims: tuple[int, int, int], samples: int = 1000):\n",
    "    x = \"Absolute value difference\"\n",
    "    y = \"Distance to optimal parameters\"\n",
    "\n",
    "    diff, distance = val_and_grad_diff_samples(dims, samples=samples)\n",
    "    data = pd.DataFrame({x: diff, y: distance})\n",
    "\n",
    "    sns.histplot(\n",
    "        data=data,\n",
    "        x=x,\n",
    "        y=y,\n",
    "        stat=\"density\",\n",
    "        log_scale=(True, True),\n",
    "    )\n",
    "    plt.title(title_from_dims(dims))\n",
    "    plt.show()"
   ]
  },
  {
   "cell_type": "code",
   "execution_count": 46,
   "id": "7dbc8d80-bc49-4047-8271-caef44bc648e",
   "metadata": {},
   "outputs": [
    {
     "data": {
      "image/png": "[encoded data removed]",
      "text/plain": [
       "<Figure size 432x288 with 1 Axes>"
      ]
     },
     "metadata": {},
     "output_type": "display_data"
    },
    {
     "data": {
      "image/png": "[encoded data removed]",
      "text/plain": [
       "<Figure size 432x288 with 1 Axes>"
      ]
     },
     "metadata": {},
     "output_type": "display_data"
    },
    {
     "data": {
      "image/png": "[encoded data removed]",
      "text/plain": [
       "<Figure size 432x288 with 1 Axes>"
      ]
     },
     "metadata": {},
     "output_type": "display_data"
    }
   ],
   "source": [
    "plot_val_and_grad_diff((2, 2, 20))\n",
    "\n",
    "plot_val_and_grad_diff((3, 2, 20))\n",
    "\n",
    "plot_val_and_grad_diff((2, 3, 20))"
   ]
  },
  {
   "cell_type": "markdown",
   "id": "medical-light",
   "metadata": {},
   "source": [
    "### Plotting the SVG norm distribution"
   ]
  },
  {
   "cell_type": "code",
   "execution_count": 37,
   "id": "little-planning",
   "metadata": {},
   "outputs": [],
   "source": [
    "def random_svg_norm(\n",
    "    dynamics: lqr.LinSDynamics, cost: lqr.QuadCost, init: lqr.GaussInit\n",
    ") -> Tensor:\n",
    "    policy = tuple(g.requires_grad_(True) for g in sample_policy(dynamics, cost))\n",
    "    _, svg_norm = policy_svg_norm(policy, dynamics, cost, init)\n",
    "    return svg_norm\n",
    "\n",
    "\n",
    "def svg_norm_samples(\n",
    "    dims: tuple[int, int, int], samples: int = 100, clip_ctrl_dim: bool = False\n",
    ") -> np.ndarray:\n",
    "    n_state, n_ctrl, horizon = dims\n",
    "\n",
    "    if clip_ctrl_dim and n_ctrl < n_state:\n",
    "        return np.full((samples,), fill_value=np.nan)\n",
    "\n",
    "    dynamics, cost, init = sample_lqg(n_state, n_ctrl, horizon, n_batch=samples)\n",
    "    return random_svg_norm(dynamics, cost, init).numpy()"
   ]
  },
  {
   "cell_type": "code",
   "execution_count": 38,
   "id": "limited-luxury",
   "metadata": {},
   "outputs": [],
   "source": [
    "def plot_svg_norm_hist(dims: tuple[int, int, int], samples: int = 1000):\n",
    "    x = \"SVG norm\"\n",
    "    data = pd.DataFrame({x: svg_norm_samples(dims, samples=samples)})\n",
    "    sns.histplot(data=data, x=x, stat=\"density\", log_scale=True)\n",
    "    plt.title(title_from_dims(dims))\n",
    "    plt.show()"
   ]
  },
  {
   "cell_type": "code",
   "execution_count": 39,
   "id": "becoming-honolulu",
   "metadata": {},
   "outputs": [
    {
     "data": {
      "image/png": "[encoded data removed]",
      "text/plain": [
       "<Figure size 432x288 with 1 Axes>"
      ]
     },
     "metadata": {},
     "output_type": "display_data"
    },
    {
     "data": {
      "image/png": "[encoded data removed]",
      "text/plain": [
       "<Figure size 432x288 with 1 Axes>"
      ]
     },
     "metadata": {},
     "output_type": "display_data"
    },
    {
     "data": {
      "image/png": "[encoded data removed]",
      "text/plain": [
       "<Figure size 432x288 with 1 Axes>"
      ]
     },
     "metadata": {},
     "output_type": "display_data"
    },
    {
     "data": {
      "image/png": "[encoded data removed]",
      "text/plain": [
       "<Figure size 432x288 with 1 Axes>"
      ]
     },
     "metadata": {},
     "output_type": "display_data"
    },
    {
     "data": {
      "image/png": "[encoded data removed]",
      "text/plain": [
       "<Figure size 432x288 with 1 Axes>"
      ]
     },
     "metadata": {},
     "output_type": "display_data"
    },
    {
     "data": {
      "image/png": "[encoded data removed]",
      "text/plain": [
       "<Figure size 432x288 with 1 Axes>"
      ]
     },
     "metadata": {},
     "output_type": "display_data"
    }
   ],
   "source": [
    "plot_svg_norm_hist((2, 2, 20))\n",
    "\n",
    "plot_svg_norm_hist((2, 2, 100))\n",
    "\n",
    "plot_svg_norm_hist((4, 4, 20))\n",
    "\n",
    "plot_svg_norm_hist((10, 10, 20))\n",
    "\n",
    "plot_svg_norm_hist((10, 10, 200))\n",
    "\n",
    "plot_svg_norm_hist((20, 20, 100))"
   ]
  },
  {
   "cell_type": "markdown",
   "id": "eight-finish",
   "metadata": {},
   "source": [
    "---\n",
    "## Evaluate cost scaling against each variable\n",
    "\n",
    "### Checklist\n",
    "- [x] Stack several LQGs including init dists\n",
    "- [x] Define range of `n_state`s, `n_ctrl`s, and `horizon`s\n",
    "- [x] Fix initial values of `n_state=2`, `n_ctrl=2`, `horizon=100`\n",
    "- [x] Iterate over one of the ranges, e.g., `horizon`s:\n",
    "  - [x] Generate several LQGs with the current `n_state`, `n_ctrl`, `horizon` and stack them\n",
    "  - [x] Find the optimal solutions (policies) and evaluate the optimal expected returns\n",
    "  - [x] Average the results accross the LQGs generated\n",
    "  - [x] Plot the average against the current `n_state`, `n_ctrl`, `horizon`"
   ]
  },
  {
   "cell_type": "code",
   "execution_count": 40,
   "id": "opening-cemetery",
   "metadata": {},
   "outputs": [],
   "source": [
    "def performance_matrix(\n",
    "    state_dim_arr: np.ndarray,\n",
    "    ctrl_dim_arr: np.ndarray,\n",
    "    horizon_arr: np.ndarray,\n",
    "    perf_sampling_fn: Callable[[int, int, int], np.ndarray],\n",
    ") -> np.ndarray:\n",
    "    pbar = tqdm(\n",
    "        zip(state_dim_arr, ctrl_dim_arr, horizon_arr),\n",
    "        total=len(ctrl_dim_arr),\n",
    "        desc=\"Computing performance by LQG dims\",\n",
    "    )\n",
    "\n",
    "    exp_ret_arrs = [\n",
    "        perf_sampling_fn(n_state, n_ctrl, horizon) for n_state, n_ctrl, horizon in pbar\n",
    "    ]\n",
    "\n",
    "    exp_ret_mat = np.vstack(exp_ret_arrs)\n",
    "    return exp_ret_mat"
   ]
  },
  {
   "cell_type": "code",
   "execution_count": 41,
   "id": "latter-sleep",
   "metadata": {
    "tags": []
   },
   "outputs": [],
   "source": [
    "def average_performance_lineplot(\n",
    "    state_dim: np.ndarray,\n",
    "    ctrl_dim: np.ndarray,\n",
    "    horizon: np.ndarray,\n",
    "    x_axis: tuple[str, np.ndarray],\n",
    "):\n",
    "    x, x_arr = x_axis\n",
    "    y = \"average performance\"\n",
    "    hue = \"optimal\"\n",
    "    n_samples = 200\n",
    "\n",
    "    def sampler(s, c, h, *, optimal: bool):\n",
    "        return performance_samples((s, c, h), samples=n_samples, optimal=optimal)\n",
    "\n",
    "    optimal = {\n",
    "        x: x_arr,\n",
    "        y: performance_matrix(\n",
    "            state_dim, ctrl_dim, horizon, partial(sampler, optimal=True)\n",
    "        ).mean(-1),\n",
    "        hue: np.ones_like(x_arr, dtype=bool),\n",
    "    }\n",
    "    random = {\n",
    "        x: x_arr,\n",
    "        y: performance_matrix(\n",
    "            state_dim, ctrl_dim, horizon, partial(sampler, optimal=False)\n",
    "        ).mean(-1),\n",
    "        hue: np.zeros_like(x_arr, dtype=bool),\n",
    "    }\n",
    "\n",
    "    data = pd.concat(list(map(pd.DataFrame, (optimal, random))))\n",
    "    ax = sns.lineplot(x=x, y=y, data=data, hue=hue)\n",
    "    plt.show()"
   ]
  },
  {
   "cell_type": "markdown",
   "id": "changed-denmark",
   "metadata": {
    "tags": []
   },
   "source": [
    "#### Performance vs. state dimension"
   ]
  },
  {
   "cell_type": "code",
   "execution_count": null,
   "id": "international-ridge",
   "metadata": {
    "tags": []
   },
   "outputs": [],
   "source": [
    "x_axis = np.arange(2, 12)\n",
    "average_performance_lineplot(\n",
    "    state_dim=x_axis,\n",
    "    ctrl_dim=np.full(10, 2, dtype=int),\n",
    "    horizon=np.full(10, 100, dtype=int),\n",
    "    x_axis=(\"state dim\", x_axis),\n",
    ")"
   ]
  },
  {
   "cell_type": "markdown",
   "id": "collect-butterfly",
   "metadata": {},
   "source": [
    "#### Performance vs. control dimension"
   ]
  },
  {
   "cell_type": "code",
   "execution_count": null,
   "id": "fresh-commissioner",
   "metadata": {
    "tags": []
   },
   "outputs": [],
   "source": [
    "state_dims = np.full(10, 2, dtype=int)\n",
    "ctrl_dims = np.arange(2, 12)\n",
    "horizons = np.full(10, 100, dtype=int)\n",
    "average_performance_lineplot(\n",
    "    state_dim=state_dims,\n",
    "    ctrl_dim=ctrl_dims,\n",
    "    horizon=horizons,\n",
    "    x_axis=(\"ctrl dim\", ctrl_dims),\n",
    ")"
   ]
  },
  {
   "cell_type": "markdown",
   "id": "caroline-attachment",
   "metadata": {},
   "source": [
    "#### Performance vs. horizon length"
   ]
  },
  {
   "cell_type": "code",
   "execution_count": null,
   "id": "manufactured-option",
   "metadata": {
    "tags": []
   },
   "outputs": [],
   "source": [
    "state_dims = np.full(10, 2, dtype=int)\n",
    "ctrl_dims = np.full(10, 2, dtype=int)\n",
    "horizons = 100 * np.arange(1, 11)\n",
    "average_performance_lineplot(state_dims, ctrl_dims, horizons, (\"horizon\", horizons))"
   ]
  },
  {
   "cell_type": "markdown",
   "id": "athletic-penny",
   "metadata": {},
   "source": [
    "#### Performance vs. state & control dimension"
   ]
  },
  {
   "cell_type": "code",
   "execution_count": null,
   "id": "spanish-aquatic",
   "metadata": {
    "tags": []
   },
   "outputs": [],
   "source": [
    "state_dims = ctrl_dims = np.arange(1, 21) + 1\n",
    "horizons = np.full(20, 100, dtype=int)\n",
    "average_performance_lineplot(\n",
    "    state_dims, ctrl_dims, horizons, (\"state & ctrl dim\", state_dims)\n",
    ")"
   ]
  },
  {
   "cell_type": "markdown",
   "id": "graphic-oxygen",
   "metadata": {},
   "source": [
    "---\n",
    "## Multivariate analysis of cost scaling\n",
    "\n",
    "### Checklist\n",
    "- [x] Plot the average expected return against two variables, e.g., `n_state` and `n_ctrl`, as a 3D surface plot\n",
    "- [ ] ~Use the insights gained from observing the cost scaling to propose a _downscaling_ parameter for random QuadCosts~\n",
    "- [x] Use the analysis above to also derive a scale parameter for the random Gaussian noise for policy generation"
   ]
  },
  {
   "cell_type": "code",
   "execution_count": null,
   "id": "smooth-cause",
   "metadata": {},
   "outputs": [],
   "source": [
    "def large_fig(*args, scale: float = 2.0, **kwargs):\n",
    "    return plt.figure(*args, figsize=[scale * 6.4, scale * 4.8], **kwargs)"
   ]
  },
  {
   "cell_type": "code",
   "execution_count": null,
   "id": "controversial-straight",
   "metadata": {
    "tags": []
   },
   "outputs": [],
   "source": [
    "def plot_3d_from_2d_function(\n",
    "    ax,\n",
    "    xrange: np.ndarray,\n",
    "    yrange: np.ndarray,\n",
    "    function: callable[[np.ndarray, np.ndarray], np.ndarray],\n",
    "):\n",
    "    length = len(xrange)\n",
    "    xbatch, ybatch = np.meshgrid(xrange, yrange)\n",
    "    assert xbatch.shape == ybatch.shape == (length, length)\n",
    "\n",
    "    x_arr, y_arr = map(lambda x: x.reshape((-1,)), (xbatch, ybatch))\n",
    "    assert (\n",
    "        x_arr.shape == y_arr.shape == (length ** 2,)\n",
    "    ), f\"expected: {(length ** 2,)}; x_arr: {x_arr.shape}; y_arr {y_arr.shape}\"\n",
    "\n",
    "    z_arr = function(x_arr, y_arr)\n",
    "    assert z_arr.shape == x_arr.shape, f\"{z_arr.shape} != {x_arr.shape}\"\n",
    "\n",
    "    zbatch = z_arr.reshape(xbatch.shape)\n",
    "    ax.plot_surface(xbatch, ybatch, zbatch, cmap=cm.coolwarm)"
   ]
  },
  {
   "cell_type": "markdown",
   "id": "raising-input",
   "metadata": {},
   "source": [
    "### State vs. control dimension with fixed horizon\n",
    "\n",
    "In what follows we set the horizon length to 100 steps.\n",
    "\n",
    "#### Best expected return"
   ]
  },
  {
   "cell_type": "code",
   "execution_count": null,
   "id": "becoming-isaac",
   "metadata": {},
   "outputs": [],
   "source": [
    "def performances_by_state_ctrl_dim(\n",
    "    state_dim_arr: np.ndarray, ctrl_dim_arr: np.ndarray, horizon: int, optimal: bool\n",
    ") -> np.ndarray:\n",
    "    horizon_arr = np.full_like(state_dim_arr, fill_value=horizon)\n",
    "    exp_opt_ret_mat = performance_matrix(\n",
    "        state_dim_arr,\n",
    "        ctrl_dim_arr,\n",
    "        horizon_arr,\n",
    "        lambda s, c, h: performance_samples(\n",
    "            (s, c, h), optimal=optimal, samples=100, clip_ctrl_dim=False\n",
    "        ),\n",
    "    )\n",
    "    return exp_opt_ret_mat"
   ]
  },
  {
   "cell_type": "code",
   "execution_count": null,
   "id": "perceived-relaxation",
   "metadata": {},
   "outputs": [],
   "source": [
    "def average_performance_by_state_ctrl_dim(\n",
    "    state_dim_arr: np.ndarray, ctrl_dim_arr: np.ndarray, optimal: bool\n",
    ") -> np.ndarray:\n",
    "    z_arr = performances_by_state_ctrl_dim(\n",
    "        state_dim_arr, ctrl_dim_arr, horizon=100, optimal=optimal\n",
    "    ).mean(axis=-1)\n",
    "    # Filtering NaNs\n",
    "    z_arr = np.nan_to_num(z_arr, nan=np.nanmin(z_arr))\n",
    "    return z_arr"
   ]
  },
  {
   "cell_type": "code",
   "execution_count": null,
   "id": "prostate-director",
   "metadata": {
    "tags": []
   },
   "outputs": [],
   "source": [
    "fig = large_fig()\n",
    "ax = fig.add_subplot(projection=\"3d\")\n",
    "plot_3d_from_2d_function(\n",
    "    ax,\n",
    "    xrange=np.arange(1, 21) + 1,\n",
    "    yrange=np.arange(1, 21) + 1,\n",
    "    function=lambda x, y: average_performance_by_state_ctrl_dim(x, y, optimal=True),\n",
    ")\n",
    "ax.set_xlabel(\"state dim\")\n",
    "ax.set_ylabel(\"ctrl dim\")\n",
    "ax.set_title(\"average best performance\")\n",
    "plt.show()"
   ]
  },
  {
   "cell_type": "markdown",
   "id": "general-expert",
   "metadata": {},
   "source": [
    "#### Expected return from random policy"
   ]
  },
  {
   "cell_type": "code",
   "execution_count": null,
   "id": "parliamentary-watts",
   "metadata": {
    "tags": []
   },
   "outputs": [],
   "source": [
    "fig = large_fig()\n",
    "ax = fig.add_subplot(projection=\"3d\")\n",
    "plot_3d_from_2d_function(\n",
    "    ax,\n",
    "    xrange=np.arange(1, 21) + 1,\n",
    "    yrange=np.arange(1, 21) + 1,\n",
    "    function=lambda x, y: average_performance_by_state_ctrl_dim(x, y, optimal=False),\n",
    ")\n",
    "ax.set_xlabel(\"state dim\")\n",
    "ax.set_ylabel(\"ctrl dim\")\n",
    "ax.set_title(\"average random performance\")\n",
    "plt.show()"
   ]
  },
  {
   "cell_type": "markdown",
   "id": "fossil-bernard",
   "metadata": {},
   "source": [
    "### State & control dimension vs. horizon length"
   ]
  },
  {
   "cell_type": "markdown",
   "id": "fixed-number",
   "metadata": {},
   "source": [
    "#### Best expected return"
   ]
  },
  {
   "cell_type": "code",
   "execution_count": null,
   "id": "laden-scratch",
   "metadata": {},
   "outputs": [],
   "source": [
    "def performances_by_horizon(\n",
    "    state_ctrl_dim: np.ndarray, horizon_arr: np.ndarray, optimal: bool\n",
    ") -> np.ndarray:\n",
    "    state_dim_arr = ctrl_dim_arr = state_ctrl_dim\n",
    "    opt_perf_mat = performance_matrix(\n",
    "        state_dim_arr,\n",
    "        ctrl_dim_arr,\n",
    "        horizon_arr,\n",
    "        lambda s, c, h: performance_samples((s, c, h), optimal=optimal, samples=100),\n",
    "    )\n",
    "    return opt_perf_mat"
   ]
  },
  {
   "cell_type": "code",
   "execution_count": null,
   "id": "frank-router",
   "metadata": {},
   "outputs": [],
   "source": [
    "def average_performance_by_horizon(\n",
    "    state_ctrl_dim: np.ndarray, horizon_arr: np.ndarray, optimal: bool\n",
    ") -> np.ndarray:\n",
    "    z_arr = performances_by_horizon(state_ctrl_dim, horizon_arr, optimal=optimal).mean(\n",
    "        axis=-1\n",
    "    )\n",
    "    # Filtering NaNs\n",
    "    z_arr = np.nan_to_num(z_arr, nan=np.nanmin(z_arr))\n",
    "    return z_arr"
   ]
  },
  {
   "cell_type": "code",
   "execution_count": null,
   "id": "worst-preservation",
   "metadata": {
    "tags": []
   },
   "outputs": [],
   "source": [
    "fig = large_fig()\n",
    "ax = fig.add_subplot(projection=\"3d\")\n",
    "plot_3d_from_2d_function(\n",
    "    ax,\n",
    "    xrange=np.arange(1, 21) + 1,\n",
    "    yrange=100 + 10 * np.arange(1, 21),\n",
    "    function=lambda x, y: average_performance_by_horizon(x, y, optimal=True),\n",
    ")\n",
    "ax.set_xlabel(\"state/ctrl dim\")\n",
    "ax.set_ylabel(\"horizon\")\n",
    "ax.set_title(\"average optimal performance\")\n",
    "plt.show()"
   ]
  },
  {
   "cell_type": "markdown",
   "id": "fitting-temperature",
   "metadata": {},
   "source": [
    "#### Random expected return"
   ]
  },
  {
   "cell_type": "code",
   "execution_count": null,
   "id": "republican-husband",
   "metadata": {
    "tags": []
   },
   "outputs": [],
   "source": [
    "fig = large_fig()\n",
    "ax = fig.add_subplot(projection=\"3d\")\n",
    "plot_3d_from_2d_function(\n",
    "    ax,\n",
    "    xrange=np.arange(1, 21) + 1,\n",
    "    yrange=100 + 10 * np.arange(1, 21),\n",
    "    function=lambda x, y: average_performance_by_horizon(x, y, optimal=False),\n",
    ")\n",
    "ax.set_xlabel(\"state/ctrl dim\")\n",
    "ax.set_ylabel(\"horizon\")\n",
    "ax.set_title(\"average random performance\")\n",
    "plt.show()"
   ]
  }
 ],
 "metadata": {
  "kernelspec": {
   "display_name": "Python 3",
   "language": "python",
   "name": "python3"
  },
  "language_info": {
   "codemirror_mode": {
    "name": "ipython",
    "version": 3
   },
   "file_extension": ".py",
   "mimetype": "text/x-python",
   "name": "python",
   "nbconvert_exporter": "python",
   "pygments_lexer": "ipython3",
   "version": "3.8.2"
  }
 },
 "nbformat": 4,
 "nbformat_minor": 5
}
