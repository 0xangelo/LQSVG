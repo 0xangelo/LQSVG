{
 "cells": [
  {
   "cell_type": "markdown",
   "id": "hindu-purse",
   "metadata": {},
   "source": [
    "# Ground-truth performance and gradient norms\n",
    "\n",
    "This notebook inspects the initialization schemes for LQGs and time-varying linear policies described in section 5.1 of the [paper](https://www.overleaf.com/read/cmbgmxxpxqzr).\n",
    "\n",
    "### Checklist\n",
    "\n",
    "- [x] Fix `n_state`, `n_ctrl`, `horizon`\n",
    "- [x] Sample random LQGs\n",
    "- [x] Sample random policies\n",
    "- [x] Evaluate the expected return\n",
    "- [x] Evaluate the value gradient norm\n",
    "- [x] Search numpy, scipy for methods for visualizing the distributions"
   ]
  },
  {
   "cell_type": "markdown",
   "id": "blind-girlfriend",
   "metadata": {},
   "source": [
    "---\n",
    "## Linear Quadratic Gaussian (LQG) Problems\n",
    "In what follows we consider MDPs with:\n",
    "1. continuous state space $\\mathbf{s} \\in \\mathcal{S} = \\mathbb{R}^n$\n",
    "2. continuous action space $\\mathbf{a} \\in \\mathcal{A} = \\mathbb{R}^d$\n",
    "3. finite time horizon $N \\in \\mathbb{N}$ and timesteps $t \\in \\mathcal{T} = \\{0, \\dots, N - 1\\}$\n",
    "4. time-varying linear Gaussian dynamics \n",
    "    $$\n",
    "    \\mathbf{s}_{t+1} \\sim p(\\cdot| \\mathbf{s}_t, \\mathbf{a}_t) = \\mathcal{N}\\left( \\cdot ~\\middle|~ \\mathbf{F}_t \\begin{bmatrix}\\mathbf{s}_t \\\\ \\mathbf{a}_t\\end{bmatrix} + \\mathbf{f}_t, \\mathbf{\\Sigma}_{t} \\right)\n",
    "    $$\n",
    "5. time-varying quadratic costs \n",
    "    $$\n",
    "    r_{t+1} = R(\\mathbf{s}_t, \\mathbf{a}_t) = - \\tfrac{1}{2} \\begin{bmatrix}\\mathbf{s}_t \\\\ \\mathbf{a}_t\\end{bmatrix}^\\intercal \\mathbf{C}_t \\begin{bmatrix}\\mathbf{s}_t \\\\ \\mathbf{a}_t\\end{bmatrix} - \\mathbf{c}_t^\\intercal \\begin{bmatrix}\\mathbf{s}_t \\\\ \\mathbf{a}_t\\end{bmatrix}\n",
    "    $$\n",
    "6. Gaussian-distributed initial state \n",
    "    $$\n",
    "    \\mathbf{s}_0 \\sim \\rho = \\mathcal{N}(\\mathbf{\\mu}_\\rho, \\mathbf{\\Sigma}_\\rho)\n",
    "    $$"
   ]
  },
  {
   "cell_type": "markdown",
   "id": "great-degree",
   "metadata": {},
   "source": [
    "### Imports"
   ]
  },
  {
   "cell_type": "code",
   "execution_count": 1,
   "id": "administrative-phoenix",
   "metadata": {},
   "outputs": [],
   "source": [
    "%matplotlib inline\n",
    "from __future__ import annotations\n",
    "\n",
    "import textwrap\n",
    "import warnings\n",
    "from functools import partial\n",
    "from typing import Callable, Optional\n",
    "\n",
    "import lqsvg.torch.named as nt\n",
    "import matplotlib.pyplot as plt\n",
    "import numpy as np\n",
    "import pandas as pd\n",
    "import seaborn as sns\n",
    "import torch\n",
    "import torch.nn as nn\n",
    "from lqsvg.envs import lqr\n",
    "from lqsvg.envs.lqr.gym import LQGGenerator\n",
    "from lqsvg.experiment.models import ExpectedValue, PolicyLoss\n",
    "from lqsvg.experiment.utils import linear_feedback_distance, linear_feedback_norm\n",
    "from matplotlib import cm\n",
    "from mpl_toolkits.mplot3d import Axes3D\n",
    "from scipy.stats import ortho_group\n",
    "from torch import Tensor\n",
    "from tqdm.notebook import tqdm\n",
    "\n",
    "sns.set()"
   ]
  },
  {
   "cell_type": "markdown",
   "id": "outside-progress",
   "metadata": {},
   "source": [
    "---\n",
    "## Task selection protocol\n",
    "\n",
    "$$\n",
    "    \\{ \\mathbf{F}_t, \\mathbf{f}_t, \\mathbf{\\Sigma}_t, \\mathbf{C}_t, \\mathbf{c}_t  \\}_{t\\in\\mathcal{T}} \\sim \\text{LQGDist}(\\texttt{n_state, n_ctrl, horizon}) \\\\\n",
    "    \\mathbf{\\mu}_\\rho = \\mathbf{0}, \\quad \\mathbf{\\Sigma}_{\\rho} = \\mathbf{I} \\\\\n",
    "    \\mathcal{M} = \\{ \\mathbf{F}_t, \\mathbf{f}_t, \\mathbf{\\Sigma}_t, \\mathbf{C}_t, \\mathbf{c}_t  \\}_{t\\in\\mathcal{T}} \\cup \\{ \\mathbf{\\mu}_\\rho, \\mathbf{\\Sigma}_\\rho \\}\n",
    "$$"
   ]
  },
  {
   "cell_type": "code",
   "execution_count": 2,
   "id": "graduate-document",
   "metadata": {},
   "outputs": [],
   "source": [
    "generator = LQGGenerator(\n",
    "    n_state=2,\n",
    "    n_ctrl=2,\n",
    "    horizon=20,\n",
    "    stationary=True,\n",
    "    Fs_eigval_range=(0.0, 1.0),\n",
    "    transition_bias=False,\n",
    "    rand_trans_cov=True,\n",
    "    rand_init_cov=False,\n",
    "    cost_linear=False,\n",
    "    cost_cross=False,\n",
    ")\n",
    "\n",
    "\n",
    "def sample_lqg(\n",
    "    n_state: int, n_ctrl: int, horizon: int, n_batch: Optional[int] = None\n",
    ") -> tuple[lqr.LinSDynamics, lqr.QuadCost, lqr.GaussInit]:\n",
    "    with generator.config(n_state=n_state, n_ctrl=n_ctrl, horizon=horizon):\n",
    "        dynamics, cost, init = generator(n_batch)\n",
    "\n",
    "    #     F_s, F_a = nt.split(dynamics.F, [n_state, n_ctrl], dim=\"C\")\n",
    "    #     F_a = F_a / (torch.linalg.norm(nt.unnamed(F_a), dim=(-2, -1), keepdim=True) + 1e-8)\n",
    "    #     dynamics = lqr.LinSDynamics(\n",
    "    #         F=torch.cat([F_s, F_a], dim=\"C\"), f=dynamics.f, W=dynamics.W\n",
    "    #     )\n",
    "\n",
    "    return dynamics, cost, init"
   ]
  },
  {
   "cell_type": "code",
   "execution_count": 3,
   "id": "polyphonic-breakfast",
   "metadata": {
    "tags": []
   },
   "outputs": [],
   "source": [
    "def print_lqg(dynamics, cost, init):\n",
    "    msg = f\"\"\"\\\n",
    "        dynamics:\n",
    "            F: {dynamics.F.shape}; {dynamics.F.names}; min={dynamics.F.min()}; max={dynamics.F.max()}\n",
    "            f: {dynamics.f.shape}; {dynamics.f.names}; min={dynamics.f.min()}; max={dynamics.f.max()}\n",
    "            Sig: {dynamics.W.shape}; {dynamics.W.names}\n",
    "        cost:\n",
    "            C: {cost.C.shape}; {cost.C.names}            \n",
    "            c: {cost.c.shape}; {cost.c.names}\n",
    "        init:\n",
    "            mu: {init.mu.shape}; {init.mu.names}            \n",
    "            sig: {init.sig.shape}; {init.sig.names}\\\n",
    "        \"\"\"\n",
    "    print(textwrap.dedent(msg))\n",
    "    if \"B\" not in cost.C.names:\n",
    "        print(\"C_0:\")\n",
    "        print(textwrap.indent(str(cost.C.select(\"H\", 0).numpy()), \" \" * 4))\n",
    "\n",
    "\n",
    "def test_sample_lqg(n_batch=None):\n",
    "    with warnings.catch_warnings():\n",
    "        warnings.filterwarnings(\"ignore\", message=\".*Named tensors.*\", module=\"torch\")\n",
    "        dynamics, cost, init = sample_lqg(\n",
    "            n_state=2, n_ctrl=2, horizon=100, n_batch=n_batch\n",
    "        )\n",
    "    assert isinstance(dynamics, lqr.LinSDynamics)\n",
    "    assert isinstance(cost, lqr.QuadCost)\n",
    "    assert isinstance(init, lqr.GaussInit)\n",
    "    print_lqg(dynamics, cost, init)\n",
    "\n",
    "\n",
    "def test_batch_lqgs():\n",
    "    test_sample_lqg(n_batch=10)"
   ]
  },
  {
   "cell_type": "code",
   "execution_count": 4,
   "id": "integral-crest",
   "metadata": {},
   "outputs": [
    {
     "name": "stdout",
     "output_type": "stream",
     "text": [
      "dynamics:\n",
      "    F: torch.Size([100, 2, 4]); ('H', 'R', 'C'); min=-0.8173301219940186; max=0.5663764476776123\n",
      "    f: torch.Size([100, 2]); ('H', 'R'); min=0.0; max=0.0\n",
      "    Sig: torch.Size([100, 2, 2]); ('H', 'R', 'C')\n",
      "cost:\n",
      "    C: torch.Size([100, 4, 4]); ('H', 'R', 'C')            \n",
      "    c: torch.Size([100, 4]); ('H', 'R')\n",
      "init:\n",
      "    mu: torch.Size([2]); ('R',)            \n",
      "    sig: torch.Size([2, 2]); ('R', 'C')        \n",
      "C_0:\n",
      "    [[1.061317  0.4225382 0.        0.       ]\n",
      "     [0.4225382 0.6606712 0.        0.       ]\n",
      "     [0.        0.        3.9514153 1.0294755]\n",
      "     [0.        0.        1.0294755 1.1047945]]\n"
     ]
    }
   ],
   "source": [
    "test_sample_lqg()"
   ]
  },
  {
   "cell_type": "code",
   "execution_count": 5,
   "id": "israeli-movement",
   "metadata": {},
   "outputs": [
    {
     "name": "stdout",
     "output_type": "stream",
     "text": [
      "dynamics:\n",
      "    F: torch.Size([100, 10, 2, 4]); ('H', 'B', 'R', 'C'); min=-2.065983772277832; max=2.1129751205444336\n",
      "    f: torch.Size([100, 10, 2]); ('H', 'B', 'R'); min=0.0; max=0.0\n",
      "    Sig: torch.Size([100, 10, 2, 2]); ('H', 'B', 'R', 'C')\n",
      "cost:\n",
      "    C: torch.Size([100, 10, 4, 4]); ('H', 'B', 'R', 'C')            \n",
      "    c: torch.Size([100, 10, 4]); ('H', 'B', 'R')\n",
      "init:\n",
      "    mu: torch.Size([10, 2]); ('B', 'R')            \n",
      "    sig: torch.Size([10, 2, 2]); ('B', 'R', 'C')        \n"
     ]
    }
   ],
   "source": [
    "test_batch_lqgs()"
   ]
  },
  {
   "cell_type": "markdown",
   "id": "brave-engine",
   "metadata": {},
   "source": [
    "---\n",
    "## Policy selection protocol\n",
    "\n",
    "$$\n",
    "    \\mu_\\theta(\\mathbf{s}) = \\mathbf{a} \\\\\n",
    "    \\mathcal{M} \\sim \\text{LQGDist}(\\texttt{n_state, n_ctrl, horizon}) \\\\\n",
    "    \\theta = \\{ \\mathbf{K}_t, \\mathbf{k}_t \\}_{t\\in\\mathcal{T}} \\sim \\text{PiDist}(\\mathcal{M})\n",
    "$$"
   ]
  },
  {
   "cell_type": "code",
   "execution_count": 6,
   "id": "prepared-twist",
   "metadata": {},
   "outputs": [],
   "source": [
    "def solution(\n",
    "    dynamics: lqr.LinSDynamics, cost: lqr.QuadCost\n",
    ") -> tuple[lqr.Linear, lqr.Quadratic, lqr.Quadratic]:\n",
    "    n_state, n_ctrl, horizon = lqr.dims_from_dynamics(dynamics)\n",
    "    solver = lqr.NamedLQGControl(n_state, n_ctrl, horizon)\n",
    "    pistar, qstar, vstar = solver(dynamics, cost)\n",
    "    return pistar, qstar, vstar\n",
    "\n",
    "\n",
    "def optimal_policy(dynamics: lqr.LinSDynamics, cost: lqr.QuadCost) -> lqr.Linear:\n",
    "    pistar, _, _ = solution(dynamics, cost)\n",
    "    return pistar\n",
    "\n",
    "\n",
    "def perturb_policy(policy: lqr.Linear) -> lqr.Linear:\n",
    "    n_state, n_ctrl, _ = lqr.dims_from_policy(policy)\n",
    "    K, k = (g + 0.5 * torch.randn_like(g) / (n_state + np.sqrt(n_ctrl)) for g in policy)\n",
    "    #     scale = 1 / (n_state + np.sqrt(n_ctrl))\n",
    "    #     K, k = (g + 2 * torch.rand_like(g) * scale - scale for g in policy)\n",
    "    return (K, k)\n",
    "\n",
    "\n",
    "def sample_policy(dynamics: lqr.LinSDynamics, cost: lqr.QuadCost) -> lqr.Linear:\n",
    "    n_state, n_ctrl, horizon = lqr.dims_from_dynamics(dynamics)\n",
    "    K = torch.empty((horizon,) + dynamics.F.shape[1:-2] + (n_ctrl, n_state))\n",
    "    k = torch.empty((horizon,) + dynamics.F.shape[1:-2] + (n_ctrl,))\n",
    "    nn.init.xavier_uniform_(K)\n",
    "    nn.init.constant_(k, 0)\n",
    "    random = (nt.horizon(nt.matrix(K)), nt.horizon(nt.vector(k)))\n",
    "\n",
    "    #     pistar = optimal_policy(dynamics, cost)\n",
    "    #     random = perturb_policy(pistar)\n",
    "    return random"
   ]
  },
  {
   "cell_type": "code",
   "execution_count": 7,
   "id": "indoor-initial",
   "metadata": {
    "tags": []
   },
   "outputs": [],
   "source": [
    "def print_policy(policy: lqr.Linear):\n",
    "    K, k = policy\n",
    "    print(\n",
    "        f\"\"\"\n",
    "        K: {K.shape}; {K.names}\n",
    "        k: {k.shape}; {k.names}\n",
    "    \"\"\"\n",
    "    )\n",
    "\n",
    "\n",
    "def test_optimal_policy():\n",
    "    dynamics, cost, _ = sample_lqg(n_state=2, n_ctrl=2, horizon=100, n_batch=10)\n",
    "    print_policy(optimal_policy(dynamics, cost))\n",
    "\n",
    "\n",
    "def test_sample_policy():\n",
    "    dynamics, cost, _ = sample_lqg(n_state=2, n_ctrl=2, horizon=100, n_batch=10)\n",
    "    print_policy(sample_policy(dynamics, cost))"
   ]
  },
  {
   "cell_type": "code",
   "execution_count": 8,
   "id": "wanted-academy",
   "metadata": {},
   "outputs": [
    {
     "name": "stdout",
     "output_type": "stream",
     "text": [
      "\n",
      "        K: torch.Size([100, 10, 2, 2]); ('H', None, 'R', 'C')\n",
      "        k: torch.Size([100, 10, 2]); ('H', None, 'R')\n",
      "    \n"
     ]
    }
   ],
   "source": [
    "test_optimal_policy()"
   ]
  },
  {
   "cell_type": "code",
   "execution_count": 9,
   "id": "automatic-boulder",
   "metadata": {},
   "outputs": [
    {
     "name": "stdout",
     "output_type": "stream",
     "text": [
      "\n",
      "        K: torch.Size([100, 10, 2, 2]); ('H', None, 'R', 'C')\n",
      "        k: torch.Size([100, 10, 2]); ('H', None, 'R')\n",
      "    \n"
     ]
    }
   ],
   "source": [
    "test_sample_policy()"
   ]
  },
  {
   "cell_type": "code",
   "execution_count": 10,
   "id": "arbitrary-donor",
   "metadata": {},
   "outputs": [],
   "source": [
    "def policy_distance(policy_a: lqr.Linear, policy_b: lqr.Linear) -> Tensor:\n",
    "    return linear_feedback_distance(policy_a, policy_b)"
   ]
  },
  {
   "cell_type": "code",
   "execution_count": 11,
   "id": "numeric-offering",
   "metadata": {
    "tags": []
   },
   "outputs": [],
   "source": [
    "def test_policy_distance():\n",
    "    dynamics, cost, _ = sample_lqg(n_state=10, n_ctrl=10, horizon=100, n_batch=10)\n",
    "    optimal = optimal_policy(dynamics, cost)\n",
    "    random = perturb_policy(optimal)\n",
    "    distance = policy_distance(optimal, random)\n",
    "    print(\n",
    "        f\"\"\"\\\n",
    "    Policy distances: {distance}, {distance.shape}\\\n",
    "    \"\"\"\n",
    "    )"
   ]
  },
  {
   "cell_type": "code",
   "execution_count": 12,
   "id": "complex-indicator",
   "metadata": {},
   "outputs": [
    {
     "name": "stdout",
     "output_type": "stream",
     "text": [
      "    Policy distances: tensor([4.0217, 3.9817, 3.9619, 3.9874, 3.9836, 3.9403, 4.0007, 4.0177, 3.9600,\n",
      "        4.0048]), torch.Size([10])    \n"
     ]
    }
   ],
   "source": [
    "test_policy_distance()"
   ]
  },
  {
   "cell_type": "markdown",
   "id": "charged-viking",
   "metadata": {},
   "source": [
    "---\n",
    "## Ground-truth policy performance\n",
    "\n",
    "<center><b>Sampling</b></center>\n",
    "$$\n",
    "    \\mathcal{M} \\sim \\text{LQGDist}(\\texttt{n_state, n_ctrl, horizon}) \\\\\n",
    "    \\theta = \\{ \\mathbf{K}_t, \\mathbf{k}_t \\}_{t\\in\\mathcal{T}} \\sim \\text{PiDist}(\\mathcal{M})\n",
    "$$\n",
    "<br>\n",
    "\n",
    "<center><b>Prediction</b></center>\n",
    "<!-- LQG prediction can be seen as a function mapping policy parameters (with the dynamics kept constant) to value function coefficients: -->\n",
    "$$\n",
    "\\left( \\mathbf{Q}, \\mathbf{q}, q, \\mathbf{V}, \\mathbf{v}, v \\right) = \\text{LQGPrediction}(\\theta) \\\\\n",
    "V^\\mu(\\mathbf{s}, t) = -\\tfrac12 \\mathbf{s}^\\intercal \\mathbf{V}_t(\\theta) \\mathbf{s} - \\mathbf{v}_t(\\theta)^\\intercal \\mathbf{s} - v_t(\\theta)\n",
    "$$\n",
    "<br>\n",
    "\n",
    "<center><b>Performance</b></center>\n",
    "<!-- We can then express policy performance as a direct function of policy parameters: -->\n",
    "$$\n",
    "\\begin{align}\n",
    "J(\\theta) \n",
    "    &= -\\mathbb{E}_{\\mathbf{s}\\sim\\rho} \\left[ \\tfrac12 \\mathbf{s}^\\intercal \\mathbf{V}_0(\\theta) \\mathbf{s} + \\mathbf{v}_0(\\theta)^\\intercal \\mathbf{s} + v_0(\\theta) \\right] \\\\\n",
    "    &= -\\text{Tr}(\\mathbf{V}_0(\\theta)\\mathbf{\\Sigma}_0) - \\mathbf{\\mu}_0^\\intercal \\mathbf{V}_0(\\theta) \\mathbf{\\mu}_0 - \\mathbf{v}_0(\\theta)^\\intercal \\mathbf{\\mu}_0 - v_0(\\theta)\n",
    "\\end{align}\n",
    "$$"
   ]
  },
  {
   "cell_type": "code",
   "execution_count": 13,
   "id": "roman-disco",
   "metadata": {},
   "outputs": [],
   "source": [
    "def policy_loss(\n",
    "    policy: lqr.Linear,\n",
    "    dynamics: lqr.LinSDynamics,\n",
    "    cost: lqr.QuadCost,\n",
    "    init: lqr.GaussInit,\n",
    ") -> Tensor:\n",
    "    n_state, n_ctrl, horizon = lqr.dims_from_dynamics(dynamics)\n",
    "    loss_fn = PolicyLoss(n_state, n_ctrl, horizon)\n",
    "    loss = loss_fn(policy, dynamics, cost, init)\n",
    "    return loss\n",
    "\n",
    "\n",
    "def policy_performance(\n",
    "    policy: lqr.Linear,\n",
    "    dynamics: lqr.LinSDynamics,\n",
    "    cost: lqr.QuadCost,\n",
    "    init: lqr.GaussInit,\n",
    ") -> Tensor:\n",
    "    return -policy_loss(policy, dynamics, cost, init)"
   ]
  },
  {
   "cell_type": "code",
   "execution_count": 14,
   "id": "entitled-width",
   "metadata": {
    "tags": []
   },
   "outputs": [],
   "source": [
    "def test_policy_loss():\n",
    "    dynamics, cost, init = sample_lqg(n_state=2, n_ctrl=2, horizon=20, n_batch=10)\n",
    "    policy = sample_policy(dynamics, cost)\n",
    "    loss = policy_loss(policy, dynamics, cost, init)\n",
    "    print(\n",
    "        f\"\"\"\\\n",
    "    Loss: {loss}, ({loss.dtype}), ({loss.shape}); \n",
    "    ExpectedReturn: {-loss}, ({(-loss).dtype}), ({loss.shape})\\\n",
    "    \"\"\"\n",
    "    )"
   ]
  },
  {
   "cell_type": "code",
   "execution_count": 15,
   "id": "disabled-modification",
   "metadata": {},
   "outputs": [
    {
     "name": "stdout",
     "output_type": "stream",
     "text": [
      "    Loss: tensor([ 89.2154,  66.4858, 120.6921, 252.1757,  94.9404,  39.4704,  83.8872,\n",
      "         67.7356,  22.5340,  40.6052], names=('B',)), (torch.float32), (torch.Size([10])); \n",
      "    ExpectedReturn: tensor([ -89.2154,  -66.4858, -120.6921, -252.1757,  -94.9404,  -39.4704,\n",
      "         -83.8872,  -67.7356,  -22.5340,  -40.6052], names=('B',)), (torch.float32), (torch.Size([10]))    \n"
     ]
    }
   ],
   "source": [
    "test_policy_loss()"
   ]
  },
  {
   "cell_type": "markdown",
   "id": "young-nickname",
   "metadata": {},
   "source": [
    "---\n",
    "## Ground-truth value gradient norm\n",
    "\n",
    "1. **Sampling**$\\rightarrow \\mathcal{M}, \\theta$; \n",
    "2. **Prediction**$\\rightarrow \\left( \\mathbf{Q}, \\mathbf{q}, q, \\mathbf{V}, \\mathbf{v}, v \\right)$; \n",
    "3. **Performance**$\\rightarrow J(\\theta)$;\n",
    "4. **SVG norm**$\\rightarrow \\| \\nabla J(\\theta) \\|$."
   ]
  },
  {
   "cell_type": "code",
   "execution_count": 16,
   "id": "least-patrick",
   "metadata": {},
   "outputs": [],
   "source": [
    "def compute_batched_svg_norm(exp_ret: Tensor, policy: lqr.Linear) -> Tensor:\n",
    "    for x in policy:\n",
    "        x.grad = None\n",
    "    exp_ret.sum().backward()\n",
    "\n",
    "    K_grad, k_grad = (x.grad.detach() for x in policy)\n",
    "    return linear_feedback_norm((K_grad, k_grad))\n",
    "\n",
    "\n",
    "def policy_svg_norm(\n",
    "    policy: lqr.Linear,\n",
    "    dynamics: lqr.LinSDynamics,\n",
    "    cost: lqr.QuadCost,\n",
    "    init: lqr.GaussInit,\n",
    ") -> tuple[Tensor, Tensor]:\n",
    "    eret = policy_performance(policy, dynamics, cost, init)\n",
    "    svg_norm = compute_batched_svg_norm(eret, policy)\n",
    "    return eret, svg_norm"
   ]
  },
  {
   "cell_type": "code",
   "execution_count": 17,
   "id": "revolutionary-dublin",
   "metadata": {
    "tags": []
   },
   "outputs": [],
   "source": [
    "def test_random_policy_svg():\n",
    "    dynamics, cost, init = sample_lqg(n_state=2, n_ctrl=2, horizon=100, n_batch=10)\n",
    "    policy = tuple(x.requires_grad_(True) for x in sample_policy(dynamics, cost))\n",
    "    eret, svg_norm = policy_svg_norm(policy, dynamics, cost, init)\n",
    "    print(f\"Expected return: {eret}, ({eret.dtype}, {eret.shape})\")\n",
    "    print(f\"SVG norm: {svg_norm} ({svg_norm.dtype}, {svg_norm.shape})\")"
   ]
  },
  {
   "cell_type": "code",
   "execution_count": 18,
   "id": "combined-cursor",
   "metadata": {},
   "outputs": [
    {
     "name": "stdout",
     "output_type": "stream",
     "text": [
      "Expected return: tensor([-261.5312, -190.6774, -153.5752, -115.6992,  -96.0097, -317.9531,\n",
      "        -270.1325, -381.4631, -349.6404, -526.3387], grad_fn=<NegBackward>,\n",
      "       names=('B',)), (torch.float32, torch.Size([10]))\n",
      "SVG norm: tensor([ 46.5975,  75.9700,  23.0358,  29.8761,   8.9080, 133.3755,  12.0185,\n",
      "         24.0638,  31.4035, 282.1983]) (torch.float32, torch.Size([10]))\n"
     ]
    }
   ],
   "source": [
    "test_random_policy_svg()"
   ]
  },
  {
   "cell_type": "code",
   "execution_count": 19,
   "id": "ready-popularity",
   "metadata": {
    "tags": []
   },
   "outputs": [],
   "source": [
    "def test_optimal_policy_svg():\n",
    "    dynamics, cost, init = sample_lqg(n_state=2, n_ctrl=2, horizon=100, n_batch=10)\n",
    "    pistar, _, vstar = solution(dynamics, cost)\n",
    "    loss_fn = ExpectedValue()\n",
    "    eret = -loss_fn(init, tuple(x.select(\"H\", 0) for x in vstar))\n",
    "    print(f\"Optimal expected return: {eret} ({eret.dtype})\")\n",
    "\n",
    "    policy = tuple(x.requires_grad_(True) for x in pistar)\n",
    "    eret = -policy_loss(policy, dynamics, cost, init)\n",
    "    print(f\"Expected return from Prediction algorithm: {eret} ({eret.dtype})\")\n",
    "    svg_norm = compute_batched_svg_norm(eret, policy)\n",
    "    print(f\"Optimal policy SVG norm: {svg_norm} ({svg_norm.dtype}, {svg_norm.shape})\")"
   ]
  },
  {
   "cell_type": "code",
   "execution_count": 20,
   "id": "necessary-lyric",
   "metadata": {},
   "outputs": [
    {
     "name": "stdout",
     "output_type": "stream",
     "text": [
      "Optimal expected return: tensor([-507.8486, -241.3730, -311.9883, -262.5483, -111.4185, -117.0911,\n",
      "         -59.4541, -117.3013, -228.1674, -951.2251], names=('B',)) (torch.float32)\n",
      "Expected return from Prediction algorithm: tensor([-507.8486, -241.3730, -311.9883, -262.5483, -111.4185, -117.0911,\n",
      "         -59.4541, -117.3013, -228.1674, -951.2251], grad_fn=<NegBackward>,\n",
      "       names=('B',)) (torch.float32)\n",
      "Optimal policy SVG norm: tensor([2.3723e-05, 3.6541e-06, 9.7997e-07, 6.5104e-07, 2.5242e-06, 1.4336e-06,\n",
      "        3.0922e-06, 4.5840e-09, 4.8577e-07, 2.4677e-05]) (torch.float32, torch.Size([10]))\n"
     ]
    }
   ],
   "source": [
    "test_optimal_policy_svg()"
   ]
  },
  {
   "cell_type": "markdown",
   "id": "quick-reform",
   "metadata": {},
   "source": [
    "---\n",
    "## Beyond averages\n",
    "\n",
    "Next, we evaluate the distribution of optimal/random policy performances for certain LQG problem sizes"
   ]
  },
  {
   "cell_type": "markdown",
   "id": "polar-stuart",
   "metadata": {},
   "source": [
    "### Calculating the expected return (performance) & SVG norm for a batch of LQGs"
   ]
  },
  {
   "cell_type": "code",
   "execution_count": 21,
   "id": "manufactured-extra",
   "metadata": {},
   "outputs": [],
   "source": [
    "def expected_return(init: lqr.GaussInit, vval: lqr.Quadratic) -> Tensor:\n",
    "    expected_value = ExpectedValue()\n",
    "    expected_cost = expected_value(init, tuple(x.select(\"H\", 0) for x in vval))\n",
    "    return -expected_cost"
   ]
  },
  {
   "cell_type": "code",
   "execution_count": 22,
   "id": "metallic-mirror",
   "metadata": {},
   "outputs": [],
   "source": [
    "@torch.no_grad()\n",
    "def performance_samples(\n",
    "    dims: tuple[int, int, int],\n",
    "    optimal: bool = False,\n",
    "    samples: int = 100,\n",
    "    clip_ctrl_dim: bool = False,\n",
    ") -> np.ndarray:\n",
    "    n_state, n_ctrl, horizon = dims\n",
    "    if clip_ctrl_dim and n_ctrl < n_state:\n",
    "        return np.full((samples,), fill_value=np.nan)\n",
    "\n",
    "    dynamics, cost, init = sample_lqg(n_state, n_ctrl, horizon, n_batch=samples)\n",
    "\n",
    "    if optimal:\n",
    "        pistar, qstar, vstar = solution(dynamics, cost)\n",
    "        eret = expected_return(init, vstar)\n",
    "    else:\n",
    "        policy = sample_policy(dynamics, cost)\n",
    "        eret = policy_performance(policy, dynamics, cost, init)\n",
    "\n",
    "    return eret.numpy()"
   ]
  },
  {
   "cell_type": "code",
   "execution_count": 23,
   "id": "aquatic-cleaners",
   "metadata": {},
   "outputs": [],
   "source": [
    "def svg_norm_samples(\n",
    "    dims: tuple[int, int, int], samples: int = 100, clip_ctrl_dim: bool = False\n",
    ") -> np.ndarray:\n",
    "    n_state, n_ctrl, horizon = dims\n",
    "    if clip_ctrl_dim and n_ctrl < n_state:\n",
    "        return np.full((samples,), fill_value=np.nan)\n",
    "\n",
    "    dynamics, cost, init = sample_lqg(n_state, n_ctrl, horizon, n_batch=samples)\n",
    "    policy = tuple(g.requires_grad_(True) for g in sample_policy(dynamics, cost))\n",
    "    _, svg_norm = policy_svg_norm(policy, dynamics, cost, init)\n",
    "    return svg_norm.numpy()"
   ]
  },
  {
   "cell_type": "markdown",
   "id": "metric-campbell",
   "metadata": {},
   "source": [
    "### Plotting the performance distribution"
   ]
  },
  {
   "cell_type": "code",
   "execution_count": 51,
   "id": "opening-destruction",
   "metadata": {
    "tags": []
   },
   "outputs": [],
   "source": [
    "def plot_optimal_vs_random_costs_hist(\n",
    "    dims: tuple[int, int, int], samples: int = 1000\n",
    "):\n",
    "    x = \"Cost\"\n",
    "    hue = \"Optimal\"\n",
    "    \n",
    "    optimal = pd.DataFrame(\n",
    "        {x: -performance_samples(dims, optimal=True, samples=samples)}\n",
    "    )\n",
    "    random = pd.DataFrame(\n",
    "        {x: -performance_samples(dims, optimal=False, samples=samples)}\n",
    "    )\n",
    "\n",
    "    optimal[hue] = True\n",
    "    random[hue] = False\n",
    "    data = pd.concat([optimal, random])\n",
    "\n",
    "    sns.histplot(\n",
    "        data=data,\n",
    "        x=x,\n",
    "        hue=hue,\n",
    "        hue_order=[True, False],\n",
    "        stat=\"density\",\n",
    "        log_scale=True,\n",
    "        #         bins=samples // 10\n",
    "    )"
   ]
  },
  {
   "cell_type": "code",
   "execution_count": 75,
   "id": "possible-introduction",
   "metadata": {},
   "outputs": [
    {
     "data": {
      "image/png": "[encoded data removed]",
      "text/plain": [
       "<Figure size 432x288 with 1 Axes>"
      ]
     },
     "metadata": {},
     "output_type": "display_data"
    }
   ],
   "source": [
    "with generator.config(Fs_eigval_range=(0, 1), rand_init_cov=False, rand_trans_cov=False):\n",
    "    plot_optimal_vs_random_costs_hist((20, 20, 20))"
   ]
  },
  {
   "cell_type": "code",
   "execution_count": 53,
   "id": "appreciated-peoples",
   "metadata": {},
   "outputs": [
    {
     "data": {
      "image/png": "[encoded data removed]",
      "text/plain": [
       "<Figure size 432x288 with 1 Axes>"
      ]
     },
     "metadata": {},
     "output_type": "display_data"
    }
   ],
   "source": [
    "plot_optimal_vs_random_costs_hist((2, 2, 1000))"
   ]
  },
  {
   "cell_type": "code",
   "execution_count": 54,
   "id": "surprising-prime",
   "metadata": {},
   "outputs": [
    {
     "data": {
      "image/png": "[encoded data removed]",
      "text/plain": [
       "<Figure size 432x288 with 1 Axes>"
      ]
     },
     "metadata": {},
     "output_type": "display_data"
    }
   ],
   "source": [
    "plot_optimal_vs_random_costs_hist((4, 4, 100))"
   ]
  },
  {
   "cell_type": "code",
   "execution_count": 55,
   "id": "different-brighton",
   "metadata": {},
   "outputs": [
    {
     "data": {
      "image/png": "[encoded data removed]",
      "text/plain": [
       "<Figure size 432x288 with 1 Axes>"
      ]
     },
     "metadata": {},
     "output_type": "display_data"
    }
   ],
   "source": [
    "plot_optimal_vs_random_costs_hist((10, 10, 100))"
   ]
  },
  {
   "cell_type": "code",
   "execution_count": 56,
   "id": "younger-passport",
   "metadata": {},
   "outputs": [
    {
     "data": {
      "image/png": "[encoded data removed]",
      "text/plain": [
       "<Figure size 432x288 with 1 Axes>"
      ]
     },
     "metadata": {},
     "output_type": "display_data"
    }
   ],
   "source": [
    "plot_optimal_vs_random_costs_hist((10, 10, 200))"
   ]
  },
  {
   "cell_type": "code",
   "execution_count": 57,
   "id": "demonstrated-chance",
   "metadata": {},
   "outputs": [
    {
     "data": {
      "image/png": "[encoded data removed]",
      "text/plain": [
       "<Figure size 432x288 with 1 Axes>"
      ]
     },
     "metadata": {},
     "output_type": "display_data"
    }
   ],
   "source": [
    "plot_optimal_vs_random_costs_hist((20, 20, 100))"
   ]
  },
  {
   "cell_type": "markdown",
   "id": "dedicated-operations",
   "metadata": {},
   "source": [
    "### Plotting the SVG norm distribution"
   ]
  },
  {
   "cell_type": "code",
   "execution_count": 31,
   "id": "separate-position",
   "metadata": {},
   "outputs": [],
   "source": [
    "def plot_svg_norm_hist(dims: tuple[int, int, int], samples: int = 1000):\n",
    "    data = pd.DataFrame({\"svg norm\": svg_norm_samples(dims, samples=samples)})\n",
    "    sns.histplot(data=data, x=\"svg norm\", stat=\"density\", log_scale=True)"
   ]
  },
  {
   "cell_type": "code",
   "execution_count": 32,
   "id": "simple-divide",
   "metadata": {},
   "outputs": [
    {
     "data": {
      "image/png": "[encoded data removed]",
      "text/plain": [
       "<Figure size 432x288 with 1 Axes>"
      ]
     },
     "metadata": {},
     "output_type": "display_data"
    }
   ],
   "source": [
    "plot_svg_norm_hist((2, 2, 20))"
   ]
  },
  {
   "cell_type": "code",
   "execution_count": 33,
   "id": "classified-thinking",
   "metadata": {},
   "outputs": [
    {
     "data": {
      "image/png": "[encoded data removed]",
      "text/plain": [
       "<Figure size 432x288 with 1 Axes>"
      ]
     },
     "metadata": {},
     "output_type": "display_data"
    }
   ],
   "source": [
    "plot_svg_norm_hist((2, 2, 100))"
   ]
  },
  {
   "cell_type": "code",
   "execution_count": 34,
   "id": "pregnant-lindsay",
   "metadata": {},
   "outputs": [
    {
     "data": {
      "image/png": "[encoded data removed]",
      "text/plain": [
       "<Figure size 432x288 with 1 Axes>"
      ]
     },
     "metadata": {},
     "output_type": "display_data"
    }
   ],
   "source": [
    "plot_svg_norm_hist((4, 4, 20))"
   ]
  },
  {
   "cell_type": "code",
   "execution_count": 35,
   "id": "little-blend",
   "metadata": {},
   "outputs": [
    {
     "data": {
      "image/png": "[encoded data removed]",
      "text/plain": [
       "<Figure size 432x288 with 1 Axes>"
      ]
     },
     "metadata": {},
     "output_type": "display_data"
    }
   ],
   "source": [
    "plot_svg_norm_hist((10, 10, 20))"
   ]
  },
  {
   "cell_type": "code",
   "execution_count": 36,
   "id": "sophisticated-triumph",
   "metadata": {},
   "outputs": [
    {
     "data": {
      "image/png": "[encoded data removed]",
      "text/plain": [
       "<Figure size 432x288 with 1 Axes>"
      ]
     },
     "metadata": {},
     "output_type": "display_data"
    }
   ],
   "source": [
    "plot_svg_norm_hist((10, 10, 200))"
   ]
  },
  {
   "cell_type": "code",
   "execution_count": 37,
   "id": "romance-springfield",
   "metadata": {},
   "outputs": [
    {
     "data": {
      "image/png": "[encoded data removed]",
      "text/plain": [
       "<Figure size 432x288 with 1 Axes>"
      ]
     },
     "metadata": {},
     "output_type": "display_data"
    }
   ],
   "source": [
    "plot_svg_norm_hist((20, 20, 100))"
   ]
  },
  {
   "cell_type": "markdown",
   "id": "automatic-source",
   "metadata": {},
   "source": [
    "---\n",
    "## Evaluate cost scaling against each variable\n",
    "\n",
    "### Checklist\n",
    "- [x] Stack several LQGs including init dists\n",
    "- [x] Define range of `n_state`s, `n_ctrl`s, and `horizon`s\n",
    "- [x] Fix initial values of `n_state=2`, `n_ctrl=2`, `horizon=100`\n",
    "- [x] Iterate over one of the ranges, e.g., `horizon`s:\n",
    "  - [x] Generate several LQGs with the current `n_state`, `n_ctrl`, `horizon` and stack them\n",
    "  - [x] Find the optimal solutions (policies) and evaluate the optimal expected returns\n",
    "  - [x] Average the results accross the LQGs generated\n",
    "  - [x] Plot the average against the current `n_state`, `n_ctrl`, `horizon`"
   ]
  },
  {
   "cell_type": "code",
   "execution_count": null,
   "id": "right-material",
   "metadata": {},
   "outputs": [],
   "source": [
    "def performance_matrix(\n",
    "    state_dim_arr: np.ndarray,\n",
    "    ctrl_dim_arr: np.ndarray,\n",
    "    horizon_arr: np.ndarray,\n",
    "    perf_sampling_fn: Callable[[int, int, int], np.ndarray],\n",
    ") -> np.ndarray:\n",
    "    pbar = tqdm(\n",
    "        zip(state_dim_arr, ctrl_dim_arr, horizon_arr),\n",
    "        total=len(ctrl_dim_arr),\n",
    "        desc=\"Computing performance by LQG dims\",\n",
    "    )\n",
    "\n",
    "    exp_ret_arrs = [\n",
    "        perf_sampling_fn(n_state, n_ctrl, horizon) for n_state, n_ctrl, horizon in pbar\n",
    "    ]\n",
    "\n",
    "    exp_ret_mat = np.vstack(exp_ret_arrs)\n",
    "    return exp_ret_mat"
   ]
  },
  {
   "cell_type": "code",
   "execution_count": null,
   "id": "integral-hospital",
   "metadata": {
    "tags": []
   },
   "outputs": [],
   "source": [
    "def average_performance_lineplot(\n",
    "    state_dim: np.ndarray,\n",
    "    ctrl_dim: np.ndarray,\n",
    "    horizon: np.ndarray,\n",
    "    x_axis: tuple[str, np.ndarray],\n",
    "):\n",
    "    x, x_arr = x_axis\n",
    "    y = \"average performance\"\n",
    "    hue = \"optimal\"\n",
    "    n_samples = 200\n",
    "\n",
    "    def sampler(s, c, h, *, optimal: bool):\n",
    "        return performance_samples((s, c, h), samples=n_samples, optimal=optimal)\n",
    "\n",
    "    optimal = {\n",
    "        x: x_arr,\n",
    "        y: performance_matrix(\n",
    "            state_dim, ctrl_dim, horizon, partial(sampler, optimal=True)\n",
    "        ).mean(-1),\n",
    "        hue: np.ones_like(x_arr, dtype=bool),\n",
    "    }\n",
    "    random = {\n",
    "        x: x_arr,\n",
    "        y: performance_matrix(\n",
    "            state_dim, ctrl_dim, horizon, partial(sampler, optimal=False)\n",
    "        ).mean(-1),\n",
    "        hue: np.zeros_like(x_arr, dtype=bool),\n",
    "    }\n",
    "\n",
    "    data = pd.concat(list(map(pd.DataFrame, (optimal, random))))\n",
    "    ax = sns.lineplot(x=x, y=y, data=data, hue=hue)\n",
    "    plt.show()"
   ]
  },
  {
   "cell_type": "markdown",
   "id": "developmental-indianapolis",
   "metadata": {
    "tags": []
   },
   "source": [
    "#### Performance vs. state dimension"
   ]
  },
  {
   "cell_type": "code",
   "execution_count": null,
   "id": "relevant-counter",
   "metadata": {},
   "outputs": [],
   "source": [
    "x_axis = np.arange(2, 12)\n",
    "average_performance_lineplot(\n",
    "    state_dim=x_axis,\n",
    "    ctrl_dim=np.full(10, 2, dtype=int),\n",
    "    horizon=np.full(10, 100, dtype=int),\n",
    "    x_axis=(\"state dim\", x_axis),\n",
    ")"
   ]
  },
  {
   "cell_type": "markdown",
   "id": "lined-woman",
   "metadata": {},
   "source": [
    "#### Performance vs. control dimension"
   ]
  },
  {
   "cell_type": "code",
   "execution_count": null,
   "id": "heavy-tuition",
   "metadata": {
    "tags": []
   },
   "outputs": [],
   "source": [
    "state_dims = np.full(10, 2, dtype=int)\n",
    "ctrl_dims = np.arange(2, 12)\n",
    "horizons = np.full(10, 100, dtype=int)\n",
    "average_performance_lineplot(\n",
    "    state_dim=state_dims,\n",
    "    ctrl_dim=ctrl_dims,\n",
    "    horizon=horizons,\n",
    "    x_axis=(\"ctrl dim\", ctrl_dims),\n",
    ")"
   ]
  },
  {
   "cell_type": "markdown",
   "id": "vulnerable-bargain",
   "metadata": {},
   "source": [
    "#### Performance vs. horizon length"
   ]
  },
  {
   "cell_type": "code",
   "execution_count": null,
   "id": "corresponding-sauce",
   "metadata": {
    "tags": []
   },
   "outputs": [],
   "source": [
    "state_dims = np.full(10, 2, dtype=int)\n",
    "ctrl_dims = np.full(10, 2, dtype=int)\n",
    "horizons = 100 * np.arange(1, 11)\n",
    "average_performance_lineplot(state_dims, ctrl_dims, horizons, (\"horizon\", horizons))"
   ]
  },
  {
   "cell_type": "markdown",
   "id": "civic-lodging",
   "metadata": {},
   "source": [
    "#### Performance vs. state & control dimension"
   ]
  },
  {
   "cell_type": "code",
   "execution_count": null,
   "id": "formed-liverpool",
   "metadata": {
    "tags": []
   },
   "outputs": [],
   "source": [
    "state_dims = ctrl_dims = np.arange(1, 21) + 1\n",
    "horizons = np.full(20, 100, dtype=int)\n",
    "average_performance_lineplot(\n",
    "    state_dims, ctrl_dims, horizons, (\"state & ctrl dim\", state_dims)\n",
    ")"
   ]
  },
  {
   "cell_type": "markdown",
   "id": "finnish-replica",
   "metadata": {},
   "source": [
    "---\n",
    "## Multivariate analysis of cost scaling\n",
    "\n",
    "### Checklist\n",
    "- [x] Plot the average expected return against two variables, e.g., `n_state` and `n_ctrl`, as a 3D surface plot\n",
    "- [ ] ~Use the insights gained from observing the cost scaling to propose a _downscaling_ parameter for random QuadCosts~\n",
    "- [x] Use the analysis above to also derive a scale parameter for the random Gaussian noise for policy generation"
   ]
  },
  {
   "cell_type": "code",
   "execution_count": null,
   "id": "known-brooklyn",
   "metadata": {},
   "outputs": [],
   "source": [
    "def large_fig(*args, scale: float = 2.0, **kwargs):\n",
    "    return plt.figure(*args, figsize=[scale * 6.4, scale * 4.8], **kwargs)"
   ]
  },
  {
   "cell_type": "code",
   "execution_count": null,
   "id": "instrumental-search",
   "metadata": {
    "tags": []
   },
   "outputs": [],
   "source": [
    "def plot_3d_from_2d_function(\n",
    "    ax,\n",
    "    xrange: np.ndarray,\n",
    "    yrange: np.ndarray,\n",
    "    function: callable[[np.ndarray, np.ndarray], np.ndarray],\n",
    "):\n",
    "    length = len(xrange)\n",
    "    xbatch, ybatch = np.meshgrid(xrange, yrange)\n",
    "    assert xbatch.shape == ybatch.shape == (length, length)\n",
    "\n",
    "    x_arr, y_arr = map(lambda x: x.reshape((-1,)), (xbatch, ybatch))\n",
    "    assert (\n",
    "        x_arr.shape == y_arr.shape == (length ** 2,)\n",
    "    ), f\"expected: {(length ** 2,)}; x_arr: {x_arr.shape}; y_arr {y_arr.shape}\"\n",
    "\n",
    "    z_arr = function(x_arr, y_arr)\n",
    "    assert z_arr.shape == x_arr.shape, f\"{z_arr.shape} != {x_arr.shape}\"\n",
    "\n",
    "    zbatch = z_arr.reshape(xbatch.shape)\n",
    "    ax.plot_surface(xbatch, ybatch, zbatch, cmap=cm.coolwarm)"
   ]
  },
  {
   "cell_type": "markdown",
   "id": "running-tyler",
   "metadata": {},
   "source": [
    "### State vs. control dimension with fixed horizon\n",
    "\n",
    "In what follows we set the horizon length to 100 steps.\n",
    "\n",
    "#### Best expected return"
   ]
  },
  {
   "cell_type": "code",
   "execution_count": null,
   "id": "governmental-independence",
   "metadata": {},
   "outputs": [],
   "source": [
    "def performances_by_state_ctrl_dim(\n",
    "    state_dim_arr: np.ndarray, ctrl_dim_arr: np.ndarray, horizon: int, optimal: bool\n",
    ") -> np.ndarray:\n",
    "    horizon_arr = np.full_like(state_dim_arr, fill_value=horizon)\n",
    "    exp_opt_ret_mat = performance_matrix(\n",
    "        state_dim_arr,\n",
    "        ctrl_dim_arr,\n",
    "        horizon_arr,\n",
    "        lambda s, c, h: performance_samples(\n",
    "            (s, c, h), optimal=optimal, samples=100, clip_ctrl_dim=False\n",
    "        ),\n",
    "    )\n",
    "    return exp_opt_ret_mat"
   ]
  },
  {
   "cell_type": "code",
   "execution_count": null,
   "id": "unavailable-interval",
   "metadata": {},
   "outputs": [],
   "source": [
    "def average_performance_by_state_ctrl_dim(\n",
    "    state_dim_arr: np.ndarray, ctrl_dim_arr: np.ndarray, optimal: bool\n",
    ") -> np.ndarray:\n",
    "    z_arr = performances_by_state_ctrl_dim(\n",
    "        state_dim_arr, ctrl_dim_arr, horizon=100, optimal=optimal\n",
    "    ).mean(axis=-1)\n",
    "    # Filtering NaNs\n",
    "    z_arr = np.nan_to_num(z_arr, nan=np.nanmin(z_arr))\n",
    "    return z_arr"
   ]
  },
  {
   "cell_type": "code",
   "execution_count": null,
   "id": "incorporate-front",
   "metadata": {
    "tags": []
   },
   "outputs": [],
   "source": [
    "fig = large_fig()\n",
    "ax = fig.add_subplot(projection=\"3d\")\n",
    "plot_3d_from_2d_function(\n",
    "    ax,\n",
    "    xrange=np.arange(1, 21) + 1,\n",
    "    yrange=np.arange(1, 21) + 1,\n",
    "    function=lambda x, y: average_performance_by_state_ctrl_dim(x, y, optimal=True),\n",
    ")\n",
    "ax.set_xlabel(\"state dim\")\n",
    "ax.set_ylabel(\"ctrl dim\")\n",
    "ax.set_title(\"average best performance\")\n",
    "plt.show()"
   ]
  },
  {
   "cell_type": "markdown",
   "id": "canadian-bench",
   "metadata": {},
   "source": [
    "#### Expected return from random policy"
   ]
  },
  {
   "cell_type": "code",
   "execution_count": null,
   "id": "superior-sight",
   "metadata": {
    "tags": []
   },
   "outputs": [],
   "source": [
    "fig = large_fig()\n",
    "ax = fig.add_subplot(projection=\"3d\")\n",
    "plot_3d_from_2d_function(\n",
    "    ax,\n",
    "    xrange=np.arange(1, 21) + 1,\n",
    "    yrange=np.arange(1, 21) + 1,\n",
    "    function=lambda x, y: average_performance_by_state_ctrl_dim(x, y, optimal=False),\n",
    ")\n",
    "ax.set_xlabel(\"state dim\")\n",
    "ax.set_ylabel(\"ctrl dim\")\n",
    "ax.set_title(\"average random performance\")\n",
    "plt.show()"
   ]
  },
  {
   "cell_type": "markdown",
   "id": "beginning-vampire",
   "metadata": {},
   "source": [
    "### State & control dimension vs. horizon length"
   ]
  },
  {
   "cell_type": "markdown",
   "id": "trying-westminster",
   "metadata": {},
   "source": [
    "#### Best expected return"
   ]
  },
  {
   "cell_type": "code",
   "execution_count": null,
   "id": "protecting-company",
   "metadata": {},
   "outputs": [],
   "source": [
    "def performances_by_horizon(\n",
    "    state_ctrl_dim: np.ndarray, horizon_arr: np.ndarray, optimal: bool\n",
    ") -> np.ndarray:\n",
    "    state_dim_arr = ctrl_dim_arr = state_ctrl_dim\n",
    "    opt_perf_mat = performance_matrix(\n",
    "        state_dim_arr,\n",
    "        ctrl_dim_arr,\n",
    "        horizon_arr,\n",
    "        lambda s, c, h: performance_samples((s, c, h), optimal=optimal, samples=100),\n",
    "    )\n",
    "    return opt_perf_mat"
   ]
  },
  {
   "cell_type": "code",
   "execution_count": null,
   "id": "incredible-latin",
   "metadata": {},
   "outputs": [],
   "source": [
    "def average_performance_by_horizon(\n",
    "    state_ctrl_dim: np.ndarray, horizon_arr: np.ndarray, optimal: bool\n",
    ") -> np.ndarray:\n",
    "    z_arr = performances_by_horizon(state_ctrl_dim, horizon_arr, optimal=optimal).mean(\n",
    "        axis=-1\n",
    "    )\n",
    "    # Filtering NaNs\n",
    "    z_arr = np.nan_to_num(z_arr, nan=np.nanmin(z_arr))\n",
    "    return z_arr"
   ]
  },
  {
   "cell_type": "code",
   "execution_count": null,
   "id": "unexpected-prayer",
   "metadata": {
    "tags": []
   },
   "outputs": [],
   "source": [
    "fig = large_fig()\n",
    "ax = fig.add_subplot(projection=\"3d\")\n",
    "plot_3d_from_2d_function(\n",
    "    ax,\n",
    "    xrange=np.arange(1, 21) + 1,\n",
    "    yrange=100 + 10 * np.arange(1, 21),\n",
    "    function=lambda x, y: average_performance_by_horizon(x, y, optimal=True),\n",
    ")\n",
    "ax.set_xlabel(\"state/ctrl dim\")\n",
    "ax.set_ylabel(\"horizon\")\n",
    "ax.set_title(\"average optimal performance\")\n",
    "plt.show()"
   ]
  },
  {
   "cell_type": "markdown",
   "id": "confidential-korean",
   "metadata": {},
   "source": [
    "#### Random expected return"
   ]
  },
  {
   "cell_type": "code",
   "execution_count": null,
   "id": "democratic-table",
   "metadata": {
    "tags": []
   },
   "outputs": [],
   "source": [
    "fig = large_fig()\n",
    "ax = fig.add_subplot(projection=\"3d\")\n",
    "plot_3d_from_2d_function(\n",
    "    ax,\n",
    "    xrange=np.arange(1, 21) + 1,\n",
    "    yrange=100 + 10 * np.arange(1, 21),\n",
    "    function=lambda x, y: average_performance_by_horizon(x, y, optimal=False),\n",
    ")\n",
    "ax.set_xlabel(\"state/ctrl dim\")\n",
    "ax.set_ylabel(\"horizon\")\n",
    "ax.set_title(\"average random performance\")\n",
    "plt.show()"
   ]
  }
 ],
 "metadata": {
  "kernelspec": {
   "display_name": "Python 3",
   "language": "python",
   "name": "python3"
  },
  "language_info": {
   "codemirror_mode": {
    "name": "ipython",
    "version": 3
   },
   "file_extension": ".py",
   "mimetype": "text/x-python",
   "name": "python",
   "nbconvert_exporter": "python",
   "pygments_lexer": "ipython3",
   "version": "3.8.2"
  }
 },
 "nbformat": 4,
 "nbformat_minor": 5
}
