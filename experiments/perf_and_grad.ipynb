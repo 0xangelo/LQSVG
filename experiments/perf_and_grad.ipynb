{
 "cells": [
  {
   "cell_type": "markdown",
   "id": "korean-kitchen",
   "metadata": {},
   "source": [
    "# Ground-truth performance and gradient norms\n",
    "\n",
    "This notebook inspects the initialization schemes for LQGs and time-varying linear policies described in section 5.1 of the [paper](https://www.overleaf.com/read/cmbgmxxpxqzr).\n",
    "\n",
    "### Checklist\n",
    "\n",
    "- [x] Fix `n_state`, `n_ctrl`, `horizon`\n",
    "- [x] Sample random LQGs\n",
    "- [x] Sample random policies\n",
    "- [x] Evaluate the expected return\n",
    "- [x] Evaluate the value gradient norm\n",
    "- [x] Search numpy, scipy for methods for visualizing the distributions"
   ]
  },
  {
   "cell_type": "markdown",
   "id": "analyzed-qatar",
   "metadata": {},
   "source": [
    "---\n",
    "## Linear Quadratic Gaussian (LQG) Problems\n",
    "In what follows we consider MDPs with:\n",
    "1. continuous state space $\\mathbf{s} \\in \\mathcal{S} = \\mathbb{R}^n$\n",
    "2. continuous action space $\\mathbf{a} \\in \\mathcal{A} = \\mathbb{R}^d$\n",
    "3. finite time horizon $N \\in \\mathbb{N}$ and timesteps $t \\in \\mathcal{T} = \\{0, \\dots, N - 1\\}$\n",
    "4. time-varying linear Gaussian dynamics \n",
    "    $$\n",
    "    \\mathbf{s}_{t+1} \\sim p(\\cdot| \\mathbf{s}_t, \\mathbf{a}_t) = \\mathcal{N}\\left( \\cdot ~\\middle|~ \\mathbf{F}_t \\begin{bmatrix}\\mathbf{s}_t \\\\ \\mathbf{a}_t\\end{bmatrix} + \\mathbf{f}_t, \\mathbf{\\Sigma}_{t} \\right)\n",
    "    $$\n",
    "5. time-varying quadratic costs \n",
    "    $$\n",
    "    r_{t+1} = R(\\mathbf{s}_t, \\mathbf{a}_t) = - \\tfrac{1}{2} \\begin{bmatrix}\\mathbf{s}_t \\\\ \\mathbf{a}_t\\end{bmatrix}^\\intercal \\mathbf{C}_t \\begin{bmatrix}\\mathbf{s}_t \\\\ \\mathbf{a}_t\\end{bmatrix} - \\mathbf{c}_t^\\intercal \\begin{bmatrix}\\mathbf{s}_t \\\\ \\mathbf{a}_t\\end{bmatrix}\n",
    "    $$\n",
    "6. Gaussian-distributed initial state \n",
    "    $$\n",
    "    \\mathbf{s}_0 \\sim \\rho = \\mathcal{N}(\\mathbf{\\mu}_\\rho, \\mathbf{\\Sigma}_\\rho)\n",
    "    $$"
   ]
  },
  {
   "cell_type": "markdown",
   "id": "accompanied-command",
   "metadata": {},
   "source": [
    "### Imports"
   ]
  },
  {
   "cell_type": "code",
   "execution_count": 1,
   "id": "optical-wiring",
   "metadata": {},
   "outputs": [],
   "source": [
    "%matplotlib inline\n",
    "from __future__ import annotations\n",
    "\n",
    "import textwrap\n",
    "import warnings\n",
    "from functools import partial\n",
    "from typing import Callable, Optional\n",
    "\n",
    "import lqsvg.envs.lqr.utils as utils\n",
    "import lqsvg.torch.named as nt\n",
    "import matplotlib.pyplot as plt\n",
    "import numpy as np\n",
    "import pandas as pd\n",
    "import seaborn as sns\n",
    "import torch\n",
    "import torch.nn as nn\n",
    "from lqsvg.envs import lqr\n",
    "from lqsvg.envs.lqr.gym import LQGGenerator\n",
    "from lqsvg.experiment.models import ExpectedValue, PolicyLoss\n",
    "from lqsvg.experiment.utils import linear_feedback_distance, linear_feedback_norm\n",
    "from matplotlib import cm\n",
    "from mpl_toolkits.mplot3d import Axes3D\n",
    "from scipy.signal import place_poles\n",
    "from scipy.stats import ortho_group\n",
    "from torch import Tensor\n",
    "from tqdm.notebook import tqdm\n",
    "\n",
    "sns.set()"
   ]
  },
  {
   "cell_type": "markdown",
   "id": "gentle-sensitivity",
   "metadata": {},
   "source": [
    "---\n",
    "## Task selection protocol\n",
    "\n",
    "$$\n",
    "    \\{ \\mathbf{F}_t, \\mathbf{f}_t, \\mathbf{\\Sigma}_t, \\mathbf{C}_t, \\mathbf{c}_t  \\}_{t\\in\\mathcal{T}} \\sim \\text{LQGDist}(\\texttt{n_state, n_ctrl, horizon}) \\\\\n",
    "    \\mathbf{\\mu}_\\rho = \\mathbf{0}, \\quad \\mathbf{\\Sigma}_{\\rho} = \\mathbf{I} \\\\\n",
    "    \\mathcal{M} = \\{ \\mathbf{F}_t, \\mathbf{f}_t, \\mathbf{\\Sigma}_t, \\mathbf{C}_t, \\mathbf{c}_t  \\}_{t\\in\\mathcal{T}} \\cup \\{ \\mathbf{\\mu}_\\rho, \\mathbf{\\Sigma}_\\rho \\}\n",
    "$$"
   ]
  },
  {
   "cell_type": "code",
   "execution_count": 2,
   "id": "secondary-harvest",
   "metadata": {},
   "outputs": [],
   "source": [
    "generator = LQGGenerator(\n",
    "    n_state=2,\n",
    "    n_ctrl=2,\n",
    "    horizon=20,\n",
    "    stationary=True,\n",
    "    passive_eigval_range=(0.5, 1.5),\n",
    "    controllable=True,\n",
    "    transition_bias=False,\n",
    "    rand_trans_cov=False,\n",
    "    rand_init_cov=False,\n",
    "    cost_linear=False,\n",
    "    cost_cross=False,\n",
    ")\n",
    "\n",
    "\n",
    "def sample_lqg(\n",
    "    n_state: int, n_ctrl: int, horizon: int, n_batch: Optional[int] = None\n",
    ") -> tuple[lqr.LinSDynamics, lqr.QuadCost, lqr.GaussInit]:\n",
    "    with generator.config(n_state=n_state, n_ctrl=n_ctrl, horizon=horizon):\n",
    "        return generator(n_batch)"
   ]
  },
  {
   "cell_type": "code",
   "execution_count": 3,
   "id": "concerned-confirmation",
   "metadata": {
    "jupyter": {
     "source_hidden": true
    },
    "tags": []
   },
   "outputs": [],
   "source": [
    "def print_lqg(dynamics, cost, init):\n",
    "    msg = f\"\"\"\\\n",
    "        dynamics:\n",
    "            F: {dynamics.F.shape}; {dynamics.F.names}; min={dynamics.F.min()}; max={dynamics.F.max()}\n",
    "            f: {dynamics.f.shape}; {dynamics.f.names}; min={dynamics.f.min()}; max={dynamics.f.max()}\n",
    "            Sig: {dynamics.W.shape}; {dynamics.W.names}\n",
    "        cost:\n",
    "            C: {cost.C.shape}; {cost.C.names}            \n",
    "            c: {cost.c.shape}; {cost.c.names}\n",
    "        init:\n",
    "            mu: {init.mu.shape}; {init.mu.names}            \n",
    "            sig: {init.sig.shape}; {init.sig.names}\\\n",
    "        \"\"\"\n",
    "    print(textwrap.dedent(msg))\n",
    "    if \"B\" not in cost.C.names:\n",
    "        print(\"C_0:\")\n",
    "        print(textwrap.indent(str(cost.C.select(\"H\", 0).numpy()), \" \" * 4))\n",
    "\n",
    "\n",
    "def test_sample_lqg(n_batch=None):\n",
    "    with warnings.catch_warnings():\n",
    "        warnings.filterwarnings(\"ignore\", message=\".*Named tensors.*\", module=\"torch\")\n",
    "        dynamics, cost, init = sample_lqg(\n",
    "            n_state=2, n_ctrl=2, horizon=100, n_batch=n_batch\n",
    "        )\n",
    "    assert isinstance(dynamics, lqr.LinSDynamics)\n",
    "    assert isinstance(cost, lqr.QuadCost)\n",
    "    assert isinstance(init, lqr.GaussInit)\n",
    "    print_lqg(dynamics, cost, init)\n",
    "\n",
    "\n",
    "def test_batch_lqgs():\n",
    "    test_sample_lqg(n_batch=10)"
   ]
  },
  {
   "cell_type": "code",
   "execution_count": 4,
   "id": "governing-reaction",
   "metadata": {},
   "outputs": [
    {
     "name": "stdout",
     "output_type": "stream",
     "text": [
      "dynamics:\n",
      "    F: torch.Size([100, 2, 4]); ('H', 'R', 'C'); min=-1.3342642784118652; max=1.3460193872451782\n",
      "    f: torch.Size([100, 2]); ('H', 'R'); min=0.0; max=0.0\n",
      "    Sig: torch.Size([100, 2, 2]); ('H', 'R', 'C')\n",
      "cost:\n",
      "    C: torch.Size([100, 4, 4]); ('H', 'R', 'C')            \n",
      "    c: torch.Size([100, 4]); ('H', 'R')\n",
      "init:\n",
      "    mu: torch.Size([2]); ('R',)            \n",
      "    sig: torch.Size([2, 2]); ('R', 'C')        \n",
      "C_0:\n",
      "    [[ 0.30958676  0.5719847   0.          0.        ]\n",
      "     [ 0.5719847   2.980593    0.          0.        ]\n",
      "     [ 0.          0.          0.76470983 -0.64375883]\n",
      "     [ 0.          0.         -0.64375883  0.6652723 ]]\n"
     ]
    }
   ],
   "source": [
    "test_sample_lqg()"
   ]
  },
  {
   "cell_type": "code",
   "execution_count": 5,
   "id": "occupational-wheel",
   "metadata": {},
   "outputs": [
    {
     "name": "stdout",
     "output_type": "stream",
     "text": [
      "dynamics:\n",
      "    F: torch.Size([100, 10, 2, 4]); ('H', 'B', 'R', 'C'); min=-2.281818151473999; max=2.7840280532836914\n",
      "    f: torch.Size([100, 10, 2]); ('H', 'B', 'R'); min=0.0; max=0.0\n",
      "    Sig: torch.Size([100, 10, 2, 2]); ('H', 'B', 'R', 'C')\n",
      "cost:\n",
      "    C: torch.Size([100, 10, 4, 4]); ('H', 'B', 'R', 'C')            \n",
      "    c: torch.Size([100, 10, 4]); ('H', 'B', 'R')\n",
      "init:\n",
      "    mu: torch.Size([10, 2]); ('B', 'R')            \n",
      "    sig: torch.Size([10, 2, 2]); ('B', 'R', 'C')        \n"
     ]
    }
   ],
   "source": [
    "test_batch_lqgs()"
   ]
  },
  {
   "cell_type": "markdown",
   "id": "contemporary-suffering",
   "metadata": {},
   "source": [
    "---\n",
    "## Policy selection protocol\n",
    "\n",
    "$$\n",
    "    \\mu_\\theta(\\mathbf{s}) = \\mathbf{a} \\\\\n",
    "    \\mathcal{M} \\sim \\text{LQGDist}(\\texttt{n_state, n_ctrl, horizon}) \\\\\n",
    "    \\theta = \\{ \\mathbf{K}_t, \\mathbf{k}_t \\}_{t\\in\\mathcal{T}} \\sim \\text{PiDist}(\\mathcal{M})\n",
    "$$"
   ]
  },
  {
   "cell_type": "markdown",
   "id": "played-karma",
   "metadata": {},
   "source": [
    "### Policies that stabilize systems"
   ]
  },
  {
   "cell_type": "code",
   "execution_count": 6,
   "id": "diagnostic-count",
   "metadata": {
    "tags": []
   },
   "outputs": [],
   "source": [
    "def test_pole_placement(print_closed_loop_poles: bool = False):\n",
    "    with generator.config(\n",
    "        n_state=10, passive_eigval_range=(0.5, 1.5), controllable=True\n",
    "    ):\n",
    "        dynamics = generator.make_dynamics()\n",
    "        A, B = utils.stationary_dynamics_factors(dynamics)\n",
    "        A, B = A.numpy(), B.numpy()\n",
    "        passive_poles, _ = np.linalg.eig(A)\n",
    "        poles = generator._rng.uniform(low=-1.0, high=1.0, size=generator.n_state)\n",
    "        res = place_poles(A, B, poles, maxiter=100)\n",
    "\n",
    "    print(\"Passive poles:\")\n",
    "    print(passive_poles)\n",
    "    print(\"K:\")\n",
    "    print(res.gain_matrix)\n",
    "    print(\"Computed poles:\")\n",
    "    print(res.computed_poles)\n",
    "    print(\"Requested poles:\")\n",
    "    print(res.requested_poles)\n",
    "    #     print(\"X:\")\n",
    "    #     print(res.X)\n",
    "    print(\"rtol:\")\n",
    "    print(res.rtol)\n",
    "    print(\"nb iter:\")\n",
    "    print(res.nb_iter)\n",
    "\n",
    "    if print_closed_loop_poles:\n",
    "        print(np.linalg.eig(A - B @ res.gain_matrix)[0])"
   ]
  },
  {
   "cell_type": "code",
   "execution_count": 7,
   "id": "conditional-principle",
   "metadata": {},
   "outputs": [
    {
     "name": "stdout",
     "output_type": "stream",
     "text": [
      "Passive poles:\n",
      "[ 1.441059   0.8346653  1.2012987  1.1523477 -0.8906094 -1.1043956\n",
      " -1.1923077 -1.2722278 -1.4210789 -1.4490509]\n",
      "K:\n",
      "[[ -3.48222048  22.10774289  -2.58388081   4.69317535  -1.3182717\n",
      "    4.77251971   0.68891439  13.87519731 -11.22895243  -5.41812885]\n",
      " [  3.12655872 -17.87493673   2.08489262  -4.01870378   1.23884056\n",
      "   -3.36721825  -0.41159778 -11.70548615   8.67996067   4.16991706]]\n",
      "Computed poles:\n",
      "[-0.67742501 -0.5561058  -0.25785345 -0.20672148  0.02687203  0.06216666\n",
      "  0.11131277  0.35044154  0.36164274  0.78027135]\n",
      "Requested poles:\n",
      "[-0.67742583 -0.55607005 -0.25790331 -0.20694064  0.02730229  0.0624806\n",
      "  0.11085692  0.35031281  0.36172107  0.780273  ]\n",
      "rtol:\n",
      "0.9999899671406396\n",
      "nb iter:\n",
      "100\n"
     ]
    },
    {
     "name": "stderr",
     "output_type": "stream",
     "text": [
      "/Users/angelolovatto/Library/Caches/pypoetry/virtualenvs/lqsvg-kEsPsxvA-py3.8/lib/python3.8/site-packages/scipy/signal/ltisys.py:3340: UserWarning: Convergence was not reached after maxiter iterations.\n",
      "You asked for a relative tolerance of 0.001000 we got 0.999990\n",
      "  warnings.warn(err_msg)\n"
     ]
    }
   ],
   "source": [
    "test_pole_placement()"
   ]
  },
  {
   "cell_type": "markdown",
   "id": "reduced-manner",
   "metadata": {},
   "source": [
    "### Optimal policies"
   ]
  },
  {
   "cell_type": "code",
   "execution_count": 8,
   "id": "driven-junior",
   "metadata": {},
   "outputs": [],
   "source": [
    "def solution(\n",
    "    dynamics: lqr.LinSDynamics, cost: lqr.QuadCost\n",
    ") -> tuple[lqr.Linear, lqr.Quadratic, lqr.Quadratic]:\n",
    "    n_state, n_ctrl, horizon = lqr.dims_from_dynamics(dynamics)\n",
    "    solver = lqr.NamedLQGControl(n_state, n_ctrl, horizon)\n",
    "    pistar, qstar, vstar = solver(dynamics, cost)\n",
    "    return pistar, qstar, vstar\n",
    "\n",
    "\n",
    "def optimal_policy(dynamics: lqr.LinSDynamics, cost: lqr.QuadCost) -> lqr.Linear:\n",
    "    pistar, _, _ = solution(dynamics, cost)\n",
    "    return pistar"
   ]
  },
  {
   "cell_type": "code",
   "execution_count": 9,
   "id": "collective-investigation",
   "metadata": {
    "jupyter": {
     "source_hidden": true
    },
    "tags": []
   },
   "outputs": [],
   "source": [
    "def print_policy(policy: lqr.Linear):\n",
    "    K, k = policy\n",
    "    print(\n",
    "        f\"\"\"\n",
    "        K: {K.shape}; {K.names}\n",
    "        k: {k.shape}; {k.names}\n",
    "    \"\"\"\n",
    "    )\n",
    "\n",
    "\n",
    "def test_optimal_policy():\n",
    "    dynamics, cost, _ = sample_lqg(n_state=2, n_ctrl=2, horizon=100, n_batch=10)\n",
    "    print_policy(optimal_policy(dynamics, cost))"
   ]
  },
  {
   "cell_type": "code",
   "execution_count": 10,
   "id": "unknown-electronics",
   "metadata": {},
   "outputs": [
    {
     "name": "stdout",
     "output_type": "stream",
     "text": [
      "\n",
      "        K: torch.Size([100, 10, 2, 2]); ('H', None, 'R', 'C')\n",
      "        k: torch.Size([100, 10, 2]); ('H', None, 'R')\n",
      "    \n"
     ]
    }
   ],
   "source": [
    "test_optimal_policy()"
   ]
  },
  {
   "cell_type": "markdown",
   "id": "indirect-monster",
   "metadata": {},
   "source": [
    "### Random policies"
   ]
  },
  {
   "cell_type": "code",
   "execution_count": 11,
   "id": "partial-football",
   "metadata": {},
   "outputs": [],
   "source": [
    "# def sample_policy(dynamics: lqr.LinSDynamics, cost: lqr.QuadCost) -> lqr.Linear:\n",
    "#     n_state, n_ctrl, horizon = lqr.dims_from_dynamics(dynamics)\n",
    "#     K = torch.empty((horizon,) + dynamics.F.shape[1:-2] + (n_ctrl, n_state))\n",
    "#     k = torch.empty((horizon,) + dynamics.F.shape[1:-2] + (n_ctrl,))\n",
    "#     nn.init.xavier_uniform_(K)\n",
    "#     nn.init.constant_(k, 0)\n",
    "#     random = (nt.horizon(nt.matrix(K)), nt.horizon(nt.vector(k)))\n",
    "#     return random\n",
    "\n",
    "\n",
    "def stabilizing_gain(dynamics: lqr.LinSDynamics) -> Tensor:\n",
    "    F_s, F_a = utils.stationary_dynamics_factors(dynamics)\n",
    "    A, B = F_s.numpy(), F_a.numpy()\n",
    "    poles = np.random.uniform(low=-1.0, high=1.0, size=A.shape[-1])\n",
    "    result = place_poles(A, B, poles)\n",
    "    minus_K = result.gain_matrix\n",
    "    K = torch.as_tensor(-minus_K).to(F_a).refine_names(*F_a.names)\n",
    "    return K\n",
    "\n",
    "\n",
    "def split_dynamics_along_batch(dynamics: lqr.LinSDynamics) -> list[lqr.LinSDynamics]:\n",
    "    Fs, fs, Ws = map(lambda x: nt.split(x, 1, dim=\"B\"), dynamics)\n",
    "    return [lqr.LinSDynamics(F=F, f=f, W=W) for F, f, W in zip(Fs, fs, Ws)]\n",
    "\n",
    "\n",
    "def squeeze_dynamics_batch(dynamics: lqr.LinSDynamics) -> lqr.LinSDynamics:\n",
    "    F, f, W = (x.squeeze(\"B\") for x in dynamics)\n",
    "    return lqr.LinSDynamics(F=F, f=f, W=W)\n",
    "\n",
    "\n",
    "def sample_policy(dynamics: lqr.LinSDynamics, cost: lqr.QuadCost) -> lqr.Linear:\n",
    "    assert utils.isstationary(dynamics)\n",
    "    del cost\n",
    "\n",
    "    if \"B\" in dynamics.F.names:\n",
    "        K = torch.cat(\n",
    "            [\n",
    "                stabilizing_gain(squeeze_dynamics_batch(d)).align_to(\"B\", ...)\n",
    "                for d in split_dynamics_along_batch(dynamics)\n",
    "            ],\n",
    "            dim=\"B\",\n",
    "        )\n",
    "    else:\n",
    "        K = stabilizing_gain(dynamics)\n",
    "\n",
    "    _, F_a = utils.dynamics_factors(dynamics)\n",
    "    K = K.expand_as(nt.transpose(F_a))\n",
    "    k = torch.zeros_like(F_a[..., 0])\n",
    "\n",
    "    random = (nt.horizon(nt.matrix(K)), nt.horizon(nt.vector(k)))\n",
    "    return random"
   ]
  },
  {
   "cell_type": "code",
   "execution_count": 12,
   "id": "successful-ecology",
   "metadata": {
    "tags": []
   },
   "outputs": [],
   "source": [
    "def test_sample_policy():\n",
    "    dynamics, cost, _ = sample_lqg(n_state=2, n_ctrl=2, horizon=100, n_batch=10)\n",
    "    print_policy(sample_policy(dynamics, cost))"
   ]
  },
  {
   "cell_type": "code",
   "execution_count": 13,
   "id": "split-allergy",
   "metadata": {},
   "outputs": [
    {
     "name": "stdout",
     "output_type": "stream",
     "text": [
      "\n",
      "        K: torch.Size([100, 10, 2, 2]); ('H', 'B', 'R', 'C')\n",
      "        k: torch.Size([100, 10, 2]); ('H', 'B', 'R')\n",
      "    \n"
     ]
    }
   ],
   "source": [
    "test_sample_policy()"
   ]
  },
  {
   "cell_type": "code",
   "execution_count": 14,
   "id": "clear-zambia",
   "metadata": {},
   "outputs": [],
   "source": [
    "def policy_distance(policy_a: lqr.Linear, policy_b: lqr.Linear) -> Tensor:\n",
    "    return linear_feedback_distance(policy_a, policy_b)"
   ]
  },
  {
   "cell_type": "code",
   "execution_count": 15,
   "id": "urban-nerve",
   "metadata": {
    "tags": []
   },
   "outputs": [],
   "source": [
    "def test_policy_distance():\n",
    "    dynamics, cost, _ = sample_lqg(n_state=10, n_ctrl=10, horizon=100, n_batch=10)\n",
    "    optimal = optimal_policy(dynamics, cost)\n",
    "    random = sample_policy(dynamics, cost)\n",
    "    distance = policy_distance(optimal, random)\n",
    "    print(\n",
    "        f\"\"\"\\\n",
    "    Policy distances: \n",
    "        {distance}, \n",
    "        {distance.shape}\\\n",
    "    \"\"\"\n",
    "    )"
   ]
  },
  {
   "cell_type": "code",
   "execution_count": 16,
   "id": "certain-harmony",
   "metadata": {},
   "outputs": [
    {
     "name": "stdout",
     "output_type": "stream",
     "text": [
      "    Policy distances: \n",
      "        tensor([ 91.5188,  24.3065, 232.9965, 200.4928,  35.8795,  42.8922, 100.9293,\n",
      "        521.6553, 107.0693,  66.8309]), \n",
      "        torch.Size([10])    \n"
     ]
    }
   ],
   "source": [
    "test_policy_distance()"
   ]
  },
  {
   "cell_type": "markdown",
   "id": "still-object",
   "metadata": {},
   "source": [
    "---\n",
    "## Ground-truth policy performance\n",
    "\n",
    "<center><b>Sampling</b></center>\n",
    "$$\n",
    "    \\mathcal{M} \\sim \\text{LQGDist}(\\texttt{n_state, n_ctrl, horizon}) \\\\\n",
    "    \\theta = \\{ \\mathbf{K}_t, \\mathbf{k}_t \\}_{t\\in\\mathcal{T}} \\sim \\text{PiDist}(\\mathcal{M})\n",
    "$$\n",
    "<br>\n",
    "\n",
    "<center><b>Prediction</b></center>\n",
    "<!-- LQG prediction can be seen as a function mapping policy parameters (with the dynamics kept constant) to value function coefficients: -->\n",
    "$$\n",
    "\\left( \\mathbf{Q}, \\mathbf{q}, q, \\mathbf{V}, \\mathbf{v}, v \\right) = \\text{LQGPrediction}(\\theta) \\\\\n",
    "V^\\mu(\\mathbf{s}, t) = -\\tfrac12 \\mathbf{s}^\\intercal \\mathbf{V}_t(\\theta) \\mathbf{s} - \\mathbf{v}_t(\\theta)^\\intercal \\mathbf{s} - v_t(\\theta)\n",
    "$$\n",
    "<br>\n",
    "\n",
    "<center><b>Performance</b></center>\n",
    "<!-- We can then express policy performance as a direct function of policy parameters: -->\n",
    "$$\n",
    "\\begin{align}\n",
    "J(\\theta) \n",
    "    &= -\\mathbb{E}_{\\mathbf{s}\\sim\\rho} \\left[ \\tfrac12 \\mathbf{s}^\\intercal \\mathbf{V}_0(\\theta) \\mathbf{s} + \\mathbf{v}_0(\\theta)^\\intercal \\mathbf{s} + v_0(\\theta) \\right] \\\\\n",
    "    &= -\\text{Tr}(\\mathbf{V}_0(\\theta)\\mathbf{\\Sigma}_0) - \\mathbf{\\mu}_0^\\intercal \\mathbf{V}_0(\\theta) \\mathbf{\\mu}_0 - \\mathbf{v}_0(\\theta)^\\intercal \\mathbf{\\mu}_0 - v_0(\\theta)\n",
    "\\end{align}\n",
    "$$"
   ]
  },
  {
   "cell_type": "code",
   "execution_count": 17,
   "id": "defined-opportunity",
   "metadata": {},
   "outputs": [],
   "source": [
    "def policy_loss(\n",
    "    policy: lqr.Linear,\n",
    "    dynamics: lqr.LinSDynamics,\n",
    "    cost: lqr.QuadCost,\n",
    "    init: lqr.GaussInit,\n",
    ") -> Tensor:\n",
    "    n_state, n_ctrl, horizon = lqr.dims_from_dynamics(dynamics)\n",
    "    loss_fn = PolicyLoss(n_state, n_ctrl, horizon)\n",
    "    loss = loss_fn(policy, dynamics, cost, init)\n",
    "    return loss\n",
    "\n",
    "\n",
    "def policy_performance(\n",
    "    policy: lqr.Linear,\n",
    "    dynamics: lqr.LinSDynamics,\n",
    "    cost: lqr.QuadCost,\n",
    "    init: lqr.GaussInit,\n",
    ") -> Tensor:\n",
    "    return -policy_loss(policy, dynamics, cost, init)"
   ]
  },
  {
   "cell_type": "code",
   "execution_count": 18,
   "id": "waiting-parade",
   "metadata": {
    "tags": []
   },
   "outputs": [],
   "source": [
    "def test_policy_loss():\n",
    "    dynamics, cost, init = sample_lqg(n_state=2, n_ctrl=2, horizon=20, n_batch=10)\n",
    "    policy = sample_policy(dynamics, cost)\n",
    "    loss = policy_loss(policy, dynamics, cost, init)\n",
    "    print(\n",
    "        f\"\"\"\\\n",
    "    Loss: \n",
    "        {loss}, \n",
    "        ({loss.dtype}), \n",
    "        ({loss.shape}); \n",
    "    ExpectedReturn: \n",
    "        {-loss}, \n",
    "        ({(-loss).dtype}), \n",
    "        ({loss.shape})\\\n",
    "    \"\"\"\n",
    "    )"
   ]
  },
  {
   "cell_type": "code",
   "execution_count": 19,
   "id": "automotive-lemon",
   "metadata": {},
   "outputs": [
    {
     "name": "stdout",
     "output_type": "stream",
     "text": [
      "    Loss: \n",
      "        tensor([   208.4352,  14579.1895, 165302.8906,   1914.5066,    341.9077,\n",
      "         25390.4141,   3832.2446,    276.1937,  26748.2637,    797.5255],\n",
      "       names=('B',)), \n",
      "        (torch.float32), \n",
      "        (torch.Size([10])); \n",
      "    ExpectedReturn: \n",
      "        tensor([   -208.4352,  -14579.1895, -165302.8906,   -1914.5066,    -341.9077,\n",
      "         -25390.4141,   -3832.2446,    -276.1937,  -26748.2637,    -797.5255],\n",
      "       names=('B',)), \n",
      "        (torch.float32), \n",
      "        (torch.Size([10]))    \n"
     ]
    }
   ],
   "source": [
    "test_policy_loss()"
   ]
  },
  {
   "cell_type": "markdown",
   "id": "martial-armstrong",
   "metadata": {},
   "source": [
    "---\n",
    "## Ground-truth value gradient norm\n",
    "\n",
    "1. **Sampling**$\\rightarrow \\mathcal{M}, \\theta$; \n",
    "2. **Prediction**$\\rightarrow \\left( \\mathbf{Q}, \\mathbf{q}, q, \\mathbf{V}, \\mathbf{v}, v \\right)$; \n",
    "3. **Performance**$\\rightarrow J(\\theta)$;\n",
    "4. **SVG norm**$\\rightarrow \\| \\nabla J(\\theta) \\|$."
   ]
  },
  {
   "cell_type": "code",
   "execution_count": 20,
   "id": "unsigned-joshua",
   "metadata": {},
   "outputs": [],
   "source": [
    "def compute_batched_svg_norm(exp_ret: Tensor, policy: lqr.Linear) -> Tensor:\n",
    "    for x in policy:\n",
    "        x.grad = None\n",
    "    exp_ret.sum().backward()\n",
    "\n",
    "    K_grad, k_grad = (x.grad.detach() for x in policy)\n",
    "    return linear_feedback_norm((K_grad, k_grad))\n",
    "\n",
    "\n",
    "def policy_svg_norm(\n",
    "    policy: lqr.Linear,\n",
    "    dynamics: lqr.LinSDynamics,\n",
    "    cost: lqr.QuadCost,\n",
    "    init: lqr.GaussInit,\n",
    ") -> tuple[Tensor, Tensor]:\n",
    "    eret = policy_performance(policy, dynamics, cost, init)\n",
    "    svg_norm = compute_batched_svg_norm(eret, policy)\n",
    "    return eret, svg_norm"
   ]
  },
  {
   "cell_type": "code",
   "execution_count": 21,
   "id": "forward-significance",
   "metadata": {
    "jupyter": {
     "source_hidden": true
    },
    "tags": []
   },
   "outputs": [],
   "source": [
    "def test_random_policy_svg():\n",
    "    dynamics, cost, init = sample_lqg(n_state=2, n_ctrl=2, horizon=20, n_batch=10)\n",
    "    policy = tuple(x.requires_grad_(True) for x in sample_policy(dynamics, cost))\n",
    "    eret, svg_norm = policy_svg_norm(policy, dynamics, cost, init)\n",
    "    print(\n",
    "        f\"\"\"\\\n",
    "    Expected return: \n",
    "        {eret},\n",
    "        ({eret.dtype},\n",
    "        {eret.shape})\"\"\"\n",
    "    )\n",
    "    print(\n",
    "        f\"\"\"\\\n",
    "    SVG norm: \n",
    "        {svg_norm},\n",
    "        ({svg_norm.dtype},\n",
    "        {svg_norm.shape})\"\"\"\n",
    "    )"
   ]
  },
  {
   "cell_type": "code",
   "execution_count": 22,
   "id": "color-monday",
   "metadata": {},
   "outputs": [
    {
     "name": "stdout",
     "output_type": "stream",
     "text": [
      "    Expected return: \n",
      "        tensor([ -1184.4163,   -105.3096,   -154.1588,  -6833.9424,   -802.1979,\n",
      "         -8416.4590, -28131.1230,   -131.5907,   -128.6568,  -2103.0916],\n",
      "       grad_fn=<NegBackward>, names=('B',)),\n",
      "        (torch.float32,\n",
      "        torch.Size([10]))\n",
      "    SVG norm: \n",
      "        tensor([  209.2660,   131.6358,   450.9607,  2087.6587,  4056.9736, 21637.8516,\n",
      "         1075.8138,    34.4063,    84.5292,  2302.1338]),\n",
      "        (torch.float32,\n",
      "        torch.Size([10]))\n"
     ]
    }
   ],
   "source": [
    "test_random_policy_svg()"
   ]
  },
  {
   "cell_type": "code",
   "execution_count": 23,
   "id": "living-poster",
   "metadata": {
    "jupyter": {
     "source_hidden": true
    },
    "tags": []
   },
   "outputs": [],
   "source": [
    "def test_optimal_policy_svg():\n",
    "    dynamics, cost, init = sample_lqg(n_state=2, n_ctrl=2, horizon=100, n_batch=10)\n",
    "    pistar, _, vstar = solution(dynamics, cost)\n",
    "    loss_fn = ExpectedValue()\n",
    "    eret = -loss_fn(init, tuple(x.select(\"H\", 0) for x in vstar))\n",
    "    print(\n",
    "        f\"\"\"\\\n",
    "    Optimal expected return: \n",
    "        {eret},\n",
    "        ({eret.dtype})\"\"\"\n",
    "    )\n",
    "\n",
    "    policy = tuple(x.requires_grad_(True) for x in pistar)\n",
    "    eret = -policy_loss(policy, dynamics, cost, init)\n",
    "    print(\n",
    "        f\"\"\"\\\n",
    "    Expected return from Prediction algorithm:\n",
    "        {eret},\n",
    "        ({eret.dtype})\"\"\"\n",
    "    )\n",
    "    svg_norm = compute_batched_svg_norm(eret, policy)\n",
    "    print(\n",
    "        f\"\"\"\\\n",
    "    Optimal policy SVG norm: \n",
    "        {svg_norm},\n",
    "        ({svg_norm.dtype},\n",
    "        {svg_norm.shape})\"\"\"\n",
    "    )"
   ]
  },
  {
   "cell_type": "code",
   "execution_count": 24,
   "id": "physical-thanksgiving",
   "metadata": {},
   "outputs": [
    {
     "name": "stdout",
     "output_type": "stream",
     "text": [
      "    Optimal expected return: \n",
      "        tensor([-257.0339, -274.1497, -232.2397, -265.3232, -118.0671, -210.8270,\n",
      "        -342.1130, -235.7427, -324.4736, -291.2102], names=('B',)),\n",
      "        (torch.float32)\n",
      "    Expected return from Prediction algorithm:\n",
      "        tensor([-257.0339, -274.1497, -232.2397, -265.3232, -118.0671, -210.8270,\n",
      "        -342.1130, -235.7427, -324.4736, -291.2102], grad_fn=<NegBackward>,\n",
      "       names=('B',)),\n",
      "        (torch.float32)\n",
      "    Optimal policy SVG norm: \n",
      "        tensor([1.2125e-04, 1.5777e-04, 1.9490e-05, 3.7539e-05, 2.1140e-05, 5.8685e-06,\n",
      "        1.0361e-05, 3.6186e-05, 3.0712e-05, 2.6207e-05]),\n",
      "        (torch.float32,\n",
      "        torch.Size([10]))\n"
     ]
    }
   ],
   "source": [
    "test_optimal_policy_svg()"
   ]
  },
  {
   "cell_type": "markdown",
   "id": "excellent-regression",
   "metadata": {},
   "source": [
    "---\n",
    "## Beyond averages\n",
    "\n",
    "Next, we evaluate the distribution of optimal/random policy performances for certain LQG problem sizes"
   ]
  },
  {
   "cell_type": "markdown",
   "id": "subsequent-moderator",
   "metadata": {},
   "source": [
    "### Calculating the expected return (performance) & SVG norm for a batch of LQGs"
   ]
  },
  {
   "cell_type": "code",
   "execution_count": 25,
   "id": "genetic-treasury",
   "metadata": {},
   "outputs": [],
   "source": [
    "def expected_return(init: lqr.GaussInit, vval: lqr.Quadratic) -> Tensor:\n",
    "    expected_value = ExpectedValue()\n",
    "    expected_cost = expected_value(init, tuple(x.select(\"H\", 0) for x in vval))\n",
    "    return -expected_cost\n",
    "\n",
    "\n",
    "def optimal_performance(\n",
    "    dynamics: lqr.LinSDynamics, cost: lqr.QuadCost, init: lqr.GaussInit\n",
    ") -> Tensor:\n",
    "    pistar, qstar, vstar = solution(dynamics, cost)\n",
    "    return expected_return(init, vstar)\n",
    "\n",
    "\n",
    "def random_performance(\n",
    "    dynamics: lqr.LinSDynamics, cost: lqr.QuadCost, init: lqr.GaussInit\n",
    ") -> Tensor:\n",
    "    return policy_performance(sample_policy(dynamics, cost), dynamics, cost, init)"
   ]
  },
  {
   "cell_type": "code",
   "execution_count": 26,
   "id": "ahead-delhi",
   "metadata": {},
   "outputs": [],
   "source": [
    "@torch.no_grad()\n",
    "def performance_samples(\n",
    "    dims: tuple[int, int, int],\n",
    "    optimal: bool = False,\n",
    "    samples: int = 100,\n",
    "    clip_ctrl_dim: bool = False,\n",
    ") -> np.ndarray:\n",
    "    n_state, n_ctrl, horizon = dims\n",
    "    if clip_ctrl_dim and n_ctrl < n_state:\n",
    "        return np.full((samples,), fill_value=np.nan)\n",
    "\n",
    "    dynamics, cost, init = sample_lqg(n_state, n_ctrl, horizon, n_batch=samples)\n",
    "\n",
    "    eret = (optimal_performance if optimal else random_performance)(\n",
    "        dynamics, cost, init\n",
    "    )\n",
    "    return eret.numpy()"
   ]
  },
  {
   "cell_type": "markdown",
   "id": "pharmaceutical-background",
   "metadata": {},
   "source": [
    "### Plotting the optimal cost distribution of controllable/uncontrollable systems"
   ]
  },
  {
   "cell_type": "code",
   "execution_count": 27,
   "id": "italic-packet",
   "metadata": {
    "tags": []
   },
   "outputs": [],
   "source": [
    "def plot_optimal_costs_by_controllability(\n",
    "    dims: tuple[int, int, int], samples: int = 1000, **kwargs\n",
    "):\n",
    "    x = \"Cost\"\n",
    "    hue = \"Controllable\"\n",
    "\n",
    "    with generator.config(controllable=True, **kwargs):\n",
    "        controllable = pd.DataFrame(\n",
    "            {x: -performance_samples(dims, optimal=True, samples=samples)}\n",
    "        )\n",
    "        controllable[hue] = True\n",
    "    with generator.config(controllable=False, **kwargs):\n",
    "        uncontrollable = pd.DataFrame(\n",
    "            {x: -performance_samples(dims, optimal=True, samples=samples)}\n",
    "        )\n",
    "        uncontrollable[hue] = False\n",
    "\n",
    "    data = pd.concat([controllable, uncontrollable])\n",
    "\n",
    "    sns.histplot(\n",
    "        data=data,\n",
    "        x=x,\n",
    "        hue=hue,\n",
    "        hue_order=[True, False],\n",
    "        stat=\"density\",\n",
    "        log_scale=True,\n",
    "        #         bins=samples // 10\n",
    "    )\n",
    "    plt.title(\"|S|={}, |A|={}, H={}\".format(*dims))\n",
    "    plt.show()"
   ]
  },
  {
   "cell_type": "code",
   "execution_count": 28,
   "id": "mighty-navigation",
   "metadata": {},
   "outputs": [
    {
     "data": {
      "image/png": "[encoded data removed]",
      "text/plain": [
       "<Figure size 432x288 with 1 Axes>"
      ]
     },
     "metadata": {},
     "output_type": "display_data"
    },
    {
     "data": {
      "image/png": "[encoded data removed]",
      "text/plain": [
       "<Figure size 432x288 with 1 Axes>"
      ]
     },
     "metadata": {},
     "output_type": "display_data"
    },
    {
     "data": {
      "image/png": "[encoded data removed]",
      "text/plain": [
       "<Figure size 432x288 with 1 Axes>"
      ]
     },
     "metadata": {},
     "output_type": "display_data"
    },
    {
     "data": {
      "image/png": "[encoded data removed]",
      "text/plain": [
       "<Figure size 432x288 with 1 Axes>"
      ]
     },
     "metadata": {},
     "output_type": "display_data"
    },
    {
     "data": {
      "image/png": "[encoded data removed]",
      "text/plain": [
       "<Figure size 432x288 with 1 Axes>"
      ]
     },
     "metadata": {},
     "output_type": "display_data"
    },
    {
     "data": {
      "image/png": "[encoded data removed]",
      "text/plain": [
       "<Figure size 432x288 with 1 Axes>"
      ]
     },
     "metadata": {},
     "output_type": "display_data"
    }
   ],
   "source": [
    "plot_optimal_costs_by_controllability((2, 2, 20))\n",
    "\n",
    "plot_optimal_costs_by_controllability((2, 2, 100))\n",
    "\n",
    "plot_optimal_costs_by_controllability((4, 4, 20))\n",
    "\n",
    "plot_optimal_costs_by_controllability((8, 8, 20), passive_eigval_range=(1.0, 2.0))\n",
    "\n",
    "plot_optimal_costs_by_controllability((16, 16, 20))\n",
    "\n",
    "plot_optimal_costs_by_controllability((32, 32, 20))"
   ]
  },
  {
   "cell_type": "markdown",
   "id": "effective-south",
   "metadata": {},
   "source": [
    "### Plotting the performance distribution of optimal/random policies"
   ]
  },
  {
   "cell_type": "code",
   "execution_count": 29,
   "id": "german-configuration",
   "metadata": {
    "tags": []
   },
   "outputs": [],
   "source": [
    "def plot_optimal_vs_random_costs_hist(dims: tuple[int, int, int], samples: int = 1000):\n",
    "    x = \"Cost\"\n",
    "    hue = \"Optimal\"\n",
    "\n",
    "    optimal = pd.DataFrame(\n",
    "        {x: -performance_samples(dims, optimal=True, samples=samples)}\n",
    "    )\n",
    "    random = pd.DataFrame(\n",
    "        {x: -performance_samples(dims, optimal=False, samples=samples)}\n",
    "    )\n",
    "\n",
    "    optimal[hue] = True\n",
    "    random[hue] = False\n",
    "    data = pd.concat([optimal, random])\n",
    "\n",
    "    sns.histplot(\n",
    "        data=data,\n",
    "        x=x,\n",
    "        hue=hue,\n",
    "        hue_order=[True, False],\n",
    "        stat=\"density\",\n",
    "        log_scale=True,\n",
    "        bins=samples // 10,\n",
    "    )\n",
    "    plt.show()"
   ]
  },
  {
   "cell_type": "code",
   "execution_count": 30,
   "id": "accepting-train",
   "metadata": {},
   "outputs": [
    {
     "data": {
      "image/png": "[encoded data removed]",
      "text/plain": [
       "<Figure size 432x288 with 1 Axes>"
      ]
     },
     "metadata": {},
     "output_type": "display_data"
    },
    {
     "data": {
      "image/png": "[encoded data removed]",
      "text/plain": [
       "<Figure size 432x288 with 1 Axes>"
      ]
     },
     "metadata": {},
     "output_type": "display_data"
    },
    {
     "name": "stderr",
     "output_type": "stream",
     "text": [
      "/Users/angelolovatto/Library/Caches/pypoetry/virtualenvs/lqsvg-kEsPsxvA-py3.8/lib/python3.8/site-packages/pandas/core/arraylike.py:358: RuntimeWarning: invalid value encountered in log10\n",
      "  result = getattr(ufunc, method)(*inputs, **kwargs)\n"
     ]
    },
    {
     "data": {
      "image/png": "[encoded data removed]",
      "text/plain": [
       "<Figure size 432x288 with 1 Axes>"
      ]
     },
     "metadata": {},
     "output_type": "display_data"
    },
    {
     "name": "stderr",
     "output_type": "stream",
     "text": [
      "/Users/angelolovatto/Library/Caches/pypoetry/virtualenvs/lqsvg-kEsPsxvA-py3.8/lib/python3.8/site-packages/pandas/core/arraylike.py:358: RuntimeWarning: invalid value encountered in log10\n",
      "  result = getattr(ufunc, method)(*inputs, **kwargs)\n"
     ]
    },
    {
     "data": {
      "image/png": "[encoded data removed]",
      "text/plain": [
       "<Figure size 432x288 with 1 Axes>"
      ]
     },
     "metadata": {},
     "output_type": "display_data"
    },
    {
     "name": "stderr",
     "output_type": "stream",
     "text": [
      "/Users/angelolovatto/Library/Caches/pypoetry/virtualenvs/lqsvg-kEsPsxvA-py3.8/lib/python3.8/site-packages/pandas/core/arraylike.py:358: RuntimeWarning: invalid value encountered in log10\n",
      "  result = getattr(ufunc, method)(*inputs, **kwargs)\n"
     ]
    },
    {
     "data": {
      "image/png": "[encoded data removed]",
      "text/plain": [
       "<Figure size 432x288 with 1 Axes>"
      ]
     },
     "metadata": {},
     "output_type": "display_data"
    },
    {
     "ename": "ValueError",
     "evalue": "The poles you've chosen can't be placed. Check the controllability matrix and try another set of poles",
     "output_type": "error",
     "traceback": [
      "\u001b[0;31m---------------------------------------------------------------------------\u001b[0m",
      "\u001b[0;31mLinAlgError\u001b[0m                               Traceback (most recent call last)",
      "\u001b[0;32m~/Library/Caches/pypoetry/virtualenvs/lqsvg-kEsPsxvA-py3.8/lib/python3.8/site-packages/scipy/signal/ltisys.py\u001b[0m in \u001b[0;36mplace_poles\u001b[0;34m(A, B, poles, method, rtol, maxiter)\u001b[0m\n\u001b[1;32m   3361\u001b[0m                                                           transfer_matrix.T)).T\n\u001b[0;32m-> 3362\u001b[0;31m             \u001b[0mgain_matrix\u001b[0m \u001b[0;34m=\u001b[0m \u001b[0mnp\u001b[0m\u001b[0;34m.\u001b[0m\u001b[0mlinalg\u001b[0m\u001b[0;34m.\u001b[0m\u001b[0msolve\u001b[0m\u001b[0;34m(\u001b[0m\u001b[0mz\u001b[0m\u001b[0;34m,\u001b[0m \u001b[0mnp\u001b[0m\u001b[0;34m.\u001b[0m\u001b[0mdot\u001b[0m\u001b[0;34m(\u001b[0m\u001b[0mu0\u001b[0m\u001b[0;34m.\u001b[0m\u001b[0mT\u001b[0m\u001b[0;34m,\u001b[0m \u001b[0mm\u001b[0m\u001b[0;34m-\u001b[0m\u001b[0mA\u001b[0m\u001b[0;34m)\u001b[0m\u001b[0;34m)\u001b[0m\u001b[0;34m\u001b[0m\u001b[0;34m\u001b[0m\u001b[0m\n\u001b[0m\u001b[1;32m   3363\u001b[0m         \u001b[0;32mexcept\u001b[0m \u001b[0mnp\u001b[0m\u001b[0;34m.\u001b[0m\u001b[0mlinalg\u001b[0m\u001b[0;34m.\u001b[0m\u001b[0mLinAlgError\u001b[0m \u001b[0;32mas\u001b[0m \u001b[0me\u001b[0m\u001b[0;34m:\u001b[0m\u001b[0;34m\u001b[0m\u001b[0;34m\u001b[0m\u001b[0m\n",
      "\u001b[0;32m<__array_function__ internals>\u001b[0m in \u001b[0;36msolve\u001b[0;34m(*args, **kwargs)\u001b[0m\n",
      "\u001b[0;32m~/Library/Caches/pypoetry/virtualenvs/lqsvg-kEsPsxvA-py3.8/lib/python3.8/site-packages/numpy/linalg/linalg.py\u001b[0m in \u001b[0;36msolve\u001b[0;34m(a, b)\u001b[0m\n\u001b[1;32m    379\u001b[0m     \u001b[0m_assert_stacked_2d\u001b[0m\u001b[0;34m(\u001b[0m\u001b[0ma\u001b[0m\u001b[0;34m)\u001b[0m\u001b[0;34m\u001b[0m\u001b[0;34m\u001b[0m\u001b[0m\n\u001b[0;32m--> 380\u001b[0;31m     \u001b[0m_assert_stacked_square\u001b[0m\u001b[0;34m(\u001b[0m\u001b[0ma\u001b[0m\u001b[0;34m)\u001b[0m\u001b[0;34m\u001b[0m\u001b[0;34m\u001b[0m\u001b[0m\n\u001b[0m\u001b[1;32m    381\u001b[0m     \u001b[0mb\u001b[0m\u001b[0;34m,\u001b[0m \u001b[0mwrap\u001b[0m \u001b[0;34m=\u001b[0m \u001b[0m_makearray\u001b[0m\u001b[0;34m(\u001b[0m\u001b[0mb\u001b[0m\u001b[0;34m)\u001b[0m\u001b[0;34m\u001b[0m\u001b[0;34m\u001b[0m\u001b[0m\n",
      "\u001b[0;32m~/Library/Caches/pypoetry/virtualenvs/lqsvg-kEsPsxvA-py3.8/lib/python3.8/site-packages/numpy/linalg/linalg.py\u001b[0m in \u001b[0;36m_assert_stacked_square\u001b[0;34m(*arrays)\u001b[0m\n\u001b[1;32m    202\u001b[0m         \u001b[0;32mif\u001b[0m \u001b[0mm\u001b[0m \u001b[0;34m!=\u001b[0m \u001b[0mn\u001b[0m\u001b[0;34m:\u001b[0m\u001b[0;34m\u001b[0m\u001b[0;34m\u001b[0m\u001b[0m\n\u001b[0;32m--> 203\u001b[0;31m             \u001b[0;32mraise\u001b[0m \u001b[0mLinAlgError\u001b[0m\u001b[0;34m(\u001b[0m\u001b[0;34m'Last 2 dimensions of the array must be square'\u001b[0m\u001b[0;34m)\u001b[0m\u001b[0;34m\u001b[0m\u001b[0;34m\u001b[0m\u001b[0m\n\u001b[0m\u001b[1;32m    204\u001b[0m \u001b[0;34m\u001b[0m\u001b[0m\n",
      "\u001b[0;31mLinAlgError\u001b[0m: Last 2 dimensions of the array must be square",
      "\nThe above exception was the direct cause of the following exception:\n",
      "\u001b[0;31mValueError\u001b[0m                                Traceback (most recent call last)",
      "\u001b[0;32m<ipython-input-30-b1f3ee556156>\u001b[0m in \u001b[0;36m<module>\u001b[0;34m\u001b[0m\n\u001b[1;32m      9\u001b[0m \u001b[0mplot_optimal_vs_random_costs_hist\u001b[0m\u001b[0;34m(\u001b[0m\u001b[0;34m(\u001b[0m\u001b[0;36m10\u001b[0m\u001b[0;34m,\u001b[0m \u001b[0;36m10\u001b[0m\u001b[0;34m,\u001b[0m \u001b[0;36m200\u001b[0m\u001b[0;34m)\u001b[0m\u001b[0;34m)\u001b[0m\u001b[0;34m\u001b[0m\u001b[0;34m\u001b[0m\u001b[0m\n\u001b[1;32m     10\u001b[0m \u001b[0;34m\u001b[0m\u001b[0m\n\u001b[0;32m---> 11\u001b[0;31m \u001b[0mplot_optimal_vs_random_costs_hist\u001b[0m\u001b[0;34m(\u001b[0m\u001b[0;34m(\u001b[0m\u001b[0;36m20\u001b[0m\u001b[0;34m,\u001b[0m \u001b[0;36m20\u001b[0m\u001b[0;34m,\u001b[0m \u001b[0;36m100\u001b[0m\u001b[0;34m)\u001b[0m\u001b[0;34m)\u001b[0m\u001b[0;34m\u001b[0m\u001b[0;34m\u001b[0m\u001b[0m\n\u001b[0m",
      "\u001b[0;32m<ipython-input-29-243ad51e83dd>\u001b[0m in \u001b[0;36mplot_optimal_vs_random_costs_hist\u001b[0;34m(dims, samples)\u001b[0m\n\u001b[1;32m      7\u001b[0m     )\n\u001b[1;32m      8\u001b[0m     random = pd.DataFrame(\n\u001b[0;32m----> 9\u001b[0;31m         \u001b[0;34m{\u001b[0m\u001b[0mx\u001b[0m\u001b[0;34m:\u001b[0m \u001b[0;34m-\u001b[0m\u001b[0mperformance_samples\u001b[0m\u001b[0;34m(\u001b[0m\u001b[0mdims\u001b[0m\u001b[0;34m,\u001b[0m \u001b[0moptimal\u001b[0m\u001b[0;34m=\u001b[0m\u001b[0;32mFalse\u001b[0m\u001b[0;34m,\u001b[0m \u001b[0msamples\u001b[0m\u001b[0;34m=\u001b[0m\u001b[0msamples\u001b[0m\u001b[0;34m)\u001b[0m\u001b[0;34m}\u001b[0m\u001b[0;34m\u001b[0m\u001b[0;34m\u001b[0m\u001b[0m\n\u001b[0m\u001b[1;32m     10\u001b[0m     )\n\u001b[1;32m     11\u001b[0m \u001b[0;34m\u001b[0m\u001b[0m\n",
      "\u001b[0;32m~/Library/Caches/pypoetry/virtualenvs/lqsvg-kEsPsxvA-py3.8/lib/python3.8/site-packages/torch/autograd/grad_mode.py\u001b[0m in \u001b[0;36mdecorate_context\u001b[0;34m(*args, **kwargs)\u001b[0m\n\u001b[1;32m     25\u001b[0m         \u001b[0;32mdef\u001b[0m \u001b[0mdecorate_context\u001b[0m\u001b[0;34m(\u001b[0m\u001b[0;34m*\u001b[0m\u001b[0margs\u001b[0m\u001b[0;34m,\u001b[0m \u001b[0;34m**\u001b[0m\u001b[0mkwargs\u001b[0m\u001b[0;34m)\u001b[0m\u001b[0;34m:\u001b[0m\u001b[0;34m\u001b[0m\u001b[0;34m\u001b[0m\u001b[0m\n\u001b[1;32m     26\u001b[0m             \u001b[0;32mwith\u001b[0m \u001b[0mself\u001b[0m\u001b[0;34m.\u001b[0m\u001b[0m__class__\u001b[0m\u001b[0;34m(\u001b[0m\u001b[0;34m)\u001b[0m\u001b[0;34m:\u001b[0m\u001b[0;34m\u001b[0m\u001b[0;34m\u001b[0m\u001b[0m\n\u001b[0;32m---> 27\u001b[0;31m                 \u001b[0;32mreturn\u001b[0m \u001b[0mfunc\u001b[0m\u001b[0;34m(\u001b[0m\u001b[0;34m*\u001b[0m\u001b[0margs\u001b[0m\u001b[0;34m,\u001b[0m \u001b[0;34m**\u001b[0m\u001b[0mkwargs\u001b[0m\u001b[0;34m)\u001b[0m\u001b[0;34m\u001b[0m\u001b[0;34m\u001b[0m\u001b[0m\n\u001b[0m\u001b[1;32m     28\u001b[0m         \u001b[0;32mreturn\u001b[0m \u001b[0mcast\u001b[0m\u001b[0;34m(\u001b[0m\u001b[0mF\u001b[0m\u001b[0;34m,\u001b[0m \u001b[0mdecorate_context\u001b[0m\u001b[0;34m)\u001b[0m\u001b[0;34m\u001b[0m\u001b[0;34m\u001b[0m\u001b[0m\n\u001b[1;32m     29\u001b[0m \u001b[0;34m\u001b[0m\u001b[0m\n",
      "\u001b[0;32m<ipython-input-26-c70cbe54832e>\u001b[0m in \u001b[0;36mperformance_samples\u001b[0;34m(dims, optimal, samples, clip_ctrl_dim)\u001b[0m\n\u001b[1;32m     12\u001b[0m     \u001b[0mdynamics\u001b[0m\u001b[0;34m,\u001b[0m \u001b[0mcost\u001b[0m\u001b[0;34m,\u001b[0m \u001b[0minit\u001b[0m \u001b[0;34m=\u001b[0m \u001b[0msample_lqg\u001b[0m\u001b[0;34m(\u001b[0m\u001b[0mn_state\u001b[0m\u001b[0;34m,\u001b[0m \u001b[0mn_ctrl\u001b[0m\u001b[0;34m,\u001b[0m \u001b[0mhorizon\u001b[0m\u001b[0;34m,\u001b[0m \u001b[0mn_batch\u001b[0m\u001b[0;34m=\u001b[0m\u001b[0msamples\u001b[0m\u001b[0;34m)\u001b[0m\u001b[0;34m\u001b[0m\u001b[0;34m\u001b[0m\u001b[0m\n\u001b[1;32m     13\u001b[0m \u001b[0;34m\u001b[0m\u001b[0m\n\u001b[0;32m---> 14\u001b[0;31m     eret = (optimal_performance if optimal else random_performance)(\n\u001b[0m\u001b[1;32m     15\u001b[0m         \u001b[0mdynamics\u001b[0m\u001b[0;34m,\u001b[0m \u001b[0mcost\u001b[0m\u001b[0;34m,\u001b[0m \u001b[0minit\u001b[0m\u001b[0;34m\u001b[0m\u001b[0;34m\u001b[0m\u001b[0m\n\u001b[1;32m     16\u001b[0m     )\n",
      "\u001b[0;32m<ipython-input-25-98cce60de837>\u001b[0m in \u001b[0;36mrandom_performance\u001b[0;34m(dynamics, cost, init)\u001b[0m\n\u001b[1;32m     15\u001b[0m     \u001b[0mdynamics\u001b[0m\u001b[0;34m:\u001b[0m \u001b[0mlqr\u001b[0m\u001b[0;34m.\u001b[0m\u001b[0mLinSDynamics\u001b[0m\u001b[0;34m,\u001b[0m \u001b[0mcost\u001b[0m\u001b[0;34m:\u001b[0m \u001b[0mlqr\u001b[0m\u001b[0;34m.\u001b[0m\u001b[0mQuadCost\u001b[0m\u001b[0;34m,\u001b[0m \u001b[0minit\u001b[0m\u001b[0;34m:\u001b[0m \u001b[0mlqr\u001b[0m\u001b[0;34m.\u001b[0m\u001b[0mGaussInit\u001b[0m\u001b[0;34m\u001b[0m\u001b[0;34m\u001b[0m\u001b[0m\n\u001b[1;32m     16\u001b[0m ) -> Tensor:\n\u001b[0;32m---> 17\u001b[0;31m     \u001b[0;32mreturn\u001b[0m \u001b[0mpolicy_performance\u001b[0m\u001b[0;34m(\u001b[0m\u001b[0msample_policy\u001b[0m\u001b[0;34m(\u001b[0m\u001b[0mdynamics\u001b[0m\u001b[0;34m,\u001b[0m \u001b[0mcost\u001b[0m\u001b[0;34m)\u001b[0m\u001b[0;34m,\u001b[0m \u001b[0mdynamics\u001b[0m\u001b[0;34m,\u001b[0m \u001b[0mcost\u001b[0m\u001b[0;34m,\u001b[0m \u001b[0minit\u001b[0m\u001b[0;34m)\u001b[0m\u001b[0;34m\u001b[0m\u001b[0;34m\u001b[0m\u001b[0m\n\u001b[0m",
      "\u001b[0;32m<ipython-input-11-9967fde799bc>\u001b[0m in \u001b[0;36msample_policy\u001b[0;34m(***failed resolving arguments***)\u001b[0m\n\u001b[1;32m     35\u001b[0m     \u001b[0;32mif\u001b[0m \u001b[0;34m\"B\"\u001b[0m \u001b[0;32min\u001b[0m \u001b[0mdynamics\u001b[0m\u001b[0;34m.\u001b[0m\u001b[0mF\u001b[0m\u001b[0;34m.\u001b[0m\u001b[0mnames\u001b[0m\u001b[0;34m:\u001b[0m\u001b[0;34m\u001b[0m\u001b[0;34m\u001b[0m\u001b[0m\n\u001b[1;32m     36\u001b[0m         K = torch.cat(\n\u001b[0;32m---> 37\u001b[0;31m             [\n\u001b[0m\u001b[1;32m     38\u001b[0m                 \u001b[0mstabilizing_gain\u001b[0m\u001b[0;34m(\u001b[0m\u001b[0msqueeze_dynamics_batch\u001b[0m\u001b[0;34m(\u001b[0m\u001b[0md\u001b[0m\u001b[0;34m)\u001b[0m\u001b[0;34m)\u001b[0m\u001b[0;34m.\u001b[0m\u001b[0malign_to\u001b[0m\u001b[0;34m(\u001b[0m\u001b[0;34m\"B\"\u001b[0m\u001b[0;34m,\u001b[0m \u001b[0;34m...\u001b[0m\u001b[0;34m)\u001b[0m\u001b[0;34m\u001b[0m\u001b[0;34m\u001b[0m\u001b[0m\n\u001b[1;32m     39\u001b[0m                 \u001b[0;32mfor\u001b[0m \u001b[0md\u001b[0m \u001b[0;32min\u001b[0m \u001b[0msplit_dynamics_along_batch\u001b[0m\u001b[0;34m(\u001b[0m\u001b[0mdynamics\u001b[0m\u001b[0;34m)\u001b[0m\u001b[0;34m\u001b[0m\u001b[0;34m\u001b[0m\u001b[0m\n",
      "\u001b[0;32m<ipython-input-11-9967fde799bc>\u001b[0m in \u001b[0;36m<listcomp>\u001b[0;34m(.0)\u001b[0m\n\u001b[1;32m     36\u001b[0m         K = torch.cat(\n\u001b[1;32m     37\u001b[0m             [\n\u001b[0;32m---> 38\u001b[0;31m                 \u001b[0mstabilizing_gain\u001b[0m\u001b[0;34m(\u001b[0m\u001b[0msqueeze_dynamics_batch\u001b[0m\u001b[0;34m(\u001b[0m\u001b[0md\u001b[0m\u001b[0;34m)\u001b[0m\u001b[0;34m)\u001b[0m\u001b[0;34m.\u001b[0m\u001b[0malign_to\u001b[0m\u001b[0;34m(\u001b[0m\u001b[0;34m\"B\"\u001b[0m\u001b[0;34m,\u001b[0m \u001b[0;34m...\u001b[0m\u001b[0;34m)\u001b[0m\u001b[0;34m\u001b[0m\u001b[0;34m\u001b[0m\u001b[0m\n\u001b[0m\u001b[1;32m     39\u001b[0m                 \u001b[0;32mfor\u001b[0m \u001b[0md\u001b[0m \u001b[0;32min\u001b[0m \u001b[0msplit_dynamics_along_batch\u001b[0m\u001b[0;34m(\u001b[0m\u001b[0mdynamics\u001b[0m\u001b[0;34m)\u001b[0m\u001b[0;34m\u001b[0m\u001b[0;34m\u001b[0m\u001b[0m\n\u001b[1;32m     40\u001b[0m             ],\n",
      "\u001b[0;32m<ipython-input-11-9967fde799bc>\u001b[0m in \u001b[0;36mstabilizing_gain\u001b[0;34m(dynamics)\u001b[0m\n\u001b[1;32m     13\u001b[0m     \u001b[0mA\u001b[0m\u001b[0;34m,\u001b[0m \u001b[0mB\u001b[0m \u001b[0;34m=\u001b[0m \u001b[0mF_s\u001b[0m\u001b[0;34m.\u001b[0m\u001b[0mnumpy\u001b[0m\u001b[0;34m(\u001b[0m\u001b[0;34m)\u001b[0m\u001b[0;34m,\u001b[0m \u001b[0mF_a\u001b[0m\u001b[0;34m.\u001b[0m\u001b[0mnumpy\u001b[0m\u001b[0;34m(\u001b[0m\u001b[0;34m)\u001b[0m\u001b[0;34m\u001b[0m\u001b[0;34m\u001b[0m\u001b[0m\n\u001b[1;32m     14\u001b[0m     \u001b[0mpoles\u001b[0m \u001b[0;34m=\u001b[0m \u001b[0mnp\u001b[0m\u001b[0;34m.\u001b[0m\u001b[0mrandom\u001b[0m\u001b[0;34m.\u001b[0m\u001b[0muniform\u001b[0m\u001b[0;34m(\u001b[0m\u001b[0mlow\u001b[0m\u001b[0;34m=\u001b[0m\u001b[0;34m-\u001b[0m\u001b[0;36m1.0\u001b[0m\u001b[0;34m,\u001b[0m \u001b[0mhigh\u001b[0m\u001b[0;34m=\u001b[0m\u001b[0;36m1.0\u001b[0m\u001b[0;34m,\u001b[0m \u001b[0msize\u001b[0m\u001b[0;34m=\u001b[0m\u001b[0mA\u001b[0m\u001b[0;34m.\u001b[0m\u001b[0mshape\u001b[0m\u001b[0;34m[\u001b[0m\u001b[0;34m-\u001b[0m\u001b[0;36m1\u001b[0m\u001b[0;34m]\u001b[0m\u001b[0;34m)\u001b[0m\u001b[0;34m\u001b[0m\u001b[0;34m\u001b[0m\u001b[0m\n\u001b[0;32m---> 15\u001b[0;31m     \u001b[0mresult\u001b[0m \u001b[0;34m=\u001b[0m \u001b[0mplace_poles\u001b[0m\u001b[0;34m(\u001b[0m\u001b[0mA\u001b[0m\u001b[0;34m,\u001b[0m \u001b[0mB\u001b[0m\u001b[0;34m,\u001b[0m \u001b[0mpoles\u001b[0m\u001b[0;34m)\u001b[0m\u001b[0;34m\u001b[0m\u001b[0;34m\u001b[0m\u001b[0m\n\u001b[0m\u001b[1;32m     16\u001b[0m     \u001b[0mminus_K\u001b[0m \u001b[0;34m=\u001b[0m \u001b[0mresult\u001b[0m\u001b[0;34m.\u001b[0m\u001b[0mgain_matrix\u001b[0m\u001b[0;34m\u001b[0m\u001b[0;34m\u001b[0m\u001b[0m\n\u001b[1;32m     17\u001b[0m     \u001b[0mK\u001b[0m \u001b[0;34m=\u001b[0m \u001b[0mtorch\u001b[0m\u001b[0;34m.\u001b[0m\u001b[0mas_tensor\u001b[0m\u001b[0;34m(\u001b[0m\u001b[0;34m-\u001b[0m\u001b[0mminus_K\u001b[0m\u001b[0;34m)\u001b[0m\u001b[0;34m.\u001b[0m\u001b[0mto\u001b[0m\u001b[0;34m(\u001b[0m\u001b[0mF_a\u001b[0m\u001b[0;34m)\u001b[0m\u001b[0;34m.\u001b[0m\u001b[0mrefine_names\u001b[0m\u001b[0;34m(\u001b[0m\u001b[0;34m*\u001b[0m\u001b[0mF_a\u001b[0m\u001b[0;34m.\u001b[0m\u001b[0mnames\u001b[0m\u001b[0;34m)\u001b[0m\u001b[0;34m\u001b[0m\u001b[0;34m\u001b[0m\u001b[0m\n",
      "\u001b[0;32m~/Library/Caches/pypoetry/virtualenvs/lqsvg-kEsPsxvA-py3.8/lib/python3.8/site-packages/scipy/signal/ltisys.py\u001b[0m in \u001b[0;36mplace_poles\u001b[0;34m(A, B, poles, method, rtol, maxiter)\u001b[0m\n\u001b[1;32m   3362\u001b[0m             \u001b[0mgain_matrix\u001b[0m \u001b[0;34m=\u001b[0m \u001b[0mnp\u001b[0m\u001b[0;34m.\u001b[0m\u001b[0mlinalg\u001b[0m\u001b[0;34m.\u001b[0m\u001b[0msolve\u001b[0m\u001b[0;34m(\u001b[0m\u001b[0mz\u001b[0m\u001b[0;34m,\u001b[0m \u001b[0mnp\u001b[0m\u001b[0;34m.\u001b[0m\u001b[0mdot\u001b[0m\u001b[0;34m(\u001b[0m\u001b[0mu0\u001b[0m\u001b[0;34m.\u001b[0m\u001b[0mT\u001b[0m\u001b[0;34m,\u001b[0m \u001b[0mm\u001b[0m\u001b[0;34m-\u001b[0m\u001b[0mA\u001b[0m\u001b[0;34m)\u001b[0m\u001b[0;34m)\u001b[0m\u001b[0;34m\u001b[0m\u001b[0;34m\u001b[0m\u001b[0m\n\u001b[1;32m   3363\u001b[0m         \u001b[0;32mexcept\u001b[0m \u001b[0mnp\u001b[0m\u001b[0;34m.\u001b[0m\u001b[0mlinalg\u001b[0m\u001b[0;34m.\u001b[0m\u001b[0mLinAlgError\u001b[0m \u001b[0;32mas\u001b[0m \u001b[0me\u001b[0m\u001b[0;34m:\u001b[0m\u001b[0;34m\u001b[0m\u001b[0;34m\u001b[0m\u001b[0m\n\u001b[0;32m-> 3364\u001b[0;31m             raise ValueError(\"The poles you've chosen can't be placed. \"\n\u001b[0m\u001b[1;32m   3365\u001b[0m                              \u001b[0;34m\"Check the controllability matrix and try \"\u001b[0m\u001b[0;34m\u001b[0m\u001b[0;34m\u001b[0m\u001b[0m\n\u001b[1;32m   3366\u001b[0m                              \"another set of poles\") from e\n",
      "\u001b[0;31mValueError\u001b[0m: The poles you've chosen can't be placed. Check the controllability matrix and try another set of poles"
     ]
    }
   ],
   "source": [
    "plot_optimal_vs_random_costs_hist((2, 2, 20))\n",
    "\n",
    "plot_optimal_vs_random_costs_hist((2, 2, 100))\n",
    "\n",
    "plot_optimal_vs_random_costs_hist((4, 4, 100))\n",
    "\n",
    "plot_optimal_vs_random_costs_hist((10, 10, 100))\n",
    "\n",
    "plot_optimal_vs_random_costs_hist((10, 10, 200))\n",
    "\n",
    "plot_optimal_vs_random_costs_hist((20, 20, 100))"
   ]
  },
  {
   "cell_type": "markdown",
   "id": "worse-grant",
   "metadata": {},
   "source": [
    "### Plotting the SVG norm distribution"
   ]
  },
  {
   "cell_type": "code",
   "execution_count": null,
   "id": "regular-fleet",
   "metadata": {},
   "outputs": [],
   "source": [
    "def random_svg_norm(\n",
    "    dynamics: lqr.LinSDynamics, cost: lqr.QuadCost, init: lqr.GaussInit\n",
    ") -> Tensor:\n",
    "    policy = tuple(g.requires_grad_(True) for g in sample_policy(dynamics, cost))\n",
    "    _, svg_norm = policy_svg_norm(policy, dynamics, cost, init)\n",
    "    return svg_norm\n",
    "\n",
    "\n",
    "def svg_norm_samples(\n",
    "    dims: tuple[int, int, int], samples: int = 100, clip_ctrl_dim: bool = False\n",
    ") -> np.ndarray:\n",
    "    n_state, n_ctrl, horizon = dims\n",
    "\n",
    "    if clip_ctrl_dim and n_ctrl < n_state:\n",
    "        return np.full((samples,), fill_value=np.nan)\n",
    "\n",
    "    dynamics, cost, init = sample_lqg(n_state, n_ctrl, horizon, n_batch=samples)\n",
    "    svg_norm = random_svg_norm(dynamics, cost, init)\n",
    "    return svg_norm.numpy()"
   ]
  },
  {
   "cell_type": "code",
   "execution_count": null,
   "id": "gross-ukraine",
   "metadata": {},
   "outputs": [],
   "source": [
    "def plot_svg_norm_hist(dims: tuple[int, int, int], samples: int = 1000):\n",
    "    data = pd.DataFrame({\"svg norm\": svg_norm_samples(dims, samples=samples)})\n",
    "    sns.histplot(data=data, x=\"svg norm\", stat=\"density\", log_scale=True)"
   ]
  },
  {
   "cell_type": "code",
   "execution_count": null,
   "id": "hybrid-activity",
   "metadata": {},
   "outputs": [],
   "source": [
    "plot_svg_norm_hist((2, 2, 20))\n",
    "\n",
    "plot_svg_norm_hist((2, 2, 100))\n",
    "\n",
    "plot_svg_norm_hist((4, 4, 20))\n",
    "\n",
    "plot_svg_norm_hist((10, 10, 20))\n",
    "\n",
    "plot_svg_norm_hist((10, 10, 200))\n",
    "\n",
    "plot_svg_norm_hist((20, 20, 100))"
   ]
  },
  {
   "cell_type": "markdown",
   "id": "failing-incidence",
   "metadata": {},
   "source": [
    "---\n",
    "## Evaluate cost scaling against each variable\n",
    "\n",
    "### Checklist\n",
    "- [x] Stack several LQGs including init dists\n",
    "- [x] Define range of `n_state`s, `n_ctrl`s, and `horizon`s\n",
    "- [x] Fix initial values of `n_state=2`, `n_ctrl=2`, `horizon=100`\n",
    "- [x] Iterate over one of the ranges, e.g., `horizon`s:\n",
    "  - [x] Generate several LQGs with the current `n_state`, `n_ctrl`, `horizon` and stack them\n",
    "  - [x] Find the optimal solutions (policies) and evaluate the optimal expected returns\n",
    "  - [x] Average the results accross the LQGs generated\n",
    "  - [x] Plot the average against the current `n_state`, `n_ctrl`, `horizon`"
   ]
  },
  {
   "cell_type": "code",
   "execution_count": null,
   "id": "impossible-yield",
   "metadata": {},
   "outputs": [],
   "source": [
    "def performance_matrix(\n",
    "    state_dim_arr: np.ndarray,\n",
    "    ctrl_dim_arr: np.ndarray,\n",
    "    horizon_arr: np.ndarray,\n",
    "    perf_sampling_fn: Callable[[int, int, int], np.ndarray],\n",
    ") -> np.ndarray:\n",
    "    pbar = tqdm(\n",
    "        zip(state_dim_arr, ctrl_dim_arr, horizon_arr),\n",
    "        total=len(ctrl_dim_arr),\n",
    "        desc=\"Computing performance by LQG dims\",\n",
    "    )\n",
    "\n",
    "    exp_ret_arrs = [\n",
    "        perf_sampling_fn(n_state, n_ctrl, horizon) for n_state, n_ctrl, horizon in pbar\n",
    "    ]\n",
    "\n",
    "    exp_ret_mat = np.vstack(exp_ret_arrs)\n",
    "    return exp_ret_mat"
   ]
  },
  {
   "cell_type": "code",
   "execution_count": null,
   "id": "collect-lafayette",
   "metadata": {
    "tags": []
   },
   "outputs": [],
   "source": [
    "def average_performance_lineplot(\n",
    "    state_dim: np.ndarray,\n",
    "    ctrl_dim: np.ndarray,\n",
    "    horizon: np.ndarray,\n",
    "    x_axis: tuple[str, np.ndarray],\n",
    "):\n",
    "    x, x_arr = x_axis\n",
    "    y = \"average performance\"\n",
    "    hue = \"optimal\"\n",
    "    n_samples = 200\n",
    "\n",
    "    def sampler(s, c, h, *, optimal: bool):\n",
    "        return performance_samples((s, c, h), samples=n_samples, optimal=optimal)\n",
    "\n",
    "    optimal = {\n",
    "        x: x_arr,\n",
    "        y: performance_matrix(\n",
    "            state_dim, ctrl_dim, horizon, partial(sampler, optimal=True)\n",
    "        ).mean(-1),\n",
    "        hue: np.ones_like(x_arr, dtype=bool),\n",
    "    }\n",
    "    random = {\n",
    "        x: x_arr,\n",
    "        y: performance_matrix(\n",
    "            state_dim, ctrl_dim, horizon, partial(sampler, optimal=False)\n",
    "        ).mean(-1),\n",
    "        hue: np.zeros_like(x_arr, dtype=bool),\n",
    "    }\n",
    "\n",
    "    data = pd.concat(list(map(pd.DataFrame, (optimal, random))))\n",
    "    ax = sns.lineplot(x=x, y=y, data=data, hue=hue)\n",
    "    plt.show()"
   ]
  },
  {
   "cell_type": "markdown",
   "id": "substantial-morrison",
   "metadata": {
    "tags": []
   },
   "source": [
    "#### Performance vs. state dimension"
   ]
  },
  {
   "cell_type": "code",
   "execution_count": null,
   "id": "monetary-bruce",
   "metadata": {},
   "outputs": [],
   "source": [
    "x_axis = np.arange(2, 12)\n",
    "average_performance_lineplot(\n",
    "    state_dim=x_axis,\n",
    "    ctrl_dim=np.full(10, 2, dtype=int),\n",
    "    horizon=np.full(10, 100, dtype=int),\n",
    "    x_axis=(\"state dim\", x_axis),\n",
    ")"
   ]
  },
  {
   "cell_type": "markdown",
   "id": "capital-saudi",
   "metadata": {},
   "source": [
    "#### Performance vs. control dimension"
   ]
  },
  {
   "cell_type": "code",
   "execution_count": null,
   "id": "anonymous-bruce",
   "metadata": {
    "tags": []
   },
   "outputs": [],
   "source": [
    "state_dims = np.full(10, 2, dtype=int)\n",
    "ctrl_dims = np.arange(2, 12)\n",
    "horizons = np.full(10, 100, dtype=int)\n",
    "average_performance_lineplot(\n",
    "    state_dim=state_dims,\n",
    "    ctrl_dim=ctrl_dims,\n",
    "    horizon=horizons,\n",
    "    x_axis=(\"ctrl dim\", ctrl_dims),\n",
    ")"
   ]
  },
  {
   "cell_type": "markdown",
   "id": "sacred-assist",
   "metadata": {},
   "source": [
    "#### Performance vs. horizon length"
   ]
  },
  {
   "cell_type": "code",
   "execution_count": null,
   "id": "sporting-wright",
   "metadata": {
    "tags": []
   },
   "outputs": [],
   "source": [
    "state_dims = np.full(10, 2, dtype=int)\n",
    "ctrl_dims = np.full(10, 2, dtype=int)\n",
    "horizons = 100 * np.arange(1, 11)\n",
    "average_performance_lineplot(state_dims, ctrl_dims, horizons, (\"horizon\", horizons))"
   ]
  },
  {
   "cell_type": "markdown",
   "id": "proof-preparation",
   "metadata": {},
   "source": [
    "#### Performance vs. state & control dimension"
   ]
  },
  {
   "cell_type": "code",
   "execution_count": null,
   "id": "infrared-heath",
   "metadata": {
    "tags": []
   },
   "outputs": [],
   "source": [
    "state_dims = ctrl_dims = np.arange(1, 21) + 1\n",
    "horizons = np.full(20, 100, dtype=int)\n",
    "average_performance_lineplot(\n",
    "    state_dims, ctrl_dims, horizons, (\"state & ctrl dim\", state_dims)\n",
    ")"
   ]
  },
  {
   "cell_type": "markdown",
   "id": "failing-simple",
   "metadata": {},
   "source": [
    "---\n",
    "## Multivariate analysis of cost scaling\n",
    "\n",
    "### Checklist\n",
    "- [x] Plot the average expected return against two variables, e.g., `n_state` and `n_ctrl`, as a 3D surface plot\n",
    "- [ ] ~Use the insights gained from observing the cost scaling to propose a _downscaling_ parameter for random QuadCosts~\n",
    "- [x] Use the analysis above to also derive a scale parameter for the random Gaussian noise for policy generation"
   ]
  },
  {
   "cell_type": "code",
   "execution_count": null,
   "id": "connected-stanley",
   "metadata": {},
   "outputs": [],
   "source": [
    "def large_fig(*args, scale: float = 2.0, **kwargs):\n",
    "    return plt.figure(*args, figsize=[scale * 6.4, scale * 4.8], **kwargs)"
   ]
  },
  {
   "cell_type": "code",
   "execution_count": null,
   "id": "interstate-layout",
   "metadata": {
    "tags": []
   },
   "outputs": [],
   "source": [
    "def plot_3d_from_2d_function(\n",
    "    ax,\n",
    "    xrange: np.ndarray,\n",
    "    yrange: np.ndarray,\n",
    "    function: callable[[np.ndarray, np.ndarray], np.ndarray],\n",
    "):\n",
    "    length = len(xrange)\n",
    "    xbatch, ybatch = np.meshgrid(xrange, yrange)\n",
    "    assert xbatch.shape == ybatch.shape == (length, length)\n",
    "\n",
    "    x_arr, y_arr = map(lambda x: x.reshape((-1,)), (xbatch, ybatch))\n",
    "    assert (\n",
    "        x_arr.shape == y_arr.shape == (length ** 2,)\n",
    "    ), f\"expected: {(length ** 2,)}; x_arr: {x_arr.shape}; y_arr {y_arr.shape}\"\n",
    "\n",
    "    z_arr = function(x_arr, y_arr)\n",
    "    assert z_arr.shape == x_arr.shape, f\"{z_arr.shape} != {x_arr.shape}\"\n",
    "\n",
    "    zbatch = z_arr.reshape(xbatch.shape)\n",
    "    ax.plot_surface(xbatch, ybatch, zbatch, cmap=cm.coolwarm)"
   ]
  },
  {
   "cell_type": "markdown",
   "id": "downtown-flexibility",
   "metadata": {},
   "source": [
    "### State vs. control dimension with fixed horizon\n",
    "\n",
    "In what follows we set the horizon length to 100 steps.\n",
    "\n",
    "#### Best expected return"
   ]
  },
  {
   "cell_type": "code",
   "execution_count": null,
   "id": "cheap-portland",
   "metadata": {},
   "outputs": [],
   "source": [
    "def performances_by_state_ctrl_dim(\n",
    "    state_dim_arr: np.ndarray, ctrl_dim_arr: np.ndarray, horizon: int, optimal: bool\n",
    ") -> np.ndarray:\n",
    "    horizon_arr = np.full_like(state_dim_arr, fill_value=horizon)\n",
    "    exp_opt_ret_mat = performance_matrix(\n",
    "        state_dim_arr,\n",
    "        ctrl_dim_arr,\n",
    "        horizon_arr,\n",
    "        lambda s, c, h: performance_samples(\n",
    "            (s, c, h), optimal=optimal, samples=100, clip_ctrl_dim=False\n",
    "        ),\n",
    "    )\n",
    "    return exp_opt_ret_mat"
   ]
  },
  {
   "cell_type": "code",
   "execution_count": null,
   "id": "small-kelly",
   "metadata": {},
   "outputs": [],
   "source": [
    "def average_performance_by_state_ctrl_dim(\n",
    "    state_dim_arr: np.ndarray, ctrl_dim_arr: np.ndarray, optimal: bool\n",
    ") -> np.ndarray:\n",
    "    z_arr = performances_by_state_ctrl_dim(\n",
    "        state_dim_arr, ctrl_dim_arr, horizon=100, optimal=optimal\n",
    "    ).mean(axis=-1)\n",
    "    # Filtering NaNs\n",
    "    z_arr = np.nan_to_num(z_arr, nan=np.nanmin(z_arr))\n",
    "    return z_arr"
   ]
  },
  {
   "cell_type": "code",
   "execution_count": null,
   "id": "hydraulic-handbook",
   "metadata": {
    "tags": []
   },
   "outputs": [],
   "source": [
    "fig = large_fig()\n",
    "ax = fig.add_subplot(projection=\"3d\")\n",
    "plot_3d_from_2d_function(\n",
    "    ax,\n",
    "    xrange=np.arange(1, 21) + 1,\n",
    "    yrange=np.arange(1, 21) + 1,\n",
    "    function=lambda x, y: average_performance_by_state_ctrl_dim(x, y, optimal=True),\n",
    ")\n",
    "ax.set_xlabel(\"state dim\")\n",
    "ax.set_ylabel(\"ctrl dim\")\n",
    "ax.set_title(\"average best performance\")\n",
    "plt.show()"
   ]
  },
  {
   "cell_type": "markdown",
   "id": "improved-modem",
   "metadata": {},
   "source": [
    "#### Expected return from random policy"
   ]
  },
  {
   "cell_type": "code",
   "execution_count": null,
   "id": "corporate-appreciation",
   "metadata": {
    "tags": []
   },
   "outputs": [],
   "source": [
    "fig = large_fig()\n",
    "ax = fig.add_subplot(projection=\"3d\")\n",
    "plot_3d_from_2d_function(\n",
    "    ax,\n",
    "    xrange=np.arange(1, 21) + 1,\n",
    "    yrange=np.arange(1, 21) + 1,\n",
    "    function=lambda x, y: average_performance_by_state_ctrl_dim(x, y, optimal=False),\n",
    ")\n",
    "ax.set_xlabel(\"state dim\")\n",
    "ax.set_ylabel(\"ctrl dim\")\n",
    "ax.set_title(\"average random performance\")\n",
    "plt.show()"
   ]
  },
  {
   "cell_type": "markdown",
   "id": "comprehensive-helena",
   "metadata": {},
   "source": [
    "### State & control dimension vs. horizon length"
   ]
  },
  {
   "cell_type": "markdown",
   "id": "compound-reach",
   "metadata": {},
   "source": [
    "#### Best expected return"
   ]
  },
  {
   "cell_type": "code",
   "execution_count": null,
   "id": "transparent-humanity",
   "metadata": {},
   "outputs": [],
   "source": [
    "def performances_by_horizon(\n",
    "    state_ctrl_dim: np.ndarray, horizon_arr: np.ndarray, optimal: bool\n",
    ") -> np.ndarray:\n",
    "    state_dim_arr = ctrl_dim_arr = state_ctrl_dim\n",
    "    opt_perf_mat = performance_matrix(\n",
    "        state_dim_arr,\n",
    "        ctrl_dim_arr,\n",
    "        horizon_arr,\n",
    "        lambda s, c, h: performance_samples((s, c, h), optimal=optimal, samples=100),\n",
    "    )\n",
    "    return opt_perf_mat"
   ]
  },
  {
   "cell_type": "code",
   "execution_count": null,
   "id": "color-ordering",
   "metadata": {},
   "outputs": [],
   "source": [
    "def average_performance_by_horizon(\n",
    "    state_ctrl_dim: np.ndarray, horizon_arr: np.ndarray, optimal: bool\n",
    ") -> np.ndarray:\n",
    "    z_arr = performances_by_horizon(state_ctrl_dim, horizon_arr, optimal=optimal).mean(\n",
    "        axis=-1\n",
    "    )\n",
    "    # Filtering NaNs\n",
    "    z_arr = np.nan_to_num(z_arr, nan=np.nanmin(z_arr))\n",
    "    return z_arr"
   ]
  },
  {
   "cell_type": "code",
   "execution_count": null,
   "id": "second-netherlands",
   "metadata": {
    "tags": []
   },
   "outputs": [],
   "source": [
    "fig = large_fig()\n",
    "ax = fig.add_subplot(projection=\"3d\")\n",
    "plot_3d_from_2d_function(\n",
    "    ax,\n",
    "    xrange=np.arange(1, 21) + 1,\n",
    "    yrange=100 + 10 * np.arange(1, 21),\n",
    "    function=lambda x, y: average_performance_by_horizon(x, y, optimal=True),\n",
    ")\n",
    "ax.set_xlabel(\"state/ctrl dim\")\n",
    "ax.set_ylabel(\"horizon\")\n",
    "ax.set_title(\"average optimal performance\")\n",
    "plt.show()"
   ]
  },
  {
   "cell_type": "markdown",
   "id": "administrative-buffer",
   "metadata": {},
   "source": [
    "#### Random expected return"
   ]
  },
  {
   "cell_type": "code",
   "execution_count": null,
   "id": "collective-relationship",
   "metadata": {
    "tags": []
   },
   "outputs": [],
   "source": [
    "fig = large_fig()\n",
    "ax = fig.add_subplot(projection=\"3d\")\n",
    "plot_3d_from_2d_function(\n",
    "    ax,\n",
    "    xrange=np.arange(1, 21) + 1,\n",
    "    yrange=100 + 10 * np.arange(1, 21),\n",
    "    function=lambda x, y: average_performance_by_horizon(x, y, optimal=False),\n",
    ")\n",
    "ax.set_xlabel(\"state/ctrl dim\")\n",
    "ax.set_ylabel(\"horizon\")\n",
    "ax.set_title(\"average random performance\")\n",
    "plt.show()"
   ]
  }
 ],
 "metadata": {
  "kernelspec": {
   "display_name": "Python 3",
   "language": "python",
   "name": "python3"
  },
  "language_info": {
   "codemirror_mode": {
    "name": "ipython",
    "version": 3
   },
   "file_extension": ".py",
   "mimetype": "text/x-python",
   "name": "python",
   "nbconvert_exporter": "python",
   "pygments_lexer": "ipython3",
   "version": "3.8.2"
  }
 },
 "nbformat": 4,
 "nbformat_minor": 5
}
