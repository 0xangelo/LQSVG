{
 "cells": [
  {
   "cell_type": "markdown",
   "id": "biological-stylus",
   "metadata": {},
   "source": [
    "# Value gradient error for linear policies in LQG\n",
    "\n",
    "**Objective:** compare ground-truth vs. estimated gradients for linear policies to see if it's at all possible to learn a model that predicts the SVG with no concern for sample and computational efficiency.\n",
    "\n",
    "**Procedure:** for several LQG dimensions, we collect $X$ trajectories from the sampled policy. These trajectories are then used to train a model by optimizing the model learning objective: \n",
    "1. we split the data into training, validation and test sets;\n",
    "2. we choose a batch size and loss improvement threshold;\n",
    "3. we train the model by stochastic optimization of the model parameters on the learning objective;\n",
    "4. we stop learning when the validation loss stops improving (we use the PyTorch Lightning framework for this).\n",
    "\n",
    "**Extensions:** interpolate between optimal and random policies while logging the SVG error.\n"
   ]
  },
  {
   "cell_type": "code",
   "execution_count": null,
   "id": "excessive-privilege",
   "metadata": {},
   "outputs": [],
   "source": []
  }
 ],
 "metadata": {
  "kernelspec": {
   "display_name": "Python 3",
   "language": "python",
   "name": "python3"
  },
  "language_info": {
   "codemirror_mode": {
    "name": "ipython",
    "version": 3
   },
   "file_extension": ".py",
   "mimetype": "text/x-python",
   "name": "python",
   "nbconvert_exporter": "python",
   "pygments_lexer": "ipython3",
   "version": "3.8.2"
  }
 },
 "nbformat": 4,
 "nbformat_minor": 5
}
