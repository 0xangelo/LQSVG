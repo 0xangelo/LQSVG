{
 "cells": [
  {
   "cell_type": "markdown",
   "id": "universal-juvenile",
   "metadata": {},
   "source": [
    "# Value gradient error for linear policies in LQG\n",
    "\n",
    "**Objective:** compare ground-truth vs. estimated gradients for linear policies to see if it's at all possible to learn a model that predicts the SVG with no concern for sample and computational efficiency.\n",
    "\n",
    "**Procedure:** for several LQG dimensions, we collect $X$ trajectories from the sampled policy. These trajectories are then used to train a model by optimizing the model learning objective: \n",
    "1. we split the data into training, validation and test sets;\n",
    "2. we choose a batch size and loss improvement threshold;\n",
    "3. we train the model by stochastic optimization of the model parameters on the learning objective;\n",
    "4. we stop learning when the validation loss stops improving (we use the PyTorch Lightning framework for this).\n",
    "\n",
    "**Extensions:** interpolate between optimal and random policies while logging the SVG error.\n",
    "\n",
    "**Versioning:** [CalVer](https://calver.org) `MM.DD.MICRO`"
   ]
  },
  {
   "cell_type": "code",
   "execution_count": 1,
   "id": "pediatric-engine",
   "metadata": {},
   "outputs": [],
   "source": [
    "from __future__ import annotations\n",
    "from datetime import date\n",
    "\n",
    "import lqsvg.torch.named as nt\n",
    "import pytorch_lightning as pl\n",
    "import torch\n",
    "from raylab.policy.model_based.lightning import LightningTrainerSpec\n",
    "from torch import Tensor\n",
    "\n",
    "from data import build_datamodule\n",
    "from models import LightningModel\n",
    "from policy import make_worker\n",
    "from utils import suppress_dataloader_warning"
   ]
  },
  {
   "cell_type": "code",
   "execution_count": 2,
   "id": "based-buffer",
   "metadata": {},
   "outputs": [],
   "source": [
    "def make_lightning_trainer(logger, spec: LightningTrainerSpec) -> pl.Trainer:\n",
    "    early_stopping = pl.callbacks.EarlyStopping(\n",
    "        monitor=LightningModel.early_stop_on,\n",
    "        min_delta=spec.improvement_delta,\n",
    "        patience=spec.patience,\n",
    "        mode=\"min\",\n",
    "        strict=False,\n",
    "    )\n",
    "    trainer = pl.Trainer(\n",
    "        logger=logger,\n",
    "        num_sanity_val_steps=2,\n",
    "        checkpoint_callback=False,\n",
    "        callbacks=[early_stopping],\n",
    "        max_epochs=spec.max_epochs,\n",
    "        max_steps=spec.max_steps,\n",
    "        progress_bar_refresh_rate=0,\n",
    "    )\n",
    "    return trainer"
   ]
  },
  {
   "cell_type": "code",
   "execution_count": 3,
   "id": "cross-terror",
   "metadata": {},
   "outputs": [
    {
     "name": "stdout",
     "output_type": "stream",
     "text": [
      "CalVer: 3.9.0\n"
     ]
    }
   ],
   "source": [
    "def calver() -> str:\n",
    "    today = date.today()\n",
    "    return f\"{today.month}.{today.day}.0\"\n",
    "\n",
    "print(\"CalVer:\", calver())"
   ]
  },
  {
   "cell_type": "code",
   "execution_count": 4,
   "id": "vietnamese-following",
   "metadata": {},
   "outputs": [
    {
     "name": "stderr",
     "output_type": "stream",
     "text": [
      "Collecting:   0%|          | 0/5000 [00:00<?, ?traj/s]2021-03-09 12:15:10,136\tWARNING deprecation.py:29 -- DeprecationWarning: `env_index` has been deprecated. Use `episode.env_id` instead. This will raise an error in the future!\n",
      "Collecting:  98%|█████████▊| 4900/5000 [00:43<00:00, 113.65traj/s]\n",
      "GPU available: False, used: False\n",
      "TPU available: None, using: 0 TPU cores\n",
      "\u001b[34m\u001b[1mwandb\u001b[0m: Currently logged in as: \u001b[33mangelovtt\u001b[0m (use `wandb login --relogin` to force relogin)\n"
     ]
    },
    {
     "data": {
      "text/html": [
       "\n",
       "                Tracking run with wandb version 0.10.21<br/>\n",
       "                Syncing run <strong style=\"color:#cdcd00\">SVG Prediction</strong> to <a href=\"https://wandb.ai\" target=\"_blank\">Weights & Biases</a> <a href=\"https://docs.wandb.com/integrations/jupyter.html\" target=\"_blank\">(Documentation)</a>.<br/>\n",
       "                Project page: <a href=\"https://wandb.ai/angelovtt/LQG-SVG\" target=\"_blank\">https://wandb.ai/angelovtt/LQG-SVG</a><br/>\n",
       "                Run page: <a href=\"https://wandb.ai/angelovtt/LQG-SVG/runs/2l6rxv1f\" target=\"_blank\">https://wandb.ai/angelovtt/LQG-SVG/runs/2l6rxv1f</a><br/>\n",
       "                Run data is saved locally in <code>/Users/angelolovatto/Repositories/personal/LQG-SVG/experiments/wandb/run-20210309_121555-2l6rxv1f</code><br/><br/>\n",
       "            "
      ],
      "text/plain": [
       "<IPython.core.display.HTML object>"
      ]
     },
     "metadata": {},
     "output_type": "display_data"
    },
    {
     "name": "stderr",
     "output_type": "stream",
     "text": [
      "\n",
      "  | Name        | Type           | Params\n",
      "-----------------------------------------------\n",
      "0 | actor       | TVLinearPolicy | 600   \n",
      "1 | model       | LQGModule      | 3.6 K \n",
      "2 | mdp         | LQGModule      | 3.6 K \n",
      "3 | policy_loss | PolicyLoss     | 0     \n",
      "-----------------------------------------------\n",
      "7.8 K     Trainable params\n",
      "0         Non-trainable params\n",
      "7.8 K     Total params\n"
     ]
    }
   ],
   "source": [
    "with nt.suppress_named_tensor_warning():\n",
    "    env_config = dict(n_state=2, n_ctrl=2, horizon=100, num_envs=100)\n",
    "    worker = make_worker(env_config)\n",
    "    model = LightningModel(worker.get_policy(), worker.env)\n",
    "    model.hparams.learning_rate = 1e-4\n",
    "    datamodule = build_datamodule(worker, total_trajs=5000)\n",
    "\n",
    "    logger = pl.loggers.WandbLogger(\n",
    "        name=\"SVG Prediction\",\n",
    "        offline=False,\n",
    "        project=\"LQG-SVG\",\n",
    "        log_model=False,\n",
    "        entity=\"angelovtt\",\n",
    "        tags=[calver()],\n",
    "    )\n",
    "    spec = LightningTrainerSpec(max_epochs=1000, patience=3, improvement_delta=0.0)\n",
    "    trainer = make_lightning_trainer(logger, spec)\n",
    "\n",
    "    with suppress_dataloader_warning():\n",
    "        trainer.fit(model, datamodule=datamodule)"
   ]
  }
 ],
 "metadata": {
  "kernelspec": {
   "display_name": "Python 3",
   "language": "python",
   "name": "python3"
  },
  "language_info": {
   "codemirror_mode": {
    "name": "ipython",
    "version": 3
   },
   "file_extension": ".py",
   "mimetype": "text/x-python",
   "name": "python",
   "nbconvert_exporter": "python",
   "pygments_lexer": "ipython3",
   "version": "3.8.2"
  }
 },
 "nbformat": 4,
 "nbformat_minor": 5
}
