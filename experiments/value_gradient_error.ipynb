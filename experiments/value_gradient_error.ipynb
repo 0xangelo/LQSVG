{
 "cells": [
  {
   "cell_type": "markdown",
   "id": "humanitarian-sarah",
   "metadata": {},
   "source": [
    "# Value gradient error for linear policies in LQG\n",
    "\n",
    "Experiment description on [Overleaf](https://www.overleaf.com/read/cmbgmxxpxqzr).\n",
    "\n",
    "**Versioning:** [CalVer](https://calver.org) `MM.DD.MICRO`"
   ]
  },
  {
   "cell_type": "code",
   "execution_count": 1,
   "id": "national-consequence",
   "metadata": {},
   "outputs": [],
   "source": [
    "from __future__ import annotations\n",
    "import os.path as osp\n",
    "from datetime import date\n",
    "\n",
    "import lqsvg.torch.named as nt\n",
    "import pytorch_lightning as pl\n",
    "import torch\n",
    "import wandb\n",
    "from raylab.policy.model_based.lightning import LightningTrainerSpec\n",
    "from torch import Tensor\n",
    "\n",
    "from data import build_datamodule\n",
    "from models import LightningModel\n",
    "from policy import make_worker\n",
    "from utils import suppress_dataloader_warning"
   ]
  },
  {
   "cell_type": "code",
   "execution_count": 2,
   "id": "vietnamese-ownership",
   "metadata": {},
   "outputs": [],
   "source": [
    "def make_lightning_trainer(run) -> pl.Trainer:\n",
    "    spec = LightningTrainerSpec(max_epochs=20, patience=3, improvement_delta=0.0)\n",
    "    logger = pl.loggers.WandbLogger(save_dir=run.dir, log_model=False, experiment=run)\n",
    "\n",
    "    early_stopping = pl.callbacks.EarlyStopping(\n",
    "        monitor=LightningModel.early_stop_on,\n",
    "        min_delta=spec.improvement_delta,\n",
    "        patience=spec.patience,\n",
    "        mode=\"min\",\n",
    "        strict=True,\n",
    "    )\n",
    "    checkpointing = pl.callbacks.ModelCheckpoint(\n",
    "        dirpath=osp.join(run.dir, \"checkpoints\"),\n",
    "        monitor=LightningModel.early_stop_on,\n",
    "        save_top_k=-1, \n",
    "        period=10, \n",
    "        save_last=True\n",
    "    )\n",
    "    trainer = pl.Trainer(\n",
    "        default_root_dir=run.dir,\n",
    "        logger=logger,\n",
    "        num_sanity_val_steps=2,\n",
    "        callbacks=[early_stopping, checkpointing],\n",
    "        max_epochs=spec.max_epochs,\n",
    "        max_steps=spec.max_steps,\n",
    "    )\n",
    "    return trainer"
   ]
  },
  {
   "cell_type": "code",
   "execution_count": 3,
   "id": "acting-vietnam",
   "metadata": {},
   "outputs": [
    {
     "name": "stdout",
     "output_type": "stream",
     "text": [
      "CalVer: 3.16.0\n"
     ]
    }
   ],
   "source": [
    "def calver() -> str:\n",
    "    today = date.today()\n",
    "    return f\"{today.month}.{today.day}.0\"\n",
    "\n",
    "print(\"CalVer:\", calver())"
   ]
  },
  {
   "cell_type": "code",
   "execution_count": 4,
   "id": "refined-intake",
   "metadata": {
    "tags": []
   },
   "outputs": [
    {
     "name": "stderr",
     "output_type": "stream",
     "text": [
      "\u001b[34m\u001b[1mwandb\u001b[0m: Currently logged in as: \u001b[33mangelovtt\u001b[0m (use `wandb login --relogin` to force relogin)\n"
     ]
    },
    {
     "data": {
      "text/html": [
       "\n",
       "                Tracking run with wandb version 0.10.22<br/>\n",
       "                Syncing run <strong style=\"color:#cdcd00\">SVG Prediction</strong> to <a href=\"https://wandb.ai\" target=\"_blank\">Weights & Biases</a> <a href=\"https://docs.wandb.com/integrations/jupyter.html\" target=\"_blank\">(Documentation)</a>.<br/>\n",
       "                Project page: <a href=\"https://wandb.ai/angelovtt/LQG-SVG\" target=\"_blank\">https://wandb.ai/angelovtt/LQG-SVG</a><br/>\n",
       "                Run page: <a href=\"https://wandb.ai/angelovtt/LQG-SVG/runs/16y05sct\" target=\"_blank\">https://wandb.ai/angelovtt/LQG-SVG/runs/16y05sct</a><br/>\n",
       "                Run data is saved locally in <code>/Users/angelolovatto/Repositories/personal/LQG-SVG/experiments/wandb/run-20210316_154047-16y05sct</code><br/><br/>\n",
       "            "
      ],
      "text/plain": [
       "<IPython.core.display.HTML object>"
      ]
     },
     "metadata": {},
     "output_type": "display_data"
    },
    {
     "data": {
      "application/vnd.jupyter.widget-view+json": {
       "model_id": "681d14fcc1bf45b6b333de3f4a7832b2",
       "version_major": 2,
       "version_minor": 0
      },
      "text/plain": [
       "Collecting:   0%|          | 0/5000 [00:00<?, ?traj/s]"
      ]
     },
     "metadata": {},
     "output_type": "display_data"
    },
    {
     "name": "stderr",
     "output_type": "stream",
     "text": [
      "2021-03-16 15:40:49,264\tWARNING deprecation.py:33 -- DeprecationWarning: `env_index` has been deprecated. Use `episode.env_id` instead. This will raise an error in the future!\n",
      "GPU available: False, used: False\n",
      "TPU available: None, using: 0 TPU cores\n"
     ]
    }
   ],
   "source": [
    "run = wandb.init(\n",
    "    name=\"SVG Prediction\",\n",
    "    project=\"LQG-SVG\",\n",
    "    entity=\"angelovtt\",\n",
    "    tags=[calver()],\n",
    "    reinit=True,\n",
    "    mode=\"online\",\n",
    "    save_code=True,\n",
    ")\n",
    "\n",
    "with nt.suppress_named_tensor_warning():\n",
    "    env_config = dict(n_state=2, n_ctrl=2, horizon=100, num_envs=100)\n",
    "    worker = make_worker(env_config)\n",
    "\n",
    "    model = LightningModel(worker.get_policy(), worker.env)\n",
    "    model.hparams.learning_rate = 1e-3\n",
    "    model.hparams.update(env_config)\n",
    "    run.config.update(model.hparams)\n",
    "\n",
    "    datamodule = build_datamodule(worker, total_trajs=5000)\n",
    "\n",
    "    trainer = make_lightning_trainer(run)"
   ]
  },
  {
   "cell_type": "code",
   "execution_count": 5,
   "id": "regulation-inflation",
   "metadata": {
    "tags": []
   },
   "outputs": [
    {
     "name": "stderr",
     "output_type": "stream",
     "text": [
      "\n",
      "  | Name            | Type           | Params\n",
      "---------------------------------------------------\n",
      "0 | actor           | TVLinearPolicy | 600   \n",
      "1 | model           | LQGModule      | 3.6 K \n",
      "2 | mdp             | LQGModule      | 3.6 K \n",
      "3 | monte_carlo_svg | MonteCarloSVG  | 4.2 K \n",
      "4 | analytic_svg    | AnalyticSVG    | 4.2 K \n",
      "---------------------------------------------------\n",
      "7.8 K     Trainable params\n",
      "0         Non-trainable params\n",
      "7.8 K     Total params\n"
     ]
    },
    {
     "data": {
      "application/vnd.jupyter.widget-view+json": {
       "model_id": "",
       "version_major": 2,
       "version_minor": 0
      },
      "text/plain": [
       "Validation sanity check: 0it [00:00, ?it/s]"
      ]
     },
     "metadata": {},
     "output_type": "display_data"
    },
    {
     "data": {
      "application/vnd.jupyter.widget-view+json": {
       "model_id": "94c165d70f354924a7d8a4cf60b06d10",
       "version_major": 2,
       "version_minor": 0
      },
      "text/plain": [
       "Training: 0it [00:00, ?it/s]"
      ]
     },
     "metadata": {},
     "output_type": "display_data"
    },
    {
     "data": {
      "application/vnd.jupyter.widget-view+json": {
       "model_id": "",
       "version_major": 2,
       "version_minor": 0
      },
      "text/plain": [
       "Validating: 0it [00:00, ?it/s]"
      ]
     },
     "metadata": {},
     "output_type": "display_data"
    },
    {
     "data": {
      "application/vnd.jupyter.widget-view+json": {
       "model_id": "",
       "version_major": 2,
       "version_minor": 0
      },
      "text/plain": [
       "Validating: 0it [00:00, ?it/s]"
      ]
     },
     "metadata": {},
     "output_type": "display_data"
    },
    {
     "data": {
      "application/vnd.jupyter.widget-view+json": {
       "model_id": "",
       "version_major": 2,
       "version_minor": 0
      },
      "text/plain": [
       "Validating: 0it [00:00, ?it/s]"
      ]
     },
     "metadata": {},
     "output_type": "display_data"
    },
    {
     "data": {
      "application/vnd.jupyter.widget-view+json": {
       "model_id": "",
       "version_major": 2,
       "version_minor": 0
      },
      "text/plain": [
       "Validating: 0it [00:00, ?it/s]"
      ]
     },
     "metadata": {},
     "output_type": "display_data"
    },
    {
     "data": {
      "application/vnd.jupyter.widget-view+json": {
       "model_id": "",
       "version_major": 2,
       "version_minor": 0
      },
      "text/plain": [
       "Validating: 0it [00:00, ?it/s]"
      ]
     },
     "metadata": {},
     "output_type": "display_data"
    },
    {
     "data": {
      "application/vnd.jupyter.widget-view+json": {
       "model_id": "",
       "version_major": 2,
       "version_minor": 0
      },
      "text/plain": [
       "Validating: 0it [00:00, ?it/s]"
      ]
     },
     "metadata": {},
     "output_type": "display_data"
    },
    {
     "data": {
      "application/vnd.jupyter.widget-view+json": {
       "model_id": "",
       "version_major": 2,
       "version_minor": 0
      },
      "text/plain": [
       "Validating: 0it [00:00, ?it/s]"
      ]
     },
     "metadata": {},
     "output_type": "display_data"
    },
    {
     "data": {
      "application/vnd.jupyter.widget-view+json": {
       "model_id": "",
       "version_major": 2,
       "version_minor": 0
      },
      "text/plain": [
       "Validating: 0it [00:00, ?it/s]"
      ]
     },
     "metadata": {},
     "output_type": "display_data"
    },
    {
     "data": {
      "application/vnd.jupyter.widget-view+json": {
       "model_id": "",
       "version_major": 2,
       "version_minor": 0
      },
      "text/plain": [
       "Validating: 0it [00:00, ?it/s]"
      ]
     },
     "metadata": {},
     "output_type": "display_data"
    },
    {
     "data": {
      "application/vnd.jupyter.widget-view+json": {
       "model_id": "",
       "version_major": 2,
       "version_minor": 0
      },
      "text/plain": [
       "Validating: 0it [00:00, ?it/s]"
      ]
     },
     "metadata": {},
     "output_type": "display_data"
    },
    {
     "data": {
      "application/vnd.jupyter.widget-view+json": {
       "model_id": "",
       "version_major": 2,
       "version_minor": 0
      },
      "text/plain": [
       "Validating: 0it [00:00, ?it/s]"
      ]
     },
     "metadata": {},
     "output_type": "display_data"
    },
    {
     "data": {
      "application/vnd.jupyter.widget-view+json": {
       "model_id": "",
       "version_major": 2,
       "version_minor": 0
      },
      "text/plain": [
       "Validating: 0it [00:00, ?it/s]"
      ]
     },
     "metadata": {},
     "output_type": "display_data"
    },
    {
     "data": {
      "application/vnd.jupyter.widget-view+json": {
       "model_id": "",
       "version_major": 2,
       "version_minor": 0
      },
      "text/plain": [
       "Validating: 0it [00:00, ?it/s]"
      ]
     },
     "metadata": {},
     "output_type": "display_data"
    },
    {
     "data": {
      "application/vnd.jupyter.widget-view+json": {
       "model_id": "",
       "version_major": 2,
       "version_minor": 0
      },
      "text/plain": [
       "Validating: 0it [00:00, ?it/s]"
      ]
     },
     "metadata": {},
     "output_type": "display_data"
    },
    {
     "data": {
      "application/vnd.jupyter.widget-view+json": {
       "model_id": "",
       "version_major": 2,
       "version_minor": 0
      },
      "text/plain": [
       "Validating: 0it [00:00, ?it/s]"
      ]
     },
     "metadata": {},
     "output_type": "display_data"
    },
    {
     "data": {
      "application/vnd.jupyter.widget-view+json": {
       "model_id": "",
       "version_major": 2,
       "version_minor": 0
      },
      "text/plain": [
       "Validating: 0it [00:00, ?it/s]"
      ]
     },
     "metadata": {},
     "output_type": "display_data"
    },
    {
     "data": {
      "application/vnd.jupyter.widget-view+json": {
       "model_id": "",
       "version_major": 2,
       "version_minor": 0
      },
      "text/plain": [
       "Validating: 0it [00:00, ?it/s]"
      ]
     },
     "metadata": {},
     "output_type": "display_data"
    },
    {
     "data": {
      "application/vnd.jupyter.widget-view+json": {
       "model_id": "",
       "version_major": 2,
       "version_minor": 0
      },
      "text/plain": [
       "Validating: 0it [00:00, ?it/s]"
      ]
     },
     "metadata": {},
     "output_type": "display_data"
    },
    {
     "data": {
      "application/vnd.jupyter.widget-view+json": {
       "model_id": "",
       "version_major": 2,
       "version_minor": 0
      },
      "text/plain": [
       "Validating: 0it [00:00, ?it/s]"
      ]
     },
     "metadata": {},
     "output_type": "display_data"
    },
    {
     "data": {
      "application/vnd.jupyter.widget-view+json": {
       "model_id": "",
       "version_major": 2,
       "version_minor": 0
      },
      "text/plain": [
       "Validating: 0it [00:00, ?it/s]"
      ]
     },
     "metadata": {},
     "output_type": "display_data"
    },
    {
     "name": "stderr",
     "output_type": "stream",
     "text": [
      "Saving latest checkpoint...\n"
     ]
    },
    {
     "data": {
      "application/vnd.jupyter.widget-view+json": {
       "model_id": "86898909560140f1867ea3233bb09415",
       "version_major": 2,
       "version_minor": 0
      },
      "text/plain": [
       "Testing: 0it [00:00, ?it/s]"
      ]
     },
     "metadata": {},
     "output_type": "display_data"
    },
    {
     "name": "stderr",
     "output_type": "stream",
     "text": [
      "\u001b[34m\u001b[1mwandb\u001b[0m: Adding directory to artifact (/Users/angelolovatto/Repositories/personal/LQG-SVG/experiments/wandb/run-20210316_154047-16y05sct/files/checkpoints)... Done. 0.0s\n"
     ]
    },
    {
     "name": "stdout",
     "output_type": "stream",
     "text": [
      "--------------------------------------------------------------------------------\n",
      "DATALOADER:0 TEST RESULTS\n",
      "{'test/analytic_cossim': tensor(0.1677),\n",
      " 'test/analytic_diff': tensor(103.3631),\n",
      " 'test/analytic_svg_norm': tensor(117.8333),\n",
      " 'test/analytic_value': tensor(-483.5612),\n",
      " 'test/loss': tensor(345.0986),\n",
      " 'test/monte_carlo_cossim': tensor(0.1735),\n",
      " 'test/monte_carlo_diff': tensor(112.0403),\n",
      " 'test/monte_carlo_svg_norm': tensor(116.0092),\n",
      " 'test/monte_carlo_value': tensor(-474.8840),\n",
      " 'true_svg_norm': tensor(645.4822),\n",
      " 'true_value': tensor(-586.9243)}\n",
      "--------------------------------------------------------------------------------\n"
     ]
    },
    {
     "data": {
      "text/html": [
       "<br/>Waiting for W&B process to finish, PID 6999<br/>Program ended successfully."
      ],
      "text/plain": [
       "<IPython.core.display.HTML object>"
      ]
     },
     "metadata": {},
     "output_type": "display_data"
    },
    {
     "data": {
      "application/vnd.jupyter.widget-view+json": {
       "model_id": "",
       "version_major": 2,
       "version_minor": 0
      },
      "text/plain": [
       "VBox(children=(Label(value=' 2.45MB of 2.45MB uploaded (0.00MB deduped)\\r'), FloatProgress(value=1.0, max=1.0)…"
      ]
     },
     "metadata": {},
     "output_type": "display_data"
    },
    {
     "data": {
      "text/html": [
       "Find user logs for this run at: <code>/Users/angelolovatto/Repositories/personal/LQG-SVG/experiments/wandb/run-20210316_154047-16y05sct/logs/debug.log</code>"
      ],
      "text/plain": [
       "<IPython.core.display.HTML object>"
      ]
     },
     "metadata": {},
     "output_type": "display_data"
    },
    {
     "data": {
      "text/html": [
       "Find internal logs for this run at: <code>/Users/angelolovatto/Repositories/personal/LQG-SVG/experiments/wandb/run-20210316_154047-16y05sct/logs/debug-internal.log</code>"
      ],
      "text/plain": [
       "<IPython.core.display.HTML object>"
      ]
     },
     "metadata": {},
     "output_type": "display_data"
    },
    {
     "data": {
      "text/html": [
       "<h3>Run summary:</h3><br/><style>\n",
       "    table.wandb td:nth-child(1) { padding: 0 10px; text-align: right }\n",
       "    </style><table class=\"wandb\">\n",
       "<tr><td>train/loss</td><td>345.19943</td></tr><tr><td>epoch</td><td>19</td></tr><tr><td>_runtime</td><td>95</td></tr><tr><td>_timestamp</td><td>1615920142</td></tr><tr><td>_step</td><td>2199</td></tr><tr><td>val/loss</td><td>345.465</td></tr><tr><td>val/monte_carlo_value</td><td>-485.14645</td></tr><tr><td>val/monte_carlo_svg_norm</td><td>116.50011</td></tr><tr><td>val/analytic_value</td><td>-483.56125</td></tr><tr><td>val/analytic_svg_norm</td><td>117.83326</td></tr><tr><td>val/monte_carlo_diff</td><td>101.77786</td></tr><tr><td>val/analytic_diff</td><td>103.36307</td></tr><tr><td>val/monte_carlo_cossim</td><td>0.15236</td></tr><tr><td>val/analytic_cossim</td><td>0.16767</td></tr><tr><td>test/loss</td><td>345.09857</td></tr><tr><td>true_value</td><td>-586.92432</td></tr><tr><td>true_svg_norm</td><td>645.48224</td></tr><tr><td>test/monte_carlo_value</td><td>-474.884</td></tr><tr><td>test/monte_carlo_svg_norm</td><td>116.00916</td></tr><tr><td>test/analytic_value</td><td>-483.56125</td></tr><tr><td>test/analytic_svg_norm</td><td>117.83326</td></tr><tr><td>test/monte_carlo_diff</td><td>112.04031</td></tr><tr><td>test/analytic_diff</td><td>103.36307</td></tr><tr><td>test/monte_carlo_cossim</td><td>0.17354</td></tr><tr><td>test/analytic_cossim</td><td>0.16767</td></tr></table>"
      ],
      "text/plain": [
       "<IPython.core.display.HTML object>"
      ]
     },
     "metadata": {},
     "output_type": "display_data"
    },
    {
     "data": {
      "text/html": [
       "<h3>Run history:</h3><br/><style>\n",
       "    table.wandb td:nth-child(1) { padding: 0 10px; text-align: right }\n",
       "    </style><table class=\"wandb\">\n",
       "<tr><td>train/loss</td><td>█▆▅▄▃▃▃▂▂▂▂▂▂▁▁▁▁▁▁▁▁▁</td></tr><tr><td>epoch</td><td>▁▁▁▁▂▂▂▂▂▂▃▃▃▃▄▄▄▄▄▄▅▅▅▅▅▅▆▆▆▆▇▇▇▇▇▇████</td></tr><tr><td>_runtime</td><td>▁▁▁▁▂▂▂▂▂▃▃▃▃▃▃▃▄▄▄▄▄▅▅▅▅▅▅▆▆▆▆▆▇▇▇▇████</td></tr><tr><td>_timestamp</td><td>▁▁▁▁▂▂▂▂▂▃▃▃▃▃▃▃▄▄▄▄▄▅▅▅▅▅▅▆▆▆▆▆▇▇▇▇████</td></tr><tr><td>_step</td><td>▁▁▁▁▁▁▁▂▂▂▂▂▂▂▂▂▂▂▂▃▃▃▃▃▃▃▃▃▃▄▄▄▄▄▄▄▄▄▄█</td></tr><tr><td>val/loss</td><td>█▆▅▄▃▃▂▂▂▂▂▂▁▁▁▁▁▁▁▁</td></tr><tr><td>val/monte_carlo_value</td><td>██▇▇▇▆▆▅▅▄▄▄▃▃▃▂▁▁▂▁</td></tr><tr><td>val/monte_carlo_svg_norm</td><td>▁▁▁▂▂▂▂▃▃▄▄▄▅▆▆▆▇█▇█</td></tr><tr><td>val/analytic_value</td><td>██▇▇▆▆▆▅▅▄▄▄▃▃▃▂▂▂▁▁</td></tr><tr><td>val/analytic_svg_norm</td><td>▁▁▁▂▂▂▂▃▃▃▄▄▅▅▆▆▇▇██</td></tr><tr><td>val/monte_carlo_diff</td><td>██▇▇▇▆▆▅▅▄▄▄▃▃▃▂▁▁▂▁</td></tr><tr><td>val/analytic_diff</td><td>██▇▇▆▆▆▅▅▄▄▄▃▃▃▂▂▂▁▁</td></tr><tr><td>val/monte_carlo_cossim</td><td>▁▂▂▁▂▂▂▃▃▃▄▅▅▅▆▆▇███</td></tr><tr><td>val/analytic_cossim</td><td>▁▁▁▁▁▂▂▂▃▃▃▄▄▅▅▆▆▇▇█</td></tr><tr><td>test/loss</td><td>▁</td></tr><tr><td>true_value</td><td>▁</td></tr><tr><td>true_svg_norm</td><td>▁</td></tr><tr><td>test/monte_carlo_value</td><td>▁</td></tr><tr><td>test/monte_carlo_svg_norm</td><td>▁</td></tr><tr><td>test/analytic_value</td><td>▁</td></tr><tr><td>test/analytic_svg_norm</td><td>▁</td></tr><tr><td>test/monte_carlo_diff</td><td>▁</td></tr><tr><td>test/analytic_diff</td><td>▁</td></tr><tr><td>test/monte_carlo_cossim</td><td>▁</td></tr><tr><td>test/analytic_cossim</td><td>▁</td></tr></table><br/>"
      ],
      "text/plain": [
       "<IPython.core.display.HTML object>"
      ]
     },
     "metadata": {},
     "output_type": "display_data"
    },
    {
     "data": {
      "text/html": [
       "Synced 6 W&B file(s), 0 media file(s), 4 artifact file(s) and 5 other file(s)"
      ],
      "text/plain": [
       "<IPython.core.display.HTML object>"
      ]
     },
     "metadata": {},
     "output_type": "display_data"
    },
    {
     "data": {
      "text/html": [
       "\n",
       "                    <br/>Synced <strong style=\"color:#cdcd00\">SVG Prediction</strong>: <a href=\"https://wandb.ai/angelovtt/LQG-SVG/runs/16y05sct\" target=\"_blank\">https://wandb.ai/angelovtt/LQG-SVG/runs/16y05sct</a><br/>\n",
       "                "
      ],
      "text/plain": [
       "<IPython.core.display.HTML object>"
      ]
     },
     "metadata": {},
     "output_type": "display_data"
    }
   ],
   "source": [
    "with run, suppress_dataloader_warning():\n",
    "    artifact = wandb.Artifact(f\"svg_prediction-lqg{model.mdp.n_state}.{model.mdp.n_ctrl}.{model.mdp.horizon}\", type=\"model\")\n",
    "\n",
    "    trainer.fit(model, datamodule=datamodule)\n",
    "\n",
    "    results = trainer.test(model, datamodule=datamodule)\n",
    "    run.log(results[0])\n",
    "    \n",
    "    artifact.add_dir(trainer.checkpoint_callback.dirpath)\n",
    "    run.log_artifact(artifact)"
   ]
  }
 ],
 "metadata": {
  "kernelspec": {
   "display_name": "Python 3",
   "language": "python",
   "name": "python3"
  },
  "language_info": {
   "codemirror_mode": {
    "name": "ipython",
    "version": 3
   },
   "file_extension": ".py",
   "mimetype": "text/x-python",
   "name": "python",
   "nbconvert_exporter": "python",
   "pygments_lexer": "ipython3",
   "version": "3.8.2"
  }
 },
 "nbformat": 4,
 "nbformat_minor": 5
}
