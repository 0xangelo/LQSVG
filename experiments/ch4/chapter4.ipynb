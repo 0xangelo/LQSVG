{
 "cells": [
  {
   "cell_type": "code",
   "execution_count": null,
   "id": "997974f0-b5db-4d5e-a348-e1edf3e8fb7e",
   "metadata": {},
   "outputs": [],
   "source": [
    "from __future__ import annotations\n",
    "\n",
    "import datetime\n",
    "import os\n",
    "import os.path as osp\n",
    "import textwrap\n",
    "from typing import Callable, Optional, Type\n",
    "\n",
    "import lqsvg.experiment.analysis as analysis\n",
    "import lqsvg.experiment.utils as eutil\n",
    "import lqsvg.torch.named as nt\n",
    "import lqsvg.torch.utils as tutil\n",
    "import matplotlib as mpl\n",
    "import matplotlib.pyplot as plt\n",
    "\n",
    "# Format y axis as percent: https://stackoverflow.com/a/36319915/7842251\n",
    "import matplotlib.ticker as mtick\n",
    "import numpy as np\n",
    "import pandas as pd\n",
    "import ray\n",
    "import seaborn as sns\n",
    "import torch\n",
    "import torch.nn as nn\n",
    "from lqsvg.envs import lqr\n",
    "from lqsvg.envs.lqr.generators import LQGGenerator\n",
    "from lqsvg.envs.lqr.modules import (\n",
    "    InitStateDynamics,\n",
    "    LinearDynamicsModule,\n",
    "    LQGModule,\n",
    "    QuadraticReward,\n",
    ")\n",
    "from lqsvg.experiment.estimators import DPG, MAAC, AnalyticSVG, MonteCarloSVG\n",
    "from lqsvg.experiment.plot import default_figsize, plot_surface\n",
    "from lqsvg.np_util import RNG\n",
    "from lqsvg.policy.modules import QuadQValue, TVLinearPolicy\n",
    "from torch import Tensor\n",
    "from tqdm.auto import tqdm, trange"
   ]
  },
  {
   "cell_type": "code",
   "execution_count": null,
   "id": "1a98912e-b347-4095-bc99-0640fdbbc59b",
   "metadata": {},
   "outputs": [],
   "source": [
    "ray.init()"
   ]
  },
  {
   "cell_type": "code",
   "execution_count": null,
   "id": "46f9a163-7138-4c66-aeae-63efe5f7c4bc",
   "metadata": {},
   "outputs": [],
   "source": [
    "DEBUG = False"
   ]
  },
  {
   "cell_type": "markdown",
   "id": "cc9ca093-4cf0-4165-b72d-366168642382",
   "metadata": {},
   "source": [
    "# Matplotlib setup\n",
    "\n",
    "Latex presets ([ref](https://jwalton.info/Embed-Publication-Matplotlib-Latex/))"
   ]
  },
  {
   "cell_type": "code",
   "execution_count": null,
   "id": "404cc245-c060-4e67-9f27-5bdd23a08512",
   "metadata": {},
   "outputs": [],
   "source": [
    "from functools import partial\n",
    "\n",
    "from lqsvg.experiment.plot import STYLE_PATH, available_styles, latex_size, save_pdf_tight, create_latex_style\n",
    "\n",
    "create_latex_style()\n",
    "set_size = partial(latex_size, width=\"thesis\")"
   ]
  },
  {
   "cell_type": "code",
   "execution_count": null,
   "id": "eb5f3e85-5391-4c96-8d9b-28a8c9208e10",
   "metadata": {},
   "outputs": [],
   "source": [
    "print(*available_styles())"
   ]
  },
  {
   "cell_type": "code",
   "execution_count": null,
   "id": "2af0fb00-1bb3-49c0-a184-001f9abc4b87",
   "metadata": {},
   "outputs": [],
   "source": [
    "print(f\"Your style sheets are located at: {STYLE_PATH}\")"
   ]
  },
  {
   "cell_type": "code",
   "execution_count": null,
   "id": "b74793ab-61d6-47b7-a4ba-619ec9738abb",
   "metadata": {},
   "outputs": [],
   "source": [
    "# Using seaborn's style\n",
    "plt.style.use(\"seaborn\")\n",
    "# With LaTex fonts\n",
    "plt.style.use(\"tex\")"
   ]
  },
  {
   "cell_type": "code",
   "execution_count": null,
   "id": "013757e8-f6d0-4601-9f3f-a03654cdeeb0",
   "metadata": {},
   "outputs": [],
   "source": [
    "def figpath(name: str) -> str:\n",
    "    return osp.join(\"images\", name + \".pdf\")\n",
    "\n",
    "\n",
    "def savefig(fig, name):\n",
    "    return save_pdf_tight(fig, figpath(name))"
   ]
  },
  {
   "cell_type": "code",
   "execution_count": null,
   "id": "5e445132-81fd-4826-9906-82fc29b6f38d",
   "metadata": {},
   "outputs": [],
   "source": [
    "if DEBUG:\n",
    "    # Test\n",
    "    x = np.linspace(0, 2 * np.pi, 100)\n",
    "    # Initialise figure instance\n",
    "    fig, ax = plt.subplots(1, 1, figsize=set_size())\n",
    "\n",
    "    # Plot\n",
    "    ax.plot(x, np.sin(x))\n",
    "    ax.set_xlim(0, 2 * np.pi)\n",
    "    ax.set_xlabel(r\"$\\theta$\")\n",
    "    ax.set_ylabel(r\"$\\sin (\\theta)$\")\n",
    "\n",
    "    savefig(fig, \"example\")"
   ]
  },
  {
   "cell_type": "code",
   "execution_count": null,
   "id": "d3b70330-6a01-47b9-85ff-d272e531f2de",
   "metadata": {},
   "outputs": [],
   "source": [
    "if osp.exists(figpath(\"example\")):\n",
    "    os.remove(figpath(\"example\"))"
   ]
  },
  {
   "cell_type": "markdown",
   "id": "9e2a552d-2e2d-4524-bbaa-a748e9fbe254",
   "metadata": {},
   "source": [
    "# Experimental setup"
   ]
  },
  {
   "cell_type": "markdown",
   "id": "b455281c-392a-484d-91bc-6616f02cc6c4",
   "metadata": {},
   "source": [
    "## Biased/Unbiased (DPG/MAAC) estimators"
   ]
  },
  {
   "cell_type": "code",
   "execution_count": null,
   "id": "94574d71-6d65-4d5a-afca-638446208efc",
   "metadata": {},
   "outputs": [],
   "source": [
    "class KStepModules(nn.Module):\n",
    "    def __init__(\n",
    "        self,\n",
    "        policy: TVLinearPolicy,\n",
    "        transition: LinearDynamicsModule,\n",
    "        reward: QuadraticReward,\n",
    "        qvalue: QuaQValue,\n",
    "    ):\n",
    "        super().__init__()\n",
    "        self.policy = policy\n",
    "        self.transition = transition\n",
    "        self.reward = reward\n",
    "        self.qvalue = qvalue\n",
    "\n",
    "\n",
    "class KStepEstimator(nn.Module):\n",
    "    def __init__(\n",
    "        self, modules: KStepModules, obs: Tensor, kind: Union[Type[DPG], Type[MAAC]]\n",
    "    ):\n",
    "        super().__init__()\n",
    "        self.nn = modules\n",
    "        self.state_dataset = obs\n",
    "        self.kind = kind\n",
    "        self.estimator = self.kind(\n",
    "            modules.policy, modules.transition, modules.reward, modules.qvalue\n",
    "        )\n",
    "        self.n_steps: int = 0\n",
    "\n",
    "    def sample_starting_obs(self, samples: int) -> Tensor:\n",
    "        if samples == self.state_dataset.size(\"B\"):\n",
    "            return self.state_dataset\n",
    "        idxs = torch.randint(low=0, high=self.state_dataset.size(\"B\"), size=(samples,))\n",
    "        return nt.index_select(self.state_dataset, dim=\"B\", index=idxs)\n",
    "\n",
    "    def surrogate(self, samples: int = 1) -> Tensor:\n",
    "        obs = self.sample_starting_obs(samples)\n",
    "        return self.estimator.surrogate(obs, n_steps=self.n_steps)\n",
    "\n",
    "    def forward(self, samples: int = 1) -> tuple[Tensor, lqr.Linear]:\n",
    "        obs = self.sample_starting_obs(samples)\n",
    "        return self.estimator(obs, n_steps=self.n_steps)\n",
    "\n",
    "    def delta_to_surrogate(\n",
    "        self, samples: int, n_step: int, update_q: bool = False\n",
    "    ) -> Callable[[np.ndarray], np.ndarray]:\n",
    "        K_0, k_0 = self.nn.policy.standard_form()\n",
    "\n",
    "        @torch.no_grad()\n",
    "        def f_delta(delta: np.ndarray) -> np.ndarray:\n",
    "            vector = nt.vector(tutil.as_float_tensor(delta))\n",
    "            delta_K, delta_k = tutil.vector_to_tensors(vector, (K_0, k_0))\n",
    "            policy = TVLinearPolicy.from_existing((K_0 + delta_K, k_0 + delta_k))\n",
    "            if update_q:\n",
    "                qvalue = QuadQValue.from_policy(\n",
    "                    policy.standard_form(),\n",
    "                    self.nn.transition.standard_form(),\n",
    "                    self.nn.reward.standard_form(),\n",
    "                )\n",
    "            else:\n",
    "                qvalue = self.nn.qvalue\n",
    "            modules = KStepModules(policy, self.nn.transition, self.nn.reward, qvalue)\n",
    "            estimator = KStepEstimator(modules, self.state_dataset, self.kind)\n",
    "            estimator.n_steps = n_step\n",
    "            surrogate = estimator.surrogate(samples)\n",
    "            return surrogate.numpy()\n",
    "\n",
    "        return f_delta"
   ]
  },
  {
   "cell_type": "markdown",
   "id": "39d4bb10-51e5-487d-95be-1016bbac246b",
   "metadata": {},
   "source": [
    "## Environment and policy generation"
   ]
  },
  {
   "cell_type": "markdown",
   "id": "4af96037-cfe8-4a83-b5a2-98609bbe953e",
   "metadata": {},
   "source": [
    "LQG parameters: \n",
    "1. $|S| = 2, |A| = 2, |H| = 20$\n",
    "2. Stationary dynamics and cost\n",
    "3. Passive dynamics eigvals $|\\lambda_i| \\sim \\mathcal{U}(0.5, 1.5)$\n",
    "4. Controllable\n",
    "5. Transition covariance $\\Sigma = I$\n",
    "6. Cost $s^\\intercal C_{ss} s + a^\\intercal C_{aa} a$"
   ]
  },
  {
   "cell_type": "code",
   "execution_count": null,
   "id": "d2ebd190-ec7c-4c78-ab79-4ca69a94105d",
   "metadata": {},
   "outputs": [],
   "source": [
    "def make_generator(seed: int) -> LQGGenerator:\n",
    "    return LQGGenerator(\n",
    "        n_state=2,\n",
    "        n_ctrl=2,\n",
    "        horizon=20,\n",
    "        stationary=True,\n",
    "        passive_eigval_range=(0.5, 1.5),\n",
    "        controllable=True,\n",
    "        rng=seed,\n",
    "    )"
   ]
  },
  {
   "cell_type": "code",
   "execution_count": null,
   "id": "69b69981-a063-48fa-9635-35ef7c1d073a",
   "metadata": {
    "tags": []
   },
   "outputs": [],
   "source": [
    "def grad_estimates(\n",
    "    estimator,\n",
    "    sample_sizes: list[int],\n",
    "    estimates_per_sample_size: int = 10,\n",
    "    pbar: bool = False,\n",
    ") -> list[list[lqr.Linear]]:\n",
    "    \"\"\"Helper to sample several SVG estimates for different sample sizes.\"\"\"\n",
    "    progress = tqdm(\n",
    "        sample_sizes, desc=\"Computing SVG by sample size\", leave=False, disable=not pbar\n",
    "    )\n",
    "    svgs_by_sample_size = []\n",
    "    for size in progress:\n",
    "        svgs = [estimator(samples=size)[1] for _ in range(estimates_per_sample_size)]\n",
    "        svgs_by_sample_size += [svgs]\n",
    "    return svgs_by_sample_size"
   ]
  },
  {
   "cell_type": "code",
   "execution_count": null,
   "id": "d830114f-456f-4e9b-a84f-0cc11883bc32",
   "metadata": {
    "tags": []
   },
   "outputs": [],
   "source": [
    "class Trial:\n",
    "    def __init__(self, seed: int, total_states: int = 1000):\n",
    "        self.rng = np.random.default_rng(seed)\n",
    "        self.generator = make_generator(self.rng)\n",
    "        self.lqg, self.policy, self.qvalue = self.make_modules(self.generator)\n",
    "\n",
    "        with tutil.default_generator_seed(seed):\n",
    "            self.states = self.starting_states(self.policy, self.lqg, total_states)\n",
    "\n",
    "        modules = KStepModules(\n",
    "            self.policy, self.lqg.trans, self.lqg.reward, self.qvalue\n",
    "        )\n",
    "        self.estimator = {\n",
    "            \"dpg\": KStepEstimator(modules, self.states, kind=DPG),\n",
    "            \"maac\": KStepEstimator(modules, self.states, kind=MAAC),\n",
    "        }\n",
    "\n",
    "    def make_modules(\n",
    "        self, generator: LQGGenerator\n",
    "    ) -> tuple[LQGModule, TVLinearPolicy, QuadQValue]:\n",
    "        with nt.suppress_named_tensor_warning():\n",
    "            dynamics, cost, init = generator()\n",
    "        model = LQGModule.from_existing(dynamics, cost, init)\n",
    "        policy = TVLinearPolicy(model.n_state, model.n_ctrl, model.horizon)\n",
    "        policy.stabilize_(dynamics, rng=self.rng)\n",
    "        qvalue = QuadQValue.from_policy(policy.standard_form(), dynamics, cost)\n",
    "        return model, policy, qvalue\n",
    "\n",
    "    @staticmethod\n",
    "    def starting_states(policy: TVLinearPolicy, model: LQGModule, num: int) -> Tensor:\n",
    "        rollout_module = MonteCarloSVG(policy, model)\n",
    "        n_trajs = num // model.horizon\n",
    "        with torch.no_grad():\n",
    "            obs, _, _, _, _ = rollout_module.rsample_trajectory(torch.Size([n_trajs]))\n",
    "        obs = obs.flatten([\"H\", \"B1\"], \"B\")\n",
    "        return obs"
   ]
  },
  {
   "cell_type": "markdown",
   "id": "edd7ac66-13e5-4097-a61a-60445c9f1ea3",
   "metadata": {},
   "source": [
    "# Experiments"
   ]
  },
  {
   "cell_type": "markdown",
   "id": "cef2796c-9e85-4e72-853a-a76897d4eb9c",
   "metadata": {},
   "source": [
    "## Gradient estimation for fixed policies"
   ]
  },
  {
   "cell_type": "code",
   "execution_count": null,
   "id": "fff67c8f-5985-4d38-82ca-f23669326690",
   "metadata": {
    "tags": []
   },
   "outputs": [],
   "source": [
    "@ray.remote\n",
    "class GradientQualityTrial(Trial):\n",
    "    \"\"\"Helper to collect gradient quality metrics for a specific environment-policy pair.\n",
    "\n",
    "    Environment-policy pair determined by seed.\n",
    "    \"\"\"\n",
    "\n",
    "    def __init__(self, seed: int, total_states: int):\n",
    "        super().__init__(seed, total_states)\n",
    "        _, self.true_svg = AnalyticSVG(self.policy, self.lqg)()\n",
    "\n",
    "    def gradient_quality_vs_samples(\n",
    "        self, sample_sizes: np.ndarray, n_step: int, estimates: int\n",
    "    ) -> pd.DataFrame:\n",
    "        rows = sum(\n",
    "            (self.gradient_estimation_data(s, n_step, estimates) for s in sample_sizes),\n",
    "            start=[],\n",
    "        )\n",
    "        columns = [\n",
    "            \"#Samples\",\n",
    "            \"Avg. cos sim with true grad\",\n",
    "            \"Avg. pairwise cos sim\",\n",
    "            \"Norm\",\n",
    "            \"Estimator\",\n",
    "        ]\n",
    "        data = pd.DataFrame(rows, columns=columns)\n",
    "        data[\"K\"] = n_step\n",
    "        data[\"trial\"] = self.generator.rng\n",
    "        return data\n",
    "\n",
    "    def gradient_estimation_data(\n",
    "        self, samples: int, n_step: int, estimates: int\n",
    "    ) -> list:\n",
    "        rows = []\n",
    "        for name, estimator in self.estimator.items():\n",
    "            svgs = self.grad_estimates(estimator, samples, n_step, estimates)\n",
    "            cossim = analysis.gradient_accuracy(svgs, self.true_svg)\n",
    "            empvar = analysis.empirical_variance(svgs)\n",
    "            norm = np.mean([eutil.linear_feedback_norm(s).numpy() for s in svgs])\n",
    "            rows += [[samples, cossim, empvar, norm, name]]\n",
    "\n",
    "        return rows\n",
    "\n",
    "    @staticmethod\n",
    "    def grad_estimates(\n",
    "        estimator, samples: int, n_step: int, estimates: int = 10\n",
    "    ) -> list[lqr.Linear]:\n",
    "        old = estimator.n_steps\n",
    "        estimator.n_steps = n_step\n",
    "        estimates = [estimator(samples)[1] for _ in range(estimates)]\n",
    "        estimator.n_steps = old\n",
    "        return estimates"
   ]
  },
  {
   "cell_type": "code",
   "execution_count": null,
   "id": "752f4176-adc0-4abc-bcdd-cfa87eb60527",
   "metadata": {
    "tags": []
   },
   "outputs": [],
   "source": [
    "class GradientQualityComparison:\n",
    "    \"\"\"Helper to collect gradient quality metrics over several environment-policy pairs.\n",
    "\n",
    "    Uses Ray to distribute computation via trial Actors.\n",
    "    \"\"\"\n",
    "\n",
    "    def __init__(self, seeds: list[int], total_states: int = 1000):\n",
    "        self.seeds = seeds\n",
    "        self.total_states = total_states\n",
    "        self.actors = None\n",
    "        self.data = None\n",
    "\n",
    "    def collect(self, sample_sizes: np.ndarray, n_steps: np.ndarray):\n",
    "        if self.actors is None:\n",
    "            self.actors = [\n",
    "                GradientQualityTrial.remote(seed=s, total_states=self.total_states)\n",
    "                for s in self.seeds\n",
    "            ]\n",
    "\n",
    "        remaining = [\n",
    "            a.gradient_quality_vs_samples.remote(sample_sizes, n_step=k, estimates=10)\n",
    "            for k in n_steps\n",
    "            for a in self.actors\n",
    "        ]\n",
    "        ready = []\n",
    "        with tqdm(desc=\"Collecting\", total=len(remaining)) as pbar:\n",
    "            while remaining:\n",
    "                done, remaining = ray.wait(remaining)\n",
    "                ready += done\n",
    "                pbar.update(len(done))\n",
    "        self.data = pd.concat(ray.get(ready), ignore_index=True)\n",
    "\n",
    "    def save(self, name: str = \"\"):\n",
    "        assert self.data is not None\n",
    "        now = datetime.datetime.now().isoformat(timespec=\"minutes\")\n",
    "        fname = f\"{type(self).__name__}-{now}.csv\"\n",
    "        prfx = name + \"-\" if name else \"\"\n",
    "        path = osp.join(\"local\", prfx + fname)\n",
    "        self.data.to_csv(path, index=False)\n",
    "\n",
    "    def load(self, path: str):\n",
    "        assert self.data is None\n",
    "        self.data = pd.read_csv(path, index_col=False)"
   ]
  },
  {
   "cell_type": "markdown",
   "id": "c86c3f65-d87c-49a1-9a95-38363ef41912",
   "metadata": {},
   "source": [
    "### Bias/variance vs. sample size vs. K steps"
   ]
  },
  {
   "cell_type": "code",
   "execution_count": null,
   "id": "35c717ce-748f-400b-a99a-7d3ade474c4f",
   "metadata": {},
   "outputs": [],
   "source": [
    "# comp = GradientQualityComparison(seeds=np.arange(10), total_states=1000)\n",
    "# comp.collect(\n",
    "#     sample_sizes=np.linspace(1, comp.total_states, 200, dtype=int), n_steps=[2]\n",
    "# )\n",
    "# comp.save(\"BiasVarianceNorm-K=2\")"
   ]
  },
  {
   "cell_type": "code",
   "execution_count": null,
   "id": "b1d95e54-f852-4235-bcef-5e4102a80576",
   "metadata": {},
   "outputs": [],
   "source": [
    "def fgrid_size(rows: int, cols: int, **setsize_kws) -> dict:\n",
    "    \"\"\"Kwargs to set FacetGrid size based on number of rows and cols.\"\"\"\n",
    "    w, h = set_size(subplots=(rows, cols), **setsize_kws)\n",
    "    return dict(height=h / rows, aspect=(w / cols) / (h / rows))\n",
    "\n",
    "\n",
    "def plot_gradient_acc(data):\n",
    "    cols = 2\n",
    "    rows = (len(data[\"K\"].unique()) + 1) // cols\n",
    "    print(f\"rows: {rows}, cols: {cols}\")\n",
    "\n",
    "    fgrid = sns.relplot(\n",
    "        kind=\"line\",\n",
    "        data=data,\n",
    "        x=\"#Samples\",\n",
    "        y=\"Avg. cos sim with true grad\",\n",
    "        hue=\"Estimator\",\n",
    "        col=\"K\",\n",
    "        col_wrap=cols,\n",
    "        ci=95,\n",
    "        facet_kws=dict(legend_out=False),\n",
    "        **fgrid_size(rows, cols, fraction=1),\n",
    "    )\n",
    "    fgrid.set_xlabels(\"\\#Samples\")\n",
    "    fgrid.set_ylabels(\"Accuracy\")\n",
    "    fgrid.tight_layout()\n",
    "    return fgrid\n",
    "\n",
    "\n",
    "def plot_gradient_prc(data):\n",
    "    cols = 2\n",
    "    rows = (len(data[\"K\"].unique()) + 1) // cols\n",
    "    print(f\"rows: {rows}, cols: {cols}\")\n",
    "\n",
    "    fgrid = sns.relplot(\n",
    "        kind=\"line\",\n",
    "        data=data,\n",
    "        x=\"#Samples\",\n",
    "        y=\"Avg. pairwise cos sim\",\n",
    "        hue=\"Estimator\",\n",
    "        col=\"K\",\n",
    "        col_wrap=cols,\n",
    "        ci=95,\n",
    "        facet_kws=dict(legend_out=False),\n",
    "        **fgrid_size(rows, cols, fraction=1),\n",
    "    )\n",
    "    fgrid.set_xlabels(\"\\#Samples\")\n",
    "    fgrid.set_ylabels(\"Precision\")\n",
    "    fgrid.tight_layout()\n",
    "    return fgrid"
   ]
  },
  {
   "cell_type": "code",
   "execution_count": null,
   "id": "fc1be317-0576-4e30-9697-137422bcfadd",
   "metadata": {
    "tags": []
   },
   "outputs": [],
   "source": [
    "BIAS_VAR_NORM_DATA = pd.concat(\n",
    "    (\n",
    "        pd.read_csv(\n",
    "            \"results/BiasVarianceNorm-K=0,4,8-GradientQualityComparison-2021-05-28T12:04.csv\",\n",
    "            index_col=False,\n",
    "        ),\n",
    "        pd.read_csv(\n",
    "            \"results/BiasVarianceNorm-K=2-GradientQualityComparison-2021-05-31T11:04.csv\",\n",
    "            index_col=False,\n",
    "        ),\n",
    "    ),\n",
    "    ignore_index=True,\n",
    ")"
   ]
  },
  {
   "cell_type": "code",
   "execution_count": null,
   "id": "8d44f907-c3d5-412c-95cf-764068b9764a",
   "metadata": {},
   "outputs": [],
   "source": [
    "BIAS_VAR_NORM_DATA[\"#Samples\"].value_counts().sort_index()"
   ]
  },
  {
   "cell_type": "code",
   "execution_count": null,
   "id": "38a8eef7-8bbd-42f5-b361-d552b9c0049f",
   "metadata": {
    "tags": []
   },
   "outputs": [],
   "source": [
    "savefig(plot_gradient_acc(BIAS_VAR_NORM_DATA), \"GradientAcc\")"
   ]
  },
  {
   "cell_type": "code",
   "execution_count": null,
   "id": "e4e22a89-2926-47ed-b0a7-af44e0e950f0",
   "metadata": {
    "tags": []
   },
   "outputs": [],
   "source": [
    "savefig(plot_gradient_prc(BIAS_VAR_NORM_DATA), \"GradientPrc\")"
   ]
  },
  {
   "cell_type": "markdown",
   "id": "adaea032-c845-47f1-b8ad-0d276d67141b",
   "metadata": {},
   "source": [
    "### Gradient signal strength"
   ]
  },
  {
   "cell_type": "code",
   "execution_count": null,
   "id": "0433e0f1-7927-4288-96be-1d35bd59bea8",
   "metadata": {},
   "outputs": [],
   "source": [
    "def plot_gradient_norm(data, agg: bool = True):\n",
    "    cols = 2\n",
    "    rows = (len(data[\"K\"].unique()) + 1) // cols\n",
    "    print(f\"rows: {rows}, cols: {cols}\")\n",
    "\n",
    "    fgrid = sns.relplot(\n",
    "        kind=\"line\",\n",
    "        data=data,\n",
    "        x=\"#Samples\",\n",
    "        y=\"Norm\",\n",
    "        hue=\"Estimator\",\n",
    "        col=\"K\",\n",
    "        col_wrap=cols,\n",
    "        ci=\"sd\",\n",
    "        facet_kws=dict(legend_out=False, sharey=False),\n",
    "        **fgrid_size(rows, cols, fraction=1),\n",
    "    )\n",
    "    for nstep, ax in fgrid.axes_dict.items():\n",
    "        ax.set_ylim(np.percentile(data[data[\"K\"] == nstep][\"Norm\"], [2.5, 97.5]))\n",
    "    #     fgrid.set(ylim=np.percentile(data[\"Norm\"], [2.5, 97.5]))\n",
    "    fgrid.set_xlabels(\"\\#Samples\")\n",
    "    fgrid.set_ylabels(\"Gradient norm\")\n",
    "    fgrid.tight_layout()\n",
    "    return fgrid"
   ]
  },
  {
   "cell_type": "code",
   "execution_count": null,
   "id": "f3abf164-ad13-48e0-b9ce-4bbfbe6f6eef",
   "metadata": {
    "tags": []
   },
   "outputs": [],
   "source": [
    "savefig(plot_gradient_norm(BIAS_VAR_NORM_DATA, agg=False), \"GradientNorm\")"
   ]
  },
  {
   "cell_type": "markdown",
   "id": "50925cc4-1eea-469d-b5ae-692c98f469db",
   "metadata": {},
   "source": [
    "### Estimator bias at convergence"
   ]
  },
  {
   "cell_type": "code",
   "execution_count": null,
   "id": "02a0fea7-2b92-4e75-9ee2-9e02c04dcf24",
   "metadata": {},
   "outputs": [],
   "source": [
    "# comp = GradientQualityComparison(seeds=np.arange(10), total_states=50000)\n",
    "# comp.collect([comp.total_states], np.arange(1, 21))\n",
    "# comp.save(\"Convergence\")"
   ]
  },
  {
   "cell_type": "code",
   "execution_count": null,
   "id": "1db6bbb5-553a-4bb3-ac36-5832a9509741",
   "metadata": {},
   "outputs": [],
   "source": [
    "CONVERGENCE_DATA = pd.read_csv(\n",
    "    \"results/Convergence-GradientQualityComparison-2021-05-25T15.20.csv\", index_col=False\n",
    ")"
   ]
  },
  {
   "cell_type": "code",
   "execution_count": null,
   "id": "e5708bfe-9da9-4983-ba6a-7a338950aaa2",
   "metadata": {},
   "outputs": [],
   "source": [
    "CONVERGENCE_DATA.info()"
   ]
  },
  {
   "cell_type": "code",
   "execution_count": null,
   "id": "4d218272-9a15-43a9-8dab-d1f0da2e5023",
   "metadata": {},
   "outputs": [],
   "source": [
    "def plot_acc_vs_nstep(data):\n",
    "    data = data[data[\"#Samples\"] == data[\"#Samples\"].max()]\n",
    "    fig, ax = plt.subplots(1, 1, figsize=set_size(fraction=0.7))\n",
    "    sns.scatterplot(\n",
    "        ax=ax,\n",
    "        data=data,\n",
    "        x=\"K\",\n",
    "        y=\"Avg. cos sim with true grad\",\n",
    "        hue=\"Estimator\",\n",
    "        style=\"Estimator\",\n",
    "        s=10,  # Marker size https://stackoverflow.com/a/52785672/7842251\n",
    "        alpha=0.75,\n",
    "    )\n",
    "    ax.set_xlabel(\"$K$\")\n",
    "    ax.set_ylabel(\"Accuracy\")\n",
    "    ax.set_xticks(data[\"K\"].unique()[::2])\n",
    "    ax.legend(markerscale=0.75)\n",
    "    return savefig(fig, \"convergence\")"
   ]
  },
  {
   "cell_type": "code",
   "execution_count": null,
   "id": "27f25617-c907-4e45-9659-f46a2b2701aa",
   "metadata": {},
   "outputs": [],
   "source": [
    "plot_acc_vs_nstep(CONVERGENCE_DATA)"
   ]
  },
  {
   "cell_type": "markdown",
   "id": "7bfea9ba-2e67-4c31-910c-5f871f8ab3b6",
   "metadata": {},
   "source": [
    "## Impact of gradient quality on policy optimization"
   ]
  },
  {
   "cell_type": "code",
   "execution_count": null,
   "id": "b2597add-73d4-46d9-8c39-d9b8d33ca55d",
   "metadata": {},
   "outputs": [],
   "source": [
    "from typing import Iterable, TypeVar\n",
    "\n",
    "from raylab.utils.exp_data import load_exps_data\n",
    "\n",
    "T = TypeVar(\"T\")"
   ]
  },
  {
   "cell_type": "code",
   "execution_count": null,
   "id": "13155053-5745-4704-9c75-cb33e0556737",
   "metadata": {},
   "outputs": [],
   "source": [
    "def dict_exclude(mapping: dict[str, T], keys: Iterable[str]) -> dict[str, T]:\n",
    "    return {k: mapping[k] for k in set(mapping.keys()).difference(set(keys))}\n",
    "\n",
    "\n",
    "def push_config_to_dataframe(exp_data):\n",
    "    progress = exp_data.progress\n",
    "    params = dict_exclude(exp_data.params, [\"wandb_tags\", \"wandb_dir\"])\n",
    "    return pd.concat((progress, pd.DataFrame(params, index=progress.index)), axis=1)\n",
    "\n",
    "\n",
    "def read_optimization_data(path: str) -> pd.DataFrame:\n",
    "    exps_data = load_exps_data(path)\n",
    "    dfs = [push_config_to_dataframe(e) for e in exps_data]\n",
    "    return pd.concat(dfs, ignore_index=True)"
   ]
  },
  {
   "cell_type": "code",
   "execution_count": null,
   "id": "09a2032a-45c1-498c-becc-db3f8d73a5cd",
   "metadata": {},
   "outputs": [],
   "source": [
    "OPTIMIZATION_DATA = read_optimization_data(\"results/Experiment_2021-06-07_09-25-12/\")\n",
    "OPTIMIZATION_DATA.head()"
   ]
  },
  {
   "cell_type": "code",
   "execution_count": null,
   "id": "14fab7d0-2425-488f-bc39-79a0d99b24be",
   "metadata": {},
   "outputs": [],
   "source": [
    "OPTIMIZATION_DATA.info()"
   ]
  },
  {
   "cell_type": "code",
   "execution_count": null,
   "id": "ac8d241d-c150-4df3-976d-27dad0cc1386",
   "metadata": {},
   "outputs": [],
   "source": [
    "HUE_ORDER = \"dpg maac\".split()"
   ]
  },
  {
   "cell_type": "code",
   "execution_count": null,
   "id": "4c385bea-13ee-402c-8400-8c8a73ee263f",
   "metadata": {},
   "outputs": [],
   "source": [
    "def learning_curves(data, ci=\"sd\"):\n",
    "    data = data.copy()\n",
    "    data[\"Iteration\"] = data[\"training_iteration\"]\n",
    "    data[\"Cost\"] = -data[\"true_value\"]\n",
    "    data[\"seed\"] = data[\"env_seed\"]\n",
    "\n",
    "    cols = 2\n",
    "    rows = (len(data[\"seed\"].unique()) + 1) // cols\n",
    "    print(f\"rows: {rows}, cols: {cols}\")\n",
    "    w, h = set_size(fraction=1, subplots=(rows, cols))\n",
    "    print(f\"width: {w}, height: {h}\")\n",
    "\n",
    "    fgrid = sns.relplot(\n",
    "        data=data,\n",
    "        kind=\"line\",\n",
    "        x=\"Iteration\",\n",
    "        y=\"Cost\",\n",
    "        hue=\"estimator\",\n",
    "        hue_order=HUE_ORDER,\n",
    "        ci=ci,\n",
    "        col=\"seed\",\n",
    "        col_wrap=cols,\n",
    "        height=h / rows,\n",
    "        aspect=(w / cols) / (h / rows),\n",
    "        facet_kws={\"sharey\": False, \"sharex\": True, \"legend_out\": False},\n",
    "    )\n",
    "    for ax in fgrid.axes:\n",
    "        ax.set_title(None)\n",
    "    for seed, ax in fgrid.axes_dict.items():\n",
    "        ax.set_ylim(top=np.percentile(data[data[\"seed\"] == seed][\"Cost\"], 97.5))\n",
    "    fgrid.tight_layout()\n",
    "    return fgrid"
   ]
  },
  {
   "cell_type": "markdown",
   "id": "7d18ab67-48d4-44f4-897c-64e4772873a9",
   "metadata": {},
   "source": [
    "### Unnormalized gradients"
   ]
  },
  {
   "cell_type": "code",
   "execution_count": null,
   "id": "116179c6-4d4f-455a-93ee-25616d475877",
   "metadata": {},
   "outputs": [],
   "source": [
    "savefig(\n",
    "    learning_curves(\n",
    "        OPTIMIZATION_DATA.query(\"normalize_svg == False & env_seed not in [2, 7]\")\n",
    "    ),\n",
    "    \"unnormalized_svg_optimization\",\n",
    ")"
   ]
  },
  {
   "cell_type": "code",
   "execution_count": null,
   "id": "c1170b13-8cd0-4c46-b2e6-346c78184eee",
   "metadata": {},
   "outputs": [],
   "source": [
    "savefig(\n",
    "    learning_curves(\n",
    "        OPTIMIZATION_DATA.query(\n",
    "            \"normalize_svg == False & env_seed not in [2, 7, 5, 6, 8, 9]\"\n",
    "        )\n",
    "    ),\n",
    "    \"unnormalized_svg_optimization_short\",\n",
    ")"
   ]
  },
  {
   "cell_type": "markdown",
   "id": "c907df68-50c3-41b3-a3ee-f1726cb115c4",
   "metadata": {},
   "source": [
    "### Normalized gradients"
   ]
  },
  {
   "cell_type": "code",
   "execution_count": null,
   "id": "1941db5c-2dad-4631-8c72-f770144ad298",
   "metadata": {},
   "outputs": [],
   "source": [
    "savefig(\n",
    "    learning_curves(\n",
    "        OPTIMIZATION_DATA.query(\"normalize_svg == True & env_seed not in [2, 7]\")\n",
    "    ),\n",
    "    \"normalized_svg_optimization\",\n",
    ")"
   ]
  },
  {
   "cell_type": "code",
   "execution_count": null,
   "id": "54f78fde-2016-4390-bf27-f97038b6fba2",
   "metadata": {},
   "outputs": [],
   "source": [
    "savefig(\n",
    "    learning_curves(\n",
    "        OPTIMIZATION_DATA.query(\n",
    "            \"normalize_svg == True & env_seed not in [2, 7, 5, 6, 8, 9]\"\n",
    "        )\n",
    "    ),\n",
    "    \"normalized_svg_optimization_short\",\n",
    ")"
   ]
  },
  {
   "cell_type": "markdown",
   "id": "4450e5f4-8cbd-40e4-bc32-10029d7882df",
   "metadata": {},
   "source": [
    "## Suboptimality Gap"
   ]
  },
  {
   "cell_type": "markdown",
   "id": "f9260068-e3f2-4f72-ab68-019a8195f32e",
   "metadata": {},
   "source": [
    "### SGD (clip gradient norm)"
   ]
  },
  {
   "cell_type": "code",
   "execution_count": null,
   "id": "5fe3e091-4c86-48f7-a33b-13772d373438",
   "metadata": {},
   "outputs": [],
   "source": [
    "def read_suboptimality_data(logdir: str) -> pd.DataFrame:\n",
    "    data = read_optimization_data(logdir)\n",
    "    data[\"Iteration\"] = data[\"training_iteration\"]\n",
    "    data[\"Cost\"] = -data[\"true_value\"]\n",
    "    data[\"Optimal\"] = -data[\"optimal_value\"]\n",
    "    data[\"Suboptimality\"] = 100 * (data[\"Cost\"] - data[\"Optimal\"]) / data[\"Optimal\"]\n",
    "    data[\"Grad Norm\"] = data[\"grad_norm\"]\n",
    "    data[\"Dim\"] = data[\"env_dim\"]\n",
    "    return data"
   ]
  },
  {
   "cell_type": "code",
   "execution_count": null,
   "id": "6c994949-9d45-4d4d-bf35-04ced0681b86",
   "metadata": {},
   "outputs": [],
   "source": [
    "NEW_SGD_DATA = read_suboptimality_data(\"results/SuboptimalityGap_2021-06-12_15-59-42/\")"
   ]
  },
  {
   "cell_type": "code",
   "execution_count": null,
   "id": "9d41403f-7a74-4cb9-89e3-9d546c715dc1",
   "metadata": {},
   "outputs": [],
   "source": [
    "NEW_SGD_DATA.query(\"time_total_s >= 300 & Dim == 10\").groupby(\"estimator\").mean()[\n",
    "    \"time_total_s\"\n",
    "]"
   ]
  },
  {
   "cell_type": "code",
   "execution_count": null,
   "id": "70f509ba-ac43-4cdf-aef3-63b13f389edb",
   "metadata": {},
   "outputs": [],
   "source": [
    "def progress_summary(data: pd.DataFrame) -> pd.DataFrame:\n",
    "    data[\"Time (min)\"] = (data[\"time_total_s\"] // 60).astype(int)\n",
    "    data = data.query(\"`Time (min)` in [1, 3, 5]\")\n",
    "    data = pd.pivot_table(\n",
    "        data,\n",
    "        values=\"Suboptimality\",\n",
    "        index=[\"estimator\", \"Time (min)\"],\n",
    "        columns=\"Dim\",\n",
    "        aggfunc=np.median,\n",
    "    )\n",
    "    return data.round(decimals=2)"
   ]
  },
  {
   "cell_type": "code",
   "execution_count": null,
   "id": "0996b274-3381-41e5-ac55-70d60ffa5b82",
   "metadata": {},
   "outputs": [],
   "source": [
    "progress_summary(NEW_SGD_DATA)  # .to_html()"
   ]
  },
  {
   "cell_type": "code",
   "execution_count": null,
   "id": "43eb2de4-9c2a-4787-a0df-e18d2367f076",
   "metadata": {},
   "outputs": [],
   "source": [
    "print(progress_summary(NEW_SGD_DATA).to_html())"
   ]
  },
  {
   "cell_type": "code",
   "execution_count": null,
   "id": "5f147ae5-0b18-4e8c-a1a7-5551adbf9094",
   "metadata": {},
   "outputs": [],
   "source": [
    "def suboptimality_curves(data, y=\"Suboptimality\", ci=\"sd\"):\n",
    "    fgrid = sns.relplot(\n",
    "        data=data,\n",
    "        kind=\"line\",\n",
    "        x=\"time_total_s\",\n",
    "        y=y,\n",
    "        hue=\"estimator\",\n",
    "        hue_order=HUE_ORDER,\n",
    "        ci=ci,\n",
    "        col=\"seed\",\n",
    "        row=\"Dim\",\n",
    "        facet_kws={\"sharey\": False, \"legend_out\": False, \"margin_titles\": True},\n",
    "    )\n",
    "    for ax in fgrid.axes.flatten():\n",
    "        ax.yaxis.set_major_formatter(\n",
    "            mtick.PercentFormatter(xmax=1.0, decimals=1, symbol=\"\\%\", is_latex=True)\n",
    "        )\n",
    "    fgrid.set_xlabels(\"Wall clock time (sec)\")\n",
    "    fgrid.tight_layout()\n",
    "    return fgrid"
   ]
  },
  {
   "cell_type": "code",
   "execution_count": null,
   "id": "9b1f3a12-0e55-4156-ad72-c488b90997ed",
   "metadata": {},
   "outputs": [],
   "source": [
    "savefig(suboptimality_curves(NEW_SGD_DATA), \"SuboptimalitySGD_clipped\")"
   ]
  },
  {
   "cell_type": "code",
   "execution_count": null,
   "id": "9b83b946-deb5-4a82-87ab-5505cc44eef8",
   "metadata": {},
   "outputs": [],
   "source": [
    "NEW_SGD_DATA[[\"K\", \"B\", \"optimizer\", \"learning_rate\", \"clip_grad_norm\"]].head()"
   ]
  },
  {
   "cell_type": "markdown",
   "id": "ea1634ca-91f8-4bcb-afd3-e61a37f57f36",
   "metadata": {},
   "source": [
    "## Optimization surface"
   ]
  },
  {
   "cell_type": "code",
   "execution_count": null,
   "id": "c1e6ebe4-4cc5-4a45-8100-b75777798167",
   "metadata": {},
   "outputs": [],
   "source": [
    "assert False  # Avoid running experiments below"
   ]
  },
  {
   "cell_type": "code",
   "execution_count": null,
   "id": "3416a06b-5be6-48a9-906e-585ce3c02739",
   "metadata": {},
   "outputs": [],
   "source": [
    "class OptimizationSurfaceComparison(Trial):\n",
    "    def plot_real_vs_surrogate(\n",
    "        self, estimator: str, samples: int, n_step: int, seed: Optional[int] = None\n",
    "    ):\n",
    "        sns.reset_orig()\n",
    "        estim = self.estimator[estimator]\n",
    "        estim.n_steps = n_step\n",
    "\n",
    "        seed = seed or self.rng.integers(np.iinfo(int).max)\n",
    "        with tutil.default_generator_seed(seed):\n",
    "            _, svg = estim(samples)\n",
    "            direction = tutil.tensors_to_vector(svg).numpy()\n",
    "\n",
    "            real_XYZ = analysis.optimization_surface(\n",
    "                self.delta_to_return(),\n",
    "                direction=direction,\n",
    "                max_scaling=3.0,\n",
    "                steps=20,\n",
    "                rng=seed,\n",
    "            )\n",
    "            surrogate_XYZ = analysis.optimization_surface(\n",
    "                estim.delta_to_surrogate(samples, n_step, update_q=False),\n",
    "                direction=direction,\n",
    "                max_scaling=3.0,\n",
    "                steps=20,\n",
    "                rng=seed,\n",
    "            )\n",
    "\n",
    "        fig = plt.figure(figsize=default_figsize(2, 4))\n",
    "        ax1 = fig.add_subplot(1, 2, 1, projection=\"3d\")\n",
    "        ax2 = fig.add_subplot(1, 2, 2, projection=\"3d\")\n",
    "        plot_surface(*real_XYZ, ax=ax1, invert_xaxis=True)\n",
    "        plot_surface(*surrogate_XYZ, ax=ax2, invert_xaxis=True)\n",
    "        ax1.set_xlabel(\"Random direction\")\n",
    "        ax2.set_xlabel(\"Random direction\")\n",
    "        ax1.set_ylabel(f\"SVG ({estimator}) direction\")\n",
    "        ax2.set_ylabel(f\"SVG ({estimator}) direction\")\n",
    "        ax1.set_zlabel(\"Policy return\")\n",
    "        ax2.set_zlabel(\"Surrogate value\")\n",
    "        fig.suptitle(f\"NStep: {n_step}\")\n",
    "        plt.show()\n",
    "\n",
    "    def delta_to_return(self) -> Callable[[np.ndarray], np.ndarray]:\n",
    "        policy = self.policy.standard_form()\n",
    "        dynamics, cost, init = self.lqg.standard_form()\n",
    "        return analysis.delta_to_return(policy, dynamics, cost, init)"
   ]
  },
  {
   "cell_type": "code",
   "execution_count": null,
   "id": "17aef083-5490-4d5e-a234-6a69910f9170",
   "metadata": {},
   "outputs": [],
   "source": [
    "comparator = OptimizationSurfaceComparison(4)\n",
    "comparator.plot_real_vs_surrogate(\"dpg\", samples=200, n_step=0, seed=4)\n",
    "comparator.plot_real_vs_surrogate(\"maac\", samples=200, n_step=0, seed=4)"
   ]
  },
  {
   "cell_type": "code",
   "execution_count": null,
   "id": "677a44e7-0b37-4331-8ec2-de074ac772d4",
   "metadata": {},
   "outputs": [],
   "source": [
    "comparator.plot_real_vs_surrogate(\"dpg\", samples=200, n_step=4, seed=4)\n",
    "comparator.plot_real_vs_surrogate(\"maac\", samples=200, n_step=4, seed=4)"
   ]
  },
  {
   "cell_type": "code",
   "execution_count": null,
   "id": "b527bd30-6501-4512-8c63-3cc994d22bcd",
   "metadata": {},
   "outputs": [],
   "source": [
    "comparator.plot_real_vs_surrogate(\"dpg\", samples=200, n_step=10, seed=4)\n",
    "comparator.plot_real_vs_surrogate(\"maac\", samples=200, n_step=10, seed=4)"
   ]
  },
  {
   "cell_type": "code",
   "execution_count": null,
   "id": "662eff66-6339-4e48-8dd5-0c33e058c77b",
   "metadata": {},
   "outputs": [],
   "source": [
    "comparator.plot_real_vs_surrogate(\"dpg\", samples=200, n_step=20, seed=4)\n",
    "comparator.plot_real_vs_surrogate(\"maac\", samples=200, n_step=20, seed=4)"
   ]
  },
  {
   "cell_type": "code",
   "execution_count": null,
   "id": "558eadf1-97aa-4444-bb3d-9c8210939fb1",
   "metadata": {},
   "outputs": [],
   "source": [
    "# comparator = OptimizationSurfaceComparison(4)\n",
    "# comparator.plot_real_vs_surrogate(\"dpg\", samples=200, n_step=0, update_q=True)\n",
    "# comparator.plot_real_vs_surrogate(\"maac\", samples=200, n_step=0, update_q=True)\n",
    "# comparator.plot_real_vs_surrogate(\"dpg\", samples=200, n_step=3, update_q=True)\n",
    "# comparator.plot_real_vs_surrogate(\"maac\", samples=200, n_step=3, update_q=True)"
   ]
  },
  {
   "cell_type": "code",
   "execution_count": null,
   "id": "67f60162-804f-44d7-8817-38a25be6e5fe",
   "metadata": {},
   "outputs": [],
   "source": [
    "comparator = OptimizationSurfaceComparison(42)\n",
    "comparator.plot_real_vs_surrogate(\"dpg\", samples=200, n_step=4, seed=42)\n",
    "comparator.plot_real_vs_surrogate(\"maac\", samples=200, n_step=4, seed=42)"
   ]
  },
  {
   "cell_type": "code",
   "execution_count": null,
   "id": "28e06b8c-3707-41ca-8e35-4cb50515cfef",
   "metadata": {},
   "outputs": [],
   "source": [
    "comparator.plot_real_vs_surrogate(\"dpg\", samples=500, n_step=4, seed=42)\n",
    "comparator.plot_real_vs_surrogate(\"maac\", samples=500, n_step=4, seed=42)"
   ]
  }
 ],
 "metadata": {
  "kernelspec": {
   "display_name": "Python 3 (ipykernel)",
   "language": "python",
   "name": "python3"
  },
  "language_info": {
   "codemirror_mode": {
    "name": "ipython",
    "version": 3
   },
   "file_extension": ".py",
   "mimetype": "text/x-python",
   "name": "python",
   "nbconvert_exporter": "python",
   "pygments_lexer": "ipython3",
   "version": "3.8.10"
  }
 },
 "nbformat": 4,
 "nbformat_minor": 5
}
