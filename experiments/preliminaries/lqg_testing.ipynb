{
 "cells": [
  {
   "cell_type": "markdown",
   "metadata": {},
   "source": [
    "# A Closer Look at Model-Based Policy Gradients"
   ]
  },
  {
   "cell_type": "markdown",
   "metadata": {},
   "source": [
    "---\n",
    "## Linear Quadratic Gaussian (LQG) Problems\n",
    "In what follows we consider MDPs with:\n",
    "1. continuous state space $\\mathbf{s} \\in \\mathcal{S} = \\mathbb{R}^n$\n",
    "2. continuous action space $\\mathbf{a} \\in \\mathcal{A} = \\mathbb{R}^d$\n",
    "3. finite time horizon $N \\in \\mathbb{N}$ and timesteps $t \\in \\mathcal{T} = \\{0, \\dots, N - 1\\}$\n",
    "4. time-varying linear Gaussian dynamics \n",
    "    $$\n",
    "    \\mathbf{s}_{t+1} \\sim p(\\cdot| \\mathbf{s}_t, \\mathbf{a}_t) = \\mathcal{N}\\left( \\cdot ~\\middle|~ \\mathbf{F}_t \\begin{bmatrix}\\mathbf{s}_t \\\\ \\mathbf{a}_t\\end{bmatrix} + \\mathbf{f}_t, \\mathbf{\\Sigma}_{t} \\right)\n",
    "    $$\n",
    "5. time-varying quadratic costs \n",
    "    $$\n",
    "    r_{t+1} = R(\\mathbf{s}_t, \\mathbf{a}_t) = - \\tfrac{1}{2} \\begin{bmatrix}\\mathbf{s}_t \\\\ \\mathbf{a}_t\\end{bmatrix}^\\intercal \\mathbf{C}_t \\begin{bmatrix}\\mathbf{s}_t \\\\ \\mathbf{a}_t\\end{bmatrix} - \\mathbf{c}_t^\\intercal \\begin{bmatrix}\\mathbf{s}_t \\\\ \\mathbf{a}_t\\end{bmatrix}\n",
    "    $$\n",
    "6. Gaussian-distributed initial state \n",
    "    $$\n",
    "    \\mathbf{s}_0 \\sim \\rho = \\mathcal{N}(\\mathbf{\\mu}_\\rho, \\mathbf{\\Sigma}_\\rho)\n",
    "    $$"
   ]
  },
  {
   "cell_type": "markdown",
   "metadata": {},
   "source": [
    "### Imports"
   ]
  },
  {
   "cell_type": "code",
   "execution_count": null,
   "metadata": {},
   "outputs": [],
   "source": [
    "from __future__ import annotations\n",
    "\n",
    "import lqsvg.envs.lqr.utils as utils\n",
    "import lqsvg.torch.named as nt\n",
    "import matplotlib.pyplot as plt\n",
    "\n",
    "%matplotlib inline\n",
    "import numpy as np\n",
    "import pandas as pd\n",
    "import seaborn as sns\n",
    "import torch\n",
    "from lqsvg.envs import lqr\n",
    "from lqsvg.envs.lqr.gym import LQGGenerator\n",
    "from torch import Tensor\n",
    "from tqdm.auto import tqdm, trange\n",
    "\n",
    "sns.set()"
   ]
  },
  {
   "cell_type": "markdown",
   "metadata": {},
   "source": [
    "### Environment generation\n",
    "\n",
    "In what follows we consider **time-invaryant dynamics**: $\\mathbf{F}_t, \\mathbf{f}_t, \\mathbf{\\Sigma}_t = \\mathbf{F}, \\mathbf{f}, \\mathbf{\\Sigma}, \\forall t\\in\\mathcal{T}$."
   ]
  },
  {
   "cell_type": "code",
   "execution_count": null,
   "metadata": {},
   "outputs": [],
   "source": [
    "generator = LQGGenerator(\n",
    "    n_state=2,\n",
    "    n_ctrl=2,\n",
    "    horizon=10,\n",
    "    seed=123,\n",
    "    stationary=True,\n",
    "    passive_eigval_range=(0.5, 1.5),\n",
    "    controllable=True,\n",
    "    transition_bias=False,\n",
    "    rand_trans_cov=False,\n",
    "    rand_init_cov=False,\n",
    "    cost_linear=False,\n",
    "    cost_cross=False,\n",
    ")"
   ]
  },
  {
   "cell_type": "code",
   "execution_count": null,
   "metadata": {},
   "outputs": [],
   "source": [
    "with nt.suppress_named_tensor_warning():\n",
    "    dynamics, cost, init = generator(n_batch=None)\n",
    "\n",
    "print(\n",
    "    f\"\"\"\n",
    "Dynamics:\n",
    "    F: {dynamics.F.shape}, {dynamics.F.names}\n",
    "    f: {dynamics.f.shape}, {dynamics.f.names}\n",
    "    W: {dynamics.W.shape}, {dynamics.W.names}\n",
    "\n",
    "Cost:\n",
    "    C: {cost.C.shape}, {cost.C.names}\n",
    "    c: {cost.c.shape}, {cost.c.names}\n",
    "    \n",
    "Initial state:\n",
    "    mean: {init.mu.shape}, {init.mu.names}\n",
    "    covariance: {init.sig.shape}, {init.sig.names}\n",
    "\"\"\"\n",
    ")"
   ]
  },
  {
   "cell_type": "markdown",
   "metadata": {},
   "source": [
    "### Useful diagnostics"
   ]
  },
  {
   "cell_type": "code",
   "execution_count": null,
   "metadata": {},
   "outputs": [],
   "source": [
    "def sys_eigvals(dynamics: lqr.LinSDynamics) -> np.ndarray:\n",
    "    eigvals = utils.stationary_eigvals(dynamics)\n",
    "    return eigvals"
   ]
  },
  {
   "cell_type": "code",
   "execution_count": null,
   "metadata": {},
   "outputs": [],
   "source": [
    "def abs_eigvals(dynamics: lqr.LinSDynamics) -> np.ndarray:\n",
    "    return np.abs(sys_eigvals(dynamics)).reshape((-1,))"
   ]
  },
  {
   "cell_type": "code",
   "execution_count": null,
   "metadata": {},
   "outputs": [],
   "source": [
    "# def min_eigval_distance(dynamics: lqr.LinSDynamics) -> np.ndarray:\n",
    "#     eigvals = sys_eigvals(dynamics)[..., :, np.newaxis]\n",
    "#     eigvals_T = eigvals.swapaxes(-2, -1)\n",
    "#     abs_diff = np.abs(eigvals - eigvals_T)\n",
    "#     return np.min(abs_diff, axis=(-2, -1))"
   ]
  },
  {
   "cell_type": "code",
   "execution_count": null,
   "metadata": {},
   "outputs": [],
   "source": [
    "def max_abs_eigval(dynamics: lqr.LinSDynamics) -> np.ndarray:\n",
    "    return np.abs(sys_eigvals(dynamics)).max(axis=-1)"
   ]
  },
  {
   "cell_type": "code",
   "execution_count": null,
   "metadata": {},
   "outputs": [],
   "source": [
    "def all_real_eigval(dynamics: lqr.LinSDynamics) -> np.ndarray:\n",
    "    eigval = utils.stationary_eigvals(dynamics)\n",
    "    return np.all(np.isreal(eigval), axis=-1)"
   ]
  },
  {
   "cell_type": "code",
   "execution_count": null,
   "metadata": {},
   "outputs": [],
   "source": [
    "def rank_defficient(dynamics: lqr.LinSDynamics) -> np.ndarray:\n",
    "    n_state, _, _ = lqr.dims_from_dynamics(dynamics)\n",
    "    A, _ = utils.stationary_dynamics_factors(dynamics)\n",
    "    return np.linalg.matrix_rank(A.numpy()) < n_state"
   ]
  },
  {
   "cell_type": "code",
   "execution_count": null,
   "metadata": {},
   "outputs": [],
   "source": [
    "def issymmetric(dynamics: lqr.LinSDynamics) -> np.ndarray:\n",
    "    A, _ = utils.stationary_dynamics_factors(dynamics)\n",
    "    return np.all(torch.abs(A - nt.transpose(A)).numpy() < 1e-8, axis=(-2, -1))"
   ]
  },
  {
   "cell_type": "markdown",
   "metadata": {},
   "source": [
    "### Stability of the un-actuated system\n",
    "\n",
    "Suppose we run the system with 0 inputs for an indefinite amount of time. Will the values of $\\mathbf{s}_t$ diverge? We test for this by checking that the eigenvalues $\\{\\lambda_i \\}_{i=1}^{n}$ of $\\mathbf{F_s}$, where $\\mathbf{F} = [\\mathbf{F_s\\ F_a}]$, are all within the unit circle in the complex plane.\n",
    "\n",
    "![](images/stable_eigvals.png)"
   ]
  },
  {
   "cell_type": "code",
   "execution_count": null,
   "metadata": {},
   "outputs": [],
   "source": [
    "utils.isstable(dynamics)"
   ]
  },
  {
   "cell_type": "markdown",
   "metadata": {},
   "source": [
    "Let's see if we spot any trends when generating transition dynamics by sampling the entries in $\\mathbf{F}$ independently from a standard Normal distribution. ($\\mathcal{N}(0, 1)$)"
   ]
  },
  {
   "cell_type": "code",
   "execution_count": null,
   "metadata": {},
   "outputs": [],
   "source": [
    "def standard_normal_dynamics(gen: LQGGenerator, samples: int) -> lqr.LinSDynamics:\n",
    "    dynamics = gen.make_dynamics(n_batch=samples)\n",
    "    A, B = utils.stationary_dynamics_factors(dynamics)\n",
    "    F = torch.cat([torch.randn_like(A), B], dim=-1).expand_as(dynamics.F)\n",
    "    F = nt.horizon(F)\n",
    "    return lqr.LinSDynamics(F=F, f=dynamics.f, W=dynamics.W)"
   ]
  },
  {
   "cell_type": "code",
   "execution_count": null,
   "metadata": {},
   "outputs": [],
   "source": [
    "stable = utils.isstable(standard_normal_dynamics(generator, 10))\n",
    "print(stable)"
   ]
  },
  {
   "cell_type": "markdown",
   "metadata": {},
   "source": [
    "We see that a lot of the dynamics generated are unstable. Let's plot a histogram of stable vs. unstable systems."
   ]
  },
  {
   "cell_type": "code",
   "execution_count": null,
   "metadata": {},
   "outputs": [],
   "source": [
    "sns.histplot(data=utils.isstable(standard_normal_dynamics(generator, 500)).astype(str))\n",
    "plt.show()"
   ]
  },
  {
   "cell_type": "markdown",
   "metadata": {},
   "source": [
    "We quickly see that a majority of systems generated this way are unstable. We may then see how unstable by plotting a histogram of the magnitude of the largest eigenvalue."
   ]
  },
  {
   "cell_type": "code",
   "execution_count": null,
   "metadata": {},
   "outputs": [],
   "source": [
    "sns.histplot(data=abs_eigvals(standard_normal_dynamics(generator, 1000)))\n",
    "plt.show()"
   ]
  },
  {
   "cell_type": "code",
   "execution_count": null,
   "metadata": {},
   "outputs": [],
   "source": [
    "sns.histplot(data=max_abs_eigval(standard_normal_dynamics(generator, 1000)))\n",
    "plt.show()"
   ]
  },
  {
   "cell_type": "markdown",
   "metadata": {},
   "source": [
    "We can see that a lot of the generated matrices have eigenvalues with norms well above 1."
   ]
  },
  {
   "cell_type": "markdown",
   "metadata": {},
   "source": [
    "Let's also check if the trends observed above generalize to different state sizes."
   ]
  },
  {
   "cell_type": "code",
   "execution_count": null,
   "metadata": {},
   "outputs": [],
   "source": [
    "def hist_by_state_dim(func: callable, sampler: callable, **kwargs):\n",
    "    n_samples = 1000\n",
    "    scale = 1.5\n",
    "    fig, ax = plt.subplots(1, figsize=[scale * 6.4, scale * 4.8])\n",
    "    x = \"State size\"\n",
    "    y = func.__name__.replace(\"_\", \" \").capitalize()\n",
    "    kwargs.update(discrete=(True, False))\n",
    "\n",
    "    dfs = []\n",
    "    state_sizes = [2 + i for i in range(19)]\n",
    "    for state_size in tqdm(state_sizes):\n",
    "        with generator.config(n_state=state_size):\n",
    "            samples = func(sampler(generator, n_samples))\n",
    "            if samples.dtype == bool:\n",
    "                samples = samples.astype(str)\n",
    "                kwargs.update(stat=\"probability\", discrete=(True, True))\n",
    "\n",
    "            state_dim = np.full_like(samples, fill_value=generator.n_state, dtype=int)\n",
    "            dfs += [pd.DataFrame({y: samples, x: state_dim})]\n",
    "\n",
    "    sns.histplot(ax=ax, x=x, y=y, data=pd.concat(dfs), cbar=True, **kwargs)\n",
    "\n",
    "    fig.suptitle(sampler.__name__.replace(\"_\", \" \").capitalize())\n",
    "    plt.tight_layout()\n",
    "    plt.xticks(state_sizes)\n",
    "    plt.show()"
   ]
  },
  {
   "cell_type": "code",
   "execution_count": null,
   "metadata": {},
   "outputs": [],
   "source": [
    "hist_by_state_dim(rank_defficient, standard_normal_dynamics)\n",
    "\n",
    "hist_by_state_dim(abs_eigvals, standard_normal_dynamics)\n",
    "\n",
    "hist_by_state_dim(max_abs_eigval, standard_normal_dynamics)\n",
    "\n",
    "hist_by_state_dim(all_real_eigval, standard_normal_dynamics)\n",
    "\n",
    "hist_by_state_dim(utils.isstable, standard_normal_dynamics)\n",
    "\n",
    "hist_by_state_dim(utils.iscontrollable, standard_normal_dynamics)\n",
    "\n",
    "hist_by_state_dim(utils.is_pbh_ctrb, standard_normal_dynamics)"
   ]
  },
  {
   "cell_type": "markdown",
   "metadata": {},
   "source": [
    "### Generating stable dynamics\n",
    "\n",
    "To have stable dynamics we generate random matrices $\\mathbf{F_s}$ with eigenvalues with absolute values less or equal to 1. We start by sampling each eigenvalue independently from the uniform distribution $\\mathcal{U}(-1, 1)$. Then we use the trick described in the blog post [Generate a random matrix with specified eigenvalues](https://blogs.sas.com/content/iml/2012/03/30/geneate-a-random-matrix-with-specified-eigenvalues.html) to generate a random matrix with the sampled eigenvalues.\n",
    "\n",
    "<div class=\"alert alert-block alert-info\">\n",
    "    <b>Note:</b> for now we sample only real eigenvalues\n",
    "</div>"
   ]
  },
  {
   "cell_type": "code",
   "execution_count": null,
   "metadata": {},
   "outputs": [],
   "source": [
    "def stable_dynamics(gen: LQGGenerator, samples: int) -> lqr.LinSDynamics:\n",
    "    with gen.config(passive_eigval_range=(0.0, 1.0)):\n",
    "        return gen.make_dynamics(n_batch=samples)"
   ]
  },
  {
   "cell_type": "code",
   "execution_count": null,
   "metadata": {},
   "outputs": [],
   "source": [
    "hist_by_state_dim(rank_defficient, stable_dynamics)\n",
    "\n",
    "hist_by_state_dim(utils.isstable, stable_dynamics)\n",
    "\n",
    "hist_by_state_dim(max_abs_eigval, stable_dynamics)\n",
    "\n",
    "hist_by_state_dim(abs_eigvals, stable_dynamics)\n",
    "\n",
    "hist_by_state_dim(all_real_eigval, stable_dynamics)\n",
    "\n",
    "hist_by_state_dim(issymmetric, stable_dynamics)"
   ]
  },
  {
   "cell_type": "markdown",
   "metadata": {},
   "source": [
    "### Testing controllability\n",
    "\n",
    "Next, we build the **controllability matrix** for randomly generated systems and visualize the distribution of the controllability status."
   ]
  },
  {
   "cell_type": "code",
   "execution_count": null,
   "metadata": {},
   "outputs": [],
   "source": [
    "hist_by_state_dim(utils.iscontrollable, standard_normal_dynamics)\n",
    "\n",
    "hist_by_state_dim(utils.iscontrollable, stable_dynamics)"
   ]
  },
  {
   "cell_type": "markdown",
   "metadata": {},
   "source": [
    "We see that for standard normal generators the resulting systems are mostly uncontrollable as the state size increases. On the other hand, the stable dynamics generated are mostly controllable.\n",
    "\n",
    "Let's try to generate stable, controllable systems by exploiting the consequences of the Popov-Belevitch-Hautus (PBH) test."
   ]
  },
  {
   "cell_type": "code",
   "execution_count": null,
   "metadata": {},
   "outputs": [],
   "source": [
    "def stable_ctrb_dynamics(gen: LQGGenerator, samples: int) -> lqr.LinSDynamics:\n",
    "    with gen.config(passive_eigval_range=(0.0, 1.0), controllable=True):\n",
    "        return gen.make_dynamics(n_batch=samples)"
   ]
  },
  {
   "cell_type": "code",
   "execution_count": null,
   "metadata": {},
   "outputs": [],
   "source": [
    "def unstable_ctrb_dynamics(gen: LQGGenerator, samples: int) -> lqr.LinSDynamics:\n",
    "    with gen.config(passive_eigval_range=(0.5, 1.5), controllable=True):\n",
    "        return gen.make_dynamics(n_batch=samples)"
   ]
  },
  {
   "cell_type": "code",
   "execution_count": null,
   "metadata": {
    "tags": []
   },
   "outputs": [],
   "source": [
    "hist_by_state_dim(utils.iscontrollable, unstable_ctrb_dynamics)\n",
    "\n",
    "hist_by_state_dim(utils.iscontrollable, stable_ctrb_dynamics)"
   ]
  },
  {
   "cell_type": "markdown",
   "metadata": {},
   "source": [
    "Epic fail :/"
   ]
  },
  {
   "cell_type": "markdown",
   "metadata": {
    "tags": []
   },
   "source": [
    "### Testing Controllability via PBH"
   ]
  },
  {
   "cell_type": "code",
   "execution_count": null,
   "metadata": {
    "tags": []
   },
   "outputs": [],
   "source": [
    "# hist_by_state_dim(utils.is_pbh_ctrb, standard_normal_dynamics)\n",
    "\n",
    "# hist_by_state_dim(utils.is_pbh_ctrb, stable_dynamics)\n",
    "\n",
    "# hist_by_state_dim(utils.is_pbh_ctrb, stable_ctrb_dynamics)"
   ]
  },
  {
   "cell_type": "markdown",
   "metadata": {},
   "source": [
    "### Testing Stabilizability"
   ]
  },
  {
   "cell_type": "code",
   "execution_count": null,
   "metadata": {
    "tags": []
   },
   "outputs": [],
   "source": [
    "# hist_by_state_dim(utils.isstabilizable, standard_normal_dynamics)\n",
    "\n",
    "# hist_by_state_dim(utils.isstabilizable, stable_dynamics)\n",
    "\n",
    "# hist_by_state_dim(utils.isstabilizable, stable_ctrb_dynamics)"
   ]
  }
 ],
 "metadata": {
  "kernelspec": {
   "display_name": "Python 3",
   "language": "python",
   "name": "python3"
  },
  "language_info": {
   "codemirror_mode": {
    "name": "ipython",
    "version": 3
   },
   "file_extension": ".py",
   "mimetype": "text/x-python",
   "name": "python",
   "nbconvert_exporter": "python",
   "pygments_lexer": "ipython3",
   "version": "3.8.10"
  }
 },
 "nbformat": 4,
 "nbformat_minor": 4
}
