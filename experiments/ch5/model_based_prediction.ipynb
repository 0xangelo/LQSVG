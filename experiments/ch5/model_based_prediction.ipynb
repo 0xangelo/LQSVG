{
 "cells": [
  {
   "cell_type": "markdown",
   "id": "0d1c7a3a-257b-4dce-bd64-2a569e9caede",
   "metadata": {
    "tags": []
   },
   "source": [
    "# Model-Based Prediction (Dynamics)\n",
    "\n",
    "Learning a dynamics model while using perfect reward and action-value functions in the MAAC($K$) estimator."
   ]
  },
  {
   "cell_type": "code",
   "execution_count": 1,
   "id": "b2314385-2ca5-490b-9eca-611bfa81a5fb",
   "metadata": {
    "tags": []
   },
   "outputs": [
    {
     "name": "stderr",
     "output_type": "stream",
     "text": [
      "/Users/angelolovatto/Library/Caches/pypoetry/virtualenvs/lqsvg-G_e_Olvw-py3.8/lib/python3.8/site-packages/ray/autoscaler/_private/cli_logger.py:57: FutureWarning: Not all Ray CLI dependencies were found. In Ray 1.4+, the Ray CLI, autoscaler, and dashboard will only be usable via `pip install 'ray[default]'`. Please update your install command.\n",
      "  warnings.warn(\n"
     ]
    }
   ],
   "source": [
    "%matplotlib inline\n",
    "import functools\n",
    "import os\n",
    "from typing import Callable, Iterable, Sequence, Union\n",
    "\n",
    "import matplotlib\n",
    "import numpy as np\n",
    "import pytorch_lightning as pl\n",
    "import seaborn as sns\n",
    "import torch\n",
    "from lqsvg import analysis, data, estimator\n",
    "from lqsvg.envs import lqr\n",
    "from lqsvg.envs.lqr.generators import LQGGenerator\n",
    "from lqsvg.experiment import plot\n",
    "from lqsvg.experiment.utils import wandb_runs_dataframe\n",
    "from lqsvg.random import make_rng\n",
    "from lqsvg.torch import utils as ut\n",
    "from lqsvg.torch.nn.value import QuadQValue\n",
    "from matplotlib import pyplot as plt\n",
    "from torch import Tensor, autograd, nn\n",
    "\n",
    "from model_based_prediction import DataModule, DataSpec, Experiment, make_modules"
   ]
  },
  {
   "cell_type": "markdown",
   "id": "ef45e9a5-4278-458e-b1e7-670d676f992a",
   "metadata": {},
   "source": [
    "# Matplotlib setup\n",
    "\n",
    "Latex presets ([ref](https://jwalton.info/Embed-Publication-Matplotlib-Latex/))"
   ]
  },
  {
   "cell_type": "code",
   "execution_count": 2,
   "id": "12107663-ca2a-4941-b34a-5906a921b880",
   "metadata": {},
   "outputs": [],
   "source": [
    "from functools import partial\n",
    "\n",
    "plot.create_latex_style()\n",
    "set_size = partial(plot.latex_size, width=\"thesis\")"
   ]
  },
  {
   "cell_type": "code",
   "execution_count": 3,
   "id": "37f1df25-e894-4ca8-92ce-e3c5325ad3ca",
   "metadata": {},
   "outputs": [
    {
     "name": "stdout",
     "output_type": "stream",
     "text": [
      "Solarize_Light2 _classic_test_patch bmh classic dark_background fast fivethirtyeight ggplot grayscale seaborn seaborn-bright seaborn-colorblind seaborn-dark seaborn-dark-palette seaborn-darkgrid seaborn-deep seaborn-muted seaborn-notebook seaborn-paper seaborn-pastel seaborn-poster seaborn-talk seaborn-ticks seaborn-white seaborn-whitegrid tableau-colorblind10 tex\n"
     ]
    }
   ],
   "source": [
    "print(*plot.available_styles())"
   ]
  },
  {
   "cell_type": "code",
   "execution_count": 4,
   "id": "c8fb8579-537e-4108-8c73-015aa1b5b67f",
   "metadata": {},
   "outputs": [
    {
     "name": "stdout",
     "output_type": "stream",
     "text": [
      "Your style sheets are located at: /Users/angelolovatto/Library/Caches/pypoetry/virtualenvs/lqsvg-G_e_Olvw-py3.8/lib/python3.8/site-packages/matplotlib/mpl-data/stylelib\n"
     ]
    }
   ],
   "source": [
    "print(f\"Your style sheets are located at: {plot.STYLE_PATH}\")"
   ]
  },
  {
   "cell_type": "code",
   "execution_count": 5,
   "id": "017f7fdd-0669-4206-8ab4-384e0227e10c",
   "metadata": {},
   "outputs": [],
   "source": [
    "# Using seaborn's style\n",
    "# plt.style.use(\"seaborn\")\n",
    "sns.set()\n",
    "# With LaTex fonts\n",
    "plt.style.use(\"tex\")"
   ]
  },
  {
   "cell_type": "code",
   "execution_count": 6,
   "id": "7bb7ddf8-da5a-4704-acef-c7830ed6a884",
   "metadata": {},
   "outputs": [],
   "source": [
    "def figpath(name: str) -> str:\n",
    "    return os.path.join(\"images\", name + \".pdf\")\n",
    "\n",
    "\n",
    "def savefig(fig, name):\n",
    "    return plot.save_pdf_tight(fig, figpath(name))"
   ]
  },
  {
   "cell_type": "markdown",
   "id": "5ef48c86-3c7c-46c7-acd9-6403ebd4a491",
   "metadata": {
    "tags": []
   },
   "source": [
    "## On-policy"
   ]
  },
  {
   "cell_type": "code",
   "execution_count": 7,
   "id": "1585595d-b54d-4b55-873e-3ee4f0769482",
   "metadata": {},
   "outputs": [
    {
     "data": {
      "text/html": [
       "<div>\n",
       "<style scoped>\n",
       "    .dataframe tbody tr th:only-of-type {\n",
       "        vertical-align: middle;\n",
       "    }\n",
       "\n",
       "    .dataframe tbody tr th {\n",
       "        vertical-align: top;\n",
       "    }\n",
       "\n",
       "    .dataframe thead th {\n",
       "        text-align: right;\n",
       "    }\n",
       "</style>\n",
       "<table border=\"1\" class=\"dataframe\">\n",
       "  <thead>\n",
       "    <tr style=\"text-align: right;\">\n",
       "      <th></th>\n",
       "      <th>val/8/relative_value_err</th>\n",
       "      <th>trainer/global_step</th>\n",
       "      <th>val/0/relative_value_err</th>\n",
       "      <th>_step</th>\n",
       "      <th>val/empirical_kl</th>\n",
       "      <th>val/4/relative_vval_err</th>\n",
       "      <th>_runtime</th>\n",
       "      <th>val/0/relative_vval_err</th>\n",
       "      <th>val/loss</th>\n",
       "      <th>val/2/relative_vval_err</th>\n",
       "      <th>...</th>\n",
       "      <th>summary/stability</th>\n",
       "      <th>summary/val/empirical_kl</th>\n",
       "      <th>summary/test/8/relative_value_err</th>\n",
       "      <th>summary/grad_2.0_norm_model.f_epoch</th>\n",
       "      <th>summary/epoch</th>\n",
       "      <th>summary/test/empirical_kl</th>\n",
       "      <th>summary/val/4/relative_vval_err</th>\n",
       "      <th>summary/val/8/grad_acc</th>\n",
       "      <th>summary/passive_eigvals</th>\n",
       "      <th>summary/controllability</th>\n",
       "    </tr>\n",
       "  </thead>\n",
       "  <tbody>\n",
       "    <tr>\n",
       "      <th>0</th>\n",
       "      <td>1.533871</td>\n",
       "      <td>0</td>\n",
       "      <td>0.489126</td>\n",
       "      <td>0</td>\n",
       "      <td>6.455234</td>\n",
       "      <td>1.970096</td>\n",
       "      <td>9</td>\n",
       "      <td>3.051758e-09</td>\n",
       "      <td>4.445839</td>\n",
       "      <td>0.936877</td>\n",
       "      <td>...</td>\n",
       "      <td>True</td>\n",
       "      <td>0.00202</td>\n",
       "      <td>0.487168</td>\n",
       "      <td>0.047717</td>\n",
       "      <td>39</td>\n",
       "      <td>0.001283</td>\n",
       "      <td>0.005512</td>\n",
       "      <td>0.690399</td>\n",
       "      <td>{'_type': 'histogram', 'bins': [0.903196811676...</td>\n",
       "      <td>True</td>\n",
       "    </tr>\n",
       "    <tr>\n",
       "      <th>1</th>\n",
       "      <td>NaN</td>\n",
       "      <td>49</td>\n",
       "      <td>NaN</td>\n",
       "      <td>1</td>\n",
       "      <td>NaN</td>\n",
       "      <td>NaN</td>\n",
       "      <td>11</td>\n",
       "      <td>NaN</td>\n",
       "      <td>NaN</td>\n",
       "      <td>NaN</td>\n",
       "      <td>...</td>\n",
       "      <td>True</td>\n",
       "      <td>0.00202</td>\n",
       "      <td>0.487168</td>\n",
       "      <td>0.047717</td>\n",
       "      <td>39</td>\n",
       "      <td>0.001283</td>\n",
       "      <td>0.005512</td>\n",
       "      <td>0.690399</td>\n",
       "      <td>{'_type': 'histogram', 'bins': [0.903196811676...</td>\n",
       "      <td>True</td>\n",
       "    </tr>\n",
       "    <tr>\n",
       "      <th>2</th>\n",
       "      <td>NaN</td>\n",
       "      <td>99</td>\n",
       "      <td>NaN</td>\n",
       "      <td>2</td>\n",
       "      <td>NaN</td>\n",
       "      <td>NaN</td>\n",
       "      <td>13</td>\n",
       "      <td>NaN</td>\n",
       "      <td>NaN</td>\n",
       "      <td>NaN</td>\n",
       "      <td>...</td>\n",
       "      <td>True</td>\n",
       "      <td>0.00202</td>\n",
       "      <td>0.487168</td>\n",
       "      <td>0.047717</td>\n",
       "      <td>39</td>\n",
       "      <td>0.001283</td>\n",
       "      <td>0.005512</td>\n",
       "      <td>0.690399</td>\n",
       "      <td>{'_type': 'histogram', 'bins': [0.903196811676...</td>\n",
       "      <td>True</td>\n",
       "    </tr>\n",
       "    <tr>\n",
       "      <th>3</th>\n",
       "      <td>NaN</td>\n",
       "      <td>149</td>\n",
       "      <td>NaN</td>\n",
       "      <td>3</td>\n",
       "      <td>NaN</td>\n",
       "      <td>NaN</td>\n",
       "      <td>15</td>\n",
       "      <td>NaN</td>\n",
       "      <td>NaN</td>\n",
       "      <td>NaN</td>\n",
       "      <td>...</td>\n",
       "      <td>True</td>\n",
       "      <td>0.00202</td>\n",
       "      <td>0.487168</td>\n",
       "      <td>0.047717</td>\n",
       "      <td>39</td>\n",
       "      <td>0.001283</td>\n",
       "      <td>0.005512</td>\n",
       "      <td>0.690399</td>\n",
       "      <td>{'_type': 'histogram', 'bins': [0.903196811676...</td>\n",
       "      <td>True</td>\n",
       "    </tr>\n",
       "    <tr>\n",
       "      <th>4</th>\n",
       "      <td>NaN</td>\n",
       "      <td>199</td>\n",
       "      <td>NaN</td>\n",
       "      <td>4</td>\n",
       "      <td>NaN</td>\n",
       "      <td>NaN</td>\n",
       "      <td>17</td>\n",
       "      <td>NaN</td>\n",
       "      <td>NaN</td>\n",
       "      <td>NaN</td>\n",
       "      <td>...</td>\n",
       "      <td>True</td>\n",
       "      <td>0.00202</td>\n",
       "      <td>0.487168</td>\n",
       "      <td>0.047717</td>\n",
       "      <td>39</td>\n",
       "      <td>0.001283</td>\n",
       "      <td>0.005512</td>\n",
       "      <td>0.690399</td>\n",
       "      <td>{'_type': 'histogram', 'bins': [0.903196811676...</td>\n",
       "      <td>True</td>\n",
       "    </tr>\n",
       "  </tbody>\n",
       "</table>\n",
       "<p>5 rows × 106 columns</p>\n",
       "</div>"
      ],
      "text/plain": [
       "   val/8/relative_value_err  trainer/global_step  val/0/relative_value_err  \\\n",
       "0                  1.533871                    0                  0.489126   \n",
       "1                       NaN                   49                       NaN   \n",
       "2                       NaN                   99                       NaN   \n",
       "3                       NaN                  149                       NaN   \n",
       "4                       NaN                  199                       NaN   \n",
       "\n",
       "   _step  val/empirical_kl  val/4/relative_vval_err  _runtime  \\\n",
       "0      0          6.455234                 1.970096         9   \n",
       "1      1               NaN                      NaN        11   \n",
       "2      2               NaN                      NaN        13   \n",
       "3      3               NaN                      NaN        15   \n",
       "4      4               NaN                      NaN        17   \n",
       "\n",
       "   val/0/relative_vval_err  val/loss  val/2/relative_vval_err  ...  \\\n",
       "0             3.051758e-09  4.445839                 0.936877  ...   \n",
       "1                      NaN       NaN                      NaN  ...   \n",
       "2                      NaN       NaN                      NaN  ...   \n",
       "3                      NaN       NaN                      NaN  ...   \n",
       "4                      NaN       NaN                      NaN  ...   \n",
       "\n",
       "   summary/stability  summary/val/empirical_kl  \\\n",
       "0               True                   0.00202   \n",
       "1               True                   0.00202   \n",
       "2               True                   0.00202   \n",
       "3               True                   0.00202   \n",
       "4               True                   0.00202   \n",
       "\n",
       "   summary/test/8/relative_value_err  summary/grad_2.0_norm_model.f_epoch  \\\n",
       "0                           0.487168                             0.047717   \n",
       "1                           0.487168                             0.047717   \n",
       "2                           0.487168                             0.047717   \n",
       "3                           0.487168                             0.047717   \n",
       "4                           0.487168                             0.047717   \n",
       "\n",
       "   summary/epoch  summary/test/empirical_kl  summary/val/4/relative_vval_err  \\\n",
       "0             39                   0.001283                         0.005512   \n",
       "1             39                   0.001283                         0.005512   \n",
       "2             39                   0.001283                         0.005512   \n",
       "3             39                   0.001283                         0.005512   \n",
       "4             39                   0.001283                         0.005512   \n",
       "\n",
       "   summary/val/8/grad_acc                            summary/passive_eigvals  \\\n",
       "0                0.690399  {'_type': 'histogram', 'bins': [0.903196811676...   \n",
       "1                0.690399  {'_type': 'histogram', 'bins': [0.903196811676...   \n",
       "2                0.690399  {'_type': 'histogram', 'bins': [0.903196811676...   \n",
       "3                0.690399  {'_type': 'histogram', 'bins': [0.903196811676...   \n",
       "4                0.690399  {'_type': 'histogram', 'bins': [0.903196811676...   \n",
       "\n",
       "   summary/controllability  \n",
       "0                     True  \n",
       "1                     True  \n",
       "2                     True  \n",
       "3                     True  \n",
       "4                     True  \n",
       "\n",
       "[5 rows x 106 columns]"
      ]
     },
     "execution_count": 7,
     "metadata": {},
     "output_type": "execute_result"
    }
   ],
   "source": [
    "ON_POLICY_PREDICTION = wandb_runs_dataframe(\n",
    "    \"angelovtt/ch5\", \n",
    "    configs={\n",
    "        \"exploration.type\": None, \"model.type\": \"linear\",\n",
    "    },\n",
    "    tags=[\"ModelBasedPrediction\", \"10.4.0\"],\n",
    ")\n",
    "ON_POLICY_PREDICTION.head()"
   ]
  },
  {
   "cell_type": "code",
   "execution_count": 8,
   "id": "01f191a8-232f-4ebc-91c2-911238231925",
   "metadata": {},
   "outputs": [
    {
     "data": {
      "image/png": "[encoded data removed]",
      "text/plain": [
       "<Figure size 430.866x266.29 with 4 Axes>"
      ]
     },
     "metadata": {},
     "output_type": "display_data"
    }
   ],
   "source": [
    "fig, axis = plt.subplots(nrows=2, ncols=2, sharex=True, figsize=set_size(subplots=(2, 2)))\n",
    "ax = sns.lineplot(\n",
    "    ax=axis[0][0],\n",
    "    data=ON_POLICY_PREDICTION,\n",
    "    x=\"epoch\",\n",
    "    y=\"val/loss\",\n",
    "    ci=\"sd\",\n",
    "    estimator=None,\n",
    "    units=\"config/seed\",\n",
    ")\n",
    "ax.set_ylabel(\"Loss\")\n",
    "ax = sns.lineplot(\n",
    "    ax=axis[0][1],\n",
    "    data=ON_POLICY_PREDICTION,\n",
    "    x=\"epoch\",\n",
    "    y=\"val/empirical_kl\",\n",
    "    ci=\"sd\",\n",
    "    estimator=None,\n",
    "    units=\"config/seed\",\n",
    ")\n",
    "ax.set_ylabel(\"Empirical KL\")\n",
    "ax = sns.lineplot(\n",
    "    ax=axis[1][0],\n",
    "    data=ON_POLICY_PREDICTION,\n",
    "    x=\"epoch\",\n",
    "    y=\"val/4/relative_vval_err\",\n",
    "    ci=\"sd\",\n",
    "    estimator=None,\n",
    "    units=\"config/seed\",\n",
    ")\n",
    "ax.set_ylim(\n",
    "    bottom=-1,\n",
    "    top=10,\n",
    "#     top=np.nanpercentile(ON_POLICY_PREDICTION[\"val/4/relative_vval_err\"], 97.5)\n",
    ")\n",
    "ax.set_ylabel(\"4-step value error\")\n",
    "ax = sns.lineplot(\n",
    "    data=ON_POLICY_PREDICTION,\n",
    "    x=\"epoch\",\n",
    "    y=\"val/4/grad_acc\",\n",
    "    ci=\"sd\",\n",
    "    estimator=None,\n",
    "    units=\"config/seed\",\n",
    ")\n",
    "ax.set_ylabel(\"4-step grad acc\")\n",
    "savefig(fig, \"on-policy_summary\")"
   ]
  },
  {
   "cell_type": "code",
   "execution_count": 9,
   "id": "7c8613da-7682-4c19-82d2-5d37038fb111",
   "metadata": {},
   "outputs": [
    {
     "data": {
      "image/png": "[encoded data removed]",
      "text/plain": [
       "<Figure size 430.866x133.145 with 2 Axes>"
      ]
     },
     "metadata": {},
     "output_type": "display_data"
    }
   ],
   "source": [
    "fig, (ax0, ax1) = plt.subplots(1, 2, sharex=True, sharey=True, figsize=set_size(subplots=(1, 2)))\n",
    "sns.lineplot(\n",
    "    ax=ax0,\n",
    "    data=ON_POLICY_PREDICTION,\n",
    "    x=\"epoch\",\n",
    "    y=\"val/0/grad_acc\",\n",
    "    ci=\"sd\",\n",
    "#     estimator=None,\n",
    "#     units=\"config/seed\",\n",
    ")\n",
    "sns.lineplot(\n",
    "    ax=ax1,\n",
    "    data=ON_POLICY_PREDICTION,\n",
    "    x=\"epoch\",\n",
    "    y=\"val/4/grad_acc\",\n",
    "    ci=\"sd\",\n",
    "#     estimator=None,\n",
    "#     units=\"config/seed\",\n",
    ")\n",
    "ax0.set_ylabel(\"Cosine similarity\")\n",
    "ax0.set_title(\"Model-free\")\n",
    "ax1.set_title(\"Model-based\")\n",
    "savefig(fig, \"on-policy_model-free_vs_model-based\")"
   ]
  },
  {
   "cell_type": "markdown",
   "id": "b3dc46ab-6eed-4dce-a594-74529d1c52f4",
   "metadata": {},
   "source": [
    "### Training"
   ]
  },
  {
   "cell_type": "code",
   "execution_count": 10,
   "id": "8e9bee85-ec17-4454-80df-c6869d0194c8",
   "metadata": {},
   "outputs": [],
   "source": [
    "config = {\n",
    "    \"wandb\": {\"name\": \"Debug\", \"mode\": \"offline\"},\n",
    "    \"exploration\": {\"type\": None},\n",
    "    \"learning_rate\": 1e-3,\n",
    "    \"weight_decay\": 1e-4,\n",
    "    \"seed\": 124,\n",
    "    \"env_config\": {\n",
    "        \"n_state\": 2,\n",
    "        \"n_ctrl\": 2,\n",
    "        \"horizon\": 50,\n",
    "        \"passive_eigval_range\": (0.9, 1.1),\n",
    "    },\n",
    "    \"model\": {\"type\": \"linear\"},\n",
    "    \"pred_horizon\": 4,\n",
    "    \"zero_q\": False,\n",
    "    \"datamodule\": {\n",
    "        \"trajectories\": 2000,\n",
    "        \"train_batch_size\": 128,\n",
    "        \"val_loss_batch_size\": 128,\n",
    "        \"val_grad_batch_size\": 256,\n",
    "        \"seq_len\": 4,\n",
    "    },\n",
    "    \"trainer\": dict(\n",
    "        max_epochs=50,\n",
    "        weights_summary=\"full\",\n",
    "    ),\n",
    "}"
   ]
  },
  {
   "cell_type": "markdown",
   "id": "b7c953da-1d7c-4055-8b4a-ce0060548c86",
   "metadata": {
    "tags": []
   },
   "source": [
    "#### Generate LQG\n",
    "$p^*(s, a) = \\mathcal{N}(\\mathbf{F}_s s + \\mathbf{F}_a a, \\mathbf{\\Sigma})$\n",
    "\n",
    "$R(s, a) = - \\tfrac{1}{2} [s, a]^\\intercal\\mathbf{C}[s, a] + \\mathbf{c}^\\intercal [s, a]$"
   ]
  },
  {
   "cell_type": "code",
   "execution_count": 11,
   "id": "86bb32c1-8b0c-4976-afc3-958b356e2dd6",
   "metadata": {},
   "outputs": [],
   "source": [
    "rng = make_rng(config[\"seed\"])\n",
    "lqg, policy, _, model = make_modules(rng, config)"
   ]
  },
  {
   "cell_type": "code",
   "execution_count": 12,
   "id": "adf93b1f-f327-4a75-9f29-c64ad87ca48f",
   "metadata": {},
   "outputs": [
    {
     "data": {
      "text/plain": [
       "tensor([[ 1.0689,  0.0089,  0.9776,  0.9827],\n",
       "        [ 0.0089,  1.0637,  0.2107, -0.1850]], names=('R', 'C'))"
      ]
     },
     "execution_count": 12,
     "metadata": {},
     "output_type": "execute_result"
    }
   ],
   "source": [
    "lqg.trans.standard_form().F.select(\"H\", 0)"
   ]
  },
  {
   "cell_type": "code",
   "execution_count": 13,
   "id": "f73d3cde-eb73-4eab-b2e4-05637126f0aa",
   "metadata": {},
   "outputs": [
    {
     "data": {
      "text/plain": [
       "tensor([[ 0.4530, -0.2178,  0.0000,  0.0000],\n",
       "        [-0.2178,  3.5398,  0.0000,  0.0000],\n",
       "        [ 0.0000,  0.0000,  1.3662, -0.0420],\n",
       "        [ 0.0000,  0.0000, -0.0420,  0.7659]], names=('R', 'C'))"
      ]
     },
     "execution_count": 13,
     "metadata": {},
     "output_type": "execute_result"
    }
   ],
   "source": [
    "lqg.reward.standard_form().C.select(\"H\", 0)"
   ]
  },
  {
   "cell_type": "code",
   "execution_count": 14,
   "id": "e751a980-1429-4171-a136-ceb290c9b072",
   "metadata": {},
   "outputs": [
    {
     "data": {
      "text/plain": [
       "torch.return_types.linalg_eigh(\n",
       "eigenvalues=tensor([0.4377, 0.7630, 1.3691, 3.5550]),\n",
       "eigenvectors=tensor([[-0.9975, -0.0000,  0.0000, -0.0700],\n",
       "        [-0.0700, -0.0000,  0.0000,  0.9975],\n",
       "        [-0.0000, -0.0694, -0.9976,  0.0000],\n",
       "        [-0.0000, -0.9976,  0.0694,  0.0000]]))"
      ]
     },
     "execution_count": 14,
     "metadata": {},
     "output_type": "execute_result"
    }
   ],
   "source": [
    "torch.linalg.eigh(lqg.reward.standard_form().C.select(\"H\", 0).rename(None))"
   ]
  },
  {
   "cell_type": "markdown",
   "id": "d9cae2e4-f1a9-4c6a-bfb5-825f1c429a67",
   "metadata": {},
   "source": [
    "#### Collect & Fit\n",
    "\n",
    "$\\{ s_i, a_i, s_i' \\}_{i=1}^{N} \\sim \\mu_\\theta$\n",
    "\n",
    "$\\psi' \\gets \\arg\\min_{\\psi} -\\tfrac{1}{N} \\sum_{i=1}^{N} \\log p_{\\psi}(s_i'|s_i, a_i)$"
   ]
  },
  {
   "cell_type": "code",
   "execution_count": 15,
   "id": "76849e3e-8352-4d5a-8e19-f261769bcd6b",
   "metadata": {},
   "outputs": [
    {
     "name": "stderr",
     "output_type": "stream",
     "text": [
      "GPU available: False, used: False\n",
      "TPU available: False, using: 0 TPU cores\n",
      "IPU available: False, using: 0 IPUs\n",
      "/Users/angelolovatto/Library/Caches/pypoetry/virtualenvs/lqsvg-G_e_Olvw-py3.8/lib/python3.8/site-packages/pytorch_lightning/trainer/data_loading.py:372: UserWarning: Your val_dataloader has `shuffle=True`, it is best practice to turn this off for val/test/predict dataloaders.\n",
      "  rank_zero_warn(\n",
      "/Users/angelolovatto/Library/Caches/pypoetry/virtualenvs/lqsvg-G_e_Olvw-py3.8/lib/python3.8/site-packages/pytorch_lightning/trainer/data_loading.py:105: UserWarning: The dataloader, val dataloader 0, does not have many workers which may be a bottleneck. Consider increasing the value of the `num_workers` argument` (try 4 which is the number of cpus on this machine) in the `DataLoader` init to improve performance.\n",
      "  rank_zero_warn(\n",
      "/Users/angelolovatto/Library/Caches/pypoetry/virtualenvs/lqsvg-G_e_Olvw-py3.8/lib/python3.8/site-packages/pytorch_lightning/trainer/data_loading.py:105: UserWarning: The dataloader, val dataloader 1, does not have many workers which may be a bottleneck. Consider increasing the value of the `num_workers` argument` (try 4 which is the number of cpus on this machine) in the `DataLoader` init to improve performance.\n",
      "  rank_zero_warn(\n"
     ]
    },
    {
     "data": {
      "application/vnd.jupyter.widget-view+json": {
       "model_id": "",
       "version_major": 2,
       "version_minor": 0
      },
      "text/plain": [
       "Validating: 0it [00:00, ?it/s]"
      ]
     },
     "metadata": {},
     "output_type": "display_data"
    },
    {
     "name": "stdout",
     "output_type": "stream",
     "text": [
      "--------------------------------------------------------------------------------\n",
      "DATALOADER:0 VALIDATE RESULTS\n",
      "{'val/4/grad_acc': -0.006607208400964737,\n",
      " 'val/4/relative_value_err': 0.024826541543006897,\n",
      " 'val/4/relative_vval_err': 0.9263812303543091,\n",
      " 'val/empirical_kl': 6.531790733337402,\n",
      " 'val/loss': 4.466449737548828}\n",
      "--------------------------------------------------------------------------------\n",
      "DATALOADER:1 VALIDATE RESULTS\n",
      "{'val/4/grad_acc': -0.006607208400964737,\n",
      " 'val/4/relative_value_err': 0.024826541543006897,\n",
      " 'val/4/relative_vval_err': 0.9263812303543091,\n",
      " 'val/empirical_kl': 6.531790733337402,\n",
      " 'val/loss': 4.466449737548828}\n",
      "--------------------------------------------------------------------------------\n"
     ]
    },
    {
     "name": "stderr",
     "output_type": "stream",
     "text": [
      "/Users/angelolovatto/Library/Caches/pypoetry/virtualenvs/lqsvg-G_e_Olvw-py3.8/lib/python3.8/site-packages/pytorch_lightning/trainer/data_loading.py:372: UserWarning: Your test_dataloader has `shuffle=True`, it is best practice to turn this off for val/test/predict dataloaders.\n",
      "  rank_zero_warn(\n",
      "/Users/angelolovatto/Library/Caches/pypoetry/virtualenvs/lqsvg-G_e_Olvw-py3.8/lib/python3.8/site-packages/pytorch_lightning/trainer/data_loading.py:105: UserWarning: The dataloader, test dataloader 0, does not have many workers which may be a bottleneck. Consider increasing the value of the `num_workers` argument` (try 4 which is the number of cpus on this machine) in the `DataLoader` init to improve performance.\n",
      "  rank_zero_warn(\n",
      "/Users/angelolovatto/Library/Caches/pypoetry/virtualenvs/lqsvg-G_e_Olvw-py3.8/lib/python3.8/site-packages/pytorch_lightning/trainer/data_loading.py:105: UserWarning: The dataloader, test dataloader 1, does not have many workers which may be a bottleneck. Consider increasing the value of the `num_workers` argument` (try 4 which is the number of cpus on this machine) in the `DataLoader` init to improve performance.\n",
      "  rank_zero_warn(\n"
     ]
    },
    {
     "data": {
      "application/vnd.jupyter.widget-view+json": {
       "model_id": "f05fb894e05c47a4b74fc4b62c88df53",
       "version_major": 2,
       "version_minor": 0
      },
      "text/plain": [
       "Testing: 0it [00:00, ?it/s]"
      ]
     },
     "metadata": {},
     "output_type": "display_data"
    },
    {
     "name": "stdout",
     "output_type": "stream",
     "text": [
      "--------------------------------------------------------------------------------\n",
      "DATALOADER:0 TEST RESULTS\n",
      "{'test/4/grad_acc': -0.8165621161460876,\n",
      " 'test/4/relative_value_err': 0.47092217206954956,\n",
      " 'test/4/relative_vval_err': 0.01246480643749237,\n",
      " 'test/empirical_kl': 0.0006669938447885215,\n",
      " 'test/loss': 2.848595142364502}\n",
      "--------------------------------------------------------------------------------\n",
      "DATALOADER:1 TEST RESULTS\n",
      "{'test/4/grad_acc': -0.8165621161460876,\n",
      " 'test/4/relative_value_err': 0.47092217206954956,\n",
      " 'test/4/relative_vval_err': 0.01246480643749237,\n",
      " 'test/empirical_kl': 0.0006669938447885215,\n",
      " 'test/loss': 2.848595142364502}\n",
      "--------------------------------------------------------------------------------\n"
     ]
    }
   ],
   "source": [
    "SAVE_PATH = \"state_dict124.pt\"\n",
    "\n",
    "datamodule = DataModule(lqg, policy, DataSpec(**config[\"datamodule\"]), rng.torch)\n",
    "trainer = pl.Trainer(\n",
    "    default_root_dir=None,\n",
    "    logger=False,\n",
    "    callbacks=[pl.callbacks.EarlyStopping(\"val/loss\")],\n",
    "    num_sanity_val_steps=0,\n",
    "    checkpoint_callback=False,\n",
    "    **config[\"trainer\"],\n",
    ")\n",
    "\n",
    "trainer.validate(model, datamodule=datamodule)\n",
    "if os.path.exists(SAVE_PATH):\n",
    "    model.model.load_state_dict(torch.load(SAVE_PATH))\n",
    "else:\n",
    "    trainer.fit(model, datamodule=datamodule)\n",
    "    torch.save(model.model.state_dict(), SAVE_PATH)\n",
    "final_eval = trainer.test(model, datamodule=datamodule)"
   ]
  },
  {
   "cell_type": "markdown",
   "id": "dc1cc0fa-a8fa-4bc4-8732-345c3f38d662",
   "metadata": {},
   "source": [
    "### Get the validation data"
   ]
  },
  {
   "cell_type": "code",
   "execution_count": 16,
   "id": "7583a6cc-d17a-478e-9eb6-f1cd730d14f3",
   "metadata": {},
   "outputs": [],
   "source": [
    "_, val_loader = datamodule.val_dataloader()"
   ]
  },
  {
   "cell_type": "code",
   "execution_count": 17,
   "id": "d915fe50-9063-4eb9-b4f0-a6513d46a7dd",
   "metadata": {},
   "outputs": [],
   "source": [
    "(obs,) = next(iter(val_loader))"
   ]
  },
  {
   "cell_type": "code",
   "execution_count": 18,
   "id": "e93afe39-8bc6-4926-9532-b1a091a2abe6",
   "metadata": {},
   "outputs": [],
   "source": [
    "obs = obs.refine_names(\"B\", \"R\")"
   ]
  },
  {
   "cell_type": "markdown",
   "id": "a6c0c337-86b8-4c2c-8323-e3b572025232",
   "metadata": {},
   "source": [
    "### Get the true value and SVG"
   ]
  },
  {
   "cell_type": "code",
   "execution_count": 19,
   "id": "702cedbb-7065-42ec-b9f4-cc25fcc8bcc7",
   "metadata": {},
   "outputs": [],
   "source": [
    "val, svg = model.true_val, lqr.Linear(model.true_svg_K, model.true_svg_k)"
   ]
  },
  {
   "cell_type": "code",
   "execution_count": 20,
   "id": "3e4992e1-31a3-4f88-9e54-8cc9f32fa43f",
   "metadata": {},
   "outputs": [
    {
     "data": {
      "text/plain": [
       "tensor(-322.6437, grad_fn=<NegBackward>)"
      ]
     },
     "execution_count": 20,
     "metadata": {},
     "output_type": "execute_result"
    }
   ],
   "source": [
    "val"
   ]
  },
  {
   "cell_type": "code",
   "execution_count": 21,
   "id": "30724f8f-4039-486b-8f74-6268b35fc086",
   "metadata": {},
   "outputs": [
    {
     "data": {
      "text/plain": [
       "(tensor([[ 0.8923, -1.0159],\n",
       "         [ 0.5689,  1.1825]]),\n",
       " tensor([0., 0.]))"
      ]
     },
     "execution_count": 21,
     "metadata": {},
     "output_type": "execute_result"
    }
   ],
   "source": [
    "svg.K[0], svg.k[0]"
   ]
  },
  {
   "cell_type": "markdown",
   "id": "55ccbd5e-b77f-45e5-9e68-69a10789c9b0",
   "metadata": {},
   "source": [
    "### Evaluate MAAC(K) with the true model"
   ]
  },
  {
   "cell_type": "code",
   "execution_count": 22,
   "id": "aceb37b7-6d31-48a0-bbb5-8c71a7ec6e70",
   "metadata": {},
   "outputs": [],
   "source": [
    "maac_true = estimator.maac_estimator(\n",
    "    policy,\n",
    "    data.markovian_state_sampler(lqg.trans, lqg.trans.rsample),\n",
    "    lqg.reward,\n",
    "    QuadQValue.from_policy(\n",
    "        policy.standard_form(), lqg.trans.standard_form(), lqg.reward.standard_form()\n",
    "    ),\n",
    ")"
   ]
  },
  {
   "cell_type": "code",
   "execution_count": 23,
   "id": "aa43d310-f2f2-432e-8cad-ac93ab4e5124",
   "metadata": {},
   "outputs": [],
   "source": [
    "mc_val, mc_svg = maac_true(obs, 4)"
   ]
  },
  {
   "cell_type": "code",
   "execution_count": 24,
   "id": "abcade87-2d1f-45be-abf1-1359444f57ef",
   "metadata": {},
   "outputs": [
    {
     "data": {
      "text/plain": [
       "tensor(-169.2389, grad_fn=<MeanBackward0>)"
      ]
     },
     "execution_count": 24,
     "metadata": {},
     "output_type": "execute_result"
    }
   ],
   "source": [
    "mc_val"
   ]
  },
  {
   "cell_type": "code",
   "execution_count": 25,
   "id": "875b0fbe-5ce8-493e-beb8-a42d57734728",
   "metadata": {},
   "outputs": [
    {
     "data": {
      "text/plain": [
       "tensor([[-0.0195, -0.0264],\n",
       "        [ 0.0279,  0.0319]])"
      ]
     },
     "execution_count": 25,
     "metadata": {},
     "output_type": "execute_result"
    }
   ],
   "source": [
    "mc_svg.K[0]"
   ]
  },
  {
   "cell_type": "code",
   "execution_count": 26,
   "id": "f0d58493-3538-4880-819f-6f6903d6bc95",
   "metadata": {},
   "outputs": [
    {
     "name": "stdout",
     "output_type": "stream",
     "text": [
      "tensor(0.8660)\n"
     ]
    }
   ],
   "source": [
    "print(analysis.cosine_similarity(svg, mc_svg))"
   ]
  },
  {
   "cell_type": "markdown",
   "id": "b72e526c-1ad5-45a0-b8bf-feed0f4cc9f8",
   "metadata": {},
   "source": [
    "### Evaluate MAAC(K) with the learned model"
   ]
  },
  {
   "cell_type": "code",
   "execution_count": 27,
   "id": "c4d579ab-f9fe-4c14-bbbd-8e098c45695c",
   "metadata": {},
   "outputs": [
    {
     "name": "stdout",
     "output_type": "stream",
     "text": [
      "tensor(0.8028)\n",
      "tensor(-0.5686)\n",
      "tensor(-0.7825)\n",
      "tensor(-0.8046)\n",
      "tensor(-0.8238)\n",
      "tensor(-0.8407)\n",
      "tensor(-0.8442)\n",
      "tensor(-0.8539)\n"
     ]
    }
   ],
   "source": [
    "for k in range(8):\n",
    "    print(analysis.cosine_similarity(svg, model.estimator(obs, k)[1]))"
   ]
  },
  {
   "cell_type": "markdown",
   "id": "bd9c4421-c8bc-479a-a5de-b739a98864e1",
   "metadata": {},
   "source": [
    "### Compare model predictions"
   ]
  },
  {
   "cell_type": "code",
   "execution_count": 28,
   "id": "6d7796e7-78ba-437a-a83e-d443f2f1c029",
   "metadata": {},
   "outputs": [],
   "source": [
    "def obs_only(sampler: data.StateDynamics) -> Callable[[Tensor, Tensor], Tensor]:\n",
    "    \"\"\"Removes the likelihood return from a transition function.\"\"\"\n",
    "\n",
    "    def sample_(obs: Tensor, act: Tensor) -> Tensor:\n",
    "        return sampler(obs, act)[0].rename(None)\n",
    "\n",
    "    return sample_"
   ]
  },
  {
   "cell_type": "code",
   "execution_count": 29,
   "id": "fede379f-a3ac-4c7f-b57a-f28ceac52c76",
   "metadata": {},
   "outputs": [],
   "source": [
    "state_action_dynamics = obs_only(\n",
    "    data.markovian_state_sampler(lqg.trans, lqg.trans.rsample)\n",
    ")\n",
    "state_action_model = obs_only(\n",
    "    data.markovian_state_sampler(model.model, model.model.dist.rsample)\n",
    ")"
   ]
  },
  {
   "cell_type": "code",
   "execution_count": 30,
   "id": "8188df5d-c404-4b93-b139-9104e40cb4e6",
   "metadata": {},
   "outputs": [],
   "source": [
    "def state_dynamics(obs: Tensor) -> Tensor:\n",
    "    return state_action_dynamics(obs, policy(obs))\n",
    "\n",
    "\n",
    "def state_model(obs: Tensor) -> Tensor:\n",
    "    return state_action_model(obs, policy(obs))"
   ]
  },
  {
   "cell_type": "code",
   "execution_count": 31,
   "id": "4024cca6-c257-4453-b1a6-c0cd92604ca0",
   "metadata": {},
   "outputs": [],
   "source": [
    "def state_mean_dynamics(obs: Tensor) -> Tensor:\n",
    "    return lqg.trans(obs, policy(obs))[\"loc\"]\n",
    "\n",
    "\n",
    "def state_mean_model(obs: Tensor) -> Tensor:\n",
    "    return model.model(obs, policy(obs))[\"loc\"]"
   ]
  },
  {
   "cell_type": "code",
   "execution_count": 32,
   "id": "be2a5efc-7d1e-463e-aa81-bdf3a11f390f",
   "metadata": {},
   "outputs": [
    {
     "data": {
      "text/plain": [
       "tensor(8.3099e-05, grad_fn=<MseLossBackward>)"
      ]
     },
     "execution_count": 32,
     "metadata": {},
     "output_type": "execute_result"
    }
   ],
   "source": [
    "nn.MSELoss()(state_mean_dynamics(obs).rename(None), state_mean_model(obs).rename(None))"
   ]
  },
  {
   "cell_type": "markdown",
   "id": "3c371fe7-7e0c-4964-991a-98be55f10b71",
   "metadata": {},
   "source": [
    "### Compare model Jacobians"
   ]
  },
  {
   "cell_type": "code",
   "execution_count": 33,
   "id": "db7c1930-1b77-4946-b7b5-bd4f3605c6ef",
   "metadata": {},
   "outputs": [],
   "source": [
    "true_jacobian = torch.cat(\n",
    "    autograd.functional.jacobian(\n",
    "        state_action_dynamics, (obs.select(\"B\", 0), policy(obs.select(\"B\", 0)))\n",
    "    ),\n",
    "    axis=-1,\n",
    ")"
   ]
  },
  {
   "cell_type": "code",
   "execution_count": 34,
   "id": "771dfa20-13b7-4a4f-a9fb-a7f524f5b339",
   "metadata": {},
   "outputs": [
    {
     "name": "stdout",
     "output_type": "stream",
     "text": [
      "State-action Jacobian:\n",
      " tensor([[ 1.0689,  0.0089,  0.0000,  0.9776,  0.9827],\n",
      "        [ 0.0089,  1.0637,  0.0000,  0.2107, -0.1850],\n",
      "        [ 0.0000,  0.0000,  0.0000,  0.0000,  0.0000]])\n",
      "Dynamics kernel:\n",
      " tensor([[ 1.0689,  0.0089,  0.9776,  0.9827],\n",
      "        [ 0.0089,  1.0637,  0.2107, -0.1850]], names=('R', 'C'))\n"
     ]
    }
   ],
   "source": [
    "print(\"State-action Jacobian:\\n\", true_jacobian)\n",
    "print(\"Dynamics kernel:\\n\", lqg.trans.standard_form().F.select(\"H\", 0))"
   ]
  },
  {
   "cell_type": "code",
   "execution_count": 35,
   "id": "564a27ee-24fb-4352-9029-c27245b9445b",
   "metadata": {},
   "outputs": [],
   "source": [
    "model_jacobian = torch.cat(\n",
    "    autograd.functional.jacobian(\n",
    "        state_action_model,\n",
    "        (obs.select(\"B\", 0), policy(obs.select(\"B\", 0))),\n",
    "    ),\n",
    "    axis=-1,\n",
    ")"
   ]
  },
  {
   "cell_type": "code",
   "execution_count": 36,
   "id": "37eb603d-dc61-4574-9550-73dbae80b77d",
   "metadata": {},
   "outputs": [
    {
     "name": "stdout",
     "output_type": "stream",
     "text": [
      "Model Jacobian:\n",
      " tensor([[-0.1072, -0.0347,  0.0000, -0.0238,  0.0202],\n",
      "        [ 0.0403,  0.3481,  0.0000, -0.2826,  0.3444],\n",
      "        [ 0.0000,  0.0000,  0.0000,  0.0000,  0.0000]])\n"
     ]
    }
   ],
   "source": [
    "print(\"Model Jacobian:\\n\", model_jacobian)"
   ]
  },
  {
   "cell_type": "markdown",
   "id": "ce783e92-a5ea-45db-9c79-0e852c8e8931",
   "metadata": {},
   "source": [
    "**Cosine similarity between rows/cols of the Jacobians**"
   ]
  },
  {
   "cell_type": "code",
   "execution_count": 37,
   "id": "35feef23-d114-4ff7-a539-1ea03d31da5c",
   "metadata": {},
   "outputs": [
    {
     "name": "stdout",
     "output_type": "stream",
     "text": [
      "Row: 0\n",
      "tensor(-0.5780)\n",
      "Row: 1\n",
      "tensor(0.3968)\n"
     ]
    }
   ],
   "source": [
    "for row in range(2):\n",
    "    print(\"Row:\", row)\n",
    "    true_Ji = true_jacobian[row, :]\n",
    "    model_Ji = model_jacobian[row, :]\n",
    "    print(analysis.cosine_similarity(true_Ji, model_Ji))"
   ]
  },
  {
   "cell_type": "code",
   "execution_count": 38,
   "id": "db9643ad-404d-45b4-81ed-cdaad30620f7",
   "metadata": {},
   "outputs": [
    {
     "name": "stdout",
     "output_type": "stream",
     "text": [
      "Column: 0\n",
      "tensor(-0.9330)\n",
      "Column: 1\n",
      "tensor(0.9942)\n",
      "Column: 3\n",
      "tensor(-0.2921)\n",
      "Column: 4\n",
      "tensor(-0.1270)\n"
     ]
    }
   ],
   "source": [
    "for col in (0, 1, 3, 4):\n",
    "    print(\"Column:\", col)\n",
    "    true_Ji = true_jacobian[:, col]\n",
    "    model_Ji = model_jacobian[:, col]\n",
    "    print(analysis.cosine_similarity(true_Ji, model_Ji))"
   ]
  },
  {
   "cell_type": "markdown",
   "id": "eb48758e-e537-45e9-86b3-fc3e1c95cc41",
   "metadata": {},
   "source": [
    "**Inspecting the on-policy state transition Jacobians**"
   ]
  },
  {
   "cell_type": "markdown",
   "id": "fd8ade0e-4945-4837-a3c4-d5846f896b87",
   "metadata": {},
   "source": [
    "$$f^{\\mu}(\\mathbf{s}, \\xi) = f(\\mathbf{s}, \\mu_\\theta(\\mathbf{s}), \\xi)$$\n",
    "\n",
    "\n",
    "$\\nabla_\\mathbf{s} f_*^\\mu(\\mathbf{s}, \\xi)$"
   ]
  },
  {
   "cell_type": "code",
   "execution_count": 39,
   "id": "f785e06d-2073-44af-b5c7-c30844cb361c",
   "metadata": {},
   "outputs": [
    {
     "data": {
      "text/plain": [
       "tensor([[-1.0490e-01, -3.9116e-08,  0.0000e+00],\n",
       "        [ 6.5193e-09,  7.8521e-01,  0.0000e+00],\n",
       "        [ 0.0000e+00,  0.0000e+00,  0.0000e+00]])"
      ]
     },
     "execution_count": 39,
     "metadata": {},
     "output_type": "execute_result"
    }
   ],
   "source": [
    "jac_state_dynamics = autograd.functional.jacobian(state_dynamics, obs.select(\"B\", 0))\n",
    "jac_state_dynamics"
   ]
  },
  {
   "cell_type": "markdown",
   "id": "2b6a1dfc-8185-4270-8710-bf219ef5dbcc",
   "metadata": {},
   "source": [
    " $\\nabla_\\mathbf{s} f_\\psi^\\mu(\\mathbf{s}, \\xi)$"
   ]
  },
  {
   "cell_type": "code",
   "execution_count": 40,
   "id": "6745bcc9-2b2c-4d07-aa47-12abae76dde9",
   "metadata": {},
   "outputs": [
    {
     "data": {
      "text/plain": [
       "tensor([[-0.1057, -0.0037,  0.0000],\n",
       "        [-0.0069,  0.7887,  0.0000],\n",
       "        [ 0.0000,  0.0000,  0.0000]])"
      ]
     },
     "execution_count": 40,
     "metadata": {},
     "output_type": "execute_result"
    }
   ],
   "source": [
    "jac_state_model = autograd.functional.jacobian(state_model, obs.select(\"B\", 0))\n",
    "jac_state_model"
   ]
  },
  {
   "cell_type": "markdown",
   "id": "2bc4777d-4de5-4468-94d3-572eb0ca6788",
   "metadata": {},
   "source": [
    "det$\\left(\\nabla_\\mathbf{s} f_*^\\mu(\\mathbf{s}, \\xi)\\right)$"
   ]
  },
  {
   "cell_type": "code",
   "execution_count": 41,
   "id": "3ed23070-edfc-45b8-ab3c-68a696a80757",
   "metadata": {},
   "outputs": [
    {
     "data": {
      "text/plain": [
       "tensor(-0.0824)"
      ]
     },
     "execution_count": 41,
     "metadata": {},
     "output_type": "execute_result"
    }
   ],
   "source": [
    "torch.linalg.det(jac_state_dynamics[:2, :2])"
   ]
  },
  {
   "cell_type": "markdown",
   "id": "97be234b-9b55-41f5-a5e8-98526c072b90",
   "metadata": {},
   "source": [
    "det$\\left(\\nabla_\\mathbf{s} f_\\psi^\\mu(\\mathbf{s}, \\xi)\\right)$"
   ]
  },
  {
   "cell_type": "code",
   "execution_count": 42,
   "id": "c2197df9-fb82-40eb-83e1-05eaface5e35",
   "metadata": {},
   "outputs": [
    {
     "data": {
      "text/plain": [
       "tensor(-0.0834)"
      ]
     },
     "execution_count": 42,
     "metadata": {},
     "output_type": "execute_result"
    }
   ],
   "source": [
    "torch.linalg.det(jac_state_model[:2, :2])"
   ]
  },
  {
   "cell_type": "markdown",
   "id": "334da191-3e29-4959-8c25-868c29f8382d",
   "metadata": {},
   "source": [
    "$\\left\\| \\nabla_\\mathbf{s} f_\\psi^\\mu(\\mathbf{s}, \\xi) - \\nabla_\\mathbf{s} f_*^\\mu(\\mathbf{s}, \\xi) \\right\\|$"
   ]
  },
  {
   "cell_type": "code",
   "execution_count": 43,
   "id": "50af1e66-29ad-42cb-bc16-c2423c10f710",
   "metadata": {},
   "outputs": [
    {
     "data": {
      "text/plain": [
       "tensor(0.0086)"
      ]
     },
     "execution_count": 43,
     "metadata": {},
     "output_type": "execute_result"
    }
   ],
   "source": [
    "torch.linalg.norm(jac_state_model[:2, :2] - jac_state_dynamics[:2, :2])"
   ]
  },
  {
   "cell_type": "markdown",
   "id": "c739f7a7-a222-43f1-9b8a-06e1c66c8e6a",
   "metadata": {
    "tags": []
   },
   "source": [
    "### Inspecting the optimization surface"
   ]
  },
  {
   "cell_type": "code",
   "execution_count": 52,
   "id": "0593a852-b07b-4e71-9d18-c16275e11470",
   "metadata": {},
   "outputs": [
    {
     "data": {
      "image/png": "[encoded data removed]",
      "text/plain": [
       "<Figure size 430.866x266.29 with 1 Axes>"
      ]
     },
     "metadata": {
      "needs_background": "light"
     },
     "output_type": "display_data"
    }
   ],
   "source": [
    "sns.reset_orig()\n",
    "# With LaTex fonts\n",
    "plt.style.use(\"tex\")\n",
    "\n",
    "dynamics, cost, init = lqg.standard_form()\n",
    "f_delta = analysis.delta_to_return(policy.standard_form(), dynamics, cost, init)\n",
    "direction = ut.tensors_to_vector(model.estimator(obs, 4)[1])\n",
    "X, Y, Z = analysis.optimization_surface(f_delta, direction.numpy(), rng=2985489)\n",
    "\n",
    "fig = plt.figure(figsize=set_size())\n",
    "ax = plot.plot_surface(X, Y, Z, invert_xaxis=True)\n",
    "ax.set_xlabel(\"random direction\")\n",
    "ax.set_ylabel(\"gradient direction\")\n",
    "ax.set_zlabel(\"policy value\")\n",
    "ax.view_init(azim=-30)\n",
    "savefig(fig, \"on-policy_surface\")"
   ]
  },
  {
   "cell_type": "code",
   "execution_count": 45,
   "id": "2e09921d-144f-4a29-80b9-6466074f3792",
   "metadata": {},
   "outputs": [],
   "source": [
    "sns.set()\n",
    "# With LaTex fonts\n",
    "plt.style.use(\"tex\")"
   ]
  },
  {
   "cell_type": "markdown",
   "id": "fefdbbb1-2767-4a86-8701-52ae98fe7c4a",
   "metadata": {},
   "source": [
    "## Off-policy"
   ]
  },
  {
   "cell_type": "code",
   "execution_count": 46,
   "id": "3090ce8a-435d-4c7f-ab6c-d7a9e1b3d8dc",
   "metadata": {},
   "outputs": [
    {
     "data": {
      "text/html": [
       "<div>\n",
       "<style scoped>\n",
       "    .dataframe tbody tr th:only-of-type {\n",
       "        vertical-align: middle;\n",
       "    }\n",
       "\n",
       "    .dataframe tbody tr th {\n",
       "        vertical-align: top;\n",
       "    }\n",
       "\n",
       "    .dataframe thead th {\n",
       "        text-align: right;\n",
       "    }\n",
       "</style>\n",
       "<table border=\"1\" class=\"dataframe\">\n",
       "  <thead>\n",
       "    <tr style=\"text-align: right;\">\n",
       "      <th></th>\n",
       "      <th>val/8/relative_value_err</th>\n",
       "      <th>trainer/global_step</th>\n",
       "      <th>val/0/relative_value_err</th>\n",
       "      <th>_step</th>\n",
       "      <th>val/empirical_kl</th>\n",
       "      <th>val/4/relative_vval_err</th>\n",
       "      <th>_runtime</th>\n",
       "      <th>val/0/relative_vval_err</th>\n",
       "      <th>val/loss</th>\n",
       "      <th>val/2/relative_vval_err</th>\n",
       "      <th>...</th>\n",
       "      <th>summary/val/2/grad_acc</th>\n",
       "      <th>summary/test/0/relative_vval_err</th>\n",
       "      <th>summary/val/0/grad_acc</th>\n",
       "      <th>summary/grad_2.0_norm_total_epoch</th>\n",
       "      <th>summary/val/2/relative_vval_err</th>\n",
       "      <th>summary/test/2/relative_value_err</th>\n",
       "      <th>summary/grad_2.0_norm_model.F_step</th>\n",
       "      <th>summary/val/empirical_kl</th>\n",
       "      <th>summary/test/8/relative_vval_err</th>\n",
       "      <th>summary/val/2/relative_value_err</th>\n",
       "    </tr>\n",
       "  </thead>\n",
       "  <tbody>\n",
       "    <tr>\n",
       "      <th>0</th>\n",
       "      <td>1.535041</td>\n",
       "      <td>0</td>\n",
       "      <td>0.486745</td>\n",
       "      <td>0</td>\n",
       "      <td>6.495462</td>\n",
       "      <td>1.961796</td>\n",
       "      <td>12</td>\n",
       "      <td>3.051758e-09</td>\n",
       "      <td>4.458547</td>\n",
       "      <td>0.934751</td>\n",
       "      <td>...</td>\n",
       "      <td>0.651572</td>\n",
       "      <td>0.0</td>\n",
       "      <td>0.713337</td>\n",
       "      <td>0.139451</td>\n",
       "      <td>0.003478</td>\n",
       "      <td>0.487272</td>\n",
       "      <td>0.1652</td>\n",
       "      <td>0.001081</td>\n",
       "      <td>0.006213</td>\n",
       "      <td>0.487045</td>\n",
       "    </tr>\n",
       "    <tr>\n",
       "      <th>1</th>\n",
       "      <td>NaN</td>\n",
       "      <td>49</td>\n",
       "      <td>NaN</td>\n",
       "      <td>1</td>\n",
       "      <td>NaN</td>\n",
       "      <td>NaN</td>\n",
       "      <td>13</td>\n",
       "      <td>NaN</td>\n",
       "      <td>NaN</td>\n",
       "      <td>NaN</td>\n",
       "      <td>...</td>\n",
       "      <td>0.651572</td>\n",
       "      <td>0.0</td>\n",
       "      <td>0.713337</td>\n",
       "      <td>0.139451</td>\n",
       "      <td>0.003478</td>\n",
       "      <td>0.487272</td>\n",
       "      <td>0.1652</td>\n",
       "      <td>0.001081</td>\n",
       "      <td>0.006213</td>\n",
       "      <td>0.487045</td>\n",
       "    </tr>\n",
       "    <tr>\n",
       "      <th>2</th>\n",
       "      <td>NaN</td>\n",
       "      <td>99</td>\n",
       "      <td>NaN</td>\n",
       "      <td>2</td>\n",
       "      <td>NaN</td>\n",
       "      <td>NaN</td>\n",
       "      <td>14</td>\n",
       "      <td>NaN</td>\n",
       "      <td>NaN</td>\n",
       "      <td>NaN</td>\n",
       "      <td>...</td>\n",
       "      <td>0.651572</td>\n",
       "      <td>0.0</td>\n",
       "      <td>0.713337</td>\n",
       "      <td>0.139451</td>\n",
       "      <td>0.003478</td>\n",
       "      <td>0.487272</td>\n",
       "      <td>0.1652</td>\n",
       "      <td>0.001081</td>\n",
       "      <td>0.006213</td>\n",
       "      <td>0.487045</td>\n",
       "    </tr>\n",
       "    <tr>\n",
       "      <th>3</th>\n",
       "      <td>NaN</td>\n",
       "      <td>149</td>\n",
       "      <td>NaN</td>\n",
       "      <td>3</td>\n",
       "      <td>NaN</td>\n",
       "      <td>NaN</td>\n",
       "      <td>15</td>\n",
       "      <td>NaN</td>\n",
       "      <td>NaN</td>\n",
       "      <td>NaN</td>\n",
       "      <td>...</td>\n",
       "      <td>0.651572</td>\n",
       "      <td>0.0</td>\n",
       "      <td>0.713337</td>\n",
       "      <td>0.139451</td>\n",
       "      <td>0.003478</td>\n",
       "      <td>0.487272</td>\n",
       "      <td>0.1652</td>\n",
       "      <td>0.001081</td>\n",
       "      <td>0.006213</td>\n",
       "      <td>0.487045</td>\n",
       "    </tr>\n",
       "    <tr>\n",
       "      <th>4</th>\n",
       "      <td>NaN</td>\n",
       "      <td>199</td>\n",
       "      <td>NaN</td>\n",
       "      <td>4</td>\n",
       "      <td>NaN</td>\n",
       "      <td>NaN</td>\n",
       "      <td>16</td>\n",
       "      <td>NaN</td>\n",
       "      <td>NaN</td>\n",
       "      <td>NaN</td>\n",
       "      <td>...</td>\n",
       "      <td>0.651572</td>\n",
       "      <td>0.0</td>\n",
       "      <td>0.713337</td>\n",
       "      <td>0.139451</td>\n",
       "      <td>0.003478</td>\n",
       "      <td>0.487272</td>\n",
       "      <td>0.1652</td>\n",
       "      <td>0.001081</td>\n",
       "      <td>0.006213</td>\n",
       "      <td>0.487045</td>\n",
       "    </tr>\n",
       "  </tbody>\n",
       "</table>\n",
       "<p>5 rows × 106 columns</p>\n",
       "</div>"
      ],
      "text/plain": [
       "   val/8/relative_value_err  trainer/global_step  val/0/relative_value_err  \\\n",
       "0                  1.535041                    0                  0.486745   \n",
       "1                       NaN                   49                       NaN   \n",
       "2                       NaN                   99                       NaN   \n",
       "3                       NaN                  149                       NaN   \n",
       "4                       NaN                  199                       NaN   \n",
       "\n",
       "   _step  val/empirical_kl  val/4/relative_vval_err  _runtime  \\\n",
       "0      0          6.495462                 1.961796        12   \n",
       "1      1               NaN                      NaN        13   \n",
       "2      2               NaN                      NaN        14   \n",
       "3      3               NaN                      NaN        15   \n",
       "4      4               NaN                      NaN        16   \n",
       "\n",
       "   val/0/relative_vval_err  val/loss  val/2/relative_vval_err  ...  \\\n",
       "0             3.051758e-09  4.458547                 0.934751  ...   \n",
       "1                      NaN       NaN                      NaN  ...   \n",
       "2                      NaN       NaN                      NaN  ...   \n",
       "3                      NaN       NaN                      NaN  ...   \n",
       "4                      NaN       NaN                      NaN  ...   \n",
       "\n",
       "   summary/val/2/grad_acc  summary/test/0/relative_vval_err  \\\n",
       "0                0.651572                               0.0   \n",
       "1                0.651572                               0.0   \n",
       "2                0.651572                               0.0   \n",
       "3                0.651572                               0.0   \n",
       "4                0.651572                               0.0   \n",
       "\n",
       "   summary/val/0/grad_acc  summary/grad_2.0_norm_total_epoch  \\\n",
       "0                0.713337                           0.139451   \n",
       "1                0.713337                           0.139451   \n",
       "2                0.713337                           0.139451   \n",
       "3                0.713337                           0.139451   \n",
       "4                0.713337                           0.139451   \n",
       "\n",
       "   summary/val/2/relative_vval_err  summary/test/2/relative_value_err  \\\n",
       "0                         0.003478                           0.487272   \n",
       "1                         0.003478                           0.487272   \n",
       "2                         0.003478                           0.487272   \n",
       "3                         0.003478                           0.487272   \n",
       "4                         0.003478                           0.487272   \n",
       "\n",
       "   summary/grad_2.0_norm_model.F_step  summary/val/empirical_kl  \\\n",
       "0                              0.1652                  0.001081   \n",
       "1                              0.1652                  0.001081   \n",
       "2                              0.1652                  0.001081   \n",
       "3                              0.1652                  0.001081   \n",
       "4                              0.1652                  0.001081   \n",
       "\n",
       "   summary/test/8/relative_vval_err  summary/val/2/relative_value_err  \n",
       "0                          0.006213                          0.487045  \n",
       "1                          0.006213                          0.487045  \n",
       "2                          0.006213                          0.487045  \n",
       "3                          0.006213                          0.487045  \n",
       "4                          0.006213                          0.487045  \n",
       "\n",
       "[5 rows x 106 columns]"
      ]
     },
     "execution_count": 46,
     "metadata": {},
     "output_type": "execute_result"
    }
   ],
   "source": [
    "OFF_POLICY_PREDICTION = wandb_runs_dataframe(\n",
    "    \"angelovtt/ch5\", \n",
    "    configs={\n",
    "        \"exploration.type\": \"gaussian\", \"model.type\": \"linear\",\n",
    "    },\n",
    "    tags=[\"ModelBasedPrediction\", \"10.4.0\"],\n",
    ")\n",
    "OFF_POLICY_PREDICTION.head()"
   ]
  },
  {
   "cell_type": "code",
   "execution_count": 47,
   "id": "123bd72a-9de9-4103-ae4d-716d049938db",
   "metadata": {},
   "outputs": [
    {
     "data": {
      "image/png": "[encoded data removed]",
      "text/plain": [
       "<Figure size 430.866x266.29 with 4 Axes>"
      ]
     },
     "metadata": {},
     "output_type": "display_data"
    }
   ],
   "source": [
    "fig, axis = plt.subplots(nrows=2, ncols=2, sharex=True, figsize=set_size(subplots=(2, 2)))\n",
    "ax = sns.lineplot(\n",
    "    ax=axis[0][0],\n",
    "    data=OFF_POLICY_PREDICTION,\n",
    "    x=\"epoch\",\n",
    "    y=\"val/loss\",\n",
    "    ci=\"sd\",\n",
    "    estimator=None,\n",
    "    units=\"config/seed\",\n",
    ")\n",
    "ax.set_ylabel(\"Loss\")\n",
    "ax = sns.lineplot(\n",
    "    ax=axis[0][1],\n",
    "    data=OFF_POLICY_PREDICTION,\n",
    "    x=\"epoch\",\n",
    "    y=\"val/empirical_kl\",\n",
    "    ci=\"sd\",\n",
    "    estimator=None,\n",
    "    units=\"config/seed\",\n",
    ")\n",
    "ax.set_ylabel(\"Empirical KL\")\n",
    "ax = sns.lineplot(\n",
    "    ax=axis[1][0],\n",
    "    data=OFF_POLICY_PREDICTION,\n",
    "    x=\"epoch\",\n",
    "    y=\"val/4/relative_vval_err\",\n",
    "    ci=\"sd\",\n",
    "    estimator=None,\n",
    "    units=\"config/seed\",\n",
    ")\n",
    "ax.set_ylim(\n",
    "    bottom=-1,\n",
    "    top=10,\n",
    "#     top=np.nanpercentile(ON_POLICY_PREDICTION[\"val/4/relative_vval_err\"], 97.5)\n",
    ")\n",
    "ax.set_ylabel(\"4-step value error\")\n",
    "ax = sns.lineplot(\n",
    "    data=OFF_POLICY_PREDICTION,\n",
    "    x=\"epoch\",\n",
    "    y=\"val/4/grad_acc\",\n",
    "    ci=\"sd\",\n",
    "    estimator=None,\n",
    "    units=\"config/seed\",\n",
    ")\n",
    "ax.set_ylabel(\"4-step grad acc\")\n",
    "savefig(fig, \"off-policy_summary\")"
   ]
  },
  {
   "cell_type": "code",
   "execution_count": 48,
   "id": "e08ae2cd-a957-47c9-96f7-b390d8811d03",
   "metadata": {},
   "outputs": [
    {
     "data": {
      "image/png": "[encoded data removed]",
      "text/plain": [
       "<Figure size 430.866x133.145 with 2 Axes>"
      ]
     },
     "metadata": {},
     "output_type": "display_data"
    }
   ],
   "source": [
    "fig, (ax0, ax1) = plt.subplots(1, 2, sharex=True, sharey=True, figsize=set_size(subplots=(1, 2)))\n",
    "sns.lineplot(\n",
    "    ax=ax0,\n",
    "    data=OFF_POLICY_PREDICTION,\n",
    "    x=\"epoch\",\n",
    "    y=\"val/0/grad_acc\",\n",
    "    ci=\"sd\",\n",
    ")\n",
    "sns.lineplot(\n",
    "    ax=ax1,\n",
    "    data=OFF_POLICY_PREDICTION,\n",
    "    x=\"epoch\",\n",
    "    y=\"val/4/grad_acc\",\n",
    "    ci=\"sd\",\n",
    ")\n",
    "ax0.set_ylabel(\"Cosine similarity\")\n",
    "ax0.set_title(\"Model-free\")\n",
    "ax1.set_title(\"Model-based\")\n",
    "savefig(fig, \"off-policy_model-free_vs_model-based\")"
   ]
  },
  {
   "cell_type": "markdown",
   "id": "5ee8dc14-bbf1-4629-b2b1-064ea7bf194e",
   "metadata": {},
   "source": [
    "# Model-Based Prediction (Reward)\n",
    "\n",
    "Learning a reward function in isolation\n",
    "\n",
    "**Metrics**\n",
    "1. Mean-squared error: $\\mathbb{E}\\left[ \\left( R(s, a) - R_\\psi(s, a)\\right)^2 \\right]$\n",
    "1. State gradient accuracy: cossim$(\\nabla_{s} R(s, a), \\nabla_{s} R_\\psi(s, a))$\n",
    "1. Action gradient accuracy: cossim$(\\nabla_{a} R(s, a), \\nabla_{a} R_\\psi(s, a))$"
   ]
  },
  {
   "cell_type": "code",
   "execution_count": 49,
   "id": "b78fcadf-6f11-4a3d-8319-2637a2f5f4d4",
   "metadata": {},
   "outputs": [
    {
     "data": {
      "text/html": [
       "<div>\n",
       "<style scoped>\n",
       "    .dataframe tbody tr th:only-of-type {\n",
       "        vertical-align: middle;\n",
       "    }\n",
       "\n",
       "    .dataframe tbody tr th {\n",
       "        vertical-align: top;\n",
       "    }\n",
       "\n",
       "    .dataframe thead th {\n",
       "        text-align: right;\n",
       "    }\n",
       "</style>\n",
       "<table border=\"1\" class=\"dataframe\">\n",
       "  <thead>\n",
       "    <tr style=\"text-align: right;\">\n",
       "      <th></th>\n",
       "      <th>trainer/global_step</th>\n",
       "      <th>_step</th>\n",
       "      <th>_runtime</th>\n",
       "      <th>val/loss</th>\n",
       "      <th>val/obs_grad_acc</th>\n",
       "      <th>epoch</th>\n",
       "      <th>val/act_grad_acc</th>\n",
       "      <th>_timestamp</th>\n",
       "      <th>train/act_grad_acc</th>\n",
       "      <th>train/loss</th>\n",
       "      <th>...</th>\n",
       "      <th>summary/val/loss</th>\n",
       "      <th>summary/stability</th>\n",
       "      <th>summary/train/obs_grad_acc</th>\n",
       "      <th>summary/trainer/global_step</th>\n",
       "      <th>summary/epoch</th>\n",
       "      <th>summary/test/obs_grad_acc</th>\n",
       "      <th>summary/train/loss</th>\n",
       "      <th>test/loss</th>\n",
       "      <th>test/obs_grad_acc</th>\n",
       "      <th>test/act_grad_acc</th>\n",
       "    </tr>\n",
       "  </thead>\n",
       "  <tbody>\n",
       "    <tr>\n",
       "      <th>0</th>\n",
       "      <td>0</td>\n",
       "      <td>0</td>\n",
       "      <td>4</td>\n",
       "      <td>89.433434</td>\n",
       "      <td>0.451624</td>\n",
       "      <td>0</td>\n",
       "      <td>0.967689</td>\n",
       "      <td>1633034874</td>\n",
       "      <td>NaN</td>\n",
       "      <td>NaN</td>\n",
       "      <td>...</td>\n",
       "      <td>0.000247</td>\n",
       "      <td>False</td>\n",
       "      <td>0.999833</td>\n",
       "      <td>28160</td>\n",
       "      <td>39</td>\n",
       "      <td>0.999844</td>\n",
       "      <td>0.000212</td>\n",
       "      <td>NaN</td>\n",
       "      <td>NaN</td>\n",
       "      <td>NaN</td>\n",
       "    </tr>\n",
       "    <tr>\n",
       "      <th>1</th>\n",
       "      <td>49</td>\n",
       "      <td>1</td>\n",
       "      <td>5</td>\n",
       "      <td>NaN</td>\n",
       "      <td>NaN</td>\n",
       "      <td>0</td>\n",
       "      <td>NaN</td>\n",
       "      <td>1633034875</td>\n",
       "      <td>0.973206</td>\n",
       "      <td>78.105156</td>\n",
       "      <td>...</td>\n",
       "      <td>0.000247</td>\n",
       "      <td>False</td>\n",
       "      <td>0.999833</td>\n",
       "      <td>28160</td>\n",
       "      <td>39</td>\n",
       "      <td>0.999844</td>\n",
       "      <td>0.000212</td>\n",
       "      <td>NaN</td>\n",
       "      <td>NaN</td>\n",
       "      <td>NaN</td>\n",
       "    </tr>\n",
       "    <tr>\n",
       "      <th>2</th>\n",
       "      <td>99</td>\n",
       "      <td>2</td>\n",
       "      <td>6</td>\n",
       "      <td>NaN</td>\n",
       "      <td>NaN</td>\n",
       "      <td>0</td>\n",
       "      <td>NaN</td>\n",
       "      <td>1633034876</td>\n",
       "      <td>0.974463</td>\n",
       "      <td>67.964920</td>\n",
       "      <td>...</td>\n",
       "      <td>0.000247</td>\n",
       "      <td>False</td>\n",
       "      <td>0.999833</td>\n",
       "      <td>28160</td>\n",
       "      <td>39</td>\n",
       "      <td>0.999844</td>\n",
       "      <td>0.000212</td>\n",
       "      <td>NaN</td>\n",
       "      <td>NaN</td>\n",
       "      <td>NaN</td>\n",
       "    </tr>\n",
       "    <tr>\n",
       "      <th>3</th>\n",
       "      <td>199</td>\n",
       "      <td>4</td>\n",
       "      <td>7</td>\n",
       "      <td>NaN</td>\n",
       "      <td>NaN</td>\n",
       "      <td>0</td>\n",
       "      <td>NaN</td>\n",
       "      <td>1633034877</td>\n",
       "      <td>0.961897</td>\n",
       "      <td>51.479877</td>\n",
       "      <td>...</td>\n",
       "      <td>0.000247</td>\n",
       "      <td>False</td>\n",
       "      <td>0.999833</td>\n",
       "      <td>28160</td>\n",
       "      <td>39</td>\n",
       "      <td>0.999844</td>\n",
       "      <td>0.000212</td>\n",
       "      <td>NaN</td>\n",
       "      <td>NaN</td>\n",
       "      <td>NaN</td>\n",
       "    </tr>\n",
       "    <tr>\n",
       "      <th>4</th>\n",
       "      <td>299</td>\n",
       "      <td>6</td>\n",
       "      <td>9</td>\n",
       "      <td>NaN</td>\n",
       "      <td>NaN</td>\n",
       "      <td>0</td>\n",
       "      <td>NaN</td>\n",
       "      <td>1633034879</td>\n",
       "      <td>0.940927</td>\n",
       "      <td>47.871559</td>\n",
       "      <td>...</td>\n",
       "      <td>0.000247</td>\n",
       "      <td>False</td>\n",
       "      <td>0.999833</td>\n",
       "      <td>28160</td>\n",
       "      <td>39</td>\n",
       "      <td>0.999844</td>\n",
       "      <td>0.000212</td>\n",
       "      <td>NaN</td>\n",
       "      <td>NaN</td>\n",
       "      <td>NaN</td>\n",
       "    </tr>\n",
       "  </tbody>\n",
       "</table>\n",
       "<p>5 rows × 45 columns</p>\n",
       "</div>"
      ],
      "text/plain": [
       "   trainer/global_step  _step  _runtime   val/loss  val/obs_grad_acc  epoch  \\\n",
       "0                    0      0         4  89.433434          0.451624      0   \n",
       "1                   49      1         5        NaN               NaN      0   \n",
       "2                   99      2         6        NaN               NaN      0   \n",
       "3                  199      4         7        NaN               NaN      0   \n",
       "4                  299      6         9        NaN               NaN      0   \n",
       "\n",
       "   val/act_grad_acc  _timestamp  train/act_grad_acc  train/loss  ...  \\\n",
       "0          0.967689  1633034874                 NaN         NaN  ...   \n",
       "1               NaN  1633034875            0.973206   78.105156  ...   \n",
       "2               NaN  1633034876            0.974463   67.964920  ...   \n",
       "3               NaN  1633034877            0.961897   51.479877  ...   \n",
       "4               NaN  1633034879            0.940927   47.871559  ...   \n",
       "\n",
       "   summary/val/loss  summary/stability  summary/train/obs_grad_acc  \\\n",
       "0          0.000247              False                    0.999833   \n",
       "1          0.000247              False                    0.999833   \n",
       "2          0.000247              False                    0.999833   \n",
       "3          0.000247              False                    0.999833   \n",
       "4          0.000247              False                    0.999833   \n",
       "\n",
       "   summary/trainer/global_step  summary/epoch summary/test/obs_grad_acc  \\\n",
       "0                        28160             39                  0.999844   \n",
       "1                        28160             39                  0.999844   \n",
       "2                        28160             39                  0.999844   \n",
       "3                        28160             39                  0.999844   \n",
       "4                        28160             39                  0.999844   \n",
       "\n",
       "   summary/train/loss  test/loss  test/obs_grad_acc  test/act_grad_acc  \n",
       "0            0.000212        NaN                NaN                NaN  \n",
       "1            0.000212        NaN                NaN                NaN  \n",
       "2            0.000212        NaN                NaN                NaN  \n",
       "3            0.000212        NaN                NaN                NaN  \n",
       "4            0.000212        NaN                NaN                NaN  \n",
       "\n",
       "[5 rows x 45 columns]"
      ]
     },
     "execution_count": 49,
     "metadata": {},
     "output_type": "execute_result"
    }
   ],
   "source": [
    "REWARD_ONLY = wandb_runs_dataframe(\n",
    "    \"angelovtt/ch5\",\n",
    "    configs={},\n",
    "    tags=\"9.30.0 RewardLearning\".split()\n",
    ")\n",
    "REWARD_ONLY.head()"
   ]
  },
  {
   "cell_type": "code",
   "execution_count": 50,
   "id": "c407ea87-5e9e-4745-a7fe-0c7049ca7e30",
   "metadata": {},
   "outputs": [
    {
     "name": "stdout",
     "output_type": "stream",
     "text": [
      "<class 'pandas.core.frame.DataFrame'>\n",
      "RangeIndex: 10055 entries, 0 to 10054\n",
      "Data columns (total 45 columns):\n",
      " #   Column                                    Non-Null Count  Dtype  \n",
      "---  ------                                    --------------  -----  \n",
      " 0   trainer/global_step                       10055 non-null  int64  \n",
      " 1   _step                                     10055 non-null  int64  \n",
      " 2   _runtime                                  10055 non-null  int64  \n",
      " 3   val/loss                                  1256 non-null   float64\n",
      " 4   val/obs_grad_acc                          1256 non-null   float64\n",
      " 5   epoch                                     10055 non-null  int64  \n",
      " 6   val/act_grad_acc                          1256 non-null   float64\n",
      " 7   _timestamp                                10055 non-null  int64  \n",
      " 8   train/act_grad_acc                        8782 non-null   float64\n",
      " 9   train/loss                                8782 non-null   float64\n",
      " 10  train/obs_grad_acc                        8782 non-null   float64\n",
      " 11  config/seed                               10055 non-null  int64  \n",
      " 12  config/weight_decay                       10055 non-null  int64  \n",
      " 13  config/learning_rate                      10055 non-null  float64\n",
      " 14  config/trainer/max_epochs                 10055 non-null  int64  \n",
      " 15  config/trainer/weights_summary            10055 non-null  object \n",
      " 16  config/trainer/val_check_interval         10055 non-null  float64\n",
      " 17  config/trainer/progress_bar_refresh_rate  10055 non-null  int64  \n",
      " 18  config/datamodule/trajectories            10055 non-null  int64  \n",
      " 19  config/datamodule/val_batch_size          10055 non-null  int64  \n",
      " 20  config/datamodule/train_batch_size        10055 non-null  int64  \n",
      " 21  config/env_config/n_ctrl                  10055 non-null  int64  \n",
      " 22  config/env_config/horizon                 10055 non-null  int64  \n",
      " 23  config/env_config/n_state                 10055 non-null  int64  \n",
      " 24  config/env_config/passive_eigval_range    10055 non-null  object \n",
      " 25  config/exploration/type                   10055 non-null  object \n",
      " 26  config/exploration/action_noise_sigma     10055 non-null  float64\n",
      " 27  summary/trainable_parameters              10055 non-null  int64  \n",
      " 28  summary/val/obs_grad_acc                  10055 non-null  float64\n",
      " 29  summary/train/act_grad_acc                10055 non-null  float64\n",
      " 30  summary/passive_eigvals                   10055 non-null  object \n",
      " 31  summary/test/act_grad_acc                 10055 non-null  float64\n",
      " 32  summary/val/act_grad_acc                  10055 non-null  float64\n",
      " 33  summary/test/loss                         10055 non-null  float64\n",
      " 34  summary/controllability                   10055 non-null  bool   \n",
      " 35  summary/val/loss                          10055 non-null  float64\n",
      " 36  summary/stability                         10055 non-null  bool   \n",
      " 37  summary/train/obs_grad_acc                10055 non-null  float64\n",
      " 38  summary/trainer/global_step               10055 non-null  int64  \n",
      " 39  summary/epoch                             10055 non-null  int64  \n",
      " 40  summary/test/obs_grad_acc                 10055 non-null  float64\n",
      " 41  summary/train/loss                        10055 non-null  float64\n",
      " 42  test/loss                                 17 non-null     float64\n",
      " 43  test/obs_grad_acc                         17 non-null     float64\n",
      " 44  test/act_grad_acc                         17 non-null     float64\n",
      "dtypes: bool(2), float64(21), int64(18), object(4)\n",
      "memory usage: 3.3+ MB\n"
     ]
    }
   ],
   "source": [
    "REWARD_ONLY.info()"
   ]
  },
  {
   "cell_type": "markdown",
   "id": "43bfaae4-acf2-41fd-8ee9-e473b865f1c0",
   "metadata": {},
   "source": [
    "**validation mean-squared error**"
   ]
  },
  {
   "cell_type": "code",
   "execution_count": 51,
   "id": "e546eca5-ae43-48a3-ad51-801725a0564f",
   "metadata": {},
   "outputs": [
    {
     "data": {
      "image/png": "[encoded data removed]",
      "text/plain": [
       "<Figure size 430.866x133.145 with 2 Axes>"
      ]
     },
     "metadata": {},
     "output_type": "display_data"
    }
   ],
   "source": [
    "REWARD_ONLY[\"exploration\"] = REWARD_ONLY[\"config/exploration/type\"]\n",
    "fig, (ax1, ax2) = plt.subplots(1, 2, sharex=True, sharey=True, figsize=set_size(subplots=(1, 2)))\n",
    "# sns.lineplot(\n",
    "#     ax=ax0,\n",
    "#     data=REWARD_ONLY,\n",
    "#     x=\"epoch\",\n",
    "#     y=\"val/loss\",\n",
    "#     hue=\"config/exploration/type\",\n",
    "#     legend=False,\n",
    "# )\n",
    "# ax0.set_ylabel(\"Loss\")\n",
    "# ax0.set_ylim(ymin=-2, ymax=np.nanpercentile(REWARD_ONLY[\"val/loss\"], 95))\n",
    "\n",
    "sns.lineplot(\n",
    "    ax=ax1,\n",
    "    data=REWARD_ONLY,\n",
    "    x=\"epoch\",\n",
    "    y=\"val/obs_grad_acc\",\n",
    "    hue=\"exploration\",\n",
    "    legend=False,\n",
    ")\n",
    "ax1.set_ylabel(\"Cosine similarity\")\n",
    "ax1.set_title(\"State grad acc\")\n",
    "\n",
    "sns.lineplot(\n",
    "    ax=ax2,\n",
    "    data=REWARD_ONLY,\n",
    "    x=\"epoch\",\n",
    "    y=\"val/act_grad_acc\",\n",
    "    hue=\"exploration\",\n",
    ")\n",
    "ax2.set_title(\"Action grad acc\")\n",
    "\n",
    "savefig(fig, \"reward_learning\")"
   ]
  }
 ],
 "metadata": {
  "kernelspec": {
   "display_name": "Python 3 (ipykernel)",
   "language": "python",
   "name": "python3"
  },
  "language_info": {
   "codemirror_mode": {
    "name": "ipython",
    "version": 3
   },
   "file_extension": ".py",
   "mimetype": "text/x-python",
   "name": "python",
   "nbconvert_exporter": "python",
   "pygments_lexer": "ipython3",
   "version": "3.8.2"
  }
 },
 "nbformat": 4,
 "nbformat_minor": 5
}
