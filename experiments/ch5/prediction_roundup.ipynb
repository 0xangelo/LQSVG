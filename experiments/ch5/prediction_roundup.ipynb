{
 "cells": [
  {
   "cell_type": "markdown",
   "id": "aedba256-eecf-4c69-a44d-6add9974e42a",
   "metadata": {},
   "source": [
    "# Full Prediction Results"
   ]
  },
  {
   "cell_type": "code",
   "execution_count": 1,
   "id": "2fabb4b5-1492-4dac-a2e4-b9d27794de3b",
   "metadata": {},
   "outputs": [
    {
     "name": "stderr",
     "output_type": "stream",
     "text": [
      "/Users/angelolovatto/Library/Caches/pypoetry/virtualenvs/lqsvg-G_e_Olvw-py3.8/lib/python3.8/site-packages/ray/autoscaler/_private/cli_logger.py:57: FutureWarning: Not all Ray CLI dependencies were found. In Ray 1.4+, the Ray CLI, autoscaler, and dashboard will only be usable via `pip install 'ray[default]'`. Please update your install command.\n",
      "  warnings.warn(\n"
     ]
    }
   ],
   "source": [
    "import os\n",
    "\n",
    "import seaborn as sns\n",
    "from lqsvg.experiment import plot\n",
    "from lqsvg.experiment.utils import wandb_runs_dataframe\n",
    "from matplotlib import pyplot as plt"
   ]
  },
  {
   "cell_type": "markdown",
   "id": "7c5d24e7-121f-470a-8f50-a9dce0225daa",
   "metadata": {
    "tags": []
   },
   "source": [
    "## Matplotlib setup\n",
    "\n",
    "Latex presets ([ref](https://jwalton.info/Embed-Publication-Matplotlib-Latex/))"
   ]
  },
  {
   "cell_type": "code",
   "execution_count": 2,
   "id": "ea5206ad-23b0-4332-9109-b5b7ca8f6e32",
   "metadata": {},
   "outputs": [],
   "source": [
    "from functools import partial\n",
    "\n",
    "plot.create_latex_style()\n",
    "set_size = partial(plot.latex_size, width=\"thesis\")"
   ]
  },
  {
   "cell_type": "code",
   "execution_count": 3,
   "id": "1424e86f-3751-4b2d-ae43-20b785c4c3f7",
   "metadata": {},
   "outputs": [
    {
     "name": "stdout",
     "output_type": "stream",
     "text": [
      "Solarize_Light2 _classic_test_patch bmh classic dark_background fast fivethirtyeight ggplot grayscale seaborn seaborn-bright seaborn-colorblind seaborn-dark seaborn-dark-palette seaborn-darkgrid seaborn-deep seaborn-muted seaborn-notebook seaborn-paper seaborn-pastel seaborn-poster seaborn-talk seaborn-ticks seaborn-white seaborn-whitegrid tableau-colorblind10 tex\n"
     ]
    }
   ],
   "source": [
    "print(*plot.available_styles())"
   ]
  },
  {
   "cell_type": "code",
   "execution_count": 4,
   "id": "dd34aaea-e92c-4d27-970a-56acef048993",
   "metadata": {},
   "outputs": [
    {
     "name": "stdout",
     "output_type": "stream",
     "text": [
      "Your style sheets are located at: /Users/angelolovatto/Library/Caches/pypoetry/virtualenvs/lqsvg-G_e_Olvw-py3.8/lib/python3.8/site-packages/matplotlib/mpl-data/stylelib\n"
     ]
    }
   ],
   "source": [
    "print(f\"Your style sheets are located at: {plot.STYLE_PATH}\")"
   ]
  },
  {
   "cell_type": "code",
   "execution_count": 5,
   "id": "c6d079a8-b9cc-426e-8843-8f523d0cf7df",
   "metadata": {},
   "outputs": [],
   "source": [
    "# Using seaborn's style\n",
    "# plt.style.use(\"seaborn\")\n",
    "sns.set()\n",
    "# With LaTex fonts\n",
    "plt.style.use(\"tex\")"
   ]
  },
  {
   "cell_type": "code",
   "execution_count": 6,
   "id": "daab0eea-d3e4-411e-b593-8ee5e16dbbd3",
   "metadata": {},
   "outputs": [],
   "source": [
    "def figpath(name: str) -> str:\n",
    "    return os.path.join(\"images\", name + \".pdf\")\n",
    "\n",
    "\n",
    "def savefig(fig, name):\n",
    "    return plot.save_pdf_tight(fig, figpath(name))"
   ]
  },
  {
   "cell_type": "markdown",
   "id": "e3c2bef2-78c5-4453-8a41-89bdb226e669",
   "metadata": {},
   "source": [
    "## MAAC vs. MAGE vs. MAAC+MAGE"
   ]
  },
  {
   "cell_type": "code",
   "execution_count": 7,
   "id": "9e9a88eb-c0df-4e43-a40a-bb3e7a7cb79e",
   "metadata": {},
   "outputs": [
    {
     "name": "stdout",
     "output_type": "stream",
     "text": [
      "<class 'pandas.core.frame.DataFrame'>\n",
      "RangeIndex: 299 entries, 0 to 298\n",
      "Data columns (total 61 columns):\n",
      " #   Column                                  Non-Null Count  Dtype  \n",
      "---  ------                                  --------------  -----  \n",
      " 0   time_this_iter_s                        299 non-null    float64\n",
      " 1   _step                                   299 non-null    float64\n",
      " 2   grad_precision                          299 non-null    float64\n",
      " 3   iterations_since_restore                299 non-null    float64\n",
      " 4   timesteps_since_restore                 299 non-null    float64\n",
      " 5   reward/val/loss                         299 non-null    float64\n",
      " 6   _runtime                                299 non-null    float64\n",
      " 7   grad_accuracy                           299 non-null    float64\n",
      " 8   dynamics/val/loss                       299 non-null    float64\n",
      " 9   training_iteration                      299 non-null    float64\n",
      " 10  qvalue/val/loss                         299 non-null    float64\n",
      " 11  timestamp                               299 non-null    float64\n",
      " 12  time_since_restore                      299 non-null    float64\n",
      " 13  time_total_s                            299 non-null    float64\n",
      " 14  _timestamp                              299 non-null    float64\n",
      " 15  config/pid                              299 non-null    float64\n",
      " 16  config/date                             299 non-null    object \n",
      " 17  config/seed                             299 non-null    int64  \n",
      " 18  config/node_ip                          299 non-null    object \n",
      " 19  config/hostname                         299 non-null    object \n",
      " 20  config/strategy                         299 non-null    object \n",
      " 21  config/trial_id                         299 non-null    object \n",
      " 22  config/trajectories                     299 non-null    int64  \n",
      " 23  config/experiment_id                    299 non-null    object \n",
      " 24  config/qvalue_dm/val_batch_size         299 non-null    int64  \n",
      " 25  config/qvalue_dm/train_batch_size       299 non-null    int64  \n",
      " 26  config/reward_dm/val_batch_size         299 non-null    int64  \n",
      " 27  config/reward_dm/train_batch_size       299 non-null    int64  \n",
      " 28  config/env_config/n_ctrl                299 non-null    int64  \n",
      " 29  config/env_config/horizon               299 non-null    int64  \n",
      " 30  config/env_config/n_state               299 non-null    int64  \n",
      " 31  config/env_config/passive_eigval_range  299 non-null    object \n",
      " 32  config/dynamics_dm/seq_len              299 non-null    int64  \n",
      " 33  config/dynamics_dm/val_batch_size       299 non-null    int64  \n",
      " 34  config/dynamics_dm/train_batch_size     299 non-null    int64  \n",
      " 35  config/exploration/type                 299 non-null    object \n",
      " 36  config/exploration/action_noise_sigma   299 non-null    float64\n",
      " 37  config/model/qvalue/type                299 non-null    object \n",
      " 38  config/model/qvalue/polyak              299 non-null    float64\n",
      " 39  config/model/qvalue/max_epochs          299 non-null    int64  \n",
      " 40  config/model/qvalue/weight_decay        299 non-null    int64  \n",
      " 41  config/model/qvalue/learning_rate       299 non-null    float64\n",
      " 42  config/model/reward/max_epochs          299 non-null    int64  \n",
      " 43  config/model/reward/weight_decay        299 non-null    int64  \n",
      " 44  config/model/reward/learning_rate       299 non-null    float64\n",
      " 45  config/model/dynamics/type              299 non-null    object \n",
      " 46  config/model/dynamics/max_epochs        299 non-null    int64  \n",
      " 47  config/model/dynamics/weight_decay      299 non-null    int64  \n",
      " 48  config/model/dynamics/learning_rate     299 non-null    float64\n",
      " 49  summary/time_since_restore              299 non-null    float64\n",
      " 50  summary/timesteps_since_restore         299 non-null    float64\n",
      " 51  summary/timestamp                       299 non-null    float64\n",
      " 52  summary/time_total_s                    299 non-null    float64\n",
      " 53  summary/qvalue/val/loss                 299 non-null    float64\n",
      " 54  summary/grad_precision                  299 non-null    float64\n",
      " 55  summary/training_iteration              299 non-null    float64\n",
      " 56  summary/grad_accuracy                   299 non-null    float64\n",
      " 57  summary/time_this_iter_s                299 non-null    float64\n",
      " 58  summary/reward/val/loss                 299 non-null    float64\n",
      " 59  summary/dynamics/val/loss               299 non-null    float64\n",
      " 60  summary/iterations_since_restore        299 non-null    float64\n",
      "dtypes: float64(33), int64(18), object(10)\n",
      "memory usage: 142.6+ KB\n"
     ]
    }
   ],
   "source": [
    "DATA = wandb_runs_dataframe(\n",
    "    \"angelovtt/ch5\",\n",
    "    configs={},\n",
    "    tags=[\"PredictionFull\"],\n",
    ")\n",
    "DATA.info()"
   ]
  },
  {
   "cell_type": "code",
   "execution_count": 8,
   "id": "d0e60a52-134c-46a5-9297-b84010151cdd",
   "metadata": {},
   "outputs": [],
   "source": [
    "DATA[\"dim\"] = DATA[\"config/env_config/n_ctrl\"]\n",
    "DATA[\"strategy\"] = DATA[\"config/strategy\"]"
   ]
  },
  {
   "cell_type": "code",
   "execution_count": 10,
   "id": "711db98a-241c-46a2-b0c8-13596ba75727",
   "metadata": {},
   "outputs": [
    {
     "data": {
      "image/png": "[encoded data removed]",
      "text/plain": [
       "<Figure size 344.693x213.032 with 1 Axes>"
      ]
     },
     "metadata": {},
     "output_type": "display_data"
    }
   ],
   "source": [
    "fig = plt.figure(figsize=set_size(fraction=0.8))\n",
    "ax = sns.boxplot(\n",
    "    data=DATA,\n",
    "    x=\"dim\",\n",
    "    y=\"summary/grad_accuracy\",\n",
    "    hue=\"strategy\",\n",
    "    hue_order=[\"mage\", \"maac\", \"maac+mage\"],\n",
    "    palette=\"muted\",\n",
    ")\n",
    "ax.set_xlabel(\"Dimension\")\n",
    "ax.set_ylabel(\"Gradient accuracy\")\n",
    "savefig(fig, \"prediction_roundup\")"
   ]
  },
  {
   "cell_type": "code",
   "execution_count": null,
   "id": "1ffa6fd6-3ee3-448d-b51d-333094769122",
   "metadata": {},
   "outputs": [],
   "source": []
  }
 ],
 "metadata": {
  "kernelspec": {
   "display_name": "Python 3 (ipykernel)",
   "language": "python",
   "name": "python3"
  },
  "language_info": {
   "codemirror_mode": {
    "name": "ipython",
    "version": 3
   },
   "file_extension": ".py",
   "mimetype": "text/x-python",
   "name": "python",
   "nbconvert_exporter": "python",
   "pygments_lexer": "ipython3",
   "version": "3.8.2"
  }
 },
 "nbformat": 4,
 "nbformat_minor": 5
}
