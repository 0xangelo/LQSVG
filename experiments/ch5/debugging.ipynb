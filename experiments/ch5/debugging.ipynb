{
 "cells": [
  {
   "cell_type": "code",
   "execution_count": 1,
   "id": "b2314385-2ca5-490b-9eca-611bfa81a5fb",
   "metadata": {
    "tags": []
   },
   "outputs": [],
   "source": [
    "%matplotlib inline\n",
    "import functools\n",
    "import os\n",
    "from typing import Callable, Iterable, Sequence, Union\n",
    "\n",
    "import numpy as np\n",
    "import pytorch_lightning as pl\n",
    "import torch\n",
    "from lqsvg import analysis, data, estimator\n",
    "from lqsvg.envs import lqr\n",
    "from lqsvg.envs.lqr.generators import LQGGenerator\n",
    "from lqsvg.experiment import plot\n",
    "from lqsvg.torch import utils as ut\n",
    "from lqsvg.torch.nn.value import QuadQValue\n",
    "from matplotlib import pyplot as plt\n",
    "from torch import Tensor, autograd, nn\n",
    "\n",
    "from model_training_static_policy import DataModule, DataSpec, Experiment, make_modules"
   ]
  },
  {
   "cell_type": "code",
   "execution_count": 2,
   "id": "0443745a-dcce-48d3-9328-68ba716ff710",
   "metadata": {},
   "outputs": [],
   "source": [
    "def obs_only(sampler: data.StateDynamics) -> Callable[[Tensor, Tensor], Tensor]:\n",
    "    \"\"\"Removes the likelihood return from a transition function.\"\"\"\n",
    "\n",
    "    def sample_(obs: Tensor, act: Tensor) -> Tensor:\n",
    "        return sampler(obs, act)[0].rename(None)\n",
    "\n",
    "    return sample_"
   ]
  },
  {
   "cell_type": "markdown",
   "id": "b3dc46ab-6eed-4dce-a594-74529d1c52f4",
   "metadata": {},
   "source": [
    "### Training"
   ]
  },
  {
   "cell_type": "code",
   "execution_count": 3,
   "id": "8e9bee85-ec17-4454-80df-c6869d0194c8",
   "metadata": {},
   "outputs": [
    {
     "name": "stderr",
     "output_type": "stream",
     "text": [
      "\u001b[34m\u001b[1mwandb\u001b[0m: W&B syncing is set to `offline` in this directory.  Run `wandb online` or set WANDB_MODE=online to enable cloud syncing.\n"
     ]
    }
   ],
   "source": [
    "config = {\n",
    "    \"wandb\": {\"name\": \"Debug\", \"mode\": \"offline\"},\n",
    "    \"learning_rate\": 1e-3,\n",
    "    \"weight_decay\": 1e-4,\n",
    "    \"seed\": 124,\n",
    "    \"env_config\": {\n",
    "        \"n_state\": 2,\n",
    "        \"n_ctrl\": 2,\n",
    "        \"horizon\": 50,\n",
    "        \"passive_eigval_range\": (0.9, 1.1),\n",
    "    },\n",
    "    \"model\": {\"type\": \"linear\"},\n",
    "    \"pred_horizon\": 4,\n",
    "    \"zero_q\": False,\n",
    "    \"datamodule\": {\n",
    "        \"trajectories\": 2000,\n",
    "        \"train_batch_size\": 128,\n",
    "        \"val_loss_batch_size\": 128,\n",
    "        \"val_grad_batch_size\": 256,\n",
    "        \"seq_len\": 4,\n",
    "    },\n",
    "    \"trainer\": dict(\n",
    "        max_epochs=50,\n",
    "        weights_summary=\"full\",\n",
    "    ),\n",
    "}\n",
    "experiment = Experiment(config)"
   ]
  },
  {
   "cell_type": "markdown",
   "id": "b7c953da-1d7c-4055-8b4a-ce0060548c86",
   "metadata": {
    "tags": []
   },
   "source": [
    "#### Generate LQG\n",
    "$p^*(s, a) = \\mathcal{N}(\\mathbf{F}_s s + \\mathbf{F}_a a, \\mathbf{\\Sigma})$\n",
    "\n",
    "$R(s, a) = - \\tfrac{1}{2} [s, a]^\\intercal\\mathbf{C}[s, a] + \\mathbf{c}^\\intercal [s, a]$"
   ]
  },
  {
   "cell_type": "code",
   "execution_count": 4,
   "id": "86bb32c1-8b0c-4976-afc3-958b356e2dd6",
   "metadata": {},
   "outputs": [],
   "source": [
    "generator = LQGGenerator(\n",
    "    stationary=True,\n",
    "    controllable=True,\n",
    "    rng=np.random.default_rng(experiment.hparams.seed),\n",
    "    **experiment.hparams.env_config,\n",
    ")\n",
    "lqg, policy, model = make_modules(generator, experiment.hparams)"
   ]
  },
  {
   "cell_type": "code",
   "execution_count": 5,
   "id": "979e159f-ebad-4336-b09a-0e3d2bac7738",
   "metadata": {},
   "outputs": [],
   "source": [
    "lqg2, policy2, model2 = make_modules(\n",
    "    LQGGenerator(\n",
    "        stationary=True,\n",
    "        controllable=True,\n",
    "        rng=np.random.default_rng(experiment.hparams.seed),\n",
    "        **{**experiment.hparams.env_config, \"passive_eigval_range\": (0.5, 1.5)},\n",
    "    ),\n",
    "    experiment.hparams,\n",
    ")"
   ]
  },
  {
   "cell_type": "code",
   "execution_count": 6,
   "id": "adf93b1f-f327-4a75-9f29-c64ad87ca48f",
   "metadata": {},
   "outputs": [
    {
     "data": {
      "text/plain": [
       "tensor([[ 1.0689,  0.0089,  0.9776,  0.9827],\n",
       "        [ 0.0089,  1.0637,  0.2107, -0.1850]], names=('R', 'C'))"
      ]
     },
     "execution_count": 6,
     "metadata": {},
     "output_type": "execute_result"
    }
   ],
   "source": [
    "lqg.trans.standard_form().F.select(\"H\", 0)"
   ]
  },
  {
   "cell_type": "code",
   "execution_count": 7,
   "id": "3822b9fc-efe4-4a52-a240-f8bffc1ff8ca",
   "metadata": {},
   "outputs": [
    {
     "data": {
      "text/plain": [
       "tensor([[ 1.3447,  0.0446,  0.9776,  0.9827],\n",
       "        [ 0.0446,  1.3186,  0.2107, -0.1850]], names=('R', 'C'))"
      ]
     },
     "execution_count": 7,
     "metadata": {},
     "output_type": "execute_result"
    }
   ],
   "source": [
    "lqg2.trans.standard_form().F.select(\"H\", 0)"
   ]
  },
  {
   "cell_type": "code",
   "execution_count": 8,
   "id": "f73d3cde-eb73-4eab-b2e4-05637126f0aa",
   "metadata": {},
   "outputs": [
    {
     "data": {
      "text/plain": [
       "tensor([[ 0.4530, -0.2178,  0.0000,  0.0000],\n",
       "        [-0.2178,  3.5398,  0.0000,  0.0000],\n",
       "        [ 0.0000,  0.0000,  1.3662, -0.0420],\n",
       "        [ 0.0000,  0.0000, -0.0420,  0.7659]], names=('R', 'C'))"
      ]
     },
     "execution_count": 8,
     "metadata": {},
     "output_type": "execute_result"
    }
   ],
   "source": [
    "lqg.reward.standard_form().C.select(\"H\", 0)"
   ]
  },
  {
   "cell_type": "code",
   "execution_count": 9,
   "id": "b8679d6d-b00a-43cf-906e-16243ef07259",
   "metadata": {},
   "outputs": [
    {
     "data": {
      "text/plain": [
       "tensor([[ 0.4530, -0.2178,  0.0000,  0.0000],\n",
       "        [-0.2178,  3.5398,  0.0000,  0.0000],\n",
       "        [ 0.0000,  0.0000,  1.3662, -0.0420],\n",
       "        [ 0.0000,  0.0000, -0.0420,  0.7659]], names=('R', 'C'))"
      ]
     },
     "execution_count": 9,
     "metadata": {},
     "output_type": "execute_result"
    }
   ],
   "source": [
    "lqg2.reward.standard_form().C.select(\"H\", 0)"
   ]
  },
  {
   "cell_type": "code",
   "execution_count": 10,
   "id": "e751a980-1429-4171-a136-ceb290c9b072",
   "metadata": {},
   "outputs": [
    {
     "data": {
      "text/plain": [
       "torch.return_types.linalg_eigh(\n",
       "eigenvalues=tensor([0.4377, 0.7630, 1.3691, 3.5550]),\n",
       "eigenvectors=tensor([[-0.9975, -0.0000,  0.0000, -0.0700],\n",
       "        [-0.0700, -0.0000,  0.0000,  0.9975],\n",
       "        [-0.0000, -0.0694, -0.9976,  0.0000],\n",
       "        [-0.0000, -0.9976,  0.0694,  0.0000]]))"
      ]
     },
     "execution_count": 10,
     "metadata": {},
     "output_type": "execute_result"
    }
   ],
   "source": [
    "torch.linalg.eigh(lqg.reward.standard_form().C.select(\"H\", 0).rename(None))"
   ]
  },
  {
   "cell_type": "markdown",
   "id": "d9cae2e4-f1a9-4c6a-bfb5-825f1c429a67",
   "metadata": {},
   "source": [
    "#### Collect & Fit\n",
    "\n",
    "$\\{ s_i, a_i, s_i' \\}_{i=1}^{N} \\sim \\mu_\\theta$\n",
    "\n",
    "$\\psi' \\gets \\arg\\min_{\\psi} -\\tfrac{1}{N} \\sum_{i=1}^{N} \\log p_{\\psi}(s_i'|s_i, a_i)$"
   ]
  },
  {
   "cell_type": "code",
   "execution_count": 11,
   "id": "76849e3e-8352-4d5a-8e19-f261769bcd6b",
   "metadata": {},
   "outputs": [
    {
     "name": "stderr",
     "output_type": "stream",
     "text": [
      "GPU available: False, used: False\n",
      "TPU available: False, using: 0 TPU cores\n",
      "IPU available: False, using: 0 IPUs\n",
      "/home/angelo/.cache/pypoetry/virtualenvs/lqsvg-3RqEHojC-py3.8/lib/python3.8/site-packages/pytorch_lightning/trainer/data_loading.py:372: UserWarning: Your val_dataloader has `shuffle=True`, it is best practice to turn this off for val/test/predict dataloaders.\n",
      "  rank_zero_warn(\n",
      "/home/angelo/.cache/pypoetry/virtualenvs/lqsvg-3RqEHojC-py3.8/lib/python3.8/site-packages/pytorch_lightning/trainer/data_loading.py:105: UserWarning: The dataloader, val dataloader 0, does not have many workers which may be a bottleneck. Consider increasing the value of the `num_workers` argument` (try 8 which is the number of cpus on this machine) in the `DataLoader` init to improve performance.\n",
      "  rank_zero_warn(\n",
      "/home/angelo/.cache/pypoetry/virtualenvs/lqsvg-3RqEHojC-py3.8/lib/python3.8/site-packages/pytorch_lightning/trainer/data_loading.py:105: UserWarning: The dataloader, val dataloader 1, does not have many workers which may be a bottleneck. Consider increasing the value of the `num_workers` argument` (try 8 which is the number of cpus on this machine) in the `DataLoader` init to improve performance.\n",
      "  rank_zero_warn(\n"
     ]
    },
    {
     "name": "stdout",
     "output_type": "stream",
     "text": [
      "Validating: 0it [00:00, ?it/s]\n",
      "--------------------------------------------------------------------------------\n",
      "DATALOADER:0 VALIDATE RESULTS\n",
      "{'val/4/grad_acc': -0.15446124970912933,\n",
      " 'val/4/relative_value_err': 0.02911442518234253,\n",
      " 'val/4/relative_vval_err': 0.9325087666511536,\n",
      " 'val/empirical_kl': 6.381600379943848,\n",
      " 'val/loss': 4.444701194763184}\n",
      "--------------------------------------------------------------------------------\n",
      "DATALOADER:1 VALIDATE RESULTS\n",
      "{'val/4/grad_acc': -0.15446124970912933,\n",
      " 'val/4/relative_value_err': 0.02911442518234253,\n",
      " 'val/4/relative_vval_err': 0.9325087666511536,\n",
      " 'val/empirical_kl': 6.381600379943848,\n",
      " 'val/loss': 4.444701194763184}\n",
      "--------------------------------------------------------------------------------\n",
      "Testing: 0it [00:00, ?it/s]\n"
     ]
    },
    {
     "name": "stderr",
     "output_type": "stream",
     "text": [
      "/home/angelo/.cache/pypoetry/virtualenvs/lqsvg-3RqEHojC-py3.8/lib/python3.8/site-packages/pytorch_lightning/trainer/data_loading.py:372: UserWarning: Your test_dataloader has `shuffle=True`, it is best practice to turn this off for val/test/predict dataloaders.\n",
      "  rank_zero_warn(\n",
      "/home/angelo/.cache/pypoetry/virtualenvs/lqsvg-3RqEHojC-py3.8/lib/python3.8/site-packages/pytorch_lightning/trainer/data_loading.py:105: UserWarning: The dataloader, test dataloader 0, does not have many workers which may be a bottleneck. Consider increasing the value of the `num_workers` argument` (try 8 which is the number of cpus on this machine) in the `DataLoader` init to improve performance.\n",
      "  rank_zero_warn(\n",
      "/home/angelo/.cache/pypoetry/virtualenvs/lqsvg-3RqEHojC-py3.8/lib/python3.8/site-packages/pytorch_lightning/trainer/data_loading.py:105: UserWarning: The dataloader, test dataloader 1, does not have many workers which may be a bottleneck. Consider increasing the value of the `num_workers` argument` (try 8 which is the number of cpus on this machine) in the `DataLoader` init to improve performance.\n",
      "  rank_zero_warn(\n"
     ]
    },
    {
     "name": "stdout",
     "output_type": "stream",
     "text": [
      "--------------------------------------------------------------------------------\n",
      "DATALOADER:0 TEST RESULTS\n",
      "{'test/4/grad_acc': -0.8036062717437744,\n",
      " 'test/4/relative_value_err': 0.4735124111175537,\n",
      " 'test/4/relative_vval_err': 0.009688704274594784,\n",
      " 'test/empirical_kl': 0.0002996844705194235,\n",
      " 'test/loss': 2.8299174308776855}\n",
      "--------------------------------------------------------------------------------\n",
      "DATALOADER:1 TEST RESULTS\n",
      "{'test/4/grad_acc': -0.8036062717437744,\n",
      " 'test/4/relative_value_err': 0.4735124111175537,\n",
      " 'test/4/relative_vval_err': 0.009688704274594784,\n",
      " 'test/empirical_kl': 0.0002996844705194235,\n",
      " 'test/loss': 2.8299174308776855}\n",
      "--------------------------------------------------------------------------------\n"
     ]
    }
   ],
   "source": [
    "SAVE_PATH = \"state_dict124.pt\"\n",
    "\n",
    "datamodule = DataModule(lqg, policy, DataSpec(**experiment.hparams.datamodule))\n",
    "trainer = pl.Trainer(\n",
    "    default_root_dir=experiment.run.dir,\n",
    "    logger=False,\n",
    "    callbacks=[pl.callbacks.EarlyStopping(\"val/loss\")],\n",
    "                                num_sanity_val_steps=0,  # avoid evaluating gradients in the beginning?\n",
    "    checkpoint_callback=False,  # don't save last model checkpoint\n",
    "    **experiment.hparams.trainer,\n",
    ")\n",
    "\n",
    "trainer.validate(model, datamodule=datamodule)\n",
    "if os.path.exists(SAVE_PATH):\n",
    "    model.model.load_state_dict(torch.load(SAVE_PATH))\n",
    "else:\n",
    "    trainer.fit(model, datamodule=datamodule)\n",
    "    torch.save(model.model.state_dict(), SAVE_PATH)\n",
    "final_eval = trainer.test(model, datamodule=datamodule)"
   ]
  },
  {
   "cell_type": "markdown",
   "id": "dc1cc0fa-a8fa-4bc4-8732-345c3f38d662",
   "metadata": {},
   "source": [
    "### Get the validation data"
   ]
  },
  {
   "cell_type": "code",
   "execution_count": 12,
   "id": "7583a6cc-d17a-478e-9eb6-f1cd730d14f3",
   "metadata": {},
   "outputs": [],
   "source": [
    "_, val_loader = datamodule.val_dataloader()"
   ]
  },
  {
   "cell_type": "code",
   "execution_count": 13,
   "id": "d915fe50-9063-4eb9-b4f0-a6513d46a7dd",
   "metadata": {},
   "outputs": [],
   "source": [
    "(obs,) = next(iter(val_loader))"
   ]
  },
  {
   "cell_type": "code",
   "execution_count": 14,
   "id": "e93afe39-8bc6-4926-9532-b1a091a2abe6",
   "metadata": {},
   "outputs": [],
   "source": [
    "obs = obs.refine_names(\"B\", \"R\")"
   ]
  },
  {
   "cell_type": "markdown",
   "id": "a6c0c337-86b8-4c2c-8323-e3b572025232",
   "metadata": {},
   "source": [
    "### Get the true value and SVG"
   ]
  },
  {
   "cell_type": "code",
   "execution_count": 15,
   "id": "702cedbb-7065-42ec-b9f4-cc25fcc8bcc7",
   "metadata": {},
   "outputs": [],
   "source": [
    "val, svg = model.true_val, lqr.Linear(model.true_svg_K, model.true_svg_k)"
   ]
  },
  {
   "cell_type": "code",
   "execution_count": 16,
   "id": "3e4992e1-31a3-4f88-9e54-8cc9f32fa43f",
   "metadata": {},
   "outputs": [
    {
     "data": {
      "text/plain": [
       "tensor(-322.6437, grad_fn=<NegBackward>)"
      ]
     },
     "execution_count": 16,
     "metadata": {},
     "output_type": "execute_result"
    }
   ],
   "source": [
    "val"
   ]
  },
  {
   "cell_type": "code",
   "execution_count": 17,
   "id": "30724f8f-4039-486b-8f74-6268b35fc086",
   "metadata": {},
   "outputs": [
    {
     "data": {
      "text/plain": [
       "(tensor([[ 0.8923, -1.0159],\n",
       "         [ 0.5689,  1.1825]]),\n",
       " tensor([0., 0.]))"
      ]
     },
     "execution_count": 17,
     "metadata": {},
     "output_type": "execute_result"
    }
   ],
   "source": [
    "svg.K[0], svg.k[0]"
   ]
  },
  {
   "cell_type": "markdown",
   "id": "55ccbd5e-b77f-45e5-9e68-69a10789c9b0",
   "metadata": {},
   "source": [
    "### Evaluate MAAC(K) with the true model"
   ]
  },
  {
   "cell_type": "code",
   "execution_count": 18,
   "id": "aceb37b7-6d31-48a0-bbb5-8c71a7ec6e70",
   "metadata": {},
   "outputs": [],
   "source": [
    "maac_true = estimator.maac_estimator(\n",
    "    policy,\n",
    "    data.markovian_state_sampler(lqg.trans, lqg.trans.rsample),\n",
    "    lqg.reward,\n",
    "    QuadQValue.from_policy(\n",
    "        policy.standard_form(), lqg.trans.standard_form(), lqg.reward.standard_form()\n",
    "    ),\n",
    ")"
   ]
  },
  {
   "cell_type": "code",
   "execution_count": 19,
   "id": "aa43d310-f2f2-432e-8cad-ac93ab4e5124",
   "metadata": {},
   "outputs": [],
   "source": [
    "mc_val, mc_svg = maac_true(obs, 4)"
   ]
  },
  {
   "cell_type": "code",
   "execution_count": 20,
   "id": "abcade87-2d1f-45be-abf1-1359444f57ef",
   "metadata": {},
   "outputs": [
    {
     "data": {
      "text/plain": [
       "tensor(-177.9416, grad_fn=<MeanBackward0>)"
      ]
     },
     "execution_count": 20,
     "metadata": {},
     "output_type": "execute_result"
    }
   ],
   "source": [
    "mc_val"
   ]
  },
  {
   "cell_type": "code",
   "execution_count": 21,
   "id": "875b0fbe-5ce8-493e-beb8-a42d57734728",
   "metadata": {},
   "outputs": [
    {
     "data": {
      "text/plain": [
       "tensor([[ 0.0423, -0.0112],\n",
       "        [-0.0351,  0.0136]])"
      ]
     },
     "execution_count": 21,
     "metadata": {},
     "output_type": "execute_result"
    }
   ],
   "source": [
    "mc_svg.K[0]"
   ]
  },
  {
   "cell_type": "code",
   "execution_count": 22,
   "id": "f0d58493-3538-4880-819f-6f6903d6bc95",
   "metadata": {},
   "outputs": [
    {
     "name": "stdout",
     "output_type": "stream",
     "text": [
      "tensor(0.8791)\n"
     ]
    }
   ],
   "source": [
    "print(analysis.cosine_similarity(svg, mc_svg))"
   ]
  },
  {
   "cell_type": "markdown",
   "id": "b72e526c-1ad5-45a0-b8bf-feed0f4cc9f8",
   "metadata": {},
   "source": [
    "### Evaluate MAAC(K) with the learned model"
   ]
  },
  {
   "cell_type": "code",
   "execution_count": 23,
   "id": "c4d579ab-f9fe-4c14-bbbd-8e098c45695c",
   "metadata": {},
   "outputs": [
    {
     "name": "stdout",
     "output_type": "stream",
     "text": [
      "tensor(0.7341)\n",
      "tensor(-0.4849)\n",
      "tensor(-0.6926)\n",
      "tensor(-0.7580)\n",
      "tensor(-0.7711)\n",
      "tensor(-0.7670)\n",
      "tensor(-0.8294)\n",
      "tensor(-0.8205)\n"
     ]
    }
   ],
   "source": [
    "for k in range(8):\n",
    "    print(analysis.cosine_similarity(svg, model.estimator(obs, k)[1]))"
   ]
  },
  {
   "cell_type": "markdown",
   "id": "bd9c4421-c8bc-479a-a5de-b739a98864e1",
   "metadata": {},
   "source": [
    "### Compare model predictions"
   ]
  },
  {
   "cell_type": "code",
   "execution_count": 24,
   "id": "fede379f-a3ac-4c7f-b57a-f28ceac52c76",
   "metadata": {},
   "outputs": [],
   "source": [
    "state_action_dynamics = obs_only(\n",
    "    data.markovian_state_sampler(lqg.trans, lqg.trans.rsample)\n",
    ")\n",
    "state_action_model = obs_only(\n",
    "    data.markovian_state_sampler(model.model, model.model.dist.rsample)\n",
    ")"
   ]
  },
  {
   "cell_type": "code",
   "execution_count": 25,
   "id": "8188df5d-c404-4b93-b139-9104e40cb4e6",
   "metadata": {},
   "outputs": [],
   "source": [
    "def state_dynamics(obs: Tensor) -> Tensor:\n",
    "    return state_action_dynamics(obs, policy(obs))\n",
    "\n",
    "\n",
    "def state_model(obs: Tensor) -> Tensor:\n",
    "    return state_action_model(obs, policy(obs))"
   ]
  },
  {
   "cell_type": "code",
   "execution_count": 26,
   "id": "4024cca6-c257-4453-b1a6-c0cd92604ca0",
   "metadata": {},
   "outputs": [],
   "source": [
    "def state_mean_dynamics(obs: Tensor) -> Tensor:\n",
    "    return lqg.trans(obs, policy(obs))[\"loc\"]\n",
    "\n",
    "\n",
    "def state_mean_model(obs: Tensor) -> Tensor:\n",
    "    return model.model(obs, policy(obs))[\"loc\"]"
   ]
  },
  {
   "cell_type": "code",
   "execution_count": 27,
   "id": "be2a5efc-7d1e-463e-aa81-bdf3a11f390f",
   "metadata": {},
   "outputs": [
    {
     "data": {
      "text/plain": [
       "tensor(7.6905e-05, grad_fn=<MseLossBackward>)"
      ]
     },
     "execution_count": 27,
     "metadata": {},
     "output_type": "execute_result"
    }
   ],
   "source": [
    "nn.MSELoss()(state_mean_dynamics(obs).rename(None), state_mean_model(obs).rename(None))"
   ]
  },
  {
   "cell_type": "markdown",
   "id": "3c371fe7-7e0c-4964-991a-98be55f10b71",
   "metadata": {},
   "source": [
    "### Compare model Jacobians"
   ]
  },
  {
   "cell_type": "code",
   "execution_count": 28,
   "id": "db7c1930-1b77-4946-b7b5-bd4f3605c6ef",
   "metadata": {},
   "outputs": [],
   "source": [
    "true_jacobian = torch.cat(\n",
    "    autograd.functional.jacobian(\n",
    "        state_action_dynamics, (obs.select(\"B\", 0), policy(obs.select(\"B\", 0)))\n",
    "    ),\n",
    "    axis=-1,\n",
    ")"
   ]
  },
  {
   "cell_type": "code",
   "execution_count": 29,
   "id": "771dfa20-13b7-4a4f-a9fb-a7f524f5b339",
   "metadata": {},
   "outputs": [
    {
     "name": "stdout",
     "output_type": "stream",
     "text": [
      "State-action Jacobian:\n",
      " tensor([[ 1.0689,  0.0089,  0.0000,  0.9776,  0.9827],\n",
      "        [ 0.0089,  1.0637,  0.0000,  0.2107, -0.1850],\n",
      "        [ 0.0000,  0.0000,  0.0000,  0.0000,  0.0000]])\n",
      "Dynamics kernel:\n",
      " tensor([[ 1.0689,  0.0089,  0.9776,  0.9827],\n",
      "        [ 0.0089,  1.0637,  0.2107, -0.1850]], names=('R', 'C'))\n"
     ]
    }
   ],
   "source": [
    "print(\"State-action Jacobian:\\n\", true_jacobian)\n",
    "print(\"Dynamics kernel:\\n\", lqg.trans.standard_form().F.select(\"H\", 0))"
   ]
  },
  {
   "cell_type": "code",
   "execution_count": 30,
   "id": "564a27ee-24fb-4352-9029-c27245b9445b",
   "metadata": {},
   "outputs": [],
   "source": [
    "model_jacobian = torch.cat(\n",
    "    autograd.functional.jacobian(\n",
    "        state_action_model, (obs.select(\"B\", 0), policy(obs.select(\"B\", 0))),\n",
    "    ),\n",
    "    axis=-1\n",
    ")"
   ]
  },
  {
   "cell_type": "code",
   "execution_count": 31,
   "id": "37eb603d-dc61-4574-9550-73dbae80b77d",
   "metadata": {},
   "outputs": [
    {
     "name": "stdout",
     "output_type": "stream",
     "text": [
      "Model Jacobian:\n",
      " tensor([[-0.1072, -0.0347,  0.0000, -0.0238,  0.0202],\n",
      "        [ 0.0403,  0.3481,  0.0000, -0.2826,  0.3444],\n",
      "        [ 0.0000,  0.0000,  0.0000,  0.0000,  0.0000]])\n"
     ]
    }
   ],
   "source": [
    "print(\"Model Jacobian:\\n\", model_jacobian)"
   ]
  },
  {
   "cell_type": "markdown",
   "id": "ce783e92-a5ea-45db-9c79-0e852c8e8931",
   "metadata": {},
   "source": [
    "**Cosine similarity between rows/cols of the Jacobians**"
   ]
  },
  {
   "cell_type": "code",
   "execution_count": 32,
   "id": "35feef23-d114-4ff7-a539-1ea03d31da5c",
   "metadata": {},
   "outputs": [
    {
     "name": "stdout",
     "output_type": "stream",
     "text": [
      "tensor(-0.5780)\n",
      "tensor(0.3968)\n"
     ]
    }
   ],
   "source": [
    "for row in range(2):\n",
    "    true_Ji = true_jacobian[row, :]\n",
    "    model_Ji = model_jacobian[row, :]\n",
    "    print(analysis.cosine_similarity(true_Ji, model_Ji))"
   ]
  },
  {
   "cell_type": "code",
   "execution_count": 33,
   "id": "db9643ad-404d-45b4-81ed-cdaad30620f7",
   "metadata": {},
   "outputs": [
    {
     "name": "stdout",
     "output_type": "stream",
     "text": [
      "tensor(-0.9330)\n",
      "tensor(0.9942)\n",
      "tensor(-0.2921)\n",
      "tensor(-0.1270)\n"
     ]
    }
   ],
   "source": [
    "for col in (0, 1, 3, 4):\n",
    "    true_Ji = true_jacobian[:, col]\n",
    "    model_Ji = model_jacobian[:, col]\n",
    "    print(analysis.cosine_similarity(true_Ji, model_Ji))"
   ]
  },
  {
   "cell_type": "markdown",
   "id": "eb48758e-e537-45e9-86b3-fc3e1c95cc41",
   "metadata": {},
   "source": [
    "**Inspecting the on-policy state transition Jacobians**"
   ]
  },
  {
   "cell_type": "code",
   "execution_count": 34,
   "id": "f785e06d-2073-44af-b5c7-c30844cb361c",
   "metadata": {},
   "outputs": [
    {
     "data": {
      "text/plain": [
       "tensor([[-1.0490e-01, -3.9116e-08,  0.0000e+00],\n",
       "        [ 6.5193e-09,  7.8521e-01,  0.0000e+00],\n",
       "        [ 0.0000e+00,  0.0000e+00,  0.0000e+00]])"
      ]
     },
     "execution_count": 34,
     "metadata": {},
     "output_type": "execute_result"
    }
   ],
   "source": [
    "jac_state_dynamics = autograd.functional.jacobian(state_dynamics, obs.select(\"B\", 0))\n",
    "jac_state_dynamics"
   ]
  },
  {
   "cell_type": "code",
   "execution_count": 35,
   "id": "6745bcc9-2b2c-4d07-aa47-12abae76dde9",
   "metadata": {},
   "outputs": [
    {
     "data": {
      "text/plain": [
       "tensor([[-0.1057, -0.0037,  0.0000],\n",
       "        [-0.0069,  0.7887,  0.0000],\n",
       "        [ 0.0000,  0.0000,  0.0000]])"
      ]
     },
     "execution_count": 35,
     "metadata": {},
     "output_type": "execute_result"
    }
   ],
   "source": [
    "jac_state_model = autograd.functional.jacobian(state_model, obs.select(\"B\", 0))\n",
    "jac_state_model"
   ]
  },
  {
   "cell_type": "code",
   "execution_count": 36,
   "id": "3ed23070-edfc-45b8-ab3c-68a696a80757",
   "metadata": {},
   "outputs": [
    {
     "data": {
      "text/plain": [
       "tensor(-0.0824)"
      ]
     },
     "execution_count": 36,
     "metadata": {},
     "output_type": "execute_result"
    }
   ],
   "source": [
    "torch.linalg.det(jac_state_dynamics[:2, :2])"
   ]
  },
  {
   "cell_type": "code",
   "execution_count": 37,
   "id": "c2197df9-fb82-40eb-83e1-05eaface5e35",
   "metadata": {},
   "outputs": [
    {
     "data": {
      "text/plain": [
       "tensor(-0.0834)"
      ]
     },
     "execution_count": 37,
     "metadata": {},
     "output_type": "execute_result"
    }
   ],
   "source": [
    "torch.linalg.det(jac_state_model[:2, :2])"
   ]
  },
  {
   "cell_type": "code",
   "execution_count": 38,
   "id": "50af1e66-29ad-42cb-bc16-c2423c10f710",
   "metadata": {},
   "outputs": [
    {
     "data": {
      "text/plain": [
       "tensor(0.0086)"
      ]
     },
     "execution_count": 38,
     "metadata": {},
     "output_type": "execute_result"
    }
   ],
   "source": [
    "torch.linalg.norm(jac_state_model[:2, :2] - jac_state_dynamics[:2, :2])"
   ]
  },
  {
   "cell_type": "markdown",
   "id": "95da4413-7e3a-4e9b-b7d8-831ab3a3c0aa",
   "metadata": {},
   "source": [
    "### Inspecting the optimization surface"
   ]
  },
  {
   "cell_type": "code",
   "execution_count": 39,
   "id": "acbae759-0718-432a-b429-38edee022067",
   "metadata": {},
   "outputs": [
    {
     "name": "stdout",
     "output_type": "stream",
     "text": [
      "Figure(432x288)\n"
     ]
    }
   ],
   "source": [
    "dynamics, cost, init = lqg.standard_form()\n",
    "f_delta = analysis.delta_to_return(policy.standard_form(), dynamics, cost, init)\n",
    "direction = ut.tensors_to_vector(model.estimator(obs, 4)[1])\n",
    "X, Y, Z = analysis.optimization_surface(f_delta, direction.numpy(), rng=2985489)\n",
    "\n",
    "fig = plt.figure(figsize=plot.default_figsize())\n",
    "plot.plot_surface(X, Y, Z, invert_xaxis=True)\n",
    "plt.show()"
   ]
  },
  {
   "cell_type": "code",
   "execution_count": 42,
   "id": "3c752333-9230-4514-869c-119bbef87aed",
   "metadata": {},
   "outputs": [
    {
     "name": "stdout",
     "output_type": "stream",
     "text": [
      "Figure(432x288)\n"
     ]
    }
   ],
   "source": [
    "plt.plot(np.arange(10), np.arange(10)[::-1])\n",
    "plt.show();"
   ]
  },
  {
   "cell_type": "code",
   "execution_count": null,
   "id": "ee4d2b85-d1d9-4d50-bd3d-0868d62f3ed6",
   "metadata": {},
   "outputs": [],
   "source": []
  }
 ],
 "metadata": {
  "kernelspec": {
   "display_name": "Python 3 (ipykernel)",
   "language": "python",
   "name": "python3"
  },
  "language_info": {
   "codemirror_mode": {
    "name": "ipython",
    "version": 3
   },
   "file_extension": ".py",
   "mimetype": "text/x-python",
   "name": "python",
   "nbconvert_exporter": "python",
   "pygments_lexer": "ipython3",
   "version": "3.8.10"
  }
 },
 "nbformat": 4,
 "nbformat_minor": 5
}
