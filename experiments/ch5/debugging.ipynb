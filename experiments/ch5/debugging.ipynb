{
 "cells": [
  {
   "cell_type": "code",
   "execution_count": 1,
   "id": "b2314385-2ca5-490b-9eca-611bfa81a5fb",
   "metadata": {},
   "outputs": [],
   "source": [
    "import functools\n",
    "import os\n",
    "from typing import Callable, Iterable, Sequence, Union\n",
    "\n",
    "import numpy as np\n",
    "import pytorch_lightning as pl\n",
    "import torch\n",
    "from lqsvg import analysis, data, estimator\n",
    "from lqsvg.envs import lqr\n",
    "from lqsvg.envs.lqr.generators import LQGGenerator\n",
    "from lqsvg.torch.nn.value import QuadQValue\n",
    "from torch import Tensor, autograd, nn\n",
    "\n",
    "from model_training_static_policy import DataModule, DataSpec, Experiment, make_modules"
   ]
  },
  {
   "cell_type": "code",
   "execution_count": 2,
   "id": "0443745a-dcce-48d3-9328-68ba716ff710",
   "metadata": {},
   "outputs": [],
   "source": [
    "def obs_only(sampler: data.StateDynamics) -> Callable[[Tensor, Tensor], Tensor]:\n",
    "    \"\"\"Removes the likelihood return from a transition function.\"\"\"\n",
    "\n",
    "    def sample_(obs: Tensor, act: Tensor) -> Tensor:\n",
    "        return sampler(obs, act)[0].rename(None)\n",
    "\n",
    "    return sample_"
   ]
  },
  {
   "cell_type": "markdown",
   "id": "b3dc46ab-6eed-4dce-a594-74529d1c52f4",
   "metadata": {},
   "source": [
    "### Training"
   ]
  },
  {
   "cell_type": "code",
   "execution_count": 3,
   "id": "8e9bee85-ec17-4454-80df-c6869d0194c8",
   "metadata": {},
   "outputs": [
    {
     "name": "stderr",
     "output_type": "stream",
     "text": [
      "\u001b[34m\u001b[1mwandb\u001b[0m: W&B syncing is set to `offline` in this directory.  Run `wandb online` or set WANDB_MODE=online to enable cloud syncing.\n"
     ]
    }
   ],
   "source": [
    "config = {\n",
    "    \"wandb\": {\"name\": \"Debug\", \"mode\": \"offline\"},\n",
    "    \"learning_rate\": 1e-3,\n",
    "    \"weight_decay\": 1e-4,\n",
    "    \"seed\": 124,\n",
    "    \"env_config\": {\n",
    "        \"n_state\": 2,\n",
    "        \"n_ctrl\": 2,\n",
    "        \"horizon\": 50,\n",
    "        \"passive_eigval_range\": (0.9, 1.1),\n",
    "    },\n",
    "    \"model\": {\"type\": \"linear\"},\n",
    "    \"pred_horizon\": 4,\n",
    "    \"zero_q\": False,\n",
    "    \"datamodule\": {\n",
    "        \"trajectories\": 2000,\n",
    "        \"train_batch_size\": 128,\n",
    "        \"val_loss_batch_size\": 128,\n",
    "        \"val_grad_batch_size\": 256,\n",
    "        \"seq_len\": 4,\n",
    "    },\n",
    "    \"trainer\": dict(\n",
    "        max_epochs=50,\n",
    "        weights_summary=\"full\",\n",
    "    ),\n",
    "}\n",
    "experiment = Experiment(config)"
   ]
  },
  {
   "cell_type": "code",
   "execution_count": 4,
   "id": "86bb32c1-8b0c-4976-afc3-958b356e2dd6",
   "metadata": {},
   "outputs": [],
   "source": [
    "generator = LQGGenerator(\n",
    "    stationary=True,\n",
    "    controllable=True,\n",
    "    rng=np.random.default_rng(experiment.hparams.seed),\n",
    "    **experiment.hparams.env_config,\n",
    ")\n",
    "lqg, policy, model = make_modules(generator, experiment.hparams)"
   ]
  },
  {
   "cell_type": "code",
   "execution_count": 5,
   "id": "979e159f-ebad-4336-b09a-0e3d2bac7738",
   "metadata": {},
   "outputs": [],
   "source": [
    "lqg2, policy2, model2 = make_modules(\n",
    "    LQGGenerator(\n",
    "        stationary=True,\n",
    "        controllable=True,\n",
    "        rng=np.random.default_rng(experiment.hparams.seed),\n",
    "        **{**experiment.hparams.env_config, \"passive_eigval_range\": (0.5, 1.5)},\n",
    "    ),\n",
    "    experiment.hparams,\n",
    ")"
   ]
  },
  {
   "cell_type": "code",
   "execution_count": 6,
   "id": "adf93b1f-f327-4a75-9f29-c64ad87ca48f",
   "metadata": {},
   "outputs": [
    {
     "data": {
      "text/plain": [
       "tensor([[ 1.0689,  0.0089,  0.9776,  0.9827],\n",
       "        [ 0.0089,  1.0637,  0.2107, -0.1850]], names=('R', 'C'))"
      ]
     },
     "execution_count": 6,
     "metadata": {},
     "output_type": "execute_result"
    }
   ],
   "source": [
    "lqg.trans.standard_form().F.select(\"H\", 0)"
   ]
  },
  {
   "cell_type": "code",
   "execution_count": 7,
   "id": "3822b9fc-efe4-4a52-a240-f8bffc1ff8ca",
   "metadata": {},
   "outputs": [
    {
     "data": {
      "text/plain": [
       "tensor([[ 1.3447,  0.0446,  0.9776,  0.9827],\n",
       "        [ 0.0446,  1.3186,  0.2107, -0.1850]], names=('R', 'C'))"
      ]
     },
     "execution_count": 7,
     "metadata": {},
     "output_type": "execute_result"
    }
   ],
   "source": [
    "lqg2.trans.standard_form().F.select(\"H\", 0)"
   ]
  },
  {
   "cell_type": "code",
   "execution_count": 8,
   "id": "f73d3cde-eb73-4eab-b2e4-05637126f0aa",
   "metadata": {},
   "outputs": [
    {
     "data": {
      "text/plain": [
       "tensor([[ 0.4530, -0.2178,  0.0000,  0.0000],\n",
       "        [-0.2178,  3.5398,  0.0000,  0.0000],\n",
       "        [ 0.0000,  0.0000,  1.3662, -0.0420],\n",
       "        [ 0.0000,  0.0000, -0.0420,  0.7659]], names=('R', 'C'))"
      ]
     },
     "execution_count": 8,
     "metadata": {},
     "output_type": "execute_result"
    }
   ],
   "source": [
    "lqg.reward.standard_form().C.select(\"H\", 0)"
   ]
  },
  {
   "cell_type": "code",
   "execution_count": 9,
   "id": "b8679d6d-b00a-43cf-906e-16243ef07259",
   "metadata": {},
   "outputs": [
    {
     "data": {
      "text/plain": [
       "tensor([[ 0.4530, -0.2178,  0.0000,  0.0000],\n",
       "        [-0.2178,  3.5398,  0.0000,  0.0000],\n",
       "        [ 0.0000,  0.0000,  1.3662, -0.0420],\n",
       "        [ 0.0000,  0.0000, -0.0420,  0.7659]], names=('R', 'C'))"
      ]
     },
     "execution_count": 9,
     "metadata": {},
     "output_type": "execute_result"
    }
   ],
   "source": [
    "lqg2.reward.standard_form().C.select(\"H\", 0)"
   ]
  },
  {
   "cell_type": "code",
   "execution_count": 10,
   "id": "e751a980-1429-4171-a136-ceb290c9b072",
   "metadata": {},
   "outputs": [
    {
     "data": {
      "text/plain": [
       "torch.return_types.linalg_eigh(\n",
       "eigenvalues=tensor([0.4377, 0.7630, 1.3691, 3.5550]),\n",
       "eigenvectors=tensor([[-0.9975, -0.0000,  0.0000, -0.0700],\n",
       "        [-0.0700, -0.0000,  0.0000,  0.9975],\n",
       "        [-0.0000, -0.0694, -0.9976,  0.0000],\n",
       "        [-0.0000, -0.9976,  0.0694,  0.0000]]))"
      ]
     },
     "execution_count": 10,
     "metadata": {},
     "output_type": "execute_result"
    }
   ],
   "source": [
    "torch.linalg.eigh(lqg.reward.standard_form().C.select(\"H\", 0).rename(None))"
   ]
  },
  {
   "cell_type": "code",
   "execution_count": 12,
   "id": "76849e3e-8352-4d5a-8e19-f261769bcd6b",
   "metadata": {},
   "outputs": [
    {
     "name": "stderr",
     "output_type": "stream",
     "text": [
      "GPU available: False, used: False\n",
      "TPU available: False, using: 0 TPU cores\n",
      "IPU available: False, using: 0 IPUs\n",
      "/home/angelo/.cache/pypoetry/virtualenvs/lqsvg-3RqEHojC-py3.8/lib/python3.8/site-packages/pytorch_lightning/trainer/data_loading.py:372: UserWarning: Your val_dataloader has `shuffle=True`, it is best practice to turn this off for val/test/predict dataloaders.\n",
      "  rank_zero_warn(\n",
      "/home/angelo/.cache/pypoetry/virtualenvs/lqsvg-3RqEHojC-py3.8/lib/python3.8/site-packages/pytorch_lightning/trainer/data_loading.py:105: UserWarning: The dataloader, val dataloader 0, does not have many workers which may be a bottleneck. Consider increasing the value of the `num_workers` argument` (try 8 which is the number of cpus on this machine) in the `DataLoader` init to improve performance.\n",
      "  rank_zero_warn(\n",
      "/home/angelo/.cache/pypoetry/virtualenvs/lqsvg-3RqEHojC-py3.8/lib/python3.8/site-packages/pytorch_lightning/trainer/data_loading.py:105: UserWarning: The dataloader, val dataloader 1, does not have many workers which may be a bottleneck. Consider increasing the value of the `num_workers` argument` (try 8 which is the number of cpus on this machine) in the `DataLoader` init to improve performance.\n",
      "  rank_zero_warn(\n"
     ]
    },
    {
     "name": "stdout",
     "output_type": "stream",
     "text": [
      "Validating: 0it [00:00, ?it/s]\n"
     ]
    },
    {
     "name": "stderr",
     "output_type": "stream",
     "text": [
      "\n",
      "   | Name                           | Type                    | Params\n",
      "----------------------------------------------------------------------------\n",
      "0  | _lqg                           | LQGModule               | 1.8 K \n",
      "1  | _lqg.trans                     | LinearDynamicsModule    | 800   \n",
      "2  | _lqg.trans.params              | LinearNormalParams      | 800   \n",
      "3  | _lqg.trans.params.cov_cholesky | CholeskyFactor          | 300   \n",
      "4  | _lqg.trans.dist                | TVMultivariateNormal    | 0     \n",
      "5  | _lqg.reward                    | QuadraticReward         | 1.0 K \n",
      "6  | _lqg.init                      | InitStateModule         | 8     \n",
      "7  | _lqg.init.scale_tril           | CholeskyFactor          | 6     \n",
      "8  | _lqg.init.dist                 | TVMultivariateNormal    | 0     \n",
      "9  | _policy                        | TVLinearPolicy          | 300   \n",
      "10 | _policy.encoder                | Identity                | 0     \n",
      "11 | _policy.action_linear          | TVLinearFeedback        | 300   \n",
      "12 | _policy.squashing              | Identity                | 0     \n",
      "13 | model                          | LinearDiagDynamicsModel | 12    \n",
      "14 | model.params                   | LinearDiagNormalParams  | 12    \n",
      "15 | model.dist                     | TVMultivariateNormal    | 0     \n",
      "16 | _qval                          | QuadQValue              | 1.1 K \n",
      "17 | _vval                          | QuadVValue              | 357   \n",
      "----------------------------------------------------------------------------\n",
      "312       Trainable params\n",
      "3.2 K     Non-trainable params\n",
      "3.5 K     Total params\n",
      "0.014     Total estimated model params size (MB)\n"
     ]
    },
    {
     "name": "stdout",
     "output_type": "stream",
     "text": [
      "--------------------------------------------------------------------------------\n",
      "DATALOADER:0 VALIDATE RESULTS\n",
      "{'val/4/grad_acc': -0.3436862826347351,\n",
      " 'val/4/relative_value_err': 0.058996159583330154,\n",
      " 'val/4/relative_vval_err': 1.0137571096420288,\n",
      " 'val/empirical_kl': 6.437851428985596,\n",
      " 'val/loss': 4.444287300109863}\n",
      "--------------------------------------------------------------------------------\n",
      "DATALOADER:1 VALIDATE RESULTS\n",
      "{'val/4/grad_acc': -0.3436862826347351,\n",
      " 'val/4/relative_value_err': 0.058996159583330154,\n",
      " 'val/4/relative_vval_err': 1.0137571096420288,\n",
      " 'val/empirical_kl': 6.437851428985596,\n",
      " 'val/loss': 4.444287300109863}\n",
      "--------------------------------------------------------------------------------\n",
      "Training: -1it [00:00, ?it/s]\n"
     ]
    },
    {
     "name": "stderr",
     "output_type": "stream",
     "text": [
      "/home/angelo/.cache/pypoetry/virtualenvs/lqsvg-3RqEHojC-py3.8/lib/python3.8/site-packages/pytorch_lightning/trainer/data_loading.py:105: UserWarning: The dataloader, train dataloader, does not have many workers which may be a bottleneck. Consider increasing the value of the `num_workers` argument` (try 8 which is the number of cpus on this machine) in the `DataLoader` init to improve performance.\n",
      "  rank_zero_warn(\n"
     ]
    },
    {
     "name": "stdout",
     "output_type": "stream",
     "text": [
      "Validating: 0it [00:00, ?it/s]\n",
      "Validating: 0it [00:00, ?it/s]\n",
      "Validating: 0it [00:00, ?it/s]\n",
      "Validating: 0it [00:00, ?it/s]\n",
      "Validating: 0it [00:00, ?it/s]\n",
      "Validating: 0it [00:00, ?it/s]\n",
      "Validating: 0it [00:00, ?it/s]\n",
      "Validating: 0it [00:00, ?it/s]\n",
      "Validating: 0it [00:00, ?it/s]\n",
      "Validating: 0it [00:00, ?it/s]\n",
      "Validating: 0it [00:00, ?it/s]\n",
      "Validating: 0it [00:00, ?it/s]\n",
      "Validating: 0it [00:00, ?it/s]\n",
      "Validating: 0it [00:00, ?it/s]\n",
      "Validating: 0it [00:00, ?it/s]\n",
      "Validating: 0it [00:00, ?it/s]\n",
      "Validating: 0it [00:00, ?it/s]\n",
      "Validating: 0it [00:00, ?it/s]\n",
      "Validating: 0it [00:00, ?it/s]\n",
      "Validating: 0it [00:00, ?it/s]\n"
     ]
    },
    {
     "name": "stderr",
     "output_type": "stream",
     "text": [
      "/home/angelo/.cache/pypoetry/virtualenvs/lqsvg-3RqEHojC-py3.8/lib/python3.8/site-packages/pytorch_lightning/trainer/data_loading.py:372: UserWarning: Your test_dataloader has `shuffle=True`, it is best practice to turn this off for val/test/predict dataloaders.\n",
      "  rank_zero_warn(\n",
      "/home/angelo/.cache/pypoetry/virtualenvs/lqsvg-3RqEHojC-py3.8/lib/python3.8/site-packages/pytorch_lightning/trainer/data_loading.py:105: UserWarning: The dataloader, test dataloader 0, does not have many workers which may be a bottleneck. Consider increasing the value of the `num_workers` argument` (try 8 which is the number of cpus on this machine) in the `DataLoader` init to improve performance.\n",
      "  rank_zero_warn(\n",
      "/home/angelo/.cache/pypoetry/virtualenvs/lqsvg-3RqEHojC-py3.8/lib/python3.8/site-packages/pytorch_lightning/trainer/data_loading.py:105: UserWarning: The dataloader, test dataloader 1, does not have many workers which may be a bottleneck. Consider increasing the value of the `num_workers` argument` (try 8 which is the number of cpus on this machine) in the `DataLoader` init to improve performance.\n",
      "  rank_zero_warn(\n"
     ]
    },
    {
     "name": "stdout",
     "output_type": "stream",
     "text": [
      "Testing: 0it [00:00, ?it/s]\n",
      "--------------------------------------------------------------------------------\n",
      "DATALOADER:0 TEST RESULTS\n",
      "{'test/4/grad_acc': -0.8137210011482239,\n",
      " 'test/4/relative_value_err': 0.47244513034820557,\n",
      " 'test/4/relative_vval_err': 0.011561265215277672,\n",
      " 'test/empirical_kl': -0.0005883624544367194,\n",
      " 'test/loss': 2.8502163887023926}\n",
      "--------------------------------------------------------------------------------\n",
      "DATALOADER:1 TEST RESULTS\n",
      "{'test/4/grad_acc': -0.8137210011482239,\n",
      " 'test/4/relative_value_err': 0.47244513034820557,\n",
      " 'test/4/relative_vval_err': 0.011561265215277672,\n",
      " 'test/empirical_kl': -0.0005883624544367194,\n",
      " 'test/loss': 2.8502163887023926}\n",
      "--------------------------------------------------------------------------------\n"
     ]
    }
   ],
   "source": [
    "SAVE_PATH = \"state_dict124.pt\"\n",
    "\n",
    "datamodule = DataModule(lqg, policy, DataSpec(**experiment.hparams.datamodule))\n",
    "trainer = pl.Trainer(\n",
    "    default_root_dir=experiment.run.dir,\n",
    "    logger=False,\n",
    "    callbacks=[pl.callbacks.EarlyStopping(\"val/loss\")],\n",
    "                            num_sanity_val_steps=0,  # avoid evaluating gradients in the beginning?\n",
    "    checkpoint_callback=False,  # don't save last model checkpoint\n",
    "    **experiment.hparams.trainer,\n",
    ")\n",
    "\n",
    "trainer.validate(model, datamodule=datamodule)\n",
    "if os.path.exists(SAVE_PATH):\n",
    "    model.model.load_state_dict(torch.load(SAVE_PATH))\n",
    "else:\n",
    "    trainer.fit(model, datamodule=datamodule)\n",
    "    torch.save(model.model.state_dict(), SAVE_PATH)\n",
    "final_eval = trainer.test(model, datamodule=datamodule)"
   ]
  },
  {
   "cell_type": "markdown",
   "id": "dc1cc0fa-a8fa-4bc4-8732-345c3f38d662",
   "metadata": {},
   "source": [
    "### Get the validation data"
   ]
  },
  {
   "cell_type": "code",
   "execution_count": 13,
   "id": "7583a6cc-d17a-478e-9eb6-f1cd730d14f3",
   "metadata": {},
   "outputs": [],
   "source": [
    "_, val_loader = datamodule.val_dataloader()"
   ]
  },
  {
   "cell_type": "code",
   "execution_count": 14,
   "id": "d915fe50-9063-4eb9-b4f0-a6513d46a7dd",
   "metadata": {},
   "outputs": [],
   "source": [
    "(obs,) = next(iter(val_loader))"
   ]
  },
  {
   "cell_type": "code",
   "execution_count": 15,
   "id": "e93afe39-8bc6-4926-9532-b1a091a2abe6",
   "metadata": {},
   "outputs": [],
   "source": [
    "obs = obs.refine_names(\"B\", \"R\")"
   ]
  },
  {
   "cell_type": "markdown",
   "id": "a6c0c337-86b8-4c2c-8323-e3b572025232",
   "metadata": {},
   "source": [
    "### Get the true value and SVG"
   ]
  },
  {
   "cell_type": "code",
   "execution_count": 16,
   "id": "702cedbb-7065-42ec-b9f4-cc25fcc8bcc7",
   "metadata": {},
   "outputs": [],
   "source": [
    "val, svg = model.true_val, lqr.Linear(model.true_svg_K, model.true_svg_k)"
   ]
  },
  {
   "cell_type": "code",
   "execution_count": 17,
   "id": "30724f8f-4039-486b-8f74-6268b35fc086",
   "metadata": {},
   "outputs": [
    {
     "data": {
      "text/plain": [
       "tensor([[ 0.8923, -1.0159],\n",
       "        [ 0.5689,  1.1825]])"
      ]
     },
     "execution_count": 17,
     "metadata": {},
     "output_type": "execute_result"
    }
   ],
   "source": [
    "svg.K[0]"
   ]
  },
  {
   "cell_type": "markdown",
   "id": "55ccbd5e-b77f-45e5-9e68-69a10789c9b0",
   "metadata": {},
   "source": [
    "### Evaluate MAAC(K) with the true model"
   ]
  },
  {
   "cell_type": "code",
   "execution_count": 18,
   "id": "aceb37b7-6d31-48a0-bbb5-8c71a7ec6e70",
   "metadata": {},
   "outputs": [],
   "source": [
    "maac_true = estimator.maac_estimator(\n",
    "    policy,\n",
    "    data.markovian_state_sampler(lqg.trans, lqg.trans.rsample),\n",
    "    lqg.reward,\n",
    "    QuadQValue.from_policy(\n",
    "        policy.standard_form(), lqg.trans.standard_form(), lqg.reward.standard_form()\n",
    "    ),\n",
    ")"
   ]
  },
  {
   "cell_type": "code",
   "execution_count": 19,
   "id": "aa43d310-f2f2-432e-8cad-ac93ab4e5124",
   "metadata": {},
   "outputs": [],
   "source": [
    "mc_val, mc_svg = maac_true(obs, 4)"
   ]
  },
  {
   "cell_type": "code",
   "execution_count": 20,
   "id": "abcade87-2d1f-45be-abf1-1359444f57ef",
   "metadata": {},
   "outputs": [
    {
     "data": {
      "text/plain": [
       "tensor(-169.7705, grad_fn=<MeanBackward0>)"
      ]
     },
     "execution_count": 20,
     "metadata": {},
     "output_type": "execute_result"
    }
   ],
   "source": [
    "mc_val"
   ]
  },
  {
   "cell_type": "code",
   "execution_count": 21,
   "id": "875b0fbe-5ce8-493e-beb8-a42d57734728",
   "metadata": {},
   "outputs": [
    {
     "data": {
      "text/plain": [
       "tensor([[ 0.0710, -0.1295],\n",
       "        [-0.0109,  0.1175]])"
      ]
     },
     "execution_count": 21,
     "metadata": {},
     "output_type": "execute_result"
    }
   ],
   "source": [
    "mc_svg.K[0]"
   ]
  },
  {
   "cell_type": "code",
   "execution_count": 23,
   "id": "f0d58493-3538-4880-819f-6f6903d6bc95",
   "metadata": {},
   "outputs": [
    {
     "name": "stdout",
     "output_type": "stream",
     "text": [
      "tensor(0.7966)\n"
     ]
    }
   ],
   "source": [
    "print(analysis.cosine_similarity(svg, mc_svg))"
   ]
  },
  {
   "cell_type": "markdown",
   "id": "b72e526c-1ad5-45a0-b8bf-feed0f4cc9f8",
   "metadata": {},
   "source": [
    "### Evaluate MAAC(K) with the learned model"
   ]
  },
  {
   "cell_type": "code",
   "execution_count": 24,
   "id": "c4d579ab-f9fe-4c14-bbbd-8e098c45695c",
   "metadata": {},
   "outputs": [
    {
     "name": "stdout",
     "output_type": "stream",
     "text": [
      "tensor(0.7778)\n",
      "tensor(-0.5398)\n",
      "tensor(-0.7367)\n",
      "tensor(-0.8126)\n",
      "tensor(-0.8227)\n",
      "tensor(-0.8463)\n",
      "tensor(-0.8810)\n",
      "tensor(-0.8550)\n"
     ]
    }
   ],
   "source": [
    "for k in range(8):\n",
    "    print(analysis.cosine_similarity(svg, model.estimator(obs, k)[1]))"
   ]
  },
  {
   "cell_type": "markdown",
   "id": "bd9c4421-c8bc-479a-a5de-b739a98864e1",
   "metadata": {},
   "source": [
    "### Compare model predictions"
   ]
  },
  {
   "cell_type": "code",
   "execution_count": 25,
   "id": "fede379f-a3ac-4c7f-b57a-f28ceac52c76",
   "metadata": {},
   "outputs": [],
   "source": [
    "state_action_dynamics = obs_only(\n",
    "    data.markovian_state_sampler(lqg.trans, lqg.trans.rsample)\n",
    ")\n",
    "state_action_model = obs_only(\n",
    "    data.markovian_state_sampler(model.model, model.model.dist.rsample)\n",
    ")"
   ]
  },
  {
   "cell_type": "code",
   "execution_count": 26,
   "id": "8188df5d-c404-4b93-b139-9104e40cb4e6",
   "metadata": {},
   "outputs": [],
   "source": [
    "def state_dynamics(obs: Tensor) -> Tensor:\n",
    "    return state_action_dynamics(obs, policy(obs))\n",
    "\n",
    "def state_model(obs: Tensor) -> Tensor:\n",
    "    return state_action_model(obs, policy(obs))"
   ]
  },
  {
   "cell_type": "code",
   "execution_count": 27,
   "id": "4024cca6-c257-4453-b1a6-c0cd92604ca0",
   "metadata": {},
   "outputs": [],
   "source": [
    "def state_mean_dynamics(obs: Tensor) -> Tensor:\n",
    "    return lqg.trans(obs, policy(obs))[\"loc\"]\n",
    "\n",
    "def state_mean_model(obs: Tensor) -> Tensor:\n",
    "    return model.model(obs, policy(obs))[\"loc\"]"
   ]
  },
  {
   "cell_type": "code",
   "execution_count": 28,
   "id": "be2a5efc-7d1e-463e-aa81-bdf3a11f390f",
   "metadata": {},
   "outputs": [
    {
     "data": {
      "text/plain": [
       "tensor(8.3321e-05, grad_fn=<MseLossBackward>)"
      ]
     },
     "execution_count": 28,
     "metadata": {},
     "output_type": "execute_result"
    }
   ],
   "source": [
    "nn.MSELoss()(state_mean_dynamics(obs).rename(None), state_mean_model(obs).rename(None))"
   ]
  },
  {
   "cell_type": "markdown",
   "id": "3c371fe7-7e0c-4964-991a-98be55f10b71",
   "metadata": {},
   "source": [
    "### Compare model Jacobians"
   ]
  },
  {
   "cell_type": "code",
   "execution_count": 29,
   "id": "db7c1930-1b77-4946-b7b5-bd4f3605c6ef",
   "metadata": {},
   "outputs": [],
   "source": [
    "true_jac_s, true_jac_a = autograd.functional.jacobian(\n",
    "    state_action_dynamics, (obs.select(\"B\", 0), policy(obs.select(\"B\", 0)))\n",
    ")"
   ]
  },
  {
   "cell_type": "code",
   "execution_count": 30,
   "id": "771dfa20-13b7-4a4f-a9fb-a7f524f5b339",
   "metadata": {},
   "outputs": [
    {
     "name": "stdout",
     "output_type": "stream",
     "text": [
      "State-action Jacobian:\n",
      " tensor([[ 1.0689,  0.0089,  0.0000,  0.9776,  0.9827],\n",
      "        [ 0.0089,  1.0637,  0.0000,  0.2107, -0.1850],\n",
      "        [ 0.0000,  0.0000,  0.0000,  0.0000,  0.0000]])\n",
      "Dynamics kernel:\n",
      " tensor([[ 1.0689,  0.0089,  0.9776,  0.9827],\n",
      "        [ 0.0089,  1.0637,  0.2107, -0.1850]], names=('R', 'C'))\n"
     ]
    }
   ],
   "source": [
    "print(\"State-action Jacobian:\\n\", torch.cat((true_jac_s, true_jac_a), dim=-1))\n",
    "print(\"Dynamics kernel:\\n\", lqg.trans.standard_form().F.select(\"H\", 0))"
   ]
  },
  {
   "cell_type": "code",
   "execution_count": 31,
   "id": "564a27ee-24fb-4352-9029-c27245b9445b",
   "metadata": {},
   "outputs": [],
   "source": [
    "jac_s, jac_a = autograd.functional.jacobian(\n",
    "    state_action_model,\n",
    "    (obs.select(\"B\", 0), policy(obs.select(\"B\", 0))),\n",
    ")"
   ]
  },
  {
   "cell_type": "code",
   "execution_count": 32,
   "id": "37eb603d-dc61-4574-9550-73dbae80b77d",
   "metadata": {},
   "outputs": [
    {
     "name": "stdout",
     "output_type": "stream",
     "text": [
      "State-action Jacobian:\n",
      " tensor([[-0.1072, -0.0347,  0.0000, -0.0238,  0.0202],\n",
      "        [ 0.0403,  0.3481,  0.0000, -0.2826,  0.3444],\n",
      "        [ 0.0000,  0.0000,  0.0000,  0.0000,  0.0000]])\n"
     ]
    }
   ],
   "source": [
    "print(\"State-action Jacobian:\\n\", torch.cat((jac_s, jac_a), dim=-1))"
   ]
  },
  {
   "cell_type": "markdown",
   "id": "ce783e92-a5ea-45db-9c79-0e852c8e8931",
   "metadata": {},
   "source": [
    "**Cosine similarity between rows of the Jacobians**"
   ]
  },
  {
   "cell_type": "code",
   "execution_count": 33,
   "id": "35feef23-d114-4ff7-a539-1ea03d31da5c",
   "metadata": {},
   "outputs": [
    {
     "name": "stdout",
     "output_type": "stream",
     "text": [
      "tensor(-0.5780)\n",
      "tensor(0.3968)\n"
     ]
    }
   ],
   "source": [
    "for row in range(2):\n",
    "    true_Js, true_Ja, model_Js, model_Ja = (\n",
    "        t[..., row, :] for t in (true_jac_s, true_jac_a, jac_s, jac_a)\n",
    "    )\n",
    "    print(analysis.cosine_similarity((true_Js, true_Ja), (model_Js, model_Ja)))"
   ]
  },
  {
   "cell_type": "markdown",
   "id": "eb48758e-e537-45e9-86b3-fc3e1c95cc41",
   "metadata": {},
   "source": [
    "**Determinant of the on-policy state transition Jacobians**"
   ]
  },
  {
   "cell_type": "code",
   "execution_count": 34,
   "id": "f785e06d-2073-44af-b5c7-c30844cb361c",
   "metadata": {},
   "outputs": [
    {
     "data": {
      "text/plain": [
       "tensor([[-1.0490e-01, -3.9116e-08,  0.0000e+00],\n",
       "        [ 6.5193e-09,  7.8521e-01,  0.0000e+00],\n",
       "        [ 0.0000e+00,  0.0000e+00,  0.0000e+00]])"
      ]
     },
     "execution_count": 34,
     "metadata": {},
     "output_type": "execute_result"
    }
   ],
   "source": [
    "autograd.functional.jacobian(state_dynamics, obs.select(\"B\", 0))"
   ]
  },
  {
   "cell_type": "code",
   "execution_count": 35,
   "id": "3ed23070-edfc-45b8-ab3c-68a696a80757",
   "metadata": {},
   "outputs": [
    {
     "data": {
      "text/plain": [
       "tensor(-0.0824)"
      ]
     },
     "execution_count": 35,
     "metadata": {},
     "output_type": "execute_result"
    }
   ],
   "source": [
    "torch.linalg.det(autograd.functional.jacobian(state_dynamics, obs.select(\"B\", 0))[:2, :2])"
   ]
  },
  {
   "cell_type": "code",
   "execution_count": 36,
   "id": "c2197df9-fb82-40eb-83e1-05eaface5e35",
   "metadata": {},
   "outputs": [
    {
     "data": {
      "text/plain": [
       "tensor(-0.0834)"
      ]
     },
     "execution_count": 36,
     "metadata": {},
     "output_type": "execute_result"
    }
   ],
   "source": [
    "torch.linalg.det(autograd.functional.jacobian(state_model, obs.select(\"B\", 0))[:2, :2])"
   ]
  },
  {
   "cell_type": "code",
   "execution_count": 37,
   "id": "b041ab4b-384e-4f2c-8983-2b12a1fb1e7f",
   "metadata": {},
   "outputs": [
    {
     "data": {
      "text/plain": [
       "tensor([[-2.2201,  0.5578,  0.0000],\n",
       "        [-2.2201,  0.5578,  0.0000],\n",
       "        [-2.2201,  0.5578,  0.0000],\n",
       "        [-2.2201,  0.5578,  0.0000],\n",
       "        [-2.2201,  0.5578,  0.0000],\n",
       "        [-2.2201,  0.5578,  0.0000],\n",
       "        [-2.2201,  0.5578,  0.0000],\n",
       "        [-2.2201,  0.5578,  0.0000],\n",
       "        [-2.2201,  0.5578,  0.0000],\n",
       "        [-2.2201,  0.5578,  0.0000],\n",
       "        [-2.2201,  0.5578,  0.0000],\n",
       "        [-2.2201,  0.5578,  0.0000],\n",
       "        [-2.2201,  0.5578,  0.0000],\n",
       "        [-2.2201,  0.5578,  0.0000],\n",
       "        [-2.2201,  0.5578,  0.0000],\n",
       "        [-2.2201,  0.5578,  0.0000],\n",
       "        [-2.2201,  0.5578,  0.0000],\n",
       "        [-2.2201,  0.5578,  0.0000],\n",
       "        [-2.2201,  0.5578,  0.0000],\n",
       "        [-2.2201,  0.5578,  0.0000],\n",
       "        [-2.2201,  0.5578,  0.0000],\n",
       "        [-2.2201,  0.5578,  0.0000],\n",
       "        [-2.2201,  0.5578,  0.0000],\n",
       "        [-2.2201,  0.5578,  0.0000],\n",
       "        [-2.2201,  0.5578,  0.0000],\n",
       "        [-2.2201,  0.5578,  0.0000],\n",
       "        [-2.2201,  0.5578,  0.0000],\n",
       "        [-2.2201,  0.5578,  0.0000],\n",
       "        [-2.2201,  0.5578,  0.0000],\n",
       "        [-2.2201,  0.5578,  0.0000],\n",
       "        [-2.2201,  0.5578,  0.0000],\n",
       "        [-2.2201,  0.5578,  0.0000],\n",
       "        [-2.2201,  0.5578,  0.0000],\n",
       "        [-2.2201,  0.5578,  0.0000],\n",
       "        [-2.2201,  0.5578,  0.0000],\n",
       "        [-2.2201,  0.5578,  0.0000],\n",
       "        [-2.2201,  0.5578,  0.0000],\n",
       "        [-2.2201,  0.5578,  0.0000],\n",
       "        [-2.2201,  0.5578,  0.0000],\n",
       "        [-2.2201,  0.5578,  0.0000],\n",
       "        [-2.2201,  0.5578,  0.0000],\n",
       "        [-2.2201,  0.5578,  0.0000],\n",
       "        [-2.2201,  0.5578,  0.0000],\n",
       "        [-2.2201,  0.5578,  0.0000],\n",
       "        [-2.2201,  0.5578,  0.0000],\n",
       "        [-2.2201,  0.5578,  0.0000],\n",
       "        [-2.2201,  0.5578,  0.0000],\n",
       "        [-2.2201,  0.5578,  0.0000],\n",
       "        [-2.2201,  0.5578,  0.0000],\n",
       "        [-2.2201,  0.5578,  0.0000],\n",
       "        [-2.2201,  0.5578,  0.0000],\n",
       "        [-2.2201,  0.5578,  0.0000],\n",
       "        [-2.2201,  0.5578,  0.0000],\n",
       "        [-2.2201,  0.5578,  0.0000],\n",
       "        [-2.2201,  0.5578,  0.0000],\n",
       "        [-2.2201,  0.5578,  0.0000],\n",
       "        [-2.2201,  0.5578,  0.0000],\n",
       "        [-2.2201,  0.5578,  0.0000],\n",
       "        [-2.2201,  0.5578,  0.0000],\n",
       "        [-2.2201,  0.5578,  0.0000],\n",
       "        [-2.2201,  0.5578,  0.0000],\n",
       "        [-2.2201,  0.5578,  0.0000],\n",
       "        [-2.2201,  0.5578,  0.0000],\n",
       "        [-2.2201,  0.5578,  0.0000],\n",
       "        [-2.2201,  0.5578,  0.0000],\n",
       "        [-2.2201,  0.5578,  0.0000],\n",
       "        [-2.2201,  0.5578,  0.0000],\n",
       "        [-2.2201,  0.5578,  0.0000],\n",
       "        [-2.2201,  0.5578,  0.0000],\n",
       "        [-2.2201,  0.5578,  0.0000],\n",
       "        [-2.2201,  0.5578,  0.0000],\n",
       "        [-2.2201,  0.5578,  0.0000],\n",
       "        [-2.2201,  0.5578,  0.0000],\n",
       "        [-2.2201,  0.5578,  0.0000],\n",
       "        [-2.2201,  0.5578,  0.0000],\n",
       "        [-2.2201,  0.5578,  0.0000],\n",
       "        [-2.2201,  0.5578,  0.0000],\n",
       "        [-2.2201,  0.5578,  0.0000],\n",
       "        [-2.2201,  0.5578,  0.0000],\n",
       "        [-2.2201,  0.5578,  0.0000],\n",
       "        [-2.2201,  0.5578,  0.0000],\n",
       "        [-2.2201,  0.5578,  0.0000],\n",
       "        [-2.2201,  0.5578,  0.0000],\n",
       "        [-2.2201,  0.5578,  0.0000],\n",
       "        [-2.2201,  0.5578,  0.0000],\n",
       "        [-2.2201,  0.5578,  0.0000],\n",
       "        [-2.2201,  0.5578,  0.0000],\n",
       "        [-2.2201,  0.5578,  0.0000],\n",
       "        [-2.2201,  0.5578,  0.0000],\n",
       "        [-2.2201,  0.5578,  0.0000],\n",
       "        [-2.2201,  0.5578,  0.0000],\n",
       "        [-2.2201,  0.5578,  0.0000],\n",
       "        [-2.2201,  0.5578,  0.0000],\n",
       "        [-2.2201,  0.5578,  0.0000],\n",
       "        [-2.2201,  0.5578,  0.0000],\n",
       "        [-2.2201,  0.5578,  0.0000],\n",
       "        [-2.2201,  0.5578,  0.0000],\n",
       "        [-2.2201,  0.5578,  0.0000],\n",
       "        [-2.2201,  0.5578,  0.0000],\n",
       "        [-2.2201,  0.5578,  0.0000],\n",
       "        [-2.2201,  0.5578,  0.0000],\n",
       "        [-2.2201,  0.5578,  0.0000],\n",
       "        [-2.2201,  0.5578,  0.0000],\n",
       "        [-2.2201,  0.5578,  0.0000],\n",
       "        [-2.2201,  0.5578,  0.0000],\n",
       "        [-2.2201,  0.5578,  0.0000],\n",
       "        [-2.2201,  0.5578,  0.0000],\n",
       "        [-2.2201,  0.5578,  0.0000],\n",
       "        [-2.2201,  0.5578,  0.0000],\n",
       "        [-2.2201,  0.5578,  0.0000],\n",
       "        [-2.2201,  0.5578,  0.0000],\n",
       "        [-2.2201,  0.5578,  0.0000],\n",
       "        [-2.2201,  0.5578,  0.0000],\n",
       "        [-2.2201,  0.5578,  0.0000],\n",
       "        [-2.2201,  0.5578,  0.0000],\n",
       "        [-2.2201,  0.5578,  0.0000],\n",
       "        [-2.2201,  0.5578,  0.0000],\n",
       "        [-2.2201,  0.5578,  0.0000],\n",
       "        [-2.2201,  0.5578,  0.0000],\n",
       "        [-2.2201,  0.5578,  0.0000],\n",
       "        [-2.2201,  0.5578,  0.0000],\n",
       "        [-2.2201,  0.5578,  0.0000],\n",
       "        [-2.2201,  0.5578,  0.0000],\n",
       "        [-2.2201,  0.5578,  0.0000],\n",
       "        [-2.2201,  0.5578,  0.0000],\n",
       "        [-2.2201,  0.5578,  0.0000],\n",
       "        [-2.2201,  0.5578,  0.0000],\n",
       "        [-2.2201,  0.5578,  0.0000],\n",
       "        [-2.2201,  0.5578,  0.0000],\n",
       "        [-2.2201,  0.5578,  0.0000],\n",
       "        [-2.2201,  0.5578,  0.0000],\n",
       "        [-2.2201,  0.5578,  0.0000],\n",
       "        [-2.2201,  0.5578,  0.0000],\n",
       "        [-2.2201,  0.5578,  0.0000],\n",
       "        [-2.2201,  0.5578,  0.0000],\n",
       "        [-2.2201,  0.5578,  0.0000],\n",
       "        [-2.2201,  0.5578,  0.0000],\n",
       "        [-2.2201,  0.5578,  0.0000],\n",
       "        [-2.2201,  0.5578,  0.0000],\n",
       "        [-2.2201,  0.5578,  0.0000],\n",
       "        [-2.2201,  0.5578,  0.0000],\n",
       "        [-2.2201,  0.5578,  0.0000],\n",
       "        [-2.2201,  0.5578,  0.0000],\n",
       "        [-2.2201,  0.5578,  0.0000],\n",
       "        [-2.2201,  0.5578,  0.0000],\n",
       "        [-2.2201,  0.5578,  0.0000],\n",
       "        [-2.2201,  0.5578,  0.0000],\n",
       "        [-2.2201,  0.5578,  0.0000],\n",
       "        [-2.2201,  0.5578,  0.0000],\n",
       "        [-2.2201,  0.5578,  0.0000],\n",
       "        [-2.2201,  0.5578,  0.0000],\n",
       "        [-2.2201,  0.5578,  0.0000],\n",
       "        [-2.2201,  0.5578,  0.0000],\n",
       "        [-2.2201,  0.5578,  0.0000],\n",
       "        [-2.2201,  0.5578,  0.0000],\n",
       "        [-2.2201,  0.5578,  0.0000],\n",
       "        [-2.2201,  0.5578,  0.0000],\n",
       "        [-2.2201,  0.5578,  0.0000],\n",
       "        [-2.2201,  0.5578,  0.0000],\n",
       "        [-2.2201,  0.5578,  0.0000],\n",
       "        [-2.2201,  0.5578,  0.0000],\n",
       "        [-2.2201,  0.5578,  0.0000],\n",
       "        [-2.2201,  0.5578,  0.0000],\n",
       "        [-2.2201,  0.5578,  0.0000],\n",
       "        [-2.2201,  0.5578,  0.0000],\n",
       "        [-2.2201,  0.5578,  0.0000],\n",
       "        [-2.2201,  0.5578,  0.0000],\n",
       "        [-2.2201,  0.5578,  0.0000],\n",
       "        [-2.2201,  0.5578,  0.0000],\n",
       "        [-2.2201,  0.5578,  0.0000],\n",
       "        [-2.2201,  0.5578,  0.0000],\n",
       "        [-2.2201,  0.5578,  0.0000],\n",
       "        [-2.2201,  0.5578,  0.0000],\n",
       "        [-2.2201,  0.5578,  0.0000],\n",
       "        [-2.2201,  0.5578,  0.0000],\n",
       "        [-2.2201,  0.5578,  0.0000],\n",
       "        [-2.2201,  0.5578,  0.0000],\n",
       "        [-2.2201,  0.5578,  0.0000],\n",
       "        [-2.2201,  0.5578,  0.0000],\n",
       "        [-2.2201,  0.5578,  0.0000],\n",
       "        [-2.2201,  0.5578,  0.0000],\n",
       "        [-2.2201,  0.5578,  0.0000],\n",
       "        [-2.2201,  0.5578,  0.0000],\n",
       "        [-2.2201,  0.5578,  0.0000],\n",
       "        [-2.2201,  0.5578,  0.0000],\n",
       "        [-2.2201,  0.5578,  0.0000],\n",
       "        [-2.2201,  0.5578,  0.0000],\n",
       "        [-2.2201,  0.5578,  0.0000],\n",
       "        [-2.2201,  0.5578,  0.0000],\n",
       "        [-2.2201,  0.5578,  0.0000],\n",
       "        [-2.2201,  0.5578,  0.0000],\n",
       "        [-2.2201,  0.5578,  0.0000],\n",
       "        [-2.2201,  0.5578,  0.0000],\n",
       "        [-2.2201,  0.5578,  0.0000],\n",
       "        [-2.2201,  0.5578,  0.0000],\n",
       "        [-2.2201,  0.5578,  0.0000],\n",
       "        [-2.2201,  0.5578,  0.0000],\n",
       "        [-2.2201,  0.5578,  0.0000],\n",
       "        [-2.2201,  0.5578,  0.0000],\n",
       "        [-2.2201,  0.5578,  0.0000],\n",
       "        [-2.2201,  0.5578,  0.0000],\n",
       "        [-2.2201,  0.5578,  0.0000],\n",
       "        [-2.2201,  0.5578,  0.0000],\n",
       "        [-2.2201,  0.5578,  0.0000],\n",
       "        [-2.2201,  0.5578,  0.0000],\n",
       "        [-2.2201,  0.5578,  0.0000],\n",
       "        [-2.2201,  0.5578,  0.0000],\n",
       "        [-2.2201,  0.5578,  0.0000],\n",
       "        [-2.2201,  0.5578,  0.0000],\n",
       "        [-2.2201,  0.5578,  0.0000],\n",
       "        [-2.2201,  0.5578,  0.0000],\n",
       "        [-2.2201,  0.5578,  0.0000],\n",
       "        [-2.2201,  0.5578,  0.0000],\n",
       "        [-2.2201,  0.5578,  0.0000],\n",
       "        [-2.2201,  0.5578,  0.0000],\n",
       "        [-2.2201,  0.5578,  0.0000],\n",
       "        [-2.2201,  0.5578,  0.0000],\n",
       "        [-2.2201,  0.5578,  0.0000],\n",
       "        [-2.2201,  0.5578,  0.0000],\n",
       "        [-2.2201,  0.5578,  0.0000],\n",
       "        [-2.2201,  0.5578,  0.0000],\n",
       "        [-2.2201,  0.5578,  0.0000],\n",
       "        [-2.2201,  0.5578,  0.0000],\n",
       "        [-2.2201,  0.5578,  0.0000],\n",
       "        [-2.2201,  0.5578,  0.0000],\n",
       "        [-2.2201,  0.5578,  0.0000],\n",
       "        [-2.2201,  0.5578,  0.0000],\n",
       "        [-2.2201,  0.5578,  0.0000],\n",
       "        [-2.2201,  0.5578,  0.0000],\n",
       "        [-2.2201,  0.5578,  0.0000],\n",
       "        [-2.2201,  0.5578,  0.0000],\n",
       "        [-2.2201,  0.5578,  0.0000],\n",
       "        [-2.2201,  0.5578,  0.0000],\n",
       "        [-2.2201,  0.5578,  0.0000],\n",
       "        [-2.2201,  0.5578,  0.0000],\n",
       "        [-2.2201,  0.5578,  0.0000],\n",
       "        [-2.2201,  0.5578,  0.0000],\n",
       "        [-2.2201,  0.5578,  0.0000],\n",
       "        [-2.2201,  0.5578,  0.0000],\n",
       "        [-2.2201,  0.5578,  0.0000],\n",
       "        [-2.2201,  0.5578,  0.0000],\n",
       "        [-2.2201,  0.5578,  0.0000],\n",
       "        [-2.2201,  0.5578,  0.0000],\n",
       "        [-2.2201,  0.5578,  0.0000],\n",
       "        [-2.2201,  0.5578,  0.0000],\n",
       "        [-2.2201,  0.5578,  0.0000],\n",
       "        [-2.2201,  0.5578,  0.0000],\n",
       "        [-2.2201,  0.5578,  0.0000],\n",
       "        [-2.2201,  0.5578,  0.0000],\n",
       "        [-2.2201,  0.5578,  0.0000],\n",
       "        [-2.2201,  0.5578,  0.0000],\n",
       "        [-2.2201,  0.5578,  0.0000],\n",
       "        [-2.2201,  0.5578,  0.0000],\n",
       "        [-2.2201,  0.5578,  0.0000],\n",
       "        [-2.2201,  0.5578,  0.0000],\n",
       "        [-2.2201,  0.5578,  0.0000]], names=('B', 'R'))"
      ]
     },
     "execution_count": 37,
     "metadata": {},
     "output_type": "execute_result"
    }
   ],
   "source": [
    "obs.select(\"B\", 0).align_to(\"B\", ...).expand(obs.shape)"
   ]
  },
  {
   "cell_type": "code",
   "execution_count": null,
   "id": "50af1e66-29ad-42cb-bc16-c2423c10f710",
   "metadata": {},
   "outputs": [],
   "source": []
  }
 ],
 "metadata": {
  "kernelspec": {
   "display_name": "Python 3 (ipykernel)",
   "language": "python",
   "name": "python3"
  },
  "language_info": {
   "codemirror_mode": {
    "name": "ipython",
    "version": 3
   },
   "file_extension": ".py",
   "mimetype": "text/x-python",
   "name": "python",
   "nbconvert_exporter": "python",
   "pygments_lexer": "ipython3",
   "version": "3.8.10"
  }
 },
 "nbformat": 4,
 "nbformat_minor": 5
}
