{
 "cells": [
  {
   "cell_type": "markdown",
   "id": "under-operation",
   "metadata": {},
   "source": [
    "# Ground-truth performance and gradient norms\n",
    "\n",
    "This notebook inspects the initialization schemes for LQGs and time-varying linear policies described in chapter 3 of the [thesis](https://www.overleaf.com/read/rrdfjtcwdpmj)."
   ]
  },
  {
   "cell_type": "markdown",
   "id": "curious-assault",
   "metadata": {},
   "source": [
    "### Imports"
   ]
  },
  {
   "cell_type": "code",
   "execution_count": 1,
   "id": "cognitive-hunter",
   "metadata": {},
   "outputs": [
    {
     "name": "stderr",
     "output_type": "stream",
     "text": [
      "/Users/angelolovatto/Library/Caches/pypoetry/virtualenvs/lqsvg-G_e_Olvw-py3.8/lib/python3.8/site-packages/ray/autoscaler/_private/cli_logger.py:57: FutureWarning: Not all Ray CLI dependencies were found. In Ray 1.4+, the Ray CLI, autoscaler, and dashboard will only be usable via `pip install 'ray[default]'`. Please update your install command.\n",
      "  warnings.warn(\n"
     ]
    }
   ],
   "source": [
    "%matplotlib inline\n",
    "from __future__ import annotations\n",
    "\n",
    "import os\n",
    "import os.path as osp\n",
    "import textwrap\n",
    "import warnings\n",
    "from functools import partial\n",
    "from typing import Callable, Iterable, Optional\n",
    "\n",
    "import matplotlib as mpl\n",
    "import matplotlib.pyplot as plt\n",
    "import numpy as np\n",
    "import pandas as pd\n",
    "import seaborn as sns\n",
    "import torch\n",
    "import torch.nn as nn\n",
    "from lqsvg import analysis\n",
    "from lqsvg.envs import lqr\n",
    "from lqsvg.envs.lqr import utils\n",
    "from lqsvg.envs.lqr.generators import LQGGenerator\n",
    "from lqsvg.estimator import ExpectedValue, PolicyLoss\n",
    "from lqsvg.experiment import plot\n",
    "from lqsvg.np_util import RNG\n",
    "from lqsvg.torch import named as nt\n",
    "from lqsvg.torch.nn import utils as piutil\n",
    "from scipy.signal import place_poles\n",
    "from scipy.stats import ortho_group\n",
    "from torch import Tensor\n",
    "from tqdm.auto import tqdm"
   ]
  },
  {
   "cell_type": "code",
   "execution_count": 2,
   "id": "b7ae4e03-3a5d-4951-9702-e38c45ea864b",
   "metadata": {},
   "outputs": [],
   "source": [
    "def total_distance(first: Iterable[Tensor], second: Iterable[Tensor]) -> Tensor:\n",
    "    return analysis.total_distance(nt.unnamed(*first), nt.unnamed(*second))\n",
    "\n",
    "\n",
    "def total_norm(tensors: Iterable[Tensor]) -> Tensor:\n",
    "    return analysis.total_norm(nt.unnamed(*tensors))"
   ]
  },
  {
   "cell_type": "markdown",
   "id": "7cce6356-8966-4df6-8caf-b7ffd504de54",
   "metadata": {
    "tags": []
   },
   "source": [
    "## Matplotlib setup\n",
    "\n",
    "Latex presets ([ref](https://jwalton.info/Embed-Publication-Matplotlib-Latex/))"
   ]
  },
  {
   "cell_type": "code",
   "execution_count": 3,
   "id": "62590653-d943-4f8f-87a8-8f1b47cf7d01",
   "metadata": {},
   "outputs": [],
   "source": [
    "from functools import partial\n",
    "\n",
    "plot.create_latex_style()\n",
    "set_size = partial(plot.latex_size, width=\"thesis\")"
   ]
  },
  {
   "cell_type": "code",
   "execution_count": 4,
   "id": "5f553277-1aeb-4a97-b4f1-61c7c5c83440",
   "metadata": {},
   "outputs": [
    {
     "name": "stdout",
     "output_type": "stream",
     "text": [
      "Solarize_Light2 _classic_test_patch bmh classic dark_background fast fivethirtyeight ggplot grayscale seaborn seaborn-bright seaborn-colorblind seaborn-dark seaborn-dark-palette seaborn-darkgrid seaborn-deep seaborn-muted seaborn-notebook seaborn-paper seaborn-pastel seaborn-poster seaborn-talk seaborn-ticks seaborn-white seaborn-whitegrid tableau-colorblind10 tex\n"
     ]
    }
   ],
   "source": [
    "print(*plot.available_styles())"
   ]
  },
  {
   "cell_type": "code",
   "execution_count": 5,
   "id": "11334dad-7c64-4bd4-8f77-251001afc3c4",
   "metadata": {},
   "outputs": [
    {
     "name": "stdout",
     "output_type": "stream",
     "text": [
      "Your style sheets are located at: /Users/angelolovatto/Library/Caches/pypoetry/virtualenvs/lqsvg-G_e_Olvw-py3.8/lib/python3.8/site-packages/matplotlib/mpl-data/stylelib\n"
     ]
    }
   ],
   "source": [
    "print(f\"Your style sheets are located at: {plot.STYLE_PATH}\")"
   ]
  },
  {
   "cell_type": "code",
   "execution_count": 6,
   "id": "52dd6ec8-93c9-486c-b251-6b59a7e90138",
   "metadata": {},
   "outputs": [],
   "source": [
    "# Using seaborn's style\n",
    "plt.style.use(\"seaborn\")\n",
    "# sns.set()\n",
    "# With LaTex fonts\n",
    "plt.style.use(\"tex\")\n",
    "plt.rcParams[\"patch.force_edgecolor\"] = False"
   ]
  },
  {
   "cell_type": "code",
   "execution_count": 7,
   "id": "522ff7fc-9e7e-462f-85a3-49a03d734c9e",
   "metadata": {},
   "outputs": [],
   "source": [
    "def figpath(name: str) -> str:\n",
    "    return os.path.join(\"images\", name + \".pdf\")\n",
    "\n",
    "\n",
    "def savefig(fig, name):\n",
    "    return plot.save_pdf_tight(fig, figpath(name))"
   ]
  },
  {
   "cell_type": "markdown",
   "id": "ffb16678-cf49-46c2-8b59-efae3d165159",
   "metadata": {},
   "source": [
    "---\n",
    "## Linear Quadratic Gaussian (LQG) Problems\n",
    "In what follows we consider MDPs with:\n",
    "1. continuous state space $\\mathbf{s} \\in \\mathcal{S} = \\mathbb{R}^n$\n",
    "2. continuous action space $\\mathbf{a} \\in \\mathcal{A} = \\mathbb{R}^d$\n",
    "3. finite time horizon $N \\in \\mathbb{N}$ and timesteps $t \\in \\mathcal{T} = \\{0, \\dots, N - 1\\}$\n",
    "4. Linear Gaussian dynamics \n",
    "    $$\n",
    "    \\mathbf{s}_{t+1} \\sim p(\\cdot| \\mathbf{s}_t, \\mathbf{a}_t) = \\mathcal{N}\\left( \\cdot ~\\middle|~ \\mathbf{F}_t \\begin{bmatrix}\\mathbf{s}_t \\\\ \\mathbf{a}_t\\end{bmatrix} + \\mathbf{f}_t, \\mathbf{\\Sigma}_{t} \\right)\n",
    "    $$\n",
    "5. Quadratic costs \n",
    "    $$\n",
    "    r_{t+1} = R(\\mathbf{s}_t, \\mathbf{a}_t) = - \\tfrac{1}{2} \\begin{bmatrix}\\mathbf{s}_t \\\\ \\mathbf{a}_t\\end{bmatrix}^\\intercal \\mathbf{C}_t \\begin{bmatrix}\\mathbf{s}_t \\\\ \\mathbf{a}_t\\end{bmatrix} - \\mathbf{c}_t^\\intercal \\begin{bmatrix}\\mathbf{s}_t \\\\ \\mathbf{a}_t\\end{bmatrix}\n",
    "    $$\n",
    "6. Gaussian-distributed initial state \n",
    "    $$\n",
    "    \\mathbf{s}_0 \\sim \\rho = \\mathcal{N}(\\mathbf{\\mu}_\\rho, \\mathbf{\\Sigma}_\\rho)\n",
    "    $$"
   ]
  },
  {
   "cell_type": "markdown",
   "id": "killing-ready",
   "metadata": {},
   "source": [
    "---\n",
    "## Task selection protocol\n",
    "\n",
    "$$\n",
    "    \\{ \\mathbf{F}_t, \\mathbf{f}_t, \\mathbf{\\Sigma}_t, \\mathbf{C}_t, \\mathbf{c}_t  \\}_{t\\in\\mathcal{T}} \\sim \\text{LQGDist}(\\texttt{n_state, n_ctrl, horizon}) \\\\\n",
    "    \\mathbf{\\mu}_\\rho = \\mathbf{0}, \\quad \\mathbf{\\Sigma}_{\\rho} = \\mathbf{I} \\\\\n",
    "    \\mathcal{M} = \\{ \\mathbf{F}_t, \\mathbf{f}_t, \\mathbf{\\Sigma}_t, \\mathbf{C}_t, \\mathbf{c}_t  \\}_{t\\in\\mathcal{T}} \\cup \\{ \\mathbf{\\mu}_\\rho, \\mathbf{\\Sigma}_\\rho \\}\n",
    "$$"
   ]
  },
  {
   "cell_type": "markdown",
   "id": "administrative-mistress",
   "metadata": {},
   "source": [
    "### LQG generation defaults\n",
    "\n",
    "- stationary ($\\mathbf{F}_t, \\mathbf{f}_t, \\mathbf{\\Sigma}_t, \\mathbf{C}_t, \\mathbf{c}_t = \\mathbf{F}, \\mathbf{f}, \\mathbf{\\Sigma}, \\mathbf{C}, \\mathbf{c}$)\n",
    "- passive dynamics eigenvalue norm in $\\mathcal{U}(0.5, 1.5)$\n",
    "  - $\\mathbf{F_s} = \\mathbf{W}\\text{diag}(\\lambda_1, \\dots, \\lambda_n)\\mathbf{W}^{-1}$\n",
    "  - $|\\lambda_i| \\in [0.5, 1.5], \\forall i \\in \\{1, \\dots, n\\}$\n",
    "  - i.e., the passive dynamics may be **unstable**\n",
    "- **controllable**\n",
    "- no transition bias ($\\mathbf{f} = \\mathbf{0}$)\n",
    "- unit transition covariance ($\\mathbf{\\Sigma} = \\mathbf{I}$)\n",
    "- unit initial state covariance ($\\mathbf{\\Sigma}_\\rho = \\mathbf{I}$)\n",
    "- no linear cost term ($\\mathbf{c} = \\mathbf{0}$)\n",
    "- no state-action cross terms ($\\mathbf{C_{sa}, C_{as}} = \\mathbf{0, 0}$)"
   ]
  },
  {
   "cell_type": "code",
   "execution_count": 8,
   "id": "aging-acrobat",
   "metadata": {},
   "outputs": [],
   "source": [
    "GENERATOR = LQGGenerator(\n",
    "    n_state=2,\n",
    "    n_ctrl=2,\n",
    "    horizon=20,\n",
    "    stationary=True,\n",
    "    passive_eigval_range=(0.5, 1.5),\n",
    "    controllable=True,\n",
    "    transition_bias=False,\n",
    "    rand_trans_cov=False,\n",
    "    rand_init_cov=False,\n",
    "    cost_linear=False,\n",
    "    cost_cross=False,\n",
    "    rng=np.random.default_rng(42),\n",
    ")\n",
    "\n",
    "\n",
    "def sample_lqg(\n",
    "    n_state: int, n_ctrl: int, horizon: int, n_batch: Optional[int] = None\n",
    ") -> tuple[lqr.LinSDynamics, lqr.QuadCost, lqr.GaussInit]:\n",
    "    with GENERATOR.config(n_state=n_state, n_ctrl=n_ctrl, horizon=horizon):\n",
    "        return GENERATOR(n_batch)"
   ]
  },
  {
   "cell_type": "code",
   "execution_count": 9,
   "id": "preliminary-guard",
   "metadata": {
    "tags": []
   },
   "outputs": [],
   "source": [
    "def print_lqg(dynamics, cost, init):\n",
    "    msg = f\"\"\"\\\n",
    "        dynamics:\n",
    "            F: {dynamics.F.shape}; {dynamics.F.names}; min={dynamics.F.min()}; max={dynamics.F.max()}\n",
    "            f: {dynamics.f.shape}; {dynamics.f.names}; min={dynamics.f.min()}; max={dynamics.f.max()}\n",
    "            Sig: {dynamics.W.shape}; {dynamics.W.names}\n",
    "        cost:\n",
    "            C: {cost.C.shape}; {cost.C.names}            \n",
    "            c: {cost.c.shape}; {cost.c.names}\n",
    "        init:\n",
    "            mu: {init.mu.shape}; {init.mu.names}            \n",
    "            sig: {init.sig.shape}; {init.sig.names}\\\n",
    "        \"\"\"\n",
    "    print(textwrap.dedent(msg))\n",
    "    if \"B\" not in cost.C.names:\n",
    "        print(\"C_0:\")\n",
    "        print(textwrap.indent(str(cost.C.select(\"H\", 0).numpy()), \" \" * 4))\n",
    "\n",
    "\n",
    "def test_sample_lqg(n_batch=None):\n",
    "    with warnings.catch_warnings():\n",
    "        warnings.filterwarnings(\"ignore\", message=\".*Named tensors.*\", module=\"torch\")\n",
    "        dynamics, cost, init = sample_lqg(\n",
    "            n_state=2, n_ctrl=2, horizon=100, n_batch=n_batch\n",
    "        )\n",
    "    assert isinstance(dynamics, lqr.LinSDynamics)\n",
    "    assert isinstance(cost, lqr.QuadCost)\n",
    "    assert isinstance(init, lqr.GaussInit)\n",
    "    print_lqg(dynamics, cost, init)\n",
    "\n",
    "\n",
    "def test_batch_lqgs():\n",
    "    test_sample_lqg(n_batch=10)"
   ]
  },
  {
   "cell_type": "code",
   "execution_count": 10,
   "id": "unexpected-damages",
   "metadata": {},
   "outputs": [
    {
     "name": "stdout",
     "output_type": "stream",
     "text": [
      "dynamics:\n",
      "    F: torch.Size([100, 2, 4]); ('H', 'R', 'C'); min=-0.3155156075954437; max=1.062642216682434\n",
      "    f: torch.Size([100, 2]); ('H', 'R'); min=0.0; max=0.0\n",
      "    Sig: torch.Size([100, 2, 2]); ('H', 'R', 'C')\n",
      "cost:\n",
      "    C: torch.Size([100, 4, 4]); ('H', 'R', 'C')            \n",
      "    c: torch.Size([100, 4]); ('H', 'R')\n",
      "init:\n",
      "    mu: torch.Size([2]); ('R',)            \n",
      "    sig: torch.Size([2, 2]); ('R', 'C')        \n",
      "C_0:\n",
      "    [[ 1.1274902 -1.150862   0.         0.       ]\n",
      "     [-1.150862   1.7388873  0.         0.       ]\n",
      "     [ 0.         0.         1.0362151  0.9852763]\n",
      "     [ 0.         0.         0.9852763  1.7233117]]\n"
     ]
    }
   ],
   "source": [
    "test_sample_lqg()"
   ]
  },
  {
   "cell_type": "code",
   "execution_count": 11,
   "id": "permanent-effects",
   "metadata": {},
   "outputs": [
    {
     "name": "stdout",
     "output_type": "stream",
     "text": [
      "dynamics:\n",
      "    F: torch.Size([100, 10, 2, 4]); ('H', 'B', 'R', 'C'); min=-1.3114826679229736; max=1.3288333415985107\n",
      "    f: torch.Size([100, 10, 2]); ('H', 'B', 'R'); min=0.0; max=0.0\n",
      "    Sig: torch.Size([100, 10, 2, 2]); ('H', 'B', 'R', 'C')\n",
      "cost:\n",
      "    C: torch.Size([100, 10, 4, 4]); ('H', 'B', 'R', 'C')            \n",
      "    c: torch.Size([100, 10, 4]); ('H', 'B', 'R')\n",
      "init:\n",
      "    mu: torch.Size([10, 2]); ('B', 'R')            \n",
      "    sig: torch.Size([10, 2, 2]); ('B', 'R', 'C')        \n"
     ]
    }
   ],
   "source": [
    "test_batch_lqgs()"
   ]
  },
  {
   "cell_type": "markdown",
   "id": "elder-example",
   "metadata": {},
   "source": [
    "---\n",
    "## Policy selection protocol\n",
    "\n",
    "In the following we define how to construct time-varying linear deterministic policies.\n",
    "$$\n",
    "    \\mu_\\theta(\\mathbf{s}) = \\mathbf{a} \\\\\n",
    "    \\theta = \\{ \\mathbf{K}_t, \\mathbf{k}_t \\}_{t\\in\\mathcal{T}}\n",
    "$$"
   ]
  },
  {
   "cell_type": "markdown",
   "id": "opposed-sunglasses",
   "metadata": {},
   "source": [
    "### Optimal policies\n",
    "\n",
    "The following code computes the optimal policy parameters $\\{\\mathbf{K}_t^\\star, \\mathbf{k}_t^\\star\\}_{t\\in\\mathcal{T}}$ for a given LQG."
   ]
  },
  {
   "cell_type": "code",
   "execution_count": 12,
   "id": "focused-environment",
   "metadata": {},
   "outputs": [],
   "source": [
    "def solution(\n",
    "    dynamics: lqr.LinSDynamics, cost: lqr.QuadCost\n",
    ") -> tuple[lqr.Linear, lqr.Quadratic, lqr.Quadratic]:\n",
    "    n_state, n_ctrl, horizon = lqr.dims_from_dynamics(dynamics)\n",
    "    solver = lqr.NamedLQGControl(n_state, n_ctrl, horizon)\n",
    "    pistar, qstar, vstar = solver(dynamics, cost)\n",
    "    return pistar, qstar, vstar\n",
    "\n",
    "\n",
    "def optimal_policy(dynamics: lqr.LinSDynamics, cost: lqr.QuadCost) -> lqr.Linear:\n",
    "    pistar, _, _ = solution(dynamics, cost)\n",
    "    K, k = pistar\n",
    "    pistar = (K.refine_names(*dynamics.F.names), k.refine_names(*dynamics.f.names))\n",
    "    return pistar"
   ]
  },
  {
   "cell_type": "code",
   "execution_count": 13,
   "id": "reflected-whale",
   "metadata": {
    "tags": []
   },
   "outputs": [],
   "source": [
    "def print_policy(policy: lqr.Linear):\n",
    "    K, k = policy\n",
    "    print(\n",
    "        f\"\"\"\n",
    "        K: {K.shape}; {K.names}\n",
    "        k: {k.shape}; {k.names}\n",
    "    \"\"\"\n",
    "    )\n",
    "\n",
    "\n",
    "def test_optimal_policy():\n",
    "    dynamics, cost, _ = sample_lqg(n_state=2, n_ctrl=2, horizon=100, n_batch=10)\n",
    "    print_policy(optimal_policy(dynamics, cost))"
   ]
  },
  {
   "cell_type": "code",
   "execution_count": 14,
   "id": "motivated-sunrise",
   "metadata": {},
   "outputs": [
    {
     "name": "stdout",
     "output_type": "stream",
     "text": [
      "\n",
      "        K: torch.Size([100, 10, 2, 2]); ('H', 'B', 'R', 'C')\n",
      "        k: torch.Size([100, 10, 2]); ('H', 'B', 'R')\n",
      "    \n"
     ]
    }
   ],
   "source": [
    "test_optimal_policy()"
   ]
  },
  {
   "cell_type": "markdown",
   "id": "bearing-pathology",
   "metadata": {},
   "source": [
    "### Policies that stabilize systems\n",
    "\n",
    "The following code tests computing a gain matrix $\\mathbf{K}$ such that the closed loop system\n",
    "$$\n",
    "    \\mathbf{s}' = \\left(\\mathbf{F_s - F_aK} \\right)\\mathbf{s}\n",
    "$$\n",
    "has eigenvalues $\\lambda_i$ such that $|\\lambda_i| < 1$, i.e., $\\mathbf{K}$ _stabilizes_ the system."
   ]
  },
  {
   "cell_type": "code",
   "execution_count": 15,
   "id": "exempt-botswana",
   "metadata": {
    "tags": []
   },
   "outputs": [],
   "source": [
    "def test_pole_placement(print_closed_loop_poles: bool = False):\n",
    "    with GENERATOR.config(\n",
    "        n_state=3, n_ctrl=2, passive_eigval_range=(0.5, 1.5), controllable=True\n",
    "    ):\n",
    "        dynamics = GENERATOR.make_dynamics()\n",
    "        A, B = utils.stationary_dynamics_factors(dynamics)\n",
    "        A, B = A.numpy(), B.numpy()\n",
    "        passive_poles, _ = np.linalg.eig(A)\n",
    "\n",
    "        res = piutil.place_dynamics_poles(A, B)\n",
    "\n",
    "    print(\"Passive poles:\")\n",
    "    print(passive_poles)\n",
    "    print(\"K:\")\n",
    "    print(res.gain_matrix)\n",
    "    print(\"Computed poles:\")\n",
    "    print(res.computed_poles)\n",
    "    print(\"Requested poles:\")\n",
    "    print(res.requested_poles)\n",
    "    #     print(\"X:\")\n",
    "    #     print(res.X)\n",
    "    print(\"rtol:\")\n",
    "    print(res.rtol)\n",
    "    print(\"nb iter:\")\n",
    "    print(res.nb_iter)\n",
    "\n",
    "    if print_closed_loop_poles:\n",
    "        print(np.linalg.eig(A - B @ res.gain_matrix)[0])"
   ]
  },
  {
   "cell_type": "code",
   "execution_count": 16,
   "id": "civilian-point",
   "metadata": {},
   "outputs": [
    {
     "name": "stdout",
     "output_type": "stream",
     "text": [
      "Passive poles:\n",
      "[ 1.1143856 -0.9435564 -0.504995 ]\n",
      "K:\n",
      "[[-7.39420346e-01 -6.60705632e-01  5.44681684e-04]\n",
      " [ 4.43656559e-01  1.62173960e-01  5.02354277e-01]]\n",
      "Computed poles:\n",
      "[-0.37662334  0.12387619  0.9480519 ]\n",
      "Requested poles:\n",
      "[-0.37662338  0.12387612  0.94805195]\n",
      "rtol:\n",
      "0.9634480984746275\n",
      "nb iter:\n",
      "1\n"
     ]
    }
   ],
   "source": [
    "test_pole_placement()"
   ]
  },
  {
   "cell_type": "markdown",
   "id": "alert-marine",
   "metadata": {},
   "source": [
    "### Random policies\n",
    "\n",
    "The following code defines how to generate _random_ policies that _stabilize_ a given LQG.\n",
    "$$\n",
    "    \\mathcal{M} \\sim \\text{LQGDist}(\\texttt{n_state, n_ctrl, horizon}) \\\\\n",
    "    \\{\\mathbf{K}_t, \\mathbf{k}_t\\} \\sim \\text{PiDist}(\\mathcal{M}) \\\\\n",
    "    \\text{s.t. } \\mathbf{K}_t \\text{ stabilizes the LQG } \\mathcal{M}\n",
    "$$"
   ]
  },
  {
   "cell_type": "code",
   "execution_count": 17,
   "id": "superb-spirituality",
   "metadata": {},
   "outputs": [],
   "source": [
    "def split_dynamics_along_batch(dynamics: lqr.LinSDynamics) -> list[lqr.LinSDynamics]:\n",
    "    Fs, fs, Ws = map(lambda x: nt.split(x, 1, dim=\"B\"), dynamics)\n",
    "    return [lqr.LinSDynamics(F=F, f=f, W=W) for F, f, W in zip(Fs, fs, Ws)]\n",
    "\n",
    "\n",
    "def squeeze_dynamics_batch(dynamics: lqr.LinSDynamics) -> lqr.LinSDynamics:\n",
    "    F, f, W = (x.squeeze(\"B\") for x in dynamics)\n",
    "    return lqr.LinSDynamics(F=F, f=f, W=W)\n",
    "\n",
    "\n",
    "@torch.no_grad()\n",
    "def sample_policy(\n",
    "    dynamics: lqr.LinSDynamics, cost: lqr.QuadCost, rng: RNG\n",
    ") -> lqr.Linear:\n",
    "    assert utils.isstationary(dynamics)\n",
    "    del cost\n",
    "\n",
    "    if \"B\" in dynamics.F.names:\n",
    "        policies = [\n",
    "            piutil.stabilizing_policy(squeeze_dynamics_batch(d), rng=rng)\n",
    "            for d in split_dynamics_along_batch(dynamics)\n",
    "        ]\n",
    "        Ks, ks = zip(*policies)\n",
    "        K = torch.cat([t.align_to(\"H\", \"B\", ...) for t in Ks], dim=\"B\")\n",
    "        k = torch.cat([t.align_to(\"H\", \"B\", ...) for t in ks], dim=\"B\")\n",
    "        policy = (K, k)\n",
    "    else:\n",
    "        policy = piutil.stabilizing_policy(dynamics, rng=rng)\n",
    "\n",
    "    return policy"
   ]
  },
  {
   "cell_type": "code",
   "execution_count": 18,
   "id": "personalized-innocent",
   "metadata": {
    "tags": []
   },
   "outputs": [],
   "source": [
    "def test_sample_policy():\n",
    "    dynamics, cost, _ = sample_lqg(n_state=3, n_ctrl=2, horizon=100, n_batch=10)\n",
    "    print_policy(sample_policy(dynamics, cost, rng=10))"
   ]
  },
  {
   "cell_type": "code",
   "execution_count": 19,
   "id": "capable-amplifier",
   "metadata": {},
   "outputs": [
    {
     "name": "stdout",
     "output_type": "stream",
     "text": [
      "\n",
      "        K: torch.Size([100, 10, 2, 3]); ('H', 'B', 'R', 'C')\n",
      "        k: torch.Size([100, 10, 2]); ('H', 'B', 'R')\n",
      "    \n"
     ]
    }
   ],
   "source": [
    "test_sample_policy()"
   ]
  },
  {
   "cell_type": "markdown",
   "id": "binary-briefs",
   "metadata": {},
   "source": [
    "We check the distance (L2 norm of the difference) between the random stabilizing parameters and the optimal policy parameters."
   ]
  },
  {
   "cell_type": "code",
   "execution_count": 113,
   "id": "metallic-burns",
   "metadata": {},
   "outputs": [],
   "source": [
    "def policy_distance(policy_a: lqr.Linear, policy_b: lqr.Linear) -> Tensor:\n",
    "    zipped = (torch.broadcast_tensors(a, b) for a, b in zip(policy_a, policy_b))\n",
    "    policy_a, policy_b = zip(*zipped)\n",
    "\n",
    "    if \"B\" not in policy_a[0].names:\n",
    "        return analysis.total_distance(policy_a, policy_b)\n",
    "\n",
    "    dists = []\n",
    "    for i in range(policy_a[0].size(\"B\")):\n",
    "        dists += [\n",
    "            total_distance(\n",
    "                (k.select(\"B\", i) for k in policy_a),\n",
    "                (k.select(\"B\", i) for k in policy_b),\n",
    "            )\n",
    "        ]\n",
    "    return torch.stack(dists).refine_names(\"B\")"
   ]
  },
  {
   "cell_type": "code",
   "execution_count": 114,
   "id": "funky-peoples",
   "metadata": {
    "tags": []
   },
   "outputs": [],
   "source": [
    "def test_policy_distance():\n",
    "    dynamics, cost, _ = sample_lqg(n_state=10, n_ctrl=10, horizon=100, n_batch=10)\n",
    "    optimal = optimal_policy(dynamics, cost)\n",
    "    random = sample_policy(dynamics, cost, rng=10)\n",
    "    distance = policy_distance(optimal, random)\n",
    "    print(\n",
    "        f\"\"\"\\\n",
    "    Policy distances: \n",
    "        {distance}, \n",
    "        {distance.shape}\\\n",
    "    \"\"\"\n",
    "    )"
   ]
  },
  {
   "cell_type": "code",
   "execution_count": 115,
   "id": "superb-canyon",
   "metadata": {},
   "outputs": [
    {
     "name": "stdout",
     "output_type": "stream",
     "text": [
      "    Policy distances: \n",
      "        tensor([302.0609, 172.4970, 222.5341, 142.8749, 650.5938, 187.4313, 120.4517,\n",
      "        149.8139,  87.7264,  61.5421], names=('B',)), \n",
      "        torch.Size([10])    \n"
     ]
    }
   ],
   "source": [
    "test_policy_distance()"
   ]
  },
  {
   "cell_type": "markdown",
   "id": "conceptual-conservative",
   "metadata": {},
   "source": [
    "We see that stabilizing the system is not sufficient, as the distance to the optimal policy is quite large."
   ]
  },
  {
   "cell_type": "markdown",
   "id": "fallen-basics",
   "metadata": {},
   "source": [
    "---\n",
    "## Ground-truth policy performance\n",
    "\n",
    "<center><b>Sampling</b></center>\n",
    "$$\n",
    "    \\mathcal{M} \\sim \\text{LQGDist}(\\texttt{n_state, n_ctrl, horizon}) \\\\\n",
    "    \\theta = \\{ \\mathbf{K}_t, \\mathbf{k}_t \\}_{t\\in\\mathcal{T}} \\sim \\text{PiDist}(\\mathcal{M})\n",
    "$$\n",
    "<br>\n",
    "\n",
    "<center><b>Prediction</b></center>\n",
    "<!-- LQG prediction can be seen as a function mapping policy parameters (with the dynamics kept constant) to value function coefficients: -->\n",
    "$$\n",
    "\\left( \\mathbf{Q}, \\mathbf{q}, q, \\mathbf{V}, \\mathbf{v}, v \\right) = \\text{LQGPrediction}(\\theta) \\\\\n",
    "V^\\mu(\\mathbf{s}, t) = -\\tfrac12 \\mathbf{s}^\\intercal \\mathbf{V}_t(\\theta) \\mathbf{s} - \\mathbf{v}_t(\\theta)^\\intercal \\mathbf{s} - v_t(\\theta)\n",
    "$$\n",
    "<br>\n",
    "\n",
    "<center><b>Performance</b></center>\n",
    "<!-- We can then express policy performance as a direct function of policy parameters: -->\n",
    "$$\n",
    "\\begin{align}\n",
    "J(\\theta) \n",
    "    &= -\\mathbb{E}_{\\mathbf{s}\\sim\\rho} \\left[ \\tfrac12 \\mathbf{s}^\\intercal \\mathbf{V}_0(\\theta) \\mathbf{s} + \\mathbf{v}_0(\\theta)^\\intercal \\mathbf{s} + v_0(\\theta) \\right] \\\\\n",
    "    &= -\\text{Tr}(\\mathbf{V}_0(\\theta)\\mathbf{\\Sigma}_0) - \\mathbf{\\mu}_0^\\intercal \\mathbf{V}_0(\\theta) \\mathbf{\\mu}_0 - \\mathbf{v}_0(\\theta)^\\intercal \\mathbf{\\mu}_0 - v_0(\\theta)\n",
    "\\end{align}\n",
    "$$"
   ]
  },
  {
   "cell_type": "code",
   "execution_count": 23,
   "id": "automatic-presentation",
   "metadata": {},
   "outputs": [],
   "source": [
    "def policy_loss(\n",
    "    policy: lqr.Linear,\n",
    "    dynamics: lqr.LinSDynamics,\n",
    "    cost: lqr.QuadCost,\n",
    "    init: lqr.GaussInit,\n",
    ") -> Tensor:\n",
    "    n_state, n_ctrl, horizon = lqr.dims_from_dynamics(dynamics)\n",
    "    loss_fn = PolicyLoss(n_state, n_ctrl, horizon)\n",
    "    loss = loss_fn(policy, dynamics, cost, init)\n",
    "    return loss\n",
    "\n",
    "\n",
    "def policy_value(\n",
    "    policy: lqr.Linear,\n",
    "    dynamics: lqr.LinSDynamics,\n",
    "    cost: lqr.QuadCost,\n",
    "    init: lqr.GaussInit,\n",
    ") -> Tensor:\n",
    "    return -policy_loss(policy, dynamics, cost, init)"
   ]
  },
  {
   "cell_type": "code",
   "execution_count": 24,
   "id": "weird-president",
   "metadata": {
    "tags": []
   },
   "outputs": [],
   "source": [
    "def test_policy_loss():\n",
    "    dynamics, cost, init = sample_lqg(n_state=2, n_ctrl=2, horizon=20, n_batch=10)\n",
    "    policy = sample_policy(dynamics, cost, rng=10)\n",
    "    loss = policy_loss(policy, dynamics, cost, init)\n",
    "    print(\n",
    "        f\"\"\"\\\n",
    "    Loss: \n",
    "        {loss}, \n",
    "        ({loss.dtype}), \n",
    "        ({loss.shape}); \n",
    "    ExpectedReturn: \n",
    "        {-loss}, \n",
    "        ({(-loss).dtype}), \n",
    "        ({loss.shape})\\\n",
    "    \"\"\"\n",
    "    )"
   ]
  },
  {
   "cell_type": "code",
   "execution_count": 25,
   "id": "objective-ethnic",
   "metadata": {},
   "outputs": [
    {
     "name": "stdout",
     "output_type": "stream",
     "text": [
      "    Loss: \n",
      "        tensor([ 1024.0004,   391.2084,   803.7458,   384.1714,  1101.6029,   367.1847,\n",
      "          386.0928,   535.6906, 16131.0410,   249.3000], names=('B',)), \n",
      "        (torch.float32), \n",
      "        (torch.Size([10])); \n",
      "    ExpectedReturn: \n",
      "        tensor([ -1024.0004,   -391.2084,   -803.7458,   -384.1714,  -1101.6029,\n",
      "          -367.1847,   -386.0928,   -535.6906, -16131.0410,   -249.3000],\n",
      "       names=('B',)), \n",
      "        (torch.float32), \n",
      "        (torch.Size([10]))    \n"
     ]
    }
   ],
   "source": [
    "test_policy_loss()"
   ]
  },
  {
   "cell_type": "markdown",
   "id": "moving-navigation",
   "metadata": {},
   "source": [
    "---\n",
    "## Ground-truth value gradient norm\n",
    "\n",
    "1. **Sampling**$\\rightarrow \\mathcal{M}, \\theta$; \n",
    "2. **Prediction**$\\rightarrow \\left( \\mathbf{Q}, \\mathbf{q}, q, \\mathbf{V}, \\mathbf{v}, v \\right)$; \n",
    "3. **Performance**$\\rightarrow J(\\theta)$;\n",
    "4. **SVG norm**$\\rightarrow \\| \\nabla J(\\theta) \\|$."
   ]
  },
  {
   "cell_type": "code",
   "execution_count": 77,
   "id": "published-headset",
   "metadata": {},
   "outputs": [],
   "source": [
    "def compute_batched_svg_norm(value: Tensor, policy: lqr.Linear) -> Tensor:\n",
    "    for x in policy:\n",
    "        x.grad = None\n",
    "    value.sum().backward()\n",
    "\n",
    "    K_grad, k_grad = (x.grad.detach() for x in policy)\n",
    "    if value.dim() == 0:\n",
    "        return analysis.total_norm((K_grad, k_grad))\n",
    "\n",
    "    norms = []\n",
    "    for _Kg, _kg in zip(K_grad.split(1, 1), k_grad.split(1, 1)):\n",
    "        norms += [analysis.total_norm((_Kg.squeeze(), _kg.squeeze()))]\n",
    "    return torch.stack(norms).refine_names(\"B\")\n",
    "\n",
    "\n",
    "def policy_svg_norm(\n",
    "    policy: lqr.Linear,\n",
    "    dynamics: lqr.LinSDynamics,\n",
    "    cost: lqr.QuadCost,\n",
    "    init: lqr.GaussInit,\n",
    ") -> tuple[Tensor, Tensor]:\n",
    "    value = policy_value(policy, dynamics, cost, init)\n",
    "    svg_norm = compute_batched_svg_norm(value, policy)\n",
    "    return value, svg_norm"
   ]
  },
  {
   "cell_type": "code",
   "execution_count": 27,
   "id": "stunning-method",
   "metadata": {
    "tags": []
   },
   "outputs": [],
   "source": [
    "def test_random_policy_svg():\n",
    "    dynamics, cost, init = sample_lqg(n_state=2, n_ctrl=2, horizon=20, n_batch=10)\n",
    "    policy = tuple(\n",
    "        x.requires_grad_(True) for x in sample_policy(dynamics, cost, rng=10)\n",
    "    )\n",
    "    eret, svg_norm = policy_svg_norm(policy, dynamics, cost, init)\n",
    "    print(\n",
    "        f\"\"\"\\\n",
    "    Expected return: \n",
    "        {eret},\n",
    "        {eret.dtype},\n",
    "        {eret.shape}\"\"\"\n",
    "    )\n",
    "    print(\n",
    "        f\"\"\"\\\n",
    "    SVG norm: \n",
    "        {svg_norm},\n",
    "        {svg_norm.dtype},\n",
    "        {svg_norm.shape}\"\"\"\n",
    "    )"
   ]
  },
  {
   "cell_type": "code",
   "execution_count": 28,
   "id": "usual-excuse",
   "metadata": {},
   "outputs": [
    {
     "name": "stdout",
     "output_type": "stream",
     "text": [
      "    Expected return: \n",
      "        tensor([  -223.5364,   -713.8807,  -1124.9568,   -357.4088,   -812.6507,\n",
      "          -472.5578,  -1101.3201,   -290.8091, -20164.5820,  -2019.8912],\n",
      "       grad_fn=<NegBackward>, names=('B',)),\n",
      "        torch.float32,\n",
      "        torch.Size([10])\n",
      "    SVG norm: \n",
      "        54392.0859375,\n",
      "        torch.float32,\n",
      "        torch.Size([])\n"
     ]
    }
   ],
   "source": [
    "test_random_policy_svg()"
   ]
  },
  {
   "cell_type": "code",
   "execution_count": 29,
   "id": "working-remainder",
   "metadata": {
    "tags": []
   },
   "outputs": [],
   "source": [
    "def test_optimal_policy_svg():\n",
    "    dynamics, cost, init = sample_lqg(n_state=2, n_ctrl=2, horizon=100, n_batch=10)\n",
    "    pistar, _, vstar = solution(dynamics, cost)\n",
    "    loss_fn = ExpectedValue()\n",
    "    eret = -loss_fn(init, tuple(x.select(\"H\", 0) for x in vstar))\n",
    "    print(\n",
    "        f\"\"\"\\\n",
    "    Optimal expected return: \n",
    "        {eret},\n",
    "        ({eret.dtype})\"\"\"\n",
    "    )\n",
    "\n",
    "    policy = tuple(x.requires_grad_(True) for x in pistar)\n",
    "    eret = -policy_loss(policy, dynamics, cost, init)\n",
    "    print(\n",
    "        f\"\"\"\\\n",
    "    Expected return from Prediction algorithm:\n",
    "        {eret},\n",
    "        ({eret.dtype})\"\"\"\n",
    "    )\n",
    "    svg_norm = compute_batched_svg_norm(eret, policy)\n",
    "    print(\n",
    "        f\"\"\"\\\n",
    "    Optimal policy SVG norm: \n",
    "        {svg_norm},\n",
    "        ({svg_norm.dtype},\n",
    "        {svg_norm.shape})\"\"\"\n",
    "    )"
   ]
  },
  {
   "cell_type": "code",
   "execution_count": 30,
   "id": "extreme-channels",
   "metadata": {},
   "outputs": [
    {
     "name": "stdout",
     "output_type": "stream",
     "text": [
      "    Optimal expected return: \n",
      "        tensor([-304.4993, -319.1856, -153.4185, -132.2723, -471.1103, -276.1604,\n",
      "        -208.5476, -255.6027, -430.7179, -136.0024], names=('B',)),\n",
      "        (torch.float32)\n",
      "    Expected return from Prediction algorithm:\n",
      "        tensor([-304.4993, -319.1856, -153.4185, -132.2723, -471.1103, -276.1604,\n",
      "        -208.5476, -255.6027, -430.7179, -136.0024], grad_fn=<NegBackward>,\n",
      "       names=('B',)),\n",
      "        (torch.float32)\n",
      "    Optimal policy SVG norm: \n",
      "        2.9730077585554682e-05,\n",
      "        (torch.float32,\n",
      "        torch.Size([]))\n"
     ]
    }
   ],
   "source": [
    "test_optimal_policy_svg()"
   ]
  },
  {
   "cell_type": "markdown",
   "id": "fatty-creativity",
   "metadata": {},
   "source": [
    "---\n",
    "## Beyond averages\n",
    "\n",
    "Next, we evaluate the distribution of optimal/random policy performances for different LQG problem sizes"
   ]
  },
  {
   "cell_type": "markdown",
   "id": "alike-variety",
   "metadata": {},
   "source": [
    "### Calculating the expected return (performance) & SVG norm for a batch of LQGs"
   ]
  },
  {
   "cell_type": "code",
   "execution_count": 31,
   "id": "6d63f3f8-8bbc-4719-9b90-0262048e0edd",
   "metadata": {},
   "outputs": [],
   "source": [
    "def expected_return(init: lqr.GaussInit, vval: lqr.Quadratic) -> Tensor:\n",
    "    expected_value = ExpectedValue()\n",
    "    expected_cost = expected_value(init, tuple(x.select(\"H\", 0) for x in vval))\n",
    "    return -expected_cost\n",
    "\n",
    "\n",
    "def optimal_performance(\n",
    "    dynamics: lqr.LinSDynamics, cost: lqr.QuadCost, init: lqr.GaussInit\n",
    ") -> Tensor:\n",
    "    pistar, qstar, vstar = solution(dynamics, cost)\n",
    "    return expected_return(init, vstar)\n",
    "\n",
    "\n",
    "def random_performance(\n",
    "    dynamics: lqr.LinSDynamics, cost: lqr.QuadCost, init: lqr.GaussInit, rng: RNG\n",
    ") -> Tensor:\n",
    "    return policy_value(sample_policy(dynamics, cost, rng=rng), dynamics, cost, init)\n",
    "\n",
    "\n",
    "@torch.no_grad()\n",
    "def performance_samples(\n",
    "    dims: tuple[int, int, int],\n",
    "    optimal: bool = False,\n",
    "    samples: int = 100,\n",
    "    clip_ctrl_dim: bool = False,\n",
    "    rng: RNG = None,\n",
    ") -> np.ndarray:\n",
    "    n_state, n_ctrl, horizon = dims\n",
    "    if clip_ctrl_dim and n_ctrl < n_state:\n",
    "        return np.full((samples,), fill_value=np.nan)\n",
    "\n",
    "    dynamics, cost, init = sample_lqg(n_state, n_ctrl, horizon, n_batch=samples)\n",
    "\n",
    "    if optimal:\n",
    "        eret = optimal_performance(dynamics, cost, init)\n",
    "    else:\n",
    "        eret = random_performance(dynamics, cost, init, rng=rng)\n",
    "    return eret.numpy()"
   ]
  },
  {
   "cell_type": "markdown",
   "id": "functioning-rolling",
   "metadata": {},
   "source": [
    "### Plotting the value distribution of optimal policies"
   ]
  },
  {
   "cell_type": "code",
   "execution_count": 32,
   "id": "a50091a4-c61d-4643-88a7-dd62f04b666d",
   "metadata": {},
   "outputs": [],
   "source": [
    "def title_from_dims(dims: tuple[int, int, int]) -> str:\n",
    "    if dims[0] == dims[1]:\n",
    "        return f\"Dim = {dims[0]}\"\n",
    "    return \"dim(S)={}, dim(A)={}\".format(*dims[:2])"
   ]
  },
  {
   "cell_type": "code",
   "execution_count": 33,
   "id": "2bb9f320-372a-404e-af37-9fcbcbe7a44d",
   "metadata": {},
   "outputs": [],
   "source": [
    "def repeat_dynamics(dynamics: lqr.LinSDynamics, n_batch: int) -> lqr.LinSDynamics:\n",
    "    return lqr.LinSDynamics(\n",
    "        F=torch.cat([dynamics.F.align_to(\"H\", \"B\", ...)] * n_batch, dim=\"B\"),\n",
    "        f=torch.cat([dynamics.f.align_to(\"H\", \"B\", ...)] * n_batch, dim=\"B\"),\n",
    "        W=torch.cat([dynamics.W.align_to(\"H\", \"B\", ...)] * n_batch, dim=\"B\"),\n",
    "    )\n",
    "\n",
    "\n",
    "def repeat_cost(cost: lqr.QuadCost, n_batch: int) -> lqr.QuadCost:\n",
    "    return lqr.QuadCost(\n",
    "        C=torch.cat([cost.C.align_to(\"H\", \"B\", ...)] * n_batch, dim=\"B\"),\n",
    "        c=torch.cat([cost.c.align_to(\"H\", \"B\", ...)] * n_batch, dim=\"B\"),\n",
    "    )\n",
    "\n",
    "\n",
    "def repeat_dynamics_cost(\n",
    "    dynamics: lqr.LinSDynamics, cost: lqr.QuadCost, n_batch: int\n",
    ") -> tuple[lqr.LinSDynamics, lqr.QuadCost]:\n",
    "    return repeat_dynamics(dynamics, n_batch), repeat_cost(cost, n_batch)"
   ]
  },
  {
   "cell_type": "code",
   "execution_count": 34,
   "id": "0e94c346-b9e7-4cca-8448-5e27e8f24d89",
   "metadata": {
    "tags": []
   },
   "outputs": [],
   "source": [
    "def plot_optimal_costs_hist(\n",
    "    ax,\n",
    "    n_state: int,\n",
    "    n_ctrl: int,\n",
    "    horizon: int,\n",
    "    samples: int = 1000,\n",
    "    fix_dynamics: bool = False,\n",
    "    fix_cost: bool = False,\n",
    "    rng: RNG = None,\n",
    "):\n",
    "    with GENERATOR.config(n_state=n_state, n_ctrl=n_ctrl, horizon=horizon, rng=rng):\n",
    "        dynamics = (\n",
    "            repeat_dynamics(GENERATOR.make_dynamics(), samples)\n",
    "            if fix_dynamics\n",
    "            else GENERATOR.make_dynamics(samples)\n",
    "        )\n",
    "        cost = (\n",
    "            repeat_cost(GENERATOR.make_cost(), samples)\n",
    "            if fix_cost\n",
    "            else GENERATOR.make_cost(samples)\n",
    "        )\n",
    "        init = GENERATOR.make_init(samples)\n",
    "\n",
    "    x = \"Optimal policy cost\"\n",
    "    df = pd.DataFrame({x: -optimal_performance(dynamics, cost, init)})\n",
    "\n",
    "    sns.histplot(ax=ax, data=df, x=x, stat=\"count\", log_scale=True)\n",
    "    ax.set_title(title_from_dims((n_state, n_ctrl, horizon)))"
   ]
  },
  {
   "cell_type": "code",
   "execution_count": 35,
   "id": "d4c38969-275a-45a6-a794-8ff9dee4bff8",
   "metadata": {},
   "outputs": [
    {
     "data": {
      "image/png": "[encoded data removed]",
      "text/plain": [
       "<Figure size 430.866x88.7633 with 3 Axes>"
      ]
     },
     "metadata": {},
     "output_type": "display_data"
    }
   ],
   "source": [
    "fig, (ax1, ax2, ax3) = plt.subplots(\n",
    "    1, 3, sharex=True, sharey=True, figsize=set_size(subplots=(1, 3))\n",
    ")\n",
    "plot_optimal_costs_hist(ax1, 2, 2, 20, rng=np.random.default_rng(42))\n",
    "plot_optimal_costs_hist(ax2, 8, 8, 20, rng=np.random.default_rng(42))\n",
    "plot_optimal_costs_hist(ax3, 32, 32, 20, rng=np.random.default_rng(42))\n",
    "ax2.set_ylabel(None)\n",
    "ax3.set_ylabel(None)\n",
    "# ax3.xaxis.set_minor_locator(mpl.ticker.LogLocator(numticks=10))\n",
    "# ax3.xaxis.set_ticks([100, 1000])\n",
    "# ax3.xaxis.set_minor_formatter(mpl.ticker.LogFormatterSciNotation(minor_thresholds=(.5, .34)))\n",
    "savefig(fig, \"optimal_costs_hist\")"
   ]
  },
  {
   "cell_type": "code",
   "execution_count": 36,
   "id": "55a48d9f-1db5-4cca-bfaa-071b0b0743ed",
   "metadata": {
    "tags": []
   },
   "outputs": [],
   "source": [
    "def optimal_costs_mixed(\n",
    "    n_states: list[int],\n",
    "    n_ctrls: list[int],\n",
    "    horizons: list[int],\n",
    "    samples: int = 1000,\n",
    "    fix_dynamics: bool = False,\n",
    "    fix_cost: bool = False,\n",
    "    rng: RNG = None,\n",
    "):\n",
    "    dfs = []\n",
    "    for n_state, n_ctrl, horizon in zip(n_states, n_ctrls, horizons):\n",
    "        with GENERATOR.config(n_state=n_state, n_ctrl=n_ctrl, horizon=horizon, rng=rng):\n",
    "            dynamics = (\n",
    "                repeat_dynamics(GENERATOR.make_dynamics(), samples)\n",
    "                if fix_dynamics\n",
    "                else GENERATOR.make_dynamics(samples)\n",
    "            )\n",
    "            cost = (\n",
    "                repeat_cost(GENERATOR.make_cost(), samples)\n",
    "                if fix_cost\n",
    "                else GENERATOR.make_cost(samples)\n",
    "            )\n",
    "            init = GENERATOR.make_init(samples)\n",
    "\n",
    "        dfs += [\n",
    "            pd.DataFrame(\n",
    "                {\n",
    "                    \"Optimal policy cost\": -optimal_performance(dynamics, cost, init),\n",
    "                    \"Dim\": n_state,\n",
    "                }\n",
    "            )\n",
    "        ]\n",
    "\n",
    "    return pd.concat(dfs, ignore_index=True)\n",
    "\n",
    "\n",
    "def plot_optimal_costs_mixed(ax, df: pd.DataFrame, x=\"Optimal policy cost\", hue=\"Dim\"):\n",
    "    sns.histplot(\n",
    "        ax=ax,\n",
    "        data=df,\n",
    "        x=x,\n",
    "        hue=hue,\n",
    "        stat=\"density\",\n",
    "        log_scale=True,\n",
    "        bins=\"auto\",\n",
    "        common_bins=False,\n",
    "        palette=\"coolwarm\",\n",
    "    )"
   ]
  },
  {
   "cell_type": "code",
   "execution_count": 37,
   "id": "26e1b347-be0e-4159-a89b-b2b392da23b0",
   "metadata": {},
   "outputs": [
    {
     "name": "stdout",
     "output_type": "stream",
     "text": [
      "    Optimal policy cost            \n",
      "                   mean         std\n",
      "Dim                                \n",
      "2             73.507126  171.286926\n",
      "4            114.628151   95.716746\n",
      "8            187.876389   48.173566\n",
      "16           346.338989   50.298523\n",
      "32           665.879333   67.604382\n"
     ]
    }
   ],
   "source": [
    "dims = [2 ** i for i in range(1, 6)]\n",
    "optimal_costs_mixed_data = optimal_costs_mixed(\n",
    "    n_states=dims,\n",
    "    n_ctrls=dims,\n",
    "    horizons=[20] * len(dims),\n",
    "    rng=np.random.default_rng(42),\n",
    ")\n",
    "print(optimal_costs_mixed_data.groupby(\"Dim\").agg([\"mean\", \"std\"]))"
   ]
  },
  {
   "cell_type": "code",
   "execution_count": 38,
   "id": "e8f93b27-424e-4b68-9775-b4d61d4f9118",
   "metadata": {},
   "outputs": [
    {
     "data": {
      "image/png": "[encoded data removed]",
      "text/plain": [
       "<Figure size 258.52x159.774 with 1 Axes>"
      ]
     },
     "metadata": {},
     "output_type": "display_data"
    }
   ],
   "source": [
    "fig, ax = plt.subplots(1, 1, figsize=set_size(fraction=0.6))\n",
    "sns.histplot(\n",
    "    ax=ax,\n",
    "    data=optimal_costs_mixed_data,\n",
    "    x=\"Optimal policy cost\",\n",
    "    hue=\"Dim\",\n",
    "    stat=\"density\",\n",
    "    log_scale=10,\n",
    "    bins=\"auto\",\n",
    "    common_bins=False,\n",
    "    palette=\"deep\",\n",
    "    element=\"step\",\n",
    ")\n",
    "savefig(fig, \"optimal_costs_hist_mixed\")"
   ]
  },
  {
   "cell_type": "code",
   "execution_count": 39,
   "id": "24885fe4-cb4d-47e1-9e13-a196165a7342",
   "metadata": {},
   "outputs": [],
   "source": [
    "def fgrid_size(rows: int, cols: int, **setsize_kws) -> dict:\n",
    "    \"\"\"Kwargs to set FacetGrid size based on number of rows and cols.\"\"\"\n",
    "    w, h = set_size(subplots=(rows, cols), **setsize_kws)\n",
    "    return dict(height=h / rows, aspect=(w / cols) / (h / rows))"
   ]
  },
  {
   "cell_type": "code",
   "execution_count": 40,
   "id": "5d0934be-049e-4dbf-bfe5-2cdc8228bcdc",
   "metadata": {},
   "outputs": [
    {
     "data": {
      "image/png": "[encoded data removed]",
      "text/plain": [
       "<Figure size 430.866x133.145 with 2 Axes>"
      ]
     },
     "metadata": {},
     "output_type": "display_data"
    }
   ],
   "source": [
    "fix_dynamics = optimal_costs_mixed(\n",
    "    n_states=dims,\n",
    "    n_ctrls=dims,\n",
    "    horizons=[20] * len(dims),\n",
    "    fix_dynamics=True,\n",
    "    rng=np.random.default_rng(42),\n",
    ")\n",
    "fix_dynamics[\"cat\"] = \"Fixed dynamics\"\n",
    "fix_costs = optimal_costs_mixed(\n",
    "    n_states=dims,\n",
    "    n_ctrls=dims,\n",
    "    horizons=[20] * len(dims),\n",
    "    fix_cost=True,\n",
    "    rng=np.random.default_rng(42),\n",
    ")\n",
    "fix_costs[\"cat\"] = \"Fixed cost\"\n",
    "fgrid = sns.displot(\n",
    "    data=pd.concat([fix_dynamics, fix_costs], ignore_index=True),\n",
    "    kind=\"hist\",\n",
    "    x=\"Optimal policy cost\",\n",
    "    hue=\"Dim\",\n",
    "    bins=\"auto\",\n",
    "    common_bins=False,\n",
    "    stat=\"density\",\n",
    "    palette=\"deep\",\n",
    "    element=\"step\",\n",
    "    log_scale=True,\n",
    "    col=\"cat\",\n",
    "    facet_kws=dict(legend_out=False, margin_titles=True),\n",
    "    **fgrid_size(1, 2, fraction=1.0)\n",
    ")\n",
    "fgrid.set_titles(col_template=\"{col_name}\")\n",
    "savefig(fgrid, \"optimal_costs_hist_mixed_fix_dynamics_cost\")"
   ]
  },
  {
   "cell_type": "code",
   "execution_count": 41,
   "id": "9c4de02c-ff9d-4444-a4e3-6a2338ab10e7",
   "metadata": {},
   "outputs": [
    {
     "data": {
      "text/plain": [
       "array([45.091602], dtype=float32)"
      ]
     },
     "execution_count": 41,
     "metadata": {},
     "output_type": "execute_result"
    }
   ],
   "source": [
    "# Sanity check\n",
    "optimal_costs_mixed(\n",
    "    [2], [2], [20], fix_dynamics=True, fix_cost=True, rng=np.random.default_rng(42)\n",
    ")[\"Optimal policy cost\"].unique()"
   ]
  },
  {
   "cell_type": "markdown",
   "id": "ee9a2f84-7568-4743-a96b-fc53d8985856",
   "metadata": {},
   "source": [
    "### Plotting the suboptimality gap distribution of random policies"
   ]
  },
  {
   "cell_type": "code",
   "execution_count": 42,
   "id": "32e64d60-22d3-44f3-9f9d-73b5eb0478cf",
   "metadata": {
    "tags": []
   },
   "outputs": [],
   "source": [
    "def random_costs_df(\n",
    "    n_state: int, n_ctrl: int, horizon: int, samples: int = 1000, rng: RNG = None\n",
    "):\n",
    "    with GENERATOR.config(n_state=n_state, n_ctrl=n_ctrl, horizon=horizon, rng=rng):\n",
    "        dynamics, cost, init = GENERATOR()\n",
    "\n",
    "    optimal_cost = -optimal_performance(dynamics, cost, init)\n",
    "    dynamics, cost = repeat_dynamics_cost(dynamics, cost, samples)\n",
    "    random_costs = -random_performance(dynamics, cost, init, rng=rng)\n",
    "\n",
    "    data = {\n",
    "        \"Random policy cost\": random_costs.numpy(),\n",
    "        \"Suboptimality gap\": analysis.relative_error(\n",
    "            optimal_cost, random_costs\n",
    "        ).numpy(),\n",
    "    }\n",
    "    data = pd.DataFrame(data)\n",
    "    data[\"Optimal cost\"] = optimal_cost.item()\n",
    "    data[\"n state\"] = n_state\n",
    "    data[\"n ctrl\"] = n_ctrl\n",
    "    data[\"horizon\"] = horizon\n",
    "    return data\n",
    "\n",
    "\n",
    "def plot_random_costs_hist(ax, data: pd.DataFrame, x: str = \"Random policy cost\"):\n",
    "    sns.histplot(ax=ax, data=data, x=x, stat=\"density\", log_scale=True)\n",
    "    ax.axvline(data[\"Optimal cost\"][0], label=\"optimal\", color=\"red\", linestyle=\"--\")\n",
    "    ax.set_title(\n",
    "        title_from_dims((data[\"n state\"][0], data[\"n ctrl\"][0], data[\"horizon\"][0]))\n",
    "    )\n",
    "\n",
    "\n",
    "def plot_suboptimality_hist(ax, data: pd.DataFrame, x: str = \"Suboptimality gap\"):\n",
    "    sns.histplot(ax=ax, data=data, x=x, stat=\"density\", log_scale=True)\n",
    "    dims = (data[\"n state\"][0], data[\"n ctrl\"][0], data[\"horizon\"][0])\n",
    "    ax.set_title(title_from_dims(dims))"
   ]
  },
  {
   "cell_type": "code",
   "execution_count": 86,
   "id": "a4f8bd70-6576-49a2-84de-79135322426c",
   "metadata": {},
   "outputs": [
    {
     "name": "stdout",
     "output_type": "stream",
     "text": [
      "   Random policy cost  Suboptimality gap  Optimal cost  n state  n ctrl  \\\n",
      "0           93.965691           1.083884     45.091602        2       2   \n",
      "1           74.910835           0.661304     45.091602        2       2   \n",
      "2           52.939667           0.174047     45.091602        2       2   \n",
      "3           76.590828           0.698561     45.091602        2       2   \n",
      "4          129.708694           1.876560     45.091602        2       2   \n",
      "\n",
      "   horizon  \n",
      "0       20  \n",
      "1       20  \n",
      "2       20  \n",
      "3       20  \n",
      "4       20  \n"
     ]
    }
   ],
   "source": [
    "SUBOPTIMALITY_DATA = pd.concat(\n",
    "    [\n",
    "        random_costs_df(2 ** i, 2 ** j, 20, rng=np.random.default_rng(42))\n",
    "        for i in range(1, 4)\n",
    "        for j in range(1, 4)\n",
    "    ],\n",
    "    ignore_index=True,\n",
    ")\n",
    "print(SUBOPTMALITY_DATA.head())"
   ]
  },
  {
   "cell_type": "code",
   "execution_count": 87,
   "id": "fbaa5835-a535-435d-8471-22ae0b02b56c",
   "metadata": {},
   "outputs": [
    {
     "data": {
      "image/png": "[encoded data removed]",
      "text/plain": [
       "<Figure size 344.693x213.032 with 9 Axes>"
      ]
     },
     "metadata": {},
     "output_type": "display_data"
    }
   ],
   "source": [
    "fig = sns.displot(\n",
    "    data=SUBOPTIMALITY_DATA,\n",
    "    kind=\"hist\",\n",
    "    x=\"Suboptimality gap\",\n",
    "    stat=\"density\",\n",
    "    log_scale=True,\n",
    "    element=\"step\",\n",
    "    row=\"n state\",\n",
    "    col=\"n ctrl\",\n",
    "    facet_kws=dict(margin_titles=True),\n",
    "    **fgrid_size(3, 3, fraction=0.8)\n",
    ")\n",
    "fig.set_titles(\n",
    "    row_template=\"dim($\\mathcal{{S}}$) = {row_name}\",\n",
    "    col_template=\"dim($\\mathcal{{A}}$) = {col_name}\",\n",
    ")\n",
    "savefig(fig, \"random_costs_hist\")"
   ]
  },
  {
   "cell_type": "markdown",
   "id": "interstate-accent",
   "metadata": {},
   "source": [
    "### Plotting the performance distribution of random policies vs. distance to optimal policy"
   ]
  },
  {
   "cell_type": "code",
   "execution_count": 127,
   "id": "404d7af7-be8f-4d3a-8f13-526195e05610",
   "metadata": {},
   "outputs": [],
   "source": [
    "@torch.no_grad()\n",
    "def val_and_grad_diff_samples(\n",
    "    dims: tuple[int, int, int], samples: int = 100, rng: RNG = None\n",
    ") -> tuple[np.ndarray, np.ndarray]:\n",
    "    n_state, n_ctrl, horizon = dims\n",
    "    with GENERATOR.config(n_state=n_state, n_ctrl=n_ctrl, horizon=horizon, rng=rng):\n",
    "        dynamics, cost, init = GENERATOR()\n",
    "\n",
    "    optimal, _, vstar = solution(dynamics, cost)\n",
    "    optimal = tuple(k.align_to(\"H\", \"B\", ...) for k in optimal)\n",
    "    best_perf = expected_return(init, vstar).align_to(\"B\", ...)\n",
    "\n",
    "    dynamics = repeat_dynamics(dynamics, n_batch=samples)\n",
    "    cost = repeat_cost(cost, n_batch=samples)\n",
    "    random = sample_policy(dynamics, cost, rng=rng)\n",
    "    rand_perf = policy_value(random, dynamics, cost, init)\n",
    "\n",
    "    suboptimality = analysis.relative_error(best_perf, rand_perf).numpy()\n",
    "    distance = policy_distance(random, optimal).numpy()\n",
    "    assert np.all(np.isfinite(suboptimality)), suboptimality\n",
    "    assert np.all(np.isfinite(distance)), distance\n",
    "    return suboptimality, distance"
   ]
  },
  {
   "cell_type": "code",
   "execution_count": 128,
   "id": "amino-joseph",
   "metadata": {
    "tags": []
   },
   "outputs": [
    {
     "data": {
      "text/html": [
       "<div>\n",
       "<style scoped>\n",
       "    .dataframe tbody tr th:only-of-type {\n",
       "        vertical-align: middle;\n",
       "    }\n",
       "\n",
       "    .dataframe tbody tr th {\n",
       "        vertical-align: top;\n",
       "    }\n",
       "\n",
       "    .dataframe thead th {\n",
       "        text-align: right;\n",
       "    }\n",
       "</style>\n",
       "<table border=\"1\" class=\"dataframe\">\n",
       "  <thead>\n",
       "    <tr style=\"text-align: right;\">\n",
       "      <th></th>\n",
       "      <th>Suboptimality gap</th>\n",
       "      <th>Parameter distance</th>\n",
       "      <th>dim(S)</th>\n",
       "      <th>dim(A)</th>\n",
       "      <th>H</th>\n",
       "    </tr>\n",
       "  </thead>\n",
       "  <tbody>\n",
       "    <tr>\n",
       "      <th>0</th>\n",
       "      <td>1.083884</td>\n",
       "      <td>6.473674</td>\n",
       "      <td>2</td>\n",
       "      <td>2</td>\n",
       "      <td>20</td>\n",
       "    </tr>\n",
       "    <tr>\n",
       "      <th>1</th>\n",
       "      <td>0.661304</td>\n",
       "      <td>5.908376</td>\n",
       "      <td>2</td>\n",
       "      <td>2</td>\n",
       "      <td>20</td>\n",
       "    </tr>\n",
       "    <tr>\n",
       "      <th>2</th>\n",
       "      <td>0.174047</td>\n",
       "      <td>3.838475</td>\n",
       "      <td>2</td>\n",
       "      <td>2</td>\n",
       "      <td>20</td>\n",
       "    </tr>\n",
       "    <tr>\n",
       "      <th>3</th>\n",
       "      <td>0.698561</td>\n",
       "      <td>4.454186</td>\n",
       "      <td>2</td>\n",
       "      <td>2</td>\n",
       "      <td>20</td>\n",
       "    </tr>\n",
       "    <tr>\n",
       "      <th>4</th>\n",
       "      <td>1.876560</td>\n",
       "      <td>8.018917</td>\n",
       "      <td>2</td>\n",
       "      <td>2</td>\n",
       "      <td>20</td>\n",
       "    </tr>\n",
       "  </tbody>\n",
       "</table>\n",
       "</div>"
      ],
      "text/plain": [
       "   Suboptimality gap  Parameter distance  dim(S)  dim(A)   H\n",
       "0           1.083884            6.473674       2       2  20\n",
       "1           0.661304            5.908376       2       2  20\n",
       "2           0.174047            3.838475       2       2  20\n",
       "3           0.698561            4.454186       2       2  20\n",
       "4           1.876560            8.018917       2       2  20"
      ]
     },
     "execution_count": 128,
     "metadata": {},
     "output_type": "execute_result"
    }
   ],
   "source": [
    "def val_and_param_diff_data(\n",
    "    dims: tuple[int, int, int], samples: int = 1000, rng: RNG = None\n",
    "):\n",
    "    x = \"Suboptimality gap\"\n",
    "    y = \"Parameter distance\"\n",
    "\n",
    "    suboptimality, distance = val_and_grad_diff_samples(dims, samples=samples, rng=rng)\n",
    "    df = pd.DataFrame({x: suboptimality, y: distance})\n",
    "    df[\"dim(S)\"], df[\"dim(A)\"], df[\"H\"] = dims\n",
    "    return df\n",
    "\n",
    "\n",
    "VAL_PARAM_DIFF = pd.concat(\n",
    "    [\n",
    "        val_and_param_diff_data((2 ** i, 2 ** i, 20), rng=np.random.default_rng(42))\n",
    "        for i in range(1, 5)\n",
    "    ],\n",
    "    ignore_index=True,\n",
    ")\n",
    "VAL_PARAM_DIFF.head()"
   ]
  },
  {
   "cell_type": "code",
   "execution_count": 135,
   "id": "b65de47b-c07b-4ce4-ad32-b11af027d63c",
   "metadata": {},
   "outputs": [
    {
     "data": {
      "image/png": "[encoded data removed]",
      "text/plain": [
       "<Figure size 344.693x213.032 with 4 Axes>"
      ]
     },
     "metadata": {},
     "output_type": "display_data"
    }
   ],
   "source": [
    "fig = sns.FacetGrid(\n",
    "    data=VAL_PARAM_DIFF,\n",
    "    col=\"dim(S)\",\n",
    "    col_wrap=2,\n",
    "    sharex=False,\n",
    "    sharey=False,\n",
    "    **fgrid_size(2, 2, fraction=0.8)\n",
    ")\n",
    "fig.map_dataframe(\n",
    "    sns.histplot,\n",
    "    x=\"Suboptimality gap\",\n",
    "    y=\"Parameter distance\",\n",
    "    stat=\"density\",\n",
    "    bins=\"auto\",\n",
    "    log_scale=(True, False),\n",
    ")\n",
    "fig.tight_layout()\n",
    "fig.set_titles(\"dim($\\mathcal{{S}}$) = {col_name}\")\n",
    "savefig(fig, \"val_and_param_diff\")"
   ]
  },
  {
   "cell_type": "markdown",
   "id": "medical-light",
   "metadata": {},
   "source": [
    "### Plotting the SVG norm distribution"
   ]
  },
  {
   "cell_type": "code",
   "execution_count": 79,
   "id": "little-planning",
   "metadata": {},
   "outputs": [],
   "source": [
    "def random_svg_norm(\n",
    "    dynamics: lqr.LinSDynamics, cost: lqr.QuadCost, init: lqr.GaussInit, rng: RNG\n",
    ") -> Tensor:\n",
    "    policy = tuple(\n",
    "        g.requires_grad_(True) for g in sample_policy(dynamics, cost, rng=rng)\n",
    "    )\n",
    "    _, svg_norm = policy_svg_norm(policy, dynamics, cost, init)\n",
    "    return svg_norm\n",
    "\n",
    "\n",
    "def svg_norm_samples(\n",
    "    dims: tuple[int, int, int], samples: int = 100, rng: RNG = None\n",
    ") -> np.ndarray:\n",
    "    n_state, n_ctrl, horizon = dims\n",
    "    with GENERATOR.config(n_state=n_state, n_ctrl=n_ctrl, horizon=horizon, rng=rng):\n",
    "        dynamics, cost, init = GENERATOR()\n",
    "    dynamics, cost = repeat_dynamics_cost(dynamics, cost, samples)\n",
    "    init = lqr.GaussInit(init.mu.align_to(\"B\", ...), init.sig.align_to(\"B\", ...))\n",
    "    return random_svg_norm(dynamics, cost, init, rng=rng).numpy()"
   ]
  },
  {
   "cell_type": "code",
   "execution_count": 133,
   "id": "limited-luxury",
   "metadata": {},
   "outputs": [
    {
     "name": "stdout",
     "output_type": "stream",
     "text": [
      "1 1\n",
      "1 2\n",
      "1 3\n",
      "2 1\n",
      "2 2\n",
      "2 3\n",
      "3 1\n",
      "3 2\n",
      "3 3\n"
     ]
    },
    {
     "data": {
      "text/html": [
       "<div>\n",
       "<style scoped>\n",
       "    .dataframe tbody tr th:only-of-type {\n",
       "        vertical-align: middle;\n",
       "    }\n",
       "\n",
       "    .dataframe tbody tr th {\n",
       "        vertical-align: top;\n",
       "    }\n",
       "\n",
       "    .dataframe thead th {\n",
       "        text-align: right;\n",
       "    }\n",
       "</style>\n",
       "<table border=\"1\" class=\"dataframe\">\n",
       "  <thead>\n",
       "    <tr style=\"text-align: right;\">\n",
       "      <th></th>\n",
       "      <th>SVG norm</th>\n",
       "      <th>dim(S)</th>\n",
       "      <th>dim(A)</th>\n",
       "      <th>H</th>\n",
       "    </tr>\n",
       "  </thead>\n",
       "  <tbody>\n",
       "    <tr>\n",
       "      <th>0</th>\n",
       "      <td>25.492029</td>\n",
       "      <td>2</td>\n",
       "      <td>2</td>\n",
       "      <td>20</td>\n",
       "    </tr>\n",
       "    <tr>\n",
       "      <th>1</th>\n",
       "      <td>14.553897</td>\n",
       "      <td>2</td>\n",
       "      <td>2</td>\n",
       "      <td>20</td>\n",
       "    </tr>\n",
       "    <tr>\n",
       "      <th>2</th>\n",
       "      <td>5.017433</td>\n",
       "      <td>2</td>\n",
       "      <td>2</td>\n",
       "      <td>20</td>\n",
       "    </tr>\n",
       "    <tr>\n",
       "      <th>3</th>\n",
       "      <td>53.503597</td>\n",
       "      <td>2</td>\n",
       "      <td>2</td>\n",
       "      <td>20</td>\n",
       "    </tr>\n",
       "    <tr>\n",
       "      <th>4</th>\n",
       "      <td>41.927593</td>\n",
       "      <td>2</td>\n",
       "      <td>2</td>\n",
       "      <td>20</td>\n",
       "    </tr>\n",
       "  </tbody>\n",
       "</table>\n",
       "</div>"
      ],
      "text/plain": [
       "    SVG norm  dim(S)  dim(A)   H\n",
       "0  25.492029       2       2  20\n",
       "1  14.553897       2       2  20\n",
       "2   5.017433       2       2  20\n",
       "3  53.503597       2       2  20\n",
       "4  41.927593       2       2  20"
      ]
     },
     "execution_count": 133,
     "metadata": {},
     "output_type": "execute_result"
    }
   ],
   "source": [
    "def svg_norm_df(dims: tuple[int, int, int], samples: int = 1000, rng: RNG = None):\n",
    "    x = \"SVG norm\"\n",
    "    df = pd.DataFrame({x: svg_norm_samples(dims, samples=samples, rng=rng)})\n",
    "    df[\"dim(S)\"], df[\"dim(A)\"], df[\"H\"] = dims\n",
    "    return df\n",
    "\n",
    "\n",
    "dfs = []\n",
    "for i in range(1, 4):\n",
    "    for j in range(1, 4):\n",
    "        print(i, j)\n",
    "        dfs += [svg_norm_df((2 ** i, 2 ** j, 20), rng=np.random.default_rng(42))]\n",
    "SVG_NORM = pd.concat(dfs, ignore_index=True)\n",
    "SVG_NORM.head()"
   ]
  },
  {
   "cell_type": "code",
   "execution_count": 134,
   "id": "8ec4b360-3efa-436d-8b40-a80135327725",
   "metadata": {},
   "outputs": [
    {
     "data": {
      "image/png": "[encoded data removed]",
      "text/plain": [
       "<Figure size 323.15x199.717 with 9 Axes>"
      ]
     },
     "metadata": {},
     "output_type": "display_data"
    }
   ],
   "source": [
    "fig = sns.displot(\n",
    "    data=SVG_NORM,\n",
    "    kind=\"hist\",\n",
    "    x=\"SVG norm\",\n",
    "    bins=\"auto\",\n",
    "    stat=\"density\",\n",
    "    log_scale=True,\n",
    "    color=\"brown\",\n",
    "    element=\"step\",\n",
    "    row=\"dim(S)\",\n",
    "    col=\"dim(A)\",\n",
    "    facet_kws=dict(margin_titles=True),\n",
    "    **fgrid_size(4, 4)\n",
    ")\n",
    "fig.tight_layout()\n",
    "savefig(fig, \"svg_norm_hist\")"
   ]
  },
  {
   "cell_type": "code",
   "execution_count": null,
   "id": "e9f2236f-0dbd-437a-9ff1-5a3666e0984d",
   "metadata": {},
   "outputs": [],
   "source": [
    "assert False"
   ]
  },
  {
   "cell_type": "markdown",
   "id": "eight-finish",
   "metadata": {},
   "source": [
    "---\n",
    "## Evaluate cost scaling against each variable\n",
    "\n",
    "### Checklist\n",
    "- [x] Stack several LQGs including init dists\n",
    "- [x] Define range of `n_state`s, `n_ctrl`s, and `horizon`s\n",
    "- [x] Fix initial values of `n_state=2`, `n_ctrl=2`, `horizon=100`\n",
    "- [x] Iterate over one of the ranges, e.g., `horizon`s:\n",
    "  - [x] Generate several LQGs with the current `n_state`, `n_ctrl`, `horizon` and stack them\n",
    "  - [x] Find the optimal solutions (policies) and evaluate the optimal expected returns\n",
    "  - [x] Average the results accross the LQGs generated\n",
    "  - [x] Plot the average against the current `n_state`, `n_ctrl`, `horizon`"
   ]
  },
  {
   "cell_type": "code",
   "execution_count": null,
   "id": "opening-cemetery",
   "metadata": {},
   "outputs": [],
   "source": [
    "def performance_matrix(\n",
    "    state_dim_arr: np.ndarray,\n",
    "    ctrl_dim_arr: np.ndarray,\n",
    "    horizon_arr: np.ndarray,\n",
    "    perf_sampling_fn: Callable[[int, int, int], np.ndarray],\n",
    ") -> np.ndarray:\n",
    "    pbar = tqdm(\n",
    "        zip(state_dim_arr, ctrl_dim_arr, horizon_arr),\n",
    "        total=len(ctrl_dim_arr),\n",
    "        desc=\"Computing performance by LQG dims\",\n",
    "    )\n",
    "\n",
    "    exp_ret_arrs = [\n",
    "        perf_sampling_fn(n_state, n_ctrl, horizon) for n_state, n_ctrl, horizon in pbar\n",
    "    ]\n",
    "\n",
    "    exp_ret_mat = np.vstack(exp_ret_arrs)\n",
    "    return exp_ret_mat"
   ]
  },
  {
   "cell_type": "code",
   "execution_count": null,
   "id": "latter-sleep",
   "metadata": {
    "tags": []
   },
   "outputs": [],
   "source": [
    "def average_performance_lineplot(\n",
    "    state_dim: np.ndarray,\n",
    "    ctrl_dim: np.ndarray,\n",
    "    horizon: np.ndarray,\n",
    "    x_axis: tuple[str, np.ndarray],\n",
    "):\n",
    "    x, x_arr = x_axis\n",
    "    y = \"average performance\"\n",
    "    hue = \"optimal\"\n",
    "    n_samples = 200\n",
    "\n",
    "    def sampler(s, c, h, *, optimal: bool):\n",
    "        return performance_samples((s, c, h), samples=n_samples, optimal=optimal)\n",
    "\n",
    "    optimal = {\n",
    "        x: x_arr,\n",
    "        y: performance_matrix(\n",
    "            state_dim, ctrl_dim, horizon, partial(sampler, optimal=True)\n",
    "        ).mean(-1),\n",
    "        hue: np.ones_like(x_arr, dtype=bool),\n",
    "    }\n",
    "    random = {\n",
    "        x: x_arr,\n",
    "        y: performance_matrix(\n",
    "            state_dim, ctrl_dim, horizon, partial(sampler, optimal=False)\n",
    "        ).mean(-1),\n",
    "        hue: np.zeros_like(x_arr, dtype=bool),\n",
    "    }\n",
    "\n",
    "    data = pd.concat(list(map(pd.DataFrame, (optimal, random))))\n",
    "    ax = sns.lineplot(x=x, y=y, data=data, hue=hue)\n",
    "    plt.show()"
   ]
  },
  {
   "cell_type": "markdown",
   "id": "changed-denmark",
   "metadata": {
    "tags": []
   },
   "source": [
    "#### Performance vs. state dimension"
   ]
  },
  {
   "cell_type": "code",
   "execution_count": null,
   "id": "international-ridge",
   "metadata": {
    "tags": []
   },
   "outputs": [],
   "source": [
    "x_axis = np.arange(2, 12)\n",
    "average_performance_lineplot(\n",
    "    state_dim=x_axis,\n",
    "    ctrl_dim=np.full(10, 2, dtype=int),\n",
    "    horizon=np.full(10, 100, dtype=int),\n",
    "    x_axis=(\"state dim\", x_axis),\n",
    ")"
   ]
  },
  {
   "cell_type": "markdown",
   "id": "collect-butterfly",
   "metadata": {},
   "source": [
    "#### Performance vs. control dimension"
   ]
  },
  {
   "cell_type": "code",
   "execution_count": null,
   "id": "fresh-commissioner",
   "metadata": {
    "tags": []
   },
   "outputs": [],
   "source": [
    "state_dims = np.full(10, 2, dtype=int)\n",
    "ctrl_dims = np.arange(2, 12)\n",
    "horizons = np.full(10, 100, dtype=int)\n",
    "average_performance_lineplot(\n",
    "    state_dim=state_dims,\n",
    "    ctrl_dim=ctrl_dims,\n",
    "    horizon=horizons,\n",
    "    x_axis=(\"ctrl dim\", ctrl_dims),\n",
    ")"
   ]
  },
  {
   "cell_type": "markdown",
   "id": "caroline-attachment",
   "metadata": {},
   "source": [
    "#### Performance vs. horizon length"
   ]
  },
  {
   "cell_type": "code",
   "execution_count": null,
   "id": "manufactured-option",
   "metadata": {
    "tags": []
   },
   "outputs": [],
   "source": [
    "state_dims = np.full(10, 2, dtype=int)\n",
    "ctrl_dims = np.full(10, 2, dtype=int)\n",
    "horizons = 100 * np.arange(1, 11)\n",
    "average_performance_lineplot(state_dims, ctrl_dims, horizons, (\"horizon\", horizons))"
   ]
  },
  {
   "cell_type": "markdown",
   "id": "athletic-penny",
   "metadata": {},
   "source": [
    "#### Performance vs. state & control dimension"
   ]
  },
  {
   "cell_type": "code",
   "execution_count": null,
   "id": "spanish-aquatic",
   "metadata": {
    "tags": []
   },
   "outputs": [],
   "source": [
    "state_dims = ctrl_dims = np.arange(1, 21) + 1\n",
    "horizons = np.full(20, 100, dtype=int)\n",
    "average_performance_lineplot(\n",
    "    state_dims, ctrl_dims, horizons, (\"state & ctrl dim\", state_dims)\n",
    ")"
   ]
  },
  {
   "cell_type": "markdown",
   "id": "graphic-oxygen",
   "metadata": {},
   "source": [
    "---\n",
    "## Multivariate analysis of cost scaling\n",
    "\n",
    "### Checklist\n",
    "- [x] Plot the average expected return against two variables, e.g., `n_state` and `n_ctrl`, as a 3D surface plot\n",
    "- [ ] ~Use the insights gained from observing the cost scaling to propose a _downscaling_ parameter for random QuadCosts~\n",
    "- [x] Use the analysis above to also derive a scale parameter for the random Gaussian noise for policy generation"
   ]
  },
  {
   "cell_type": "code",
   "execution_count": null,
   "id": "smooth-cause",
   "metadata": {},
   "outputs": [],
   "source": [
    "def large_fig(*args, scale: float = 2.0, **kwargs):\n",
    "    return plt.figure(*args, figsize=[scale * 6.4, scale * 4.8], **kwargs)"
   ]
  },
  {
   "cell_type": "code",
   "execution_count": null,
   "id": "controversial-straight",
   "metadata": {
    "tags": []
   },
   "outputs": [],
   "source": [
    "def plot_3d_from_2d_function(\n",
    "    ax,\n",
    "    xrange: np.ndarray,\n",
    "    yrange: np.ndarray,\n",
    "    function: callable[[np.ndarray, np.ndarray], np.ndarray],\n",
    "):\n",
    "    length = len(xrange)\n",
    "    xbatch, ybatch = np.meshgrid(xrange, yrange)\n",
    "    assert xbatch.shape == ybatch.shape == (length, length)\n",
    "\n",
    "    x_arr, y_arr = map(lambda x: x.reshape((-1,)), (xbatch, ybatch))\n",
    "    assert (\n",
    "        x_arr.shape == y_arr.shape == (length ** 2,)\n",
    "    ), f\"expected: {(length ** 2,)}; x_arr: {x_arr.shape}; y_arr {y_arr.shape}\"\n",
    "\n",
    "    z_arr = function(x_arr, y_arr)\n",
    "    assert z_arr.shape == x_arr.shape, f\"{z_arr.shape} != {x_arr.shape}\"\n",
    "\n",
    "    zbatch = z_arr.reshape(xbatch.shape)\n",
    "    ax.plot_surface(xbatch, ybatch, zbatch, cmap=cm.coolwarm)"
   ]
  },
  {
   "cell_type": "markdown",
   "id": "raising-input",
   "metadata": {},
   "source": [
    "### State vs. control dimension with fixed horizon\n",
    "\n",
    "In what follows we set the horizon length to 100 steps.\n",
    "\n",
    "#### Best expected return"
   ]
  },
  {
   "cell_type": "code",
   "execution_count": null,
   "id": "becoming-isaac",
   "metadata": {},
   "outputs": [],
   "source": [
    "def performances_by_state_ctrl_dim(\n",
    "    state_dim_arr: np.ndarray, ctrl_dim_arr: np.ndarray, horizon: int, optimal: bool\n",
    ") -> np.ndarray:\n",
    "    horizon_arr = np.full_like(state_dim_arr, fill_value=horizon)\n",
    "    exp_opt_ret_mat = performance_matrix(\n",
    "        state_dim_arr,\n",
    "        ctrl_dim_arr,\n",
    "        horizon_arr,\n",
    "        lambda s, c, h: performance_samples(\n",
    "            (s, c, h), optimal=optimal, samples=100, clip_ctrl_dim=False\n",
    "        ),\n",
    "    )\n",
    "    return exp_opt_ret_mat"
   ]
  },
  {
   "cell_type": "code",
   "execution_count": null,
   "id": "perceived-relaxation",
   "metadata": {},
   "outputs": [],
   "source": [
    "def average_performance_by_state_ctrl_dim(\n",
    "    state_dim_arr: np.ndarray, ctrl_dim_arr: np.ndarray, optimal: bool\n",
    ") -> np.ndarray:\n",
    "    z_arr = performances_by_state_ctrl_dim(\n",
    "        state_dim_arr, ctrl_dim_arr, horizon=100, optimal=optimal\n",
    "    ).mean(axis=-1)\n",
    "    # Filtering NaNs\n",
    "    z_arr = np.nan_to_num(z_arr, nan=np.nanmin(z_arr))\n",
    "    return z_arr"
   ]
  },
  {
   "cell_type": "code",
   "execution_count": null,
   "id": "prostate-director",
   "metadata": {
    "tags": []
   },
   "outputs": [],
   "source": [
    "fig = large_fig()\n",
    "ax = fig.add_subplot(projection=\"3d\")\n",
    "plot_3d_from_2d_function(\n",
    "    ax,\n",
    "    xrange=np.arange(1, 21) + 1,\n",
    "    yrange=np.arange(1, 21) + 1,\n",
    "    function=lambda x, y: average_performance_by_state_ctrl_dim(x, y, optimal=True),\n",
    ")\n",
    "ax.set_xlabel(\"state dim\")\n",
    "ax.set_ylabel(\"ctrl dim\")\n",
    "ax.set_title(\"average best performance\")\n",
    "plt.show()"
   ]
  },
  {
   "cell_type": "markdown",
   "id": "general-expert",
   "metadata": {},
   "source": [
    "#### Expected return from random policy"
   ]
  },
  {
   "cell_type": "code",
   "execution_count": null,
   "id": "parliamentary-watts",
   "metadata": {
    "tags": []
   },
   "outputs": [],
   "source": [
    "fig = large_fig()\n",
    "ax = fig.add_subplot(projection=\"3d\")\n",
    "plot_3d_from_2d_function(\n",
    "    ax,\n",
    "    xrange=np.arange(1, 21) + 1,\n",
    "    yrange=np.arange(1, 21) + 1,\n",
    "    function=lambda x, y: average_performance_by_state_ctrl_dim(x, y, optimal=False),\n",
    ")\n",
    "ax.set_xlabel(\"state dim\")\n",
    "ax.set_ylabel(\"ctrl dim\")\n",
    "ax.set_title(\"average random performance\")\n",
    "plt.show()"
   ]
  },
  {
   "cell_type": "markdown",
   "id": "fossil-bernard",
   "metadata": {},
   "source": [
    "### State & control dimension vs. horizon length"
   ]
  },
  {
   "cell_type": "markdown",
   "id": "fixed-number",
   "metadata": {},
   "source": [
    "#### Best expected return"
   ]
  },
  {
   "cell_type": "code",
   "execution_count": null,
   "id": "laden-scratch",
   "metadata": {},
   "outputs": [],
   "source": [
    "def performances_by_horizon(\n",
    "    state_ctrl_dim: np.ndarray, horizon_arr: np.ndarray, optimal: bool\n",
    ") -> np.ndarray:\n",
    "    state_dim_arr = ctrl_dim_arr = state_ctrl_dim\n",
    "    opt_perf_mat = performance_matrix(\n",
    "        state_dim_arr,\n",
    "        ctrl_dim_arr,\n",
    "        horizon_arr,\n",
    "        lambda s, c, h: performance_samples((s, c, h), optimal=optimal, samples=100),\n",
    "    )\n",
    "    return opt_perf_mat"
   ]
  },
  {
   "cell_type": "code",
   "execution_count": null,
   "id": "frank-router",
   "metadata": {},
   "outputs": [],
   "source": [
    "def average_performance_by_horizon(\n",
    "    state_ctrl_dim: np.ndarray, horizon_arr: np.ndarray, optimal: bool\n",
    ") -> np.ndarray:\n",
    "    z_arr = performances_by_horizon(state_ctrl_dim, horizon_arr, optimal=optimal).mean(\n",
    "        axis=-1\n",
    "    )\n",
    "    # Filtering NaNs\n",
    "    z_arr = np.nan_to_num(z_arr, nan=np.nanmin(z_arr))\n",
    "    return z_arr"
   ]
  },
  {
   "cell_type": "code",
   "execution_count": null,
   "id": "worst-preservation",
   "metadata": {
    "tags": []
   },
   "outputs": [],
   "source": [
    "fig = large_fig()\n",
    "ax = fig.add_subplot(projection=\"3d\")\n",
    "plot_3d_from_2d_function(\n",
    "    ax,\n",
    "    xrange=np.arange(1, 21) + 1,\n",
    "    yrange=100 + 10 * np.arange(1, 21),\n",
    "    function=lambda x, y: average_performance_by_horizon(x, y, optimal=True),\n",
    ")\n",
    "ax.set_xlabel(\"state/ctrl dim\")\n",
    "ax.set_ylabel(\"horizon\")\n",
    "ax.set_title(\"average optimal performance\")\n",
    "plt.show()"
   ]
  },
  {
   "cell_type": "markdown",
   "id": "fitting-temperature",
   "metadata": {},
   "source": [
    "#### Random expected return"
   ]
  },
  {
   "cell_type": "code",
   "execution_count": null,
   "id": "republican-husband",
   "metadata": {
    "tags": []
   },
   "outputs": [],
   "source": [
    "fig = large_fig()\n",
    "ax = fig.add_subplot(projection=\"3d\")\n",
    "plot_3d_from_2d_function(\n",
    "    ax,\n",
    "    xrange=np.arange(1, 21) + 1,\n",
    "    yrange=100 + 10 * np.arange(1, 21),\n",
    "    function=lambda x, y: average_performance_by_horizon(x, y, optimal=False),\n",
    ")\n",
    "ax.set_xlabel(\"state/ctrl dim\")\n",
    "ax.set_ylabel(\"horizon\")\n",
    "ax.set_title(\"average random performance\")\n",
    "plt.show()"
   ]
  }
 ],
 "metadata": {
  "kernelspec": {
   "display_name": "Python 3 (ipykernel)",
   "language": "python",
   "name": "python3"
  },
  "language_info": {
   "codemirror_mode": {
    "name": "ipython",
    "version": 3
   },
   "file_extension": ".py",
   "mimetype": "text/x-python",
   "name": "python",
   "nbconvert_exporter": "python",
   "pygments_lexer": "ipython3",
   "version": "3.8.2"
  }
 },
 "nbformat": 4,
 "nbformat_minor": 5
}
