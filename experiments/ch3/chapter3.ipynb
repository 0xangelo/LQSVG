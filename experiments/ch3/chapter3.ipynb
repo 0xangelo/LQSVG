{
 "cells": [
  {
   "cell_type": "markdown",
   "id": "under-operation",
   "metadata": {},
   "source": [
    "# Ground-truth performance and gradient norms\n",
    "\n",
    "This notebook inspects the initialization schemes for LQGs and time-varying linear policies described in chapter 3 of the [thesis](https://www.overleaf.com/read/rrdfjtcwdpmj)."
   ]
  },
  {
   "cell_type": "markdown",
   "id": "curious-assault",
   "metadata": {},
   "source": [
    "### Imports"
   ]
  },
  {
   "cell_type": "code",
   "execution_count": 1,
   "id": "cognitive-hunter",
   "metadata": {},
   "outputs": [],
   "source": [
    "%matplotlib inline\n",
    "from __future__ import annotations\n",
    "\n",
    "import os\n",
    "import os.path as osp\n",
    "import textwrap\n",
    "import warnings\n",
    "from functools import partial\n",
    "from typing import Callable, Optional\n",
    "\n",
    "import lqsvg.envs.lqr.utils as utils\n",
    "import lqsvg.policy.modules.utils as piutil\n",
    "import lqsvg.torch.named as nt\n",
    "import matplotlib as mpl\n",
    "import matplotlib.pyplot as plt\n",
    "import numpy as np\n",
    "import pandas as pd\n",
    "import seaborn as sns\n",
    "import torch\n",
    "import torch.nn as nn\n",
    "from lqsvg.envs import lqr\n",
    "from lqsvg.envs.lqr.gym import LQGGenerator\n",
    "from lqsvg.experiment.estimators import ExpectedValue, PolicyLoss\n",
    "from lqsvg.experiment.plot import default_figsize\n",
    "from lqsvg.experiment.utils import linear_feedback_distance, linear_feedback_norm\n",
    "from lqsvg.np_util import RNG\n",
    "from scipy.signal import place_poles\n",
    "from scipy.stats import ortho_group\n",
    "from torch import Tensor\n",
    "from tqdm.notebook import tqdm"
   ]
  },
  {
   "cell_type": "markdown",
   "id": "5eb6c5b8-3932-4467-9163-fcf955ed3912",
   "metadata": {},
   "source": [
    "### Matplotlib setup\n",
    "\n",
    "Latex presets ([ref](https://jwalton.info/Embed-Publication-Matplotlib-Latex/))"
   ]
  },
  {
   "cell_type": "code",
   "execution_count": 2,
   "id": "c5a3d87c-e037-4ba9-9e9d-9529352778fe",
   "metadata": {},
   "outputs": [],
   "source": [
    "from functools import partial\n",
    "\n",
    "from lqsvg.experiment.plot import (\n",
    "    STYLE_PATH,\n",
    "    available_styles,\n",
    "    create_latex_style,\n",
    "    latex_size,\n",
    "    save_pdf_tight,\n",
    ")\n",
    "\n",
    "create_latex_style()\n",
    "set_size = partial(latex_size, width=\"thesis\")"
   ]
  },
  {
   "cell_type": "code",
   "execution_count": 3,
   "id": "91dd3d3e-e25e-4120-92a7-a6e24c0c5259",
   "metadata": {},
   "outputs": [
    {
     "name": "stdout",
     "output_type": "stream",
     "text": [
      "Solarize_Light2 _classic_test_patch bmh classic dark_background fast fivethirtyeight ggplot grayscale seaborn seaborn-bright seaborn-colorblind seaborn-dark seaborn-dark-palette seaborn-darkgrid seaborn-deep seaborn-muted seaborn-notebook seaborn-paper seaborn-pastel seaborn-poster seaborn-talk seaborn-ticks seaborn-white seaborn-whitegrid tableau-colorblind10 tex\n"
     ]
    }
   ],
   "source": [
    "print(*available_styles())"
   ]
  },
  {
   "cell_type": "code",
   "execution_count": 4,
   "id": "7c5234c9-79d1-44c9-9e73-d79a965ed397",
   "metadata": {},
   "outputs": [
    {
     "name": "stdout",
     "output_type": "stream",
     "text": [
      "Your style sheets are located at: /home/angelo/.cache/pypoetry/virtualenvs/lqsvg-3RqEHojC-py3.8/lib/python3.8/site-packages/matplotlib/mpl-data/stylelib\n"
     ]
    }
   ],
   "source": [
    "print(f\"Your style sheets are located at: {STYLE_PATH}\")"
   ]
  },
  {
   "cell_type": "code",
   "execution_count": 5,
   "id": "a1731738-3d34-4138-b66d-cea8961a30c9",
   "metadata": {},
   "outputs": [],
   "source": [
    "# Using seaborn's style\n",
    "plt.style.use(\"seaborn\")\n",
    "# With LaTex fonts\n",
    "plt.style.use(\"tex\")"
   ]
  },
  {
   "cell_type": "code",
   "execution_count": 6,
   "id": "bb885bcf-1e1a-48d9-bf52-080c19d8804e",
   "metadata": {},
   "outputs": [],
   "source": [
    "def figpath(name: str) -> str:\n",
    "    return osp.join(\"images\", name + \".pdf\")\n",
    "\n",
    "\n",
    "def savefig(fig, name):\n",
    "    return save_pdf_tight(fig, figpath(name))"
   ]
  },
  {
   "cell_type": "code",
   "execution_count": 7,
   "id": "788e99b3-78a8-45e1-914c-d5596bef3adf",
   "metadata": {},
   "outputs": [],
   "source": [
    "# DOWNLOADS = os.path.expanduser(\"~/Downloads\")\n",
    "# FIGSIZE = default_figsize(.6, 1.8)\n",
    "\n",
    "# def set_padding():\n",
    "#     plt.subplots_adjust(left=0.05, right=1, top=0.85, bottom=0.15)"
   ]
  },
  {
   "cell_type": "markdown",
   "id": "ffb16678-cf49-46c2-8b59-efae3d165159",
   "metadata": {},
   "source": [
    "---\n",
    "## Linear Quadratic Gaussian (LQG) Problems\n",
    "In what follows we consider MDPs with:\n",
    "1. continuous state space $\\mathbf{s} \\in \\mathcal{S} = \\mathbb{R}^n$\n",
    "2. continuous action space $\\mathbf{a} \\in \\mathcal{A} = \\mathbb{R}^d$\n",
    "3. finite time horizon $N \\in \\mathbb{N}$ and timesteps $t \\in \\mathcal{T} = \\{0, \\dots, N - 1\\}$\n",
    "4. Linear Gaussian dynamics \n",
    "    $$\n",
    "    \\mathbf{s}_{t+1} \\sim p(\\cdot| \\mathbf{s}_t, \\mathbf{a}_t) = \\mathcal{N}\\left( \\cdot ~\\middle|~ \\mathbf{F}_t \\begin{bmatrix}\\mathbf{s}_t \\\\ \\mathbf{a}_t\\end{bmatrix} + \\mathbf{f}_t, \\mathbf{\\Sigma}_{t} \\right)\n",
    "    $$\n",
    "5. Quadratic costs \n",
    "    $$\n",
    "    r_{t+1} = R(\\mathbf{s}_t, \\mathbf{a}_t) = - \\tfrac{1}{2} \\begin{bmatrix}\\mathbf{s}_t \\\\ \\mathbf{a}_t\\end{bmatrix}^\\intercal \\mathbf{C}_t \\begin{bmatrix}\\mathbf{s}_t \\\\ \\mathbf{a}_t\\end{bmatrix} - \\mathbf{c}_t^\\intercal \\begin{bmatrix}\\mathbf{s}_t \\\\ \\mathbf{a}_t\\end{bmatrix}\n",
    "    $$\n",
    "6. Gaussian-distributed initial state \n",
    "    $$\n",
    "    \\mathbf{s}_0 \\sim \\rho = \\mathcal{N}(\\mathbf{\\mu}_\\rho, \\mathbf{\\Sigma}_\\rho)\n",
    "    $$"
   ]
  },
  {
   "cell_type": "markdown",
   "id": "killing-ready",
   "metadata": {},
   "source": [
    "---\n",
    "## Task selection protocol\n",
    "\n",
    "$$\n",
    "    \\{ \\mathbf{F}_t, \\mathbf{f}_t, \\mathbf{\\Sigma}_t, \\mathbf{C}_t, \\mathbf{c}_t  \\}_{t\\in\\mathcal{T}} \\sim \\text{LQGDist}(\\texttt{n_state, n_ctrl, horizon}) \\\\\n",
    "    \\mathbf{\\mu}_\\rho = \\mathbf{0}, \\quad \\mathbf{\\Sigma}_{\\rho} = \\mathbf{I} \\\\\n",
    "    \\mathcal{M} = \\{ \\mathbf{F}_t, \\mathbf{f}_t, \\mathbf{\\Sigma}_t, \\mathbf{C}_t, \\mathbf{c}_t  \\}_{t\\in\\mathcal{T}} \\cup \\{ \\mathbf{\\mu}_\\rho, \\mathbf{\\Sigma}_\\rho \\}\n",
    "$$"
   ]
  },
  {
   "cell_type": "markdown",
   "id": "administrative-mistress",
   "metadata": {},
   "source": [
    "### LQG generation defaults\n",
    "\n",
    "- stationary ($\\mathbf{F}_t, \\mathbf{f}_t, \\mathbf{\\Sigma}_t, \\mathbf{C}_t, \\mathbf{c}_t = \\mathbf{F}, \\mathbf{f}, \\mathbf{\\Sigma}, \\mathbf{C}, \\mathbf{c}$)\n",
    "- passive dynamics eigenvalue norm in $\\mathcal{U}(0.5, 1.5)$\n",
    "  - $\\mathbf{F_s} = \\mathbf{W}\\text{diag}(\\lambda_1, \\dots, \\lambda_n)\\mathbf{W}^{-1}$\n",
    "  - $|\\lambda_i| \\in [0.5, 1.5], \\forall i \\in \\{1, \\dots, n\\}$\n",
    "  - i.e., the passive dynamics may be **unstable**\n",
    "- **controllable**\n",
    "- no transition bias ($\\mathbf{f} = \\mathbf{0}$)\n",
    "- unit transition covariance ($\\mathbf{\\Sigma} = \\mathbf{I}$)\n",
    "- unit initial state covariance ($\\mathbf{\\Sigma}_\\rho = \\mathbf{I}$)\n",
    "- no linear cost term ($\\mathbf{c} = \\mathbf{0}$)\n",
    "- no state-action cross terms ($\\mathbf{C_{sa}, C_{as}} = \\mathbf{0, 0}$)"
   ]
  },
  {
   "cell_type": "code",
   "execution_count": 8,
   "id": "aging-acrobat",
   "metadata": {},
   "outputs": [],
   "source": [
    "GENERATOR = LQGGenerator(\n",
    "    n_state=2,\n",
    "    n_ctrl=2,\n",
    "    horizon=20,\n",
    "    stationary=True,\n",
    "    passive_eigval_range=(0.5, 1.5),\n",
    "    controllable=True,\n",
    "    transition_bias=False,\n",
    "    rand_trans_cov=False,\n",
    "    rand_init_cov=False,\n",
    "    cost_linear=False,\n",
    "    cost_cross=False,\n",
    "    rng=np.random.default_rng(42),\n",
    ")\n",
    "\n",
    "\n",
    "def sample_lqg(\n",
    "    n_state: int, n_ctrl: int, horizon: int, n_batch: Optional[int] = None\n",
    ") -> tuple[lqr.LinSDynamics, lqr.QuadCost, lqr.GaussInit]:\n",
    "    with GENERATOR.config(n_state=n_state, n_ctrl=n_ctrl, horizon=horizon):\n",
    "        return GENERATOR(n_batch)"
   ]
  },
  {
   "cell_type": "code",
   "execution_count": 9,
   "id": "preliminary-guard",
   "metadata": {
    "tags": []
   },
   "outputs": [],
   "source": [
    "def print_lqg(dynamics, cost, init):\n",
    "    msg = f\"\"\"\\\n",
    "        dynamics:\n",
    "            F: {dynamics.F.shape}; {dynamics.F.names}; min={dynamics.F.min()}; max={dynamics.F.max()}\n",
    "            f: {dynamics.f.shape}; {dynamics.f.names}; min={dynamics.f.min()}; max={dynamics.f.max()}\n",
    "            Sig: {dynamics.W.shape}; {dynamics.W.names}\n",
    "        cost:\n",
    "            C: {cost.C.shape}; {cost.C.names}            \n",
    "            c: {cost.c.shape}; {cost.c.names}\n",
    "        init:\n",
    "            mu: {init.mu.shape}; {init.mu.names}            \n",
    "            sig: {init.sig.shape}; {init.sig.names}\\\n",
    "        \"\"\"\n",
    "    print(textwrap.dedent(msg))\n",
    "    if \"B\" not in cost.C.names:\n",
    "        print(\"C_0:\")\n",
    "        print(textwrap.indent(str(cost.C.select(\"H\", 0).numpy()), \" \" * 4))\n",
    "\n",
    "\n",
    "def test_sample_lqg(n_batch=None):\n",
    "    with warnings.catch_warnings():\n",
    "        warnings.filterwarnings(\"ignore\", message=\".*Named tensors.*\", module=\"torch\")\n",
    "        dynamics, cost, init = sample_lqg(\n",
    "            n_state=2, n_ctrl=2, horizon=100, n_batch=n_batch\n",
    "        )\n",
    "    assert isinstance(dynamics, lqr.LinSDynamics)\n",
    "    assert isinstance(cost, lqr.QuadCost)\n",
    "    assert isinstance(init, lqr.GaussInit)\n",
    "    print_lqg(dynamics, cost, init)\n",
    "\n",
    "\n",
    "def test_batch_lqgs():\n",
    "    test_sample_lqg(n_batch=10)"
   ]
  },
  {
   "cell_type": "code",
   "execution_count": 10,
   "id": "unexpected-damages",
   "metadata": {},
   "outputs": [
    {
     "name": "stdout",
     "output_type": "stream",
     "text": [
      "dynamics:\n",
      "    F: torch.Size([100, 2, 4]); ('H', 'R', 'C'); min=-0.3155156075954437; max=1.062642216682434\n",
      "    f: torch.Size([100, 2]); ('H', 'R'); min=0.0; max=0.0\n",
      "    Sig: torch.Size([100, 2, 2]); ('H', 'R', 'C')\n",
      "cost:\n",
      "    C: torch.Size([100, 4, 4]); ('H', 'R', 'C')            \n",
      "    c: torch.Size([100, 4]); ('H', 'R')\n",
      "init:\n",
      "    mu: torch.Size([2]); ('R',)            \n",
      "    sig: torch.Size([2, 2]); ('R', 'C')        \n",
      "C_0:\n",
      "    [[ 1.1274902 -1.150862   0.         0.       ]\n",
      "     [-1.150862   1.7388873  0.         0.       ]\n",
      "     [ 0.         0.         1.0362151  0.9852763]\n",
      "     [ 0.         0.         0.9852763  1.7233117]]\n"
     ]
    }
   ],
   "source": [
    "test_sample_lqg()"
   ]
  },
  {
   "cell_type": "code",
   "execution_count": 11,
   "id": "permanent-effects",
   "metadata": {},
   "outputs": [
    {
     "name": "stdout",
     "output_type": "stream",
     "text": [
      "dynamics:\n",
      "    F: torch.Size([100, 10, 2, 4]); ('H', 'B', 'R', 'C'); min=-1.3114826679229736; max=1.3288333415985107\n",
      "    f: torch.Size([100, 10, 2]); ('H', 'B', 'R'); min=0.0; max=0.0\n",
      "    Sig: torch.Size([100, 10, 2, 2]); ('H', 'B', 'R', 'C')\n",
      "cost:\n",
      "    C: torch.Size([100, 10, 4, 4]); ('H', 'B', 'R', 'C')            \n",
      "    c: torch.Size([100, 10, 4]); ('H', 'B', 'R')\n",
      "init:\n",
      "    mu: torch.Size([10, 2]); ('B', 'R')            \n",
      "    sig: torch.Size([10, 2, 2]); ('B', 'R', 'C')        \n"
     ]
    }
   ],
   "source": [
    "test_batch_lqgs()"
   ]
  },
  {
   "cell_type": "markdown",
   "id": "elder-example",
   "metadata": {},
   "source": [
    "---\n",
    "## Policy selection protocol\n",
    "\n",
    "In the following we define how to construct time-varying linear deterministic policies.\n",
    "$$\n",
    "    \\mu_\\theta(\\mathbf{s}) = \\mathbf{a} \\\\\n",
    "    \\theta = \\{ \\mathbf{K}_t, \\mathbf{k}_t \\}_{t\\in\\mathcal{T}}\n",
    "$$"
   ]
  },
  {
   "cell_type": "markdown",
   "id": "opposed-sunglasses",
   "metadata": {},
   "source": [
    "### Optimal policies\n",
    "\n",
    "The following code computes the optimal policy parameters $\\{\\mathbf{K}_t^\\star, \\mathbf{k}_t^\\star\\}_{t\\in\\mathcal{T}}$ for a given LQG."
   ]
  },
  {
   "cell_type": "code",
   "execution_count": 12,
   "id": "focused-environment",
   "metadata": {},
   "outputs": [],
   "source": [
    "def solution(\n",
    "    dynamics: lqr.LinSDynamics, cost: lqr.QuadCost\n",
    ") -> tuple[lqr.Linear, lqr.Quadratic, lqr.Quadratic]:\n",
    "    n_state, n_ctrl, horizon = lqr.dims_from_dynamics(dynamics)\n",
    "    solver = lqr.NamedLQGControl(n_state, n_ctrl, horizon)\n",
    "    pistar, qstar, vstar = solver(dynamics, cost)\n",
    "    return pistar, qstar, vstar\n",
    "\n",
    "\n",
    "def optimal_policy(dynamics: lqr.LinSDynamics, cost: lqr.QuadCost) -> lqr.Linear:\n",
    "    pistar, _, _ = solution(dynamics, cost)\n",
    "    K, k = pistar\n",
    "    pistar = (K.refine_names(*dynamics.F.names), k.refine_names(*dynamics.f.names))\n",
    "    return pistar"
   ]
  },
  {
   "cell_type": "code",
   "execution_count": 13,
   "id": "reflected-whale",
   "metadata": {
    "tags": []
   },
   "outputs": [],
   "source": [
    "def print_policy(policy: lqr.Linear):\n",
    "    K, k = policy\n",
    "    print(\n",
    "        f\"\"\"\n",
    "        K: {K.shape}; {K.names}\n",
    "        k: {k.shape}; {k.names}\n",
    "    \"\"\"\n",
    "    )\n",
    "\n",
    "\n",
    "def test_optimal_policy():\n",
    "    dynamics, cost, _ = sample_lqg(n_state=2, n_ctrl=2, horizon=100, n_batch=10)\n",
    "    print_policy(optimal_policy(dynamics, cost))"
   ]
  },
  {
   "cell_type": "code",
   "execution_count": 14,
   "id": "motivated-sunrise",
   "metadata": {},
   "outputs": [
    {
     "name": "stdout",
     "output_type": "stream",
     "text": [
      "\n",
      "        K: torch.Size([100, 10, 2, 2]); ('H', 'B', 'R', 'C')\n",
      "        k: torch.Size([100, 10, 2]); ('H', 'B', 'R')\n",
      "    \n"
     ]
    }
   ],
   "source": [
    "test_optimal_policy()"
   ]
  },
  {
   "cell_type": "markdown",
   "id": "bearing-pathology",
   "metadata": {},
   "source": [
    "### Policies that stabilize systems\n",
    "\n",
    "The following code tests computing a gain matrix $\\mathbf{K}$ such that the closed loop system\n",
    "$$\n",
    "    \\mathbf{s}' = \\left(\\mathbf{F_s - F_aK} \\right)\\mathbf{s}\n",
    "$$\n",
    "has eigenvalues $\\lambda_i$ such that $|\\lambda_i| < 1$, i.e., $\\mathbf{K}$ _stabilizes_ the system."
   ]
  },
  {
   "cell_type": "code",
   "execution_count": 15,
   "id": "exempt-botswana",
   "metadata": {
    "tags": []
   },
   "outputs": [],
   "source": [
    "def test_pole_placement(print_closed_loop_poles: bool = False):\n",
    "    with GENERATOR.config(\n",
    "        n_state=3, n_ctrl=2, passive_eigval_range=(0.5, 1.5), controllable=True\n",
    "    ):\n",
    "        dynamics = GENERATOR.make_dynamics()\n",
    "        A, B = utils.stationary_dynamics_factors(dynamics)\n",
    "        A, B = A.numpy(), B.numpy()\n",
    "        passive_poles, _ = np.linalg.eig(A)\n",
    "\n",
    "        res = piutil.place_dynamics_poles(A, B)\n",
    "\n",
    "    print(\"Passive poles:\")\n",
    "    print(passive_poles)\n",
    "    print(\"K:\")\n",
    "    print(res.gain_matrix)\n",
    "    print(\"Computed poles:\")\n",
    "    print(res.computed_poles)\n",
    "    print(\"Requested poles:\")\n",
    "    print(res.requested_poles)\n",
    "    #     print(\"X:\")\n",
    "    #     print(res.X)\n",
    "    print(\"rtol:\")\n",
    "    print(res.rtol)\n",
    "    print(\"nb iter:\")\n",
    "    print(res.nb_iter)\n",
    "\n",
    "    if print_closed_loop_poles:\n",
    "        print(np.linalg.eig(A - B @ res.gain_matrix)[0])"
   ]
  },
  {
   "cell_type": "code",
   "execution_count": 16,
   "id": "civilian-point",
   "metadata": {},
   "outputs": [
    {
     "name": "stdout",
     "output_type": "stream",
     "text": [
      "Passive poles:\n",
      "[ 1.1143856 -0.9435564 -0.504995 ]\n",
      "K:\n",
      "[[-0.87436842 -0.59572651 -0.01279275]\n",
      " [ 0.38356189  0.26722471  0.54223268]]\n",
      "Computed poles:\n",
      "[-0.20679316  0.17882125  0.97602394]\n",
      "Requested poles:\n",
      "[-0.20679321  0.17882118  0.97602398]\n",
      "rtol:\n",
      "0.9667981560967751\n",
      "nb iter:\n",
      "1\n"
     ]
    }
   ],
   "source": [
    "test_pole_placement()"
   ]
  },
  {
   "cell_type": "markdown",
   "id": "alert-marine",
   "metadata": {},
   "source": [
    "### Random policies\n",
    "\n",
    "The following code defines how to generate _random_ policies that _stabilize_ a given LQG.\n",
    "$$\n",
    "    \\mathcal{M} \\sim \\text{LQGDist}(\\texttt{n_state, n_ctrl, horizon}) \\\\\n",
    "    \\{\\mathbf{K}_t, \\mathbf{k}_t\\} \\sim \\text{PiDist}(\\mathcal{M}) \\\\\n",
    "    \\text{s.t. } \\mathbf{K}_t \\text{ stabilizes the LQG } \\mathcal{M}\n",
    "$$"
   ]
  },
  {
   "cell_type": "code",
   "execution_count": 17,
   "id": "superb-spirituality",
   "metadata": {},
   "outputs": [],
   "source": [
    "def split_dynamics_along_batch(dynamics: lqr.LinSDynamics) -> list[lqr.LinSDynamics]:\n",
    "    Fs, fs, Ws = map(lambda x: nt.split(x, 1, dim=\"B\"), dynamics)\n",
    "    return [lqr.LinSDynamics(F=F, f=f, W=W) for F, f, W in zip(Fs, fs, Ws)]\n",
    "\n",
    "\n",
    "def squeeze_dynamics_batch(dynamics: lqr.LinSDynamics) -> lqr.LinSDynamics:\n",
    "    F, f, W = (x.squeeze(\"B\") for x in dynamics)\n",
    "    return lqr.LinSDynamics(F=F, f=f, W=W)\n",
    "\n",
    "\n",
    "@torch.no_grad()\n",
    "def sample_policy(\n",
    "    dynamics: lqr.LinSDynamics, cost: lqr.QuadCost, rng: RNG\n",
    ") -> lqr.Linear:\n",
    "    assert utils.isstationary(dynamics)\n",
    "    del cost\n",
    "\n",
    "    if \"B\" in dynamics.F.names:\n",
    "        policies = [\n",
    "            piutil.stabilizing_policy(squeeze_dynamics_batch(d), rng=rng)\n",
    "            for d in split_dynamics_along_batch(dynamics)\n",
    "        ]\n",
    "        Ks, ks = zip(*policies)\n",
    "        K = torch.cat([t.align_to(\"H\", \"B\", ...) for t in Ks], dim=\"B\")\n",
    "        k = torch.cat([t.align_to(\"H\", \"B\", ...) for t in ks], dim=\"B\")\n",
    "        policy = (K, k)\n",
    "    else:\n",
    "        policy = piutil.stabilizing_policy(dynamics, rng=rng)\n",
    "\n",
    "    return policy"
   ]
  },
  {
   "cell_type": "code",
   "execution_count": 18,
   "id": "personalized-innocent",
   "metadata": {
    "tags": []
   },
   "outputs": [],
   "source": [
    "def test_sample_policy():\n",
    "    dynamics, cost, _ = sample_lqg(n_state=3, n_ctrl=2, horizon=100, n_batch=10)\n",
    "    print_policy(sample_policy(dynamics, cost, rng=10))"
   ]
  },
  {
   "cell_type": "code",
   "execution_count": 19,
   "id": "capable-amplifier",
   "metadata": {},
   "outputs": [
    {
     "name": "stdout",
     "output_type": "stream",
     "text": [
      "\n",
      "        K: torch.Size([100, 10, 2, 3]); ('H', 'B', 'R', 'C')\n",
      "        k: torch.Size([100, 10, 2]); ('H', 'B', 'R')\n",
      "    \n"
     ]
    }
   ],
   "source": [
    "test_sample_policy()"
   ]
  },
  {
   "cell_type": "markdown",
   "id": "binary-briefs",
   "metadata": {},
   "source": [
    "We check the distance (L2 norm of the difference) between the random stabilizing parameters and the optimal policy parameters."
   ]
  },
  {
   "cell_type": "code",
   "execution_count": 20,
   "id": "metallic-burns",
   "metadata": {},
   "outputs": [],
   "source": [
    "def policy_distance(policy_a: lqr.Linear, policy_b: lqr.Linear) -> Tensor:\n",
    "    return linear_feedback_distance(policy_a, policy_b)"
   ]
  },
  {
   "cell_type": "code",
   "execution_count": 21,
   "id": "funky-peoples",
   "metadata": {
    "tags": []
   },
   "outputs": [],
   "source": [
    "def test_policy_distance():\n",
    "    dynamics, cost, _ = sample_lqg(n_state=10, n_ctrl=10, horizon=100, n_batch=10)\n",
    "    optimal = optimal_policy(dynamics, cost)\n",
    "    random = sample_policy(dynamics, cost, rng=10)\n",
    "    distance = policy_distance(optimal, random)\n",
    "    print(\n",
    "        f\"\"\"\\\n",
    "    Policy distances: \n",
    "        {distance}, \n",
    "        {distance.shape}\\\n",
    "    \"\"\"\n",
    "    )"
   ]
  },
  {
   "cell_type": "code",
   "execution_count": 22,
   "id": "superb-canyon",
   "metadata": {},
   "outputs": [
    {
     "name": "stdout",
     "output_type": "stream",
     "text": [
      "    Policy distances: \n",
      "        tensor([280.4670, 230.0000, 115.2370, 284.7657, 197.4630, 198.2043,  89.2162,\n",
      "        251.5724, 189.8988, 364.4794]), \n",
      "        torch.Size([10])    \n"
     ]
    }
   ],
   "source": [
    "test_policy_distance()"
   ]
  },
  {
   "cell_type": "markdown",
   "id": "conceptual-conservative",
   "metadata": {},
   "source": [
    "We see that stabilizing the system is not sufficient, as the distance to the optimal policy is quite large."
   ]
  },
  {
   "cell_type": "markdown",
   "id": "fallen-basics",
   "metadata": {},
   "source": [
    "---\n",
    "## Ground-truth policy performance\n",
    "\n",
    "<center><b>Sampling</b></center>\n",
    "$$\n",
    "    \\mathcal{M} \\sim \\text{LQGDist}(\\texttt{n_state, n_ctrl, horizon}) \\\\\n",
    "    \\theta = \\{ \\mathbf{K}_t, \\mathbf{k}_t \\}_{t\\in\\mathcal{T}} \\sim \\text{PiDist}(\\mathcal{M})\n",
    "$$\n",
    "<br>\n",
    "\n",
    "<center><b>Prediction</b></center>\n",
    "<!-- LQG prediction can be seen as a function mapping policy parameters (with the dynamics kept constant) to value function coefficients: -->\n",
    "$$\n",
    "\\left( \\mathbf{Q}, \\mathbf{q}, q, \\mathbf{V}, \\mathbf{v}, v \\right) = \\text{LQGPrediction}(\\theta) \\\\\n",
    "V^\\mu(\\mathbf{s}, t) = -\\tfrac12 \\mathbf{s}^\\intercal \\mathbf{V}_t(\\theta) \\mathbf{s} - \\mathbf{v}_t(\\theta)^\\intercal \\mathbf{s} - v_t(\\theta)\n",
    "$$\n",
    "<br>\n",
    "\n",
    "<center><b>Performance</b></center>\n",
    "<!-- We can then express policy performance as a direct function of policy parameters: -->\n",
    "$$\n",
    "\\begin{align}\n",
    "J(\\theta) \n",
    "    &= -\\mathbb{E}_{\\mathbf{s}\\sim\\rho} \\left[ \\tfrac12 \\mathbf{s}^\\intercal \\mathbf{V}_0(\\theta) \\mathbf{s} + \\mathbf{v}_0(\\theta)^\\intercal \\mathbf{s} + v_0(\\theta) \\right] \\\\\n",
    "    &= -\\text{Tr}(\\mathbf{V}_0(\\theta)\\mathbf{\\Sigma}_0) - \\mathbf{\\mu}_0^\\intercal \\mathbf{V}_0(\\theta) \\mathbf{\\mu}_0 - \\mathbf{v}_0(\\theta)^\\intercal \\mathbf{\\mu}_0 - v_0(\\theta)\n",
    "\\end{align}\n",
    "$$"
   ]
  },
  {
   "cell_type": "code",
   "execution_count": 23,
   "id": "automatic-presentation",
   "metadata": {},
   "outputs": [],
   "source": [
    "def policy_loss(\n",
    "    policy: lqr.Linear,\n",
    "    dynamics: lqr.LinSDynamics,\n",
    "    cost: lqr.QuadCost,\n",
    "    init: lqr.GaussInit,\n",
    ") -> Tensor:\n",
    "    n_state, n_ctrl, horizon = lqr.dims_from_dynamics(dynamics)\n",
    "    loss_fn = PolicyLoss(n_state, n_ctrl, horizon)\n",
    "    loss = loss_fn(policy, dynamics, cost, init)\n",
    "    return loss\n",
    "\n",
    "\n",
    "def policy_performance(\n",
    "    policy: lqr.Linear,\n",
    "    dynamics: lqr.LinSDynamics,\n",
    "    cost: lqr.QuadCost,\n",
    "    init: lqr.GaussInit,\n",
    ") -> Tensor:\n",
    "    return -policy_loss(policy, dynamics, cost, init)"
   ]
  },
  {
   "cell_type": "code",
   "execution_count": 24,
   "id": "weird-president",
   "metadata": {
    "tags": []
   },
   "outputs": [],
   "source": [
    "def test_policy_loss():\n",
    "    dynamics, cost, init = sample_lqg(n_state=2, n_ctrl=2, horizon=20, n_batch=10)\n",
    "    policy = sample_policy(dynamics, cost, rng=10)\n",
    "    loss = policy_loss(policy, dynamics, cost, init)\n",
    "    print(\n",
    "        f\"\"\"\\\n",
    "    Loss: \n",
    "        {loss}, \n",
    "        ({loss.dtype}), \n",
    "        ({loss.shape}); \n",
    "    ExpectedReturn: \n",
    "        {-loss}, \n",
    "        ({(-loss).dtype}), \n",
    "        ({loss.shape})\\\n",
    "    \"\"\"\n",
    "    )"
   ]
  },
  {
   "cell_type": "code",
   "execution_count": 25,
   "id": "objective-ethnic",
   "metadata": {},
   "outputs": [
    {
     "name": "stdout",
     "output_type": "stream",
     "text": [
      "    Loss: \n",
      "        tensor([ 1024.0004,   391.2084,   803.7458,   384.1714,  1101.6029,   367.1847,\n",
      "          386.0928,   535.6906, 16131.0410,   249.3000], names=('B',)), \n",
      "        (torch.float32), \n",
      "        (torch.Size([10])); \n",
      "    ExpectedReturn: \n",
      "        tensor([ -1024.0004,   -391.2084,   -803.7458,   -384.1714,  -1101.6029,\n",
      "          -367.1847,   -386.0928,   -535.6906, -16131.0410,   -249.3000],\n",
      "       names=('B',)), \n",
      "        (torch.float32), \n",
      "        (torch.Size([10]))    \n"
     ]
    }
   ],
   "source": [
    "test_policy_loss()"
   ]
  },
  {
   "cell_type": "markdown",
   "id": "moving-navigation",
   "metadata": {},
   "source": [
    "---\n",
    "## Ground-truth value gradient norm\n",
    "\n",
    "1. **Sampling**$\\rightarrow \\mathcal{M}, \\theta$; \n",
    "2. **Prediction**$\\rightarrow \\left( \\mathbf{Q}, \\mathbf{q}, q, \\mathbf{V}, \\mathbf{v}, v \\right)$; \n",
    "3. **Performance**$\\rightarrow J(\\theta)$;\n",
    "4. **SVG norm**$\\rightarrow \\| \\nabla J(\\theta) \\|$."
   ]
  },
  {
   "cell_type": "code",
   "execution_count": 26,
   "id": "published-headset",
   "metadata": {},
   "outputs": [],
   "source": [
    "def compute_batched_svg_norm(exp_ret: Tensor, policy: lqr.Linear) -> Tensor:\n",
    "    for x in policy:\n",
    "        x.grad = None\n",
    "    exp_ret.sum().backward()\n",
    "\n",
    "    K_grad, k_grad = (x.grad.detach() for x in policy)\n",
    "    return linear_feedback_norm((K_grad, k_grad))\n",
    "\n",
    "\n",
    "def policy_svg_norm(\n",
    "    policy: lqr.Linear,\n",
    "    dynamics: lqr.LinSDynamics,\n",
    "    cost: lqr.QuadCost,\n",
    "    init: lqr.GaussInit,\n",
    ") -> tuple[Tensor, Tensor]:\n",
    "    eret = policy_performance(policy, dynamics, cost, init)\n",
    "    svg_norm = compute_batched_svg_norm(eret, policy)\n",
    "    return eret, svg_norm"
   ]
  },
  {
   "cell_type": "code",
   "execution_count": 27,
   "id": "stunning-method",
   "metadata": {
    "tags": []
   },
   "outputs": [],
   "source": [
    "def test_random_policy_svg():\n",
    "    dynamics, cost, init = sample_lqg(n_state=2, n_ctrl=2, horizon=20, n_batch=10)\n",
    "    policy = tuple(\n",
    "        x.requires_grad_(True) for x in sample_policy(dynamics, cost, rng=10)\n",
    "    )\n",
    "    eret, svg_norm = policy_svg_norm(policy, dynamics, cost, init)\n",
    "    print(\n",
    "        f\"\"\"\\\n",
    "    Expected return: \n",
    "        {eret},\n",
    "        {eret.dtype},\n",
    "        {eret.shape}\"\"\"\n",
    "    )\n",
    "    print(\n",
    "        f\"\"\"\\\n",
    "    SVG norm: \n",
    "        {svg_norm},\n",
    "        {svg_norm.dtype},\n",
    "        {svg_norm.shape}\"\"\"\n",
    "    )"
   ]
  },
  {
   "cell_type": "code",
   "execution_count": 28,
   "id": "usual-excuse",
   "metadata": {},
   "outputs": [
    {
     "name": "stdout",
     "output_type": "stream",
     "text": [
      "    Expected return: \n",
      "        tensor([  -223.5364,   -713.8807,  -1124.9568,   -357.4088,   -812.6507,\n",
      "          -472.5578,  -1101.3201,   -290.8091, -20164.5820,  -2019.8912],\n",
      "       grad_fn=<NegBackward>, names=('B',)),\n",
      "        torch.float32,\n",
      "        torch.Size([10])\n",
      "    SVG norm: \n",
      "        tensor([  165.0436,  1244.6057,  2242.2163,   932.9922,   813.3218,   485.5455,\n",
      "         3246.8596,   322.7012, 54187.8984,  1775.8917]),\n",
      "        torch.float32,\n",
      "        torch.Size([10])\n"
     ]
    }
   ],
   "source": [
    "test_random_policy_svg()"
   ]
  },
  {
   "cell_type": "code",
   "execution_count": 29,
   "id": "working-remainder",
   "metadata": {
    "tags": []
   },
   "outputs": [],
   "source": [
    "def test_optimal_policy_svg():\n",
    "    dynamics, cost, init = sample_lqg(n_state=2, n_ctrl=2, horizon=100, n_batch=10)\n",
    "    pistar, _, vstar = solution(dynamics, cost)\n",
    "    loss_fn = ExpectedValue()\n",
    "    eret = -loss_fn(init, tuple(x.select(\"H\", 0) for x in vstar))\n",
    "    print(\n",
    "        f\"\"\"\\\n",
    "    Optimal expected return: \n",
    "        {eret},\n",
    "        ({eret.dtype})\"\"\"\n",
    "    )\n",
    "\n",
    "    policy = tuple(x.requires_grad_(True) for x in pistar)\n",
    "    eret = -policy_loss(policy, dynamics, cost, init)\n",
    "    print(\n",
    "        f\"\"\"\\\n",
    "    Expected return from Prediction algorithm:\n",
    "        {eret},\n",
    "        ({eret.dtype})\"\"\"\n",
    "    )\n",
    "    svg_norm = compute_batched_svg_norm(eret, policy)\n",
    "    print(\n",
    "        f\"\"\"\\\n",
    "    Optimal policy SVG norm: \n",
    "        {svg_norm},\n",
    "        ({svg_norm.dtype},\n",
    "        {svg_norm.shape})\"\"\"\n",
    "    )"
   ]
  },
  {
   "cell_type": "code",
   "execution_count": 30,
   "id": "extreme-channels",
   "metadata": {},
   "outputs": [
    {
     "name": "stdout",
     "output_type": "stream",
     "text": [
      "    Optimal expected return: \n",
      "        tensor([-304.4993, -319.1856, -153.4185, -132.2723, -471.1103, -276.1604,\n",
      "        -208.5476, -255.6027, -430.7179, -136.0024], names=('B',)),\n",
      "        (torch.float32)\n",
      "    Expected return from Prediction algorithm:\n",
      "        tensor([-304.4993, -319.1856, -153.4185, -132.2723, -471.1103, -276.1604,\n",
      "        -208.5476, -255.6027, -430.7179, -136.0024], grad_fn=<NegBackward>,\n",
      "       names=('B',)),\n",
      "        (torch.float32)\n",
      "    Optimal policy SVG norm: \n",
      "        tensor([7.3111e-06, 1.0468e-05, 1.8817e-06, 2.4121e-06, 5.1249e-06, 3.7530e-06,\n",
      "        3.2193e-06, 8.7857e-06, 2.4062e-05, 2.1488e-06]),\n",
      "        (torch.float32,\n",
      "        torch.Size([10]))\n"
     ]
    }
   ],
   "source": [
    "test_optimal_policy_svg()"
   ]
  },
  {
   "cell_type": "markdown",
   "id": "fatty-creativity",
   "metadata": {},
   "source": [
    "---\n",
    "## Beyond averages\n",
    "\n",
    "Next, we evaluate the distribution of optimal/random policy performances for different LQG problem sizes"
   ]
  },
  {
   "cell_type": "markdown",
   "id": "alike-variety",
   "metadata": {},
   "source": [
    "### Calculating the expected return (performance) & SVG norm for a batch of LQGs"
   ]
  },
  {
   "cell_type": "code",
   "execution_count": 31,
   "id": "latest-comparative",
   "metadata": {},
   "outputs": [],
   "source": [
    "def expected_return(init: lqr.GaussInit, vval: lqr.Quadratic) -> Tensor:\n",
    "    expected_value = ExpectedValue()\n",
    "    expected_cost = expected_value(init, tuple(x.select(\"H\", 0) for x in vval))\n",
    "    return -expected_cost\n",
    "\n",
    "\n",
    "def optimal_performance(\n",
    "    dynamics: lqr.LinSDynamics, cost: lqr.QuadCost, init: lqr.GaussInit\n",
    ") -> Tensor:\n",
    "    pistar, qstar, vstar = solution(dynamics, cost)\n",
    "    return expected_return(init, vstar)\n",
    "\n",
    "\n",
    "def random_performance(\n",
    "    dynamics: lqr.LinSDynamics, cost: lqr.QuadCost, init: lqr.GaussInit, rng: RNG\n",
    ") -> Tensor:\n",
    "    return policy_performance(\n",
    "        sample_policy(dynamics, cost, rng=rng), dynamics, cost, init\n",
    "    )"
   ]
  },
  {
   "cell_type": "code",
   "execution_count": 32,
   "id": "second-danish",
   "metadata": {},
   "outputs": [],
   "source": [
    "@torch.no_grad()\n",
    "def performance_samples(\n",
    "    dims: tuple[int, int, int],\n",
    "    optimal: bool = False,\n",
    "    samples: int = 100,\n",
    "    clip_ctrl_dim: bool = False,\n",
    "    rng: RNG = None,\n",
    ") -> np.ndarray:\n",
    "    n_state, n_ctrl, horizon = dims\n",
    "    if clip_ctrl_dim and n_ctrl < n_state:\n",
    "        return np.full((samples,), fill_value=np.nan)\n",
    "\n",
    "    dynamics, cost, init = sample_lqg(n_state, n_ctrl, horizon, n_batch=samples)\n",
    "\n",
    "    if optimal:\n",
    "        eret = optimal_performance(dynamics, cost, init)\n",
    "    else:\n",
    "        eret = random_performance(dynamics, cost, init, rng=rng)\n",
    "    return eret.numpy()"
   ]
  },
  {
   "cell_type": "markdown",
   "id": "latin-warning",
   "metadata": {},
   "source": [
    "### Plotting the optimal cost distribution of controllable/uncontrollable systems"
   ]
  },
  {
   "cell_type": "code",
   "execution_count": 33,
   "id": "major-assembly",
   "metadata": {},
   "outputs": [],
   "source": [
    "def title_from_dims(dims: tuple[int, int, int]) -> str:\n",
    "    if dims[0] == dims[1]:\n",
    "        return f\"Dim = {dims[0]}\"\n",
    "    return \"dim(S)={}, dim(A)={}\".format(*dims[:2])"
   ]
  },
  {
   "cell_type": "code",
   "execution_count": 34,
   "id": "empty-insert",
   "metadata": {
    "tags": []
   },
   "outputs": [],
   "source": [
    "def plot_optimal_costs_by_controllability(\n",
    "    dims: tuple[int, int, int], samples: int = 1000, **kwargs\n",
    "):\n",
    "    x = \"Cost\"\n",
    "    hue = \"Controllable\"\n",
    "\n",
    "    with GENERATOR.config(controllable=True, **kwargs):\n",
    "        controllable = pd.DataFrame(\n",
    "            {\n",
    "                x: -performance_samples(\n",
    "                    dims, optimal=True, samples=samples, rng=GENERATOR.rng\n",
    "                )\n",
    "            }\n",
    "        )\n",
    "        controllable[hue] = True\n",
    "    with GENERATOR.config(controllable=False, **kwargs):\n",
    "        uncontrollable = pd.DataFrame(\n",
    "            {\n",
    "                x: -performance_samples(\n",
    "                    dims, optimal=True, samples=samples, rng=GENERATOR.rng\n",
    "                )\n",
    "            }\n",
    "        )\n",
    "        uncontrollable[hue] = False\n",
    "\n",
    "    data = pd.concat([controllable, uncontrollable])\n",
    "\n",
    "    sns.histplot(\n",
    "        data=data,\n",
    "        x=x,\n",
    "        hue=hue,\n",
    "        hue_order=[True, False],\n",
    "        stat=\"density\",\n",
    "        log_scale=True,\n",
    "        #         bins=samples // 10\n",
    "    )\n",
    "    plt.title(title_from_dims(dims))\n",
    "    plt.show()"
   ]
  },
  {
   "cell_type": "code",
   "execution_count": 35,
   "id": "divine-split",
   "metadata": {
    "tags": []
   },
   "outputs": [],
   "source": [
    "# plot_optimal_costs_by_controllability((2, 2, 20))\n",
    "\n",
    "# plot_optimal_costs_by_controllability((2, 2, 100))\n",
    "\n",
    "# plot_optimal_costs_by_controllability((4, 4, 20))\n",
    "\n",
    "# plot_optimal_costs_by_controllability((8, 8, 20))\n",
    "\n",
    "# plot_optimal_costs_by_controllability((16, 16, 20))\n",
    "\n",
    "# plot_optimal_costs_by_controllability((32, 32, 20))"
   ]
  },
  {
   "cell_type": "markdown",
   "id": "functioning-rolling",
   "metadata": {},
   "source": [
    "### Plotting the performance distribution of optimal/random policies"
   ]
  },
  {
   "cell_type": "code",
   "execution_count": 36,
   "id": "2bb9f320-372a-404e-af37-9fcbcbe7a44d",
   "metadata": {},
   "outputs": [],
   "source": [
    "def repeat_dynamics(dynamics: lqr.LinSDynamics, n_batch: int) -> lqr.LinSDynamics:\n",
    "    return lqr.LinSDynamics(\n",
    "        F=torch.cat([dynamics.F.align_to(\"H\", \"B\", ...)] * n_batch, dim=\"B\"),\n",
    "        f=torch.cat([dynamics.f.align_to(\"H\", \"B\", ...)] * n_batch, dim=\"B\"),\n",
    "        W=torch.cat([dynamics.W.align_to(\"H\", \"B\", ...)] * n_batch, dim=\"B\"),\n",
    "    )\n",
    "\n",
    "\n",
    "def repeat_cost(cost: lqr.QuadCost, n_batch: int) -> lqr.QuadCost:\n",
    "    return lqr.QuadCost(\n",
    "        C=torch.cat([cost.C.align_to(\"H\", \"B\", ...)] * n_batch, dim=\"B\"),\n",
    "        c=torch.cat([cost.c.align_to(\"H\", \"B\", ...)] * n_batch, dim=\"B\"),\n",
    "    )\n",
    "\n",
    "\n",
    "def repeat_dynamics_cost(\n",
    "    dynamics: lqr.LinSDynamics, cost: lqr.QuadCost, n_batch: int\n",
    ") -> tuple[lqr.LinSDynamics, lqr.QuadCost]:\n",
    "    return repeat_dynamics(dynamics, n_batch), repeat_cost(cost, n_batch)"
   ]
  },
  {
   "cell_type": "code",
   "execution_count": 37,
   "id": "0e94c346-b9e7-4cca-8448-5e27e8f24d89",
   "metadata": {
    "tags": []
   },
   "outputs": [],
   "source": [
    "def plot_optimal_costs_hist(\n",
    "    ax,\n",
    "    n_state: int,\n",
    "    n_ctrl: int,\n",
    "    horizon: int,\n",
    "    samples: int = 1000,\n",
    "    fix_dynamics: bool = False,\n",
    "    fix_cost: bool = False,\n",
    "    rng: RNG = None,\n",
    "):\n",
    "    with GENERATOR.config(n_state=n_state, n_ctrl=n_ctrl, horizon=horizon, rng=rng):\n",
    "        dynamics = (\n",
    "            repeat_dynamics(GENERATOR.make_dynamics(), samples)\n",
    "            if fix_dynamics\n",
    "            else GENERATOR.make_dynamics(samples)\n",
    "        )\n",
    "        cost = (\n",
    "            repeat_cost(GENERATOR.make_cost(), samples)\n",
    "            if fix_cost\n",
    "            else GENERATOR.make_cost(samples)\n",
    "        )\n",
    "        init = GENERATOR.make_init(samples)\n",
    "\n",
    "    x = \"Optimal policy cost\"\n",
    "    df = pd.DataFrame({x: -optimal_performance(dynamics, cost, init)})\n",
    "\n",
    "    sns.histplot(ax=ax, data=df, x=x, stat=\"density\", log_scale=True)\n",
    "    ax.set_title(title_from_dims((n_state, n_ctrl, horizon)))"
   ]
  },
  {
   "cell_type": "code",
   "execution_count": 38,
   "id": "d4c38969-275a-45a6-a794-8ff9dee4bff8",
   "metadata": {},
   "outputs": [
    {
     "data": {
      "image/png": "[encoded data removed]",
      "text/plain": [
       "<Figure size 430.866x88.7633 with 3 Axes>"
      ]
     },
     "metadata": {},
     "output_type": "display_data"
    }
   ],
   "source": [
    "fig, (ax1, ax2, ax3) = plt.subplots(1, 3, figsize=set_size(subplots=(1, 3)))\n",
    "plot_optimal_costs_hist(ax1, 2, 2, 20, rng=np.random.default_rng(42))\n",
    "plot_optimal_costs_hist(ax2, 8, 8, 20, rng=np.random.default_rng(42))\n",
    "plot_optimal_costs_hist(ax3, 32, 32, 20, rng=np.random.default_rng(42))\n",
    "ax2.set_ylabel(None)\n",
    "ax3.set_ylabel(None)\n",
    "# ax3.xaxis.set_minor_locator(mpl.ticker.LogLocator(numticks=10))\n",
    "ax3.xaxis.set_ticks([100, 1000])\n",
    "# ax3.xaxis.set_minor_formatter(mpl.ticker.LogFormatterSciNotation(minor_thresholds=(.5, .34)))\n",
    "savefig(fig, \"optimal_costs_hist\")"
   ]
  },
  {
   "cell_type": "code",
   "execution_count": 41,
   "id": "55a48d9f-1db5-4cca-bfaa-071b0b0743ed",
   "metadata": {
    "tags": []
   },
   "outputs": [],
   "source": [
    "def optimal_costs_mixed(\n",
    "    n_states: list[int],\n",
    "    n_ctrls: list[int],\n",
    "    horizons: list[int],\n",
    "    samples: int = 1000,\n",
    "    fix_dynamics: bool = False,\n",
    "    fix_cost: bool = False,\n",
    "    rng: RNG = None,\n",
    "):\n",
    "    dfs = []\n",
    "    for n_state, n_ctrl, horizon in zip(n_states, n_ctrls, horizons):\n",
    "        with GENERATOR.config(n_state=n_state, n_ctrl=n_ctrl, horizon=horizon, rng=rng):\n",
    "            dynamics = (\n",
    "                repeat_dynamics(GENERATOR.make_dynamics(), samples)\n",
    "                if fix_dynamics\n",
    "                else GENERATOR.make_dynamics(samples)\n",
    "            )\n",
    "            cost = (\n",
    "                repeat_cost(GENERATOR.make_cost(), samples)\n",
    "                if fix_cost\n",
    "                else GENERATOR.make_cost(samples)\n",
    "            )\n",
    "            init = GENERATOR.make_init(samples)\n",
    "\n",
    "        dfs += [\n",
    "            pd.DataFrame(\n",
    "                {\n",
    "                    \"Optimal policy cost\": -optimal_performance(dynamics, cost, init),\n",
    "                    \"Dim\": n_state,\n",
    "                }\n",
    "            )\n",
    "        ]\n",
    "\n",
    "    return pd.concat(dfs, ignore_index=True)\n",
    "\n",
    "\n",
    "def plot_optimal_costs_mixed(ax, df: pd.DataFrame, x=\"Optimal policy cost\", hue=\"Dim\"):\n",
    "    sns.histplot(\n",
    "        ax=ax,\n",
    "        data=df,\n",
    "        x=x,\n",
    "        hue=hue,\n",
    "        stat=\"density\",\n",
    "        log_scale=True,\n",
    "        bins=\"auto\",\n",
    "        common_bins=False,\n",
    "        palette=\"coolwarm\",\n",
    "    )\n",
    "    print(df.groupby(hue).agg([\"mean\", \"std\"]))"
   ]
  },
  {
   "cell_type": "code",
   "execution_count": 42,
   "id": "1cac0675-bba5-4a44-84a9-b61b4816fa5f",
   "metadata": {},
   "outputs": [
    {
     "name": "stdout",
     "output_type": "stream",
     "text": [
      "    Optimal policy cost            \n",
      "                   mean         std\n",
      "Dim                                \n",
      "2             73.507126  171.286926\n",
      "4            114.628151   95.716746\n",
      "8            187.876389   48.173566\n",
      "16           346.338989   50.298523\n",
      "32           665.879333   67.604382\n"
     ]
    },
    {
     "data": {
      "image/png": "[encoded data removed]",
      "text/plain": [
       "<Figure size 430.866x266.29 with 1 Axes>"
      ]
     },
     "metadata": {},
     "output_type": "display_data"
    }
   ],
   "source": [
    "fig, ax = plt.subplots(1, 1, figsize=set_size())\n",
    "dims = [2 ** i for i in range(1, 6)]\n",
    "plot_optimal_costs_mixed(\n",
    "    ax,\n",
    "    optimal_costs_mixed(\n",
    "        n_states=dims,\n",
    "        n_ctrls=dims,\n",
    "        horizons=[20] * len(dims),\n",
    "        rng=np.random.default_rng(42),\n",
    "    ),\n",
    ")\n",
    "savefig(fig, \"optimal_costs_hist_mixed\")"
   ]
  },
  {
   "cell_type": "code",
   "execution_count": 41,
   "id": "24885fe4-cb4d-47e1-9e13-a196165a7342",
   "metadata": {},
   "outputs": [],
   "source": [
    "def fgrid_size(rows: int, cols: int, **setsize_kws) -> dict:\n",
    "    \"\"\"Kwargs to set FacetGrid size based on number of rows and cols.\"\"\"\n",
    "    w, h = set_size(subplots=(rows, cols), **setsize_kws)\n",
    "    return dict(height=h / rows, aspect=(w / cols) / (h / rows))"
   ]
  },
  {
   "cell_type": "code",
   "execution_count": 45,
   "id": "5d0934be-049e-4dbf-bfe5-2cdc8228bcdc",
   "metadata": {},
   "outputs": [
    {
     "data": {
      "image/png": "[encoded data removed]",
      "text/plain": [
       "<Figure size 598.425x739.694 with 2 Axes>"
      ]
     },
     "metadata": {},
     "output_type": "display_data"
    }
   ],
   "source": [
    "fix_dynamics = optimal_costs_mixed(\n",
    "    n_states=dims,\n",
    "    n_ctrls=dims,\n",
    "    horizons=[20] * len(dims),\n",
    "    fix_dynamics=True,\n",
    "    rng=np.random.default_rng(42),\n",
    ")\n",
    "fix_dynamics[\"cat\"] = \"Fixed dynamics\"\n",
    "fix_costs = optimal_costs_mixed(\n",
    "    n_states=dims,\n",
    "    n_ctrls=dims,\n",
    "    horizons=[20] * len(dims),\n",
    "    fix_cost=True,\n",
    "    rng=np.random.default_rng(42),\n",
    ")\n",
    "fix_costs[\"cat\"] = \"Fixed cost\"\n",
    "fgrid = sns.displot(\n",
    "    data=pd.concat([fix_dynamics, fix_costs], ignore_index=True),\n",
    "    kind=\"hist\",\n",
    "    x=\"Optimal policy cost\",\n",
    "    hue=\"Dim\",\n",
    "    bins=128,\n",
    "    stat=\"density\",\n",
    "    palette=\"coolwarm\",\n",
    "    log_scale=True,\n",
    "    row=\"cat\",\n",
    "    facet_kws=dict(legend_out=False, margin_titles=True),\n",
    "    **fgrid_size(2, 1)\n",
    ")\n",
    "fgrid.set_titles(row_template=\"{row_name}\")\n",
    "savefig(fgrid, \"optimal_costs_hist_mixed_fix_dynamics_cost\")"
   ]
  },
  {
   "cell_type": "code",
   "execution_count": 43,
   "id": "9c4de02c-ff9d-4444-a4e3-6a2338ab10e7",
   "metadata": {},
   "outputs": [
    {
     "data": {
      "image/png": "[encoded data removed]",
      "text/plain": [
       "<Figure size 598.425x369.847 with 1 Axes>"
      ]
     },
     "metadata": {},
     "output_type": "display_data"
    }
   ],
   "source": [
    "# Sanity check\n",
    "_, ax = plt.subplots(1, 1, figsize=set_size())\n",
    "plot_optimal_costs_hist(\n",
    "    ax, 2, 2, 20, fix_dynamics=True, fix_cost=True, rng=np.random.default_rng(42)\n",
    ")\n",
    "plt.show()"
   ]
  },
  {
   "cell_type": "code",
   "execution_count": 50,
   "id": "32e64d60-22d3-44f3-9f9d-73b5eb0478cf",
   "metadata": {
    "tags": []
   },
   "outputs": [],
   "source": [
    "def random_costs_hist(\n",
    "    n_state: int, n_ctrl: int, horizon: int, samples: int = 1000, rng: RNG = None\n",
    "):\n",
    "    with GENERATOR.config(n_state=n_state, n_ctrl=n_ctrl, horizon=horizon, rng=rng):\n",
    "        dynamics, cost, init = GENERATOR()\n",
    "\n",
    "    optimal_cost = -optimal_performance(dynamics, cost, init).item()\n",
    "\n",
    "    dynamics, cost = repeat_dynamics_cost(dynamics, cost, samples)\n",
    "    data = pd.DataFrame(\n",
    "        {\"Random policy cost\": -random_performance(dynamics, cost, init, rng=rng)}\n",
    "    )\n",
    "    data[\"Optimal cost\"] = optimal_cost\n",
    "    data[\"n state\"] = n_state\n",
    "    data[\"n ctrl\"] = n_ctrl\n",
    "    data[\"horizon\"] = horizon\n",
    "    return data\n",
    "\n",
    "\n",
    "def plot_random_costs_hist(ax, data: pd.DataFrame, x: str = \"Random policy cost\"):\n",
    "    sns.histplot(ax=ax, data=data, x=x, stat=\"density\", log_scale=True)\n",
    "    ax.axvline(data[\"Optimal cost\"][0], label=\"optimal\", color=\"red\", linestyle=\"--\")\n",
    "    ax.set_title(\n",
    "        title_from_dims((data[\"n state\"][0], data[\"n ctrl\"][0], data[\"horizon\"][0]))\n",
    "    )"
   ]
  },
  {
   "cell_type": "code",
   "execution_count": 53,
   "id": "c1b09534-5089-44db-9f1a-47bf1a968874",
   "metadata": {},
   "outputs": [
    {
     "name": "stdout",
     "output_type": "stream",
     "text": [
      "   Random policy cost  Optimal cost  n state  n ctrl  horizon\n",
      "0           93.965691     45.091602        2       2       20\n",
      "1           74.910835     45.091602        2       2       20\n",
      "2           52.939667     45.091602        2       2       20\n",
      "3           76.590828     45.091602        2       2       20\n",
      "4          129.708694     45.091602        2       2       20\n"
     ]
    },
    {
     "data": {
      "image/png": "[encoded data removed]",
      "text/plain": [
       "<Figure size 500x1500 with 3 Axes>"
      ]
     },
     "metadata": {},
     "output_type": "display_data"
    }
   ],
   "source": [
    "# fig, (ax1, ax2, ax3) = plt.subplots(3, 1, figsize=set_size(fraction=0.6, subplots=(3, 1)))\n",
    "# plot_random_costs_hist(ax1, random_costs_hist(2, 2, 20, rng=np.random.default_rng(42)))\n",
    "# plot_random_costs_hist(ax2, random_costs_hist(8, 8, 20, rng=np.random.default_rng(42)))\n",
    "# plot_random_costs_hist(\n",
    "#     ax3, random_costs_hist(32, 32, 20, rng=np.random.default_rng(42))\n",
    "# )\n",
    "# ax1.set_xlabel(None)\n",
    "# ax2.set_xlabel(None)\n",
    "# ax1.legend(loc=\"upper center\")\n",
    "data = pd.concat(\n",
    "    [\n",
    "        random_costs_hist(2, 2, 20, rng=np.random.default_rng(42)),\n",
    "        random_costs_hist(8, 8, 20, rng=np.random.default_rng(42)),\n",
    "        random_costs_hist(32, 32, 20, rng=np.random.default_rng(42)),\n",
    "    ],\n",
    "    ignore_index=True,\n",
    ")\n",
    "print(data.head())\n",
    "fig = sns.displot(\n",
    "    data=data,\n",
    "    kind=\"hist\",\n",
    "    x=\"Random policy cost\",\n",
    "    stat=\"density\",\n",
    "    log_scale=True,\n",
    "    row=\"n state\",\n",
    "    facet_kws=dict(margin_titles=True),\n",
    "    #     *fgrid_size(3, 1, fraction=0.6)\n",
    ")\n",
    "for row, ax in fig.axes_dict.items():\n",
    "    sub = data.query(\"`n state` == @row\")\n",
    "    ax.axvline(sub[\"Optimal cost\"].min(), label=\"optimal\", color=\"red\", linestyle=\"--\")\n",
    "\n",
    "fig.set_titles(row_template=\"Dim = {row_name}\")\n",
    "savefig(fig, \"random_costs_hist\")"
   ]
  },
  {
   "cell_type": "markdown",
   "id": "interstate-accent",
   "metadata": {},
   "source": [
    "### Plotting the performance distribution of random policies vs. distance to optimal policy"
   ]
  },
  {
   "cell_type": "code",
   "execution_count": null,
   "id": "404d7af7-be8f-4d3a-8f13-526195e05610",
   "metadata": {},
   "outputs": [],
   "source": [
    "@torch.no_grad()\n",
    "def val_and_grad_diff_samples(\n",
    "    dims: tuple[int, int, int], samples: int = 100, rng: RNG = None\n",
    ") -> tuple[np.ndarray, np.ndarray]:\n",
    "    n_state, n_ctrl, horizon = dims\n",
    "    with GENERATOR.config(n_state=n_state, n_ctrl=n_ctrl, horizon=horizon, rng=rng):\n",
    "        dynamics, cost, init = GENERATOR()\n",
    "\n",
    "    optimal, _, vstar = solution(dynamics, cost)\n",
    "    optimal = tuple(k.align_to(\"H\", \"B\", ...) for k in optimal)\n",
    "    best_perf = expected_return(init, vstar).align_to(\"B\", ...).numpy()\n",
    "\n",
    "    dynamics = repeat_dynamics(dynamics, n_batch=samples)\n",
    "    cost = repeat_cost(cost, n_batch=samples)\n",
    "    random = sample_policy(dynamics, cost, rng=rng)\n",
    "    rand_perf = policy_performance(random, dynamics, cost, init).numpy()\n",
    "\n",
    "    rel_value_diff = best_perf - rand_perf / best_perf\n",
    "    distance = policy_distance(random, optimal).numpy()\n",
    "    assert np.all(np.isfinite(rel_value_diff)), rel_value_diff\n",
    "    assert np.all(np.isfinite(distance)), distance\n",
    "    return rel_value_diff, distance"
   ]
  },
  {
   "cell_type": "code",
   "execution_count": null,
   "id": "amino-joseph",
   "metadata": {
    "tags": []
   },
   "outputs": [],
   "source": [
    "def plot_val_and_param_diff(\n",
    "    ax, dims: tuple[int, int, int], samples: int = 1000, rng: RNG = None\n",
    "):\n",
    "    x = \"Relative difference to optimal value\"\n",
    "    y = \"Distance to optimal parameters\"\n",
    "\n",
    "    rel_diff, distance = val_and_grad_diff_samples(dims, samples=samples, rng=rng)\n",
    "    data = pd.DataFrame({x: rel_diff, y: distance})\n",
    "\n",
    "    sns.histplot(\n",
    "        ax=ax,\n",
    "        data=data,\n",
    "        x=x,\n",
    "        y=y,\n",
    "        stat=\"density\",\n",
    "        log_scale=(False, False),\n",
    "    )\n",
    "    ax.set_title(f\"{samples} generated policies\\n\" + title_from_dims(dims))"
   ]
  },
  {
   "cell_type": "code",
   "execution_count": null,
   "id": "b65de47b-c07b-4ce4-ad32-b11af027d63c",
   "metadata": {},
   "outputs": [],
   "source": [
    "fig, (ax1, ax2, ax3) = plt.subplots(1, 3, figsize=FIGSIZE)\n",
    "plot_val_and_param_diff(ax1, (2, 2, 20), rng=np.random.default_rng(42))\n",
    "plot_val_and_param_diff(ax2, (8, 8, 20), rng=np.random.default_rng(42))\n",
    "plot_val_and_param_diff(ax3, (32, 32, 20), rng=np.random.default_rng(42))\n",
    "set_padding()\n",
    "plt.savefig(os.path.join(DOWNLOADS, \"val_and_param_diff.pdf\"))"
   ]
  },
  {
   "cell_type": "markdown",
   "id": "medical-light",
   "metadata": {},
   "source": [
    "### Plotting the SVG norm distribution"
   ]
  },
  {
   "cell_type": "code",
   "execution_count": null,
   "id": "little-planning",
   "metadata": {},
   "outputs": [],
   "source": [
    "def random_svg_norm(\n",
    "    dynamics: lqr.LinSDynamics, cost: lqr.QuadCost, init: lqr.GaussInit, rng: RNG\n",
    ") -> Tensor:\n",
    "    policy = tuple(\n",
    "        g.requires_grad_(True) for g in sample_policy(dynamics, cost, rng=rng)\n",
    "    )\n",
    "    _, svg_norm = policy_svg_norm(policy, dynamics, cost, init)\n",
    "    return svg_norm\n",
    "\n",
    "\n",
    "def svg_norm_samples(\n",
    "    dims: tuple[int, int, int], samples: int = 100, rng: RNG = None\n",
    ") -> np.ndarray:\n",
    "    n_state, n_ctrl, horizon = dims\n",
    "    with GENERATOR.config(n_state=n_state, n_ctrl=n_ctrl, horizon=horizon, rng=rng):\n",
    "        dynamics, cost, init = GENERATOR()\n",
    "    dynamics, cost = repeat_dynamics_cost(dynamics, cost, samples)\n",
    "    init = lqr.GaussInit(init.mu.align_to(\"B\", ...), init.sig.align_to(\"B\", ...))\n",
    "    return random_svg_norm(dynamics, cost, init, rng=rng).numpy()"
   ]
  },
  {
   "cell_type": "code",
   "execution_count": null,
   "id": "limited-luxury",
   "metadata": {},
   "outputs": [],
   "source": [
    "def plot_svg_norm_hist(\n",
    "    ax, dims: tuple[int, int, int], samples: int = 1000, rng: RNG = None\n",
    "):\n",
    "    x = \"SVG norm\"\n",
    "    data = pd.DataFrame({x: svg_norm_samples(dims, samples=samples, rng=rng)})\n",
    "    sns.histplot(ax=ax, data=data, x=x, stat=\"density\", log_scale=True)\n",
    "    ax.set_title(f\"{samples} generated policies\\n\" + title_from_dims(dims))"
   ]
  },
  {
   "cell_type": "code",
   "execution_count": null,
   "id": "1579a41c-ccf5-405c-8ef2-ba335685cd87",
   "metadata": {},
   "outputs": [],
   "source": [
    "fig, (ax1, ax2, ax3) = plt.subplots(1, 3, figsize=FIGSIZE)\n",
    "plot_svg_norm_hist(ax1, (2, 2, 20), rng=np.random.default_rng(42))\n",
    "plot_svg_norm_hist(ax2, (8, 8, 20), rng=np.random.default_rng(42))\n",
    "plot_svg_norm_hist(ax3, (32, 32, 20), rng=np.random.default_rng(42))\n",
    "set_padding()\n",
    "plt.savefig(os.path.join(DOWNLOADS, \"svg_norm_hist.pdf\"))"
   ]
  },
  {
   "cell_type": "code",
   "execution_count": null,
   "id": "e9f2236f-0dbd-437a-9ff1-5a3666e0984d",
   "metadata": {},
   "outputs": [],
   "source": [
    "assert False"
   ]
  },
  {
   "cell_type": "markdown",
   "id": "eight-finish",
   "metadata": {},
   "source": [
    "---\n",
    "## Evaluate cost scaling against each variable\n",
    "\n",
    "### Checklist\n",
    "- [x] Stack several LQGs including init dists\n",
    "- [x] Define range of `n_state`s, `n_ctrl`s, and `horizon`s\n",
    "- [x] Fix initial values of `n_state=2`, `n_ctrl=2`, `horizon=100`\n",
    "- [x] Iterate over one of the ranges, e.g., `horizon`s:\n",
    "  - [x] Generate several LQGs with the current `n_state`, `n_ctrl`, `horizon` and stack them\n",
    "  - [x] Find the optimal solutions (policies) and evaluate the optimal expected returns\n",
    "  - [x] Average the results accross the LQGs generated\n",
    "  - [x] Plot the average against the current `n_state`, `n_ctrl`, `horizon`"
   ]
  },
  {
   "cell_type": "code",
   "execution_count": null,
   "id": "opening-cemetery",
   "metadata": {},
   "outputs": [],
   "source": [
    "def performance_matrix(\n",
    "    state_dim_arr: np.ndarray,\n",
    "    ctrl_dim_arr: np.ndarray,\n",
    "    horizon_arr: np.ndarray,\n",
    "    perf_sampling_fn: Callable[[int, int, int], np.ndarray],\n",
    ") -> np.ndarray:\n",
    "    pbar = tqdm(\n",
    "        zip(state_dim_arr, ctrl_dim_arr, horizon_arr),\n",
    "        total=len(ctrl_dim_arr),\n",
    "        desc=\"Computing performance by LQG dims\",\n",
    "    )\n",
    "\n",
    "    exp_ret_arrs = [\n",
    "        perf_sampling_fn(n_state, n_ctrl, horizon) for n_state, n_ctrl, horizon in pbar\n",
    "    ]\n",
    "\n",
    "    exp_ret_mat = np.vstack(exp_ret_arrs)\n",
    "    return exp_ret_mat"
   ]
  },
  {
   "cell_type": "code",
   "execution_count": null,
   "id": "latter-sleep",
   "metadata": {
    "tags": []
   },
   "outputs": [],
   "source": [
    "def average_performance_lineplot(\n",
    "    state_dim: np.ndarray,\n",
    "    ctrl_dim: np.ndarray,\n",
    "    horizon: np.ndarray,\n",
    "    x_axis: tuple[str, np.ndarray],\n",
    "):\n",
    "    x, x_arr = x_axis\n",
    "    y = \"average performance\"\n",
    "    hue = \"optimal\"\n",
    "    n_samples = 200\n",
    "\n",
    "    def sampler(s, c, h, *, optimal: bool):\n",
    "        return performance_samples((s, c, h), samples=n_samples, optimal=optimal)\n",
    "\n",
    "    optimal = {\n",
    "        x: x_arr,\n",
    "        y: performance_matrix(\n",
    "            state_dim, ctrl_dim, horizon, partial(sampler, optimal=True)\n",
    "        ).mean(-1),\n",
    "        hue: np.ones_like(x_arr, dtype=bool),\n",
    "    }\n",
    "    random = {\n",
    "        x: x_arr,\n",
    "        y: performance_matrix(\n",
    "            state_dim, ctrl_dim, horizon, partial(sampler, optimal=False)\n",
    "        ).mean(-1),\n",
    "        hue: np.zeros_like(x_arr, dtype=bool),\n",
    "    }\n",
    "\n",
    "    data = pd.concat(list(map(pd.DataFrame, (optimal, random))))\n",
    "    ax = sns.lineplot(x=x, y=y, data=data, hue=hue)\n",
    "    plt.show()"
   ]
  },
  {
   "cell_type": "markdown",
   "id": "changed-denmark",
   "metadata": {
    "tags": []
   },
   "source": [
    "#### Performance vs. state dimension"
   ]
  },
  {
   "cell_type": "code",
   "execution_count": null,
   "id": "international-ridge",
   "metadata": {
    "tags": []
   },
   "outputs": [],
   "source": [
    "x_axis = np.arange(2, 12)\n",
    "average_performance_lineplot(\n",
    "    state_dim=x_axis,\n",
    "    ctrl_dim=np.full(10, 2, dtype=int),\n",
    "    horizon=np.full(10, 100, dtype=int),\n",
    "    x_axis=(\"state dim\", x_axis),\n",
    ")"
   ]
  },
  {
   "cell_type": "markdown",
   "id": "collect-butterfly",
   "metadata": {},
   "source": [
    "#### Performance vs. control dimension"
   ]
  },
  {
   "cell_type": "code",
   "execution_count": null,
   "id": "fresh-commissioner",
   "metadata": {
    "tags": []
   },
   "outputs": [],
   "source": [
    "state_dims = np.full(10, 2, dtype=int)\n",
    "ctrl_dims = np.arange(2, 12)\n",
    "horizons = np.full(10, 100, dtype=int)\n",
    "average_performance_lineplot(\n",
    "    state_dim=state_dims,\n",
    "    ctrl_dim=ctrl_dims,\n",
    "    horizon=horizons,\n",
    "    x_axis=(\"ctrl dim\", ctrl_dims),\n",
    ")"
   ]
  },
  {
   "cell_type": "markdown",
   "id": "caroline-attachment",
   "metadata": {},
   "source": [
    "#### Performance vs. horizon length"
   ]
  },
  {
   "cell_type": "code",
   "execution_count": null,
   "id": "manufactured-option",
   "metadata": {
    "tags": []
   },
   "outputs": [],
   "source": [
    "state_dims = np.full(10, 2, dtype=int)\n",
    "ctrl_dims = np.full(10, 2, dtype=int)\n",
    "horizons = 100 * np.arange(1, 11)\n",
    "average_performance_lineplot(state_dims, ctrl_dims, horizons, (\"horizon\", horizons))"
   ]
  },
  {
   "cell_type": "markdown",
   "id": "athletic-penny",
   "metadata": {},
   "source": [
    "#### Performance vs. state & control dimension"
   ]
  },
  {
   "cell_type": "code",
   "execution_count": null,
   "id": "spanish-aquatic",
   "metadata": {
    "tags": []
   },
   "outputs": [],
   "source": [
    "state_dims = ctrl_dims = np.arange(1, 21) + 1\n",
    "horizons = np.full(20, 100, dtype=int)\n",
    "average_performance_lineplot(\n",
    "    state_dims, ctrl_dims, horizons, (\"state & ctrl dim\", state_dims)\n",
    ")"
   ]
  },
  {
   "cell_type": "markdown",
   "id": "graphic-oxygen",
   "metadata": {},
   "source": [
    "---\n",
    "## Multivariate analysis of cost scaling\n",
    "\n",
    "### Checklist\n",
    "- [x] Plot the average expected return against two variables, e.g., `n_state` and `n_ctrl`, as a 3D surface plot\n",
    "- [ ] ~Use the insights gained from observing the cost scaling to propose a _downscaling_ parameter for random QuadCosts~\n",
    "- [x] Use the analysis above to also derive a scale parameter for the random Gaussian noise for policy generation"
   ]
  },
  {
   "cell_type": "code",
   "execution_count": null,
   "id": "smooth-cause",
   "metadata": {},
   "outputs": [],
   "source": [
    "def large_fig(*args, scale: float = 2.0, **kwargs):\n",
    "    return plt.figure(*args, figsize=[scale * 6.4, scale * 4.8], **kwargs)"
   ]
  },
  {
   "cell_type": "code",
   "execution_count": null,
   "id": "controversial-straight",
   "metadata": {
    "tags": []
   },
   "outputs": [],
   "source": [
    "def plot_3d_from_2d_function(\n",
    "    ax,\n",
    "    xrange: np.ndarray,\n",
    "    yrange: np.ndarray,\n",
    "    function: callable[[np.ndarray, np.ndarray], np.ndarray],\n",
    "):\n",
    "    length = len(xrange)\n",
    "    xbatch, ybatch = np.meshgrid(xrange, yrange)\n",
    "    assert xbatch.shape == ybatch.shape == (length, length)\n",
    "\n",
    "    x_arr, y_arr = map(lambda x: x.reshape((-1,)), (xbatch, ybatch))\n",
    "    assert (\n",
    "        x_arr.shape == y_arr.shape == (length ** 2,)\n",
    "    ), f\"expected: {(length ** 2,)}; x_arr: {x_arr.shape}; y_arr {y_arr.shape}\"\n",
    "\n",
    "    z_arr = function(x_arr, y_arr)\n",
    "    assert z_arr.shape == x_arr.shape, f\"{z_arr.shape} != {x_arr.shape}\"\n",
    "\n",
    "    zbatch = z_arr.reshape(xbatch.shape)\n",
    "    ax.plot_surface(xbatch, ybatch, zbatch, cmap=cm.coolwarm)"
   ]
  },
  {
   "cell_type": "markdown",
   "id": "raising-input",
   "metadata": {},
   "source": [
    "### State vs. control dimension with fixed horizon\n",
    "\n",
    "In what follows we set the horizon length to 100 steps.\n",
    "\n",
    "#### Best expected return"
   ]
  },
  {
   "cell_type": "code",
   "execution_count": null,
   "id": "becoming-isaac",
   "metadata": {},
   "outputs": [],
   "source": [
    "def performances_by_state_ctrl_dim(\n",
    "    state_dim_arr: np.ndarray, ctrl_dim_arr: np.ndarray, horizon: int, optimal: bool\n",
    ") -> np.ndarray:\n",
    "    horizon_arr = np.full_like(state_dim_arr, fill_value=horizon)\n",
    "    exp_opt_ret_mat = performance_matrix(\n",
    "        state_dim_arr,\n",
    "        ctrl_dim_arr,\n",
    "        horizon_arr,\n",
    "        lambda s, c, h: performance_samples(\n",
    "            (s, c, h), optimal=optimal, samples=100, clip_ctrl_dim=False\n",
    "        ),\n",
    "    )\n",
    "    return exp_opt_ret_mat"
   ]
  },
  {
   "cell_type": "code",
   "execution_count": null,
   "id": "perceived-relaxation",
   "metadata": {},
   "outputs": [],
   "source": [
    "def average_performance_by_state_ctrl_dim(\n",
    "    state_dim_arr: np.ndarray, ctrl_dim_arr: np.ndarray, optimal: bool\n",
    ") -> np.ndarray:\n",
    "    z_arr = performances_by_state_ctrl_dim(\n",
    "        state_dim_arr, ctrl_dim_arr, horizon=100, optimal=optimal\n",
    "    ).mean(axis=-1)\n",
    "    # Filtering NaNs\n",
    "    z_arr = np.nan_to_num(z_arr, nan=np.nanmin(z_arr))\n",
    "    return z_arr"
   ]
  },
  {
   "cell_type": "code",
   "execution_count": null,
   "id": "prostate-director",
   "metadata": {
    "tags": []
   },
   "outputs": [],
   "source": [
    "fig = large_fig()\n",
    "ax = fig.add_subplot(projection=\"3d\")\n",
    "plot_3d_from_2d_function(\n",
    "    ax,\n",
    "    xrange=np.arange(1, 21) + 1,\n",
    "    yrange=np.arange(1, 21) + 1,\n",
    "    function=lambda x, y: average_performance_by_state_ctrl_dim(x, y, optimal=True),\n",
    ")\n",
    "ax.set_xlabel(\"state dim\")\n",
    "ax.set_ylabel(\"ctrl dim\")\n",
    "ax.set_title(\"average best performance\")\n",
    "plt.show()"
   ]
  },
  {
   "cell_type": "markdown",
   "id": "general-expert",
   "metadata": {},
   "source": [
    "#### Expected return from random policy"
   ]
  },
  {
   "cell_type": "code",
   "execution_count": null,
   "id": "parliamentary-watts",
   "metadata": {
    "tags": []
   },
   "outputs": [],
   "source": [
    "fig = large_fig()\n",
    "ax = fig.add_subplot(projection=\"3d\")\n",
    "plot_3d_from_2d_function(\n",
    "    ax,\n",
    "    xrange=np.arange(1, 21) + 1,\n",
    "    yrange=np.arange(1, 21) + 1,\n",
    "    function=lambda x, y: average_performance_by_state_ctrl_dim(x, y, optimal=False),\n",
    ")\n",
    "ax.set_xlabel(\"state dim\")\n",
    "ax.set_ylabel(\"ctrl dim\")\n",
    "ax.set_title(\"average random performance\")\n",
    "plt.show()"
   ]
  },
  {
   "cell_type": "markdown",
   "id": "fossil-bernard",
   "metadata": {},
   "source": [
    "### State & control dimension vs. horizon length"
   ]
  },
  {
   "cell_type": "markdown",
   "id": "fixed-number",
   "metadata": {},
   "source": [
    "#### Best expected return"
   ]
  },
  {
   "cell_type": "code",
   "execution_count": null,
   "id": "laden-scratch",
   "metadata": {},
   "outputs": [],
   "source": [
    "def performances_by_horizon(\n",
    "    state_ctrl_dim: np.ndarray, horizon_arr: np.ndarray, optimal: bool\n",
    ") -> np.ndarray:\n",
    "    state_dim_arr = ctrl_dim_arr = state_ctrl_dim\n",
    "    opt_perf_mat = performance_matrix(\n",
    "        state_dim_arr,\n",
    "        ctrl_dim_arr,\n",
    "        horizon_arr,\n",
    "        lambda s, c, h: performance_samples((s, c, h), optimal=optimal, samples=100),\n",
    "    )\n",
    "    return opt_perf_mat"
   ]
  },
  {
   "cell_type": "code",
   "execution_count": null,
   "id": "frank-router",
   "metadata": {},
   "outputs": [],
   "source": [
    "def average_performance_by_horizon(\n",
    "    state_ctrl_dim: np.ndarray, horizon_arr: np.ndarray, optimal: bool\n",
    ") -> np.ndarray:\n",
    "    z_arr = performances_by_horizon(state_ctrl_dim, horizon_arr, optimal=optimal).mean(\n",
    "        axis=-1\n",
    "    )\n",
    "    # Filtering NaNs\n",
    "    z_arr = np.nan_to_num(z_arr, nan=np.nanmin(z_arr))\n",
    "    return z_arr"
   ]
  },
  {
   "cell_type": "code",
   "execution_count": null,
   "id": "worst-preservation",
   "metadata": {
    "tags": []
   },
   "outputs": [],
   "source": [
    "fig = large_fig()\n",
    "ax = fig.add_subplot(projection=\"3d\")\n",
    "plot_3d_from_2d_function(\n",
    "    ax,\n",
    "    xrange=np.arange(1, 21) + 1,\n",
    "    yrange=100 + 10 * np.arange(1, 21),\n",
    "    function=lambda x, y: average_performance_by_horizon(x, y, optimal=True),\n",
    ")\n",
    "ax.set_xlabel(\"state/ctrl dim\")\n",
    "ax.set_ylabel(\"horizon\")\n",
    "ax.set_title(\"average optimal performance\")\n",
    "plt.show()"
   ]
  },
  {
   "cell_type": "markdown",
   "id": "fitting-temperature",
   "metadata": {},
   "source": [
    "#### Random expected return"
   ]
  },
  {
   "cell_type": "code",
   "execution_count": null,
   "id": "republican-husband",
   "metadata": {
    "tags": []
   },
   "outputs": [],
   "source": [
    "fig = large_fig()\n",
    "ax = fig.add_subplot(projection=\"3d\")\n",
    "plot_3d_from_2d_function(\n",
    "    ax,\n",
    "    xrange=np.arange(1, 21) + 1,\n",
    "    yrange=100 + 10 * np.arange(1, 21),\n",
    "    function=lambda x, y: average_performance_by_horizon(x, y, optimal=False),\n",
    ")\n",
    "ax.set_xlabel(\"state/ctrl dim\")\n",
    "ax.set_ylabel(\"horizon\")\n",
    "ax.set_title(\"average random performance\")\n",
    "plt.show()"
   ]
  }
 ],
 "metadata": {
  "kernelspec": {
   "display_name": "Python 3 (ipykernel)",
   "language": "python",
   "name": "python3"
  },
  "language_info": {
   "codemirror_mode": {
    "name": "ipython",
    "version": 3
   },
   "file_extension": ".py",
   "mimetype": "text/x-python",
   "name": "python",
   "nbconvert_exporter": "python",
   "pygments_lexer": "ipython3",
   "version": "3.8.10"
  }
 },
 "nbformat": 4,
 "nbformat_minor": 5
}
