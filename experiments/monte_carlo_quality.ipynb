{
 "cells": [
  {
   "cell_type": "markdown",
   "id": "be7ccce5-51b4-4803-9150-b61aedff8d8e",
   "metadata": {},
   "source": [
    "# Monte Carlo SVG (unbiased)\n",
    "\n",
    "In this notebook we aim to answer the following questions, asked in last week's [report](https://wandb.ai/angelovtt/LQG-SVG/reports/Apr-15-Project-Update--Vmlldzo2MTE3NzA).\n",
    "> What's the gradient error and variance incurred by approximating SVG formulations (1,2) via Monte Carlo? (using the true model, reward, and value function) \n",
    "How does it scale with the sample regime?"
   ]
  },
  {
   "cell_type": "markdown",
   "id": "39fd2d28-0d91-4043-9b93-b39f034c4e1a",
   "metadata": {},
   "source": [
    "---\n",
    "## Setup"
   ]
  },
  {
   "cell_type": "code",
   "execution_count": 1,
   "id": "5b41a0ba-1a39-492c-81e7-ef4d9c061a1f",
   "metadata": {},
   "outputs": [],
   "source": [
    "from __future__ import annotations\n",
    "\n",
    "import textwrap\n",
    "\n",
    "import lqsvg.torch.named as nt\n",
    "import matplotlib as mpl\n",
    "import matplotlib.pyplot as plt\n",
    "import numpy as np\n",
    "import pandas as pd\n",
    "import seaborn as sns\n",
    "import torch\n",
    "import torch.nn as nn\n",
    "from lqsvg.envs import lqr\n",
    "from lqsvg.envs.lqr.generators import LQGGenerator\n",
    "from lqsvg.envs.lqr.modules import (\n",
    "    InitStateDynamics,\n",
    "    LinearDynamicsModule,\n",
    "    LQGModule,\n",
    "    QuadraticReward,\n",
    ")\n",
    "from lqsvg.experiment.plot import default_figsize, plot_surface\n",
    "from tqdm.auto import tqdm, trange\n",
    "\n",
    "sns.set()"
   ]
  },
  {
   "cell_type": "markdown",
   "id": "e1d32d25-90f8-4501-88f5-165e0f502143",
   "metadata": {},
   "source": [
    "### Environment\n",
    "\n",
    "We sample a single LQG for this experiment"
   ]
  },
  {
   "cell_type": "code",
   "execution_count": 2,
   "id": "1cb5954e-b6a6-430f-b33a-07de8ca04069",
   "metadata": {},
   "outputs": [],
   "source": [
    "generator = LQGGenerator(\n",
    "    n_state=2,\n",
    "    n_ctrl=2,\n",
    "    horizon=20,\n",
    "    stationary=True,\n",
    "    passive_eigval_range=(0.5, 1.5),\n",
    "    controllable=True,\n",
    "    seed=32,\n",
    ")"
   ]
  },
  {
   "cell_type": "code",
   "execution_count": 3,
   "id": "9177242a-bc1c-4423-ab12-34b8d2cbaf18",
   "metadata": {},
   "outputs": [],
   "source": [
    "def make_lqg_module() -> LQGModule:\n",
    "    dynamics, cost, init = generator()\n",
    "    return LQGModule.from_existing(dynamics, cost, init)"
   ]
  },
  {
   "cell_type": "code",
   "execution_count": 4,
   "id": "f75e5e09-bbc1-4bd1-8ba9-e4bfb23507ba",
   "metadata": {},
   "outputs": [
    {
     "name": "stderr",
     "output_type": "stream",
     "text": [
      "/Users/angelolovatto/Library/Caches/pypoetry/virtualenvs/lqsvg-kEsPsxvA-py3.8/lib/python3.8/site-packages/torch/tensor.py:758: UserWarning: Named tensors and all their associated APIs are an experimental feature and subject to change. Please do not use them for anything important until they are released as stable. (Triggered internally at  ../c10/core/TensorImpl.h:934.)\n",
      "  return super(Tensor, self).refine_names(names)\n"
     ]
    },
    {
     "data": {
      "text/plain": [
       "LQGModule(\n",
       "  (trans): LinearDynamicsModule(\n",
       "    (params): LinearNormalParams(\n",
       "      (scale_tril): CholeskyFactor()\n",
       "    )\n",
       "    (dist): TVMultivariateNormal()\n",
       "  )\n",
       "  (reward): QuadraticReward()\n",
       "  (init): InitStateDynamics(\n",
       "    (scale_tril): CholeskyFactor()\n",
       "    (dist): TVMultivariateNormal()\n",
       "  )\n",
       ")"
      ]
     },
     "execution_count": 4,
     "metadata": {},
     "output_type": "execute_result"
    }
   ],
   "source": [
    "make_lqg_module()"
   ]
  },
  {
   "cell_type": "markdown",
   "id": "fab0f3a8-cc96-478b-8f23-cbac44e544a6",
   "metadata": {},
   "source": [
    "### Policy\n",
    "\n",
    "We use a _stabilizing_ policy generated as described in \"[Generating stabilizing policies](https://wandb.ai/angelovtt/LQG-SVG/reports/Apr-9-Project-Update--Vmlldzo1OTYxNTI#generating-stabilizing-policies)\"."
   ]
  },
  {
   "cell_type": "code",
   "execution_count": 5,
   "id": "165649b3-e79f-4a2b-adce-7f6c73586d64",
   "metadata": {},
   "outputs": [],
   "source": [
    "from lqsvg.policy.modules import TVLinearPolicy"
   ]
  },
  {
   "cell_type": "code",
   "execution_count": 6,
   "id": "3ad48219-3065-4594-b39e-db5f0799d326",
   "metadata": {},
   "outputs": [],
   "source": [
    "def make_stabilizing_policy(module: LQGModule) -> TVLinearPolicy:\n",
    "    policy = TVLinearPolicy(module.n_state, module.n_ctrl, module.horizon)\n",
    "    policy.stabilize_(module.trans.standard_form())\n",
    "    return policy"
   ]
  },
  {
   "cell_type": "code",
   "execution_count": 7,
   "id": "f42de169-c162-4af4-9bf9-3d46103938f4",
   "metadata": {},
   "outputs": [
    {
     "data": {
      "text/plain": [
       "TVLinearPolicy(\n",
       "  (encoder): Identity()\n",
       "  (action_linear): TVLinearFeedback()\n",
       "  (squashing): Identity()\n",
       ")"
      ]
     },
     "execution_count": 7,
     "metadata": {},
     "output_type": "execute_result"
    }
   ],
   "source": [
    "make_stabilizing_policy(make_lqg_module())"
   ]
  },
  {
   "cell_type": "markdown",
   "id": "d8e2c3dc-c8c6-4942-bc30-b4f88462bd0d",
   "metadata": {},
   "source": [
    "---\n",
    "## Ground-truth policy gradient"
   ]
  },
  {
   "cell_type": "code",
   "execution_count": 8,
   "id": "1584f6f4-c36e-43dc-b173-23992934e519",
   "metadata": {},
   "outputs": [],
   "source": [
    "from lqsvg.experiment.estimators import AnalyticSVG"
   ]
  },
  {
   "cell_type": "code",
   "execution_count": 9,
   "id": "a4aee3ef-29f9-4991-a3a5-934fc0eca6e0",
   "metadata": {},
   "outputs": [],
   "source": [
    "def test_analytic():\n",
    "    lqg_nn = make_lqg_module()\n",
    "    policy_nn = make_stabilizing_policy(lqg_nn)\n",
    "    return AnalyticSVG(policy_nn, lqg_nn)()"
   ]
  },
  {
   "cell_type": "code",
   "execution_count": 10,
   "id": "ae2a954a-6df8-4955-9756-6b9847ebcd48",
   "metadata": {},
   "outputs": [
    {
     "data": {
      "text/plain": [
       "(tensor(-232.5815, grad_fn=<NegBackward>),\n",
       " (tensor([[[-1.8985, -1.6698],\n",
       "           [-0.5987,  8.9337]],\n",
       "  \n",
       "          [[-1.9877, -2.3848],\n",
       "           [-0.6269, 12.7588]],\n",
       "  \n",
       "          [[-1.9919, -2.6909],\n",
       "           [-0.6282, 14.3966]],\n",
       "  \n",
       "          [[-1.9921, -2.8220],\n",
       "           [-0.6283, 15.0979]],\n",
       "  \n",
       "          [[-1.9921, -2.8781],\n",
       "           [-0.6283, 15.3981]],\n",
       "  \n",
       "          [[-1.9921, -2.9021],\n",
       "           [-0.6283, 15.5266]],\n",
       "  \n",
       "          [[-1.9921, -2.9122],\n",
       "           [-0.6283, 15.5815]],\n",
       "  \n",
       "          [[-1.9921, -2.9163],\n",
       "           [-0.6283, 15.6046]],\n",
       "  \n",
       "          [[-1.9921, -2.9174],\n",
       "           [-0.6283, 15.6138]],\n",
       "  \n",
       "          [[-1.9921, -2.9165],\n",
       "           [-0.6283, 15.6160]],\n",
       "  \n",
       "          [[-1.9921, -2.9127],\n",
       "           [-0.6283, 15.6127]],\n",
       "  \n",
       "          [[-1.9921, -2.9032],\n",
       "           [-0.6283, 15.6017]],\n",
       "  \n",
       "          [[-1.9921, -2.8807],\n",
       "           [-0.6283, 15.5744]],\n",
       "  \n",
       "          [[-1.9921, -2.8282],\n",
       "           [-0.6283, 15.5100]],\n",
       "  \n",
       "          [[-1.9922, -2.7051],\n",
       "           [-0.6282, 15.3591]],\n",
       "  \n",
       "          [[-1.9918, -2.4198],\n",
       "           [-0.6287, 15.0079]],\n",
       "  \n",
       "          [[-1.9947, -1.7376],\n",
       "           [-0.6251, 14.1790]],\n",
       "  \n",
       "          [[-1.9767, -0.2571],\n",
       "           [-0.6487, 12.3029]],\n",
       "  \n",
       "          [[-2.1637,  3.9966],\n",
       "           [-0.4508,  7.5006]],\n",
       "  \n",
       "          [[-2.1226,  8.3194],\n",
       "           [-1.1719, -0.7517]]]),\n",
       "  tensor([[0., 0.],\n",
       "          [0., 0.],\n",
       "          [0., 0.],\n",
       "          [0., 0.],\n",
       "          [0., 0.],\n",
       "          [0., 0.],\n",
       "          [0., 0.],\n",
       "          [0., 0.],\n",
       "          [0., 0.],\n",
       "          [0., 0.],\n",
       "          [0., 0.],\n",
       "          [0., 0.],\n",
       "          [0., 0.],\n",
       "          [0., 0.],\n",
       "          [0., 0.],\n",
       "          [0., 0.],\n",
       "          [0., 0.],\n",
       "          [0., 0.],\n",
       "          [0., 0.],\n",
       "          [0., 0.]])))"
      ]
     },
     "execution_count": 10,
     "metadata": {},
     "output_type": "execute_result"
    }
   ],
   "source": [
    "test_analytic()"
   ]
  },
  {
   "cell_type": "code",
   "execution_count": 11,
   "id": "d59bd0d9-9bfa-4dcf-a6dd-b54214fc716e",
   "metadata": {},
   "outputs": [],
   "source": [
    "def print_val_svg(value, svg):\n",
    "    msg = f\"\"\"\\\n",
    "    Shape: \n",
    "    - value: {value.shape}\n",
    "    - dynamic gradient: {svg[0].shape}\n",
    "    - static gradient: {svg[1].shape}\n",
    "    Max/Min:\n",
    "    - dynamic gradient: {svg[0].max()}/{svg[0].min()}\n",
    "    - static gradient: {svg[1].max()}/{svg[1].min()}\n",
    "    StdDev:\n",
    "    - dynamic gradient: {svg[0].std()}\n",
    "    - static gradient: {svg[1].std()}\"\"\"\n",
    "    print(textwrap.dedent(msg))"
   ]
  },
  {
   "cell_type": "code",
   "execution_count": 12,
   "id": "3942785c-2a46-4b56-b1ff-ebf0f2887847",
   "metadata": {},
   "outputs": [
    {
     "name": "stdout",
     "output_type": "stream",
     "text": [
      "Shape: \n",
      "- value: torch.Size([])\n",
      "- dynamic gradient: torch.Size([20, 2, 2])\n",
      "- static gradient: torch.Size([20, 2])\n",
      "Max/Min:\n",
      "- dynamic gradient: 108.78021240234375/-7.814762115478516\n",
      "- static gradient: 0.0/0.0\n",
      "StdDev:\n",
      "- dynamic gradient: 27.733867645263672\n",
      "- static gradient: 0.0\n"
     ]
    }
   ],
   "source": [
    "print_val_svg(*test_analytic())"
   ]
  },
  {
   "cell_type": "markdown",
   "id": "f8590b93-b277-419e-89f0-e773e28c71fe",
   "metadata": {},
   "source": [
    "---\n",
    "## Approximating (1) with samples\n",
    "\n",
    "Recall the first SVG formulation discussed in the report:\n",
    "$$\n",
    "\\nabla J(\\theta) = \\mathbb{E}_{\\mathbf{s}_0 \\sim \\rho} \\left[ \\nabla_\\theta V^{\\mu_\\theta}(\\mathbf{s}_0) \\right]. \\qquad (1)\n",
    "$$"
   ]
  },
  {
   "cell_type": "code",
   "execution_count": 13,
   "id": "95eb355e-84ff-4a0c-bcdd-16c862e2b338",
   "metadata": {},
   "outputs": [],
   "source": [
    "from lqsvg.experiment.estimators import MonteCarloSVG"
   ]
  },
  {
   "cell_type": "code",
   "execution_count": 14,
   "id": "f7822905-7899-448e-b279-bff8dfdb283e",
   "metadata": {},
   "outputs": [],
   "source": [
    "def test_mc_svg():\n",
    "    lqg_nn = make_lqg_module()\n",
    "    policy_nn = make_stabilizing_policy(lqg_nn)\n",
    "    mc_estimator = MonteCarloSVG(policy_nn, lqg_nn)\n",
    "    mc_value, mc_svg = mc_estimator(samples=10)\n",
    "    print_val_svg(mc_value, mc_svg)"
   ]
  },
  {
   "cell_type": "code",
   "execution_count": 15,
   "id": "ba1ae359-420f-4e0a-ae9f-62c54ca27f0f",
   "metadata": {},
   "outputs": [
    {
     "name": "stdout",
     "output_type": "stream",
     "text": [
      "Shape: \n",
      "- value: torch.Size([])\n",
      "- dynamic gradient: torch.Size([20, 2, 2])\n",
      "- static gradient: torch.Size([20, 2])\n",
      "Max/Min:\n",
      "- dynamic gradient: 494.1313171386719/-124.60013580322266\n",
      "- static gradient: 14.431580543518066/-35.2065544128418\n",
      "StdDev:\n",
      "- dynamic gradient: 127.15916442871094\n",
      "- static gradient: 12.55566692352295\n"
     ]
    }
   ],
   "source": [
    "test_mc_svg()"
   ]
  },
  {
   "cell_type": "code",
   "execution_count": 16,
   "id": "e915b73f-6eee-4734-9530-1d4a33cb25f5",
   "metadata": {},
   "outputs": [],
   "source": [
    "import lqsvg.experiment.analysis as analysis\n",
    "import lqsvg.experiment.utils as exp_util"
   ]
  },
  {
   "cell_type": "code",
   "execution_count": 17,
   "id": "217125be-0990-4cdc-b78f-346affa99131",
   "metadata": {},
   "outputs": [],
   "source": [
    "def grad_estimates(\n",
    "    estimator, sample_sizes: list[int], estimates_per_sample_size: int = 10\n",
    ") -> list[list[lqr.Linear]]:\n",
    "    svgs_by_sample_size = []\n",
    "    for size in tqdm(sample_sizes, desc=\"Computing cossim by sample size\", leave=False):\n",
    "        svgs = [estimator(samples=size)[1] for _ in range(estimates_per_sample_size)]\n",
    "        svgs_by_sample_size += [svgs]\n",
    "    return svgs_by_sample_size"
   ]
  },
  {
   "cell_type": "code",
   "execution_count": 18,
   "id": "65acca06-2342-4f47-a141-e83a2824ee74",
   "metadata": {},
   "outputs": [],
   "source": [
    "def plot_mc_quality_vs_samples(\n",
    "    num_trials: int = 10, estimates_per_sample_size: int = 10\n",
    "):\n",
    "    data = []\n",
    "    for _ in trange(num_trials, desc=\"Trials\"):\n",
    "        lqg_nn = make_lqg_module()\n",
    "        policy_nn = make_stabilizing_policy(lqg_nn)\n",
    "        estimator = MonteCarloSVG(policy_nn, lqg_nn)\n",
    "        true_svg = AnalyticSVG(policy_nn, lqg_nn)()[1]\n",
    "        sample_sizes = np.linspace(1, 200, 50, dtype=int)\n",
    "\n",
    "        data += [\n",
    "            gradient_estimation_data(\n",
    "                estimator, true_svg, sample_sizes, estimates_per_sample_size\n",
    "            )\n",
    "        ]\n",
    "    data = pd.concat(data, ignore_index=True)\n",
    "\n",
    "    fig = plt.figure(figsize=default_figsize(2, 1))\n",
    "    x = \"#Trajectories\"\n",
    "    gradient_accuracy = \"Avg. cos sim with true grad\"\n",
    "    empirical_variance = \"Avg. pairwise cos sim\"\n",
    "\n",
    "    ax = fig.add_subplot(2, 1, 1)\n",
    "    sns.lineplot(ax=ax, x=x, y=gradient_accuracy, data=data, ci=\"sd\")\n",
    "    ax.set_xlabel(None)\n",
    "\n",
    "    ax = fig.add_subplot(2, 1, 2)\n",
    "    sns.lineplot(ax=ax, x=x, y=empirical_variance, data=data, ci=\"sd\")\n",
    "    plt.show()\n",
    "\n",
    "\n",
    "def gradient_estimation_data(\n",
    "    estimator, true_svg: lqr.Linear, sample_sizes: int, estimates_per_sample_size: int\n",
    ") -> pd.DataFrame:\n",
    "    svgs_by_sample_size = grad_estimates(\n",
    "        estimator, sample_sizes, estimates_per_sample_size\n",
    "    )\n",
    "\n",
    "    cossims = [\n",
    "        analysis.gradient_accuracy(svgs, true_svg) for svgs in svgs_by_sample_size\n",
    "    ]\n",
    "    empvars = [analysis.empirical_variance(svgs) for svgs in svgs_by_sample_size]\n",
    "\n",
    "    x = \"#Trajectories\"\n",
    "    gradient_accuracy = \"Avg. cos sim with true grad\"\n",
    "    empirical_variance = \"Avg. pairwise cos sim\"\n",
    "    return pd.DataFrame(\n",
    "        {x: sample_sizes, gradient_accuracy: cossims, empirical_variance: empvars}\n",
    "    )"
   ]
  },
  {
   "cell_type": "code",
   "execution_count": 19,
   "id": "1f649df5-e2a7-4144-928d-29016bd7b4f2",
   "metadata": {},
   "outputs": [
    {
     "data": {
      "application/vnd.jupyter.widget-view+json": {
       "model_id": "f09efda8a4ec474d9470fb623f9d8fac",
       "version_major": 2,
       "version_minor": 0
      },
      "text/plain": [
       "Trials:   0%|          | 0/10 [00:00<?, ?it/s]"
      ]
     },
     "metadata": {},
     "output_type": "display_data"
    },
    {
     "data": {
      "application/vnd.jupyter.widget-view+json": {
       "model_id": "",
       "version_major": 2,
       "version_minor": 0
      },
      "text/plain": [
       "Computing cossim by sample size:   0%|          | 0/50 [00:00<?, ?it/s]"
      ]
     },
     "metadata": {},
     "output_type": "display_data"
    },
    {
     "data": {
      "application/vnd.jupyter.widget-view+json": {
       "model_id": "",
       "version_major": 2,
       "version_minor": 0
      },
      "text/plain": [
       "Computing cossim by sample size:   0%|          | 0/50 [00:00<?, ?it/s]"
      ]
     },
     "metadata": {},
     "output_type": "display_data"
    },
    {
     "data": {
      "application/vnd.jupyter.widget-view+json": {
       "model_id": "",
       "version_major": 2,
       "version_minor": 0
      },
      "text/plain": [
       "Computing cossim by sample size:   0%|          | 0/50 [00:00<?, ?it/s]"
      ]
     },
     "metadata": {},
     "output_type": "display_data"
    },
    {
     "data": {
      "application/vnd.jupyter.widget-view+json": {
       "model_id": "",
       "version_major": 2,
       "version_minor": 0
      },
      "text/plain": [
       "Computing cossim by sample size:   0%|          | 0/50 [00:00<?, ?it/s]"
      ]
     },
     "metadata": {},
     "output_type": "display_data"
    },
    {
     "data": {
      "application/vnd.jupyter.widget-view+json": {
       "model_id": "",
       "version_major": 2,
       "version_minor": 0
      },
      "text/plain": [
       "Computing cossim by sample size:   0%|          | 0/50 [00:00<?, ?it/s]"
      ]
     },
     "metadata": {},
     "output_type": "display_data"
    },
    {
     "data": {
      "application/vnd.jupyter.widget-view+json": {
       "model_id": "",
       "version_major": 2,
       "version_minor": 0
      },
      "text/plain": [
       "Computing cossim by sample size:   0%|          | 0/50 [00:00<?, ?it/s]"
      ]
     },
     "metadata": {},
     "output_type": "display_data"
    },
    {
     "data": {
      "application/vnd.jupyter.widget-view+json": {
       "model_id": "",
       "version_major": 2,
       "version_minor": 0
      },
      "text/plain": [
       "Computing cossim by sample size:   0%|          | 0/50 [00:00<?, ?it/s]"
      ]
     },
     "metadata": {},
     "output_type": "display_data"
    },
    {
     "data": {
      "application/vnd.jupyter.widget-view+json": {
       "model_id": "",
       "version_major": 2,
       "version_minor": 0
      },
      "text/plain": [
       "Computing cossim by sample size:   0%|          | 0/50 [00:00<?, ?it/s]"
      ]
     },
     "metadata": {},
     "output_type": "display_data"
    },
    {
     "data": {
      "application/vnd.jupyter.widget-view+json": {
       "model_id": "",
       "version_major": 2,
       "version_minor": 0
      },
      "text/plain": [
       "Computing cossim by sample size:   0%|          | 0/50 [00:00<?, ?it/s]"
      ]
     },
     "metadata": {},
     "output_type": "display_data"
    },
    {
     "data": {
      "application/vnd.jupyter.widget-view+json": {
       "model_id": "",
       "version_major": 2,
       "version_minor": 0
      },
      "text/plain": [
       "Computing cossim by sample size:   0%|          | 0/50 [00:00<?, ?it/s]"
      ]
     },
     "metadata": {},
     "output_type": "display_data"
    },
    {
     "data": {
      "image/png": "[encoded data removed]",
      "text/plain": [
       "<Figure size 576x432 with 2 Axes>"
      ]
     },
     "metadata": {},
     "output_type": "display_data"
    }
   ],
   "source": [
    "plot_mc_quality_vs_samples()"
   ]
  },
  {
   "cell_type": "markdown",
   "id": "ae8e6530-1168-416e-9cbc-1aff19acceee",
   "metadata": {},
   "source": [
    "---\n",
    "## Approximating (2) with samples\n",
    "\n",
    "Recall the second SVG formulation discussed in the report:\n",
    "$$\n",
    "\\nabla J(\\theta) = \\mathbb{E}_{\\mathbf{s}\\sim d^{\\mu_\\theta}} \\left[ \\nabla_\\theta \\mu_\\theta(\\mathbf{s}) \\nabla_{\\bf a} Q^{\\mu_\\theta}(\\mathbf{s, a}) |_{\\bf a = \\mu_\\theta(s)}\\right]. \\qquad (2)\n",
    "$$"
   ]
  },
  {
   "cell_type": "code",
   "execution_count": 20,
   "id": "b9692022-fec8-4ea5-8744-97d458c8bace",
   "metadata": {},
   "outputs": [],
   "source": [
    "from lqsvg.policy.modules import QuadQValue"
   ]
  },
  {
   "cell_type": "code",
   "execution_count": 21,
   "id": "693bcd8c-cd90-49f8-9837-7e0bffb97918",
   "metadata": {},
   "outputs": [],
   "source": [
    "from lqsvg.experiment.estimators import BootstrappedSVG"
   ]
  },
  {
   "cell_type": "code",
   "execution_count": 25,
   "id": "73823f59-1d93-4989-9ea6-6c6c157db069",
   "metadata": {},
   "outputs": [],
   "source": [
    "# Implement class containing boostrapped SVG estimator and obs dataset\n",
    "class NStepSVG(nn.Module):\n",
    "    def __init__(self, policy: TVLinearPolicy, model: LQGModule):\n",
    "        super().__init__()\n",
    "        self.policy = policy\n",
    "        self.model = model\n",
    "        self.qvalue = self.make_qvalue(policy, model)\n",
    "        self.estimator = BootstrappedSVG(policy, model.trans, model.reward, self.qvalue)\n",
    "        self.state_dataset = None\n",
    "        self.n_steps: int = 0\n",
    "\n",
    "    def setup(self, total_states: int = 1000):\n",
    "        self.state_dataset = self.starting_states(self.policy, self.model, total_states)\n",
    "\n",
    "    def sample_starting_obs(self, samples: int) -> Tensor:\n",
    "        idxs = torch.randint(\n",
    "            low=0, high=self.state_dataset.size(\"B\"), size=(samples,)\n",
    "        )\n",
    "        return nt.index_select(self.state_dataset, dim=\"B\", index=idxs)\n",
    "\n",
    "    def surrogate(self, samples: int = 1) -> Tensor:\n",
    "        obs = self.sample_starting_obs(samples)\n",
    "        return self.estimator.surrogate(obs, n_steps=self.n_steps)\n",
    "\n",
    "    def forward(self, samples: int = 1) -> tuple[Tensor, lqr.Linear]:\n",
    "        obs = self.sample_starting_obs(samples)\n",
    "        return self.estimator(obs, n_steps=self.n_steps)\n",
    "\n",
    "    @staticmethod\n",
    "    def make_qvalue(policy: TVLinearPolicy, model: LQGModule) -> QuadQValue:\n",
    "        return QuadQValue.from_policy(\n",
    "            policy.standard_form(),\n",
    "            model.trans.standard_form(),\n",
    "            model.reward.standard_form(),\n",
    "        )\n",
    "\n",
    "    @staticmethod\n",
    "    @torch.no_grad()\n",
    "    def starting_states(policy: TVLinearPolicy, model: LQGModule, num: int) -> Tensor:\n",
    "        rollout_module = MonteCarloSVG(policy, model)\n",
    "        n_trajs = num // model.horizon\n",
    "        obs, _, _, _, _ = rollout_module.rsample_trajectory(torch.Size([n_trajs]))\n",
    "        obs = obs.flatten([\"H\", \"B1\"], \"B\")\n",
    "        return obs"
   ]
  },
  {
   "cell_type": "code",
   "execution_count": 26,
   "id": "e43d66af-70aa-4c0f-bb6b-210927550c72",
   "metadata": {},
   "outputs": [],
   "source": [
    "def plot_bt_quality_vs_samples(num_trials: int = 10, estimates_per_sample_size: int = 10):\n",
    "    total_states = 1000\n",
    "    sample_sizes = np.linspace(1, total_states, 100, dtype=int)\n",
    "\n",
    "    data = []\n",
    "    for _ in trange(num_trials, desc=\"Trials\"):\n",
    "        lqg_nn = make_lqg_module()\n",
    "        policy_nn = make_stabilizing_policy(lqg_nn)\n",
    "        true_svg = AnalyticSVG(policy_nn, lqg_nn)()[1]\n",
    "\n",
    "        estimator = NStepSVG(policy_nn, lqg_nn)\n",
    "        estimator.setup(total_states)\n",
    "        for n_step in range(5):\n",
    "            estimator.n_steps = n_step\n",
    "\n",
    "            sub_data = gradient_estimation_data(\n",
    "                estimator, true_svg, sample_sizes, estimates_per_sample_size\n",
    "            )\n",
    "            sub_data[\"NStep\"] = n_step\n",
    "            data += [sub_data]\n",
    "    data = pd.concat(data)\n",
    "\n",
    "    fig = plt.figure(figsize=default_figsize(2, 1))\n",
    "    x = \"#Trajectories\"\n",
    "    gradient_accuracy = \"Avg. cos sim with true grad\"\n",
    "    empirical_variance = \"Avg. pairwise cos sim\"\n",
    "    hue=\"NStep\"\n",
    "\n",
    "    ax = fig.add_subplot(2, 1, 1)\n",
    "    sns.lineplot(ax=ax, x=x, y=gradient_accuracy, hue=hue, style=hue, data=data, ci=\"sd\")\n",
    "    ax.set_xlabel(None)\n",
    "\n",
    "    ax = fig.add_subplot(2, 1, 2)\n",
    "    sns.lineplot(ax=ax, x=x, y=empirical_variance, hue=hue, style=hue, data=data, ci=\"sd\")\n",
    "    plt.show()"
   ]
  },
  {
   "cell_type": "code",
   "execution_count": 27,
   "id": "977c7ee0-cb89-4404-b755-e29defc7fd4f",
   "metadata": {},
   "outputs": [
    {
     "data": {
      "application/vnd.jupyter.widget-view+json": {
       "model_id": "a84ba3f27fa340a6b697804257959d0d",
       "version_major": 2,
       "version_minor": 0
      },
      "text/plain": [
       "Trials:   0%|          | 0/10 [00:00<?, ?it/s]"
      ]
     },
     "metadata": {},
     "output_type": "display_data"
    },
    {
     "data": {
      "application/vnd.jupyter.widget-view+json": {
       "model_id": "",
       "version_major": 2,
       "version_minor": 0
      },
      "text/plain": [
       "Computing cossim by sample size:   0%|          | 0/100 [00:00<?, ?it/s]"
      ]
     },
     "metadata": {},
     "output_type": "display_data"
    },
    {
     "data": {
      "application/vnd.jupyter.widget-view+json": {
       "model_id": "",
       "version_major": 2,
       "version_minor": 0
      },
      "text/plain": [
       "Computing cossim by sample size:   0%|          | 0/100 [00:00<?, ?it/s]"
      ]
     },
     "metadata": {},
     "output_type": "display_data"
    },
    {
     "data": {
      "application/vnd.jupyter.widget-view+json": {
       "model_id": "",
       "version_major": 2,
       "version_minor": 0
      },
      "text/plain": [
       "Computing cossim by sample size:   0%|          | 0/100 [00:00<?, ?it/s]"
      ]
     },
     "metadata": {},
     "output_type": "display_data"
    },
    {
     "data": {
      "application/vnd.jupyter.widget-view+json": {
       "model_id": "",
       "version_major": 2,
       "version_minor": 0
      },
      "text/plain": [
       "Computing cossim by sample size:   0%|          | 0/100 [00:00<?, ?it/s]"
      ]
     },
     "metadata": {},
     "output_type": "display_data"
    },
    {
     "data": {
      "application/vnd.jupyter.widget-view+json": {
       "model_id": "",
       "version_major": 2,
       "version_minor": 0
      },
      "text/plain": [
       "Computing cossim by sample size:   0%|          | 0/100 [00:00<?, ?it/s]"
      ]
     },
     "metadata": {},
     "output_type": "display_data"
    },
    {
     "data": {
      "application/vnd.jupyter.widget-view+json": {
       "model_id": "",
       "version_major": 2,
       "version_minor": 0
      },
      "text/plain": [
       "Computing cossim by sample size:   0%|          | 0/100 [00:00<?, ?it/s]"
      ]
     },
     "metadata": {},
     "output_type": "display_data"
    },
    {
     "data": {
      "application/vnd.jupyter.widget-view+json": {
       "model_id": "",
       "version_major": 2,
       "version_minor": 0
      },
      "text/plain": [
       "Computing cossim by sample size:   0%|          | 0/100 [00:00<?, ?it/s]"
      ]
     },
     "metadata": {},
     "output_type": "display_data"
    },
    {
     "data": {
      "application/vnd.jupyter.widget-view+json": {
       "model_id": "",
       "version_major": 2,
       "version_minor": 0
      },
      "text/plain": [
       "Computing cossim by sample size:   0%|          | 0/100 [00:00<?, ?it/s]"
      ]
     },
     "metadata": {},
     "output_type": "display_data"
    },
    {
     "data": {
      "application/vnd.jupyter.widget-view+json": {
       "model_id": "",
       "version_major": 2,
       "version_minor": 0
      },
      "text/plain": [
       "Computing cossim by sample size:   0%|          | 0/100 [00:00<?, ?it/s]"
      ]
     },
     "metadata": {},
     "output_type": "display_data"
    },
    {
     "data": {
      "application/vnd.jupyter.widget-view+json": {
       "model_id": "",
       "version_major": 2,
       "version_minor": 0
      },
      "text/plain": [
       "Computing cossim by sample size:   0%|          | 0/100 [00:00<?, ?it/s]"
      ]
     },
     "metadata": {},
     "output_type": "display_data"
    },
    {
     "data": {
      "application/vnd.jupyter.widget-view+json": {
       "model_id": "",
       "version_major": 2,
       "version_minor": 0
      },
      "text/plain": [
       "Computing cossim by sample size:   0%|          | 0/100 [00:00<?, ?it/s]"
      ]
     },
     "metadata": {},
     "output_type": "display_data"
    },
    {
     "data": {
      "application/vnd.jupyter.widget-view+json": {
       "model_id": "",
       "version_major": 2,
       "version_minor": 0
      },
      "text/plain": [
       "Computing cossim by sample size:   0%|          | 0/100 [00:00<?, ?it/s]"
      ]
     },
     "metadata": {},
     "output_type": "display_data"
    },
    {
     "data": {
      "application/vnd.jupyter.widget-view+json": {
       "model_id": "",
       "version_major": 2,
       "version_minor": 0
      },
      "text/plain": [
       "Computing cossim by sample size:   0%|          | 0/100 [00:00<?, ?it/s]"
      ]
     },
     "metadata": {},
     "output_type": "display_data"
    },
    {
     "data": {
      "application/vnd.jupyter.widget-view+json": {
       "model_id": "",
       "version_major": 2,
       "version_minor": 0
      },
      "text/plain": [
       "Computing cossim by sample size:   0%|          | 0/100 [00:00<?, ?it/s]"
      ]
     },
     "metadata": {},
     "output_type": "display_data"
    },
    {
     "data": {
      "application/vnd.jupyter.widget-view+json": {
       "model_id": "",
       "version_major": 2,
       "version_minor": 0
      },
      "text/plain": [
       "Computing cossim by sample size:   0%|          | 0/100 [00:00<?, ?it/s]"
      ]
     },
     "metadata": {},
     "output_type": "display_data"
    },
    {
     "data": {
      "application/vnd.jupyter.widget-view+json": {
       "model_id": "",
       "version_major": 2,
       "version_minor": 0
      },
      "text/plain": [
       "Computing cossim by sample size:   0%|          | 0/100 [00:00<?, ?it/s]"
      ]
     },
     "metadata": {},
     "output_type": "display_data"
    },
    {
     "data": {
      "application/vnd.jupyter.widget-view+json": {
       "model_id": "",
       "version_major": 2,
       "version_minor": 0
      },
      "text/plain": [
       "Computing cossim by sample size:   0%|          | 0/100 [00:00<?, ?it/s]"
      ]
     },
     "metadata": {},
     "output_type": "display_data"
    },
    {
     "data": {
      "application/vnd.jupyter.widget-view+json": {
       "model_id": "",
       "version_major": 2,
       "version_minor": 0
      },
      "text/plain": [
       "Computing cossim by sample size:   0%|          | 0/100 [00:00<?, ?it/s]"
      ]
     },
     "metadata": {},
     "output_type": "display_data"
    },
    {
     "data": {
      "application/vnd.jupyter.widget-view+json": {
       "model_id": "",
       "version_major": 2,
       "version_minor": 0
      },
      "text/plain": [
       "Computing cossim by sample size:   0%|          | 0/100 [00:00<?, ?it/s]"
      ]
     },
     "metadata": {},
     "output_type": "display_data"
    },
    {
     "data": {
      "application/vnd.jupyter.widget-view+json": {
       "model_id": "",
       "version_major": 2,
       "version_minor": 0
      },
      "text/plain": [
       "Computing cossim by sample size:   0%|          | 0/100 [00:00<?, ?it/s]"
      ]
     },
     "metadata": {},
     "output_type": "display_data"
    },
    {
     "data": {
      "application/vnd.jupyter.widget-view+json": {
       "model_id": "",
       "version_major": 2,
       "version_minor": 0
      },
      "text/plain": [
       "Computing cossim by sample size:   0%|          | 0/100 [00:00<?, ?it/s]"
      ]
     },
     "metadata": {},
     "output_type": "display_data"
    },
    {
     "data": {
      "application/vnd.jupyter.widget-view+json": {
       "model_id": "",
       "version_major": 2,
       "version_minor": 0
      },
      "text/plain": [
       "Computing cossim by sample size:   0%|          | 0/100 [00:00<?, ?it/s]"
      ]
     },
     "metadata": {},
     "output_type": "display_data"
    },
    {
     "data": {
      "application/vnd.jupyter.widget-view+json": {
       "model_id": "",
       "version_major": 2,
       "version_minor": 0
      },
      "text/plain": [
       "Computing cossim by sample size:   0%|          | 0/100 [00:00<?, ?it/s]"
      ]
     },
     "metadata": {},
     "output_type": "display_data"
    },
    {
     "data": {
      "application/vnd.jupyter.widget-view+json": {
       "model_id": "",
       "version_major": 2,
       "version_minor": 0
      },
      "text/plain": [
       "Computing cossim by sample size:   0%|          | 0/100 [00:00<?, ?it/s]"
      ]
     },
     "metadata": {},
     "output_type": "display_data"
    },
    {
     "data": {
      "application/vnd.jupyter.widget-view+json": {
       "model_id": "",
       "version_major": 2,
       "version_minor": 0
      },
      "text/plain": [
       "Computing cossim by sample size:   0%|          | 0/100 [00:00<?, ?it/s]"
      ]
     },
     "metadata": {},
     "output_type": "display_data"
    },
    {
     "data": {
      "application/vnd.jupyter.widget-view+json": {
       "model_id": "",
       "version_major": 2,
       "version_minor": 0
      },
      "text/plain": [
       "Computing cossim by sample size:   0%|          | 0/100 [00:00<?, ?it/s]"
      ]
     },
     "metadata": {},
     "output_type": "display_data"
    },
    {
     "data": {
      "application/vnd.jupyter.widget-view+json": {
       "model_id": "",
       "version_major": 2,
       "version_minor": 0
      },
      "text/plain": [
       "Computing cossim by sample size:   0%|          | 0/100 [00:00<?, ?it/s]"
      ]
     },
     "metadata": {},
     "output_type": "display_data"
    },
    {
     "data": {
      "application/vnd.jupyter.widget-view+json": {
       "model_id": "",
       "version_major": 2,
       "version_minor": 0
      },
      "text/plain": [
       "Computing cossim by sample size:   0%|          | 0/100 [00:00<?, ?it/s]"
      ]
     },
     "metadata": {},
     "output_type": "display_data"
    },
    {
     "data": {
      "application/vnd.jupyter.widget-view+json": {
       "model_id": "",
       "version_major": 2,
       "version_minor": 0
      },
      "text/plain": [
       "Computing cossim by sample size:   0%|          | 0/100 [00:00<?, ?it/s]"
      ]
     },
     "metadata": {},
     "output_type": "display_data"
    },
    {
     "data": {
      "application/vnd.jupyter.widget-view+json": {
       "model_id": "",
       "version_major": 2,
       "version_minor": 0
      },
      "text/plain": [
       "Computing cossim by sample size:   0%|          | 0/100 [00:00<?, ?it/s]"
      ]
     },
     "metadata": {},
     "output_type": "display_data"
    },
    {
     "data": {
      "application/vnd.jupyter.widget-view+json": {
       "model_id": "",
       "version_major": 2,
       "version_minor": 0
      },
      "text/plain": [
       "Computing cossim by sample size:   0%|          | 0/100 [00:00<?, ?it/s]"
      ]
     },
     "metadata": {},
     "output_type": "display_data"
    },
    {
     "data": {
      "application/vnd.jupyter.widget-view+json": {
       "model_id": "",
       "version_major": 2,
       "version_minor": 0
      },
      "text/plain": [
       "Computing cossim by sample size:   0%|          | 0/100 [00:00<?, ?it/s]"
      ]
     },
     "metadata": {},
     "output_type": "display_data"
    },
    {
     "data": {
      "application/vnd.jupyter.widget-view+json": {
       "model_id": "",
       "version_major": 2,
       "version_minor": 0
      },
      "text/plain": [
       "Computing cossim by sample size:   0%|          | 0/100 [00:00<?, ?it/s]"
      ]
     },
     "metadata": {},
     "output_type": "display_data"
    },
    {
     "data": {
      "application/vnd.jupyter.widget-view+json": {
       "model_id": "",
       "version_major": 2,
       "version_minor": 0
      },
      "text/plain": [
       "Computing cossim by sample size:   0%|          | 0/100 [00:00<?, ?it/s]"
      ]
     },
     "metadata": {},
     "output_type": "display_data"
    },
    {
     "data": {
      "application/vnd.jupyter.widget-view+json": {
       "model_id": "",
       "version_major": 2,
       "version_minor": 0
      },
      "text/plain": [
       "Computing cossim by sample size:   0%|          | 0/100 [00:00<?, ?it/s]"
      ]
     },
     "metadata": {},
     "output_type": "display_data"
    },
    {
     "data": {
      "application/vnd.jupyter.widget-view+json": {
       "model_id": "",
       "version_major": 2,
       "version_minor": 0
      },
      "text/plain": [
       "Computing cossim by sample size:   0%|          | 0/100 [00:00<?, ?it/s]"
      ]
     },
     "metadata": {},
     "output_type": "display_data"
    },
    {
     "data": {
      "application/vnd.jupyter.widget-view+json": {
       "model_id": "",
       "version_major": 2,
       "version_minor": 0
      },
      "text/plain": [
       "Computing cossim by sample size:   0%|          | 0/100 [00:00<?, ?it/s]"
      ]
     },
     "metadata": {},
     "output_type": "display_data"
    },
    {
     "data": {
      "application/vnd.jupyter.widget-view+json": {
       "model_id": "",
       "version_major": 2,
       "version_minor": 0
      },
      "text/plain": [
       "Computing cossim by sample size:   0%|          | 0/100 [00:00<?, ?it/s]"
      ]
     },
     "metadata": {},
     "output_type": "display_data"
    },
    {
     "data": {
      "application/vnd.jupyter.widget-view+json": {
       "model_id": "",
       "version_major": 2,
       "version_minor": 0
      },
      "text/plain": [
       "Computing cossim by sample size:   0%|          | 0/100 [00:00<?, ?it/s]"
      ]
     },
     "metadata": {},
     "output_type": "display_data"
    },
    {
     "data": {
      "application/vnd.jupyter.widget-view+json": {
       "model_id": "",
       "version_major": 2,
       "version_minor": 0
      },
      "text/plain": [
       "Computing cossim by sample size:   0%|          | 0/100 [00:00<?, ?it/s]"
      ]
     },
     "metadata": {},
     "output_type": "display_data"
    },
    {
     "data": {
      "application/vnd.jupyter.widget-view+json": {
       "model_id": "",
       "version_major": 2,
       "version_minor": 0
      },
      "text/plain": [
       "Computing cossim by sample size:   0%|          | 0/100 [00:00<?, ?it/s]"
      ]
     },
     "metadata": {},
     "output_type": "display_data"
    },
    {
     "data": {
      "application/vnd.jupyter.widget-view+json": {
       "model_id": "",
       "version_major": 2,
       "version_minor": 0
      },
      "text/plain": [
       "Computing cossim by sample size:   0%|          | 0/100 [00:00<?, ?it/s]"
      ]
     },
     "metadata": {},
     "output_type": "display_data"
    },
    {
     "data": {
      "application/vnd.jupyter.widget-view+json": {
       "model_id": "",
       "version_major": 2,
       "version_minor": 0
      },
      "text/plain": [
       "Computing cossim by sample size:   0%|          | 0/100 [00:00<?, ?it/s]"
      ]
     },
     "metadata": {},
     "output_type": "display_data"
    },
    {
     "data": {
      "application/vnd.jupyter.widget-view+json": {
       "model_id": "",
       "version_major": 2,
       "version_minor": 0
      },
      "text/plain": [
       "Computing cossim by sample size:   0%|          | 0/100 [00:00<?, ?it/s]"
      ]
     },
     "metadata": {},
     "output_type": "display_data"
    },
    {
     "data": {
      "application/vnd.jupyter.widget-view+json": {
       "model_id": "",
       "version_major": 2,
       "version_minor": 0
      },
      "text/plain": [
       "Computing cossim by sample size:   0%|          | 0/100 [00:00<?, ?it/s]"
      ]
     },
     "metadata": {},
     "output_type": "display_data"
    },
    {
     "data": {
      "application/vnd.jupyter.widget-view+json": {
       "model_id": "",
       "version_major": 2,
       "version_minor": 0
      },
      "text/plain": [
       "Computing cossim by sample size:   0%|          | 0/100 [00:00<?, ?it/s]"
      ]
     },
     "metadata": {},
     "output_type": "display_data"
    },
    {
     "data": {
      "application/vnd.jupyter.widget-view+json": {
       "model_id": "",
       "version_major": 2,
       "version_minor": 0
      },
      "text/plain": [
       "Computing cossim by sample size:   0%|          | 0/100 [00:00<?, ?it/s]"
      ]
     },
     "metadata": {},
     "output_type": "display_data"
    },
    {
     "data": {
      "application/vnd.jupyter.widget-view+json": {
       "model_id": "",
       "version_major": 2,
       "version_minor": 0
      },
      "text/plain": [
       "Computing cossim by sample size:   0%|          | 0/100 [00:00<?, ?it/s]"
      ]
     },
     "metadata": {},
     "output_type": "display_data"
    },
    {
     "data": {
      "application/vnd.jupyter.widget-view+json": {
       "model_id": "",
       "version_major": 2,
       "version_minor": 0
      },
      "text/plain": [
       "Computing cossim by sample size:   0%|          | 0/100 [00:00<?, ?it/s]"
      ]
     },
     "metadata": {},
     "output_type": "display_data"
    },
    {
     "data": {
      "application/vnd.jupyter.widget-view+json": {
       "model_id": "",
       "version_major": 2,
       "version_minor": 0
      },
      "text/plain": [
       "Computing cossim by sample size:   0%|          | 0/100 [00:00<?, ?it/s]"
      ]
     },
     "metadata": {},
     "output_type": "display_data"
    },
    {
     "data": {
      "image/png": "[encoded data removed]",
      "text/plain": [
       "<Figure size 576x432 with 2 Axes>"
      ]
     },
     "metadata": {},
     "output_type": "display_data"
    }
   ],
   "source": [
    "plot_bt_quality_vs_samples()"
   ]
  },
  {
   "cell_type": "markdown",
   "id": "a22408a0-87a5-4dad-8fc8-3045250a2ad9",
   "metadata": {},
   "source": [
    "## Testing surface plot"
   ]
  },
  {
   "cell_type": "code",
   "execution_count": null,
   "id": "b77d534d-024c-4994-a535-0d8a1d9e17d1",
   "metadata": {},
   "outputs": [],
   "source": [
    "def f_delta(x: np.ndarray) -> np.ndarray:\n",
    "    return x.dot(np.array([1, 1]))\n",
    "\n",
    "\n",
    "fig = plt.figure(figsize=default_figsize(rows=2, cols=2))\n",
    "X, Y, Z = analysis.optimization_surface(\n",
    "    f_delta, direction=np.array([1, 1]), max_scaling=3.0, steps=100, rng=42\n",
    ")\n",
    "ax = plot_surface(X, Y, Z, invert_xaxis=True)\n",
    "ax.set_xlabel(\"Random direction\")\n",
    "ax.set_ylabel(\"Given direction\")\n",
    "ax.set_zlabel(\"Value\")\n",
    "plt.show()"
   ]
  }
 ],
 "metadata": {
  "kernelspec": {
   "display_name": "Python 3",
   "language": "python",
   "name": "python3"
  },
  "language_info": {
   "codemirror_mode": {
    "name": "ipython",
    "version": 3
   },
   "file_extension": ".py",
   "mimetype": "text/x-python",
   "name": "python",
   "nbconvert_exporter": "python",
   "pygments_lexer": "ipython3",
   "version": "3.8.2"
  }
 },
 "nbformat": 4,
 "nbformat_minor": 5
}
