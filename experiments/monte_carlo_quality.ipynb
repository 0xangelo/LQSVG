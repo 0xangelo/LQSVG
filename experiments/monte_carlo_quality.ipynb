{
 "cells": [
  {
   "cell_type": "markdown",
   "id": "be7ccce5-51b4-4803-9150-b61aedff8d8e",
   "metadata": {},
   "source": [
    "# Monte Carlo SVG (unbiased)\n",
    "\n",
    "In this notebook we aim to answer the following questions, asked in last week's [report](https://wandb.ai/angelovtt/LQG-SVG/reports/Apr-15-Project-Update--Vmlldzo2MTE3NzA).\n",
    "> What's the gradient error and variance incurred by approximating SVG formulations (1,2) via Monte Carlo? (using the true model, reward, and value function) \n",
    "How does it scale with the sample regime?"
   ]
  },
  {
   "cell_type": "markdown",
   "id": "39fd2d28-0d91-4043-9b93-b39f034c4e1a",
   "metadata": {},
   "source": [
    "---\n",
    "## Setup"
   ]
  },
  {
   "cell_type": "code",
   "execution_count": 1,
   "id": "74fad4b3-f0f6-43ca-8d7f-50e9f5171089",
   "metadata": {},
   "outputs": [],
   "source": [
    "from __future__ import annotations"
   ]
  },
  {
   "cell_type": "markdown",
   "id": "e1d32d25-90f8-4501-88f5-165e0f502143",
   "metadata": {},
   "source": [
    "### Environment\n",
    "\n",
    "We sample a single LQG for this experiment"
   ]
  },
  {
   "cell_type": "code",
   "execution_count": 2,
   "id": "ea303de1-f8e8-4389-b9c4-3b265cecd59a",
   "metadata": {},
   "outputs": [],
   "source": [
    "from lqsvg.envs import lqr\n",
    "from lqsvg.envs.lqr.generators import LQGGenerator\n",
    "from lqsvg.envs.lqr.modules import (\n",
    "    InitStateDynamics,\n",
    "    LinearDynamicsModule,\n",
    "    LQGModule,\n",
    "    QuadraticReward,\n",
    ")"
   ]
  },
  {
   "cell_type": "code",
   "execution_count": 3,
   "id": "1cb5954e-b6a6-430f-b33a-07de8ca04069",
   "metadata": {},
   "outputs": [],
   "source": [
    "generator = LQGGenerator(\n",
    "    n_state=2,\n",
    "    n_ctrl=2,\n",
    "    horizon=20,\n",
    "    stationary=True,\n",
    "    passive_eigval_range=(0.5, 1.5),\n",
    "    controllable=True,\n",
    "    seed=32,\n",
    ")"
   ]
  },
  {
   "cell_type": "code",
   "execution_count": 4,
   "id": "9177242a-bc1c-4423-ab12-34b8d2cbaf18",
   "metadata": {},
   "outputs": [],
   "source": [
    "def make_lqg_module() -> LQGModule:\n",
    "    dynamics, cost, init = generator()\n",
    "    return LQGModule(\n",
    "        (generator.n_state, generator.n_ctrl, generator.horizon),\n",
    "        LinearDynamicsModule(dynamics, stationary=generator.stationary),\n",
    "        QuadraticReward(cost),\n",
    "        InitStateDynamics(init),\n",
    "    )"
   ]
  },
  {
   "cell_type": "code",
   "execution_count": 5,
   "id": "f75e5e09-bbc1-4bd1-8ba9-e4bfb23507ba",
   "metadata": {},
   "outputs": [
    {
     "name": "stderr",
     "output_type": "stream",
     "text": [
      "/Users/angelolovatto/Library/Caches/pypoetry/virtualenvs/lqsvg-kEsPsxvA-py3.8/lib/python3.8/site-packages/torch/tensor.py:758: UserWarning: Named tensors and all their associated APIs are an experimental feature and subject to change. Please do not use them for anything important until they are released as stable. (Triggered internally at  ../c10/core/TensorImpl.h:934.)\n",
      "  return super(Tensor, self).refine_names(names)\n"
     ]
    }
   ],
   "source": [
    "make_lqg_module()"
   ]
  },
  {
   "cell_type": "markdown",
   "id": "fab0f3a8-cc96-478b-8f23-cbac44e544a6",
   "metadata": {},
   "source": [
    "### Policy\n",
    "\n",
    "We use a _stabilizing_ policy generated as described in \"[Generating stabilizing policies](https://wandb.ai/angelovtt/LQG-SVG/reports/Apr-9-Project-Update--Vmlldzo1OTYxNTI#generating-stabilizing-policies)\"."
   ]
  },
  {
   "cell_type": "code",
   "execution_count": 6,
   "id": "165649b3-e79f-4a2b-adce-7f6c73586d64",
   "metadata": {},
   "outputs": [],
   "source": [
    "from lqsvg.policy.modules import TVLinearPolicy"
   ]
  },
  {
   "cell_type": "code",
   "execution_count": 7,
   "id": "3ad48219-3065-4594-b39e-db5f0799d326",
   "metadata": {},
   "outputs": [],
   "source": [
    "def make_stabilizing_policy(module: LQGModule) -> TVLinearPolicy:\n",
    "    policy = TVLinearPolicy(module.n_state, module.n_ctrl, module.horizon)\n",
    "    policy.stabilize_(module.trans.standard_form())\n",
    "    return policy"
   ]
  },
  {
   "cell_type": "code",
   "execution_count": 8,
   "id": "f42de169-c162-4af4-9bf9-3d46103938f4",
   "metadata": {},
   "outputs": [],
   "source": [
    "make_stabilizing_policy(make_lqg_module())"
   ]
  },
  {
   "cell_type": "markdown",
   "id": "d8e2c3dc-c8c6-4942-bc30-b4f88462bd0d",
   "metadata": {},
   "source": [
    "---\n",
    "## Ground-truth policy gradient"
   ]
  },
  {
   "cell_type": "code",
   "execution_count": 9,
   "id": "1584f6f4-c36e-43dc-b173-23992934e519",
   "metadata": {},
   "outputs": [],
   "source": [
    "from lqsvg.experiment.estimators import AnalyticSVG"
   ]
  },
  {
   "cell_type": "code",
   "execution_count": 10,
   "id": "a4aee3ef-29f9-4991-a3a5-934fc0eca6e0",
   "metadata": {},
   "outputs": [],
   "source": [
    "def test_analytic():\n",
    "    lqg_nn = make_lqg_module()\n",
    "    policy_nn = make_stabilizing_policy(lqg_nn)\n",
    "    return AnalyticSVG(policy_nn, lqg_nn)()"
   ]
  },
  {
   "cell_type": "code",
   "execution_count": null,
   "id": "ae2a954a-6df8-4955-9756-6b9847ebcd48",
   "metadata": {},
   "outputs": [],
   "source": [
    "test_analytic()"
   ]
  },
  {
   "cell_type": "code",
   "execution_count": 11,
   "id": "6072f02e-1221-4a59-8039-13c16cbfe0af",
   "metadata": {},
   "outputs": [],
   "source": [
    "import textwrap"
   ]
  },
  {
   "cell_type": "code",
   "execution_count": 12,
   "id": "d59bd0d9-9bfa-4dcf-a6dd-b54214fc716e",
   "metadata": {},
   "outputs": [],
   "source": [
    "def print_val_svg(value, svg):\n",
    "    msg = f\"\"\"\\\n",
    "    Shape: \n",
    "    - value: {value.shape}\n",
    "    - dynamic gradient: {svg[0].shape}\n",
    "    - static gradient: {svg[1].shape}\n",
    "    Max/Min:\n",
    "    - dynamic gradient: {svg[0].max()}/{svg[0].min()}\n",
    "    - static gradient: {svg[1].max()}/{svg[1].min()}\n",
    "    StdDev:\n",
    "    - dynamic gradient: {svg[0].std()}\n",
    "    - static gradient: {svg[1].std()}\"\"\"\n",
    "    print(textwrap.dedent(msg))"
   ]
  },
  {
   "cell_type": "code",
   "execution_count": 13,
   "id": "3942785c-2a46-4b56-b1ff-ebf0f2887847",
   "metadata": {},
   "outputs": [
    {
     "name": "stdout",
     "output_type": "stream",
     "text": [
      "Shape: \n",
      "- value: torch.Size([])\n",
      "- dynamic gradient: torch.Size([20, 2, 2])\n",
      "- static gradient: torch.Size([20, 2])\n",
      "Max/Min:\n",
      "- dynamic gradient: 2.934584140777588/-0.2167457640171051\n",
      "- static gradient: 0.0/0.0\n",
      "StdDev:\n",
      "- dynamic gradient: 1.033557653427124\n",
      "- static gradient: 0.0\n"
     ]
    }
   ],
   "source": [
    "print_val_svg(*test_analytic())"
   ]
  },
  {
   "cell_type": "markdown",
   "id": "f8590b93-b277-419e-89f0-e773e28c71fe",
   "metadata": {},
   "source": [
    "---\n",
    "## Approximating (1) with samples\n",
    "\n",
    "Recall the first SVG formulation discussed in the report:\n",
    "$$\n",
    "\\nabla J(\\theta) = \\mathbb{E}_{\\mathbf{s}_0 \\sim \\rho} \\left[ \\nabla_\\theta V^{\\mu_\\theta}(\\mathbf{s}_0) \\right]. \\qquad (1)\n",
    "$$"
   ]
  },
  {
   "cell_type": "code",
   "execution_count": 14,
   "id": "95eb355e-84ff-4a0c-bcdd-16c862e2b338",
   "metadata": {},
   "outputs": [],
   "source": [
    "from lqsvg.experiment.estimators import MonteCarloSVG"
   ]
  },
  {
   "cell_type": "code",
   "execution_count": 17,
   "id": "f7822905-7899-448e-b279-bff8dfdb283e",
   "metadata": {},
   "outputs": [],
   "source": [
    "def test_mc_svg():\n",
    "    lqg_nn = make_lqg_module()\n",
    "    policy_nn = make_stabilizing_policy(lqg_nn)\n",
    "    mc_estimator = MonteCarloSVG(policy_nn, lqg_nn)\n",
    "    mc_value, mc_svg = mc_estimator(samples=10)\n",
    "    print_val_svg(mc_value, mc_svg)"
   ]
  },
  {
   "cell_type": "code",
   "execution_count": null,
   "id": "ba1ae359-420f-4e0a-ae9f-62c54ca27f0f",
   "metadata": {},
   "outputs": [],
   "source": [
    "test_mc_svg()"
   ]
  },
  {
   "cell_type": "code",
   "execution_count": 18,
   "id": "0ca0324d-2dc4-44bb-95af-debfdc5c418f",
   "metadata": {},
   "outputs": [],
   "source": [
    "import matplotlib as mpl\n",
    "import matplotlib.pyplot as plt\n",
    "import pandas as pd\n",
    "import seaborn as sns\n",
    "from tqdm.auto import tqdm, trange\n",
    "\n",
    "sns.set()"
   ]
  },
  {
   "cell_type": "code",
   "execution_count": 19,
   "id": "e915b73f-6eee-4734-9530-1d4a33cb25f5",
   "metadata": {},
   "outputs": [],
   "source": [
    "import lqsvg.experiment.analysis as analysis\n",
    "import lqsvg.experiment.utils as exp_util"
   ]
  },
  {
   "cell_type": "code",
   "execution_count": 20,
   "id": "217125be-0990-4cdc-b78f-346affa99131",
   "metadata": {},
   "outputs": [],
   "source": [
    "def grad_estimates(\n",
    "    estimator: MonteCarloSVG, sample_sizes: list[int], estimates_per_sample_size: int = 10\n",
    ") -> list[list[lqr.Linear]]:\n",
    "    svgs_by_sample_size = []\n",
    "    for size in tqdm(sample_sizes, desc=\"Computing cossim by sample size\"):\n",
    "        estimates = [\n",
    "            estimator(samples=size) for _ in range(estimates_per_sample_size)\n",
    "        ]\n",
    "        _, svgs = zip(*estimates)\n",
    "        svgs_by_sample_size += [svgs]\n",
    "    return svgs_by_sample_size"
   ]
  },
  {
   "cell_type": "code",
   "execution_count": 21,
   "id": "b86c8b36-291d-41de-8416-7017003d223f",
   "metadata": {},
   "outputs": [],
   "source": [
    "def default_figsize(rows: int = 1, cols: int = 1) -> tuple[float, float]:\n",
    "    default_width, default_height = mpl.rcParams[\"figure.figsize\"]\n",
    "    return (rows * default_height, cols * default_width)"
   ]
  },
  {
   "cell_type": "code",
   "execution_count": 22,
   "id": "65acca06-2342-4f47-a141-e83a2824ee74",
   "metadata": {},
   "outputs": [],
   "source": [
    "def plot_mc_quality_vs_samples(estimates_per_sample_size: int = 10):\n",
    "    lqg_nn = make_lqg_module()\n",
    "    policy_nn = make_stabilizing_policy(lqg_nn)\n",
    "    estimator = MonteCarloSVG(policy_nn, lqg_nn)    \n",
    "    \n",
    "    sample_sizes = [1 + 10 * i for i in range(10)]\n",
    "    svgs_by_sample_size = grad_estimates(estimator, sample_sizes, estimates_per_sample_size)\n",
    "\n",
    "    cossims = [\n",
    "        analysis.gradient_accuracy(svgs, true_svg) for svgs in svgs_by_sample_size\n",
    "    ]\n",
    "    empvars = [analysis.empirical_variance(svgs) for svgs in svgs_by_sample_size]\n",
    "\n",
    "    x = \"#Trajectories\"\n",
    "    gradient_accuracy = \"Avg. cos sim with true grad\"\n",
    "    empirical_variance = \"Avg. pairwise cos sim\"\n",
    "    data = pd.DataFrame(\n",
    "        {x: sample_sizes, gradient_accuracy: cossims, empirical_variance: empvars}\n",
    "    )\n",
    "\n",
    "    fig = plt.figure(figsize=default_figsize(2, 1))\n",
    "    ax = fig.add_subplot(2, 1, 1)\n",
    "    sns.lineplot(ax=ax, x=x, y=gradient_accuracy, data=data, ci=\"std\")\n",
    "    ax.set_xlabel(None)\n",
    "    ax = fig.add_subplot(2, 1, 2)\n",
    "    sns.lineplot(ax=ax, x=x, y=empirical_variance, data=data, ci=\"std\")\n",
    "    plt.show()"
   ]
  },
  {
   "cell_type": "code",
   "execution_count": 23,
   "id": "1f649df5-e2a7-4144-928d-29016bd7b4f2",
   "metadata": {},
   "outputs": [
    {
     "data": {
      "application/vnd.jupyter.widget-view+json": {
       "model_id": "d17a0e2836314a7b8856f41c0a069ff1",
       "version_major": 2,
       "version_minor": 0
      },
      "text/plain": [
       "Computing cossim by sample size:   0%|          | 0/10 [00:00<?, ?it/s]"
      ]
     },
     "metadata": {},
     "output_type": "display_data"
    },
    {
     "data": {
      "image/png": "[encoded data removed]",
      "text/plain": [
       "<Figure size 576x432 with 2 Axes>"
      ]
     },
     "metadata": {},
     "output_type": "display_data"
    }
   ],
   "source": [
    "plot_mc_quality_vs_samples()"
   ]
  },
  {
   "cell_type": "markdown",
   "id": "ae8e6530-1168-416e-9cbc-1aff19acceee",
   "metadata": {},
   "source": [
    "---\n",
    "## Approximating (2) with samples\n",
    "\n",
    "Recall the second SVG formulation discussed in the report:\n",
    "$$\n",
    "\\nabla J(\\theta) = \\mathbb{E}_{\\mathbf{s}\\sim d^{\\mu_\\theta}} \\left[ \\nabla_\\theta \\mu_\\theta(\\mathbf{s}) \\nabla_{\\bf a} Q^{\\mu_\\theta}(\\mathbf{s, a}) |_{\\bf a = \\mu_\\theta(s)}\\right]. \\qquad (2)\n",
    "$$"
   ]
  },
  {
   "cell_type": "code",
   "execution_count": 1,
   "id": "b9692022-fec8-4ea5-8744-97d458c8bace",
   "metadata": {},
   "outputs": [],
   "source": [
    "from lqsvg.policy.modules import QuadQValue"
   ]
  },
  {
   "cell_type": "code",
   "execution_count": null,
   "id": "b0f33dac-1840-4cfa-b35f-7dceed56142f",
   "metadata": {},
   "outputs": [],
   "source": [
    "def make_qvalue(policy: TVLinearPolicy, model: LQGModule) -> QuadQValue:\n",
    "    return QuadQValue.from_policy(\n",
    "        policy.standard_form(),\n",
    "        model.trans.standard_form(),\n",
    "        model.reward.standard_form(),\n",
    "    )"
   ]
  },
  {
   "cell_type": "code",
   "execution_count": null,
   "id": "673dc2b2-e818-4c03-89e8-9b3c95f2bfd2",
   "metadata": {},
   "outputs": [],
   "source": [
    "def starting_states(policy: TVLinearPolicy, model: LQGModule) -> Tensor:\n",
    "    rollout_module = MonteCarloSVG(policy, model)\n",
    "    with torch.no_grad():\n",
    "        obs, _, _, _, _ = rollout_module.rsample_trajectory(torch.Size([1000]))\n",
    "        \n",
    "    obs = obs.flatten([\"H\", \"B1\"], \"B\")\n",
    "    return obs"
   ]
  },
  {
   "cell_type": "code",
   "execution_count": null,
   "id": "693bcd8c-cd90-49f8-9837-7e0bffb97918",
   "metadata": {},
   "outputs": [],
   "source": [
    "from lqsvg.experiment.estimators import BootstrappedSVG"
   ]
  },
  {
   "cell_type": "code",
   "execution_count": null,
   "id": "d4620baa-ef47-4dc3-83e5-e53abe3afa5c",
   "metadata": {},
   "outputs": [],
   "source": [
    "# Implement class containing boostrapped SVG estimator and obs dataset"
   ]
  }
 ],
 "metadata": {
  "kernelspec": {
   "display_name": "Python 3",
   "language": "python",
   "name": "python3"
  },
  "language_info": {
   "codemirror_mode": {
    "name": "ipython",
    "version": 3
   },
   "file_extension": ".py",
   "mimetype": "text/x-python",
   "name": "python",
   "nbconvert_exporter": "python",
   "pygments_lexer": "ipython3",
   "version": "3.8.2"
  }
 },
 "nbformat": 4,
 "nbformat_minor": 5
}
