{
 "cells": [
  {
   "cell_type": "markdown",
   "id": "64dfe905-d3ca-424c-b8db-2c99e33d2491",
   "metadata": {},
   "source": [
    "# Biased SVG estimation"
   ]
  },
  {
   "cell_type": "code",
   "execution_count": null,
   "id": "997974f0-b5db-4d5e-a348-e1edf3e8fb7e",
   "metadata": {},
   "outputs": [],
   "source": [
    "from __future__ import annotations\n",
    "\n",
    "import textwrap\n",
    "from typing import Callable\n",
    "\n",
    "import lqsvg.torch.named as nt\n",
    "import matplotlib as mpl\n",
    "import matplotlib.pyplot as plt\n",
    "import numpy as np\n",
    "import pandas as pd\n",
    "import ray\n",
    "import seaborn as sns\n",
    "import torch\n",
    "import torch.nn as nn\n",
    "from lqsvg.envs import lqr\n",
    "from lqsvg.envs.lqr.generators import LQGGenerator\n",
    "from lqsvg.envs.lqr.modules import (\n",
    "    InitStateDynamics,\n",
    "    LinearDynamicsModule,\n",
    "    LQGModule,\n",
    "    QuadraticReward,\n",
    ")\n",
    "from lqsvg.experiment.estimators import AnalyticSVG, BootstrappedSVG, MonteCarloSVG\n",
    "from lqsvg.experiment.plot import default_figsize, plot_surface\n",
    "from lqsvg.np_util import RNG\n",
    "from lqsvg.policy.modules import TVLinearPolicy\n",
    "from tqdm.auto import tqdm, trange"
   ]
  },
  {
   "cell_type": "code",
   "execution_count": 5,
   "id": "1a98912e-b347-4095-bc99-0640fdbbc59b",
   "metadata": {},
   "outputs": [],
   "source": [
    "sns.set()\n",
    "ray.init()"
   ]
  },
  {
   "cell_type": "code",
   "execution_count": 2,
   "id": "079eb28a-6f22-46cc-82c0-94adcc2a24d6",
   "metadata": {},
   "outputs": [],
   "source": [
    "def make_generator(seed: int) -> LQGGenerator:\n",
    "    return LQGGenerator(\n",
    "        n_state=2,\n",
    "        n_ctrl=2,\n",
    "        horizon=20,\n",
    "        stationary=True,\n",
    "        passive_eigval_range=(0.5, 1.5),\n",
    "        controllable=True,\n",
    "        seed=seed,\n",
    "    )"
   ]
  },
  {
   "cell_type": "code",
   "execution_count": 3,
   "id": "5e10e2af-bd3f-4edd-b233-939dac0b06c8",
   "metadata": {},
   "outputs": [],
   "source": [
    "def make_lqg_module(generator: LQGGenerator) -> LQGModule:\n",
    "    dynamics, cost, init = generator()\n",
    "    return LQGModule.from_existing(dynamics, cost, init)"
   ]
  },
  {
   "cell_type": "code",
   "execution_count": 6,
   "id": "f63e9a6c-87bb-4da6-8867-fa4c55445bb9",
   "metadata": {},
   "outputs": [],
   "source": [
    "def make_stabilizing_policy(module: LQGModule, rng: RNG) -> TVLinearPolicy:\n",
    "    policy = TVLinearPolicy(module.n_state, module.n_ctrl, module.horizon)\n",
    "    policy.stabilize_(module.trans.standard_form(), rng=rng)\n",
    "    return policy"
   ]
  },
  {
   "cell_type": "code",
   "execution_count": 18,
   "id": "58619751-7846-4a13-a3e1-1c24dbcb2525",
   "metadata": {
    "tags": []
   },
   "outputs": [],
   "source": [
    "def grad_estimates(\n",
    "    estimator,\n",
    "    sample_sizes: list[int],\n",
    "    estimates_per_sample_size: int = 10,\n",
    "    pbar: bool = False,\n",
    ") -> list[list[lqr.Linear]]:\n",
    "    progress = tqdm(\n",
    "        sample_sizes, desc=\"Computing SVG by sample size\", leave=False, disable=not pbar\n",
    "    )\n",
    "    svgs_by_sample_size = []\n",
    "    for size in progress:\n",
    "        svgs = [estimator(samples=size)[1] for _ in range(estimates_per_sample_size)]\n",
    "        svgs_by_sample_size += [svgs]\n",
    "    return svgs_by_sample_size"
   ]
  },
  {
   "cell_type": "markdown",
   "id": "4a0b794e-79a8-40f4-9b95-94b120b62628",
   "metadata": {},
   "source": [
    "## Unbiased estimator (DPG theorem)"
   ]
  },
  {
   "cell_type": "code",
   "execution_count": 25,
   "id": "caf349b1-eb82-4ee3-888f-bf80cb1c6b9f",
   "metadata": {},
   "outputs": [],
   "source": [
    "class DPGEstimator(nn.Module):\n",
    "    def __init__(self, policy: TVLinearPolicy, model: LQGModule):\n",
    "        super().__init__()\n",
    "        self.policy = policy\n",
    "        self.model = model\n",
    "        self.qvalue = self.make_qvalue(policy, model)\n",
    "        self.estimator = BootstrappedSVG(policy, model.trans, model.reward, self.qvalue)\n",
    "        self.state_dataset = None\n",
    "        self.n_steps: int = 0\n",
    "\n",
    "    def sample_starting_obs(self, samples: int) -> Tensor:\n",
    "        idxs = torch.randint(low=0, high=self.state_dataset.size(\"B\"), size=(samples,))\n",
    "        return nt.index_select(self.state_dataset, dim=\"B\", index=idxs)\n",
    "\n",
    "    def surrogate(self, samples: int = 1) -> Tensor:\n",
    "        obs = self.sample_starting_obs(samples)\n",
    "        return self.estimator.surrogate(obs, n_steps=self.n_steps)\n",
    "\n",
    "    def forward(self, samples: int = 1) -> tuple[Tensor, lqr.Linear]:\n",
    "        obs = self.sample_starting_obs(samples)\n",
    "        return self.estimator(obs, n_steps=self.n_steps)\n",
    "\n",
    "    @staticmethod\n",
    "    def make_qvalue(policy: TVLinearPolicy, model: LQGModule) -> QuadQValue:\n",
    "        return QuadQValue.from_policy(\n",
    "            policy.standard_form(),\n",
    "            model.trans.standard_form(),\n",
    "            model.reward.standard_form(),\n",
    "        )"
   ]
  },
  {
   "cell_type": "code",
   "execution_count": 32,
   "id": "fa8a257c-5c94-4274-accc-b6ec85624e10",
   "metadata": {
    "tags": []
   },
   "outputs": [],
   "source": [
    "class EstimatorComparison:\n",
    "    def __init__(self, seed: int, total_states: int = 1000):\n",
    "        self.generator = make_generator(seed)\n",
    "        dynamics, cost, init = self.generator()\n",
    "        self.model = LQGModule.from_existing(dynamics, cost, init)\n",
    "        self.policy = TVLinearPolicy(\n",
    "            self.model.n_state, self.model.n_ctrl, self.model.horizon\n",
    "        )\n",
    "        self.policy.stabilize_(dynamics, rng=seed)\n",
    "        self.qvalue = self.make_qvalue(policy, model)\n",
    "\n",
    "        self.state_dataset = self.starting_states(self.policy, self.model, total_states)\n",
    "        self.estimator = DPGEstimator(self.policy, self.model)\n",
    "        self.estimator.setup(total_states)\n",
    "\n",
    "        self.estimator = BootstrappedSVG(policy, model.trans, model.reward, self.qvalue)\n",
    "        self.state_dataset = None\n",
    "        self.n_steps: int = 0\n",
    "\n",
    "    def setup(self, total_states: int = 1000):\n",
    "\n",
    "    @staticmethod\n",
    "    @torch.no_grad()\n",
    "    def starting_states(policy: TVLinearPolicy, model: LQGModule, num: int) -> Tensor:\n",
    "        rollout_module = MonteCarloSVG(policy, model)\n",
    "        n_trajs = num // model.horizon\n",
    "        obs, _, _, _, _ = rollout_module.rsample_trajectory(torch.Size([n_trajs]))\n",
    "        obs = obs.flatten([\"H\", \"B1\"], \"B\")\n",
    "        return obs\n",
    "    \n",
    "    def plot_optim_surface(self, samples: int, n_step: int):\n",
    "        self.estimator.n_steps = n_step\n",
    "        _, svg = self.estimator(samples)\n",
    "        direction = tutil.tensors_to_vector(svg).numpy()\n",
    "\n",
    "        plt.figure(figsize=default_figsize(2, 2))\n",
    "        X, Y, Z = analysis.optimization_surface(\n",
    "            self.delta_to_return(),\n",
    "            direction=direction,\n",
    "            max_scaling=3.0,\n",
    "            steps=20,\n",
    "            rng=self.generator._rng,\n",
    "        )\n",
    "        ax = plot_surface(X, Y, Z, invert_xaxis=True)\n",
    "        ax.set_xlabel(\"Random direction\")\n",
    "        ax.set_ylabel(\"SVG direction\")\n",
    "        ax.set_zlabel(\"Policy return\")\n",
    "        plt.show()\n",
    "\n",
    "    def delta_to_return(self) -> Callable[[np.ndarray], np.ndarray]:\n",
    "        policy = self.policy.standard_form()\n",
    "        dynamics, cost, init = self.model.standard_form()\n",
    "        return analysis.delta_to_return(policy, dynamics, cost, init)"
   ]
  },
  {
   "cell_type": "markdown",
   "id": "e5a68b08-15dd-4509-8380-b6b3f608d50e",
   "metadata": {},
   "source": [
    "## Biased estimator (MAAC)"
   ]
  }
 ],
 "metadata": {
  "kernelspec": {
   "display_name": "Python 3",
   "language": "python",
   "name": "python3"
  },
  "language_info": {
   "codemirror_mode": {
    "name": "ipython",
    "version": 3
   },
   "file_extension": ".py",
   "mimetype": "text/x-python",
   "name": "python",
   "nbconvert_exporter": "python",
   "pygments_lexer": "ipython3",
   "version": "3.8.2"
  }
 },
 "nbformat": 4,
 "nbformat_minor": 5
}
